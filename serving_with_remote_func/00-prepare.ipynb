{
 "cells": [
  {
   "cell_type": "code",
   "execution_count": null,
   "metadata": {},
   "outputs": [],
   "source": [
    "!pip install plotly\n",
    "!pip install lightgbm"
   ]
  },
  {
   "cell_type": "code",
   "execution_count": null,
   "metadata": {},
   "outputs": [],
   "source": [
    "import mlrun\n",
    "# get/create a project and register the data prep and trainer function in it\n",
    "project = mlrun.get_or_create_project(\n",
    "    name=\"test-serv-with-remote\", user_project=False, context=\"./\"\n",
    ")\n"
   ]
  },
  {
   "cell_type": "code",
   "execution_count": null,
   "metadata": {},
   "outputs": [],
   "source": [
    "func = project.set_function(name='data-prep', func='src/data_prep.py', image='mlrun/mlrun',\n",
    "                     handler='data_preparation', kind=\"job\", requirements=[\"lightgbm\"])\n",
    "func.deploy()\n",
    "func = project.set_function(name='trainer_lgbm', func='src/trainer_lgbm.py', image='mlrun/mlrun',\n",
    "                     handler='train', kind=\"job\", requirements=[\"lightgbm\"])\n",
    "func.deploy()\n",
    "project.save()"
   ]
  },
  {
   "cell_type": "markdown",
   "metadata": {},
   "source": [
    "<a id=\"prepare-data\"></a>\n",
    "## Prepare your data for training and testing"
   ]
  },
  {
   "cell_type": "markdown",
   "metadata": {},
   "source": [
    "**Run the data prepartion function (locally) using the dataset from 'data/dataset.csv':**"
   ]
  },
  {
   "cell_type": "code",
   "execution_count": null,
   "metadata": {},
   "outputs": [],
   "source": [
    "# execute the function through MLRun SDK (can run locally or over the k8s cluster)\n",
    "data_prep = project.run_function(\"data-prep\", inputs={\"dataset\": \"https://s3.us-east-1.wasabisys.com/iguazio/data/nyc-taxi/train.csv\"})\n",
    "\n",
    "# # get the returned data artifact\n",
    "# train_dataset = data_prep.artifact(\"train_dataset\").as_df()\n",
    "# train_dataset.head()"
   ]
  },
  {
   "cell_type": "code",
   "execution_count": null,
   "metadata": {},
   "outputs": [],
   "source": [
    "inputs_for_trainer = data_prep.outputs[\"train_dataset\"]"
   ]
  },
  {
   "cell_type": "markdown",
   "metadata": {},
   "source": [
    "<a id=\"train-function\"></a>\n",
    "## Run the training function and log the artifacts and model\n"
   ]
  },
  {
   "cell_type": "code",
   "execution_count": null,
   "metadata": {},
   "outputs": [],
   "source": [
    "# execute the function through MLRun SDK (can run locally or over the k8s cluster)\n",
    "train = project.run_function(\"trainer_lgbm\",\n",
    "                             inputs={\"train_set\": inputs_for_trainer})\n",
    "\n",
    "# print the results of the training run\n",
    "# train.outputs"
   ]
  },
  {
   "cell_type": "code",
   "execution_count": null,
   "metadata": {},
   "outputs": [],
   "source": [
    "# get the returned data artifact\n",
    "train.artifact('feature-importance').show()"
   ]
  }
 ],
 "metadata": {
  "kernelspec": {
   "display_name": "mlrun-base",
   "language": "python",
   "name": "conda-env-mlrun-base-py"
  },
  "language_info": {
   "codemirror_mode": {
    "name": "ipython",
    "version": 3
   },
   "file_extension": ".py",
   "mimetype": "text/x-python",
   "name": "python",
   "nbconvert_exporter": "python",
   "pygments_lexer": "ipython3",
   "version": "3.9.16"
  }
 },
 "nbformat": 4,
 "nbformat_minor": 4
}
