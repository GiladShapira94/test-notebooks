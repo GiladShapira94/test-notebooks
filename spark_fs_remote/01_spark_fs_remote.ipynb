{
 "cells": [
  {
   "cell_type": "markdown",
   "id": "c80a0c7d",
   "metadata": {},
   "source": [
    "# Feature-store ingestion using spark engine\n",
    "Please make sure required env variables are set - `AWS_ACCESS_KEY_ID`, `AWS_SECRET_ACCESS_KEY` and `GOOGLE_APPLICATION_CREDENTIALS`"
   ]
  },
  {
   "cell_type": "markdown",
   "id": "418c0958",
   "metadata": {},
   "source": [
    "### Pypsark dataframe source & V3IO KV target"
   ]
  },
  {
   "cell_type": "code",
   "execution_count": null,
   "id": "15e73380",
   "metadata": {},
   "outputs": [],
   "source": [
    "import os\n",
    "import mlrun\n",
    "import mlrun.feature_store as fs\n",
    "import pandas as pd\n",
    "from pyspark.sql.functions import *\n",
    "from pyspark.sql.types import *\n",
    "\n",
    "# Initialize the MLRun project object\n",
    "project = mlrun.load_project('./')\n",
    "\n",
    "# Required credentials :\n",
    "# AWS_ACCESS_KEY_ID, AWS_SECRET_ACCESS_KEY, GOOGLE_APPLICATION_CREDENTIALS as jupyter env vars and project secrets (k8s provider)."
   ]
  },
  {
   "cell_type": "code",
   "execution_count": 2,
   "id": "7e311a78",
   "metadata": {},
   "outputs": [],
   "source": [
    "# Fetch the transactions dataset from the server\n",
    "if not os.path.exists('data.csv'):\n",
    "    dataset_path = 'https://s3.wasabisys.com/iguazio/data/fraud-demo-mlrun-fs-docs/data.csv'\n",
    "    transactions_data = pd.read_csv(dataset_path, parse_dates=['timestamp']).sort_values(by='source', axis=0)[:500]\n",
    "    transactions_data.to_csv('data.csv',index=None)\n",
    "else:\n",
    "    transactions_data = pd.read_csv('data.csv')"
   ]
  },
  {
   "cell_type": "code",
   "execution_count": 3,
   "id": "52677669",
   "metadata": {},
   "outputs": [],
   "source": [
    "# Creating feature-set\n",
    "transaction_set = fs.FeatureSet('transactions',\n",
    "                                entities=[fs.Entity('source')], \n",
    "                                timestamp_key = 'timestamp', \n",
    "                                engine='spark',\n",
    "                                description=\"transactions feature set\")\n",
    "\n",
    "# setting default targets\n",
    "transaction_set.set_targets(targets=['nosql'], with_defaults=False)"
   ]
  },
  {
   "cell_type": "code",
   "execution_count": null,
   "id": "e3d667eb",
   "metadata": {},
   "outputs": [],
   "source": [
    "from pyspark.sql import SparkSession\n",
    "\n",
    "# Creating spark dataframe to ingest\n",
    "spark = SparkSession.builder \\\n",
    "                    .master(\"local[1]\") \\\n",
    "                    .appName(\"SparkByExamples.com\") \\\n",
    "                    .getOrCreate()\n",
    "        \n",
    "spark_dataframe = spark.createDataFrame(transactions_data)\n",
    "\n",
    "# Ingesting\n",
    "fs.ingest(transaction_set, spark_dataframe, overwrite=True)"
   ]
  },
  {
   "cell_type": "markdown",
   "id": "5dd241bd",
   "metadata": {},
   "source": [
    "### S3 CSV source & target"
   ]
  },
  {
   "cell_type": "code",
   "execution_count": 5,
   "id": "9e4df5f3",
   "metadata": {},
   "outputs": [],
   "source": [
    "from mlrun.datastore.sources import CSVSource\n",
    "from mlrun.datastore import CSVTarget\n",
    "\n",
    "user_events_set = fs.FeatureSet(\"events\",\n",
    "                                entities=[fs.Entity(\"source\")],\n",
    "                                timestamp_key='timestamp', \n",
    "                                description=\"user events feature set\",\n",
    "                                engine='spark')\n",
    "\n",
    "s3_filepath = os.path.join(project.artifact_path, 'transactions_cut.csv')\n",
    "s3_target = project.artifact_path\n",
    "\n",
    "user_events_source_s3 = CSVSource(\"user_events\", path=s3_filepath)\n",
    "user_events_target_s3 = CSVTarget(\"user_events\", path=s3_target)\n",
    "\n",
    "user_events_set.set_targets(targets = [user_events_target_s3], with_defaults=False)"
   ]
  },
  {
   "cell_type": "code",
   "execution_count": null,
   "id": "361c9745",
   "metadata": {},
   "outputs": [],
   "source": [
    "ingestion_df = fs.ingest(featureset=user_events_set, source=user_events_source_s3, overwrite=True)"
   ]
  },
  {
   "cell_type": "markdown",
   "id": "0896c9d4",
   "metadata": {},
   "source": [
    "### GCS dataframe source & V3IO KV target"
   ]
  },
  {
   "cell_type": "code",
   "execution_count": 7,
   "id": "882f746f",
   "metadata": {},
   "outputs": [],
   "source": [
    "from mlrun.datastore.sources import CSVSource\n",
    "from mlrun.datastore import CSVTarget\n",
    "\n",
    "user_events_set = fs.FeatureSet(\"events2\",\n",
    "                                entities=[fs.Entity(\"source\")],\n",
    "                                timestamp_key='timestamp', \n",
    "                                description=\"user events feature set\",\n",
    "                                engine='spark')\n",
    "\n",
    "gs_filepath = os.path.join('gs' + project.artifact_path[2:], 'transactions_cut.csv')\n",
    "gs_target = 'gs' + project.artifact_path[2:]\n",
    "\n",
    "user_events_source_gs = CSVSource(\"user_events\", path=gs_filepath)\n",
    "user_events_target_gs = CSVTarget(\"user_events\", path=gs_target)\n",
    "\n",
    "user_events_set.set_targets(targets = [user_events_target_gs], with_defaults=False)"
   ]
  },
  {
   "cell_type": "code",
   "execution_count": 8,
   "id": "0169ed13",
   "metadata": {},
   "outputs": [],
   "source": [
    "# ingestion_df = fs.ingest(featureset=user_events_set, source=user_events_source_gs, overwrite=True)"
   ]
  },
  {
   "cell_type": "markdown",
   "id": "654cfd63",
   "metadata": {},
   "source": [
    "# Ingesting Remotely (spark operator)"
   ]
  },
  {
   "cell_type": "code",
   "execution_count": 9,
   "id": "cbfc4c99",
   "metadata": {},
   "outputs": [],
   "source": [
    "# For Spark operator\n",
    "from mlrun.runtimes import Spark3Runtime\n",
    "Spark3Runtime.deploy_default_image()"
   ]
  },
  {
   "cell_type": "code",
   "execution_count": 10,
   "id": "5d1e1d00",
   "metadata": {},
   "outputs": [],
   "source": [
    "#mlrun: start-code\n",
    "\n",
    "from pyspark import SparkConf\n",
    "from pyspark.sql import SparkSession\n",
    "import json\n",
    "\n",
    "\n",
    "from mlrun.feature_store.api import ingest\n",
    "def ingest_handler(context):\n",
    "    gcs_auth = json.loads(open(context.get_secret('GOOGLE_APPLICATION_CREDENTIALS'), 'rb').read())\n",
    "    conf = (SparkConf()\n",
    "            .set(\"spark.hadoop.fs.s3a.path.style.access\", True)\n",
    "            .set(\"spark.hadoop.fs.s3a.access.key\", context.get_secret('AWS_ACCESS_KEY_ID'))\n",
    "            .set(\"spark.hadoop.fs.s3a.secret.key\", context.get_secret('AWS_SECRET_ACCESS_KEY'))\n",
    "            .set(\"spark.hadoop.fs.s3a.impl\", \"org.apache.hadoop.fs.s3a.S3AFileSystem\")\n",
    "            .set(\"com.amazonaws.services.s3.enableV4\", True)\n",
    "#             .set(\"spark.driver.extraJavaOptions\", \"-Dcom.amazonaws.services.s3.enableV4=true\")\n",
    "#             .set('spark.hadoop.fs.gs.impl', 'com.google.cloud.hadoop.fs.gcs.GoogleHadoopFileSystem')\n",
    "#             .set('spark.hadoop.fs.gs.auth.service.account.enable', 'true')\n",
    "#             .set('spark.hadoop.google.cloud.auth.service.account.json.keyfile', context.get_secret('GOOGLE_APPLICATION_CREDENTIALS'))\n",
    "           )\n",
    "    spark = (\n",
    "        SparkSession.builder.config(conf=conf).appName(\"S3 app\").getOrCreate()\n",
    "    )\n",
    "    \n",
    "    ingest(mlrun_context=context, spark_context=spark)\n",
    "    \n",
    "#mlrun: end-code"
   ]
  },
  {
   "cell_type": "code",
   "execution_count": 11,
   "id": "ea938b2d",
   "metadata": {},
   "outputs": [],
   "source": [
    "fn = mlrun.code_to_function(name='remote_spark_fs', kind='spark', image='.spark-job-default-image')\n",
    "\n",
    "# set spark driver config (gpu_type & gpus=<number_of_gpus>  supported too)\n",
    "fn.with_driver_limits(cpu=\"1300m\")\n",
    "fn.with_driver_requests(cpu=1, mem=\"512m\") \n",
    "\n",
    "# set spark executor config (gpu_type & gpus=<number_of_gpus> are supported too)\n",
    "fn.with_executor_limits(cpu=\"1400m\")\n",
    "fn.with_executor_requests(cpu=1, mem=\"512m\")\n",
    "fn.with_igz_spark()\n",
    "\n",
    "config = fs.RunConfig(function=fn ,local=False, handler=\"ingest_handler\")"
   ]
  },
  {
   "cell_type": "markdown",
   "id": "d20b5991",
   "metadata": {},
   "source": [
    "### S3"
   ]
  },
  {
   "cell_type": "code",
   "execution_count": null,
   "id": "e2527dcb",
   "metadata": {},
   "outputs": [],
   "source": [
    "user_events_set = fs.FeatureSet(\"events3\",\n",
    "                                entities=[fs.Entity(\"source\")],\n",
    "                                timestamp_key='timestamp', \n",
    "                                description=\"user events feature set\",\n",
    "                                engine='spark')\n",
    "\n",
    "user_events_set.set_targets(targets = [user_events_target_s3], with_defaults=False)\n",
    "\n",
    "ingestion_df = fs.ingest(featureset=user_events_set,\n",
    "                         source=user_events_source_s3,\n",
    "                         overwrite=True,\n",
    "                         run_config=config)"
   ]
  },
  {
   "cell_type": "markdown",
   "id": "f49336e0",
   "metadata": {},
   "source": [
    "### GCS"
   ]
  },
  {
   "cell_type": "code",
   "execution_count": 13,
   "id": "f1fdbd0c",
   "metadata": {},
   "outputs": [],
   "source": [
    "user_events_set = fs.FeatureSet(\"events4\",\n",
    "                                entities=[fs.Entity(\"source\")],\n",
    "                                timestamp_key='timestamp', \n",
    "                                description=\"user events feature set\",\n",
    "                                engine='spark')\n",
    "\n",
    "user_events_set.set_targets(targets = [user_events_target_gs], with_defaults=False)\n",
    "\n",
    "# ingestion_df = fs.ingest(featureset=user_events_set,\n",
    "#                          source=user_events_source_gs,\n",
    "#                          overwrite=True,\n",
    "#                          run_config=config)"
   ]
  }
 ],
 "metadata": {
  "kernelspec": {
   "display_name": "Python 3",
   "language": "python",
   "name": "python3"
  },
  "language_info": {
   "codemirror_mode": {
    "name": "ipython",
    "version": 3
   },
   "file_extension": ".py",
   "mimetype": "text/x-python",
   "name": "python",
   "nbconvert_exporter": "python",
   "pygments_lexer": "ipython3",
   "version": "3.7.6"
  }
 },
 "nbformat": 4,
 "nbformat_minor": 5
}
