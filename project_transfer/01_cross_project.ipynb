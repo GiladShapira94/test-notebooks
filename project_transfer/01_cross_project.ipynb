{
 "cells": [
  {
   "cell_type": "markdown",
   "id": "0e648c9b",
   "metadata": {},
   "source": [
    "# Testing cross project artifacts"
   ]
  },
  {
   "cell_type": "code",
   "execution_count": 1,
   "id": "b5b2c557",
   "metadata": {},
   "outputs": [
    {
     "name": "stdout",
     "output_type": "stream",
     "text": [
      "Requirement already up-to-date: xgboost in /User/.pythonlibs/jupyter/lib/python3.7/site-packages (1.6.2)\n",
      "Requirement already satisfied, skipping upgrade: scipy in /conda/lib/python3.7/site-packages (from xgboost) (1.4.1)\n",
      "Requirement already satisfied, skipping upgrade: numpy in /conda/lib/python3.7/site-packages (from xgboost) (1.19.2)\n"
     ]
    }
   ],
   "source": [
    "!pip install -U xgboost"
   ]
  },
  {
   "cell_type": "markdown",
   "id": "0c0cf1ee",
   "metadata": {},
   "source": [
    "## 1. artifact generating function "
   ]
  },
  {
   "cell_type": "code",
   "execution_count": 2,
   "id": "6d2b0e20",
   "metadata": {},
   "outputs": [],
   "source": [
    "#mlrun: start-code\n",
    "\n",
    "import mlrun\n",
    "import pandas as pd \n",
    "import json\n",
    "import os\n",
    "from xgboost import XGBClassifier\n",
    "import pickle\n",
    "from mlrun.artifacts.base import DirArtifact\n",
    "from mlrun import MLClientCtx\n",
    "from sklearn.datasets import load_iris\n",
    "from io import BytesIO\n",
    "from sklearn.model_selection import train_test_split\n",
    "\n",
    "def get_dataitem(context: MLClientCtx,\n",
    "                             key: str):\n",
    "    \n",
    "    for artifact in context.artifacts:\n",
    "        if artifact['kind'] == 'model' and artifact['metadata'].get('key',None) == key:\n",
    "            return mlrun.get_dataitem(artifact['spec']['target_path'] + artifact['spec']['model_file'])\n",
    "        elif artifact['kind'] == 'dataset' and artifact['metadata'].get('key',None) == key:\n",
    "            return mlrun.get_dataitem(artifact['spec']['target_path'])\n",
    "        elif artifact['metadata'].get('key',None) == key:\n",
    "            return mlrun.get_dataitem(artifact['spec']['target_path'])\n",
    "    context.logger.info('Artifact not found')\n",
    "    \n",
    "def log_transactions(context: MLClientCtx,\n",
    "                    ):\n",
    "        \n",
    "    # uploading new artifact \n",
    "    df_encode = pd.DataFrame(load_iris()['data']).to_json().encode()\n",
    "    context.log_artifact('encoded_iris-'+context.artifact_path[:2], body=df_encode, local_path='encoded_iris-'+context.artifact_path[:2]+'.csv')\n",
    "    # reading artifact\n",
    "    trans_df = pd.DataFrame(json.loads(get_dataitem(context, 'encoded_iris-'+context.artifact_path[:2]).get()))\n",
    "    context.logger.info(f'dataframe shape : {trans_df.shape}')\n",
    "    \n",
    "    # training the model (for serving purposes )\n",
    "    bst = XGBClassifier(n_estimators=2, max_depth=2, learning_rate=1, objective='binary:logistic')\n",
    "    X,y = load_iris(return_X_y=True)\n",
    "    X_train, x_test, y_train, y_test = train_test_split(X, y, train_size=0.8, test_size=0.2, random_state=0)\n",
    "    bst.fit(X_train, y_train)\n",
    "    # logging a model\n",
    "    context.log_model('bst_model', body=pickle.dumps(bst), model_file='bst.pkl')\n",
    "    # getting the model remote\n",
    "    model = pickle.loads(get_dataitem(context, 'bst_model').get())\n",
    "    context.logger.info(f'logged model : {model.__class__}')\n",
    "    \n",
    "    # Logging directory\n",
    "    context.log_artifact(DirArtifact(key='my_project', target_path=context.artifact_path))\n",
    "    \n",
    "    # Logging dataset \n",
    "    context.log_dataset(key = 'iris_dataset-'+context.artifact_path[:2],\n",
    "                        df = pd.DataFrame(json.loads(get_dataitem(context, 'encoded_iris-'+context.artifact_path[:2]).get())),\n",
    "                        local_path='iris_dataset-'+context.artifact_path[:2]+'.csv')\n",
    "    # Getting dataset\n",
    "    context.logger.info(f'logged dataset {get_dataitem(context, \"iris_dataset-\" + context.artifact_path[:2]).as_df().shape}')\n",
    "    \n",
    "    return\n",
    "            \n",
    "#mlrun: end-code"
   ]
  },
  {
   "cell_type": "markdown",
   "id": "ea140020",
   "metadata": {},
   "source": [
    "## 2. Creating projects, setting & running artifact generating function"
   ]
  },
  {
   "cell_type": "code",
   "execution_count": 3,
   "id": "9ae359bb",
   "metadata": {},
   "outputs": [
    {
     "name": "stdout",
     "output_type": "stream",
     "text": [
      "> 2023-01-11 12:59:12,470 [info] Created and saved project cross-project1-admin: {'from_template': None, 'overwrite': False, 'context': '/User/test-notebooks/project_transfer/test-notebooks1', 'save': True}\n",
      "> 2023-01-11 12:59:12,471 [info] created project cross-project1 and saved in MLRun DB\n",
      "> 2023-01-11 12:59:29,820 [info] starting run log-transactions-log_transactions uid=04f3db71541a45faab5fb4ef98896deb DB=http://mlrun-api:8080\n",
      "> 2023-01-11 12:59:30,002 [info] Job is running in the background, pod: log-transactions-log-transactions-62lzt\n",
      "> 2023-01-11 12:59:35,254 [info] dataframe shape : (150, 4)\n",
      "> 2023-01-11 12:59:35,331 [info] logged model : <class 'xgboost.sklearn.XGBClassifier'>\n",
      "> 2023-01-11 12:59:35,468 [info] logged dataset (150, 5)\n",
      "> 2023-01-11 12:59:35,515 [info] To track results use the CLI: {'info_cmd': 'mlrun get run 04f3db71541a45faab5fb4ef98896deb -p cross-project1-admin', 'logs_cmd': 'mlrun logs 04f3db71541a45faab5fb4ef98896deb -p cross-project1-admin'}\n",
      "> 2023-01-11 12:59:35,515 [info] Or click for UI: {'ui_url': 'https://dashboard.default-tenant.app.vmdev94.lab.iguazeng.com/mlprojects/cross-project1-admin/jobs/monitor/04f3db71541a45faab5fb4ef98896deb/overview'}\n",
      "> 2023-01-11 12:59:35,516 [info] run executed, status=completed\n",
      "final state: completed\n"
     ]
    },
    {
     "data": {
      "text/html": [
       "<style>\n",
       ".dictlist {\n",
       "  background-color: #4EC64B;\n",
       "  text-align: center;\n",
       "  margin: 4px;\n",
       "  border-radius: 3px; padding: 0px 3px 1px 3px; display: inline-block;}\n",
       ".artifact {\n",
       "  cursor: pointer;\n",
       "  background-color: #4EC64B;\n",
       "  text-align: left;\n",
       "  margin: 4px; border-radius: 3px; padding: 0px 3px 1px 3px; display: inline-block;\n",
       "}\n",
       "div.block.hidden {\n",
       "  display: none;\n",
       "}\n",
       ".clickable {\n",
       "  cursor: pointer;\n",
       "}\n",
       ".ellipsis {\n",
       "  display: inline-block;\n",
       "  max-width: 60px;\n",
       "  white-space: nowrap;\n",
       "  overflow: hidden;\n",
       "  text-overflow: ellipsis;\n",
       "}\n",
       ".master-wrapper {\n",
       "  display: flex;\n",
       "  flex-flow: row nowrap;\n",
       "  justify-content: flex-start;\n",
       "  align-items: stretch;\n",
       "}\n",
       ".master-tbl {\n",
       "  flex: 3\n",
       "}\n",
       ".master-wrapper > div {\n",
       "  margin: 4px;\n",
       "  padding: 10px;\n",
       "}\n",
       "iframe.fileview {\n",
       "  border: 0 none;\n",
       "  height: 100%;\n",
       "  width: 100%;\n",
       "  white-space: pre-wrap;\n",
       "}\n",
       ".pane-header-title {\n",
       "  width: 80%;\n",
       "  font-weight: 500;\n",
       "}\n",
       ".pane-header {\n",
       "  line-height: 1;\n",
       "  background-color: #4EC64B;\n",
       "  padding: 3px;\n",
       "}\n",
       ".pane-header .close {\n",
       "  font-size: 20px;\n",
       "  font-weight: 700;\n",
       "  float: right;\n",
       "  margin-top: -5px;\n",
       "}\n",
       ".master-wrapper .right-pane {\n",
       "  border: 1px inset silver;\n",
       "  width: 40%;\n",
       "  min-height: 300px;\n",
       "  flex: 3\n",
       "  min-width: 500px;\n",
       "}\n",
       ".master-wrapper * {\n",
       "  box-sizing: border-box;\n",
       "}\n",
       "</style><script>\n",
       "function copyToClipboard(fld) {\n",
       "    if (document.queryCommandSupported && document.queryCommandSupported('copy')) {\n",
       "        var textarea = document.createElement('textarea');\n",
       "        textarea.textContent = fld.innerHTML;\n",
       "        textarea.style.position = 'fixed';\n",
       "        document.body.appendChild(textarea);\n",
       "        textarea.select();\n",
       "\n",
       "        try {\n",
       "            return document.execCommand('copy'); // Security exception may be thrown by some browsers.\n",
       "        } catch (ex) {\n",
       "\n",
       "        } finally {\n",
       "            document.body.removeChild(textarea);\n",
       "        }\n",
       "    }\n",
       "}\n",
       "function expandPanel(el) {\n",
       "  const panelName = \"#\" + el.getAttribute('paneName');\n",
       "  console.log(el.title);\n",
       "\n",
       "  document.querySelector(panelName + \"-title\").innerHTML = el.title\n",
       "  iframe = document.querySelector(panelName + \"-body\");\n",
       "\n",
       "  const tblcss = `<style> body { font-family: Arial, Helvetica, sans-serif;}\n",
       "    #csv { margin-bottom: 15px; }\n",
       "    #csv table { border-collapse: collapse;}\n",
       "    #csv table td { padding: 4px 8px; border: 1px solid silver;} </style>`;\n",
       "\n",
       "  function csvToHtmlTable(str) {\n",
       "    return '<div id=\"csv\"><table><tr><td>' +  str.replace(/[\\n\\r]+$/g, '').replace(/[\\n\\r]+/g, '</td></tr><tr><td>')\n",
       "      .replace(/,/g, '</td><td>') + '</td></tr></table></div>';\n",
       "  }\n",
       "\n",
       "  function reqListener () {\n",
       "    if (el.title.endsWith(\".csv\")) {\n",
       "      iframe.setAttribute(\"srcdoc\", tblcss + csvToHtmlTable(this.responseText));\n",
       "    } else {\n",
       "      iframe.setAttribute(\"srcdoc\", this.responseText);\n",
       "    }\n",
       "    console.log(this.responseText);\n",
       "  }\n",
       "\n",
       "  const oReq = new XMLHttpRequest();\n",
       "  oReq.addEventListener(\"load\", reqListener);\n",
       "  oReq.open(\"GET\", el.title);\n",
       "  oReq.send();\n",
       "\n",
       "\n",
       "  //iframe.src = el.title;\n",
       "  const resultPane = document.querySelector(panelName + \"-pane\");\n",
       "  if (resultPane.classList.contains(\"hidden\")) {\n",
       "    resultPane.classList.remove(\"hidden\");\n",
       "  }\n",
       "}\n",
       "function closePanel(el) {\n",
       "  const panelName = \"#\" + el.getAttribute('paneName')\n",
       "  const resultPane = document.querySelector(panelName + \"-pane\");\n",
       "  if (!resultPane.classList.contains(\"hidden\")) {\n",
       "    resultPane.classList.add(\"hidden\");\n",
       "  }\n",
       "}\n",
       "\n",
       "</script>\n",
       "<div class=\"master-wrapper\">\n",
       "  <div class=\"block master-tbl\"><div>\n",
       "<style scoped>\n",
       "    .dataframe tbody tr th:only-of-type {\n",
       "        vertical-align: middle;\n",
       "    }\n",
       "\n",
       "    .dataframe tbody tr th {\n",
       "        vertical-align: top;\n",
       "    }\n",
       "\n",
       "    .dataframe thead th {\n",
       "        text-align: right;\n",
       "    }\n",
       "</style>\n",
       "<table border=\"1\" class=\"dataframe\">\n",
       "  <thead>\n",
       "    <tr style=\"text-align: right;\">\n",
       "      <th>project</th>\n",
       "      <th>uid</th>\n",
       "      <th>iter</th>\n",
       "      <th>start</th>\n",
       "      <th>state</th>\n",
       "      <th>name</th>\n",
       "      <th>labels</th>\n",
       "      <th>inputs</th>\n",
       "      <th>parameters</th>\n",
       "      <th>results</th>\n",
       "      <th>artifacts</th>\n",
       "    </tr>\n",
       "  </thead>\n",
       "  <tbody>\n",
       "    <tr>\n",
       "      <td>cross-project1-admin</td>\n",
       "      <td><div title=\"04f3db71541a45faab5fb4ef98896deb\"><a href=\"https://dashboard.default-tenant.app.vmdev94.lab.iguazeng.com/mlprojects/cross-project1-admin/jobs/monitor/04f3db71541a45faab5fb4ef98896deb/overview\" target=\"_blank\" >...98896deb</a></div></td>\n",
       "      <td>0</td>\n",
       "      <td>Jan 11 12:59:34</td>\n",
       "      <td>completed</td>\n",
       "      <td>log-transactions-log_transactions</td>\n",
       "      <td><div class=\"dictlist\">v3io_user=admin</div><div class=\"dictlist\">kind=job</div><div class=\"dictlist\">owner=admin</div><div class=\"dictlist\">mlrun/client_version=1.3.0-rc4</div><div class=\"dictlist\">host=log-transactions-log-transactions-62lzt</div></td>\n",
       "      <td></td>\n",
       "      <td></td>\n",
       "      <td></td>\n",
       "      <td><div class=\"artifact\" onclick=\"expandPanel(this)\" paneName=\"result768a7de7\" title=\"files/v3io/projects/cross-project1-admin/artifacts/log-transactions-log_transactions/0/encoded_iris-v3.csv\">encoded_iris-v3</div><div title=\"v3io:///projects/cross-project1-admin/artifacts/log-transactions-log_transactions/0/bst_model/\">bst_model</div><div title=\"v3io:///projects/cross-project1-admin/artifacts/\">my_project</div><div class=\"artifact\" onclick=\"expandPanel(this)\" paneName=\"result768a7de7\" title=\"files/v3io/projects/cross-project1-admin/artifacts/log-transactions-log_transactions/0/iris_dataset-v3.csv\">iris_dataset-v3</div></td>\n",
       "    </tr>\n",
       "  </tbody>\n",
       "</table>\n",
       "</div></div>\n",
       "  <div id=\"result768a7de7-pane\" class=\"right-pane block hidden\">\n",
       "    <div class=\"pane-header\">\n",
       "      <span id=\"result768a7de7-title\" class=\"pane-header-title\">Title</span>\n",
       "      <span onclick=\"closePanel(this)\" paneName=\"result768a7de7\" class=\"close clickable\">&times;</span>\n",
       "    </div>\n",
       "    <iframe class=\"fileview\" id=\"result768a7de7-body\"></iframe>\n",
       "  </div>\n",
       "</div>\n"
      ],
      "text/plain": [
       "<IPython.core.display.HTML object>"
      ]
     },
     "metadata": {},
     "output_type": "display_data"
    },
    {
     "name": "stdout",
     "output_type": "stream",
     "text": [
      "\n"
     ]
    },
    {
     "data": {
      "text/html": [
       "<b> > to track results use the .show() or .logs() methods  or <a href=\"https://dashboard.default-tenant.app.vmdev94.lab.iguazeng.com/mlprojects/cross-project1-admin/jobs/monitor/04f3db71541a45faab5fb4ef98896deb/overview\" target=\"_blank\">click here</a> to open in UI</b>"
      ],
      "text/plain": [
       "<IPython.core.display.HTML object>"
      ]
     },
     "metadata": {},
     "output_type": "display_data"
    },
    {
     "name": "stdout",
     "output_type": "stream",
     "text": [
      "> 2023-01-11 12:59:36,329 [info] run executed, status=completed\n"
     ]
    },
    {
     "data": {
      "text/plain": [
       "<mlrun.model.RunObject at 0x7f0664d68550>"
      ]
     },
     "execution_count": 3,
     "metadata": {},
     "output_type": "execute_result"
    }
   ],
   "source": [
    "import mlrun\n",
    "import os\n",
    "\n",
    "# Initialize the MLRun project object\n",
    "project1 = mlrun.get_or_create_project('cross-project1',user_project=True,context=os.path.join(os.getcwd(), 'test-notebooks1'))\n",
    "\n",
    "project1.set_function(name='log_transactions', kind='job', image='mlrun/ml-models', handler='log_transactions')\n",
    "\n",
    "project1.get_function('log_transactions').run(local=False)"
   ]
  },
  {
   "cell_type": "code",
   "execution_count": 4,
   "id": "d3a0bedb",
   "metadata": {},
   "outputs": [
    {
     "name": "stdout",
     "output_type": "stream",
     "text": [
      "> 2023-01-11 12:59:51,666 [info] Created and saved project cross-project2-admin: {'from_template': None, 'overwrite': False, 'context': '/User/test-notebooks/project_transfer/test-notebooks2', 'save': True}\n",
      "> 2023-01-11 12:59:51,667 [info] created project cross-project2 and saved in MLRun DB\n",
      "> 2023-01-11 13:00:10,458 [info] starting run log-transactions-log_transactions uid=c55bb3b538324b5180de9e068ea916f5 DB=http://mlrun-api:8080\n",
      "> 2023-01-11 13:00:10,688 [info] Job is running in the background, pod: log-transactions-log-transactions-dpbx2\n",
      "> 2023-01-11 13:00:15,740 [info] dataframe shape : (150, 4)\n",
      "> 2023-01-11 13:00:15,825 [info] logged model : <class 'xgboost.sklearn.XGBClassifier'>\n",
      "> 2023-01-11 13:00:15,972 [info] logged dataset (150, 5)\n",
      "> 2023-01-11 13:00:16,029 [info] To track results use the CLI: {'info_cmd': 'mlrun get run c55bb3b538324b5180de9e068ea916f5 -p cross-project2-admin', 'logs_cmd': 'mlrun logs c55bb3b538324b5180de9e068ea916f5 -p cross-project2-admin'}\n",
      "> 2023-01-11 13:00:16,029 [info] Or click for UI: {'ui_url': 'https://dashboard.default-tenant.app.vmdev94.lab.iguazeng.com/mlprojects/cross-project2-admin/jobs/monitor/c55bb3b538324b5180de9e068ea916f5/overview'}\n",
      "> 2023-01-11 13:00:16,030 [info] run executed, status=completed\n",
      "final state: completed\n"
     ]
    },
    {
     "data": {
      "text/html": [
       "<style>\n",
       ".dictlist {\n",
       "  background-color: #4EC64B;\n",
       "  text-align: center;\n",
       "  margin: 4px;\n",
       "  border-radius: 3px; padding: 0px 3px 1px 3px; display: inline-block;}\n",
       ".artifact {\n",
       "  cursor: pointer;\n",
       "  background-color: #4EC64B;\n",
       "  text-align: left;\n",
       "  margin: 4px; border-radius: 3px; padding: 0px 3px 1px 3px; display: inline-block;\n",
       "}\n",
       "div.block.hidden {\n",
       "  display: none;\n",
       "}\n",
       ".clickable {\n",
       "  cursor: pointer;\n",
       "}\n",
       ".ellipsis {\n",
       "  display: inline-block;\n",
       "  max-width: 60px;\n",
       "  white-space: nowrap;\n",
       "  overflow: hidden;\n",
       "  text-overflow: ellipsis;\n",
       "}\n",
       ".master-wrapper {\n",
       "  display: flex;\n",
       "  flex-flow: row nowrap;\n",
       "  justify-content: flex-start;\n",
       "  align-items: stretch;\n",
       "}\n",
       ".master-tbl {\n",
       "  flex: 3\n",
       "}\n",
       ".master-wrapper > div {\n",
       "  margin: 4px;\n",
       "  padding: 10px;\n",
       "}\n",
       "iframe.fileview {\n",
       "  border: 0 none;\n",
       "  height: 100%;\n",
       "  width: 100%;\n",
       "  white-space: pre-wrap;\n",
       "}\n",
       ".pane-header-title {\n",
       "  width: 80%;\n",
       "  font-weight: 500;\n",
       "}\n",
       ".pane-header {\n",
       "  line-height: 1;\n",
       "  background-color: #4EC64B;\n",
       "  padding: 3px;\n",
       "}\n",
       ".pane-header .close {\n",
       "  font-size: 20px;\n",
       "  font-weight: 700;\n",
       "  float: right;\n",
       "  margin-top: -5px;\n",
       "}\n",
       ".master-wrapper .right-pane {\n",
       "  border: 1px inset silver;\n",
       "  width: 40%;\n",
       "  min-height: 300px;\n",
       "  flex: 3\n",
       "  min-width: 500px;\n",
       "}\n",
       ".master-wrapper * {\n",
       "  box-sizing: border-box;\n",
       "}\n",
       "</style><script>\n",
       "function copyToClipboard(fld) {\n",
       "    if (document.queryCommandSupported && document.queryCommandSupported('copy')) {\n",
       "        var textarea = document.createElement('textarea');\n",
       "        textarea.textContent = fld.innerHTML;\n",
       "        textarea.style.position = 'fixed';\n",
       "        document.body.appendChild(textarea);\n",
       "        textarea.select();\n",
       "\n",
       "        try {\n",
       "            return document.execCommand('copy'); // Security exception may be thrown by some browsers.\n",
       "        } catch (ex) {\n",
       "\n",
       "        } finally {\n",
       "            document.body.removeChild(textarea);\n",
       "        }\n",
       "    }\n",
       "}\n",
       "function expandPanel(el) {\n",
       "  const panelName = \"#\" + el.getAttribute('paneName');\n",
       "  console.log(el.title);\n",
       "\n",
       "  document.querySelector(panelName + \"-title\").innerHTML = el.title\n",
       "  iframe = document.querySelector(panelName + \"-body\");\n",
       "\n",
       "  const tblcss = `<style> body { font-family: Arial, Helvetica, sans-serif;}\n",
       "    #csv { margin-bottom: 15px; }\n",
       "    #csv table { border-collapse: collapse;}\n",
       "    #csv table td { padding: 4px 8px; border: 1px solid silver;} </style>`;\n",
       "\n",
       "  function csvToHtmlTable(str) {\n",
       "    return '<div id=\"csv\"><table><tr><td>' +  str.replace(/[\\n\\r]+$/g, '').replace(/[\\n\\r]+/g, '</td></tr><tr><td>')\n",
       "      .replace(/,/g, '</td><td>') + '</td></tr></table></div>';\n",
       "  }\n",
       "\n",
       "  function reqListener () {\n",
       "    if (el.title.endsWith(\".csv\")) {\n",
       "      iframe.setAttribute(\"srcdoc\", tblcss + csvToHtmlTable(this.responseText));\n",
       "    } else {\n",
       "      iframe.setAttribute(\"srcdoc\", this.responseText);\n",
       "    }\n",
       "    console.log(this.responseText);\n",
       "  }\n",
       "\n",
       "  const oReq = new XMLHttpRequest();\n",
       "  oReq.addEventListener(\"load\", reqListener);\n",
       "  oReq.open(\"GET\", el.title);\n",
       "  oReq.send();\n",
       "\n",
       "\n",
       "  //iframe.src = el.title;\n",
       "  const resultPane = document.querySelector(panelName + \"-pane\");\n",
       "  if (resultPane.classList.contains(\"hidden\")) {\n",
       "    resultPane.classList.remove(\"hidden\");\n",
       "  }\n",
       "}\n",
       "function closePanel(el) {\n",
       "  const panelName = \"#\" + el.getAttribute('paneName')\n",
       "  const resultPane = document.querySelector(panelName + \"-pane\");\n",
       "  if (!resultPane.classList.contains(\"hidden\")) {\n",
       "    resultPane.classList.add(\"hidden\");\n",
       "  }\n",
       "}\n",
       "\n",
       "</script>\n",
       "<div class=\"master-wrapper\">\n",
       "  <div class=\"block master-tbl\"><div>\n",
       "<style scoped>\n",
       "    .dataframe tbody tr th:only-of-type {\n",
       "        vertical-align: middle;\n",
       "    }\n",
       "\n",
       "    .dataframe tbody tr th {\n",
       "        vertical-align: top;\n",
       "    }\n",
       "\n",
       "    .dataframe thead th {\n",
       "        text-align: right;\n",
       "    }\n",
       "</style>\n",
       "<table border=\"1\" class=\"dataframe\">\n",
       "  <thead>\n",
       "    <tr style=\"text-align: right;\">\n",
       "      <th>project</th>\n",
       "      <th>uid</th>\n",
       "      <th>iter</th>\n",
       "      <th>start</th>\n",
       "      <th>state</th>\n",
       "      <th>name</th>\n",
       "      <th>labels</th>\n",
       "      <th>inputs</th>\n",
       "      <th>parameters</th>\n",
       "      <th>results</th>\n",
       "      <th>artifacts</th>\n",
       "    </tr>\n",
       "  </thead>\n",
       "  <tbody>\n",
       "    <tr>\n",
       "      <td>cross-project2-admin</td>\n",
       "      <td><div title=\"c55bb3b538324b5180de9e068ea916f5\"><a href=\"https://dashboard.default-tenant.app.vmdev94.lab.iguazeng.com/mlprojects/cross-project2-admin/jobs/monitor/c55bb3b538324b5180de9e068ea916f5/overview\" target=\"_blank\" >...8ea916f5</a></div></td>\n",
       "      <td>0</td>\n",
       "      <td>Jan 11 13:00:15</td>\n",
       "      <td>completed</td>\n",
       "      <td>log-transactions-log_transactions</td>\n",
       "      <td><div class=\"dictlist\">v3io_user=admin</div><div class=\"dictlist\">kind=job</div><div class=\"dictlist\">owner=admin</div><div class=\"dictlist\">mlrun/client_version=1.3.0-rc4</div><div class=\"dictlist\">host=log-transactions-log-transactions-dpbx2</div></td>\n",
       "      <td></td>\n",
       "      <td></td>\n",
       "      <td></td>\n",
       "      <td><div class=\"artifact\" onclick=\"expandPanel(this)\" paneName=\"result0319b326\" title=\"files/v3io/projects/cross-project2-admin/artifacts/log-transactions-log_transactions/0/encoded_iris-v3.csv\">encoded_iris-v3</div><div title=\"v3io:///projects/cross-project2-admin/artifacts/log-transactions-log_transactions/0/bst_model/\">bst_model</div><div title=\"v3io:///projects/cross-project2-admin/artifacts/\">my_project</div><div class=\"artifact\" onclick=\"expandPanel(this)\" paneName=\"result0319b326\" title=\"files/v3io/projects/cross-project2-admin/artifacts/log-transactions-log_transactions/0/iris_dataset-v3.csv\">iris_dataset-v3</div></td>\n",
       "    </tr>\n",
       "  </tbody>\n",
       "</table>\n",
       "</div></div>\n",
       "  <div id=\"result0319b326-pane\" class=\"right-pane block hidden\">\n",
       "    <div class=\"pane-header\">\n",
       "      <span id=\"result0319b326-title\" class=\"pane-header-title\">Title</span>\n",
       "      <span onclick=\"closePanel(this)\" paneName=\"result0319b326\" class=\"close clickable\">&times;</span>\n",
       "    </div>\n",
       "    <iframe class=\"fileview\" id=\"result0319b326-body\"></iframe>\n",
       "  </div>\n",
       "</div>\n"
      ],
      "text/plain": [
       "<IPython.core.display.HTML object>"
      ]
     },
     "metadata": {},
     "output_type": "display_data"
    },
    {
     "name": "stdout",
     "output_type": "stream",
     "text": [
      "\n"
     ]
    },
    {
     "data": {
      "text/html": [
       "<b> > to track results use the .show() or .logs() methods  or <a href=\"https://dashboard.default-tenant.app.vmdev94.lab.iguazeng.com/mlprojects/cross-project2-admin/jobs/monitor/c55bb3b538324b5180de9e068ea916f5/overview\" target=\"_blank\">click here</a> to open in UI</b>"
      ],
      "text/plain": [
       "<IPython.core.display.HTML object>"
      ]
     },
     "metadata": {},
     "output_type": "display_data"
    },
    {
     "name": "stdout",
     "output_type": "stream",
     "text": [
      "> 2023-01-11 13:00:16,957 [info] run executed, status=completed\n"
     ]
    },
    {
     "data": {
      "text/plain": [
       "<mlrun.model.RunObject at 0x7f0664a7c850>"
      ]
     },
     "execution_count": 4,
     "metadata": {},
     "output_type": "execute_result"
    }
   ],
   "source": [
    "# Initialize the MLRun project object\n",
    "project2 = mlrun.get_or_create_project('cross-project2',user_project=True,context=os.path.join(os.getcwd(), 'test-notebooks2'))\n",
    "\n",
    "project2.set_function(name='log_transactions', kind='job', image='mlrun/ml-models', handler='log_transactions')\n",
    "\n",
    "project2.get_function('log_transactions').run(local=False)"
   ]
  },
  {
   "cell_type": "markdown",
   "id": "5582f797",
   "metadata": {},
   "source": [
    "## 3. Importing/Exporting artifacts"
   ]
  },
  {
   "cell_type": "markdown",
   "id": "3f7102f6",
   "metadata": {},
   "source": [
    "### 3.1 base artifact"
   ]
  },
  {
   "cell_type": "code",
   "execution_count": 5,
   "id": "cecbc7de",
   "metadata": {},
   "outputs": [
    {
     "data": {
      "text/html": [
       "<div>\n",
       "<style scoped>\n",
       "    .dataframe tbody tr th:only-of-type {\n",
       "        vertical-align: middle;\n",
       "    }\n",
       "\n",
       "    .dataframe tbody tr th {\n",
       "        vertical-align: top;\n",
       "    }\n",
       "\n",
       "    .dataframe thead th {\n",
       "        text-align: right;\n",
       "    }\n",
       "</style>\n",
       "<table border=\"1\" class=\"dataframe\">\n",
       "  <thead>\n",
       "    <tr style=\"text-align: right;\">\n",
       "      <th></th>\n",
       "      <th>0</th>\n",
       "      <th>1</th>\n",
       "      <th>2</th>\n",
       "      <th>3</th>\n",
       "    </tr>\n",
       "  </thead>\n",
       "  <tbody>\n",
       "    <tr>\n",
       "      <th>0</th>\n",
       "      <td>5.1</td>\n",
       "      <td>3.5</td>\n",
       "      <td>1.4</td>\n",
       "      <td>0.2</td>\n",
       "    </tr>\n",
       "    <tr>\n",
       "      <th>1</th>\n",
       "      <td>4.9</td>\n",
       "      <td>3.0</td>\n",
       "      <td>1.4</td>\n",
       "      <td>0.2</td>\n",
       "    </tr>\n",
       "    <tr>\n",
       "      <th>2</th>\n",
       "      <td>4.7</td>\n",
       "      <td>3.2</td>\n",
       "      <td>1.3</td>\n",
       "      <td>0.2</td>\n",
       "    </tr>\n",
       "    <tr>\n",
       "      <th>3</th>\n",
       "      <td>4.6</td>\n",
       "      <td>3.1</td>\n",
       "      <td>1.5</td>\n",
       "      <td>0.2</td>\n",
       "    </tr>\n",
       "    <tr>\n",
       "      <th>4</th>\n",
       "      <td>5.0</td>\n",
       "      <td>3.6</td>\n",
       "      <td>1.4</td>\n",
       "      <td>0.2</td>\n",
       "    </tr>\n",
       "  </tbody>\n",
       "</table>\n",
       "</div>"
      ],
      "text/plain": [
       "     0    1    2    3\n",
       "0  5.1  3.5  1.4  0.2\n",
       "1  4.9  3.0  1.4  0.2\n",
       "2  4.7  3.2  1.3  0.2\n",
       "3  4.6  3.1  1.5  0.2\n",
       "4  5.0  3.6  1.4  0.2"
      ]
     },
     "execution_count": 5,
     "metadata": {},
     "output_type": "execute_result"
    }
   ],
   "source": [
    "# Exporting project2 artifact\n",
    "project2.get_artifact('log-transactions-log_transactions_encoded_iris-v3').export('proj2_encoded_iris.yaml')\n",
    "\n",
    "# Importing the artifact from project1\n",
    "project1.import_artifact('proj2_encoded_iris.yaml',\n",
    "                         new_key = 'imported_proj1_encoded_iris')\n",
    "\n",
    "# Testing the imported artifact\n",
    "pd.DataFrame(json.loads(project1.get_artifact('imported_proj1_encoded_iris').to_dataitem().get())).head()"
   ]
  },
  {
   "cell_type": "markdown",
   "id": "016d4879",
   "metadata": {},
   "source": [
    "### 3.2 dataset artifact"
   ]
  },
  {
   "cell_type": "code",
   "execution_count": 6,
   "id": "35683d37",
   "metadata": {},
   "outputs": [
    {
     "data": {
      "text/html": [
       "<div>\n",
       "<style scoped>\n",
       "    .dataframe tbody tr th:only-of-type {\n",
       "        vertical-align: middle;\n",
       "    }\n",
       "\n",
       "    .dataframe tbody tr th {\n",
       "        vertical-align: top;\n",
       "    }\n",
       "\n",
       "    .dataframe thead th {\n",
       "        text-align: right;\n",
       "    }\n",
       "</style>\n",
       "<table border=\"1\" class=\"dataframe\">\n",
       "  <thead>\n",
       "    <tr style=\"text-align: right;\">\n",
       "      <th></th>\n",
       "      <th>Unnamed: 0</th>\n",
       "      <th>0</th>\n",
       "      <th>1</th>\n",
       "      <th>2</th>\n",
       "      <th>3</th>\n",
       "    </tr>\n",
       "  </thead>\n",
       "  <tbody>\n",
       "    <tr>\n",
       "      <th>0</th>\n",
       "      <td>0</td>\n",
       "      <td>5.1</td>\n",
       "      <td>3.5</td>\n",
       "      <td>1.4</td>\n",
       "      <td>0.2</td>\n",
       "    </tr>\n",
       "    <tr>\n",
       "      <th>1</th>\n",
       "      <td>1</td>\n",
       "      <td>4.9</td>\n",
       "      <td>3.0</td>\n",
       "      <td>1.4</td>\n",
       "      <td>0.2</td>\n",
       "    </tr>\n",
       "    <tr>\n",
       "      <th>2</th>\n",
       "      <td>2</td>\n",
       "      <td>4.7</td>\n",
       "      <td>3.2</td>\n",
       "      <td>1.3</td>\n",
       "      <td>0.2</td>\n",
       "    </tr>\n",
       "    <tr>\n",
       "      <th>3</th>\n",
       "      <td>3</td>\n",
       "      <td>4.6</td>\n",
       "      <td>3.1</td>\n",
       "      <td>1.5</td>\n",
       "      <td>0.2</td>\n",
       "    </tr>\n",
       "    <tr>\n",
       "      <th>4</th>\n",
       "      <td>4</td>\n",
       "      <td>5.0</td>\n",
       "      <td>3.6</td>\n",
       "      <td>1.4</td>\n",
       "      <td>0.2</td>\n",
       "    </tr>\n",
       "    <tr>\n",
       "      <th>...</th>\n",
       "      <td>...</td>\n",
       "      <td>...</td>\n",
       "      <td>...</td>\n",
       "      <td>...</td>\n",
       "      <td>...</td>\n",
       "    </tr>\n",
       "    <tr>\n",
       "      <th>145</th>\n",
       "      <td>145</td>\n",
       "      <td>6.7</td>\n",
       "      <td>3.0</td>\n",
       "      <td>5.2</td>\n",
       "      <td>2.3</td>\n",
       "    </tr>\n",
       "    <tr>\n",
       "      <th>146</th>\n",
       "      <td>146</td>\n",
       "      <td>6.3</td>\n",
       "      <td>2.5</td>\n",
       "      <td>5.0</td>\n",
       "      <td>1.9</td>\n",
       "    </tr>\n",
       "    <tr>\n",
       "      <th>147</th>\n",
       "      <td>147</td>\n",
       "      <td>6.5</td>\n",
       "      <td>3.0</td>\n",
       "      <td>5.2</td>\n",
       "      <td>2.0</td>\n",
       "    </tr>\n",
       "    <tr>\n",
       "      <th>148</th>\n",
       "      <td>148</td>\n",
       "      <td>6.2</td>\n",
       "      <td>3.4</td>\n",
       "      <td>5.4</td>\n",
       "      <td>2.3</td>\n",
       "    </tr>\n",
       "    <tr>\n",
       "      <th>149</th>\n",
       "      <td>149</td>\n",
       "      <td>5.9</td>\n",
       "      <td>3.0</td>\n",
       "      <td>5.1</td>\n",
       "      <td>1.8</td>\n",
       "    </tr>\n",
       "  </tbody>\n",
       "</table>\n",
       "<p>150 rows × 5 columns</p>\n",
       "</div>"
      ],
      "text/plain": [
       "     Unnamed: 0    0    1    2    3\n",
       "0             0  5.1  3.5  1.4  0.2\n",
       "1             1  4.9  3.0  1.4  0.2\n",
       "2             2  4.7  3.2  1.3  0.2\n",
       "3             3  4.6  3.1  1.5  0.2\n",
       "4             4  5.0  3.6  1.4  0.2\n",
       "..          ...  ...  ...  ...  ...\n",
       "145         145  6.7  3.0  5.2  2.3\n",
       "146         146  6.3  2.5  5.0  1.9\n",
       "147         147  6.5  3.0  5.2  2.0\n",
       "148         148  6.2  3.4  5.4  2.3\n",
       "149         149  5.9  3.0  5.1  1.8\n",
       "\n",
       "[150 rows x 5 columns]"
      ]
     },
     "execution_count": 6,
     "metadata": {},
     "output_type": "execute_result"
    }
   ],
   "source": [
    "# Exporting project2 model artifact\n",
    "project2.get_artifact('log-transactions-log_transactions_iris_dataset-v3').export('proj2_dataset.yaml')\n",
    "\n",
    "# importing model artifact from project2\n",
    "project1.import_artifact('proj2_dataset.yaml',\n",
    "                         new_key = 'imported_proj1_dataset')\n",
    "\n",
    "# Testing the imported dataset artifact\n",
    "project1.get_artifact('imported_proj1_dataset').to_dataitem().as_df()"
   ]
  },
  {
   "cell_type": "markdown",
   "id": "ad5ba155",
   "metadata": {},
   "source": [
    "### 3.3 model artifact"
   ]
  },
  {
   "cell_type": "code",
   "execution_count": 7,
   "id": "ae6accad",
   "metadata": {},
   "outputs": [
    {
     "data": {
      "text/plain": [
       "array([0, 0, 0, 0, 0])"
      ]
     },
     "execution_count": 7,
     "metadata": {},
     "output_type": "execute_result"
    }
   ],
   "source": [
    "# Exporting project1 model artifact\n",
    "project1.get_artifact('log-transactions-log_transactions_bst_model').export('proj1_model.yaml')\n",
    "\n",
    "# importing model artifact from project2\n",
    "project2.import_artifact('proj1_model.yaml',\n",
    "                         new_key = 'imported_proj2_model')\n",
    "\n",
    "\n",
    "# Testing the imported model artifact\n",
    "project2_model = pickle.loads(project2.get_artifact('imported_proj2_model')._get_file_body())\n",
    "project2_model.predict(pd.DataFrame(json.loads((project1.get_artifact('log-transactions-log_transactions_encoded_iris-v3').to_dataitem().get())))[:5])"
   ]
  },
  {
   "cell_type": "markdown",
   "id": "19a77cca",
   "metadata": {},
   "source": [
    "### 3.4 dir artifact"
   ]
  },
  {
   "cell_type": "code",
   "execution_count": 8,
   "id": "97107f4d",
   "metadata": {},
   "outputs": [],
   "source": [
    "try: \n",
    "    # Exporting project2 dir artifact\n",
    "    project1.get_artifact('log-transactions-log_transactions_my_project').export('proj1_dir.yaml')\n",
    "\n",
    "    # importing dir artifact from project2\n",
    "    project2.import_artifact('proj1_dir.yaml',\n",
    "                             new_key = 'imported_proj2_dir')\n",
    "\n",
    "    # Testing the imported dir artifact\n",
    "    project2.get_artifact('imported_proj2_dir').to_dataitem().listdir()\n",
    "except Exception as e:\n",
    "    print(e)"
   ]
  },
  {
   "cell_type": "markdown",
   "id": "c81e91b9",
   "metadata": {},
   "source": [
    "## 4. Importing/Exporting functions"
   ]
  },
  {
   "cell_type": "markdown",
   "id": "f06e4385",
   "metadata": {},
   "source": [
    "### 4.1 Serving function"
   ]
  },
  {
   "cell_type": "markdown",
   "id": "531d5329",
   "metadata": {},
   "source": [
    "#### 4.1.1 Creating serving function, adding model, predicting and deploying"
   ]
  },
  {
   "cell_type": "code",
   "execution_count": 9,
   "id": "84732b8f",
   "metadata": {},
   "outputs": [
    {
     "data": {
      "text/plain": [
       "<mlrun.serving.states.TaskStep at 0x7f0664a35f50>"
      ]
     },
     "execution_count": 9,
     "metadata": {},
     "output_type": "execute_result"
    }
   ],
   "source": [
    "# Setting project1 serving function\n",
    "project1.set_function(name='proj1_serving',func = mlrun.new_function(name='proj1_serving', kind='serving',image='mlrun/ml-models', command = []))\n",
    "\n",
    "# adding project2 model to project1 serving function\n",
    "project1.get_function('proj1_serving').add_model(key = 'my_model',\n",
    "                                                 class_name = \"mlrun.frameworks.xgboost.XGBoostModelServer\",\n",
    "                                                 model_path = project2.get_artifact('log-transactions-log_transactions_bst_model').target_path)"
   ]
  },
  {
   "cell_type": "code",
   "execution_count": 10,
   "id": "e5366f35",
   "metadata": {},
   "outputs": [
    {
     "name": "stdout",
     "output_type": "stream",
     "text": [
      "> 2023-01-11 13:00:18,042 [warning] run command, file or code were not specified\n",
      "> 2023-01-11 13:00:27,584 [info] model my_model was loaded\n",
      "> 2023-01-11 13:00:27,585 [info] Loaded ['my_model']\n"
     ]
    },
    {
     "data": {
      "text/plain": [
       "{'id': '2a09b2f3964e4fbd81c665a7fae549f7',\n",
       " 'model_name': 'my_model',\n",
       " 'outputs': [2, 2, 2, 2, 2]}"
      ]
     },
     "execution_count": 10,
     "metadata": {},
     "output_type": "execute_result"
    }
   ],
   "source": [
    "# Testing the fused model serving function\n",
    "server = project1.get_function('proj1_serving').to_mock_server()\n",
    "\n",
    "server.test(body={'inputs': \n",
    "                  pd.DataFrame(json.loads(project2.get_artifact('log-transactions-log_transactions_encoded_iris-v3').to_dataitem().get())).values.tolist()[-5:]})"
   ]
  },
  {
   "cell_type": "code",
   "execution_count": 11,
   "id": "791148f4",
   "metadata": {},
   "outputs": [
    {
     "name": "stdout",
     "output_type": "stream",
     "text": [
      "> 2023-01-11 13:00:27,870 [info] Starting remote function deploy\n",
      "2023-01-11 13:00:28  (info) Deploying function\n",
      "2023-01-11 13:00:28  (info) Building\n",
      "2023-01-11 13:00:28  (info) Staging files and preparing base images\n",
      "2023-01-11 13:00:28  (info) Building processor image\n",
      "2023-01-11 13:03:16  (info) Build complete\n",
      "2023-01-11 13:03:34  (info) Function deploy complete\n",
      "> 2023-01-11 13:03:34,977 [info] successfully deployed function: {'internal_invocation_urls': ['nuclio-cross-project1-admin-proj1-serving.default-tenant.svc.cluster.local:8080'], 'external_invocation_urls': ['cross-project1-admin-proj1-serving-cross-project1-admin.default-tenant.app.vmdev94.lab.iguazeng.com/']}\n"
     ]
    },
    {
     "data": {
      "text/plain": [
       "DeployStatus(state=ready, outputs={'endpoint': 'http://cross-project1-admin-proj1-serving-cross-project1-admin.default-tenant.app.vmdev94.lab.iguazeng.com/', 'name': 'cross-project1-admin-proj1-serving'})"
      ]
     },
     "execution_count": 11,
     "metadata": {},
     "output_type": "execute_result"
    }
   ],
   "source": [
    "project1.deploy_function('proj1_serving')"
   ]
  },
  {
   "cell_type": "code",
   "execution_count": 12,
   "id": "a3bd9687",
   "metadata": {},
   "outputs": [
    {
     "name": "stdout",
     "output_type": "stream",
     "text": [
      "> 2023-01-11 13:03:40,132 [info] invoking function: {'method': 'POST', 'path': 'http://nuclio-cross-project1-admin-proj1-serving.default-tenant.svc.cluster.local:8080/v2/models/my_model/infer'}\n"
     ]
    },
    {
     "data": {
      "text/plain": [
       "{'id': 'b68735d6-5794-4391-9a1f-f3f4d4c38daa',\n",
       " 'model_name': 'my_model',\n",
       " 'outputs': [2, 2, 2, 2, 2]}"
      ]
     },
     "execution_count": 12,
     "metadata": {},
     "output_type": "execute_result"
    }
   ],
   "source": [
    "import time\n",
    "time.sleep(5)\n",
    "\n",
    "project1.get_function('proj1_serving').invoke(\n",
    "    path='/v2/models/my_model/infer', \n",
    "    body={'inputs': pd.DataFrame(json.loads(project2.get_artifact('log-transactions-log_transactions_encoded_iris-v3').to_dataitem().get())).values.tolist()[-5:]}\n",
    ")"
   ]
  },
  {
   "cell_type": "markdown",
   "id": "7f5a4cfa",
   "metadata": {},
   "source": [
    "#### 4.1.2 Importing & Exporting already deployed serving function"
   ]
  },
  {
   "cell_type": "code",
   "execution_count": 13,
   "id": "fe136d61",
   "metadata": {},
   "outputs": [
    {
     "name": "stdout",
     "output_type": "stream",
     "text": [
      "> 2023-01-11 13:03:40,442 [info] function spec saved to path: proj1_serving.yaml\n",
      "True\n"
     ]
    }
   ],
   "source": [
    "# exporting project1 deployed serving function\n",
    "project1.get_function('proj1_serving').export('proj1_serving.yaml')\n",
    "\n",
    "# importing project1 serving function from project2\n",
    "project2.set_function(name='proj2_imported_serving', func='../proj1_serving.yaml')\n",
    "print(project2.get_function('proj2_imported_serving').is_deployed())"
   ]
  },
  {
   "cell_type": "code",
   "execution_count": 14,
   "id": "6231673f",
   "metadata": {},
   "outputs": [
    {
     "name": "stdout",
     "output_type": "stream",
     "text": [
      "command file http://cross-project1-admin-proj1-serving-cross-project1-admin.default-tenant.app.vmdev94.lab.iguazeng.com/ not found\n"
     ]
    }
   ],
   "source": [
    "try:\n",
    "    # Testing the imported already deployed function\n",
    "    server = project2.get_function('proj2_imported_serving').to_mock_server()\n",
    "\n",
    "    server.test(body={'inputs': \n",
    "                      pd.DataFrame(json.loads(project2.get_artifact('log-transactions-log_transactions_encoded_iris-v3').to_dataitem().get())).values.tolist()[-5:]})\n",
    "except Exception as e:\n",
    "    print(e)"
   ]
  },
  {
   "cell_type": "code",
   "execution_count": 15,
   "id": "e17e2d86",
   "metadata": {},
   "outputs": [
    {
     "name": "stdout",
     "output_type": "stream",
     "text": [
      "> 2023-01-11 13:03:40,484 [info] Starting remote function deploy\n",
      "2023-01-11 13:03:40  (info) Deploying function\n",
      "2023-01-11 13:03:40  (info) Building\n",
      "2023-01-11 13:03:40  (info) Staging files and preparing base images\n",
      "2023-01-11 13:03:40  (info) Building processor image\n",
      "2023-01-11 13:06:06  (info) Build complete\n",
      "2023-01-11 13:06:34  (info) Function deploy complete\n",
      "> 2023-01-11 13:06:34,819 [info] successfully deployed function: {'internal_invocation_urls': ['nuclio-cross-project2-admin-proj1-serving.default-tenant.svc.cluster.local:8080'], 'external_invocation_urls': ['cross-project2-admin-proj1-serving-cross-project2-admin.default-tenant.app.vmdev94.lab.iguazeng.com/']}\n"
     ]
    },
    {
     "data": {
      "text/plain": [
       "DeployStatus(state=ready, outputs={'endpoint': 'http://cross-project2-admin-proj1-serving-cross-project2-admin.default-tenant.app.vmdev94.lab.iguazeng.com/', 'name': 'cross-project2-admin-proj1-serving'})"
      ]
     },
     "execution_count": 15,
     "metadata": {},
     "output_type": "execute_result"
    }
   ],
   "source": [
    "# Redeploying the already deployed function\n",
    "project2.deploy_function('proj2_imported_serving')"
   ]
  },
  {
   "cell_type": "markdown",
   "id": "e68fdfd7",
   "metadata": {},
   "source": [
    "##### Testing the redeployed imported-deployed-function"
   ]
  },
  {
   "cell_type": "code",
   "execution_count": 16,
   "id": "7d77379c",
   "metadata": {},
   "outputs": [
    {
     "name": "stdout",
     "output_type": "stream",
     "text": [
      "> 2023-01-11 13:06:39,974 [info] invoking function: {'method': 'POST', 'path': 'http://nuclio-cross-project2-admin-proj1-serving.default-tenant.svc.cluster.local:8080/v2/models/my_model/infer'}\n"
     ]
    },
    {
     "data": {
      "text/plain": [
       "{'id': '436ab3d0-c6f4-43a4-90c1-e4320378078b',\n",
       " 'model_name': 'my_model',\n",
       " 'outputs': [2, 2, 2, 2, 2]}"
      ]
     },
     "execution_count": 16,
     "metadata": {},
     "output_type": "execute_result"
    }
   ],
   "source": [
    "time.sleep(5) \n",
    "project2.get_function('proj2_imported_serving').invoke(\n",
    "    path='/v2/models/my_model/infer', \n",
    "    body={'inputs': pd.DataFrame(json.loads(project2.get_artifact('log-transactions-log_transactions_encoded_iris-v3').to_dataitem().get())).values.tolist()[-5:]}\n",
    ")"
   ]
  },
  {
   "cell_type": "markdown",
   "id": "8cef22f7",
   "metadata": {},
   "source": [
    "#### 4.1.3 Importing & Exporting undeployed serving function"
   ]
  },
  {
   "cell_type": "code",
   "execution_count": 17,
   "id": "b3627712",
   "metadata": {},
   "outputs": [
    {
     "data": {
      "text/plain": [
       "<mlrun.serving.states.TaskStep at 0x7f0643568290>"
      ]
     },
     "execution_count": 17,
     "metadata": {},
     "output_type": "execute_result"
    }
   ],
   "source": [
    "# Setting project2 serving function\n",
    "project2.set_function(mlrun.new_function(name='proj2_serving', kind='serving',image='mlrun/ml-models', command = []))\n",
    "\n",
    "# adding project1 model to project2 serving function\n",
    "project2.get_function('proj2-serving').add_model(key = 'my_model',\n",
    "                                                 class_name = \"mlrun.frameworks.xgboost.XGBoostModelServer\",\n",
    "                                                 model_path = project1.get_artifact('log-transactions-log_transactions_bst_model').target_path)"
   ]
  },
  {
   "cell_type": "code",
   "execution_count": 18,
   "id": "27166f5c",
   "metadata": {},
   "outputs": [
    {
     "name": "stdout",
     "output_type": "stream",
     "text": [
      "> 2023-01-11 13:06:40,271 [info] function spec saved to path: proj2_serving.yaml\n",
      "True\n"
     ]
    }
   ],
   "source": [
    "# exporting project2 not deployed serving function\n",
    "project2.get_function('proj2-serving').export('proj2_serving.yaml')\n",
    "\n",
    "# Importing project2 serving function from project1\n",
    "project1.set_function(name='proj1_imported_serving', func='../proj2_serving.yaml')\n",
    "print(project1.get_function('proj1_imported_serving').is_deployed())"
   ]
  },
  {
   "cell_type": "code",
   "execution_count": 19,
   "id": "2786840f",
   "metadata": {},
   "outputs": [
    {
     "name": "stdout",
     "output_type": "stream",
     "text": [
      "> 2023-01-11 13:06:40,291 [warning] run command, file or code were not specified\n",
      "> 2023-01-11 13:06:41,205 [info] model my_model was loaded\n",
      "> 2023-01-11 13:06:41,206 [info] Loaded ['my_model']\n"
     ]
    },
    {
     "data": {
      "text/plain": [
       "{'id': '8bd932adc96d43369b357a8d5685b997',\n",
       " 'model_name': 'my_model',\n",
       " 'outputs': [2, 2, 2, 2, 2]}"
      ]
     },
     "execution_count": 19,
     "metadata": {},
     "output_type": "execute_result"
    }
   ],
   "source": [
    "# Testing the imported undeployed function\n",
    "server = project1.get_function('proj1_imported_serving').to_mock_server()\n",
    "\n",
    "server.test(body={'inputs': \n",
    "                  pd.DataFrame(json.loads(project2.get_artifact('log-transactions-log_transactions_encoded_iris-v3').to_dataitem().get())).values.tolist()[-5:]})"
   ]
  },
  {
   "cell_type": "code",
   "execution_count": 20,
   "id": "3b23acdb",
   "metadata": {},
   "outputs": [
    {
     "name": "stdout",
     "output_type": "stream",
     "text": [
      "> 2023-01-11 13:06:41,300 [info] Starting remote function deploy\n",
      "2023-01-11 13:06:41  (info) Deploying function\n",
      "2023-01-11 13:06:41  (info) Building\n",
      "2023-01-11 13:06:41  (info) Staging files and preparing base images\n",
      "2023-01-11 13:06:41  (info) Building processor image\n",
      "2023-01-11 13:09:05  (info) Build complete\n",
      "2023-01-11 13:09:33  (info) Function deploy complete\n",
      "> 2023-01-11 13:09:34,470 [info] successfully deployed function: {'internal_invocation_urls': ['nuclio-cross-project1-admin-proj2-serving.default-tenant.svc.cluster.local:8080'], 'external_invocation_urls': ['cross-project1-admin-proj2-serving-cross-project1-admin.default-tenant.app.vmdev94.lab.iguazeng.com/']}\n"
     ]
    },
    {
     "data": {
      "text/plain": [
       "DeployStatus(state=ready, outputs={'endpoint': 'http://cross-project1-admin-proj2-serving-cross-project1-admin.default-tenant.app.vmdev94.lab.iguazeng.com/', 'name': 'cross-project1-admin-proj2-serving'})"
      ]
     },
     "execution_count": 20,
     "metadata": {},
     "output_type": "execute_result"
    }
   ],
   "source": [
    "# Deploying the undeployed imported function\n",
    "project1.deploy_function('proj1_imported_serving')"
   ]
  },
  {
   "cell_type": "code",
   "execution_count": 21,
   "id": "5a9ae014",
   "metadata": {},
   "outputs": [
    {
     "name": "stdout",
     "output_type": "stream",
     "text": [
      "> 2023-01-11 13:09:39,613 [info] invoking function: {'method': 'POST', 'path': 'http://nuclio-cross-project1-admin-proj2-serving.default-tenant.svc.cluster.local:8080/v2/models/my_model/infer'}\n"
     ]
    },
    {
     "data": {
      "text/plain": [
       "{'id': '698bec70-6896-4a3a-8278-48e237eb5183',\n",
       " 'model_name': 'my_model',\n",
       " 'outputs': [2, 2, 2, 2, 2]}"
      ]
     },
     "execution_count": 21,
     "metadata": {},
     "output_type": "execute_result"
    }
   ],
   "source": [
    "time.sleep(5)\n",
    "\n",
    "# Testing the imported then deployed function\n",
    "project1.get_function('proj1_imported_serving').invoke(\n",
    "    path='/v2/models/my_model/infer', \n",
    "    body={'inputs': pd.DataFrame(json.loads(project2.get_artifact('log-transactions-log_transactions_encoded_iris-v3').to_dataitem().get())).values.tolist()[-5:]}\n",
    ")"
   ]
  },
  {
   "cell_type": "markdown",
   "id": "ada1ae3a",
   "metadata": {},
   "source": [
    "### 4.2 mlrun function"
   ]
  },
  {
   "cell_type": "code",
   "execution_count": 22,
   "id": "68504803",
   "metadata": {},
   "outputs": [
    {
     "name": "stdout",
     "output_type": "stream",
     "text": [
      "> 2023-01-11 13:09:39,937 [info] function spec saved to path: proj2_mlrun_func.yaml\n",
      "> 2023-01-11 13:09:40,162 [info] starting run log-transactions-log_transactions uid=8d52e1e5a28b4d5c902cd496174447fc DB=http://mlrun-api:8080\n",
      "> 2023-01-11 13:09:40,404 [info] Job is running in the background, pod: log-transactions-log-transactions-zkgnq\n",
      "> 2023-01-11 13:09:45,610 [info] dataframe shape : (150, 4)\n",
      "> 2023-01-11 13:09:45,717 [info] logged model : <class 'xgboost.sklearn.XGBClassifier'>\n",
      "> 2023-01-11 13:09:45,868 [info] logged dataset (150, 5)\n",
      "> 2023-01-11 13:09:45,914 [info] To track results use the CLI: {'info_cmd': 'mlrun get run 8d52e1e5a28b4d5c902cd496174447fc -p cross-project1-admin', 'logs_cmd': 'mlrun logs 8d52e1e5a28b4d5c902cd496174447fc -p cross-project1-admin'}\n",
      "> 2023-01-11 13:09:45,914 [info] Or click for UI: {'ui_url': 'https://dashboard.default-tenant.app.vmdev94.lab.iguazeng.com/mlprojects/cross-project1-admin/jobs/monitor/8d52e1e5a28b4d5c902cd496174447fc/overview'}\n",
      "> 2023-01-11 13:09:45,915 [info] run executed, status=completed\n",
      "final state: completed\n"
     ]
    },
    {
     "data": {
      "text/html": [
       "<style>\n",
       ".dictlist {\n",
       "  background-color: #4EC64B;\n",
       "  text-align: center;\n",
       "  margin: 4px;\n",
       "  border-radius: 3px; padding: 0px 3px 1px 3px; display: inline-block;}\n",
       ".artifact {\n",
       "  cursor: pointer;\n",
       "  background-color: #4EC64B;\n",
       "  text-align: left;\n",
       "  margin: 4px; border-radius: 3px; padding: 0px 3px 1px 3px; display: inline-block;\n",
       "}\n",
       "div.block.hidden {\n",
       "  display: none;\n",
       "}\n",
       ".clickable {\n",
       "  cursor: pointer;\n",
       "}\n",
       ".ellipsis {\n",
       "  display: inline-block;\n",
       "  max-width: 60px;\n",
       "  white-space: nowrap;\n",
       "  overflow: hidden;\n",
       "  text-overflow: ellipsis;\n",
       "}\n",
       ".master-wrapper {\n",
       "  display: flex;\n",
       "  flex-flow: row nowrap;\n",
       "  justify-content: flex-start;\n",
       "  align-items: stretch;\n",
       "}\n",
       ".master-tbl {\n",
       "  flex: 3\n",
       "}\n",
       ".master-wrapper > div {\n",
       "  margin: 4px;\n",
       "  padding: 10px;\n",
       "}\n",
       "iframe.fileview {\n",
       "  border: 0 none;\n",
       "  height: 100%;\n",
       "  width: 100%;\n",
       "  white-space: pre-wrap;\n",
       "}\n",
       ".pane-header-title {\n",
       "  width: 80%;\n",
       "  font-weight: 500;\n",
       "}\n",
       ".pane-header {\n",
       "  line-height: 1;\n",
       "  background-color: #4EC64B;\n",
       "  padding: 3px;\n",
       "}\n",
       ".pane-header .close {\n",
       "  font-size: 20px;\n",
       "  font-weight: 700;\n",
       "  float: right;\n",
       "  margin-top: -5px;\n",
       "}\n",
       ".master-wrapper .right-pane {\n",
       "  border: 1px inset silver;\n",
       "  width: 40%;\n",
       "  min-height: 300px;\n",
       "  flex: 3\n",
       "  min-width: 500px;\n",
       "}\n",
       ".master-wrapper * {\n",
       "  box-sizing: border-box;\n",
       "}\n",
       "</style><script>\n",
       "function copyToClipboard(fld) {\n",
       "    if (document.queryCommandSupported && document.queryCommandSupported('copy')) {\n",
       "        var textarea = document.createElement('textarea');\n",
       "        textarea.textContent = fld.innerHTML;\n",
       "        textarea.style.position = 'fixed';\n",
       "        document.body.appendChild(textarea);\n",
       "        textarea.select();\n",
       "\n",
       "        try {\n",
       "            return document.execCommand('copy'); // Security exception may be thrown by some browsers.\n",
       "        } catch (ex) {\n",
       "\n",
       "        } finally {\n",
       "            document.body.removeChild(textarea);\n",
       "        }\n",
       "    }\n",
       "}\n",
       "function expandPanel(el) {\n",
       "  const panelName = \"#\" + el.getAttribute('paneName');\n",
       "  console.log(el.title);\n",
       "\n",
       "  document.querySelector(panelName + \"-title\").innerHTML = el.title\n",
       "  iframe = document.querySelector(panelName + \"-body\");\n",
       "\n",
       "  const tblcss = `<style> body { font-family: Arial, Helvetica, sans-serif;}\n",
       "    #csv { margin-bottom: 15px; }\n",
       "    #csv table { border-collapse: collapse;}\n",
       "    #csv table td { padding: 4px 8px; border: 1px solid silver;} </style>`;\n",
       "\n",
       "  function csvToHtmlTable(str) {\n",
       "    return '<div id=\"csv\"><table><tr><td>' +  str.replace(/[\\n\\r]+$/g, '').replace(/[\\n\\r]+/g, '</td></tr><tr><td>')\n",
       "      .replace(/,/g, '</td><td>') + '</td></tr></table></div>';\n",
       "  }\n",
       "\n",
       "  function reqListener () {\n",
       "    if (el.title.endsWith(\".csv\")) {\n",
       "      iframe.setAttribute(\"srcdoc\", tblcss + csvToHtmlTable(this.responseText));\n",
       "    } else {\n",
       "      iframe.setAttribute(\"srcdoc\", this.responseText);\n",
       "    }\n",
       "    console.log(this.responseText);\n",
       "  }\n",
       "\n",
       "  const oReq = new XMLHttpRequest();\n",
       "  oReq.addEventListener(\"load\", reqListener);\n",
       "  oReq.open(\"GET\", el.title);\n",
       "  oReq.send();\n",
       "\n",
       "\n",
       "  //iframe.src = el.title;\n",
       "  const resultPane = document.querySelector(panelName + \"-pane\");\n",
       "  if (resultPane.classList.contains(\"hidden\")) {\n",
       "    resultPane.classList.remove(\"hidden\");\n",
       "  }\n",
       "}\n",
       "function closePanel(el) {\n",
       "  const panelName = \"#\" + el.getAttribute('paneName')\n",
       "  const resultPane = document.querySelector(panelName + \"-pane\");\n",
       "  if (!resultPane.classList.contains(\"hidden\")) {\n",
       "    resultPane.classList.add(\"hidden\");\n",
       "  }\n",
       "}\n",
       "\n",
       "</script>\n",
       "<div class=\"master-wrapper\">\n",
       "  <div class=\"block master-tbl\"><div>\n",
       "<style scoped>\n",
       "    .dataframe tbody tr th:only-of-type {\n",
       "        vertical-align: middle;\n",
       "    }\n",
       "\n",
       "    .dataframe tbody tr th {\n",
       "        vertical-align: top;\n",
       "    }\n",
       "\n",
       "    .dataframe thead th {\n",
       "        text-align: right;\n",
       "    }\n",
       "</style>\n",
       "<table border=\"1\" class=\"dataframe\">\n",
       "  <thead>\n",
       "    <tr style=\"text-align: right;\">\n",
       "      <th>project</th>\n",
       "      <th>uid</th>\n",
       "      <th>iter</th>\n",
       "      <th>start</th>\n",
       "      <th>state</th>\n",
       "      <th>name</th>\n",
       "      <th>labels</th>\n",
       "      <th>inputs</th>\n",
       "      <th>parameters</th>\n",
       "      <th>results</th>\n",
       "      <th>artifacts</th>\n",
       "    </tr>\n",
       "  </thead>\n",
       "  <tbody>\n",
       "    <tr>\n",
       "      <td>cross-project1-admin</td>\n",
       "      <td><div title=\"8d52e1e5a28b4d5c902cd496174447fc\"><a href=\"https://dashboard.default-tenant.app.vmdev94.lab.iguazeng.com/mlprojects/cross-project1-admin/jobs/monitor/8d52e1e5a28b4d5c902cd496174447fc/overview\" target=\"_blank\" >...174447fc</a></div></td>\n",
       "      <td>0</td>\n",
       "      <td>Jan 11 13:09:45</td>\n",
       "      <td>completed</td>\n",
       "      <td>log-transactions-log_transactions</td>\n",
       "      <td><div class=\"dictlist\">v3io_user=admin</div><div class=\"dictlist\">kind=job</div><div class=\"dictlist\">owner=admin</div><div class=\"dictlist\">mlrun/client_version=1.3.0-rc4</div><div class=\"dictlist\">host=log-transactions-log-transactions-zkgnq</div></td>\n",
       "      <td></td>\n",
       "      <td></td>\n",
       "      <td></td>\n",
       "      <td><div class=\"artifact\" onclick=\"expandPanel(this)\" paneName=\"result333df9f9\" title=\"files/v3io/projects/cross-project1-admin/artifacts/log-transactions-log_transactions/0/encoded_iris-v3.csv\">encoded_iris-v3</div><div title=\"v3io:///projects/cross-project1-admin/artifacts/log-transactions-log_transactions/0/bst_model/\">bst_model</div><div title=\"v3io:///projects/cross-project1-admin/artifacts/\">my_project</div><div class=\"artifact\" onclick=\"expandPanel(this)\" paneName=\"result333df9f9\" title=\"files/v3io/projects/cross-project1-admin/artifacts/log-transactions-log_transactions/0/iris_dataset-v3.csv\">iris_dataset-v3</div></td>\n",
       "    </tr>\n",
       "  </tbody>\n",
       "</table>\n",
       "</div></div>\n",
       "  <div id=\"result333df9f9-pane\" class=\"right-pane block hidden\">\n",
       "    <div class=\"pane-header\">\n",
       "      <span id=\"result333df9f9-title\" class=\"pane-header-title\">Title</span>\n",
       "      <span onclick=\"closePanel(this)\" paneName=\"result333df9f9\" class=\"close clickable\">&times;</span>\n",
       "    </div>\n",
       "    <iframe class=\"fileview\" id=\"result333df9f9-body\"></iframe>\n",
       "  </div>\n",
       "</div>\n"
      ],
      "text/plain": [
       "<IPython.core.display.HTML object>"
      ]
     },
     "metadata": {},
     "output_type": "display_data"
    },
    {
     "name": "stdout",
     "output_type": "stream",
     "text": [
      "\n"
     ]
    },
    {
     "data": {
      "text/html": [
       "<b> > to track results use the .show() or .logs() methods  or <a href=\"https://dashboard.default-tenant.app.vmdev94.lab.iguazeng.com/mlprojects/cross-project1-admin/jobs/monitor/8d52e1e5a28b4d5c902cd496174447fc/overview\" target=\"_blank\">click here</a> to open in UI</b>"
      ],
      "text/plain": [
       "<IPython.core.display.HTML object>"
      ]
     },
     "metadata": {},
     "output_type": "display_data"
    },
    {
     "name": "stdout",
     "output_type": "stream",
     "text": [
      "> 2023-01-11 13:09:46,875 [info] run executed, status=completed\n"
     ]
    },
    {
     "data": {
      "text/plain": [
       "<mlrun.model.RunObject at 0x7f06435293d0>"
      ]
     },
     "execution_count": 22,
     "metadata": {},
     "output_type": "execute_result"
    }
   ],
   "source": [
    "# exporting project2 log_transaction mlrun function\n",
    "project2.get_function('log_transactions').export('proj2_mlrun_func.yaml')\n",
    "\n",
    "# Importing project2 log_transaction mlrun function from project1\n",
    "project1.set_function(name='proj1_imported_mlrun_func', func='../proj2_mlrun_func.yaml')\n",
    "project1.run_function('proj1_imported_mlrun_func')"
   ]
  },
  {
   "cell_type": "markdown",
   "id": "c9d39454",
   "metadata": {},
   "source": [
    "### 4.3 nuclio function"
   ]
  },
  {
   "cell_type": "markdown",
   "id": "1ec5a3ba",
   "metadata": {},
   "source": [
    "#### 4.3.1 Importing & Exporting deployed remote function"
   ]
  },
  {
   "cell_type": "code",
   "execution_count": 23,
   "id": "911f0f53",
   "metadata": {},
   "outputs": [
    {
     "name": "stdout",
     "output_type": "stream",
     "text": [
      "Writing script.py\n"
     ]
    }
   ],
   "source": [
    "%%writefile script.py\n",
    "import mlrun\n",
    "import time\n",
    "\n",
    "def handler(context: mlrun.MLClientCtx, event):\n",
    "    context.logger.info('Going to sleep zZz...')\n",
    "    time.sleep(5)\n",
    "    return 'Waking up !'"
   ]
  },
  {
   "cell_type": "code",
   "execution_count": 24,
   "id": "aeffa3d7",
   "metadata": {},
   "outputs": [
    {
     "name": "stdout",
     "output_type": "stream",
     "text": [
      "> 2023-01-11 13:09:47,001 [info] Starting remote function deploy\n",
      "2023-01-11 13:09:47  (info) Deploying function\n",
      "2023-01-11 13:09:47  (info) Building\n",
      "2023-01-11 13:09:47  (info) Staging files and preparing base images\n",
      "2023-01-11 13:09:47  (info) Building processor image\n",
      "2023-01-11 13:10:52  (info) Build complete\n",
      "2023-01-11 13:11:37  (info) Function deploy complete\n",
      "> 2023-01-11 13:11:37,169 [info] successfully deployed function: {'internal_invocation_urls': ['nuclio-cross-project1-admin-proj1-remote-func.default-tenant.svc.cluster.local:8080'], 'external_invocation_urls': ['cross-project1-admin-proj1-remote-func-cross-project1-admin.default-tenant.app.vmdev94.lab.iguazeng.com/']}\n",
      "> 2023-01-11 13:11:37,246 [info] function spec saved to path: proj1_remote_func.yaml\n"
     ]
    },
    {
     "data": {
      "text/plain": [
       "<mlrun.runtimes.function.RemoteRuntime at 0x7f0643552050>"
      ]
     },
     "execution_count": 24,
     "metadata": {},
     "output_type": "execute_result"
    }
   ],
   "source": [
    "# Setting remote function\n",
    "project1.set_function(func = mlrun.code_to_function(name='proj1_remote_func', kind='remote',image='mlrun/mlrun', filename='script.py', handler='handler'))\n",
    "\n",
    "# Deploying\n",
    "project1.deploy_function('proj1-remote-func')\n",
    "# Exporting project1 undeployed remote function\n",
    "project1.get_function('proj1-remote-func').export('proj1_remote_func.yaml')\n",
    "\n",
    "# Importing project2 remote function from project1\n",
    "project2.set_function(name='proj2_imported_remote_func', func='../proj1_remote_func.yaml')"
   ]
  },
  {
   "cell_type": "code",
   "execution_count": 25,
   "id": "83040080",
   "metadata": {},
   "outputs": [
    {
     "name": "stdout",
     "output_type": "stream",
     "text": [
      "> 2023-01-11 13:11:37,278 [info] Starting remote function deploy\n",
      "2023-01-11 13:11:37  (info) Deploying function\n",
      "2023-01-11 13:11:37  (info) Building\n",
      "2023-01-11 13:11:37  (info) Staging files and preparing base images\n",
      "2023-01-11 13:11:37  (info) Building processor image\n",
      "2023-01-11 13:12:45  (info) Build complete\n",
      "> 2023-01-11 13:13:33,667 [info] successfully deployed function: {'internal_invocation_urls': ['nuclio-cross-project2-admin-proj1-remote-func.default-tenant.svc.cluster.local:8080'], 'external_invocation_urls': ['cross-project2-admin-proj1-remote-func-cross-project2-admin.default-tenant.app.vmdev94.lab.iguazeng.com/']}\n",
      "> 2023-01-11 13:13:38,725 [info] invoking function: {'method': 'GET', 'path': 'http://nuclio-cross-project2-admin-proj1-remote-func.default-tenant.svc.cluster.local:8080/'}\n"
     ]
    },
    {
     "data": {
      "text/plain": [
       "b'Waking up !'"
      ]
     },
     "execution_count": 25,
     "metadata": {},
     "output_type": "execute_result"
    }
   ],
   "source": [
    "project2.deploy_function('proj2_imported_remote_func')\n",
    "\n",
    "time.sleep(5)\n",
    "project2.get_function('proj2_imported_remote_func').invoke('')"
   ]
  },
  {
   "cell_type": "markdown",
   "id": "6a5fa8b5",
   "metadata": {},
   "source": [
    "## 5. Importing/Exporting project"
   ]
  },
  {
   "cell_type": "code",
   "execution_count": 26,
   "id": "8184f60f",
   "metadata": {},
   "outputs": [
    {
     "name": "stdout",
     "output_type": "stream",
     "text": [
      "> 2023-01-11 13:13:44,108 [info] loaded project testing-exported-proj from MLRun DB\n"
     ]
    }
   ],
   "source": [
    "# Initialize the MLRun project object\n",
    "new_project = mlrun.get_or_create_project('testing-exported-proj', context=os.path.join(os.getcwd(), 'new-project'))\n",
    "\n",
    "# Required credentials :\n",
    "# AWS_ACCESS_KEY_ID, AWS_SECRET_ACCESS_KEY, GOOGLE_APPLICATION_CREDENTIALS, S3_BUCKET\n",
    "AWS_ACCESS_KEY_ID = os.environ.get('AWS_ACCESS_KEY_ID', None)\n",
    "AWS_SECRET_ACCESS_KEY = os.environ.get('AWS_SECRET_ACCESS_KEY', None)\n",
    "GOOGLE_APPLICATION_CREDENTIALS = os.environ.get('GOOGLE_APPLICATION_CREDENTIALS', None)\n",
    "assert AWS_ACCESS_KEY_ID != None and AWS_SECRET_ACCESS_KEY != None and GOOGLE_APPLICATION_CREDENTIALS != None\n",
    "\n",
    "secrets = {'AWS_ACCESS_KEY_ID': AWS_ACCESS_KEY_ID,\n",
    "           'AWS_SECRET_ACCESS_KEY':AWS_SECRET_ACCESS_KEY,\n",
    "           'GOOGLE_APPLICATION_CREDENTIALS': GOOGLE_APPLICATION_CREDENTIALS}\n",
    "\n",
    "new_project.set_secrets(secrets=secrets, provider='kubernetes')\n",
    "\n",
    "S3_BUCKET = os.environ.get('S3_BUCKET', 'testbucket-igz')\n",
    "\n",
    "new_project.artifact_path = os.path.join('s3://', S3_BUCKET + '/cross_project/')"
   ]
  },
  {
   "cell_type": "code",
   "execution_count": 27,
   "id": "478d3339",
   "metadata": {},
   "outputs": [
    {
     "data": {
      "text/plain": [
       "<mlrun.runtimes.function.RemoteRuntime at 0x7f067a8d2b10>"
      ]
     },
     "execution_count": 27,
     "metadata": {},
     "output_type": "execute_result"
    }
   ],
   "source": [
    "# Setting artifacts\n",
    "new_project.set_artifact('encoded_iris', artifact=os.path.join(os.getcwd(),'proj2_encoded_iris.yaml'))\n",
    "new_project.set_artifact('model', artifact=os.path.join(os.getcwd(),'proj1_model.yaml'))\n",
    "new_project.set_artifact('dataset', artifact=os.path.join(os.getcwd(),'proj2_dataset.yaml'))\n",
    "new_project.set_artifact('dir', artifact=os.path.join(os.getcwd(),'proj1_dir.yaml'))\n",
    "\n",
    "# Setting functions\n",
    "new_project.set_function(name='serving', func='../proj1_serving.yaml')\n",
    "new_project.set_function(name='mlrun_func', func='../proj2_mlrun_func.yaml')\n",
    "new_project.set_function(name='remote_func', func='../proj1_remote_func.yaml')\n"
   ]
  },
  {
   "cell_type": "code",
   "execution_count": 28,
   "id": "88c9ecab",
   "metadata": {},
   "outputs": [],
   "source": [
    "# exporting the project\n",
    "\n",
    "# S3 artifact path (e.g. s3://my-bucket/new_project.zip)\n",
    "new_project.export(filepath=os.path.join(new_project.artifact_path, 'new_project.zip'))\n",
    "\n",
    "# GCS artifact path (e.g. gs://my-bucket/new_project.zip)\n",
    "new_project.export(filepath=os.path.join('gs' + new_project.artifact_path[2:], 'new_project.zip'))\n",
    "\n",
    "# V3IO local path\n",
    "new_project.export(filepath='/v3io/bigdata/new_project.zip')"
   ]
  },
  {
   "cell_type": "code",
   "execution_count": 29,
   "id": "b40f4c87",
   "metadata": {},
   "outputs": [],
   "source": [
    "# Importing the projects\n",
    "gs_project = mlrun.load_project(name='testing-gs-project',\n",
    "                                url=os.path.join(new_project.artifact_path, 'new_project.zip'),\n",
    "                                context = os.path.join(os.getcwd(), 'gs-project'))\n",
    "\n",
    "s3_project = mlrun.load_project(name='testing-s3-project',\n",
    "                                url=os.path.join('s3' + new_project.artifact_path[2:], 'new_project.zip'),\n",
    "                                context = os.path.join(os.getcwd(), 's3-project'))\n",
    "\n",
    "v3io_project = mlrun.load_project(name='testing-v3io-project',\n",
    "                                  url='/v3io/bigdata/new_project.zip',\n",
    "                                  context=os.path.join(os.getcwd(), 'v3io-project'))"
   ]
  },
  {
   "cell_type": "code",
   "execution_count": 30,
   "id": "bf908d8b",
   "metadata": {},
   "outputs": [
    {
     "name": "stdout",
     "output_type": "stream",
     "text": [
      "gs project artifact\n",
      "      0    1    2    3\n",
      "0  5.1  3.5  1.4  0.2\n",
      "1  4.9  3.0  1.4  0.2\n",
      "2  4.7  3.2  1.3  0.2\n",
      "3  4.6  3.1  1.5  0.2\n",
      "4  5.0  3.6  1.4  0.2 \n",
      "\n",
      "\n",
      "s3 project artifact\n",
      "    Unnamed: 0    0    1    2    3\n",
      "0           0  5.1  3.5  1.4  0.2\n",
      "1           1  4.9  3.0  1.4  0.2\n",
      "2           2  4.7  3.2  1.3  0.2\n",
      "3           3  4.6  3.1  1.5  0.2\n",
      "4           4  5.0  3.6  1.4  0.2\n",
      "> 2023-01-11 13:14:39,279 [info] Starting remote function deploy\n",
      "2023-01-11 13:14:39  (info) Deploying function\n",
      "2023-01-11 13:14:39  (info) Building\n",
      "2023-01-11 13:14:39  (info) Staging files and preparing base images\n",
      "2023-01-11 13:14:39  (info) Building processor image\n",
      "2023-01-11 13:16:57  (info) Build complete\n",
      "2023-01-11 13:17:33  (info) Function deploy complete\n",
      "> 2023-01-11 13:17:34,104 [info] successfully deployed function: {'internal_invocation_urls': ['nuclio-testing-gs-project-proj1-serving.default-tenant.svc.cluster.local:8080'], 'external_invocation_urls': ['testing-gs-project-proj1-serving-testing-gs-project.default-tenant.app.vmdev94.lab.iguazeng.com/']}\n",
      "> 2023-01-11 13:17:39,161 [info] invoking function: {'method': 'POST', 'path': 'http://nuclio-testing-gs-project-proj1-serving.default-tenant.svc.cluster.local:8080/v2/models/my_model/infer'}\n",
      "> 2023-01-11 13:17:39,638 [info] starting run log-transactions-log_transactions uid=5cbbbcd0ce1646cd944e5cb4e722cf01 DB=http://mlrun-api:8080\n",
      "> 2023-01-11 13:17:41,019 [info] dataframe shape : (150, 4)\n",
      "> 2023-01-11 13:17:42,066 [info] logged model : <class 'xgboost.sklearn.XGBClassifier'>\n",
      "> 2023-01-11 13:17:50,453 [info] logged dataset (150, 5)\n"
     ]
    },
    {
     "data": {
      "text/html": [
       "<style>\n",
       ".dictlist {\n",
       "  background-color: #4EC64B;\n",
       "  text-align: center;\n",
       "  margin: 4px;\n",
       "  border-radius: 3px; padding: 0px 3px 1px 3px; display: inline-block;}\n",
       ".artifact {\n",
       "  cursor: pointer;\n",
       "  background-color: #4EC64B;\n",
       "  text-align: left;\n",
       "  margin: 4px; border-radius: 3px; padding: 0px 3px 1px 3px; display: inline-block;\n",
       "}\n",
       "div.block.hidden {\n",
       "  display: none;\n",
       "}\n",
       ".clickable {\n",
       "  cursor: pointer;\n",
       "}\n",
       ".ellipsis {\n",
       "  display: inline-block;\n",
       "  max-width: 60px;\n",
       "  white-space: nowrap;\n",
       "  overflow: hidden;\n",
       "  text-overflow: ellipsis;\n",
       "}\n",
       ".master-wrapper {\n",
       "  display: flex;\n",
       "  flex-flow: row nowrap;\n",
       "  justify-content: flex-start;\n",
       "  align-items: stretch;\n",
       "}\n",
       ".master-tbl {\n",
       "  flex: 3\n",
       "}\n",
       ".master-wrapper > div {\n",
       "  margin: 4px;\n",
       "  padding: 10px;\n",
       "}\n",
       "iframe.fileview {\n",
       "  border: 0 none;\n",
       "  height: 100%;\n",
       "  width: 100%;\n",
       "  white-space: pre-wrap;\n",
       "}\n",
       ".pane-header-title {\n",
       "  width: 80%;\n",
       "  font-weight: 500;\n",
       "}\n",
       ".pane-header {\n",
       "  line-height: 1;\n",
       "  background-color: #4EC64B;\n",
       "  padding: 3px;\n",
       "}\n",
       ".pane-header .close {\n",
       "  font-size: 20px;\n",
       "  font-weight: 700;\n",
       "  float: right;\n",
       "  margin-top: -5px;\n",
       "}\n",
       ".master-wrapper .right-pane {\n",
       "  border: 1px inset silver;\n",
       "  width: 40%;\n",
       "  min-height: 300px;\n",
       "  flex: 3\n",
       "  min-width: 500px;\n",
       "}\n",
       ".master-wrapper * {\n",
       "  box-sizing: border-box;\n",
       "}\n",
       "</style><script>\n",
       "function copyToClipboard(fld) {\n",
       "    if (document.queryCommandSupported && document.queryCommandSupported('copy')) {\n",
       "        var textarea = document.createElement('textarea');\n",
       "        textarea.textContent = fld.innerHTML;\n",
       "        textarea.style.position = 'fixed';\n",
       "        document.body.appendChild(textarea);\n",
       "        textarea.select();\n",
       "\n",
       "        try {\n",
       "            return document.execCommand('copy'); // Security exception may be thrown by some browsers.\n",
       "        } catch (ex) {\n",
       "\n",
       "        } finally {\n",
       "            document.body.removeChild(textarea);\n",
       "        }\n",
       "    }\n",
       "}\n",
       "function expandPanel(el) {\n",
       "  const panelName = \"#\" + el.getAttribute('paneName');\n",
       "  console.log(el.title);\n",
       "\n",
       "  document.querySelector(panelName + \"-title\").innerHTML = el.title\n",
       "  iframe = document.querySelector(panelName + \"-body\");\n",
       "\n",
       "  const tblcss = `<style> body { font-family: Arial, Helvetica, sans-serif;}\n",
       "    #csv { margin-bottom: 15px; }\n",
       "    #csv table { border-collapse: collapse;}\n",
       "    #csv table td { padding: 4px 8px; border: 1px solid silver;} </style>`;\n",
       "\n",
       "  function csvToHtmlTable(str) {\n",
       "    return '<div id=\"csv\"><table><tr><td>' +  str.replace(/[\\n\\r]+$/g, '').replace(/[\\n\\r]+/g, '</td></tr><tr><td>')\n",
       "      .replace(/,/g, '</td><td>') + '</td></tr></table></div>';\n",
       "  }\n",
       "\n",
       "  function reqListener () {\n",
       "    if (el.title.endsWith(\".csv\")) {\n",
       "      iframe.setAttribute(\"srcdoc\", tblcss + csvToHtmlTable(this.responseText));\n",
       "    } else {\n",
       "      iframe.setAttribute(\"srcdoc\", this.responseText);\n",
       "    }\n",
       "    console.log(this.responseText);\n",
       "  }\n",
       "\n",
       "  const oReq = new XMLHttpRequest();\n",
       "  oReq.addEventListener(\"load\", reqListener);\n",
       "  oReq.open(\"GET\", el.title);\n",
       "  oReq.send();\n",
       "\n",
       "\n",
       "  //iframe.src = el.title;\n",
       "  const resultPane = document.querySelector(panelName + \"-pane\");\n",
       "  if (resultPane.classList.contains(\"hidden\")) {\n",
       "    resultPane.classList.remove(\"hidden\");\n",
       "  }\n",
       "}\n",
       "function closePanel(el) {\n",
       "  const panelName = \"#\" + el.getAttribute('paneName')\n",
       "  const resultPane = document.querySelector(panelName + \"-pane\");\n",
       "  if (!resultPane.classList.contains(\"hidden\")) {\n",
       "    resultPane.classList.add(\"hidden\");\n",
       "  }\n",
       "}\n",
       "\n",
       "</script>\n",
       "<div class=\"master-wrapper\">\n",
       "  <div class=\"block master-tbl\"><div>\n",
       "<style scoped>\n",
       "    .dataframe tbody tr th:only-of-type {\n",
       "        vertical-align: middle;\n",
       "    }\n",
       "\n",
       "    .dataframe tbody tr th {\n",
       "        vertical-align: top;\n",
       "    }\n",
       "\n",
       "    .dataframe thead th {\n",
       "        text-align: right;\n",
       "    }\n",
       "</style>\n",
       "<table border=\"1\" class=\"dataframe\">\n",
       "  <thead>\n",
       "    <tr style=\"text-align: right;\">\n",
       "      <th>project</th>\n",
       "      <th>uid</th>\n",
       "      <th>iter</th>\n",
       "      <th>start</th>\n",
       "      <th>state</th>\n",
       "      <th>name</th>\n",
       "      <th>labels</th>\n",
       "      <th>inputs</th>\n",
       "      <th>parameters</th>\n",
       "      <th>results</th>\n",
       "      <th>artifacts</th>\n",
       "    </tr>\n",
       "  </thead>\n",
       "  <tbody>\n",
       "    <tr>\n",
       "      <td>testing-s3-project</td>\n",
       "      <td><div title=\"5cbbbcd0ce1646cd944e5cb4e722cf01\"><a href=\"https://dashboard.default-tenant.app.vmdev94.lab.iguazeng.com/mlprojects/testing-s3-project/jobs/monitor/5cbbbcd0ce1646cd944e5cb4e722cf01/overview\" target=\"_blank\" >...e722cf01</a></div></td>\n",
       "      <td>0</td>\n",
       "      <td>Jan 11 13:17:39</td>\n",
       "      <td>completed</td>\n",
       "      <td>log-transactions-log_transactions</td>\n",
       "      <td><div class=\"dictlist\">v3io_user=admin</div><div class=\"dictlist\">kind=</div><div class=\"dictlist\">owner=admin</div><div class=\"dictlist\">host=jupyter-6479d4cd8c-rnxrj</div></td>\n",
       "      <td></td>\n",
       "      <td></td>\n",
       "      <td></td>\n",
       "      <td><div title=\"s3://testbucket-igz/cross_project/log-transactions-log_transactions/0/encoded_iris-s3.csv\">encoded_iris-s3</div><div title=\"s3://testbucket-igz/cross_project/log-transactions-log_transactions/0/bst_model/\">bst_model</div><div title=\"s3://testbucket-igz/cross_project/\">my_project</div><div title=\"s3://testbucket-igz/cross_project/log-transactions-log_transactions/0/iris_dataset-s3.csv\">iris_dataset-s3</div></td>\n",
       "    </tr>\n",
       "  </tbody>\n",
       "</table>\n",
       "</div></div>\n",
       "  <div id=\"resultdf0a607e-pane\" class=\"right-pane block hidden\">\n",
       "    <div class=\"pane-header\">\n",
       "      <span id=\"resultdf0a607e-title\" class=\"pane-header-title\">Title</span>\n",
       "      <span onclick=\"closePanel(this)\" paneName=\"resultdf0a607e\" class=\"close clickable\">&times;</span>\n",
       "    </div>\n",
       "    <iframe class=\"fileview\" id=\"resultdf0a607e-body\"></iframe>\n",
       "  </div>\n",
       "</div>\n"
      ],
      "text/plain": [
       "<IPython.core.display.HTML object>"
      ]
     },
     "metadata": {},
     "output_type": "display_data"
    },
    {
     "name": "stdout",
     "output_type": "stream",
     "text": [
      "\n"
     ]
    },
    {
     "data": {
      "text/html": [
       "<b> > to track results use the .show() or .logs() methods  or <a href=\"https://dashboard.default-tenant.app.vmdev94.lab.iguazeng.com/mlprojects/testing-s3-project/jobs/monitor/5cbbbcd0ce1646cd944e5cb4e722cf01/overview\" target=\"_blank\">click here</a> to open in UI</b>"
      ],
      "text/plain": [
       "<IPython.core.display.HTML object>"
      ]
     },
     "metadata": {},
     "output_type": "display_data"
    },
    {
     "name": "stdout",
     "output_type": "stream",
     "text": [
      "> 2023-01-11 13:17:50,568 [info] run executed, status=completed\n",
      "> 2023-01-11 13:17:50,712 [info] Starting remote function deploy\n",
      "2023-01-11 13:17:50  (info) Deploying function\n",
      "2023-01-11 13:17:50  (info) Building\n",
      "2023-01-11 13:17:50  (info) Staging files and preparing base images\n",
      "2023-01-11 13:17:50  (info) Building processor image\n",
      "2023-01-11 13:18:45  (info) Build complete\n",
      "2023-01-11 13:19:33  (info) Function deploy complete\n",
      "> 2023-01-11 13:19:34,303 [info] successfully deployed function: {'internal_invocation_urls': ['nuclio-testing-v3io-project-proj1-remote-func.default-tenant.svc.cluster.local:8080'], 'external_invocation_urls': ['testing-v3io-project-proj1-remote-func-testing-v3io-project.default-tenant.app.vmdev94.lab.iguazeng.com/']}\n",
      "> 2023-01-11 13:19:39,361 [info] invoking function: {'method': 'GET', 'path': 'http://nuclio-testing-v3io-project-proj1-remote-func.default-tenant.svc.cluster.local:8080/'}\n"
     ]
    },
    {
     "data": {
      "text/plain": [
       "b'Waking up !'"
      ]
     },
     "execution_count": 30,
     "metadata": {},
     "output_type": "execute_result"
    }
   ],
   "source": [
    "# Testing the imported artifacts\n",
    "# Artifact\n",
    "gs_encoded_dataset = pd.DataFrame(json.loads(gs_project.get_artifact('encoded_iris').to_dataitem().get()))\n",
    "print('gs project artifact\\n', gs_encoded_dataset.head(), '\\n\\n')\n",
    "\n",
    "# Dataset\n",
    "s3_dataset = s3_project.get_artifact('dataset').to_dataitem().as_df()\n",
    "print('s3 project artifact\\n',s3_dataset.head())\n",
    "\n",
    "# Model\n",
    "v3io_model = pickle.loads(v3io_project.get_artifact('model')._get_file_body())\n",
    "v3io_model.predict(gs_encoded_dataset[:5])\n",
    "\n",
    "# Directory\n",
    "gs_dir = gs_project.get_artifact('dir').to_dataitem().listdir()\n",
    "\n",
    "# Testing imported functions\n",
    "# Serving function\n",
    "gs_project.get_function('serving').deploy()\n",
    "time.sleep(5)\n",
    "gs_project.get_function('serving').invoke(\n",
    "    path='/v2/models/my_model/infer', \n",
    "    body={'inputs': gs_encoded_dataset.values[-5:].tolist()}\n",
    ")\n",
    "\n",
    "# mlrun function\n",
    "s3_project.run_function('mlrun_func',local=True)\n",
    "\n",
    "## nuclio function\n",
    "v3io_project.deploy_function('remote_func')\n",
    "\n",
    "time.sleep(5)\n",
    "v3io_project.get_function('remote_func').invoke('')"
   ]
  },
  {
   "cell_type": "markdown",
   "id": "c68b3783",
   "metadata": {},
   "source": [
    "## Cleanup"
   ]
  },
  {
   "cell_type": "code",
   "execution_count": 31,
   "id": "373d645b",
   "metadata": {},
   "outputs": [],
   "source": [
    "projects = [project1,project2,gs_project,s3_project,v3io_project, new_project]\n",
    "for project in projects:\n",
    "    mlrun.get_run_db().delete_project(name=project.name, deletion_strategy='cascade')\n",
    "\n",
    "import shutil\n",
    "for f in os.listdir():\n",
    "    if (not f.endswith('ipynb')) and f != '.test':\n",
    "        if os.path.isfile(f):\n",
    "            os.remove(f)\n",
    "        elif os.path.isdir(f):\n",
    "            shutil.rmtree(f)\n",
    "        else:\n",
    "            raise \"A file that is not a notebook wasn't deleted\""
   ]
  },
  {
   "cell_type": "code",
   "execution_count": 32,
   "id": "dfdabaef",
   "metadata": {},
   "outputs": [
    {
     "data": {
      "text/plain": [
       "[{'ResponseMetadata': {'RequestId': 'G3XBPP1C33AKNKM9',\n",
       "   'HostId': 'K0wGC0ZHzfXGkvrmFW8V3oAa5MiBBl+NeRlmzPcwR9qg8RVDJO75VC6GDtRnRy+eUBRkNmurBQs=',\n",
       "   'HTTPStatusCode': 200,\n",
       "   'HTTPHeaders': {'x-amz-id-2': 'K0wGC0ZHzfXGkvrmFW8V3oAa5MiBBl+NeRlmzPcwR9qg8RVDJO75VC6GDtRnRy+eUBRkNmurBQs=',\n",
       "    'x-amz-request-id': 'G3XBPP1C33AKNKM9',\n",
       "    'date': 'Wed, 11 Jan 2023 13:20:20 GMT',\n",
       "    'content-type': 'application/xml',\n",
       "    'transfer-encoding': 'chunked',\n",
       "    'server': 'AmazonS3',\n",
       "    'connection': 'close'},\n",
       "   'RetryAttempts': 0},\n",
       "  'Deleted': [{'Key': 'cross_project/log-transactions-log_transactions/0/bst_model/model_spec.yaml'},\n",
       "   {'Key': 'cross_project/log-transactions-log_transactions/0/encoded_iris-s3.csv'},\n",
       "   {'Key': 'cross_project/new_project.zip'},\n",
       "   {'Key': 'cross_project/log-transactions-log_transactions/0/bst_model/bst.pkl'},\n",
       "   {'Key': 'cross_project/log-transactions-log_transactions/0/iris_dataset-s3.csv'}]}]"
      ]
     },
     "execution_count": 32,
     "metadata": {},
     "output_type": "execute_result"
    }
   ],
   "source": [
    "import boto3\n",
    "from urllib.parse import urlparse\n",
    "\n",
    "s3 = boto3.resource('s3')\n",
    "bucket = s3.Bucket(urlparse(project.artifact_path).netloc)\n",
    "bucket.objects.filter(Prefix=urlparse(project.artifact_path).path[1:]).delete()"
   ]
  }
 ],
 "metadata": {
  "kernelspec": {
   "display_name": "Python 3",
   "language": "python",
   "name": "python3"
  },
  "language_info": {
   "codemirror_mode": {
    "name": "ipython",
    "version": 3
   },
   "file_extension": ".py",
   "mimetype": "text/x-python",
   "name": "python",
   "nbconvert_exporter": "python",
   "pygments_lexer": "ipython3",
   "version": "3.7.6"
  }
 },
 "nbformat": 4,
 "nbformat_minor": 5
}
