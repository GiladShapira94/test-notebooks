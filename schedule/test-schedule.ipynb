{
 "cells": [
  {
   "cell_type": "markdown",
   "id": "0772cb1b",
   "metadata": {},
   "source": [
    "# Checking schedules"
   ]
  },
  {
   "cell_type": "markdown",
   "id": "f7fbf842",
   "metadata": {},
   "source": [
    "This notebook contains:\n",
    "1. Checking that the schedules submitted correctly via different flows (workflow, cli and run_function).\n",
    "2. The access key of the schedule is not exposed.\n",
    "3. Overwriting workflow scheduling works."
   ]
  },
  {
   "cell_type": "code",
   "execution_count": 1,
   "id": "c76b7888",
   "metadata": {},
   "outputs": [],
   "source": [
    "%config Completer.use_jedi = False"
   ]
  },
  {
   "cell_type": "code",
   "execution_count": 2,
   "id": "52be8c5a",
   "metadata": {},
   "outputs": [],
   "source": [
    "import mlrun\n",
    "import os"
   ]
  },
  {
   "cell_type": "code",
   "execution_count": 3,
   "id": "2a3393d0",
   "metadata": {},
   "outputs": [],
   "source": [
    "run_db = mlrun.get_run_db()"
   ]
  },
  {
   "cell_type": "markdown",
   "id": "8faa69c2",
   "metadata": {},
   "source": [
    "## Loading project with workflows"
   ]
  },
  {
   "cell_type": "code",
   "execution_count": 4,
   "id": "d1a216f4",
   "metadata": {},
   "outputs": [],
   "source": [
    "PROJECT_NAME = \"schedule-test\""
   ]
  },
  {
   "cell_type": "code",
   "execution_count": 5,
   "id": "9fab0d72",
   "metadata": {},
   "outputs": [],
   "source": [
    "project = mlrun.load_project(f\"./{PROJECT_NAME}\", \"git://github.com/mlrun/project-demo.git\", PROJECT_NAME, allow_cross_project=True)"
   ]
  },
  {
   "cell_type": "code",
   "execution_count": 6,
   "id": "2f466b11",
   "metadata": {},
   "outputs": [],
   "source": [
    "def assert_schedule_access_key_is_not_exposed(name: str):\n",
    "    schedule = run_db.api_call(\"GET\", f\"projects/{project.name}/schedules/{name}\", params={\"include-credentials\": True}).json()\n",
    "    assert schedule[\"credentials\"][\"access_key\"].startswith(\"$ref:mlrun-auth-secrets.\")\n",
    "    print(\"Pass!\")\n",
    "\n",
    "def assert_schedule_overwritten(name: str, schedule: str):\n",
    "    scheduled_job = run_db.get_schedule(project.name, name)\n",
    "    assert scheduled_job.scheduled_object[\"schedule\"] == schedule\n",
    "    print(\"Pass!\")\n",
    "    "
   ]
  },
  {
   "cell_type": "markdown",
   "id": "487e218c",
   "metadata": {},
   "source": [
    "## Running the workflow"
   ]
  },
  {
   "cell_type": "code",
   "execution_count": 7,
   "id": "ac49647d",
   "metadata": {},
   "outputs": [],
   "source": [
    "out = os.system(f\"cd ./{PROJECT_NAME}; git config --global --add safe.directory {os.path.abspath(PROJECT_NAME)}\")"
   ]
  },
  {
   "cell_type": "code",
   "execution_count": 8,
   "id": "35f2f449",
   "metadata": {},
   "outputs": [
    {
     "name": "stdout",
     "output_type": "stream",
     "text": [
      "> 2022-12-12 09:06:56,735 [warning] WARNING!, you seem to have uncommitted git changes, use .push()\n",
      "> 2022-12-12 09:06:57,333 [info] executing workflow scheduling 'workflow-runner-main' remotely with kfp engine\n",
      "> 2022-12-12 09:06:57,337 [info] starting run main uid=c4d4debef8fa4f2888bf4aa4bf0a771e DB=http://mlrun-api:8080\n",
      "> 2022-12-12 09:06:57,629 [info] task scheduled, {'schedule': '*/10 * * * *', 'project': 'schedule-test', 'name': 'main'}\n"
     ]
    }
   ],
   "source": [
    "project.run(\"main\", schedule=\"*/10 * * * *\")"
   ]
  },
  {
   "cell_type": "code",
   "execution_count": 9,
   "id": "a0edad21",
   "metadata": {},
   "outputs": [
    {
     "name": "stdout",
     "output_type": "stream",
     "text": [
      "Pass!\n"
     ]
    }
   ],
   "source": [
    "assert_schedule_access_key_is_not_exposed(\"main\")"
   ]
  },
  {
   "cell_type": "markdown",
   "id": "92b0b21e",
   "metadata": {},
   "source": [
    "## Overwriting a schedule "
   ]
  },
  {
   "cell_type": "code",
   "execution_count": 10,
   "id": "8e24076e",
   "metadata": {},
   "outputs": [
    {
     "name": "stdout",
     "output_type": "stream",
     "text": [
      "> 2022-12-12 09:06:57,778 [warning] WARNING!, you seem to have uncommitted git changes, use .push()\n",
      "> 2022-12-12 09:06:57,819 [info] Deleting schedule main\n",
      "> 2022-12-12 09:06:57,883 [info] executing workflow scheduling 'workflow-runner-main' remotely with kfp engine\n",
      "> 2022-12-12 09:06:57,885 [info] starting run main uid=8333c1cf9538476c8f956d054113b09b DB=http://mlrun-api:8080\n",
      "> 2022-12-12 09:06:58,130 [info] task scheduled, {'schedule': '*/20 * * * *', 'project': 'schedule-test', 'name': 'main'}\n"
     ]
    }
   ],
   "source": [
    "project.run(\"main\", schedule=\"*/20 * * * *\", dirty=True)"
   ]
  },
  {
   "cell_type": "code",
   "execution_count": 11,
   "id": "0fbf6af7",
   "metadata": {},
   "outputs": [
    {
     "name": "stdout",
     "output_type": "stream",
     "text": [
      "Pass!\n",
      "Pass!\n"
     ]
    }
   ],
   "source": [
    "assert_schedule_access_key_is_not_exposed(\"main\")\n",
    "assert_schedule_overwritten(\"main\", \"*/20 * * * *\")"
   ]
  },
  {
   "cell_type": "markdown",
   "id": "ac3b9ebb",
   "metadata": {},
   "source": [
    "### Check from CLI"
   ]
  },
  {
   "cell_type": "code",
   "execution_count": 12,
   "id": "a773b93e",
   "metadata": {},
   "outputs": [
    {
     "name": "stdout",
     "output_type": "stream",
     "text": [
      "Loading project schedule-test into ./schedule-test:\n",
      "\n",
      "kind: project\n",
      "metadata:\n",
      "  name: schedule-test\n",
      "spec:\n",
      "  description: test\n",
      "  params:\n",
      "    label_column: label\n",
      "  functions:\n",
      "  - url: prep_data.py\n",
      "    name: prep-data\n",
      "    image: mlrun/mlrun\n",
      "    handler: prep_data\n",
      "    with_repo: true\n",
      "  - url: hub://sklearn_classifier\n",
      "    name: train\n",
      "  - url: hub://test_classifier\n",
      "    name: test\n",
      "  - url: hub://v2_model_server\n",
      "    name: serve\n",
      "  - url: gen_iris.py\n",
      "    name: gen-iris\n",
      "    image: mlrun/mlrun\n",
      "    handler: iris_generator\n",
      "    requirements:\n",
      "    - requests\n",
      "  workflows:\n",
      "  - engine: kfp\n",
      "    path: ./kflow.py\n",
      "    name: main\n",
      "  - path: ./newflow.py\n",
      "    name: newflow\n",
      "    handler: newpipe\n",
      "  artifacts:\n",
      "  - kind: ''\n",
      "    target_path: https://s3.wasabisys.com/iguazio/data/iris/iris.data.raw.csv\n",
      "    key: data\n",
      "  source: git://github.com/mlrun/project-demo.git#refs/heads/main\n",
      "  origin_url: git://github.com/mlrun/project-demo.git#refs/heads/main\n",
      "  load_source_on_run: true\n",
      "  desired_state: online\n",
      "\n",
      "running workflow main file: None\n",
      "> 2022-12-12 09:07:05,999 [warning] WARNING!, you seem to have uncommitted git changes, use .push()\n",
      "> 2022-12-12 09:07:06,425 [info] Deleting schedule main\n",
      "> 2022-12-12 09:07:06,473 [info] executing workflow scheduling 'workflow-runner-main' remotely with kfp engine\n",
      "> 2022-12-12 09:07:06,476 [info] starting run main uid=b4558029200140fa82b1f7f626a3dbe2 DB=http://mlrun-api:8080\n",
      "> 2022-12-12 09:07:06,720 [info] task scheduled, {'schedule': '*/15 * * * *', 'project': 'schedule-test', 'name': 'main'}\n",
      "\n"
     ]
    }
   ],
   "source": [
    "out = os.popen(f\"mlrun project ./{PROJECT_NAME} -r main -d --schedule '*/15 * * * *'\").read()\n",
    "print(out)"
   ]
  },
  {
   "cell_type": "code",
   "execution_count": 13,
   "id": "c31357cf",
   "metadata": {},
   "outputs": [
    {
     "name": "stdout",
     "output_type": "stream",
     "text": [
      "Pass!\n",
      "Pass!\n"
     ]
    }
   ],
   "source": [
    "assert_schedule_access_key_is_not_exposed(\"main\")\n",
    "assert_schedule_overwritten(\"main\", \"*/15 * * * *\")"
   ]
  },
  {
   "cell_type": "markdown",
   "id": "b8601333",
   "metadata": {},
   "source": [
    "## Check function scheduling"
   ]
  },
  {
   "cell_type": "code",
   "execution_count": 14,
   "id": "c529944a",
   "metadata": {},
   "outputs": [
    {
     "name": "stdout",
     "output_type": "stream",
     "text": [
      "> 2022-12-12 09:07:07,346 [info] starting run data-preparation uid=47dd2874dfe74fa98447ccb41c3979ad DB=http://mlrun-api:8080\n",
      "> 2022-12-12 09:07:07,580 [info] task scheduled, {'schedule': '*/10 * * * *', 'project': 'schedule-test', 'name': 'data-preparation'}\n"
     ]
    }
   ],
   "source": [
    "mlrun.run_function(\"prep-data\", schedule=\"*/10 * * * *\", name=\"data-preparation\")"
   ]
  },
  {
   "cell_type": "code",
   "execution_count": 15,
   "id": "6d0003d6",
   "metadata": {},
   "outputs": [
    {
     "name": "stdout",
     "output_type": "stream",
     "text": [
      "Pass!\n"
     ]
    }
   ],
   "source": [
    "assert_schedule_access_key_is_not_exposed(\"data-preparation\")"
   ]
  }
 ],
 "metadata": {
  "kernelspec": {
   "display_name": "Python 3",
   "language": "python",
   "name": "python3"
  },
  "language_info": {
   "codemirror_mode": {
    "name": "ipython",
    "version": 3
   },
   "file_extension": ".py",
   "mimetype": "text/x-python",
   "name": "python",
   "nbconvert_exporter": "python",
   "pygments_lexer": "ipython3",
   "version": "3.7.6"
  }
 },
 "nbformat": 4,
 "nbformat_minor": 5
}
