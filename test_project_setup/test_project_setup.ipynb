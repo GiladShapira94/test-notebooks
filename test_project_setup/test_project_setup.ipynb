{
 "cells": [
  {
   "cell_type": "code",
   "execution_count": 1,
   "id": "4ede6265-c27f-4e40-8853-29e84576b3a8",
   "metadata": {},
   "outputs": [],
   "source": [
    "import mlrun\n",
    "from dotenv import load_dotenv"
   ]
  },
  {
   "cell_type": "markdown",
   "id": "4373bef7-23c5-4acf-a6f8-dce12f7ca395",
   "metadata": {},
   "source": [
    "### Load project"
   ]
  },
  {
   "cell_type": "code",
   "execution_count": 2,
   "id": "5303e1df-3408-4333-b608-3715ebda2ecc",
   "metadata": {},
   "outputs": [],
   "source": [
    "SOURCE = \"https://github.com/mlrun/test-notebooks#main\"\n",
    "SECRETS_FILE = \"mock_secrets.env\"\n",
    "DEFAULT_IMAGE = \"mlrun/mlrun:1.5.1\"\n",
    "\n",
    "PARAMTERS = {\n",
    "    \"source\" : SOURCE,\n",
    "    \"secrets_file\" : SECRETS_FILE,\n",
    "    \"default_image\" : DEFAULT_IMAGE\n",
    "}"
   ]
  },
  {
   "cell_type": "code",
   "execution_count": 3,
   "id": "13046789-f971-45fe-910e-992711212a58",
   "metadata": {},
   "outputs": [
    {
     "name": "stdout",
     "output_type": "stream",
     "text": [
      "> 2023-11-09 00:22:09,911 [info] Created and saved project: {'name': 'test-project-setup', 'from_template': None, 'overwrite': False, 'context': './', 'save': True}\n",
      "Project Source: https://github.com/mlrun/test-notebooks#main\n",
      "> 2023-11-09 00:22:09,922 [warning] Failed to add git metadata, ignore if path is not part of a git repo.: {'path': './', 'error': '/User/test_project_setup'}\n",
      "> 2023-11-09 00:22:10,014 [warning] Failed to add git metadata, ignore if path is not part of a git repo.: {'path': 'src', 'error': '/User/test_project_setup/src'}\n",
      "> 2023-11-09 00:22:10,034 [warning] Failed to add git metadata, ignore if path is not part of a git repo.: {'path': 'src', 'error': '/User/test_project_setup/src'}\n",
      "> 2023-11-09 00:22:10,350 [info] Project created successfully: {'project_name': 'test-project-setup', 'stored_in_db': True}\n"
     ]
    }
   ],
   "source": [
    "project = mlrun.get_or_create_project(name=\"test-project-setup\", parameters=PARAMTERS)"
   ]
  },
  {
   "cell_type": "markdown",
   "id": "8ae7cf2f-247b-4966-ac94-a90b9729d6ff",
   "metadata": {},
   "source": [
    "### Check source"
   ]
  },
  {
   "cell_type": "code",
   "execution_count": 4,
   "id": "b4e2c00e-bc1a-4cb0-93cb-b91a6d55fffa",
   "metadata": {},
   "outputs": [],
   "source": [
    "assert project.source == SOURCE"
   ]
  },
  {
   "cell_type": "code",
   "execution_count": 5,
   "id": "f218add8-0364-4aa3-a417-a3388a2f8f8e",
   "metadata": {},
   "outputs": [],
   "source": [
    "assert project.spec.load_source_on_run == True"
   ]
  },
  {
   "cell_type": "markdown",
   "id": "3df10c14-896f-481e-81df-cc6d9935cc47",
   "metadata": {
    "tags": []
   },
   "source": [
    "### Check functions"
   ]
  },
  {
   "cell_type": "code",
   "execution_count": 6,
   "id": "cea0e7a0-483b-4a0b-9a1e-fdd5b59ca618",
   "metadata": {},
   "outputs": [],
   "source": [
    "assert len(project.spec.functions) == 2"
   ]
  },
  {
   "cell_type": "code",
   "execution_count": 7,
   "id": "c945453d-ecd4-4bdd-aa4c-dc1d526539ad",
   "metadata": {},
   "outputs": [],
   "source": [
    "functions = [\"get-data\", \"train\"]\n",
    "functions_check = []"
   ]
  },
  {
   "cell_type": "code",
   "execution_count": 8,
   "id": "84c78f26-1af6-4dfb-87bf-2cd7cb2474b8",
   "metadata": {},
   "outputs": [],
   "source": [
    "for f in project.spec.functions:\n",
    "    functions_check.append(f[\"name\"])"
   ]
  },
  {
   "cell_type": "code",
   "execution_count": 9,
   "id": "a7ec9b00-86fb-4d8c-9177-436dc73a04a3",
   "metadata": {},
   "outputs": [],
   "source": [
    "assert functions == functions_check"
   ]
  },
  {
   "cell_type": "markdown",
   "id": "b3afd711-44a7-4926-a9c7-075bf8d63b41",
   "metadata": {},
   "source": [
    "### Check workflows"
   ]
  },
  {
   "cell_type": "code",
   "execution_count": 10,
   "id": "11a61432-f24e-4726-a3c0-5c1cd17ad676",
   "metadata": {},
   "outputs": [],
   "source": [
    "assert len(project.spec.workflows) == 1"
   ]
  },
  {
   "cell_type": "code",
   "execution_count": 11,
   "id": "b77c79e9-6fc7-4d51-9c0d-469da6fabfda",
   "metadata": {},
   "outputs": [],
   "source": [
    "workflows = [\"main\"]\n",
    "workflows_check = []"
   ]
  },
  {
   "cell_type": "code",
   "execution_count": 12,
   "id": "1f58cd31-9185-4f38-9cc1-387f06ebc1c5",
   "metadata": {},
   "outputs": [],
   "source": [
    "for w in project.spec.workflows:\n",
    "    workflows_check.append(w[\"name\"])"
   ]
  },
  {
   "cell_type": "code",
   "execution_count": 13,
   "id": "50743d2d-728d-4bb1-b390-4b04f397956f",
   "metadata": {},
   "outputs": [],
   "source": [
    "assert workflows == workflows_check"
   ]
  },
  {
   "cell_type": "markdown",
   "id": "580ef0b4-69c8-4dfa-adef-bc8f9d50b472",
   "metadata": {},
   "source": [
    "### Check params"
   ]
  },
  {
   "cell_type": "code",
   "execution_count": 14,
   "id": "b11615ae-6698-4ad2-b271-be51426ae8a2",
   "metadata": {},
   "outputs": [],
   "source": [
    "assert project.spec.params == PARAMTERS"
   ]
  },
  {
   "cell_type": "markdown",
   "id": "44f8793c-27d7-4beb-bb43-a493ac1f3401",
   "metadata": {},
   "source": [
    "### Check project image"
   ]
  },
  {
   "cell_type": "code",
   "execution_count": 15,
   "id": "2ad879ff-c08b-4582-b7ae-b848e1c03a79",
   "metadata": {},
   "outputs": [],
   "source": [
    "assert project.default_image == DEFAULT_IMAGE"
   ]
  },
  {
   "cell_type": "markdown",
   "id": "ec2d3e83-1433-4854-8d76-9b979d719a02",
   "metadata": {},
   "source": [
    "### Check project secrets"
   ]
  },
  {
   "cell_type": "code",
   "execution_count": 16,
   "id": "eda5d66f-dbb6-443f-bdc6-6ae6b02b0ab4",
   "metadata": {},
   "outputs": [],
   "source": [
    "# Get dict with secret file contents for comparison\n",
    "secret_dict = dict(mlrun.set_env_from_file(SECRETS_FILE, return_dict=True))"
   ]
  },
  {
   "cell_type": "code",
   "execution_count": 17,
   "id": "5482093f-048b-4126-9953-31ba292950d1",
   "metadata": {},
   "outputs": [],
   "source": [
    "# Cannot check secret contents but can check keys\n",
    "db = mlrun.get_run_db()\n",
    "secret_keys = db.list_project_secret_keys(project=project.metadata.name)"
   ]
  },
  {
   "cell_type": "code",
   "execution_count": 18,
   "id": "fe53ff48-a631-41a7-87de-6907df096206",
   "metadata": {},
   "outputs": [],
   "source": [
    "assert set(secret_keys.secret_keys) == set(secret_dict.keys())"
   ]
  },
  {
   "cell_type": "markdown",
   "id": "debd62ae-2f94-4f57-9d7b-83721ddb7a0c",
   "metadata": {},
   "source": [
    "### Run workflow"
   ]
  },
  {
   "cell_type": "code",
   "execution_count": 19,
   "id": "257b37b9-0e30-417f-9656-7dafbe41939e",
   "metadata": {},
   "outputs": [
    {
     "data": {
      "text/html": [
       "<div>Pipeline running (id=33a5fa4c-358f-4f79-ba40-24a1c4d84574), <a href=\"https://dashboard.default-tenant.app.task-force-1.iguazio-cd2.com/mlprojects/test-project-setup/jobs/monitor-workflows/workflow/33a5fa4c-358f-4f79-ba40-24a1c4d84574\" target=\"_blank\"><b>click here</b></a> to view the details in MLRun UI</div>"
      ],
      "text/plain": [
       "<IPython.core.display.HTML object>"
      ]
     },
     "metadata": {},
     "output_type": "display_data"
    },
    {
     "data": {
      "image/svg+xml": [
       "<?xml version=\"1.0\" encoding=\"UTF-8\" standalone=\"no\"?>\n",
       "<!DOCTYPE svg PUBLIC \"-//W3C//DTD SVG 1.1//EN\"\n",
       " \"http://www.w3.org/Graphics/SVG/1.1/DTD/svg11.dtd\">\n",
       "<!-- Generated by graphviz version 2.43.0 (0)\n",
       " -->\n",
       "<!-- Title: kfp Pages: 1 -->\n",
       "<svg width=\"107pt\" height=\"116pt\"\n",
       " viewBox=\"0.00 0.00 106.79 116.00\" xmlns=\"http://www.w3.org/2000/svg\" xmlns:xlink=\"http://www.w3.org/1999/xlink\">\n",
       "<g id=\"graph0\" class=\"graph\" transform=\"scale(1 1) rotate(0) translate(4 112)\">\n",
       "<title>kfp</title>\n",
       "<polygon fill=\"white\" stroke=\"transparent\" points=\"-4,4 -4,-112 102.79,-112 102.79,4 -4,4\"/>\n",
       "<!-- batch&#45;pipeline&#45;s6npr&#45;3006884695 -->\n",
       "<g id=\"node1\" class=\"node\">\n",
       "<title>batch&#45;pipeline&#45;s6npr&#45;3006884695</title>\n",
       "<ellipse fill=\"green\" stroke=\"black\" cx=\"49.4\" cy=\"-90\" rx=\"49.29\" ry=\"18\"/>\n",
       "<text text-anchor=\"middle\" x=\"49.4\" y=\"-86.3\" font-family=\"Times,serif\" font-size=\"14.00\">get&#45;data</text>\n",
       "</g>\n",
       "<!-- batch&#45;pipeline&#45;s6npr&#45;4280299606 -->\n",
       "<g id=\"node2\" class=\"node\">\n",
       "<title>batch&#45;pipeline&#45;s6npr&#45;4280299606</title>\n",
       "<ellipse fill=\"green\" stroke=\"black\" cx=\"49.4\" cy=\"-18\" rx=\"33.29\" ry=\"18\"/>\n",
       "<text text-anchor=\"middle\" x=\"49.4\" y=\"-14.3\" font-family=\"Times,serif\" font-size=\"14.00\">train</text>\n",
       "</g>\n",
       "<!-- batch&#45;pipeline&#45;s6npr&#45;3006884695&#45;&gt;batch&#45;pipeline&#45;s6npr&#45;4280299606 -->\n",
       "<g id=\"edge1\" class=\"edge\">\n",
       "<title>batch&#45;pipeline&#45;s6npr&#45;3006884695&#45;&gt;batch&#45;pipeline&#45;s6npr&#45;4280299606</title>\n",
       "<path fill=\"none\" stroke=\"black\" d=\"M49.4,-71.7C49.4,-63.98 49.4,-54.71 49.4,-46.11\"/>\n",
       "<polygon fill=\"black\" stroke=\"black\" points=\"52.9,-46.1 49.4,-36.1 45.9,-46.1 52.9,-46.1\"/>\n",
       "</g>\n",
       "</g>\n",
       "</svg>\n"
      ],
      "text/plain": [
       "<graphviz.graphs.Digraph at 0x7fa174d91520>"
      ]
     },
     "metadata": {},
     "output_type": "display_data"
    },
    {
     "data": {
      "text/html": [
       "<h2>Run Results</h2><h3>[info] Workflow 33a5fa4c-358f-4f79-ba40-24a1c4d84574 finished, state=Succeeded</h3><br>click the hyper links below to see detailed results<br><table border=\"1\" class=\"dataframe\">\n",
       "  <thead>\n",
       "    <tr style=\"text-align: right;\">\n",
       "      <th>uid</th>\n",
       "      <th>start</th>\n",
       "      <th>state</th>\n",
       "      <th>name</th>\n",
       "      <th>parameters</th>\n",
       "      <th>results</th>\n",
       "    </tr>\n",
       "  </thead>\n",
       "  <tbody>\n",
       "    <tr>\n",
       "      <td><div title=\"51b42393b803470e8e0b20a150b5bafd\"><a href=\"https://dashboard.default-tenant.app.task-force-1.iguazio-cd2.com/mlprojects/test-project-setup/jobs/monitor/51b42393b803470e8e0b20a150b5bafd/overview\" target=\"_blank\" >...50b5bafd</a></div></td>\n",
       "      <td>Nov 09 00:22:42</td>\n",
       "      <td>completed</td>\n",
       "      <td>train</td>\n",
       "      <td><div class=\"dictlist\">label_column=label</div><div class=\"dictlist\">model_name=model</div><div class=\"dictlist\">test_size=0.2</div><div class=\"dictlist\">random_state=42</div></td>\n",
       "      <td><div class=\"dictlist\">accuracy=0.986</div><div class=\"dictlist\">f1_score=0.9860834990059643</div><div class=\"dictlist\">precision_score=0.9959839357429718</div><div class=\"dictlist\">recall_score=0.9763779527559056</div></td>\n",
       "    </tr>\n",
       "    <tr>\n",
       "      <td><div title=\"603befa764e04081861ce35749ec7d94\"><a href=\"https://dashboard.default-tenant.app.task-force-1.iguazio-cd2.com/mlprojects/test-project-setup/jobs/monitor/603befa764e04081861ce35749ec7d94/overview\" target=\"_blank\" >...49ec7d94</a></div></td>\n",
       "      <td>Nov 09 00:22:18</td>\n",
       "      <td>completed</td>\n",
       "      <td>get-data</td>\n",
       "      <td><div class=\"dictlist\">label_column=label</div></td>\n",
       "      <td><div class=\"dictlist\">num_rows=2500</div></td>\n",
       "    </tr>\n",
       "  </tbody>\n",
       "</table>"
      ],
      "text/plain": [
       "<IPython.core.display.HTML object>"
      ]
     },
     "metadata": {},
     "output_type": "display_data"
    }
   ],
   "source": [
    "run_uid = project.run(\n",
    "    name=\"main\",\n",
    "    arguments={\n",
    "        \"dataset\" : \"https://s3.wasabisys.com/iguazio/data/batch-predict/training_set.parquet\",\n",
    "        \"label_column\" : \"label\",\n",
    "        \"model_name\" : \"model\",\n",
    "        \"test_size\" : 0.2,\n",
    "        \"random_state\" : 42\n",
    "    },\n",
    "    watch=True,\n",
    "    dirty=True\n",
    ")"
   ]
  },
  {
   "cell_type": "markdown",
   "id": "e03415ec-6940-41c3-87b6-42c02102410b",
   "metadata": {},
   "source": [
    "### Check run outputs"
   ]
  },
  {
   "cell_type": "code",
   "execution_count": 20,
   "id": "e3e31499-3b00-4114-b761-02e2421cfd67",
   "metadata": {},
   "outputs": [],
   "source": [
    "workflow_runs = project.list_runs(labels=f\"workflow={run_uid}\").to_objects()"
   ]
  },
  {
   "cell_type": "code",
   "execution_count": 21,
   "id": "82043ec5-7e18-478c-9f68-2d7cf6070ce5",
   "metadata": {},
   "outputs": [],
   "source": [
    "assert len(workflow_runs) == 2"
   ]
  },
  {
   "cell_type": "code",
   "execution_count": 22,
   "id": "ad9e0ec1-93e9-4f4d-92e8-b962de6a185e",
   "metadata": {},
   "outputs": [],
   "source": [
    "DATA_OUTPUTS = ['num_rows', 'cleaned_data']\n",
    "TRAIN_OUTPUTS = [\n",
    "    'accuracy',\n",
    "    'f1_score',\n",
    "    'precision_score',\n",
    "    'recall_score',\n",
    "    'feature-importance',\n",
    "    'test_set',\n",
    "    'confusion-matrix',\n",
    "    'roc-curves',\n",
    "    'calibration-curve',\n",
    "    'model'\n",
    "]"
   ]
  },
  {
   "cell_type": "code",
   "execution_count": 23,
   "id": "874b90dc-f284-4b94-94a6-002eb42a90d0",
   "metadata": {},
   "outputs": [],
   "source": [
    "for run in workflow_runs:\n",
    "    assert run.metadata.name in [\"get-data\", \"train\"]\n",
    "    if run.metadata.name == \"get-data\":\n",
    "        assert list(run.outputs.keys()) == DATA_OUTPUTS\n",
    "    elif run.metadata.name == \"train\":\n",
    "        assert list(run.outputs.keys()) == TRAIN_OUTPUTS"
   ]
  },
  {
   "cell_type": "markdown",
   "id": "70088bb0-47f4-4f66-b25b-e77761ac19a1",
   "metadata": {},
   "source": [
    "### Clean up"
   ]
  },
  {
   "cell_type": "code",
   "execution_count": 24,
   "id": "8433611f-565a-41c0-95ca-c1ddb8372703",
   "metadata": {},
   "outputs": [
    {
     "name": "stdout",
     "output_type": "stream",
     "text": [
      "> 2023-11-09 00:23:01,764 [info] Project is being deleted: {'project_name': 'test-project-setup'}\n",
      "> 2023-11-09 00:23:04,822 [info] Project deleted: {'project_name': 'test-project-setup'}\n"
     ]
    }
   ],
   "source": [
    "db.delete_project(name=project.metadata.name, deletion_strategy=\"cascade\")"
   ]
  },
  {
   "cell_type": "code",
   "execution_count": null,
   "id": "e1ca4e6f-5667-443f-917c-dbeb0e988773",
   "metadata": {},
   "outputs": [],
   "source": []
  }
 ],
 "metadata": {
  "kernelspec": {
   "display_name": "mlrun-extended",
   "language": "python",
   "name": "conda-env-mlrun-extended-py"
  },
  "language_info": {
   "codemirror_mode": {
    "name": "ipython",
    "version": 3
   },
   "file_extension": ".py",
   "mimetype": "text/x-python",
   "name": "python",
   "nbconvert_exporter": "python",
   "pygments_lexer": "ipython3",
   "version": "3.9.16"
  }
 },
 "nbformat": 4,
 "nbformat_minor": 5
}
