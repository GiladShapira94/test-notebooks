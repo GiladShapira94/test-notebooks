{
 "cells": [
  {
   "cell_type": "code",
   "execution_count": null,
   "id": "14cefa02-69f4-4dbb-8c18-c34cd2d3dc1b",
   "metadata": {},
   "outputs": [],
   "source": [
    "import mlrun\n",
    "from mlrun.errors import MLRunRuntimeError\n",
    "from mlrun.runtimes import RunError\n",
    "import os"
   ]
  },
  {
   "cell_type": "code",
   "execution_count": null,
   "id": "aa199890-943a-44b6-be1a-36e88b74ca11",
   "metadata": {},
   "outputs": [],
   "source": [
    "project_name1 = \"test-git-flow\"\n",
    "project = mlrun.get_or_create_project(project_name1, \"./test-git-flow\")"
   ]
  },
  {
   "cell_type": "markdown",
   "id": "0463279c-a275-4fc7-9b0d-0ad4a50cd440",
   "metadata": {},
   "source": [
    "## Check set_source does change the project spec"
   ]
  },
  {
   "cell_type": "code",
   "execution_count": null,
   "id": "c520c519-4b17-4eed-af06-2e2a7f48096a",
   "metadata": {},
   "outputs": [],
   "source": [
    "source_path = \"git://github.com/mlrun/project-demo#main\"\n",
    "project.set_source(source_path, pull_at_runtime=True)\n",
    "assert project.spec.source==source_path"
   ]
  },
  {
   "cell_type": "markdown",
   "id": "e298a721-303e-4ff3-be3e-ecead757c4fc",
   "metadata": {},
   "source": [
    "## Check the auto_build parameter + check that pull_at_runtime=True works\n",
    "(There's no way of really checking if pull_at_runtime works like it should during automation tests.. So I'll check that it works with both values)"
   ]
  },
  {
   "cell_type": "code",
   "execution_count": null,
   "id": "0f40befe-a15a-4615-8204-e3b60e641b34",
   "metadata": {},
   "outputs": [],
   "source": [
    "handler_name = \"gen_iris.iris_generator\"\n",
    "func1_name = \"func1-name\"\n",
    "func1 = project.set_function(handler=handler_name, name=func1_name, image=\"mlrun/mlrun\", kind=\"job\", with_repo=True)"
   ]
  },
  {
   "cell_type": "markdown",
   "id": "1fedb801-0174-450b-a814-04abe61cee21",
   "metadata": {},
   "source": [
    "### Run the function with auto_build=False\n",
    "#### We expect to receive an MLRunRuntimeError"
   ]
  },
  {
   "cell_type": "code",
   "execution_count": null,
   "id": "8b9098be-51c9-4616-af83-b876366c833b",
   "metadata": {},
   "outputs": [],
   "source": [
    "try:\n",
    "    func1_run = project.run_function(func1_name, local=False, auto_build=False)\n",
    "except Exception as e:\n",
    "    assert isinstance(e, MLRunRuntimeError)"
   ]
  },
  {
   "cell_type": "markdown",
   "id": "ebad62f2-7f36-45db-94c1-788f85c4c9b1",
   "metadata": {},
   "source": [
    "### Now we set auto_build=True\n",
    "#### We expect the function to run successfully"
   ]
  },
  {
   "cell_type": "code",
   "execution_count": null,
   "id": "7cf1a8db-bdd9-4df8-aaa0-25889bca96ad",
   "metadata": {},
   "outputs": [],
   "source": [
    "func1_run = project.run_function(func1_name, local=False, auto_build=True)\n",
    "assert isinstance(func1_run, mlrun.model.RunObject)\n",
    "assert func1_run.spec.handler==handler_name"
   ]
  },
  {
   "cell_type": "markdown",
   "id": "b617b68e-47a8-46e0-a3b7-c357168e0493",
   "metadata": {},
   "source": [
    "## Check the with_repo parameter + check that pull_at_runtime=False works\n",
    "### We will create a new project to check pull_at_runtime=False\n"
   ]
  },
  {
   "cell_type": "code",
   "execution_count": null,
   "id": "6a9447fe-c39b-4f9a-9c78-869dc8758f7d",
   "metadata": {},
   "outputs": [],
   "source": [
    "project_name2 = \"test-git-flow2\"\n",
    "project = mlrun.get_or_create_project(project_name2, \"./test-git-flow\", allow_cross_project=True)"
   ]
  },
  {
   "cell_type": "code",
   "execution_count": null,
   "id": "ab015378-20ca-409e-8e35-4f452501f345",
   "metadata": {},
   "outputs": [],
   "source": [
    "project.set_source(\"git://github.com/mlrun/project-demo#main\", pull_at_runtime=False)"
   ]
  },
  {
   "cell_type": "markdown",
   "id": "6c9f62bb-d947-4d26-a745-8bd886e1ee4b",
   "metadata": {},
   "source": [
    "#### First we try with_repo=False. Since source is from github we expect an error"
   ]
  },
  {
   "cell_type": "code",
   "execution_count": null,
   "id": "f8d27e58-4383-4b31-9724-4d3aa0024ad4",
   "metadata": {},
   "outputs": [],
   "source": [
    "handler_name = \"gen_iris.iris_generator\"\n",
    "func2_name = \"func2-name\"\n",
    "func2 = project.set_function(handler=handler_name, name=func2_name, image=\"mlrun/mlrun\", kind=\"job\", with_repo=False)"
   ]
  },
  {
   "cell_type": "code",
   "execution_count": null,
   "id": "4065360d-0e0b-42fa-b3b2-816b7df741e6",
   "metadata": {},
   "outputs": [],
   "source": [
    "try:\n",
    "    func2_run = project.run_function(func2_name, local=False, auto_build=True)\n",
    "except Exception as e:\n",
    "    assert isinstance(e, RunError)"
   ]
  },
  {
   "cell_type": "markdown",
   "id": "d5b99351-f9dd-453f-a77a-e4943ea8cd61",
   "metadata": {},
   "source": [
    "#### Now we set with_repo=True - we expect to succeed"
   ]
  },
  {
   "cell_type": "code",
   "execution_count": null,
   "id": "816a7539-aa6b-45d0-b510-34bdfb2ae91c",
   "metadata": {},
   "outputs": [],
   "source": [
    "func2 = project.set_function(handler=handler_name, name=func2_name, image=\"mlrun/mlrun\", kind=\"job\", with_repo=True)"
   ]
  },
  {
   "cell_type": "code",
   "execution_count": null,
   "id": "90ba5e50-84bf-4ff8-8475-5a9b0907adf3",
   "metadata": {},
   "outputs": [],
   "source": [
    "func2_run = project.run_function(func2_name, local=False, auto_build=True)\n",
    "assert isinstance(func2_run, mlrun.model.RunObject)\n",
    "assert func2_run.spec.handler==handler_name"
   ]
  },
  {
   "cell_type": "markdown",
   "id": "7ed7595c-8b2f-4d28-9cb8-54bf9e75be29",
   "metadata": {},
   "source": [
    "## Check the 'create_remote' function"
   ]
  },
  {
   "cell_type": "code",
   "execution_count": null,
   "id": "faa902f0-c1ad-44ac-8cae-14d11a3e59c8",
   "metadata": {},
   "outputs": [],
   "source": [
    "project_name3 = \"test-git-flow3\"\n",
    "project = mlrun.get_or_create_project(project_name3, \"./test-git-flow\", init_git=True, allow_cross_project=True)\n"
   ]
  },
  {
   "cell_type": "code",
   "execution_count": null,
   "id": "5af72f79-c49f-46e4-965b-7f723f1da240",
   "metadata": {},
   "outputs": [],
   "source": [
    "source_path = 'git://github.com/mlrun/project-demo'\n",
    "project.create_remote(url=source_path,name='test-git-flow-remote',branch='main')\n",
    "assert project.spec.source==source_path+\"#refs/heads/master\"\n",
    "assert project.spec.origin_url==source_path+\"#main\""
   ]
  },
  {
   "cell_type": "markdown",
   "id": "ee18631a-cf2f-4560-900a-3a3b634ac628",
   "metadata": {},
   "source": [
    "### Check the 'load_project' function"
   ]
  },
  {
   "cell_type": "code",
   "execution_count": null,
   "id": "7c735847-2b82-4c00-95f4-c1a853d979da",
   "metadata": {},
   "outputs": [],
   "source": [
    "source_path = 'git://github.com/mlrun/project-demo'\n",
    "folder_name = \"loaded_project\"\n",
    "project = mlrun.load_project(folder_name, source_path, clone=True)\n"
   ]
  },
  {
   "cell_type": "code",
   "execution_count": null,
   "id": "cc6aabcf-0734-46ae-b62b-d065e33c52cc",
   "metadata": {},
   "outputs": [],
   "source": [
    "folder_name = \"loaded_project\"\n",
    "created_files = [\"gen_iris.py\", \"kflow.py\", \"LICENSE\", \"newflow.py\", \"prep_data.py\", \"project.yaml\", \"README.md\"]\n",
    "\n",
    "assert os.path.exists(folder_name), f\"The file '{folder_name}' does not exist.\"\n",
    "for file_name in created_files:\n",
    "    file_path = folder_name+\"/\"+file_name\n",
    "    assert os.path.exists(file_path), f\"The file '{file_path}' does not exist.\""
   ]
  },
  {
   "cell_type": "markdown",
   "id": "e848d6c5-1e03-471e-be96-19d4110a6d83",
   "metadata": {},
   "source": [
    "## Check the 'export' function"
   ]
  },
  {
   "cell_type": "code",
   "execution_count": null,
   "id": "54f71977-af5f-466e-93ce-6f8df576cb3e",
   "metadata": {},
   "outputs": [],
   "source": [
    "export_file_name = \"export-file.yaml\"\n",
    "project.export(export_file_name)\n",
    "assert os.path.exists(export_file_name), f\"The file '{export_file_name}' does not exist.\"\n"
   ]
  },
  {
   "cell_type": "markdown",
   "id": "0b0e8678-ecda-489a-a022-5f098b058f58",
   "metadata": {},
   "source": [
    "## Delete all the resources"
   ]
  },
  {
   "cell_type": "code",
   "execution_count": null,
   "id": "68dba466-3b38-4aca-90bf-6eb332243209",
   "metadata": {},
   "outputs": [],
   "source": [
    "run_db = mlrun.get_run_db()"
   ]
  },
  {
   "cell_type": "code",
   "execution_count": null,
   "id": "7e3ccb25-8b16-4af7-b37e-46c21413716d",
   "metadata": {},
   "outputs": [],
   "source": [
    "run_db.delete_project(project_name1, mlrun.common.schemas.constants.DeletionStrategy.cascade)\n",
    "run_db.delete_project(project_name2, mlrun.common.schemas.constants.DeletionStrategy.cascade)\n",
    "run_db.delete_project(project_name3, mlrun.common.schemas.constants.DeletionStrategy.cascade)"
   ]
  }
 ],
 "metadata": {
  "kernelspec": {
   "display_name": "mlrun-base",
   "language": "python",
   "name": "conda-env-mlrun-base-py"
  },
  "language_info": {
   "codemirror_mode": {
    "name": "ipython",
    "version": 3
   },
   "file_extension": ".py",
   "mimetype": "text/x-python",
   "name": "python",
   "nbconvert_exporter": "python",
   "pygments_lexer": "ipython3",
   "version": "3.9.18"
  }
 },
 "nbformat": 4,
 "nbformat_minor": 5
}
