{
 "cells": [
  {
   "cell_type": "code",
   "execution_count": null,
   "id": "eb2c9c71",
   "metadata": {},
   "outputs": [],
   "source": [
    "import mlrun\n",
    "import os\n",
    "\n",
    "# Initialize the MLRun project object\n",
    "project = mlrun.load_project('./')\n",
    "\n",
    "# Required credentials :\n",
    "# AWS_ACCESS_KEY_ID, AWS_SECRET_ACCESS_KEY, GOOGLE_APPLICATION_CREDENTIALS as jupyter env vars and project secrets (k8s provider)."
   ]
  },
  {
   "cell_type": "code",
   "execution_count": null,
   "id": "50f6714f",
   "metadata": {},
   "outputs": [],
   "source": [
    "#mlrun: start-code\n",
    "from pyspark.sql import SparkSession\n",
    "import mlrun\n",
    "import os\n",
    "\n",
    "def spark_func(context: mlrun.MLClientCtx):\n",
    "    spark = SparkSession \\\n",
    "        .builder \\\n",
    "        .appName(\"Python Spark SQL basic example\") \\\n",
    "        .config(\"spark.some.config.option\", \"some-value\") \\\n",
    "        .config(\"fs.s3a.access.key\", context.get_secret('AWS_ACCESS_KEY_ID'))\\\n",
    "        .config(\"fs.s3a.secret.key\", context.get_secret('AWS_SECRET_ACCESS_KEY'))\\\n",
    "        .config(\"spark.hadoop.fs.s3a.impl\", \"org.apache.hadoop.fs.s3a.S3AFileSystem\")\\\n",
    "        .config(\"com.amazonaws.services.s3.enableV4\", True)\\\n",
    "        .config(\"spark.driver.extraJavaOptions\", \"-Dcom.amazonaws.services.s3.enableV4=true\")\\\n",
    "        .getOrCreate()\n",
    "        \n",
    "    sparkDF = spark.read.format(\"csv\").load(context.artifact_path + 'transactions_cut.csv')\n",
    "    sparkDF.show()\n",
    "    \n",
    "    sparkDF.write.option(\"header\",\"true\").parquet(context.artifact_path + 'transactions_cut.parquet')\n",
    "    \n",
    "#mlrun: end-code"
   ]
  },
  {
   "cell_type": "code",
   "execution_count": null,
   "id": "f0970bba",
   "metadata": {},
   "outputs": [],
   "source": [
    "sj = mlrun.code_to_function(name='spark_func', \n",
    "                            kind='spark', \n",
    "                            image='docker-registry.default-tenant.app.jmglmvqnganv.iguazio-cd1.com/mlrun/func-test-notebooks-dani-spark-func:latest', \n",
    "                            handler='spark_func')\n",
    "\n",
    "# image = 'image to docker-registry.default-tenant.app.jmglmvqnganv.iguazio-cd1.com/mlrun/func-test-notebooks-dani-spark-func:latest'\n",
    "# set spark driver config (gpu_type & gpus=<number_of_gpus>  supported too)\n",
    "sj.with_driver_limits(cpu=\"1300m\")\n",
    "sj.with_driver_requests(cpu=1, mem=\"512m\") \n",
    "\n",
    "# set spark executor config (gpu_type & gpus=<number_of_gpus> are supported too)\n",
    "sj.with_executor_limits(cpu=\"1400m\")\n",
    "sj.with_executor_requests(cpu=1, mem=\"512m\")\n",
    "\n",
    "# adds fuse, daemon & iguazio's jars support\n",
    "sj.with_igz_spark() \n",
    "\n",
    "project.set_function(name = 'spark_func', func=sj)\n",
    "project.get_function('spark_func').apply(mlrun.platforms.mount_s3())\n",
    "\n",
    "task = mlrun.new_task().with_secrets(\"kubernetes\", [\"AWS_ACCESS_KEY_ID\", \"AWS_SECRET_ACCESS_KEY\", \"GOOGLE_APPLICATION_CREDENTIALS\"])\n",
    "\n",
    "project.get_function('spark_func').run(task,artifact_path = 's3a' + project.artifact_path[2:])"
   ]
  }
 ],
 "metadata": {
  "kernelspec": {
   "display_name": "Python [conda env:root] *",
   "language": "python",
   "name": "conda-root-py"
  },
  "language_info": {
   "codemirror_mode": {
    "name": "ipython",
    "version": 3
   },
   "file_extension": ".py",
   "mimetype": "text/x-python",
   "name": "python",
   "nbconvert_exporter": "python",
   "pygments_lexer": "ipython3",
   "version": "3.7.6"
  }
 },
 "nbformat": 4,
 "nbformat_minor": 5
}
