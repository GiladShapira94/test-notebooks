{
 "cells": [
  {
   "cell_type": "markdown",
   "id": "76a5205b",
   "metadata": {},
   "source": [
    "# Testing cross project artifacts"
   ]
  },
  {
   "cell_type": "markdown",
   "id": "142249e8",
   "metadata": {},
   "source": [
    "## 1. artifact generating function "
   ]
  },
  {
   "cell_type": "code",
   "execution_count": 1,
   "id": "7e83b0cc",
   "metadata": {},
   "outputs": [],
   "source": [
    "#mlrun: start-code\n",
    "\n",
    "import mlrun\n",
    "import pandas as pd \n",
    "import json\n",
    "import os\n",
    "from xgboost import XGBClassifier\n",
    "import pickle\n",
    "from mlrun.artifacts.base import DirArtifact\n",
    "from mlrun import MLClientCtx\n",
    "from sklearn.datasets import load_iris\n",
    "from io import BytesIO\n",
    "from sklearn.model_selection import train_test_split\n",
    "\n",
    "def get_dataitem(context: MLClientCtx,\n",
    "                             key: str):\n",
    "    \n",
    "    for artifact in context.artifacts:\n",
    "        if artifact['kind'] == 'model' and artifact['metadata'].get('key',None) == key:\n",
    "            return mlrun.get_dataitem(artifact['spec']['target_path'] + artifact['spec']['model_file'])\n",
    "        elif artifact['kind'] == 'dataset' and artifact['metadata'].get('key',None) == key:\n",
    "            return mlrun.get_dataitem(artifact['spec']['target_path'])\n",
    "        elif artifact['metadata'].get('key',None) == key:\n",
    "            return mlrun.get_dataitem(artifact['spec']['target_path'])\n",
    "    context.logger.info('Artifact not found')\n",
    "    \n",
    "def log_transactions(context: MLClientCtx,\n",
    "                    ):\n",
    "        \n",
    "    # uploading new artifact \n",
    "    df_encode = pd.DataFrame(load_iris()['data']).to_json().encode()\n",
    "    context.log_artifact('encoded_iris-'+context.artifact_path[:2], body=df_encode, local_path='encoded_iris-'+context.artifact_path[:2]+'.csv')\n",
    "    # reading artifact\n",
    "    trans_df = pd.DataFrame(json.loads(get_dataitem(context, 'encoded_iris-'+context.artifact_path[:2]).get()))\n",
    "    context.logger.info(f'dataframe shape : {trans_df.shape}')\n",
    "    \n",
    "    # training the model (for serving purposes )\n",
    "    bst = XGBClassifier(n_estimators=2, max_depth=2, learning_rate=1, objective='binary:logistic')\n",
    "    X,y = load_iris(return_X_y=True)\n",
    "    X_train, x_test, y_train, y_test = train_test_split(X, y, train_size=0.8, test_size=0.2, random_state=0)\n",
    "    bst.fit(X_train, y_train)\n",
    "    # logging a model\n",
    "    context.log_model('bst_model', body=pickle.dumps(bst), model_file='bst.pkl')\n",
    "    # getting the model remote\n",
    "    model = pickle.loads(get_dataitem(context, 'bst_model').get())\n",
    "    context.logger.info(f'logged model : {model.__class__}')\n",
    "    \n",
    "    # Logging directory\n",
    "    context.log_artifact(DirArtifact(key='my_project', target_path=context.artifact_path))\n",
    "    \n",
    "    # Logging dataset \n",
    "    context.log_dataset(key = 'iris_dataset-'+context.artifact_path[:2],\n",
    "                        df = pd.DataFrame(json.loads(get_dataitem(context, 'encoded_iris-'+context.artifact_path[:2]).get())),\n",
    "                        local_path='iris_dataset-'+context.artifact_path[:2]+'.csv')\n",
    "    # Getting dataset\n",
    "    context.logger.info(f'logged dataset {get_dataitem(context, \"iris_dataset-\" + context.artifact_path[:2]).as_df().shape}')\n",
    "    \n",
    "    return\n",
    "            \n",
    "#mlrun: end-code"
   ]
  },
  {
   "cell_type": "markdown",
   "id": "9366c718",
   "metadata": {},
   "source": [
    "## 2. Creating projects, setting & running artifact generating function"
   ]
  },
  {
   "cell_type": "code",
   "execution_count": 2,
   "id": "7742edf8",
   "metadata": {},
   "outputs": [
    {
     "name": "stdout",
     "output_type": "stream",
     "text": [
      "> 2022-12-20 14:43:58,126 [info] loaded project testing-notebooks1 from None or context and saved in MLRun DB\n",
      "> 2022-12-20 14:44:17,808 [info] starting run log-transactions-log_transactions uid=95747f18fa104fbab0f6e9057fd33a35 DB=http://mlrun-api:8080\n",
      "> 2022-12-20 14:44:18,001 [info] Job is running in the background, pod: log-transactions-log-transactions-wmdhs\n",
      "> 2022-12-20 14:44:23,412 [info] dataframe shape : (150, 4)\n",
      "> 2022-12-20 14:44:23,528 [info] logged model : <class 'xgboost.sklearn.XGBClassifier'>\n",
      "> 2022-12-20 14:44:23,682 [info] logged dataset (150, 5)\n",
      "> 2022-12-20 14:44:23,741 [info] run executed, status=completed\n",
      "final state: completed\n"
     ]
    },
    {
     "data": {
      "text/html": [
       "<style>\n",
       ".dictlist {\n",
       "  background-color: #4EC64B;\n",
       "  text-align: center;\n",
       "  margin: 4px;\n",
       "  border-radius: 3px; padding: 0px 3px 1px 3px; display: inline-block;}\n",
       ".artifact {\n",
       "  cursor: pointer;\n",
       "  background-color: #4EC64B;\n",
       "  text-align: left;\n",
       "  margin: 4px; border-radius: 3px; padding: 0px 3px 1px 3px; display: inline-block;\n",
       "}\n",
       "div.block.hidden {\n",
       "  display: none;\n",
       "}\n",
       ".clickable {\n",
       "  cursor: pointer;\n",
       "}\n",
       ".ellipsis {\n",
       "  display: inline-block;\n",
       "  max-width: 60px;\n",
       "  white-space: nowrap;\n",
       "  overflow: hidden;\n",
       "  text-overflow: ellipsis;\n",
       "}\n",
       ".master-wrapper {\n",
       "  display: flex;\n",
       "  flex-flow: row nowrap;\n",
       "  justify-content: flex-start;\n",
       "  align-items: stretch;\n",
       "}\n",
       ".master-tbl {\n",
       "  flex: 3\n",
       "}\n",
       ".master-wrapper > div {\n",
       "  margin: 4px;\n",
       "  padding: 10px;\n",
       "}\n",
       "iframe.fileview {\n",
       "  border: 0 none;\n",
       "  height: 100%;\n",
       "  width: 100%;\n",
       "  white-space: pre-wrap;\n",
       "}\n",
       ".pane-header-title {\n",
       "  width: 80%;\n",
       "  font-weight: 500;\n",
       "}\n",
       ".pane-header {\n",
       "  line-height: 1;\n",
       "  background-color: #4EC64B;\n",
       "  padding: 3px;\n",
       "}\n",
       ".pane-header .close {\n",
       "  font-size: 20px;\n",
       "  font-weight: 700;\n",
       "  float: right;\n",
       "  margin-top: -5px;\n",
       "}\n",
       ".master-wrapper .right-pane {\n",
       "  border: 1px inset silver;\n",
       "  width: 40%;\n",
       "  min-height: 300px;\n",
       "  flex: 3\n",
       "  min-width: 500px;\n",
       "}\n",
       ".master-wrapper * {\n",
       "  box-sizing: border-box;\n",
       "}\n",
       "</style><script>\n",
       "function copyToClipboard(fld) {\n",
       "    if (document.queryCommandSupported && document.queryCommandSupported('copy')) {\n",
       "        var textarea = document.createElement('textarea');\n",
       "        textarea.textContent = fld.innerHTML;\n",
       "        textarea.style.position = 'fixed';\n",
       "        document.body.appendChild(textarea);\n",
       "        textarea.select();\n",
       "\n",
       "        try {\n",
       "            return document.execCommand('copy'); // Security exception may be thrown by some browsers.\n",
       "        } catch (ex) {\n",
       "\n",
       "        } finally {\n",
       "            document.body.removeChild(textarea);\n",
       "        }\n",
       "    }\n",
       "}\n",
       "function expandPanel(el) {\n",
       "  const panelName = \"#\" + el.getAttribute('paneName');\n",
       "  console.log(el.title);\n",
       "\n",
       "  document.querySelector(panelName + \"-title\").innerHTML = el.title\n",
       "  iframe = document.querySelector(panelName + \"-body\");\n",
       "\n",
       "  const tblcss = `<style> body { font-family: Arial, Helvetica, sans-serif;}\n",
       "    #csv { margin-bottom: 15px; }\n",
       "    #csv table { border-collapse: collapse;}\n",
       "    #csv table td { padding: 4px 8px; border: 1px solid silver;} </style>`;\n",
       "\n",
       "  function csvToHtmlTable(str) {\n",
       "    return '<div id=\"csv\"><table><tr><td>' +  str.replace(/[\\n\\r]+$/g, '').replace(/[\\n\\r]+/g, '</td></tr><tr><td>')\n",
       "      .replace(/,/g, '</td><td>') + '</td></tr></table></div>';\n",
       "  }\n",
       "\n",
       "  function reqListener () {\n",
       "    if (el.title.endsWith(\".csv\")) {\n",
       "      iframe.setAttribute(\"srcdoc\", tblcss + csvToHtmlTable(this.responseText));\n",
       "    } else {\n",
       "      iframe.setAttribute(\"srcdoc\", this.responseText);\n",
       "    }\n",
       "    console.log(this.responseText);\n",
       "  }\n",
       "\n",
       "  const oReq = new XMLHttpRequest();\n",
       "  oReq.addEventListener(\"load\", reqListener);\n",
       "  oReq.open(\"GET\", el.title);\n",
       "  oReq.send();\n",
       "\n",
       "\n",
       "  //iframe.src = el.title;\n",
       "  const resultPane = document.querySelector(panelName + \"-pane\");\n",
       "  if (resultPane.classList.contains(\"hidden\")) {\n",
       "    resultPane.classList.remove(\"hidden\");\n",
       "  }\n",
       "}\n",
       "function closePanel(el) {\n",
       "  const panelName = \"#\" + el.getAttribute('paneName')\n",
       "  const resultPane = document.querySelector(panelName + \"-pane\");\n",
       "  if (!resultPane.classList.contains(\"hidden\")) {\n",
       "    resultPane.classList.add(\"hidden\");\n",
       "  }\n",
       "}\n",
       "\n",
       "</script>\n",
       "<div class=\"master-wrapper\">\n",
       "  <div class=\"block master-tbl\"><div>\n",
       "<style scoped>\n",
       "    .dataframe tbody tr th:only-of-type {\n",
       "        vertical-align: middle;\n",
       "    }\n",
       "\n",
       "    .dataframe tbody tr th {\n",
       "        vertical-align: top;\n",
       "    }\n",
       "\n",
       "    .dataframe thead th {\n",
       "        text-align: right;\n",
       "    }\n",
       "</style>\n",
       "<table border=\"1\" class=\"dataframe\">\n",
       "  <thead>\n",
       "    <tr style=\"text-align: right;\">\n",
       "      <th>project</th>\n",
       "      <th>uid</th>\n",
       "      <th>iter</th>\n",
       "      <th>start</th>\n",
       "      <th>state</th>\n",
       "      <th>name</th>\n",
       "      <th>labels</th>\n",
       "      <th>inputs</th>\n",
       "      <th>parameters</th>\n",
       "      <th>results</th>\n",
       "      <th>artifacts</th>\n",
       "    </tr>\n",
       "  </thead>\n",
       "  <tbody>\n",
       "    <tr>\n",
       "      <td>testing-notebooks1-dani</td>\n",
       "      <td><div title=\"95747f18fa104fbab0f6e9057fd33a35\"><a href=\"https://dashboard.default-tenant.app.dev6.lab.iguazeng.com/mlprojects/testing-notebooks1-dani/jobs/monitor/95747f18fa104fbab0f6e9057fd33a35/overview\" target=\"_blank\" >...7fd33a35</a></div></td>\n",
       "      <td>0</td>\n",
       "      <td>Dec 20 14:44:22</td>\n",
       "      <td>completed</td>\n",
       "      <td>log-transactions-log_transactions</td>\n",
       "      <td><div class=\"dictlist\">v3io_user=dani</div><div class=\"dictlist\">kind=job</div><div class=\"dictlist\">owner=dani</div><div class=\"dictlist\">mlrun/client_version=1.2.1-rc2</div><div class=\"dictlist\">host=log-transactions-log-transactions-wmdhs</div></td>\n",
       "      <td></td>\n",
       "      <td></td>\n",
       "      <td></td>\n",
       "      <td><div class=\"artifact\" onclick=\"expandPanel(this)\" paneName=\"result1e5bd928\" title=\"files/v3io/projects/testing-notebooks1-dani/artifacts/log-transactions-log_transactions/0/encoded_iris-v3.csv\">encoded_iris-v3</div><div title=\"v3io:///projects/testing-notebooks1-dani/artifacts/log-transactions-log_transactions/0/bst_model/\">bst_model</div><div title=\"v3io:///projects/testing-notebooks1-dani/artifacts/\">my_project</div><div class=\"artifact\" onclick=\"expandPanel(this)\" paneName=\"result1e5bd928\" title=\"files/v3io/projects/testing-notebooks1-dani/artifacts/log-transactions-log_transactions/0/iris_dataset-v3.csv\">iris_dataset-v3</div></td>\n",
       "    </tr>\n",
       "  </tbody>\n",
       "</table>\n",
       "</div></div>\n",
       "  <div id=\"result1e5bd928-pane\" class=\"right-pane block hidden\">\n",
       "    <div class=\"pane-header\">\n",
       "      <span id=\"result1e5bd928-title\" class=\"pane-header-title\">Title</span>\n",
       "      <span onclick=\"closePanel(this)\" paneName=\"result1e5bd928\" class=\"close clickable\">&times;</span>\n",
       "    </div>\n",
       "    <iframe class=\"fileview\" id=\"result1e5bd928-body\"></iframe>\n",
       "  </div>\n",
       "</div>\n"
      ],
      "text/plain": [
       "<IPython.core.display.HTML object>"
      ]
     },
     "metadata": {},
     "output_type": "display_data"
    },
    {
     "name": "stdout",
     "output_type": "stream",
     "text": [
      "\n"
     ]
    },
    {
     "data": {
      "text/html": [
       "<b> > to track results use the .show() or .logs() methods  or <a href=\"https://dashboard.default-tenant.app.dev6.lab.iguazeng.com/mlprojects/testing-notebooks1-dani/jobs/monitor/95747f18fa104fbab0f6e9057fd33a35/overview\" target=\"_blank\">click here</a> to open in UI</b>"
      ],
      "text/plain": [
       "<IPython.core.display.HTML object>"
      ]
     },
     "metadata": {},
     "output_type": "display_data"
    },
    {
     "name": "stdout",
     "output_type": "stream",
     "text": [
      "> 2022-12-20 14:44:24,929 [info] run executed, status=completed\n"
     ]
    },
    {
     "data": {
      "text/plain": [
       "<mlrun.model.RunObject at 0x7f430aaa0210>"
      ]
     },
     "execution_count": 2,
     "metadata": {},
     "output_type": "execute_result"
    }
   ],
   "source": [
    "import mlrun\n",
    "import os\n",
    "\n",
    "# Initialize the MLRun project object\n",
    "project1 = mlrun.get_or_create_project('testing-notebooks1',user_project=True,context=os.path.join(os.getcwd(), 'test-notebooks1'))\n",
    "\n",
    "project1.set_function(name='log_transactions', kind='job', image='mlrun/ml-models', handler='log_transactions')\n",
    "\n",
    "project1.get_function('log_transactions').run(local=False)"
   ]
  },
  {
   "cell_type": "code",
   "execution_count": 3,
   "id": "0ff84c0b",
   "metadata": {},
   "outputs": [
    {
     "name": "stdout",
     "output_type": "stream",
     "text": [
      "> 2022-12-20 14:44:40,298 [info] loaded project testing-notebooks2 from None or context and saved in MLRun DB\n",
      "> 2022-12-20 14:44:59,575 [info] starting run log-transactions-log_transactions uid=755633747ce84f90bf870cf166f260d2 DB=http://mlrun-api:8080\n",
      "> 2022-12-20 14:45:00,077 [info] Job is running in the background, pod: log-transactions-log-transactions-k9zv9\n",
      "> 2022-12-20 14:45:05,302 [info] dataframe shape : (150, 4)\n",
      "> 2022-12-20 14:45:05,418 [info] logged model : <class 'xgboost.sklearn.XGBClassifier'>\n",
      "> 2022-12-20 14:45:05,567 [info] logged dataset (150, 5)\n",
      "> 2022-12-20 14:45:05,622 [info] run executed, status=completed\n",
      "final state: completed\n"
     ]
    },
    {
     "data": {
      "text/html": [
       "<style>\n",
       ".dictlist {\n",
       "  background-color: #4EC64B;\n",
       "  text-align: center;\n",
       "  margin: 4px;\n",
       "  border-radius: 3px; padding: 0px 3px 1px 3px; display: inline-block;}\n",
       ".artifact {\n",
       "  cursor: pointer;\n",
       "  background-color: #4EC64B;\n",
       "  text-align: left;\n",
       "  margin: 4px; border-radius: 3px; padding: 0px 3px 1px 3px; display: inline-block;\n",
       "}\n",
       "div.block.hidden {\n",
       "  display: none;\n",
       "}\n",
       ".clickable {\n",
       "  cursor: pointer;\n",
       "}\n",
       ".ellipsis {\n",
       "  display: inline-block;\n",
       "  max-width: 60px;\n",
       "  white-space: nowrap;\n",
       "  overflow: hidden;\n",
       "  text-overflow: ellipsis;\n",
       "}\n",
       ".master-wrapper {\n",
       "  display: flex;\n",
       "  flex-flow: row nowrap;\n",
       "  justify-content: flex-start;\n",
       "  align-items: stretch;\n",
       "}\n",
       ".master-tbl {\n",
       "  flex: 3\n",
       "}\n",
       ".master-wrapper > div {\n",
       "  margin: 4px;\n",
       "  padding: 10px;\n",
       "}\n",
       "iframe.fileview {\n",
       "  border: 0 none;\n",
       "  height: 100%;\n",
       "  width: 100%;\n",
       "  white-space: pre-wrap;\n",
       "}\n",
       ".pane-header-title {\n",
       "  width: 80%;\n",
       "  font-weight: 500;\n",
       "}\n",
       ".pane-header {\n",
       "  line-height: 1;\n",
       "  background-color: #4EC64B;\n",
       "  padding: 3px;\n",
       "}\n",
       ".pane-header .close {\n",
       "  font-size: 20px;\n",
       "  font-weight: 700;\n",
       "  float: right;\n",
       "  margin-top: -5px;\n",
       "}\n",
       ".master-wrapper .right-pane {\n",
       "  border: 1px inset silver;\n",
       "  width: 40%;\n",
       "  min-height: 300px;\n",
       "  flex: 3\n",
       "  min-width: 500px;\n",
       "}\n",
       ".master-wrapper * {\n",
       "  box-sizing: border-box;\n",
       "}\n",
       "</style><script>\n",
       "function copyToClipboard(fld) {\n",
       "    if (document.queryCommandSupported && document.queryCommandSupported('copy')) {\n",
       "        var textarea = document.createElement('textarea');\n",
       "        textarea.textContent = fld.innerHTML;\n",
       "        textarea.style.position = 'fixed';\n",
       "        document.body.appendChild(textarea);\n",
       "        textarea.select();\n",
       "\n",
       "        try {\n",
       "            return document.execCommand('copy'); // Security exception may be thrown by some browsers.\n",
       "        } catch (ex) {\n",
       "\n",
       "        } finally {\n",
       "            document.body.removeChild(textarea);\n",
       "        }\n",
       "    }\n",
       "}\n",
       "function expandPanel(el) {\n",
       "  const panelName = \"#\" + el.getAttribute('paneName');\n",
       "  console.log(el.title);\n",
       "\n",
       "  document.querySelector(panelName + \"-title\").innerHTML = el.title\n",
       "  iframe = document.querySelector(panelName + \"-body\");\n",
       "\n",
       "  const tblcss = `<style> body { font-family: Arial, Helvetica, sans-serif;}\n",
       "    #csv { margin-bottom: 15px; }\n",
       "    #csv table { border-collapse: collapse;}\n",
       "    #csv table td { padding: 4px 8px; border: 1px solid silver;} </style>`;\n",
       "\n",
       "  function csvToHtmlTable(str) {\n",
       "    return '<div id=\"csv\"><table><tr><td>' +  str.replace(/[\\n\\r]+$/g, '').replace(/[\\n\\r]+/g, '</td></tr><tr><td>')\n",
       "      .replace(/,/g, '</td><td>') + '</td></tr></table></div>';\n",
       "  }\n",
       "\n",
       "  function reqListener () {\n",
       "    if (el.title.endsWith(\".csv\")) {\n",
       "      iframe.setAttribute(\"srcdoc\", tblcss + csvToHtmlTable(this.responseText));\n",
       "    } else {\n",
       "      iframe.setAttribute(\"srcdoc\", this.responseText);\n",
       "    }\n",
       "    console.log(this.responseText);\n",
       "  }\n",
       "\n",
       "  const oReq = new XMLHttpRequest();\n",
       "  oReq.addEventListener(\"load\", reqListener);\n",
       "  oReq.open(\"GET\", el.title);\n",
       "  oReq.send();\n",
       "\n",
       "\n",
       "  //iframe.src = el.title;\n",
       "  const resultPane = document.querySelector(panelName + \"-pane\");\n",
       "  if (resultPane.classList.contains(\"hidden\")) {\n",
       "    resultPane.classList.remove(\"hidden\");\n",
       "  }\n",
       "}\n",
       "function closePanel(el) {\n",
       "  const panelName = \"#\" + el.getAttribute('paneName')\n",
       "  const resultPane = document.querySelector(panelName + \"-pane\");\n",
       "  if (!resultPane.classList.contains(\"hidden\")) {\n",
       "    resultPane.classList.add(\"hidden\");\n",
       "  }\n",
       "}\n",
       "\n",
       "</script>\n",
       "<div class=\"master-wrapper\">\n",
       "  <div class=\"block master-tbl\"><div>\n",
       "<style scoped>\n",
       "    .dataframe tbody tr th:only-of-type {\n",
       "        vertical-align: middle;\n",
       "    }\n",
       "\n",
       "    .dataframe tbody tr th {\n",
       "        vertical-align: top;\n",
       "    }\n",
       "\n",
       "    .dataframe thead th {\n",
       "        text-align: right;\n",
       "    }\n",
       "</style>\n",
       "<table border=\"1\" class=\"dataframe\">\n",
       "  <thead>\n",
       "    <tr style=\"text-align: right;\">\n",
       "      <th>project</th>\n",
       "      <th>uid</th>\n",
       "      <th>iter</th>\n",
       "      <th>start</th>\n",
       "      <th>state</th>\n",
       "      <th>name</th>\n",
       "      <th>labels</th>\n",
       "      <th>inputs</th>\n",
       "      <th>parameters</th>\n",
       "      <th>results</th>\n",
       "      <th>artifacts</th>\n",
       "    </tr>\n",
       "  </thead>\n",
       "  <tbody>\n",
       "    <tr>\n",
       "      <td>testing-notebooks2-dani</td>\n",
       "      <td><div title=\"755633747ce84f90bf870cf166f260d2\"><a href=\"https://dashboard.default-tenant.app.dev6.lab.iguazeng.com/mlprojects/testing-notebooks2-dani/jobs/monitor/755633747ce84f90bf870cf166f260d2/overview\" target=\"_blank\" >...66f260d2</a></div></td>\n",
       "      <td>0</td>\n",
       "      <td>Dec 20 14:45:04</td>\n",
       "      <td>completed</td>\n",
       "      <td>log-transactions-log_transactions</td>\n",
       "      <td><div class=\"dictlist\">v3io_user=dani</div><div class=\"dictlist\">kind=job</div><div class=\"dictlist\">owner=dani</div><div class=\"dictlist\">mlrun/client_version=1.2.1-rc2</div><div class=\"dictlist\">host=log-transactions-log-transactions-k9zv9</div></td>\n",
       "      <td></td>\n",
       "      <td></td>\n",
       "      <td></td>\n",
       "      <td><div class=\"artifact\" onclick=\"expandPanel(this)\" paneName=\"result75416a32\" title=\"files/v3io/projects/testing-notebooks2-dani/artifacts/log-transactions-log_transactions/0/encoded_iris-v3.csv\">encoded_iris-v3</div><div title=\"v3io:///projects/testing-notebooks2-dani/artifacts/log-transactions-log_transactions/0/bst_model/\">bst_model</div><div title=\"v3io:///projects/testing-notebooks2-dani/artifacts/\">my_project</div><div class=\"artifact\" onclick=\"expandPanel(this)\" paneName=\"result75416a32\" title=\"files/v3io/projects/testing-notebooks2-dani/artifacts/log-transactions-log_transactions/0/iris_dataset-v3.csv\">iris_dataset-v3</div></td>\n",
       "    </tr>\n",
       "  </tbody>\n",
       "</table>\n",
       "</div></div>\n",
       "  <div id=\"result75416a32-pane\" class=\"right-pane block hidden\">\n",
       "    <div class=\"pane-header\">\n",
       "      <span id=\"result75416a32-title\" class=\"pane-header-title\">Title</span>\n",
       "      <span onclick=\"closePanel(this)\" paneName=\"result75416a32\" class=\"close clickable\">&times;</span>\n",
       "    </div>\n",
       "    <iframe class=\"fileview\" id=\"result75416a32-body\"></iframe>\n",
       "  </div>\n",
       "</div>\n"
      ],
      "text/plain": [
       "<IPython.core.display.HTML object>"
      ]
     },
     "metadata": {},
     "output_type": "display_data"
    },
    {
     "name": "stdout",
     "output_type": "stream",
     "text": [
      "\n"
     ]
    },
    {
     "data": {
      "text/html": [
       "<b> > to track results use the .show() or .logs() methods  or <a href=\"https://dashboard.default-tenant.app.dev6.lab.iguazeng.com/mlprojects/testing-notebooks2-dani/jobs/monitor/755633747ce84f90bf870cf166f260d2/overview\" target=\"_blank\">click here</a> to open in UI</b>"
      ],
      "text/plain": [
       "<IPython.core.display.HTML object>"
      ]
     },
     "metadata": {},
     "output_type": "display_data"
    },
    {
     "name": "stdout",
     "output_type": "stream",
     "text": [
      "> 2022-12-20 14:45:06,412 [info] run executed, status=completed\n"
     ]
    },
    {
     "data": {
      "text/plain": [
       "<mlrun.model.RunObject at 0x7f42e8c0db90>"
      ]
     },
     "execution_count": 3,
     "metadata": {},
     "output_type": "execute_result"
    }
   ],
   "source": [
    "# Initialize the MLRun project object\n",
    "project2 = mlrun.get_or_create_project('testing-notebooks2',user_project=True,context=os.path.join(os.getcwd(), 'test-notebooks2'))\n",
    "\n",
    "project2.set_function(name='log_transactions', kind='job', image='mlrun/ml-models', handler='log_transactions')\n",
    "\n",
    "project2.get_function('log_transactions').run(local=False)"
   ]
  },
  {
   "cell_type": "markdown",
   "id": "532831c1",
   "metadata": {},
   "source": [
    "## 3. Importing/Exporting artifacts"
   ]
  },
  {
   "cell_type": "markdown",
   "id": "a8905653",
   "metadata": {},
   "source": [
    "### 3.1 base artifact"
   ]
  },
  {
   "cell_type": "code",
   "execution_count": 4,
   "id": "815a032f",
   "metadata": {},
   "outputs": [
    {
     "data": {
      "text/html": [
       "<div>\n",
       "<style scoped>\n",
       "    .dataframe tbody tr th:only-of-type {\n",
       "        vertical-align: middle;\n",
       "    }\n",
       "\n",
       "    .dataframe tbody tr th {\n",
       "        vertical-align: top;\n",
       "    }\n",
       "\n",
       "    .dataframe thead th {\n",
       "        text-align: right;\n",
       "    }\n",
       "</style>\n",
       "<table border=\"1\" class=\"dataframe\">\n",
       "  <thead>\n",
       "    <tr style=\"text-align: right;\">\n",
       "      <th></th>\n",
       "      <th>0</th>\n",
       "      <th>1</th>\n",
       "      <th>2</th>\n",
       "      <th>3</th>\n",
       "    </tr>\n",
       "  </thead>\n",
       "  <tbody>\n",
       "    <tr>\n",
       "      <th>0</th>\n",
       "      <td>5.1</td>\n",
       "      <td>3.5</td>\n",
       "      <td>1.4</td>\n",
       "      <td>0.2</td>\n",
       "    </tr>\n",
       "    <tr>\n",
       "      <th>1</th>\n",
       "      <td>4.9</td>\n",
       "      <td>3.0</td>\n",
       "      <td>1.4</td>\n",
       "      <td>0.2</td>\n",
       "    </tr>\n",
       "    <tr>\n",
       "      <th>2</th>\n",
       "      <td>4.7</td>\n",
       "      <td>3.2</td>\n",
       "      <td>1.3</td>\n",
       "      <td>0.2</td>\n",
       "    </tr>\n",
       "    <tr>\n",
       "      <th>3</th>\n",
       "      <td>4.6</td>\n",
       "      <td>3.1</td>\n",
       "      <td>1.5</td>\n",
       "      <td>0.2</td>\n",
       "    </tr>\n",
       "    <tr>\n",
       "      <th>4</th>\n",
       "      <td>5.0</td>\n",
       "      <td>3.6</td>\n",
       "      <td>1.4</td>\n",
       "      <td>0.2</td>\n",
       "    </tr>\n",
       "  </tbody>\n",
       "</table>\n",
       "</div>"
      ],
      "text/plain": [
       "     0    1    2    3\n",
       "0  5.1  3.5  1.4  0.2\n",
       "1  4.9  3.0  1.4  0.2\n",
       "2  4.7  3.2  1.3  0.2\n",
       "3  4.6  3.1  1.5  0.2\n",
       "4  5.0  3.6  1.4  0.2"
      ]
     },
     "execution_count": 4,
     "metadata": {},
     "output_type": "execute_result"
    }
   ],
   "source": [
    "# Exporting project2 artifact\n",
    "project2.get_artifact('log-transactions-log_transactions_encoded_iris-v3').export('proj2_encoded_iris.yaml')\n",
    "\n",
    "# Importing the artifact from project1\n",
    "project1.import_artifact('proj2_encoded_iris.yaml',\n",
    "                         new_key = 'imported_proj1_encoded_iris')\n",
    "\n",
    "# Testing the imported artifact\n",
    "pd.DataFrame(json.loads(project1.get_artifact('imported_proj1_encoded_iris').to_dataitem().get())).head()"
   ]
  },
  {
   "cell_type": "markdown",
   "id": "6f58124a",
   "metadata": {},
   "source": [
    "### 3.2 dataset artifact"
   ]
  },
  {
   "cell_type": "code",
   "execution_count": 5,
   "id": "b6d0c6b8",
   "metadata": {},
   "outputs": [
    {
     "data": {
      "text/html": [
       "<div>\n",
       "<style scoped>\n",
       "    .dataframe tbody tr th:only-of-type {\n",
       "        vertical-align: middle;\n",
       "    }\n",
       "\n",
       "    .dataframe tbody tr th {\n",
       "        vertical-align: top;\n",
       "    }\n",
       "\n",
       "    .dataframe thead th {\n",
       "        text-align: right;\n",
       "    }\n",
       "</style>\n",
       "<table border=\"1\" class=\"dataframe\">\n",
       "  <thead>\n",
       "    <tr style=\"text-align: right;\">\n",
       "      <th></th>\n",
       "      <th>Unnamed: 0</th>\n",
       "      <th>0</th>\n",
       "      <th>1</th>\n",
       "      <th>2</th>\n",
       "      <th>3</th>\n",
       "    </tr>\n",
       "  </thead>\n",
       "  <tbody>\n",
       "    <tr>\n",
       "      <th>0</th>\n",
       "      <td>0</td>\n",
       "      <td>5.1</td>\n",
       "      <td>3.5</td>\n",
       "      <td>1.4</td>\n",
       "      <td>0.2</td>\n",
       "    </tr>\n",
       "    <tr>\n",
       "      <th>1</th>\n",
       "      <td>1</td>\n",
       "      <td>4.9</td>\n",
       "      <td>3.0</td>\n",
       "      <td>1.4</td>\n",
       "      <td>0.2</td>\n",
       "    </tr>\n",
       "    <tr>\n",
       "      <th>2</th>\n",
       "      <td>2</td>\n",
       "      <td>4.7</td>\n",
       "      <td>3.2</td>\n",
       "      <td>1.3</td>\n",
       "      <td>0.2</td>\n",
       "    </tr>\n",
       "    <tr>\n",
       "      <th>3</th>\n",
       "      <td>3</td>\n",
       "      <td>4.6</td>\n",
       "      <td>3.1</td>\n",
       "      <td>1.5</td>\n",
       "      <td>0.2</td>\n",
       "    </tr>\n",
       "    <tr>\n",
       "      <th>4</th>\n",
       "      <td>4</td>\n",
       "      <td>5.0</td>\n",
       "      <td>3.6</td>\n",
       "      <td>1.4</td>\n",
       "      <td>0.2</td>\n",
       "    </tr>\n",
       "    <tr>\n",
       "      <th>...</th>\n",
       "      <td>...</td>\n",
       "      <td>...</td>\n",
       "      <td>...</td>\n",
       "      <td>...</td>\n",
       "      <td>...</td>\n",
       "    </tr>\n",
       "    <tr>\n",
       "      <th>145</th>\n",
       "      <td>145</td>\n",
       "      <td>6.7</td>\n",
       "      <td>3.0</td>\n",
       "      <td>5.2</td>\n",
       "      <td>2.3</td>\n",
       "    </tr>\n",
       "    <tr>\n",
       "      <th>146</th>\n",
       "      <td>146</td>\n",
       "      <td>6.3</td>\n",
       "      <td>2.5</td>\n",
       "      <td>5.0</td>\n",
       "      <td>1.9</td>\n",
       "    </tr>\n",
       "    <tr>\n",
       "      <th>147</th>\n",
       "      <td>147</td>\n",
       "      <td>6.5</td>\n",
       "      <td>3.0</td>\n",
       "      <td>5.2</td>\n",
       "      <td>2.0</td>\n",
       "    </tr>\n",
       "    <tr>\n",
       "      <th>148</th>\n",
       "      <td>148</td>\n",
       "      <td>6.2</td>\n",
       "      <td>3.4</td>\n",
       "      <td>5.4</td>\n",
       "      <td>2.3</td>\n",
       "    </tr>\n",
       "    <tr>\n",
       "      <th>149</th>\n",
       "      <td>149</td>\n",
       "      <td>5.9</td>\n",
       "      <td>3.0</td>\n",
       "      <td>5.1</td>\n",
       "      <td>1.8</td>\n",
       "    </tr>\n",
       "  </tbody>\n",
       "</table>\n",
       "<p>150 rows × 5 columns</p>\n",
       "</div>"
      ],
      "text/plain": [
       "     Unnamed: 0    0    1    2    3\n",
       "0             0  5.1  3.5  1.4  0.2\n",
       "1             1  4.9  3.0  1.4  0.2\n",
       "2             2  4.7  3.2  1.3  0.2\n",
       "3             3  4.6  3.1  1.5  0.2\n",
       "4             4  5.0  3.6  1.4  0.2\n",
       "..          ...  ...  ...  ...  ...\n",
       "145         145  6.7  3.0  5.2  2.3\n",
       "146         146  6.3  2.5  5.0  1.9\n",
       "147         147  6.5  3.0  5.2  2.0\n",
       "148         148  6.2  3.4  5.4  2.3\n",
       "149         149  5.9  3.0  5.1  1.8\n",
       "\n",
       "[150 rows x 5 columns]"
      ]
     },
     "execution_count": 5,
     "metadata": {},
     "output_type": "execute_result"
    }
   ],
   "source": [
    "# Exporting project2 model artifact\n",
    "project2.get_artifact('log-transactions-log_transactions_iris_dataset-v3').export('proj2_dataset.yaml')\n",
    "\n",
    "# importing model artifact from project2\n",
    "project1.import_artifact('proj2_dataset.yaml',\n",
    "                         new_key = 'imported_proj1_dataset')\n",
    "\n",
    "# Testing the imported dataset artifact\n",
    "project1.get_artifact('imported_proj1_dataset').to_dataitem().as_df()"
   ]
  },
  {
   "cell_type": "markdown",
   "id": "b7b5c0ee",
   "metadata": {},
   "source": [
    "### 3.3 model artifact"
   ]
  },
  {
   "cell_type": "code",
   "execution_count": 6,
   "id": "1fd53c93",
   "metadata": {},
   "outputs": [
    {
     "data": {
      "text/plain": [
       "array([0, 0, 0, 0, 0])"
      ]
     },
     "execution_count": 6,
     "metadata": {},
     "output_type": "execute_result"
    }
   ],
   "source": [
    "# Exporting project1 model artifact\n",
    "project1.get_artifact('log-transactions-log_transactions_bst_model').export('proj1_model.yaml')\n",
    "\n",
    "# importing model artifact from project2\n",
    "project2.import_artifact('proj1_model.yaml',\n",
    "                         new_key = 'imported_proj2_model')\n",
    "\n",
    "\n",
    "# Testing the imported model artifact\n",
    "project2_model = pickle.loads(project2.get_artifact('imported_proj2_model')._get_file_body())\n",
    "project2_model.predict(pd.DataFrame(json.loads((project1.get_artifact('log-transactions-log_transactions_encoded_iris-v3').to_dataitem().get())))[:5])"
   ]
  },
  {
   "cell_type": "markdown",
   "id": "73a4d45b",
   "metadata": {},
   "source": [
    "### 3.4 dir artifact"
   ]
  },
  {
   "cell_type": "code",
   "execution_count": 7,
   "id": "73dc68dd",
   "metadata": {},
   "outputs": [
    {
     "name": "stdout",
     "output_type": "stream",
     "text": [
      "'LegacyDirArtifact' object has no attribute 'export'\n"
     ]
    }
   ],
   "source": [
    "try: \n",
    "    # Exporting project2 dir artifact\n",
    "    project1.get_artifact('log-transactions-log_transactions_my_project').export('proj1_dir.yaml')\n",
    "\n",
    "    # importing dir artifact from project2\n",
    "    project2.import_artifact('proj1_dir.yaml',\n",
    "                             new_key = 'imported_proj2_dir')\n",
    "\n",
    "    # Testing the imported dir artifact\n",
    "    project1.get_artifact('imported_proj2_dir').to_dataitem().listdir()\n",
    "except Exception as e:\n",
    "    print(e)"
   ]
  },
  {
   "cell_type": "markdown",
   "id": "e66225e0",
   "metadata": {},
   "source": [
    "## 4. Importing/Exporting functions"
   ]
  },
  {
   "cell_type": "markdown",
   "id": "b0468f9d",
   "metadata": {},
   "source": [
    "### 4.1 Serving function"
   ]
  },
  {
   "cell_type": "markdown",
   "id": "00538ff2",
   "metadata": {},
   "source": [
    "#### 4.1.1 Creating serving function, adding model, predicting and deploying"
   ]
  },
  {
   "cell_type": "code",
   "execution_count": 8,
   "id": "e8e253d6",
   "metadata": {},
   "outputs": [
    {
     "data": {
      "text/plain": [
       "<mlrun.serving.states.TaskStep at 0x7f42e8b63f50>"
      ]
     },
     "execution_count": 8,
     "metadata": {},
     "output_type": "execute_result"
    }
   ],
   "source": [
    "# Setting project1 serving function\n",
    "project1.set_function(name='proj1_serving',func = mlrun.new_function(name='proj1_serving', kind='serving',image='mlrun/ml-models', command = []))\n",
    "\n",
    "# adding project2 model to project1 serving function\n",
    "project1.get_function('proj1_serving').add_model(key = 'my_model',\n",
    "                                                 class_name = \"mlrun.frameworks.xgboost.XGBoostModelServer\",\n",
    "                                                 model_path = project2.get_artifact('log-transactions-log_transactions_bst_model').target_path)"
   ]
  },
  {
   "cell_type": "code",
   "execution_count": 9,
   "id": "52e2000a",
   "metadata": {},
   "outputs": [
    {
     "name": "stdout",
     "output_type": "stream",
     "text": [
      "> 2022-12-20 14:45:07,415 [warning] run command, file or code were not specified\n",
      "> 2022-12-20 14:45:11,838 [info] model my_model was loaded\n",
      "> 2022-12-20 14:45:11,839 [info] Loaded ['my_model']\n"
     ]
    },
    {
     "data": {
      "text/plain": [
       "{'id': '59877e1da2364fa687c79cd060fa43c3',\n",
       " 'model_name': 'my_model',\n",
       " 'outputs': [2, 2, 2, 2, 2]}"
      ]
     },
     "execution_count": 9,
     "metadata": {},
     "output_type": "execute_result"
    }
   ],
   "source": [
    "# Testing the fused model serving function\n",
    "server = project1.get_function('proj1_serving').to_mock_server()\n",
    "\n",
    "server.test(body={'inputs': \n",
    "                  pd.DataFrame(json.loads(project2.get_artifact('log-transactions-log_transactions_encoded_iris-v3').to_dataitem().get())).values.tolist()[-5:]})"
   ]
  },
  {
   "cell_type": "code",
   "execution_count": 12,
   "id": "4587257f",
   "metadata": {},
   "outputs": [
    {
     "data": {
      "text/plain": [
       "[{'url': '/User/test-notebooks/project_transfer/cross_project.ipynb',\n",
       "  'name': 'log_transactions',\n",
       "  'kind': 'job',\n",
       "  'image': 'mlrun/ml-models',\n",
       "  'handler': 'log_transactions'},\n",
       " {'name': 'proj1_serving',\n",
       "  'spec': {'kind': 'serving',\n",
       "   'metadata': {'name': 'proj1_serving',\n",
       "    'project': 'testing-notebooks1-dani',\n",
       "    'categories': [],\n",
       "    'credentials': {'access_key': '$ref:mlrun-auth-secrets.f5dd859976fd433573f0fe2693cfc883fd0def019ef7c4a0f9371341'}},\n",
       "   'spec': {'command': [],\n",
       "    'args': [],\n",
       "    'image': 'mlrun/ml-models',\n",
       "    'build': {'commands': [],\n",
       "     'code_origin': 'https://github.com/daniels290813/test-notebooks.git#902056d430cc36e8c4f9a5acb3f41550196208b7'},\n",
       "    'description': '',\n",
       "    'disable_auto_mount': False,\n",
       "    'env': [{'name': 'V3IO_API', 'value': ''},\n",
       "     {'name': 'V3IO_USERNAME', 'value': ''},\n",
       "     {'name': 'V3IO_FRAMESD', 'value': ''},\n",
       "     {'name': 'V3IO_ACCESS_KEY',\n",
       "      'valueFrom': {'secretKeyRef': {'key': 'accessKey',\n",
       "        'name': 'mlrun-auth-secrets.f5dd859976fd433573f0fe2693cfc883fd0def019ef7c4a0f9371341'}},\n",
       "      'value': ''},\n",
       "     {'name': 'MLRUN_AUTH_SESSION',\n",
       "      'valueFrom': {'secretKeyRef': {'key': 'accessKey',\n",
       "        'name': 'mlrun-auth-secrets.f5dd859976fd433573f0fe2693cfc883fd0def019ef7c4a0f9371341'}}}],\n",
       "    'resources': {'requests': {'memory': '1Mi', 'cpu': '25m'},\n",
       "     'limits': {'memory': '20Gi', 'cpu': '2'}},\n",
       "    'priority_class_name': 'igz-workload-medium',\n",
       "    'preemption_mode': 'prevent',\n",
       "    'min_replicas': 1,\n",
       "    'max_replicas': 4,\n",
       "    'source': '',\n",
       "    'function_kind': 'serving_v2',\n",
       "    'graph': {'kind': 'router',\n",
       "     'after': [],\n",
       "     'routes': {'my_model': {'kind': 'task',\n",
       "       'class_name': 'mlrun.frameworks.xgboost.XGBoostModelServer',\n",
       "       'class_args': {'model_path': 'v3io:///projects/testing-notebooks2-dani/artifacts/log-transactions-log_transactions/0/bst_model/'},\n",
       "       'after': []}}},\n",
       "    'secret_sources': [],\n",
       "    'affinity': None,\n",
       "    'tolerations': None,\n",
       "    'security_context': {}},\n",
       "   'verbose': False}}]"
      ]
     },
     "execution_count": 12,
     "metadata": {},
     "output_type": "execute_result"
    }
   ],
   "source": [
    "project1.functions"
   ]
  },
  {
   "cell_type": "code",
   "execution_count": 15,
   "id": "320a61c8",
   "metadata": {},
   "outputs": [
    {
     "name": "stdout",
     "output_type": "stream",
     "text": [
      "> 2022-12-20 14:49:35,065 [info] Starting remote function deploy\n",
      "> 2022-12-20 14:49:35,433 [error] error submitting build task: 400 Client Error: Bad Request for url: http://mlrun-api:8080/api/v1/build/function: details: {'reason': {'reason': 'runtime error: failed updating testing-notebooks1-dani-proj1-serving'}}\n"
     ]
    },
    {
     "ename": "OSError",
     "evalue": "error: cannot submit build, 400 Client Error: Bad Request for url: http://mlrun-api:8080/api/v1/build/function: details: {'reason': {'reason': 'runtime error: failed updating testing-notebooks1-dani-proj1-serving'}}",
     "output_type": "error",
     "traceback": [
      "\u001b[0;31m---------------------------------------------------------------------------\u001b[0m",
      "\u001b[0;31mHTTPError\u001b[0m                                 Traceback (most recent call last)",
      "\u001b[0;32m~/.pythonlibs/jupyter-dani/lib/python3.7/site-packages/mlrun/errors.py\u001b[0m in \u001b[0;36mraise_for_status\u001b[0;34m(response, message)\u001b[0m\n\u001b[1;32m     75\u001b[0m     \u001b[0;32mtry\u001b[0m\u001b[0;34m:\u001b[0m\u001b[0;34m\u001b[0m\u001b[0;34m\u001b[0m\u001b[0m\n\u001b[0;32m---> 76\u001b[0;31m         \u001b[0mresponse\u001b[0m\u001b[0;34m.\u001b[0m\u001b[0mraise_for_status\u001b[0m\u001b[0;34m(\u001b[0m\u001b[0;34m)\u001b[0m\u001b[0;34m\u001b[0m\u001b[0;34m\u001b[0m\u001b[0m\n\u001b[0m\u001b[1;32m     77\u001b[0m     \u001b[0;32mexcept\u001b[0m \u001b[0mrequests\u001b[0m\u001b[0;34m.\u001b[0m\u001b[0mHTTPError\u001b[0m \u001b[0;32mas\u001b[0m \u001b[0mexc\u001b[0m\u001b[0;34m:\u001b[0m\u001b[0;34m\u001b[0m\u001b[0;34m\u001b[0m\u001b[0m\n",
      "\u001b[0;32m~/.pythonlibs/jupyter-dani/lib/python3.7/site-packages/requests/models.py\u001b[0m in \u001b[0;36mraise_for_status\u001b[0;34m(self)\u001b[0m\n\u001b[1;32m   1020\u001b[0m         \u001b[0;32mif\u001b[0m \u001b[0mhttp_error_msg\u001b[0m\u001b[0;34m:\u001b[0m\u001b[0;34m\u001b[0m\u001b[0;34m\u001b[0m\u001b[0m\n\u001b[0;32m-> 1021\u001b[0;31m             \u001b[0;32mraise\u001b[0m \u001b[0mHTTPError\u001b[0m\u001b[0;34m(\u001b[0m\u001b[0mhttp_error_msg\u001b[0m\u001b[0;34m,\u001b[0m \u001b[0mresponse\u001b[0m\u001b[0;34m=\u001b[0m\u001b[0mself\u001b[0m\u001b[0;34m)\u001b[0m\u001b[0;34m\u001b[0m\u001b[0;34m\u001b[0m\u001b[0m\n\u001b[0m\u001b[1;32m   1022\u001b[0m \u001b[0;34m\u001b[0m\u001b[0m\n",
      "\u001b[0;31mHTTPError\u001b[0m: 400 Client Error: Bad Request for url: http://mlrun-api:8080/api/v1/build/function",
      "\nThe above exception was the direct cause of the following exception:\n",
      "\u001b[0;31mMLRunBadRequestError\u001b[0m                      Traceback (most recent call last)",
      "\u001b[0;32m~/.pythonlibs/jupyter-dani/lib/python3.7/site-packages/mlrun/db/httpdb.py\u001b[0m in \u001b[0;36mremote_builder\u001b[0;34m(self, func, with_mlrun, mlrun_version_specifier, skip_deployed, builder_env)\u001b[0m\n\u001b[1;32m   1178\u001b[0m                 \u001b[0mreq\u001b[0m\u001b[0;34m[\u001b[0m\u001b[0;34m\"builder_env\"\u001b[0m\u001b[0;34m]\u001b[0m \u001b[0;34m=\u001b[0m \u001b[0mbuilder_env\u001b[0m\u001b[0;34m\u001b[0m\u001b[0;34m\u001b[0m\u001b[0m\n\u001b[0;32m-> 1179\u001b[0;31m             \u001b[0mresp\u001b[0m \u001b[0;34m=\u001b[0m \u001b[0mself\u001b[0m\u001b[0;34m.\u001b[0m\u001b[0mapi_call\u001b[0m\u001b[0;34m(\u001b[0m\u001b[0;34m\"POST\"\u001b[0m\u001b[0;34m,\u001b[0m \u001b[0;34m\"build/function\"\u001b[0m\u001b[0;34m,\u001b[0m \u001b[0mjson\u001b[0m\u001b[0;34m=\u001b[0m\u001b[0mreq\u001b[0m\u001b[0;34m)\u001b[0m\u001b[0;34m\u001b[0m\u001b[0;34m\u001b[0m\u001b[0m\n\u001b[0m\u001b[1;32m   1180\u001b[0m         \u001b[0;32mexcept\u001b[0m \u001b[0mOSError\u001b[0m \u001b[0;32mas\u001b[0m \u001b[0merr\u001b[0m\u001b[0;34m:\u001b[0m\u001b[0;34m\u001b[0m\u001b[0;34m\u001b[0m\u001b[0m\n",
      "\u001b[0;32m~/.pythonlibs/jupyter-dani/lib/python3.7/site-packages/mlrun/db/httpdb.py\u001b[0m in \u001b[0;36mapi_call\u001b[0;34m(self, method, path, error, params, body, json, headers, timeout, version)\u001b[0m\n\u001b[1;32m    226\u001b[0m                     \u001b[0merror\u001b[0m \u001b[0;34m=\u001b[0m \u001b[0;34mf\"{error} {error_details}\"\u001b[0m \u001b[0;32mif\u001b[0m \u001b[0merror\u001b[0m \u001b[0;32melse\u001b[0m \u001b[0merror_details\u001b[0m\u001b[0;34m\u001b[0m\u001b[0;34m\u001b[0m\u001b[0m\n\u001b[0;32m--> 227\u001b[0;31m                     \u001b[0mmlrun\u001b[0m\u001b[0;34m.\u001b[0m\u001b[0merrors\u001b[0m\u001b[0;34m.\u001b[0m\u001b[0mraise_for_status\u001b[0m\u001b[0;34m(\u001b[0m\u001b[0mresponse\u001b[0m\u001b[0;34m,\u001b[0m \u001b[0merror\u001b[0m\u001b[0;34m)\u001b[0m\u001b[0;34m\u001b[0m\u001b[0;34m\u001b[0m\u001b[0m\n\u001b[0m\u001b[1;32m    228\u001b[0m \u001b[0;34m\u001b[0m\u001b[0m\n",
      "\u001b[0;32m~/.pythonlibs/jupyter-dani/lib/python3.7/site-packages/mlrun/errors.py\u001b[0m in \u001b[0;36mraise_for_status\u001b[0;34m(response, message)\u001b[0m\n\u001b[1;32m     83\u001b[0m                 \u001b[0merror_message\u001b[0m\u001b[0;34m,\u001b[0m \u001b[0mresponse\u001b[0m\u001b[0;34m=\u001b[0m\u001b[0mresponse\u001b[0m\u001b[0;34m\u001b[0m\u001b[0;34m\u001b[0m\u001b[0m\n\u001b[0;32m---> 84\u001b[0;31m             ) from exc\n\u001b[0m\u001b[1;32m     85\u001b[0m         \u001b[0;32mexcept\u001b[0m \u001b[0mKeyError\u001b[0m\u001b[0;34m:\u001b[0m\u001b[0;34m\u001b[0m\u001b[0;34m\u001b[0m\u001b[0m\n",
      "\u001b[0;31mMLRunBadRequestError\u001b[0m: 400 Client Error: Bad Request for url: http://mlrun-api:8080/api/v1/build/function: details: {'reason': {'reason': 'runtime error: failed updating testing-notebooks1-dani-proj1-serving'}}",
      "\nDuring handling of the above exception, another exception occurred:\n",
      "\u001b[0;31mOSError\u001b[0m                                   Traceback (most recent call last)",
      "\u001b[0;32m<ipython-input-15-6247559e021b>\u001b[0m in \u001b[0;36m<module>\u001b[0;34m\u001b[0m\n\u001b[0;32m----> 1\u001b[0;31m \u001b[0mproject1\u001b[0m\u001b[0;34m.\u001b[0m\u001b[0mdeploy_function\u001b[0m\u001b[0;34m(\u001b[0m\u001b[0;34m'proj1_serving'\u001b[0m\u001b[0;34m)\u001b[0m\u001b[0;34m\u001b[0m\u001b[0;34m\u001b[0m\u001b[0m\n\u001b[0m",
      "\u001b[0;32m~/.pythonlibs/jupyter-dani/lib/python3.7/site-packages/mlrun/projects/project.py\u001b[0m in \u001b[0;36mdeploy_function\u001b[0;34m(self, function, dashboard, models, env, tag, verbose, builder_env, mock)\u001b[0m\n\u001b[1;32m   2323\u001b[0m             \u001b[0mbuilder_env\u001b[0m\u001b[0;34m=\u001b[0m\u001b[0mbuilder_env\u001b[0m\u001b[0;34m,\u001b[0m\u001b[0;34m\u001b[0m\u001b[0;34m\u001b[0m\u001b[0m\n\u001b[1;32m   2324\u001b[0m             \u001b[0mproject_object\u001b[0m\u001b[0;34m=\u001b[0m\u001b[0mself\u001b[0m\u001b[0;34m,\u001b[0m\u001b[0;34m\u001b[0m\u001b[0;34m\u001b[0m\u001b[0m\n\u001b[0;32m-> 2325\u001b[0;31m             \u001b[0mmock\u001b[0m\u001b[0;34m=\u001b[0m\u001b[0mmock\u001b[0m\u001b[0;34m,\u001b[0m\u001b[0;34m\u001b[0m\u001b[0;34m\u001b[0m\u001b[0m\n\u001b[0m\u001b[1;32m   2326\u001b[0m         )\n\u001b[1;32m   2327\u001b[0m \u001b[0;34m\u001b[0m\u001b[0m\n",
      "\u001b[0;32m~/.pythonlibs/jupyter-dani/lib/python3.7/site-packages/mlrun/projects/operations.py\u001b[0m in \u001b[0;36mdeploy_function\u001b[0;34m(function, dashboard, models, env, tag, verbose, builder_env, project_object, mock)\u001b[0m\n\u001b[1;32m    345\u001b[0m \u001b[0;34m\u001b[0m\u001b[0m\n\u001b[1;32m    346\u001b[0m         address = function.deploy(\n\u001b[0;32m--> 347\u001b[0;31m             \u001b[0mdashboard\u001b[0m\u001b[0;34m=\u001b[0m\u001b[0mdashboard\u001b[0m\u001b[0;34m,\u001b[0m \u001b[0mtag\u001b[0m\u001b[0;34m=\u001b[0m\u001b[0mtag\u001b[0m\u001b[0;34m,\u001b[0m \u001b[0mverbose\u001b[0m\u001b[0;34m=\u001b[0m\u001b[0mverbose\u001b[0m\u001b[0;34m,\u001b[0m \u001b[0mbuilder_env\u001b[0m\u001b[0;34m=\u001b[0m\u001b[0mbuilder_env\u001b[0m\u001b[0;34m\u001b[0m\u001b[0;34m\u001b[0m\u001b[0m\n\u001b[0m\u001b[1;32m    348\u001b[0m         )\n\u001b[1;32m    349\u001b[0m         \u001b[0;31m# return object with the same outputs as the KFP op (allow using the same pipeline)\u001b[0m\u001b[0;34m\u001b[0m\u001b[0;34m\u001b[0m\u001b[0;34m\u001b[0m\u001b[0m\n",
      "\u001b[0;32m~/.pythonlibs/jupyter-dani/lib/python3.7/site-packages/mlrun/runtimes/serving.py\u001b[0m in \u001b[0;36mdeploy\u001b[0;34m(self, dashboard, project, tag, verbose, auth_info, builder_env)\u001b[0m\n\u001b[1;32m    622\u001b[0m \u001b[0;34m\u001b[0m\u001b[0m\n\u001b[1;32m    623\u001b[0m         return super().deploy(\n\u001b[0;32m--> 624\u001b[0;31m             \u001b[0mdashboard\u001b[0m\u001b[0;34m,\u001b[0m \u001b[0mproject\u001b[0m\u001b[0;34m,\u001b[0m \u001b[0mtag\u001b[0m\u001b[0;34m,\u001b[0m \u001b[0mverbose\u001b[0m\u001b[0;34m,\u001b[0m \u001b[0mauth_info\u001b[0m\u001b[0;34m,\u001b[0m \u001b[0mbuilder_env\u001b[0m\u001b[0;34m=\u001b[0m\u001b[0mbuilder_env\u001b[0m\u001b[0;34m\u001b[0m\u001b[0;34m\u001b[0m\u001b[0m\n\u001b[0m\u001b[1;32m    625\u001b[0m         )\n\u001b[1;32m    626\u001b[0m \u001b[0;34m\u001b[0m\u001b[0m\n",
      "\u001b[0;32m~/.pythonlibs/jupyter-dani/lib/python3.7/site-packages/mlrun/runtimes/function.py\u001b[0m in \u001b[0;36mdeploy\u001b[0;34m(self, dashboard, project, tag, verbose, auth_info, builder_env)\u001b[0m\n\u001b[1;32m    547\u001b[0m             \u001b[0mdb\u001b[0m \u001b[0;34m=\u001b[0m \u001b[0mself\u001b[0m\u001b[0;34m.\u001b[0m\u001b[0m_get_db\u001b[0m\u001b[0;34m(\u001b[0m\u001b[0;34m)\u001b[0m\u001b[0;34m\u001b[0m\u001b[0;34m\u001b[0m\u001b[0m\n\u001b[1;32m    548\u001b[0m             \u001b[0mlogger\u001b[0m\u001b[0;34m.\u001b[0m\u001b[0minfo\u001b[0m\u001b[0;34m(\u001b[0m\u001b[0;34m\"Starting remote function deploy\"\u001b[0m\u001b[0;34m)\u001b[0m\u001b[0;34m\u001b[0m\u001b[0;34m\u001b[0m\u001b[0m\n\u001b[0;32m--> 549\u001b[0;31m             \u001b[0mdata\u001b[0m \u001b[0;34m=\u001b[0m \u001b[0mdb\u001b[0m\u001b[0;34m.\u001b[0m\u001b[0mremote_builder\u001b[0m\u001b[0;34m(\u001b[0m\u001b[0mself\u001b[0m\u001b[0;34m,\u001b[0m \u001b[0;32mFalse\u001b[0m\u001b[0;34m,\u001b[0m \u001b[0mbuilder_env\u001b[0m\u001b[0;34m=\u001b[0m\u001b[0mbuilder_env\u001b[0m\u001b[0;34m)\u001b[0m\u001b[0;34m\u001b[0m\u001b[0;34m\u001b[0m\u001b[0m\n\u001b[0m\u001b[1;32m    550\u001b[0m             \u001b[0mself\u001b[0m\u001b[0;34m.\u001b[0m\u001b[0mstatus\u001b[0m \u001b[0;34m=\u001b[0m \u001b[0mdata\u001b[0m\u001b[0;34m[\u001b[0m\u001b[0;34m\"data\"\u001b[0m\u001b[0;34m]\u001b[0m\u001b[0;34m.\u001b[0m\u001b[0mget\u001b[0m\u001b[0;34m(\u001b[0m\u001b[0;34m\"status\"\u001b[0m\u001b[0;34m)\u001b[0m\u001b[0;34m\u001b[0m\u001b[0;34m\u001b[0m\u001b[0m\n\u001b[1;32m    551\u001b[0m             \u001b[0mself\u001b[0m\u001b[0;34m.\u001b[0m\u001b[0m_update_credentials_from_remote_build\u001b[0m\u001b[0;34m(\u001b[0m\u001b[0mdata\u001b[0m\u001b[0;34m[\u001b[0m\u001b[0;34m\"data\"\u001b[0m\u001b[0;34m]\u001b[0m\u001b[0;34m)\u001b[0m\u001b[0;34m\u001b[0m\u001b[0;34m\u001b[0m\u001b[0m\n",
      "\u001b[0;32m~/.pythonlibs/jupyter-dani/lib/python3.7/site-packages/mlrun/db/httpdb.py\u001b[0m in \u001b[0;36mremote_builder\u001b[0;34m(self, func, with_mlrun, mlrun_version_specifier, skip_deployed, builder_env)\u001b[0m\n\u001b[1;32m   1180\u001b[0m         \u001b[0;32mexcept\u001b[0m \u001b[0mOSError\u001b[0m \u001b[0;32mas\u001b[0m \u001b[0merr\u001b[0m\u001b[0;34m:\u001b[0m\u001b[0;34m\u001b[0m\u001b[0;34m\u001b[0m\u001b[0m\n\u001b[1;32m   1181\u001b[0m             \u001b[0mlogger\u001b[0m\u001b[0;34m.\u001b[0m\u001b[0merror\u001b[0m\u001b[0;34m(\u001b[0m\u001b[0;34mf\"error submitting build task: {err}\"\u001b[0m\u001b[0;34m)\u001b[0m\u001b[0;34m\u001b[0m\u001b[0;34m\u001b[0m\u001b[0m\n\u001b[0;32m-> 1182\u001b[0;31m             \u001b[0;32mraise\u001b[0m \u001b[0mOSError\u001b[0m\u001b[0;34m(\u001b[0m\u001b[0;34mf\"error: cannot submit build, {err}\"\u001b[0m\u001b[0;34m)\u001b[0m\u001b[0;34m\u001b[0m\u001b[0;34m\u001b[0m\u001b[0m\n\u001b[0m\u001b[1;32m   1183\u001b[0m \u001b[0;34m\u001b[0m\u001b[0m\n\u001b[1;32m   1184\u001b[0m         \u001b[0;32mif\u001b[0m \u001b[0;32mnot\u001b[0m \u001b[0mresp\u001b[0m\u001b[0;34m.\u001b[0m\u001b[0mok\u001b[0m\u001b[0;34m:\u001b[0m\u001b[0;34m\u001b[0m\u001b[0;34m\u001b[0m\u001b[0m\n",
      "\u001b[0;31mOSError\u001b[0m: error: cannot submit build, 400 Client Error: Bad Request for url: http://mlrun-api:8080/api/v1/build/function: details: {'reason': {'reason': 'runtime error: failed updating testing-notebooks1-dani-proj1-serving'}}"
     ]
    }
   ],
   "source": [
    "project1.deploy_function('proj1_serving')"
   ]
  },
  {
   "cell_type": "code",
   "execution_count": null,
   "id": "641cc710",
   "metadata": {},
   "outputs": [],
   "source": [
    "import time\n",
    "time.sleep(5)\n",
    "\n",
    "project1.get_function('proj1_serving').invoke(\n",
    "    path='/v2/models/my_model/infer', \n",
    "    body={'inputs': pd.DataFrame(json.loads(project2.get_artifact('log-transactions-log_transactions_encoded_iris-v3').to_dataitem().get())).values.tolist()[-5:]}\n",
    ")"
   ]
  },
  {
   "cell_type": "markdown",
   "id": "28fa6986",
   "metadata": {},
   "source": [
    "#### 4.1.2 Importing & Exporting already deployed serving function"
   ]
  },
  {
   "cell_type": "code",
   "execution_count": null,
   "id": "2e75cb9b",
   "metadata": {},
   "outputs": [],
   "source": [
    "# exporting project1 deployed serving function\n",
    "project1.get_function('proj1_serving').export('proj1_serving.yaml')\n",
    "\n",
    "# importing project1 serving function from project2\n",
    "project2.set_function(name='proj2_imported_serving', func='../proj1_serving.yaml')\n",
    "print(project2.get_function('proj2_imported_serving').is_deployed())"
   ]
  },
  {
   "cell_type": "code",
   "execution_count": null,
   "id": "d40990c8",
   "metadata": {},
   "outputs": [],
   "source": [
    "try:\n",
    "    # Testing the imported already deployed function\n",
    "    server = project2.get_function('proj2_imported_serving').to_mock_server()\n",
    "\n",
    "    server.test(body={'inputs': \n",
    "                      pd.DataFrame(json.loads(project2.get_artifact('log-transactions-log_transactions_encoded_iris-v3').to_dataitem().get())).values.tolist()[-5:]})\n",
    "except Exception as e:\n",
    "    print(e)"
   ]
  },
  {
   "cell_type": "code",
   "execution_count": null,
   "id": "4b9dc3b0",
   "metadata": {},
   "outputs": [],
   "source": [
    "# Redeploying the already deployed function\n",
    "project2.deploy_function('proj2_imported_serving')"
   ]
  },
  {
   "cell_type": "markdown",
   "id": "6d4ecd69",
   "metadata": {},
   "source": [
    "##### Testing the redeployed imported-deployed-function"
   ]
  },
  {
   "cell_type": "code",
   "execution_count": null,
   "id": "dadbe582",
   "metadata": {},
   "outputs": [],
   "source": [
    "time.sleep(5) \n",
    "project2.get_function('proj2_imported_serving').invoke(\n",
    "    path='/v2/models/my_model/infer', \n",
    "    body={'inputs': pd.DataFrame(json.loads(project2.get_artifact('log-transactions-log_transactions_encoded_iris-v3').to_dataitem().get())).values.tolist()[-5:]}\n",
    ")"
   ]
  },
  {
   "cell_type": "markdown",
   "id": "08606451",
   "metadata": {},
   "source": [
    "#### 4.1.3 Importing & Exporting undeployed serving function"
   ]
  },
  {
   "cell_type": "code",
   "execution_count": null,
   "id": "1ef98776",
   "metadata": {},
   "outputs": [],
   "source": [
    "# Setting project2 serving function\n",
    "project2.set_function(mlrun.new_function(name='proj2_serving', kind='serving',image='mlrun/ml-models', command = []))\n",
    "\n",
    "# adding project1 model to project2 serving function\n",
    "project2.get_function('proj2-serving').add_model(key = 'my_model',\n",
    "                                                 class_name = \"mlrun.frameworks.xgboost.XGBoostModelServer\",\n",
    "                                                 model_path = project1.get_artifact('log-transactions-log_transactions_bst_model').target_path)"
   ]
  },
  {
   "cell_type": "code",
   "execution_count": null,
   "id": "b21e8372",
   "metadata": {},
   "outputs": [],
   "source": [
    "# exporting project2 not deployed serving function\n",
    "project2.get_function('proj2-serving').export('proj2_serving.yaml')\n",
    "\n",
    "# Importing project2 serving function from project1\n",
    "project1.set_function(name='proj1_imported_serving', func='../proj2_serving.yaml')\n",
    "print(project1.get_function('proj1_imported_serving').is_deployed())"
   ]
  },
  {
   "cell_type": "code",
   "execution_count": null,
   "id": "4998877a",
   "metadata": {},
   "outputs": [],
   "source": [
    "# Testing the imported undeployed function\n",
    "server = project1.get_function('proj1_imported_serving').to_mock_server()\n",
    "\n",
    "server.test(body={'inputs': \n",
    "                  pd.DataFrame(json.loads(project2.get_artifact('log-transactions-log_transactions_encoded_iris-v3').to_dataitem().get())).values.tolist()[-5:]})"
   ]
  },
  {
   "cell_type": "code",
   "execution_count": null,
   "id": "38226be2",
   "metadata": {},
   "outputs": [],
   "source": [
    "# Deploying the undeployed imported function\n",
    "project1.deploy_function('proj1_imported_serving')"
   ]
  },
  {
   "cell_type": "code",
   "execution_count": null,
   "id": "14a814ff",
   "metadata": {},
   "outputs": [],
   "source": [
    "time.sleep(5)\n",
    "\n",
    "# Testing the imported then deployed function\n",
    "project1.get_function('proj1_imported_serving').invoke(\n",
    "    path='/v2/models/my_model/infer', \n",
    "    body={'inputs': pd.DataFrame(json.loads(project2.get_artifact('log-transactions-log_transactions_encoded_iris-v3').to_dataitem().get())).values.tolist()[-5:]}\n",
    ")"
   ]
  },
  {
   "cell_type": "markdown",
   "id": "a657ed66",
   "metadata": {},
   "source": [
    "### 4.2 mlrun function"
   ]
  },
  {
   "cell_type": "code",
   "execution_count": null,
   "id": "3b5ec5e3",
   "metadata": {},
   "outputs": [],
   "source": [
    "# exporting project2 log_transaction mlrun function\n",
    "project2.get_function('log_transactions').export('proj2_mlrun_func.yaml')\n",
    "\n",
    "# Importing project2 log_transaction mlrun function from project1\n",
    "project1.set_function(name='proj1_imported_mlrun_func', func='../proj2_mlrun_func.yaml')\n",
    "project1.run_function('proj1_imported_mlrun_func')"
   ]
  },
  {
   "cell_type": "markdown",
   "id": "2b8affa4",
   "metadata": {},
   "source": [
    "### 4.3 nuclio function"
   ]
  },
  {
   "cell_type": "markdown",
   "id": "7910382a",
   "metadata": {},
   "source": [
    "#### 4.3.1 Importing & Exporting deployed remote function"
   ]
  },
  {
   "cell_type": "code",
   "execution_count": null,
   "id": "9b7714bd",
   "metadata": {},
   "outputs": [],
   "source": [
    "%%writefile script.py\n",
    "import mlrun\n",
    "import time\n",
    "\n",
    "def handler(context: mlrun.MLClientCtx, event):\n",
    "    context.logger.info('Going to sleep zZz...')\n",
    "    time.sleep(5)\n",
    "    return 'Waking up !'"
   ]
  },
  {
   "cell_type": "code",
   "execution_count": null,
   "id": "ffe4cbb8",
   "metadata": {},
   "outputs": [],
   "source": [
    "# Setting remote function\n",
    "project1.set_function(func = mlrun.code_to_function(name='proj1_remote_func', kind='remote',image='mlrun/mlrun', filename='script.py', handler='handler'))\n",
    "\n",
    "# Deploying\n",
    "project1.deploy_function('proj1-remote-func')\n",
    "# Exporting project1 undeployed remote function\n",
    "project1.get_function('proj1-remote-func').export('proj1_remote_func.yaml')\n",
    "\n",
    "# Importing project2 remote function from project1\n",
    "project2.set_function(name='proj2_imported_remote_func', func='../proj1_remote_func.yaml')"
   ]
  },
  {
   "cell_type": "code",
   "execution_count": null,
   "id": "303815d3",
   "metadata": {},
   "outputs": [],
   "source": [
    "project2.deploy_function('proj2_imported_remote_func')\n",
    "\n",
    "time.sleep(5)\n",
    "project2.get_function('proj2_imported_remote_func').invoke('')"
   ]
  },
  {
   "cell_type": "markdown",
   "id": "fa66c83c",
   "metadata": {},
   "source": [
    "## 3. Importing/Exporting project"
   ]
  },
  {
   "cell_type": "code",
   "execution_count": null,
   "id": "5b3031be",
   "metadata": {},
   "outputs": [],
   "source": [
    "# Creating a new porject\n",
    "new_project = mlrun.get_or_create_project(name='testing-exported-proj', context=os.path.join(os.getcwd(), 'new-project'))\n",
    "\n",
    "# Make sure that new_project artifact_path is set to s3\n",
    "\n",
    "# Setting artifacts\n",
    "new_project.set_artifact('encoded_iris', artifact=os.path.join(os.getcwd(),'proj2_encoded_iris.yaml'))\n",
    "new_project.set_artifact('model', artifact=os.path.join(os.getcwd(),'proj1_model.yaml'))\n",
    "new_project.set_artifact('dataset', artifact=os.path.join(os.getcwd(),'proj2_dataset.yaml'))\n",
    "# new_project.set_artifact('dataset', artifact=os.path.join(os.getcwd(),'proj1_dir.yaml'))\n",
    "\n",
    "# Setting functions\n",
    "new_project.set_function(name='serving', func='../proj1_serving.yaml')\n",
    "new_project.set_function(name='mlrun_func', func='../proj2_mlrun_func.yaml')\n",
    "new_project.set_function(name='remote_func', func='../proj1_remote_func.yaml')\n",
    "# new_project.set_artifact('dir', artifact=os.path.join(os.getcwd(),'proj1_dir.yaml'))\n",
    "\n",
    "new_project.artifact_path = 's3://testbucket-igz/'"
   ]
  },
  {
   "cell_type": "code",
   "execution_count": null,
   "id": "65db6925",
   "metadata": {},
   "outputs": [],
   "source": [
    "AWS_ACCESS_KEY_ID = os.environ.get(\"AWS_ACCESS_KEY_ID\", None)\n",
    "AWS_SECRET_ACCESS_KEY = os.environ.get(\"AWS_SECRET_ACCESS_KEY\", None)\n",
    "GOOGLE_APPLICATION_CREDENTIALS = os.environ.get(\"GOOGLE_APPLICATION_CREDENTIALS\", None)\n",
    "assert AWS_ACCESS_KEY_ID != None and AWS_SECRET_ACCESS_KEY != None and GOOGLE_APPLICATION_CREDENTIALS != None and new_project.artifact_path != None"
   ]
  },
  {
   "cell_type": "code",
   "execution_count": null,
   "id": "78c89102",
   "metadata": {},
   "outputs": [],
   "source": [
    "# exporting the project\n",
    "\n",
    "# S3 artifact path (e.g. s3://my-bucket/new_project.zip)\n",
    "new_project.export(filepath=os.path.join(new_project.artifact_path, 'new_project.zip'))\n",
    "\n",
    "# GCS artifact path (e.g. gs://my-bucket/new_project.zip)\n",
    "new_project.export(filepath=os.path.join('gs' + new_project.artifact_path[2:], 'new_project.zip'))\n",
    "\n",
    "# V3IO local path\n",
    "new_project.export(filepath='/v3io/bigdata/new_project.zip')"
   ]
  },
  {
   "cell_type": "code",
   "execution_count": null,
   "id": "5ef0e94a",
   "metadata": {},
   "outputs": [],
   "source": [
    "# Importing the projects\n",
    "gs_project = mlrun.load_project(name='testing-gs-project',\n",
    "                                url=os.path.join(new_project.artifact_path, 'new_project.zip'),\n",
    "                                context = os.path.join(os.getcwd(), 'gs-project'))\n",
    "\n",
    "s3_project = mlrun.load_project(name='testing-s3-project',\n",
    "                                url=os.path.join('s3' + new_project.artifact_path[2:], 'new_project.zip'),\n",
    "                                context = os.path.join(os.getcwd(), 's3-project'))\n",
    "\n",
    "v3io_project = mlrun.load_project(name='testing-v3io-project',\n",
    "                                  url='/v3io/bigdata/new_project.zip',\n",
    "                                  context=os.path.join(os.getcwd(), 'v3io-project'))"
   ]
  },
  {
   "cell_type": "code",
   "execution_count": null,
   "id": "aabb7a73",
   "metadata": {},
   "outputs": [],
   "source": [
    "# Testing the imported artifacts\n",
    "\n",
    "# Artifact\n",
    "gs_encoded_dataset = pd.DataFrame(json.loads(gs_project.get_artifact('encoded_iris').to_dataitem().get()))\n",
    "print('gs project artifact\\n', gs_encoded_dataset.head(), '\\n\\n')\n",
    "\n",
    "# Dataset\n",
    "s3_dataset = s3_project.get_artifact('dataset').to_dataitem().as_df()\n",
    "print('s3 project artifact\\n',s3_dataset.head())\n",
    "\n",
    "# Model\n",
    "v3io_model = pickle.loads(v3io_project.get_artifact('model')._get_file_body())\n",
    "v3io_model.predict(gs_encoded_dataset[:5])\n",
    "\n",
    "# Testing imported functions\n",
    "\n",
    "# Serving function\n",
    "gs_project.get_function('serving').deploy()\n",
    "time.sleep(5)\n",
    "gs_project.get_function('serving').invoke(\n",
    "    path='/v2/models/my_model/infer', \n",
    "    body={'inputs': gs_encoded_dataset.values[-5:].tolist()}\n",
    ")\n",
    "\n",
    "# mlrun function\n",
    "s3_project.run_function('mlrun_func',local=True)\n",
    "\n",
    "## nuclio function\n",
    "v3io_project.deploy_function('remote_func')\n",
    "\n",
    "time.sleep(5)\n",
    "v3io_project.get_function('remote_func').invoke('')"
   ]
  }
 ],
 "metadata": {
  "kernelspec": {
   "display_name": "Python 3",
   "language": "python",
   "name": "python3"
  },
  "language_info": {
   "codemirror_mode": {
    "name": "ipython",
    "version": 3
   },
   "file_extension": ".py",
   "mimetype": "text/x-python",
   "name": "python",
   "nbconvert_exporter": "python",
   "pygments_lexer": "ipython3",
   "version": "3.7.6"
  }
 },
 "nbformat": 4,
 "nbformat_minor": 5
}
