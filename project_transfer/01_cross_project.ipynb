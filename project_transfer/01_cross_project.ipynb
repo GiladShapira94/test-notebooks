{
 "cells": [
  {
   "cell_type": "markdown",
   "id": "91ce042b",
   "metadata": {},
   "source": [
    "# Testing cross project artifacts"
   ]
  },
  {
   "cell_type": "code",
   "execution_count": 1,
   "id": "3a27d65c",
   "metadata": {},
   "outputs": [
    {
     "name": "stdout",
     "output_type": "stream",
     "text": [
      "Requirement already satisfied: xgboost in /User/.pythonlibs/jupyter-dani/lib/python3.7/site-packages (1.6.2)\n",
      "Requirement already satisfied: scipy in /User/.pythonlibs/jupyter-dani/lib/python3.7/site-packages (from xgboost) (1.7.3)\n",
      "Requirement already satisfied: numpy in /User/.pythonlibs/jupyter-dani/lib/python3.7/site-packages (from xgboost) (1.21.6)\n"
     ]
    }
   ],
   "source": [
    "!pip install -U xgboost"
   ]
  },
  {
   "cell_type": "markdown",
   "id": "8b8270a5",
   "metadata": {},
   "source": [
    "## 1. artifact generating function "
   ]
  },
  {
   "cell_type": "code",
   "execution_count": 2,
   "id": "85de3aff",
   "metadata": {},
   "outputs": [],
   "source": [
    "#mlrun: start-code\n",
    "\n",
    "import mlrun\n",
    "import pandas as pd \n",
    "import json\n",
    "import os\n",
    "from xgboost import XGBClassifier\n",
    "import pickle\n",
    "from mlrun.artifacts.base import DirArtifact\n",
    "from mlrun import MLClientCtx\n",
    "from sklearn.datasets import load_iris\n",
    "from io import BytesIO\n",
    "from sklearn.model_selection import train_test_split\n",
    "\n",
    "def get_dataitem(context: MLClientCtx,\n",
    "                             key: str):\n",
    "    \n",
    "    for artifact in context.artifacts:\n",
    "        if artifact['kind'] == 'model' and artifact['metadata'].get('key',None) == key:\n",
    "            return mlrun.get_dataitem(artifact['spec']['target_path'] + artifact['spec']['model_file'])\n",
    "        elif artifact['kind'] == 'dataset' and artifact['metadata'].get('key',None) == key:\n",
    "            return mlrun.get_dataitem(artifact['spec']['target_path'])\n",
    "        elif artifact['metadata'].get('key',None) == key:\n",
    "            return mlrun.get_dataitem(artifact['spec']['target_path'])\n",
    "    context.logger.info('Artifact not found')\n",
    "    \n",
    "def log_transactions(context: MLClientCtx,\n",
    "                    ):\n",
    "        \n",
    "    # uploading new artifact \n",
    "    df_encode = pd.DataFrame(load_iris()['data']).to_json().encode()\n",
    "    context.log_artifact('encoded_iris-'+context.artifact_path[:2], body=df_encode, local_path='encoded_iris-'+context.artifact_path[:2]+'.csv')\n",
    "    # reading artifact\n",
    "    trans_df = pd.DataFrame(json.loads(get_dataitem(context, 'encoded_iris-'+context.artifact_path[:2]).get()))\n",
    "    context.logger.info(f'dataframe shape : {trans_df.shape}')\n",
    "    \n",
    "    # training the model (for serving purposes )\n",
    "    bst = XGBClassifier(n_estimators=2, max_depth=2, learning_rate=1, objective='binary:logistic')\n",
    "    X,y = load_iris(return_X_y=True)\n",
    "    X_train, x_test, y_train, y_test = train_test_split(X, y, train_size=0.8, test_size=0.2, random_state=0)\n",
    "    bst.fit(X_train, y_train)\n",
    "    # logging a model\n",
    "    context.log_model('bst_model', body=pickle.dumps(bst), model_file='bst.pkl')\n",
    "    # getting the model remote\n",
    "    model = pickle.loads(get_dataitem(context, 'bst_model').get())\n",
    "    context.logger.info(f'logged model : {model.__class__}')\n",
    "    \n",
    "    # Logging directory\n",
    "    context.log_artifact(DirArtifact(key='my_project', target_path=context.artifact_path))\n",
    "    \n",
    "    # Logging dataset \n",
    "    context.log_dataset(key = 'iris_dataset-'+context.artifact_path[:2],\n",
    "                        df = pd.DataFrame(json.loads(get_dataitem(context, 'encoded_iris-'+context.artifact_path[:2]).get())),\n",
    "                        local_path='iris_dataset-'+context.artifact_path[:2]+'.csv')\n",
    "    # Getting dataset\n",
    "    context.logger.info(f'logged dataset {get_dataitem(context, \"iris_dataset-\" + context.artifact_path[:2]).as_df().shape}')\n",
    "    \n",
    "    return\n",
    "            \n",
    "#mlrun: end-code"
   ]
  },
  {
   "cell_type": "markdown",
   "id": "19502408",
   "metadata": {},
   "source": [
    "## 2. Creating projects, setting & running artifact generating function"
   ]
  },
  {
   "cell_type": "code",
   "execution_count": 3,
   "id": "13702dc5",
   "metadata": {},
   "outputs": [
    {
     "name": "stdout",
     "output_type": "stream",
     "text": [
      "> 2023-01-04 12:44:05,144 [info] loaded project testing-notebooks1 from MLRun DB\n",
      "> 2023-01-04 12:44:54,807 [info] starting run log-transactions-log_transactions uid=766bc5aecd7b4e1aa7a8e03a564c1c9a DB=http://mlrun-api:8080\n",
      "> 2023-01-04 12:44:55,014 [info] Job is running in the background, pod: log-transactions-log-transactions-54fq6\n",
      "> 2023-01-04 12:44:59,769 [info] dataframe shape : (150, 4)\n",
      "> 2023-01-04 12:44:59,878 [info] logged model : <class 'xgboost.sklearn.XGBClassifier'>\n",
      "> 2023-01-04 12:45:00,049 [info] logged dataset (150, 5)\n",
      "> 2023-01-04 12:45:00,110 [info] To track results use the CLI: {'info_cmd': 'mlrun get run 766bc5aecd7b4e1aa7a8e03a564c1c9a -p testing-notebooks1-dani', 'logs_cmd': 'mlrun logs 766bc5aecd7b4e1aa7a8e03a564c1c9a -p testing-notebooks1-dani'}\n",
      "> 2023-01-04 12:45:00,110 [info] Or click for UI: {'ui_url': 'https://dashboard.default-tenant.app.vmdev94.lab.iguazeng.com/mlprojects/testing-notebooks1-dani/jobs/monitor/766bc5aecd7b4e1aa7a8e03a564c1c9a/overview'}\n",
      "> 2023-01-04 12:45:00,111 [info] run executed, status=completed\n",
      "final state: completed\n"
     ]
    },
    {
     "data": {
      "text/html": [
       "<style>\n",
       ".dictlist {\n",
       "  background-color: #4EC64B;\n",
       "  text-align: center;\n",
       "  margin: 4px;\n",
       "  border-radius: 3px; padding: 0px 3px 1px 3px; display: inline-block;}\n",
       ".artifact {\n",
       "  cursor: pointer;\n",
       "  background-color: #4EC64B;\n",
       "  text-align: left;\n",
       "  margin: 4px; border-radius: 3px; padding: 0px 3px 1px 3px; display: inline-block;\n",
       "}\n",
       "div.block.hidden {\n",
       "  display: none;\n",
       "}\n",
       ".clickable {\n",
       "  cursor: pointer;\n",
       "}\n",
       ".ellipsis {\n",
       "  display: inline-block;\n",
       "  max-width: 60px;\n",
       "  white-space: nowrap;\n",
       "  overflow: hidden;\n",
       "  text-overflow: ellipsis;\n",
       "}\n",
       ".master-wrapper {\n",
       "  display: flex;\n",
       "  flex-flow: row nowrap;\n",
       "  justify-content: flex-start;\n",
       "  align-items: stretch;\n",
       "}\n",
       ".master-tbl {\n",
       "  flex: 3\n",
       "}\n",
       ".master-wrapper > div {\n",
       "  margin: 4px;\n",
       "  padding: 10px;\n",
       "}\n",
       "iframe.fileview {\n",
       "  border: 0 none;\n",
       "  height: 100%;\n",
       "  width: 100%;\n",
       "  white-space: pre-wrap;\n",
       "}\n",
       ".pane-header-title {\n",
       "  width: 80%;\n",
       "  font-weight: 500;\n",
       "}\n",
       ".pane-header {\n",
       "  line-height: 1;\n",
       "  background-color: #4EC64B;\n",
       "  padding: 3px;\n",
       "}\n",
       ".pane-header .close {\n",
       "  font-size: 20px;\n",
       "  font-weight: 700;\n",
       "  float: right;\n",
       "  margin-top: -5px;\n",
       "}\n",
       ".master-wrapper .right-pane {\n",
       "  border: 1px inset silver;\n",
       "  width: 40%;\n",
       "  min-height: 300px;\n",
       "  flex: 3\n",
       "  min-width: 500px;\n",
       "}\n",
       ".master-wrapper * {\n",
       "  box-sizing: border-box;\n",
       "}\n",
       "</style><script>\n",
       "function copyToClipboard(fld) {\n",
       "    if (document.queryCommandSupported && document.queryCommandSupported('copy')) {\n",
       "        var textarea = document.createElement('textarea');\n",
       "        textarea.textContent = fld.innerHTML;\n",
       "        textarea.style.position = 'fixed';\n",
       "        document.body.appendChild(textarea);\n",
       "        textarea.select();\n",
       "\n",
       "        try {\n",
       "            return document.execCommand('copy'); // Security exception may be thrown by some browsers.\n",
       "        } catch (ex) {\n",
       "\n",
       "        } finally {\n",
       "            document.body.removeChild(textarea);\n",
       "        }\n",
       "    }\n",
       "}\n",
       "function expandPanel(el) {\n",
       "  const panelName = \"#\" + el.getAttribute('paneName');\n",
       "  console.log(el.title);\n",
       "\n",
       "  document.querySelector(panelName + \"-title\").innerHTML = el.title\n",
       "  iframe = document.querySelector(panelName + \"-body\");\n",
       "\n",
       "  const tblcss = `<style> body { font-family: Arial, Helvetica, sans-serif;}\n",
       "    #csv { margin-bottom: 15px; }\n",
       "    #csv table { border-collapse: collapse;}\n",
       "    #csv table td { padding: 4px 8px; border: 1px solid silver;} </style>`;\n",
       "\n",
       "  function csvToHtmlTable(str) {\n",
       "    return '<div id=\"csv\"><table><tr><td>' +  str.replace(/[\\n\\r]+$/g, '').replace(/[\\n\\r]+/g, '</td></tr><tr><td>')\n",
       "      .replace(/,/g, '</td><td>') + '</td></tr></table></div>';\n",
       "  }\n",
       "\n",
       "  function reqListener () {\n",
       "    if (el.title.endsWith(\".csv\")) {\n",
       "      iframe.setAttribute(\"srcdoc\", tblcss + csvToHtmlTable(this.responseText));\n",
       "    } else {\n",
       "      iframe.setAttribute(\"srcdoc\", this.responseText);\n",
       "    }\n",
       "    console.log(this.responseText);\n",
       "  }\n",
       "\n",
       "  const oReq = new XMLHttpRequest();\n",
       "  oReq.addEventListener(\"load\", reqListener);\n",
       "  oReq.open(\"GET\", el.title);\n",
       "  oReq.send();\n",
       "\n",
       "\n",
       "  //iframe.src = el.title;\n",
       "  const resultPane = document.querySelector(panelName + \"-pane\");\n",
       "  if (resultPane.classList.contains(\"hidden\")) {\n",
       "    resultPane.classList.remove(\"hidden\");\n",
       "  }\n",
       "}\n",
       "function closePanel(el) {\n",
       "  const panelName = \"#\" + el.getAttribute('paneName')\n",
       "  const resultPane = document.querySelector(panelName + \"-pane\");\n",
       "  if (!resultPane.classList.contains(\"hidden\")) {\n",
       "    resultPane.classList.add(\"hidden\");\n",
       "  }\n",
       "}\n",
       "\n",
       "</script>\n",
       "<div class=\"master-wrapper\">\n",
       "  <div class=\"block master-tbl\"><div>\n",
       "<style scoped>\n",
       "    .dataframe tbody tr th:only-of-type {\n",
       "        vertical-align: middle;\n",
       "    }\n",
       "\n",
       "    .dataframe tbody tr th {\n",
       "        vertical-align: top;\n",
       "    }\n",
       "\n",
       "    .dataframe thead th {\n",
       "        text-align: right;\n",
       "    }\n",
       "</style>\n",
       "<table border=\"1\" class=\"dataframe\">\n",
       "  <thead>\n",
       "    <tr style=\"text-align: right;\">\n",
       "      <th>project</th>\n",
       "      <th>uid</th>\n",
       "      <th>iter</th>\n",
       "      <th>start</th>\n",
       "      <th>state</th>\n",
       "      <th>name</th>\n",
       "      <th>labels</th>\n",
       "      <th>inputs</th>\n",
       "      <th>parameters</th>\n",
       "      <th>results</th>\n",
       "      <th>artifacts</th>\n",
       "    </tr>\n",
       "  </thead>\n",
       "  <tbody>\n",
       "    <tr>\n",
       "      <td>testing-notebooks1-dani</td>\n",
       "      <td><div title=\"766bc5aecd7b4e1aa7a8e03a564c1c9a\"><a href=\"https://dashboard.default-tenant.app.vmdev94.lab.iguazeng.com/mlprojects/testing-notebooks1-dani/jobs/monitor/766bc5aecd7b4e1aa7a8e03a564c1c9a/overview\" target=\"_blank\" >...564c1c9a</a></div></td>\n",
       "      <td>0</td>\n",
       "      <td>Jan 04 12:44:59</td>\n",
       "      <td>completed</td>\n",
       "      <td>log-transactions-log_transactions</td>\n",
       "      <td><div class=\"dictlist\">v3io_user=dani</div><div class=\"dictlist\">kind=job</div><div class=\"dictlist\">owner=dani</div><div class=\"dictlist\">mlrun/client_version=1.2.1-rc10</div><div class=\"dictlist\">host=log-transactions-log-transactions-54fq6</div></td>\n",
       "      <td></td>\n",
       "      <td></td>\n",
       "      <td></td>\n",
       "      <td><div class=\"artifact\" onclick=\"expandPanel(this)\" paneName=\"resultf2ac72ee\" title=\"files/v3io/projects/testing-notebooks1-dani/artifacts/log-transactions-log_transactions/0/encoded_iris-v3.csv\">encoded_iris-v3</div><div title=\"v3io:///projects/testing-notebooks1-dani/artifacts/log-transactions-log_transactions/0/bst_model/\">bst_model</div><div title=\"v3io:///projects/testing-notebooks1-dani/artifacts/\">my_project</div><div class=\"artifact\" onclick=\"expandPanel(this)\" paneName=\"resultf2ac72ee\" title=\"files/v3io/projects/testing-notebooks1-dani/artifacts/log-transactions-log_transactions/0/iris_dataset-v3.csv\">iris_dataset-v3</div></td>\n",
       "    </tr>\n",
       "  </tbody>\n",
       "</table>\n",
       "</div></div>\n",
       "  <div id=\"resultf2ac72ee-pane\" class=\"right-pane block hidden\">\n",
       "    <div class=\"pane-header\">\n",
       "      <span id=\"resultf2ac72ee-title\" class=\"pane-header-title\">Title</span>\n",
       "      <span onclick=\"closePanel(this)\" paneName=\"resultf2ac72ee\" class=\"close clickable\">&times;</span>\n",
       "    </div>\n",
       "    <iframe class=\"fileview\" id=\"resultf2ac72ee-body\"></iframe>\n",
       "  </div>\n",
       "</div>\n"
      ],
      "text/plain": [
       "<IPython.core.display.HTML object>"
      ]
     },
     "metadata": {},
     "output_type": "display_data"
    },
    {
     "name": "stdout",
     "output_type": "stream",
     "text": [
      "\n"
     ]
    },
    {
     "data": {
      "text/html": [
       "<b> > to track results use the .show() or .logs() methods  or <a href=\"https://dashboard.default-tenant.app.vmdev94.lab.iguazeng.com/mlprojects/testing-notebooks1-dani/jobs/monitor/766bc5aecd7b4e1aa7a8e03a564c1c9a/overview\" target=\"_blank\">click here</a> to open in UI</b>"
      ],
      "text/plain": [
       "<IPython.core.display.HTML object>"
      ]
     },
     "metadata": {},
     "output_type": "display_data"
    },
    {
     "name": "stdout",
     "output_type": "stream",
     "text": [
      "> 2023-01-04 12:45:01,356 [info] run executed, status=completed\n"
     ]
    },
    {
     "data": {
      "text/plain": [
       "<mlrun.model.RunObject at 0x7eff94e21590>"
      ]
     },
     "execution_count": 3,
     "metadata": {},
     "output_type": "execute_result"
    }
   ],
   "source": [
    "import mlrun\n",
    "import os\n",
    "\n",
    "# Initialize the MLRun project object\n",
    "project1 = mlrun.get_or_create_project('testing-notebooks1',user_project=True,context=os.path.join(os.getcwd(), 'test-notebooks1'))\n",
    "\n",
    "project1.set_function(name='log_transactions', kind='job', image='mlrun/ml-models', handler='log_transactions')\n",
    "\n",
    "project1.get_function('log_transactions').run(local=False)"
   ]
  },
  {
   "cell_type": "code",
   "execution_count": 4,
   "id": "3024c84d",
   "metadata": {},
   "outputs": [
    {
     "name": "stdout",
     "output_type": "stream",
     "text": [
      "> 2023-01-04 12:45:01,414 [info] loaded project testing-notebooks2 from MLRun DB\n",
      "> 2023-01-04 12:45:48,808 [info] starting run log-transactions-log_transactions uid=9d462d3614e4477aa282fd9fc50d62f9 DB=http://mlrun-api:8080\n",
      "> 2023-01-04 12:45:49,022 [info] Job is running in the background, pod: log-transactions-log-transactions-9cjmq\n",
      "> 2023-01-04 12:45:53,856 [info] dataframe shape : (150, 4)\n",
      "> 2023-01-04 12:45:53,963 [info] logged model : <class 'xgboost.sklearn.XGBClassifier'>\n",
      "> 2023-01-04 12:45:54,115 [info] logged dataset (150, 5)\n",
      "> 2023-01-04 12:45:54,172 [info] To track results use the CLI: {'info_cmd': 'mlrun get run 9d462d3614e4477aa282fd9fc50d62f9 -p testing-notebooks2-dani', 'logs_cmd': 'mlrun logs 9d462d3614e4477aa282fd9fc50d62f9 -p testing-notebooks2-dani'}\n",
      "> 2023-01-04 12:45:54,172 [info] Or click for UI: {'ui_url': 'https://dashboard.default-tenant.app.vmdev94.lab.iguazeng.com/mlprojects/testing-notebooks2-dani/jobs/monitor/9d462d3614e4477aa282fd9fc50d62f9/overview'}\n",
      "> 2023-01-04 12:45:54,172 [info] run executed, status=completed\n",
      "final state: completed\n"
     ]
    },
    {
     "data": {
      "text/html": [
       "<style>\n",
       ".dictlist {\n",
       "  background-color: #4EC64B;\n",
       "  text-align: center;\n",
       "  margin: 4px;\n",
       "  border-radius: 3px; padding: 0px 3px 1px 3px; display: inline-block;}\n",
       ".artifact {\n",
       "  cursor: pointer;\n",
       "  background-color: #4EC64B;\n",
       "  text-align: left;\n",
       "  margin: 4px; border-radius: 3px; padding: 0px 3px 1px 3px; display: inline-block;\n",
       "}\n",
       "div.block.hidden {\n",
       "  display: none;\n",
       "}\n",
       ".clickable {\n",
       "  cursor: pointer;\n",
       "}\n",
       ".ellipsis {\n",
       "  display: inline-block;\n",
       "  max-width: 60px;\n",
       "  white-space: nowrap;\n",
       "  overflow: hidden;\n",
       "  text-overflow: ellipsis;\n",
       "}\n",
       ".master-wrapper {\n",
       "  display: flex;\n",
       "  flex-flow: row nowrap;\n",
       "  justify-content: flex-start;\n",
       "  align-items: stretch;\n",
       "}\n",
       ".master-tbl {\n",
       "  flex: 3\n",
       "}\n",
       ".master-wrapper > div {\n",
       "  margin: 4px;\n",
       "  padding: 10px;\n",
       "}\n",
       "iframe.fileview {\n",
       "  border: 0 none;\n",
       "  height: 100%;\n",
       "  width: 100%;\n",
       "  white-space: pre-wrap;\n",
       "}\n",
       ".pane-header-title {\n",
       "  width: 80%;\n",
       "  font-weight: 500;\n",
       "}\n",
       ".pane-header {\n",
       "  line-height: 1;\n",
       "  background-color: #4EC64B;\n",
       "  padding: 3px;\n",
       "}\n",
       ".pane-header .close {\n",
       "  font-size: 20px;\n",
       "  font-weight: 700;\n",
       "  float: right;\n",
       "  margin-top: -5px;\n",
       "}\n",
       ".master-wrapper .right-pane {\n",
       "  border: 1px inset silver;\n",
       "  width: 40%;\n",
       "  min-height: 300px;\n",
       "  flex: 3\n",
       "  min-width: 500px;\n",
       "}\n",
       ".master-wrapper * {\n",
       "  box-sizing: border-box;\n",
       "}\n",
       "</style><script>\n",
       "function copyToClipboard(fld) {\n",
       "    if (document.queryCommandSupported && document.queryCommandSupported('copy')) {\n",
       "        var textarea = document.createElement('textarea');\n",
       "        textarea.textContent = fld.innerHTML;\n",
       "        textarea.style.position = 'fixed';\n",
       "        document.body.appendChild(textarea);\n",
       "        textarea.select();\n",
       "\n",
       "        try {\n",
       "            return document.execCommand('copy'); // Security exception may be thrown by some browsers.\n",
       "        } catch (ex) {\n",
       "\n",
       "        } finally {\n",
       "            document.body.removeChild(textarea);\n",
       "        }\n",
       "    }\n",
       "}\n",
       "function expandPanel(el) {\n",
       "  const panelName = \"#\" + el.getAttribute('paneName');\n",
       "  console.log(el.title);\n",
       "\n",
       "  document.querySelector(panelName + \"-title\").innerHTML = el.title\n",
       "  iframe = document.querySelector(panelName + \"-body\");\n",
       "\n",
       "  const tblcss = `<style> body { font-family: Arial, Helvetica, sans-serif;}\n",
       "    #csv { margin-bottom: 15px; }\n",
       "    #csv table { border-collapse: collapse;}\n",
       "    #csv table td { padding: 4px 8px; border: 1px solid silver;} </style>`;\n",
       "\n",
       "  function csvToHtmlTable(str) {\n",
       "    return '<div id=\"csv\"><table><tr><td>' +  str.replace(/[\\n\\r]+$/g, '').replace(/[\\n\\r]+/g, '</td></tr><tr><td>')\n",
       "      .replace(/,/g, '</td><td>') + '</td></tr></table></div>';\n",
       "  }\n",
       "\n",
       "  function reqListener () {\n",
       "    if (el.title.endsWith(\".csv\")) {\n",
       "      iframe.setAttribute(\"srcdoc\", tblcss + csvToHtmlTable(this.responseText));\n",
       "    } else {\n",
       "      iframe.setAttribute(\"srcdoc\", this.responseText);\n",
       "    }\n",
       "    console.log(this.responseText);\n",
       "  }\n",
       "\n",
       "  const oReq = new XMLHttpRequest();\n",
       "  oReq.addEventListener(\"load\", reqListener);\n",
       "  oReq.open(\"GET\", el.title);\n",
       "  oReq.send();\n",
       "\n",
       "\n",
       "  //iframe.src = el.title;\n",
       "  const resultPane = document.querySelector(panelName + \"-pane\");\n",
       "  if (resultPane.classList.contains(\"hidden\")) {\n",
       "    resultPane.classList.remove(\"hidden\");\n",
       "  }\n",
       "}\n",
       "function closePanel(el) {\n",
       "  const panelName = \"#\" + el.getAttribute('paneName')\n",
       "  const resultPane = document.querySelector(panelName + \"-pane\");\n",
       "  if (!resultPane.classList.contains(\"hidden\")) {\n",
       "    resultPane.classList.add(\"hidden\");\n",
       "  }\n",
       "}\n",
       "\n",
       "</script>\n",
       "<div class=\"master-wrapper\">\n",
       "  <div class=\"block master-tbl\"><div>\n",
       "<style scoped>\n",
       "    .dataframe tbody tr th:only-of-type {\n",
       "        vertical-align: middle;\n",
       "    }\n",
       "\n",
       "    .dataframe tbody tr th {\n",
       "        vertical-align: top;\n",
       "    }\n",
       "\n",
       "    .dataframe thead th {\n",
       "        text-align: right;\n",
       "    }\n",
       "</style>\n",
       "<table border=\"1\" class=\"dataframe\">\n",
       "  <thead>\n",
       "    <tr style=\"text-align: right;\">\n",
       "      <th>project</th>\n",
       "      <th>uid</th>\n",
       "      <th>iter</th>\n",
       "      <th>start</th>\n",
       "      <th>state</th>\n",
       "      <th>name</th>\n",
       "      <th>labels</th>\n",
       "      <th>inputs</th>\n",
       "      <th>parameters</th>\n",
       "      <th>results</th>\n",
       "      <th>artifacts</th>\n",
       "    </tr>\n",
       "  </thead>\n",
       "  <tbody>\n",
       "    <tr>\n",
       "      <td>testing-notebooks2-dani</td>\n",
       "      <td><div title=\"9d462d3614e4477aa282fd9fc50d62f9\"><a href=\"https://dashboard.default-tenant.app.vmdev94.lab.iguazeng.com/mlprojects/testing-notebooks2-dani/jobs/monitor/9d462d3614e4477aa282fd9fc50d62f9/overview\" target=\"_blank\" >...c50d62f9</a></div></td>\n",
       "      <td>0</td>\n",
       "      <td>Jan 04 12:45:53</td>\n",
       "      <td>completed</td>\n",
       "      <td>log-transactions-log_transactions</td>\n",
       "      <td><div class=\"dictlist\">v3io_user=dani</div><div class=\"dictlist\">kind=job</div><div class=\"dictlist\">owner=dani</div><div class=\"dictlist\">mlrun/client_version=1.2.1-rc10</div><div class=\"dictlist\">host=log-transactions-log-transactions-9cjmq</div></td>\n",
       "      <td></td>\n",
       "      <td></td>\n",
       "      <td></td>\n",
       "      <td><div class=\"artifact\" onclick=\"expandPanel(this)\" paneName=\"result630ee0ab\" title=\"files/v3io/projects/testing-notebooks2-dani/artifacts/log-transactions-log_transactions/0/encoded_iris-v3.csv\">encoded_iris-v3</div><div title=\"v3io:///projects/testing-notebooks2-dani/artifacts/log-transactions-log_transactions/0/bst_model/\">bst_model</div><div title=\"v3io:///projects/testing-notebooks2-dani/artifacts/\">my_project</div><div class=\"artifact\" onclick=\"expandPanel(this)\" paneName=\"result630ee0ab\" title=\"files/v3io/projects/testing-notebooks2-dani/artifacts/log-transactions-log_transactions/0/iris_dataset-v3.csv\">iris_dataset-v3</div></td>\n",
       "    </tr>\n",
       "  </tbody>\n",
       "</table>\n",
       "</div></div>\n",
       "  <div id=\"result630ee0ab-pane\" class=\"right-pane block hidden\">\n",
       "    <div class=\"pane-header\">\n",
       "      <span id=\"result630ee0ab-title\" class=\"pane-header-title\">Title</span>\n",
       "      <span onclick=\"closePanel(this)\" paneName=\"result630ee0ab\" class=\"close clickable\">&times;</span>\n",
       "    </div>\n",
       "    <iframe class=\"fileview\" id=\"result630ee0ab-body\"></iframe>\n",
       "  </div>\n",
       "</div>\n"
      ],
      "text/plain": [
       "<IPython.core.display.HTML object>"
      ]
     },
     "metadata": {},
     "output_type": "display_data"
    },
    {
     "name": "stdout",
     "output_type": "stream",
     "text": [
      "\n"
     ]
    },
    {
     "data": {
      "text/html": [
       "<b> > to track results use the .show() or .logs() methods  or <a href=\"https://dashboard.default-tenant.app.vmdev94.lab.iguazeng.com/mlprojects/testing-notebooks2-dani/jobs/monitor/9d462d3614e4477aa282fd9fc50d62f9/overview\" target=\"_blank\">click here</a> to open in UI</b>"
      ],
      "text/plain": [
       "<IPython.core.display.HTML object>"
      ]
     },
     "metadata": {},
     "output_type": "display_data"
    },
    {
     "name": "stdout",
     "output_type": "stream",
     "text": [
      "> 2023-01-04 12:45:56,252 [info] run executed, status=completed\n"
     ]
    },
    {
     "data": {
      "text/plain": [
       "<mlrun.model.RunObject at 0x7eff6c62fdd0>"
      ]
     },
     "execution_count": 4,
     "metadata": {},
     "output_type": "execute_result"
    }
   ],
   "source": [
    "# Initialize the MLRun project object\n",
    "project2 = mlrun.get_or_create_project('testing-notebooks2',user_project=True,context=os.path.join(os.getcwd(), 'test-notebooks2'))\n",
    "\n",
    "project2.set_function(name='log_transactions', kind='job', image='mlrun/ml-models', handler='log_transactions')\n",
    "\n",
    "project2.get_function('log_transactions').run(local=False)"
   ]
  },
  {
   "cell_type": "markdown",
   "id": "2064a865",
   "metadata": {},
   "source": [
    "## 3. Importing/Exporting artifacts"
   ]
  },
  {
   "cell_type": "markdown",
   "id": "485b8e64",
   "metadata": {},
   "source": [
    "### 3.1 base artifact"
   ]
  },
  {
   "cell_type": "code",
   "execution_count": 5,
   "id": "0e55aa70",
   "metadata": {},
   "outputs": [
    {
     "data": {
      "text/html": [
       "<div>\n",
       "<style scoped>\n",
       "    .dataframe tbody tr th:only-of-type {\n",
       "        vertical-align: middle;\n",
       "    }\n",
       "\n",
       "    .dataframe tbody tr th {\n",
       "        vertical-align: top;\n",
       "    }\n",
       "\n",
       "    .dataframe thead th {\n",
       "        text-align: right;\n",
       "    }\n",
       "</style>\n",
       "<table border=\"1\" class=\"dataframe\">\n",
       "  <thead>\n",
       "    <tr style=\"text-align: right;\">\n",
       "      <th></th>\n",
       "      <th>0</th>\n",
       "      <th>1</th>\n",
       "      <th>2</th>\n",
       "      <th>3</th>\n",
       "    </tr>\n",
       "  </thead>\n",
       "  <tbody>\n",
       "    <tr>\n",
       "      <th>0</th>\n",
       "      <td>5.1</td>\n",
       "      <td>3.5</td>\n",
       "      <td>1.4</td>\n",
       "      <td>0.2</td>\n",
       "    </tr>\n",
       "    <tr>\n",
       "      <th>1</th>\n",
       "      <td>4.9</td>\n",
       "      <td>3.0</td>\n",
       "      <td>1.4</td>\n",
       "      <td>0.2</td>\n",
       "    </tr>\n",
       "    <tr>\n",
       "      <th>2</th>\n",
       "      <td>4.7</td>\n",
       "      <td>3.2</td>\n",
       "      <td>1.3</td>\n",
       "      <td>0.2</td>\n",
       "    </tr>\n",
       "    <tr>\n",
       "      <th>3</th>\n",
       "      <td>4.6</td>\n",
       "      <td>3.1</td>\n",
       "      <td>1.5</td>\n",
       "      <td>0.2</td>\n",
       "    </tr>\n",
       "    <tr>\n",
       "      <th>4</th>\n",
       "      <td>5.0</td>\n",
       "      <td>3.6</td>\n",
       "      <td>1.4</td>\n",
       "      <td>0.2</td>\n",
       "    </tr>\n",
       "  </tbody>\n",
       "</table>\n",
       "</div>"
      ],
      "text/plain": [
       "     0    1    2    3\n",
       "0  5.1  3.5  1.4  0.2\n",
       "1  4.9  3.0  1.4  0.2\n",
       "2  4.7  3.2  1.3  0.2\n",
       "3  4.6  3.1  1.5  0.2\n",
       "4  5.0  3.6  1.4  0.2"
      ]
     },
     "execution_count": 5,
     "metadata": {},
     "output_type": "execute_result"
    }
   ],
   "source": [
    "# Exporting project2 artifact\n",
    "project2.get_artifact('log-transactions-log_transactions_encoded_iris-v3').export('proj2_encoded_iris.yaml')\n",
    "\n",
    "# Importing the artifact from project1\n",
    "project1.import_artifact('proj2_encoded_iris.yaml',\n",
    "                         new_key = 'imported_proj1_encoded_iris')\n",
    "\n",
    "# Testing the imported artifact\n",
    "pd.DataFrame(json.loads(project1.get_artifact('imported_proj1_encoded_iris').to_dataitem().get())).head()"
   ]
  },
  {
   "cell_type": "markdown",
   "id": "0f6ec68e",
   "metadata": {},
   "source": [
    "### 3.2 dataset artifact"
   ]
  },
  {
   "cell_type": "code",
   "execution_count": 6,
   "id": "bed089d8",
   "metadata": {},
   "outputs": [
    {
     "data": {
      "text/html": [
       "<div>\n",
       "<style scoped>\n",
       "    .dataframe tbody tr th:only-of-type {\n",
       "        vertical-align: middle;\n",
       "    }\n",
       "\n",
       "    .dataframe tbody tr th {\n",
       "        vertical-align: top;\n",
       "    }\n",
       "\n",
       "    .dataframe thead th {\n",
       "        text-align: right;\n",
       "    }\n",
       "</style>\n",
       "<table border=\"1\" class=\"dataframe\">\n",
       "  <thead>\n",
       "    <tr style=\"text-align: right;\">\n",
       "      <th></th>\n",
       "      <th>Unnamed: 0</th>\n",
       "      <th>0</th>\n",
       "      <th>1</th>\n",
       "      <th>2</th>\n",
       "      <th>3</th>\n",
       "    </tr>\n",
       "  </thead>\n",
       "  <tbody>\n",
       "    <tr>\n",
       "      <th>0</th>\n",
       "      <td>0</td>\n",
       "      <td>5.1</td>\n",
       "      <td>3.5</td>\n",
       "      <td>1.4</td>\n",
       "      <td>0.2</td>\n",
       "    </tr>\n",
       "    <tr>\n",
       "      <th>1</th>\n",
       "      <td>1</td>\n",
       "      <td>4.9</td>\n",
       "      <td>3.0</td>\n",
       "      <td>1.4</td>\n",
       "      <td>0.2</td>\n",
       "    </tr>\n",
       "    <tr>\n",
       "      <th>2</th>\n",
       "      <td>2</td>\n",
       "      <td>4.7</td>\n",
       "      <td>3.2</td>\n",
       "      <td>1.3</td>\n",
       "      <td>0.2</td>\n",
       "    </tr>\n",
       "    <tr>\n",
       "      <th>3</th>\n",
       "      <td>3</td>\n",
       "      <td>4.6</td>\n",
       "      <td>3.1</td>\n",
       "      <td>1.5</td>\n",
       "      <td>0.2</td>\n",
       "    </tr>\n",
       "    <tr>\n",
       "      <th>4</th>\n",
       "      <td>4</td>\n",
       "      <td>5.0</td>\n",
       "      <td>3.6</td>\n",
       "      <td>1.4</td>\n",
       "      <td>0.2</td>\n",
       "    </tr>\n",
       "    <tr>\n",
       "      <th>...</th>\n",
       "      <td>...</td>\n",
       "      <td>...</td>\n",
       "      <td>...</td>\n",
       "      <td>...</td>\n",
       "      <td>...</td>\n",
       "    </tr>\n",
       "    <tr>\n",
       "      <th>145</th>\n",
       "      <td>145</td>\n",
       "      <td>6.7</td>\n",
       "      <td>3.0</td>\n",
       "      <td>5.2</td>\n",
       "      <td>2.3</td>\n",
       "    </tr>\n",
       "    <tr>\n",
       "      <th>146</th>\n",
       "      <td>146</td>\n",
       "      <td>6.3</td>\n",
       "      <td>2.5</td>\n",
       "      <td>5.0</td>\n",
       "      <td>1.9</td>\n",
       "    </tr>\n",
       "    <tr>\n",
       "      <th>147</th>\n",
       "      <td>147</td>\n",
       "      <td>6.5</td>\n",
       "      <td>3.0</td>\n",
       "      <td>5.2</td>\n",
       "      <td>2.0</td>\n",
       "    </tr>\n",
       "    <tr>\n",
       "      <th>148</th>\n",
       "      <td>148</td>\n",
       "      <td>6.2</td>\n",
       "      <td>3.4</td>\n",
       "      <td>5.4</td>\n",
       "      <td>2.3</td>\n",
       "    </tr>\n",
       "    <tr>\n",
       "      <th>149</th>\n",
       "      <td>149</td>\n",
       "      <td>5.9</td>\n",
       "      <td>3.0</td>\n",
       "      <td>5.1</td>\n",
       "      <td>1.8</td>\n",
       "    </tr>\n",
       "  </tbody>\n",
       "</table>\n",
       "<p>150 rows × 5 columns</p>\n",
       "</div>"
      ],
      "text/plain": [
       "     Unnamed: 0    0    1    2    3\n",
       "0             0  5.1  3.5  1.4  0.2\n",
       "1             1  4.9  3.0  1.4  0.2\n",
       "2             2  4.7  3.2  1.3  0.2\n",
       "3             3  4.6  3.1  1.5  0.2\n",
       "4             4  5.0  3.6  1.4  0.2\n",
       "..          ...  ...  ...  ...  ...\n",
       "145         145  6.7  3.0  5.2  2.3\n",
       "146         146  6.3  2.5  5.0  1.9\n",
       "147         147  6.5  3.0  5.2  2.0\n",
       "148         148  6.2  3.4  5.4  2.3\n",
       "149         149  5.9  3.0  5.1  1.8\n",
       "\n",
       "[150 rows x 5 columns]"
      ]
     },
     "execution_count": 6,
     "metadata": {},
     "output_type": "execute_result"
    }
   ],
   "source": [
    "# Exporting project2 model artifact\n",
    "project2.get_artifact('log-transactions-log_transactions_iris_dataset-v3').export('proj2_dataset.yaml')\n",
    "\n",
    "# importing model artifact from project2\n",
    "project1.import_artifact('proj2_dataset.yaml',\n",
    "                         new_key = 'imported_proj1_dataset')\n",
    "\n",
    "# Testing the imported dataset artifact\n",
    "project1.get_artifact('imported_proj1_dataset').to_dataitem().as_df()"
   ]
  },
  {
   "cell_type": "markdown",
   "id": "53d01ed4",
   "metadata": {},
   "source": [
    "### 3.3 model artifact"
   ]
  },
  {
   "cell_type": "code",
   "execution_count": 7,
   "id": "fded66cd",
   "metadata": {},
   "outputs": [
    {
     "data": {
      "text/plain": [
       "array([0, 0, 0, 0, 0])"
      ]
     },
     "execution_count": 7,
     "metadata": {},
     "output_type": "execute_result"
    }
   ],
   "source": [
    "# Exporting project1 model artifact\n",
    "project1.get_artifact('log-transactions-log_transactions_bst_model').export('proj1_model.yaml')\n",
    "\n",
    "# importing model artifact from project2\n",
    "project2.import_artifact('proj1_model.yaml',\n",
    "                         new_key = 'imported_proj2_model')\n",
    "\n",
    "\n",
    "# Testing the imported model artifact\n",
    "project2_model = pickle.loads(project2.get_artifact('imported_proj2_model')._get_file_body())\n",
    "project2_model.predict(pd.DataFrame(json.loads((project1.get_artifact('log-transactions-log_transactions_encoded_iris-v3').to_dataitem().get())))[:5])"
   ]
  },
  {
   "cell_type": "markdown",
   "id": "431c56d7",
   "metadata": {},
   "source": [
    "### 3.4 dir artifact"
   ]
  },
  {
   "cell_type": "code",
   "execution_count": 8,
   "id": "16d1e5a1",
   "metadata": {},
   "outputs": [],
   "source": [
    "try: \n",
    "    # Exporting project2 dir artifact\n",
    "    project1.get_artifact('log-transactions-log_transactions_my_project').export('proj1_dir.yaml')\n",
    "\n",
    "    # importing dir artifact from project2\n",
    "    project2.import_artifact('proj1_dir.yaml',\n",
    "                             new_key = 'imported_proj2_dir')\n",
    "\n",
    "    # Testing the imported dir artifact\n",
    "    project2.get_artifact('imported_proj2_dir').to_dataitem().listdir()\n",
    "except Exception as e:\n",
    "    print(e)"
   ]
  },
  {
   "cell_type": "markdown",
   "id": "6879ce68",
   "metadata": {},
   "source": [
    "## 4. Importing/Exporting functions"
   ]
  },
  {
   "cell_type": "markdown",
   "id": "b482d5be",
   "metadata": {},
   "source": [
    "### 4.1 Serving function"
   ]
  },
  {
   "cell_type": "markdown",
   "id": "1dfa80b7",
   "metadata": {},
   "source": [
    "#### 4.1.1 Creating serving function, adding model, predicting and deploying"
   ]
  },
  {
   "cell_type": "code",
   "execution_count": 9,
   "id": "6bf6be12",
   "metadata": {},
   "outputs": [
    {
     "data": {
      "text/plain": [
       "<mlrun.serving.states.TaskStep at 0x7effbc3806d0>"
      ]
     },
     "execution_count": 9,
     "metadata": {},
     "output_type": "execute_result"
    }
   ],
   "source": [
    "# Setting project1 serving function\n",
    "project1.set_function(name='proj1_serving',func = mlrun.new_function(name='proj1_serving', kind='serving',image='mlrun/ml-models', command = []))\n",
    "\n",
    "# adding project2 model to project1 serving function\n",
    "project1.get_function('proj1_serving').add_model(key = 'my_model',\n",
    "                                                 class_name = \"mlrun.frameworks.xgboost.XGBoostModelServer\",\n",
    "                                                 model_path = project2.get_artifact('log-transactions-log_transactions_bst_model').target_path)"
   ]
  },
  {
   "cell_type": "code",
   "execution_count": 10,
   "id": "5b2b5d8f",
   "metadata": {},
   "outputs": [
    {
     "name": "stdout",
     "output_type": "stream",
     "text": [
      "> 2023-01-04 12:45:58,625 [warning] run command, file or code were not specified\n",
      "> 2023-01-04 12:46:15,754 [info] model my_model was loaded\n",
      "> 2023-01-04 12:46:15,755 [info] Loaded ['my_model']\n"
     ]
    },
    {
     "data": {
      "text/plain": [
       "{'id': 'ed7e99d0008a4083aa6d5d257157db4f',\n",
       " 'model_name': 'my_model',\n",
       " 'outputs': [2, 2, 2, 2, 2]}"
      ]
     },
     "execution_count": 10,
     "metadata": {},
     "output_type": "execute_result"
    }
   ],
   "source": [
    "# Testing the fused model serving function\n",
    "server = project1.get_function('proj1_serving').to_mock_server()\n",
    "\n",
    "server.test(body={'inputs': \n",
    "                  pd.DataFrame(json.loads(project2.get_artifact('log-transactions-log_transactions_encoded_iris-v3').to_dataitem().get())).values.tolist()[-5:]})"
   ]
  },
  {
   "cell_type": "code",
   "execution_count": 11,
   "id": "78920140",
   "metadata": {},
   "outputs": [
    {
     "name": "stdout",
     "output_type": "stream",
     "text": [
      "> 2023-01-04 12:46:15,859 [info] Starting remote function deploy\n",
      "2023-01-04 12:46:16  (info) Deploying function\n",
      "2023-01-04 12:46:16  (info) Building\n",
      "2023-01-04 12:46:16  (info) Staging files and preparing base images\n",
      "2023-01-04 12:46:16  (info) Building processor image\n",
      "2023-01-04 12:48:22  (info) Build complete\n",
      "2023-01-04 12:48:36  (info) Function deploy complete\n",
      "> 2023-01-04 12:48:37,451 [info] successfully deployed function: {'internal_invocation_urls': ['nuclio-testing-notebooks1-dani-proj1-serving.default-tenant.svc.cluster.local:8080'], 'external_invocation_urls': ['testing-notebooks1-dani-proj1-serving-testing-notebooks1-dani.default-tenant.app.vmdev94.lab.iguazeng.com/']}\n"
     ]
    },
    {
     "data": {
      "text/plain": [
       "DeployStatus(state=ready, outputs={'endpoint': 'http://testing-notebooks1-dani-proj1-serving-testing-notebooks1-dani.default-tenant.app.vmdev94.lab.iguazeng.com/', 'name': 'testing-notebooks1-dani-proj1-serving'})"
      ]
     },
     "execution_count": 11,
     "metadata": {},
     "output_type": "execute_result"
    }
   ],
   "source": [
    "project1.deploy_function('proj1_serving')"
   ]
  },
  {
   "cell_type": "code",
   "execution_count": 12,
   "id": "e6b36a2b",
   "metadata": {},
   "outputs": [
    {
     "name": "stdout",
     "output_type": "stream",
     "text": [
      "> 2023-01-04 12:48:42,618 [info] invoking function: {'method': 'POST', 'path': 'http://nuclio-testing-notebooks1-dani-proj1-serving.default-tenant.svc.cluster.local:8080/v2/models/my_model/infer'}\n"
     ]
    },
    {
     "data": {
      "text/plain": [
       "{'id': '97b210b5-cac5-429e-907b-a466d8db06bc',\n",
       " 'model_name': 'my_model',\n",
       " 'outputs': [2, 2, 2, 2, 2]}"
      ]
     },
     "execution_count": 12,
     "metadata": {},
     "output_type": "execute_result"
    }
   ],
   "source": [
    "import time\n",
    "time.sleep(5)\n",
    "\n",
    "project1.get_function('proj1_serving').invoke(\n",
    "    path='/v2/models/my_model/infer', \n",
    "    body={'inputs': pd.DataFrame(json.loads(project2.get_artifact('log-transactions-log_transactions_encoded_iris-v3').to_dataitem().get())).values.tolist()[-5:]}\n",
    ")"
   ]
  },
  {
   "cell_type": "markdown",
   "id": "6e2e33a7",
   "metadata": {},
   "source": [
    "#### 4.1.2 Importing & Exporting already deployed serving function"
   ]
  },
  {
   "cell_type": "code",
   "execution_count": 13,
   "id": "5a1a678a",
   "metadata": {},
   "outputs": [
    {
     "name": "stdout",
     "output_type": "stream",
     "text": [
      "> 2023-01-04 12:48:42,879 [info] function spec saved to path: proj1_serving.yaml\n",
      "True\n"
     ]
    }
   ],
   "source": [
    "# exporting project1 deployed serving function\n",
    "project1.get_function('proj1_serving').export('proj1_serving.yaml')\n",
    "\n",
    "# importing project1 serving function from project2\n",
    "project2.set_function(name='proj2_imported_serving', func='../proj1_serving.yaml')\n",
    "print(project2.get_function('proj2_imported_serving').is_deployed())"
   ]
  },
  {
   "cell_type": "code",
   "execution_count": 14,
   "id": "ae98902c",
   "metadata": {},
   "outputs": [
    {
     "name": "stdout",
     "output_type": "stream",
     "text": [
      "command file http://testing-notebooks1-dani-proj1-serving-testing-notebooks1-dani.default-tenant.app.vmdev94.lab.iguazeng.com/ not found\n"
     ]
    }
   ],
   "source": [
    "try:\n",
    "    # Testing the imported already deployed function\n",
    "    server = project2.get_function('proj2_imported_serving').to_mock_server()\n",
    "\n",
    "    server.test(body={'inputs': \n",
    "                      pd.DataFrame(json.loads(project2.get_artifact('log-transactions-log_transactions_encoded_iris-v3').to_dataitem().get())).values.tolist()[-5:]})\n",
    "except Exception as e:\n",
    "    print(e)"
   ]
  },
  {
   "cell_type": "code",
   "execution_count": 15,
   "id": "68294188",
   "metadata": {},
   "outputs": [
    {
     "name": "stdout",
     "output_type": "stream",
     "text": [
      "> 2023-01-04 12:48:42,917 [info] Starting remote function deploy\n",
      "2023-01-04 12:48:43  (info) Deploying function\n",
      "2023-01-04 12:48:43  (info) Building\n",
      "2023-01-04 12:48:43  (info) Staging files and preparing base images\n",
      "2023-01-04 12:48:43  (info) Building processor image\n",
      "2023-01-04 12:50:45  (info) Build complete\n",
      "> 2023-01-04 12:50:55,793 [info] successfully deployed function: {'internal_invocation_urls': ['nuclio-testing-notebooks2-dani-proj1-serving.default-tenant.svc.cluster.local:8080'], 'external_invocation_urls': ['testing-notebooks2-dani-proj1-serving-testing-notebooks2-dani.default-tenant.app.vmdev94.lab.iguazeng.com/']}\n"
     ]
    },
    {
     "data": {
      "text/plain": [
       "DeployStatus(state=ready, outputs={'endpoint': 'http://testing-notebooks2-dani-proj1-serving-testing-notebooks2-dani.default-tenant.app.vmdev94.lab.iguazeng.com/', 'name': 'testing-notebooks2-dani-proj1-serving'})"
      ]
     },
     "execution_count": 15,
     "metadata": {},
     "output_type": "execute_result"
    }
   ],
   "source": [
    "# Redeploying the already deployed function\n",
    "project2.deploy_function('proj2_imported_serving')"
   ]
  },
  {
   "cell_type": "markdown",
   "id": "eefe7e3d",
   "metadata": {},
   "source": [
    "##### Testing the redeployed imported-deployed-function"
   ]
  },
  {
   "cell_type": "code",
   "execution_count": 16,
   "id": "65820166",
   "metadata": {},
   "outputs": [
    {
     "name": "stdout",
     "output_type": "stream",
     "text": [
      "> 2023-01-04 12:51:00,971 [info] invoking function: {'method': 'POST', 'path': 'http://nuclio-testing-notebooks2-dani-proj1-serving.default-tenant.svc.cluster.local:8080/v2/models/my_model/infer'}\n"
     ]
    },
    {
     "data": {
      "text/plain": [
       "{'id': '532a6cc3-845d-4105-a927-4551d5fdaad6',\n",
       " 'model_name': 'my_model',\n",
       " 'outputs': [2, 2, 2, 2, 2]}"
      ]
     },
     "execution_count": 16,
     "metadata": {},
     "output_type": "execute_result"
    }
   ],
   "source": [
    "time.sleep(5) \n",
    "project2.get_function('proj2_imported_serving').invoke(\n",
    "    path='/v2/models/my_model/infer', \n",
    "    body={'inputs': pd.DataFrame(json.loads(project2.get_artifact('log-transactions-log_transactions_encoded_iris-v3').to_dataitem().get())).values.tolist()[-5:]}\n",
    ")"
   ]
  },
  {
   "cell_type": "markdown",
   "id": "704af1a2",
   "metadata": {},
   "source": [
    "#### 4.1.3 Importing & Exporting undeployed serving function"
   ]
  },
  {
   "cell_type": "code",
   "execution_count": 17,
   "id": "fb45f226",
   "metadata": {},
   "outputs": [
    {
     "data": {
      "text/plain": [
       "<mlrun.serving.states.TaskStep at 0x7eff6806d510>"
      ]
     },
     "execution_count": 17,
     "metadata": {},
     "output_type": "execute_result"
    }
   ],
   "source": [
    "# Setting project2 serving function\n",
    "project2.set_function(mlrun.new_function(name='proj2_serving', kind='serving',image='mlrun/ml-models', command = []))\n",
    "\n",
    "# adding project1 model to project2 serving function\n",
    "project2.get_function('proj2-serving').add_model(key = 'my_model',\n",
    "                                                 class_name = \"mlrun.frameworks.xgboost.XGBoostModelServer\",\n",
    "                                                 model_path = project1.get_artifact('log-transactions-log_transactions_bst_model').target_path)"
   ]
  },
  {
   "cell_type": "code",
   "execution_count": 18,
   "id": "d2a5ba27",
   "metadata": {},
   "outputs": [
    {
     "name": "stdout",
     "output_type": "stream",
     "text": [
      "> 2023-01-04 12:51:01,379 [info] function spec saved to path: proj2_serving.yaml\n",
      "True\n"
     ]
    }
   ],
   "source": [
    "# exporting project2 not deployed serving function\n",
    "project2.get_function('proj2-serving').export('proj2_serving.yaml')\n",
    "\n",
    "# Importing project2 serving function from project1\n",
    "project1.set_function(name='proj1_imported_serving', func='../proj2_serving.yaml')\n",
    "print(project1.get_function('proj1_imported_serving').is_deployed())"
   ]
  },
  {
   "cell_type": "code",
   "execution_count": 19,
   "id": "d94f68f7",
   "metadata": {},
   "outputs": [
    {
     "name": "stdout",
     "output_type": "stream",
     "text": [
      "> 2023-01-04 12:51:01,399 [warning] run command, file or code were not specified\n",
      "> 2023-01-04 12:51:02,418 [info] model my_model was loaded\n",
      "> 2023-01-04 12:51:02,419 [info] Loaded ['my_model']\n"
     ]
    },
    {
     "data": {
      "text/plain": [
       "{'id': 'b14c0c2715e84c14810382043c5b8a0a',\n",
       " 'model_name': 'my_model',\n",
       " 'outputs': [2, 2, 2, 2, 2]}"
      ]
     },
     "execution_count": 19,
     "metadata": {},
     "output_type": "execute_result"
    }
   ],
   "source": [
    "# Testing the imported undeployed function\n",
    "server = project1.get_function('proj1_imported_serving').to_mock_server()\n",
    "\n",
    "server.test(body={'inputs': \n",
    "                  pd.DataFrame(json.loads(project2.get_artifact('log-transactions-log_transactions_encoded_iris-v3').to_dataitem().get())).values.tolist()[-5:]})"
   ]
  },
  {
   "cell_type": "code",
   "execution_count": 20,
   "id": "37955ad2",
   "metadata": {},
   "outputs": [
    {
     "name": "stdout",
     "output_type": "stream",
     "text": [
      "> 2023-01-04 12:51:02,524 [info] Starting remote function deploy\n",
      "2023-01-04 12:51:02  (info) Deploying function\n",
      "2023-01-04 12:51:02  (info) Building\n",
      "2023-01-04 12:51:02  (info) Staging files and preparing base images\n",
      "2023-01-04 12:51:02  (info) Building processor image\n",
      "2023-01-04 12:53:16  (info) Build complete\n",
      "2023-01-04 12:54:02  (info) Function deploy complete\n",
      "> 2023-01-04 12:54:03,004 [info] successfully deployed function: {'internal_invocation_urls': ['nuclio-testing-notebooks1-dani-proj2-serving.default-tenant.svc.cluster.local:8080'], 'external_invocation_urls': ['testing-notebooks1-dani-proj2-serving-testing-notebooks1-dani.default-tenant.app.vmdev94.lab.iguazeng.com/']}\n"
     ]
    },
    {
     "data": {
      "text/plain": [
       "DeployStatus(state=ready, outputs={'endpoint': 'http://testing-notebooks1-dani-proj2-serving-testing-notebooks1-dani.default-tenant.app.vmdev94.lab.iguazeng.com/', 'name': 'testing-notebooks1-dani-proj2-serving'})"
      ]
     },
     "execution_count": 20,
     "metadata": {},
     "output_type": "execute_result"
    }
   ],
   "source": [
    "# Deploying the undeployed imported function\n",
    "project1.deploy_function('proj1_imported_serving')"
   ]
  },
  {
   "cell_type": "code",
   "execution_count": 21,
   "id": "d80cbf84",
   "metadata": {},
   "outputs": [
    {
     "name": "stdout",
     "output_type": "stream",
     "text": [
      "> 2023-01-04 12:54:08,178 [info] invoking function: {'method': 'POST', 'path': 'http://nuclio-testing-notebooks1-dani-proj2-serving.default-tenant.svc.cluster.local:8080/v2/models/my_model/infer'}\n"
     ]
    },
    {
     "data": {
      "text/plain": [
       "{'id': 'aa56f282-bd09-4689-a446-059d45a8993c',\n",
       " 'model_name': 'my_model',\n",
       " 'outputs': [2, 2, 2, 2, 2]}"
      ]
     },
     "execution_count": 21,
     "metadata": {},
     "output_type": "execute_result"
    }
   ],
   "source": [
    "time.sleep(5)\n",
    "\n",
    "# Testing the imported then deployed function\n",
    "project1.get_function('proj1_imported_serving').invoke(\n",
    "    path='/v2/models/my_model/infer', \n",
    "    body={'inputs': pd.DataFrame(json.loads(project2.get_artifact('log-transactions-log_transactions_encoded_iris-v3').to_dataitem().get())).values.tolist()[-5:]}\n",
    ")"
   ]
  },
  {
   "cell_type": "markdown",
   "id": "9f9b5aa3",
   "metadata": {},
   "source": [
    "### 4.2 mlrun function"
   ]
  },
  {
   "cell_type": "code",
   "execution_count": 22,
   "id": "28fde23a",
   "metadata": {},
   "outputs": [
    {
     "name": "stdout",
     "output_type": "stream",
     "text": [
      "> 2023-01-04 12:54:08,474 [info] function spec saved to path: proj2_mlrun_func.yaml\n",
      "> 2023-01-04 12:54:08,535 [info] starting run log-transactions-log_transactions uid=a166ce2668334bbf94bfd9d98da9a2e8 DB=http://mlrun-api:8080\n",
      "> 2023-01-04 12:54:13,050 [info] Job is running in the background, pod: log-transactions-log-transactions-9lcp9\n",
      "> 2023-01-04 12:54:17,887 [info] dataframe shape : (150, 4)\n",
      "> 2023-01-04 12:54:18,013 [info] logged model : <class 'xgboost.sklearn.XGBClassifier'>\n",
      "> 2023-01-04 12:54:18,173 [info] logged dataset (150, 5)\n",
      "> 2023-01-04 12:54:18,229 [info] To track results use the CLI: {'info_cmd': 'mlrun get run a166ce2668334bbf94bfd9d98da9a2e8 -p testing-notebooks1-dani', 'logs_cmd': 'mlrun logs a166ce2668334bbf94bfd9d98da9a2e8 -p testing-notebooks1-dani'}\n",
      "> 2023-01-04 12:54:18,229 [info] Or click for UI: {'ui_url': 'https://dashboard.default-tenant.app.vmdev94.lab.iguazeng.com/mlprojects/testing-notebooks1-dani/jobs/monitor/a166ce2668334bbf94bfd9d98da9a2e8/overview'}\n",
      "> 2023-01-04 12:54:18,230 [info] run executed, status=completed\n",
      "final state: completed\n"
     ]
    },
    {
     "data": {
      "text/html": [
       "<style>\n",
       ".dictlist {\n",
       "  background-color: #4EC64B;\n",
       "  text-align: center;\n",
       "  margin: 4px;\n",
       "  border-radius: 3px; padding: 0px 3px 1px 3px; display: inline-block;}\n",
       ".artifact {\n",
       "  cursor: pointer;\n",
       "  background-color: #4EC64B;\n",
       "  text-align: left;\n",
       "  margin: 4px; border-radius: 3px; padding: 0px 3px 1px 3px; display: inline-block;\n",
       "}\n",
       "div.block.hidden {\n",
       "  display: none;\n",
       "}\n",
       ".clickable {\n",
       "  cursor: pointer;\n",
       "}\n",
       ".ellipsis {\n",
       "  display: inline-block;\n",
       "  max-width: 60px;\n",
       "  white-space: nowrap;\n",
       "  overflow: hidden;\n",
       "  text-overflow: ellipsis;\n",
       "}\n",
       ".master-wrapper {\n",
       "  display: flex;\n",
       "  flex-flow: row nowrap;\n",
       "  justify-content: flex-start;\n",
       "  align-items: stretch;\n",
       "}\n",
       ".master-tbl {\n",
       "  flex: 3\n",
       "}\n",
       ".master-wrapper > div {\n",
       "  margin: 4px;\n",
       "  padding: 10px;\n",
       "}\n",
       "iframe.fileview {\n",
       "  border: 0 none;\n",
       "  height: 100%;\n",
       "  width: 100%;\n",
       "  white-space: pre-wrap;\n",
       "}\n",
       ".pane-header-title {\n",
       "  width: 80%;\n",
       "  font-weight: 500;\n",
       "}\n",
       ".pane-header {\n",
       "  line-height: 1;\n",
       "  background-color: #4EC64B;\n",
       "  padding: 3px;\n",
       "}\n",
       ".pane-header .close {\n",
       "  font-size: 20px;\n",
       "  font-weight: 700;\n",
       "  float: right;\n",
       "  margin-top: -5px;\n",
       "}\n",
       ".master-wrapper .right-pane {\n",
       "  border: 1px inset silver;\n",
       "  width: 40%;\n",
       "  min-height: 300px;\n",
       "  flex: 3\n",
       "  min-width: 500px;\n",
       "}\n",
       ".master-wrapper * {\n",
       "  box-sizing: border-box;\n",
       "}\n",
       "</style><script>\n",
       "function copyToClipboard(fld) {\n",
       "    if (document.queryCommandSupported && document.queryCommandSupported('copy')) {\n",
       "        var textarea = document.createElement('textarea');\n",
       "        textarea.textContent = fld.innerHTML;\n",
       "        textarea.style.position = 'fixed';\n",
       "        document.body.appendChild(textarea);\n",
       "        textarea.select();\n",
       "\n",
       "        try {\n",
       "            return document.execCommand('copy'); // Security exception may be thrown by some browsers.\n",
       "        } catch (ex) {\n",
       "\n",
       "        } finally {\n",
       "            document.body.removeChild(textarea);\n",
       "        }\n",
       "    }\n",
       "}\n",
       "function expandPanel(el) {\n",
       "  const panelName = \"#\" + el.getAttribute('paneName');\n",
       "  console.log(el.title);\n",
       "\n",
       "  document.querySelector(panelName + \"-title\").innerHTML = el.title\n",
       "  iframe = document.querySelector(panelName + \"-body\");\n",
       "\n",
       "  const tblcss = `<style> body { font-family: Arial, Helvetica, sans-serif;}\n",
       "    #csv { margin-bottom: 15px; }\n",
       "    #csv table { border-collapse: collapse;}\n",
       "    #csv table td { padding: 4px 8px; border: 1px solid silver;} </style>`;\n",
       "\n",
       "  function csvToHtmlTable(str) {\n",
       "    return '<div id=\"csv\"><table><tr><td>' +  str.replace(/[\\n\\r]+$/g, '').replace(/[\\n\\r]+/g, '</td></tr><tr><td>')\n",
       "      .replace(/,/g, '</td><td>') + '</td></tr></table></div>';\n",
       "  }\n",
       "\n",
       "  function reqListener () {\n",
       "    if (el.title.endsWith(\".csv\")) {\n",
       "      iframe.setAttribute(\"srcdoc\", tblcss + csvToHtmlTable(this.responseText));\n",
       "    } else {\n",
       "      iframe.setAttribute(\"srcdoc\", this.responseText);\n",
       "    }\n",
       "    console.log(this.responseText);\n",
       "  }\n",
       "\n",
       "  const oReq = new XMLHttpRequest();\n",
       "  oReq.addEventListener(\"load\", reqListener);\n",
       "  oReq.open(\"GET\", el.title);\n",
       "  oReq.send();\n",
       "\n",
       "\n",
       "  //iframe.src = el.title;\n",
       "  const resultPane = document.querySelector(panelName + \"-pane\");\n",
       "  if (resultPane.classList.contains(\"hidden\")) {\n",
       "    resultPane.classList.remove(\"hidden\");\n",
       "  }\n",
       "}\n",
       "function closePanel(el) {\n",
       "  const panelName = \"#\" + el.getAttribute('paneName')\n",
       "  const resultPane = document.querySelector(panelName + \"-pane\");\n",
       "  if (!resultPane.classList.contains(\"hidden\")) {\n",
       "    resultPane.classList.add(\"hidden\");\n",
       "  }\n",
       "}\n",
       "\n",
       "</script>\n",
       "<div class=\"master-wrapper\">\n",
       "  <div class=\"block master-tbl\"><div>\n",
       "<style scoped>\n",
       "    .dataframe tbody tr th:only-of-type {\n",
       "        vertical-align: middle;\n",
       "    }\n",
       "\n",
       "    .dataframe tbody tr th {\n",
       "        vertical-align: top;\n",
       "    }\n",
       "\n",
       "    .dataframe thead th {\n",
       "        text-align: right;\n",
       "    }\n",
       "</style>\n",
       "<table border=\"1\" class=\"dataframe\">\n",
       "  <thead>\n",
       "    <tr style=\"text-align: right;\">\n",
       "      <th>project</th>\n",
       "      <th>uid</th>\n",
       "      <th>iter</th>\n",
       "      <th>start</th>\n",
       "      <th>state</th>\n",
       "      <th>name</th>\n",
       "      <th>labels</th>\n",
       "      <th>inputs</th>\n",
       "      <th>parameters</th>\n",
       "      <th>results</th>\n",
       "      <th>artifacts</th>\n",
       "    </tr>\n",
       "  </thead>\n",
       "  <tbody>\n",
       "    <tr>\n",
       "      <td>testing-notebooks1-dani</td>\n",
       "      <td><div title=\"a166ce2668334bbf94bfd9d98da9a2e8\"><a href=\"https://dashboard.default-tenant.app.vmdev94.lab.iguazeng.com/mlprojects/testing-notebooks1-dani/jobs/monitor/a166ce2668334bbf94bfd9d98da9a2e8/overview\" target=\"_blank\" >...8da9a2e8</a></div></td>\n",
       "      <td>0</td>\n",
       "      <td>Jan 04 12:54:17</td>\n",
       "      <td>completed</td>\n",
       "      <td>log-transactions-log_transactions</td>\n",
       "      <td><div class=\"dictlist\">v3io_user=dani</div><div class=\"dictlist\">kind=job</div><div class=\"dictlist\">owner=dani</div><div class=\"dictlist\">mlrun/client_version=1.2.1-rc10</div><div class=\"dictlist\">host=log-transactions-log-transactions-9lcp9</div></td>\n",
       "      <td></td>\n",
       "      <td></td>\n",
       "      <td></td>\n",
       "      <td><div class=\"artifact\" onclick=\"expandPanel(this)\" paneName=\"resultb491e663\" title=\"files/v3io/projects/testing-notebooks1-dani/artifacts/log-transactions-log_transactions/0/encoded_iris-v3.csv\">encoded_iris-v3</div><div title=\"v3io:///projects/testing-notebooks1-dani/artifacts/log-transactions-log_transactions/0/bst_model/\">bst_model</div><div title=\"v3io:///projects/testing-notebooks1-dani/artifacts/\">my_project</div><div class=\"artifact\" onclick=\"expandPanel(this)\" paneName=\"resultb491e663\" title=\"files/v3io/projects/testing-notebooks1-dani/artifacts/log-transactions-log_transactions/0/iris_dataset-v3.csv\">iris_dataset-v3</div></td>\n",
       "    </tr>\n",
       "  </tbody>\n",
       "</table>\n",
       "</div></div>\n",
       "  <div id=\"resultb491e663-pane\" class=\"right-pane block hidden\">\n",
       "    <div class=\"pane-header\">\n",
       "      <span id=\"resultb491e663-title\" class=\"pane-header-title\">Title</span>\n",
       "      <span onclick=\"closePanel(this)\" paneName=\"resultb491e663\" class=\"close clickable\">&times;</span>\n",
       "    </div>\n",
       "    <iframe class=\"fileview\" id=\"resultb491e663-body\"></iframe>\n",
       "  </div>\n",
       "</div>\n"
      ],
      "text/plain": [
       "<IPython.core.display.HTML object>"
      ]
     },
     "metadata": {},
     "output_type": "display_data"
    },
    {
     "name": "stdout",
     "output_type": "stream",
     "text": [
      "\n"
     ]
    },
    {
     "data": {
      "text/html": [
       "<b> > to track results use the .show() or .logs() methods  or <a href=\"https://dashboard.default-tenant.app.vmdev94.lab.iguazeng.com/mlprojects/testing-notebooks1-dani/jobs/monitor/a166ce2668334bbf94bfd9d98da9a2e8/overview\" target=\"_blank\">click here</a> to open in UI</b>"
      ],
      "text/plain": [
       "<IPython.core.display.HTML object>"
      ]
     },
     "metadata": {},
     "output_type": "display_data"
    },
    {
     "name": "stdout",
     "output_type": "stream",
     "text": [
      "> 2023-01-04 12:54:19,341 [info] run executed, status=completed\n"
     ]
    },
    {
     "data": {
      "text/plain": [
       "<mlrun.model.RunObject at 0x7eff6c590090>"
      ]
     },
     "execution_count": 22,
     "metadata": {},
     "output_type": "execute_result"
    }
   ],
   "source": [
    "# exporting project2 log_transaction mlrun function\n",
    "project2.get_function('log_transactions').export('proj2_mlrun_func.yaml')\n",
    "\n",
    "# Importing project2 log_transaction mlrun function from project1\n",
    "project1.set_function(name='proj1_imported_mlrun_func', func='../proj2_mlrun_func.yaml')\n",
    "project1.run_function('proj1_imported_mlrun_func')"
   ]
  },
  {
   "cell_type": "markdown",
   "id": "908c1a67",
   "metadata": {},
   "source": [
    "### 4.3 nuclio function"
   ]
  },
  {
   "cell_type": "markdown",
   "id": "6844ece5",
   "metadata": {},
   "source": [
    "#### 4.3.1 Importing & Exporting deployed remote function"
   ]
  },
  {
   "cell_type": "code",
   "execution_count": 23,
   "id": "b0800f08",
   "metadata": {},
   "outputs": [
    {
     "name": "stdout",
     "output_type": "stream",
     "text": [
      "Writing script.py\n"
     ]
    }
   ],
   "source": [
    "%%writefile script.py\n",
    "import mlrun\n",
    "import time\n",
    "\n",
    "def handler(context: mlrun.MLClientCtx, event):\n",
    "    context.logger.info('Going to sleep zZz...')\n",
    "    time.sleep(5)\n",
    "    return 'Waking up !'"
   ]
  },
  {
   "cell_type": "code",
   "execution_count": 24,
   "id": "e49a200f",
   "metadata": {},
   "outputs": [
    {
     "name": "stdout",
     "output_type": "stream",
     "text": [
      "> 2023-01-04 12:54:19,455 [info] Starting remote function deploy\n",
      "2023-01-04 12:54:19  (info) Deploying function\n",
      "2023-01-04 12:54:19  (info) Building\n",
      "2023-01-04 12:54:19  (info) Staging files and preparing base images\n",
      "2023-01-04 12:54:19  (info) Building processor image\n",
      "2023-01-04 12:55:26  (info) Build complete\n",
      "2023-01-04 12:56:02  (info) Function deploy complete\n",
      "> 2023-01-04 12:56:02,978 [info] successfully deployed function: {'internal_invocation_urls': ['nuclio-testing-notebooks1-dani-proj1-remote-func.default-tenant.svc.cluster.local:8080'], 'external_invocation_urls': ['testing-notebooks1-dani-proj1-remote-func-testing-note-oc2f8y4x.default-tenant.app.vmdev94.lab.iguazeng.com/']}\n",
      "> 2023-01-04 12:56:03,061 [info] function spec saved to path: proj1_remote_func.yaml\n"
     ]
    },
    {
     "data": {
      "text/plain": [
       "<mlrun.runtimes.function.RemoteRuntime at 0x7eff6802c910>"
      ]
     },
     "execution_count": 24,
     "metadata": {},
     "output_type": "execute_result"
    }
   ],
   "source": [
    "# Setting remote function\n",
    "project1.set_function(func = mlrun.code_to_function(name='proj1_remote_func', kind='remote',image='mlrun/mlrun', filename='script.py', handler='handler'))\n",
    "\n",
    "# Deploying\n",
    "project1.deploy_function('proj1-remote-func')\n",
    "# Exporting project1 undeployed remote function\n",
    "project1.get_function('proj1-remote-func').export('proj1_remote_func.yaml')\n",
    "\n",
    "# Importing project2 remote function from project1\n",
    "project2.set_function(name='proj2_imported_remote_func', func='../proj1_remote_func.yaml')"
   ]
  },
  {
   "cell_type": "code",
   "execution_count": 25,
   "id": "9e1bc0f5",
   "metadata": {},
   "outputs": [
    {
     "name": "stdout",
     "output_type": "stream",
     "text": [
      "> 2023-01-04 12:56:03,088 [info] Starting remote function deploy\n",
      "2023-01-04 12:56:03  (info) Deploying function\n",
      "2023-01-04 12:56:03  (info) Building\n",
      "2023-01-04 12:56:03  (info) Staging files and preparing base images\n",
      "2023-01-04 12:56:03  (info) Building processor image\n",
      "2023-01-04 12:56:59  (info) Build complete\n",
      "2023-01-04 12:57:07  (info) Function deploy complete\n",
      "> 2023-01-04 12:57:07,749 [info] successfully deployed function: {'internal_invocation_urls': ['nuclio-testing-notebooks2-dani-proj1-remote-func.default-tenant.svc.cluster.local:8080'], 'external_invocation_urls': ['testing-notebooks2-dani-proj1-remote-func-testing-note-xq387gii.default-tenant.app.vmdev94.lab.iguazeng.com/']}\n",
      "> 2023-01-04 12:57:12,816 [info] invoking function: {'method': 'GET', 'path': 'http://nuclio-testing-notebooks2-dani-proj1-remote-func.default-tenant.svc.cluster.local:8080/'}\n"
     ]
    },
    {
     "data": {
      "text/plain": [
       "b'Waking up !'"
      ]
     },
     "execution_count": 25,
     "metadata": {},
     "output_type": "execute_result"
    }
   ],
   "source": [
    "project2.deploy_function('proj2_imported_remote_func')\n",
    "\n",
    "time.sleep(5)\n",
    "project2.get_function('proj2_imported_remote_func').invoke('')"
   ]
  },
  {
   "cell_type": "markdown",
   "id": "f0d0840f",
   "metadata": {},
   "source": [
    "## 5. Importing/Exporting project"
   ]
  },
  {
   "cell_type": "code",
   "execution_count": 26,
   "id": "2b09bd5d",
   "metadata": {},
   "outputs": [
    {
     "name": "stdout",
     "output_type": "stream",
     "text": [
      "> 2023-01-04 12:57:33,556 [info] Created and saved project testing-exported-proj: {'from_template': None, 'overwrite': False, 'context': '/User/test-notebooks/project_transfer/new-project', 'save': True}\n",
      "> 2023-01-04 12:57:33,557 [info] created project testing-exported-proj and saved in MLRun DB\n"
     ]
    }
   ],
   "source": [
    "# Initialize the MLRun project object\n",
    "new_project = mlrun.get_or_create_project('testing-exported-proj', context=os.path.join(os.getcwd(), 'new-project'))\n",
    "\n",
    "# Required credentials :\n",
    "# AWS_ACCESS_KEY_ID, AWS_SECRET_ACCESS_KEY, GOOGLE_APPLICATION_CREDENTIALS, S3_BUCKET\n",
    "AWS_ACCESS_KEY_ID = os.environ.get('AWS_ACCESS_KEY_ID', None)\n",
    "AWS_SECRET_ACCESS_KEY = os.environ.get('AWS_SECRET_ACCESS_KEY', None)\n",
    "GOOGLE_APPLICATION_CREDENTIALS = os.environ.get('GOOGLE_APPLICATION_CREDENTIALS', None)\n",
    "assert AWS_ACCESS_KEY_ID != None and AWS_SECRET_ACCESS_KEY != None and GOOGLE_APPLICATION_CREDENTIALS != None\n",
    "\n",
    "secrets = {'AWS_ACCESS_KEY_ID': AWS_ACCESS_KEY_ID,\n",
    "           'AWS_SECRET_ACCESS_KEY':AWS_SECRET_ACCESS_KEY,\n",
    "           'GOOGLE_APPLICATION_CREDENTIALS': GOOGLE_APPLICATION_CREDENTIALS}\n",
    "\n",
    "new_project.set_secrets(secrets=secrets, provider='kubernetes')\n",
    "\n",
    "S3_BUCKET = os.environ.get('S3_BUCKET', 'testbucket-igz')\n",
    "\n",
    "new_project.artifact_path = os.path.join('s3://', S3_BUCKET + '/')"
   ]
  },
  {
   "cell_type": "code",
   "execution_count": 27,
   "id": "6af0b688",
   "metadata": {},
   "outputs": [
    {
     "data": {
      "text/plain": [
       "<mlrun.runtimes.function.RemoteRuntime at 0x7eff6c57b3d0>"
      ]
     },
     "execution_count": 27,
     "metadata": {},
     "output_type": "execute_result"
    }
   ],
   "source": [
    "# Setting artifacts\n",
    "new_project.set_artifact('encoded_iris', artifact=os.path.join(os.getcwd(),'proj2_encoded_iris.yaml'))\n",
    "new_project.set_artifact('model', artifact=os.path.join(os.getcwd(),'proj1_model.yaml'))\n",
    "new_project.set_artifact('dataset', artifact=os.path.join(os.getcwd(),'proj2_dataset.yaml'))\n",
    "new_project.set_artifact('dir', artifact=os.path.join(os.getcwd(),'proj1_dir.yaml'))\n",
    "\n",
    "# Setting functions\n",
    "new_project.set_function(name='serving', func='../proj1_serving.yaml')\n",
    "new_project.set_function(name='mlrun_func', func='../proj2_mlrun_func.yaml')\n",
    "new_project.set_function(name='remote_func', func='../proj1_remote_func.yaml')\n"
   ]
  },
  {
   "cell_type": "code",
   "execution_count": 28,
   "id": "89b9be8a",
   "metadata": {},
   "outputs": [],
   "source": [
    "# exporting the project\n",
    "\n",
    "# S3 artifact path (e.g. s3://my-bucket/new_project.zip)\n",
    "new_project.export(filepath=os.path.join(new_project.artifact_path, 'new_project.zip'))\n",
    "\n",
    "# GCS artifact path (e.g. gs://my-bucket/new_project.zip)\n",
    "new_project.export(filepath=os.path.join('gs' + new_project.artifact_path[2:], 'new_project.zip'))\n",
    "\n",
    "# V3IO local path\n",
    "new_project.export(filepath='/v3io/bigdata/new_project.zip')"
   ]
  },
  {
   "cell_type": "code",
   "execution_count": 29,
   "id": "7cb04a3d",
   "metadata": {},
   "outputs": [],
   "source": [
    "# Importing the projects\n",
    "gs_project = mlrun.load_project(name='testing-gs-project',\n",
    "                                url=os.path.join(new_project.artifact_path, 'new_project.zip'),\n",
    "                                context = os.path.join(os.getcwd(), 'gs-project'))\n",
    "\n",
    "s3_project = mlrun.load_project(name='testing-s3-project',\n",
    "                                url=os.path.join('s3' + new_project.artifact_path[2:], 'new_project.zip'),\n",
    "                                context = os.path.join(os.getcwd(), 's3-project'))\n",
    "\n",
    "v3io_project = mlrun.load_project(name='testing-v3io-project',\n",
    "                                  url='/v3io/bigdata/new_project.zip',\n",
    "                                  context=os.path.join(os.getcwd(), 'v3io-project'))"
   ]
  },
  {
   "cell_type": "code",
   "execution_count": 30,
   "id": "2988d053",
   "metadata": {},
   "outputs": [
    {
     "name": "stdout",
     "output_type": "stream",
     "text": [
      "gs project artifact\n",
      "      0    1    2    3\n",
      "0  5.1  3.5  1.4  0.2\n",
      "1  4.9  3.0  1.4  0.2\n",
      "2  4.7  3.2  1.3  0.2\n",
      "3  4.6  3.1  1.5  0.2\n",
      "4  5.0  3.6  1.4  0.2 \n",
      "\n",
      "\n",
      "s3 project artifact\n",
      "    Unnamed: 0    0    1    2    3\n",
      "0           0  5.1  3.5  1.4  0.2\n",
      "1           1  4.9  3.0  1.4  0.2\n",
      "2           2  4.7  3.2  1.3  0.2\n",
      "3           3  4.6  3.1  1.5  0.2\n",
      "4           4  5.0  3.6  1.4  0.2\n",
      "> 2023-01-04 12:58:27,654 [info] Starting remote function deploy\n",
      "2023-01-04 12:58:27  (info) Deploying function\n",
      "2023-01-04 12:58:27  (info) Building\n",
      "2023-01-04 12:58:27  (info) Staging files and preparing base images\n",
      "2023-01-04 12:58:27  (info) Building processor image\n",
      "2023-01-04 13:00:48  (info) Build complete\n",
      "2023-01-04 13:01:40  (info) Function deploy complete\n",
      "> 2023-01-04 13:01:40,518 [info] successfully deployed function: {'internal_invocation_urls': ['nuclio-testing-gs-project-proj1-serving.default-tenant.svc.cluster.local:8080'], 'external_invocation_urls': ['testing-gs-project-proj1-serving-testing-gs-project.default-tenant.app.vmdev94.lab.iguazeng.com/']}\n",
      "> 2023-01-04 13:01:45,587 [info] invoking function: {'method': 'POST', 'path': 'http://nuclio-testing-gs-project-proj1-serving.default-tenant.svc.cluster.local:8080/v2/models/my_model/infer'}\n",
      "> 2023-01-04 13:01:46,026 [info] starting run log-transactions-log_transactions uid=01db52afb96e4b98b6966824078b57bc DB=http://mlrun-api:8080\n",
      "> 2023-01-04 13:01:47,519 [info] dataframe shape : (150, 4)\n",
      "> 2023-01-04 13:01:48,804 [info] logged model : <class 'xgboost.sklearn.XGBClassifier'>\n",
      "> 2023-01-04 13:01:56,453 [info] logged dataset (150, 5)\n"
     ]
    },
    {
     "data": {
      "text/html": [
       "<style>\n",
       ".dictlist {\n",
       "  background-color: #4EC64B;\n",
       "  text-align: center;\n",
       "  margin: 4px;\n",
       "  border-radius: 3px; padding: 0px 3px 1px 3px; display: inline-block;}\n",
       ".artifact {\n",
       "  cursor: pointer;\n",
       "  background-color: #4EC64B;\n",
       "  text-align: left;\n",
       "  margin: 4px; border-radius: 3px; padding: 0px 3px 1px 3px; display: inline-block;\n",
       "}\n",
       "div.block.hidden {\n",
       "  display: none;\n",
       "}\n",
       ".clickable {\n",
       "  cursor: pointer;\n",
       "}\n",
       ".ellipsis {\n",
       "  display: inline-block;\n",
       "  max-width: 60px;\n",
       "  white-space: nowrap;\n",
       "  overflow: hidden;\n",
       "  text-overflow: ellipsis;\n",
       "}\n",
       ".master-wrapper {\n",
       "  display: flex;\n",
       "  flex-flow: row nowrap;\n",
       "  justify-content: flex-start;\n",
       "  align-items: stretch;\n",
       "}\n",
       ".master-tbl {\n",
       "  flex: 3\n",
       "}\n",
       ".master-wrapper > div {\n",
       "  margin: 4px;\n",
       "  padding: 10px;\n",
       "}\n",
       "iframe.fileview {\n",
       "  border: 0 none;\n",
       "  height: 100%;\n",
       "  width: 100%;\n",
       "  white-space: pre-wrap;\n",
       "}\n",
       ".pane-header-title {\n",
       "  width: 80%;\n",
       "  font-weight: 500;\n",
       "}\n",
       ".pane-header {\n",
       "  line-height: 1;\n",
       "  background-color: #4EC64B;\n",
       "  padding: 3px;\n",
       "}\n",
       ".pane-header .close {\n",
       "  font-size: 20px;\n",
       "  font-weight: 700;\n",
       "  float: right;\n",
       "  margin-top: -5px;\n",
       "}\n",
       ".master-wrapper .right-pane {\n",
       "  border: 1px inset silver;\n",
       "  width: 40%;\n",
       "  min-height: 300px;\n",
       "  flex: 3\n",
       "  min-width: 500px;\n",
       "}\n",
       ".master-wrapper * {\n",
       "  box-sizing: border-box;\n",
       "}\n",
       "</style><script>\n",
       "function copyToClipboard(fld) {\n",
       "    if (document.queryCommandSupported && document.queryCommandSupported('copy')) {\n",
       "        var textarea = document.createElement('textarea');\n",
       "        textarea.textContent = fld.innerHTML;\n",
       "        textarea.style.position = 'fixed';\n",
       "        document.body.appendChild(textarea);\n",
       "        textarea.select();\n",
       "\n",
       "        try {\n",
       "            return document.execCommand('copy'); // Security exception may be thrown by some browsers.\n",
       "        } catch (ex) {\n",
       "\n",
       "        } finally {\n",
       "            document.body.removeChild(textarea);\n",
       "        }\n",
       "    }\n",
       "}\n",
       "function expandPanel(el) {\n",
       "  const panelName = \"#\" + el.getAttribute('paneName');\n",
       "  console.log(el.title);\n",
       "\n",
       "  document.querySelector(panelName + \"-title\").innerHTML = el.title\n",
       "  iframe = document.querySelector(panelName + \"-body\");\n",
       "\n",
       "  const tblcss = `<style> body { font-family: Arial, Helvetica, sans-serif;}\n",
       "    #csv { margin-bottom: 15px; }\n",
       "    #csv table { border-collapse: collapse;}\n",
       "    #csv table td { padding: 4px 8px; border: 1px solid silver;} </style>`;\n",
       "\n",
       "  function csvToHtmlTable(str) {\n",
       "    return '<div id=\"csv\"><table><tr><td>' +  str.replace(/[\\n\\r]+$/g, '').replace(/[\\n\\r]+/g, '</td></tr><tr><td>')\n",
       "      .replace(/,/g, '</td><td>') + '</td></tr></table></div>';\n",
       "  }\n",
       "\n",
       "  function reqListener () {\n",
       "    if (el.title.endsWith(\".csv\")) {\n",
       "      iframe.setAttribute(\"srcdoc\", tblcss + csvToHtmlTable(this.responseText));\n",
       "    } else {\n",
       "      iframe.setAttribute(\"srcdoc\", this.responseText);\n",
       "    }\n",
       "    console.log(this.responseText);\n",
       "  }\n",
       "\n",
       "  const oReq = new XMLHttpRequest();\n",
       "  oReq.addEventListener(\"load\", reqListener);\n",
       "  oReq.open(\"GET\", el.title);\n",
       "  oReq.send();\n",
       "\n",
       "\n",
       "  //iframe.src = el.title;\n",
       "  const resultPane = document.querySelector(panelName + \"-pane\");\n",
       "  if (resultPane.classList.contains(\"hidden\")) {\n",
       "    resultPane.classList.remove(\"hidden\");\n",
       "  }\n",
       "}\n",
       "function closePanel(el) {\n",
       "  const panelName = \"#\" + el.getAttribute('paneName')\n",
       "  const resultPane = document.querySelector(panelName + \"-pane\");\n",
       "  if (!resultPane.classList.contains(\"hidden\")) {\n",
       "    resultPane.classList.add(\"hidden\");\n",
       "  }\n",
       "}\n",
       "\n",
       "</script>\n",
       "<div class=\"master-wrapper\">\n",
       "  <div class=\"block master-tbl\"><div>\n",
       "<style scoped>\n",
       "    .dataframe tbody tr th:only-of-type {\n",
       "        vertical-align: middle;\n",
       "    }\n",
       "\n",
       "    .dataframe tbody tr th {\n",
       "        vertical-align: top;\n",
       "    }\n",
       "\n",
       "    .dataframe thead th {\n",
       "        text-align: right;\n",
       "    }\n",
       "</style>\n",
       "<table border=\"1\" class=\"dataframe\">\n",
       "  <thead>\n",
       "    <tr style=\"text-align: right;\">\n",
       "      <th>project</th>\n",
       "      <th>uid</th>\n",
       "      <th>iter</th>\n",
       "      <th>start</th>\n",
       "      <th>state</th>\n",
       "      <th>name</th>\n",
       "      <th>labels</th>\n",
       "      <th>inputs</th>\n",
       "      <th>parameters</th>\n",
       "      <th>results</th>\n",
       "      <th>artifacts</th>\n",
       "    </tr>\n",
       "  </thead>\n",
       "  <tbody>\n",
       "    <tr>\n",
       "      <td>testing-s3-project</td>\n",
       "      <td><div title=\"01db52afb96e4b98b6966824078b57bc\"><a href=\"https://dashboard.default-tenant.app.vmdev94.lab.iguazeng.com/mlprojects/testing-s3-project/jobs/monitor/01db52afb96e4b98b6966824078b57bc/overview\" target=\"_blank\" >...078b57bc</a></div></td>\n",
       "      <td>0</td>\n",
       "      <td>Jan 04 13:01:46</td>\n",
       "      <td>completed</td>\n",
       "      <td>log-transactions-log_transactions</td>\n",
       "      <td><div class=\"dictlist\">v3io_user=dani</div><div class=\"dictlist\">kind=</div><div class=\"dictlist\">owner=dani</div><div class=\"dictlist\">host=jupyter-dani-57fb4cf8d5-4fhr6</div></td>\n",
       "      <td></td>\n",
       "      <td></td>\n",
       "      <td></td>\n",
       "      <td><div title=\"s3://testbucket-igz/log-transactions-log_transactions/0/encoded_iris-s3.csv\">encoded_iris-s3</div><div title=\"s3://testbucket-igz/log-transactions-log_transactions/0/bst_model/\">bst_model</div><div title=\"s3://testbucket-igz/\">my_project</div><div title=\"s3://testbucket-igz/log-transactions-log_transactions/0/iris_dataset-s3.csv\">iris_dataset-s3</div></td>\n",
       "    </tr>\n",
       "  </tbody>\n",
       "</table>\n",
       "</div></div>\n",
       "  <div id=\"result25c2b0cf-pane\" class=\"right-pane block hidden\">\n",
       "    <div class=\"pane-header\">\n",
       "      <span id=\"result25c2b0cf-title\" class=\"pane-header-title\">Title</span>\n",
       "      <span onclick=\"closePanel(this)\" paneName=\"result25c2b0cf\" class=\"close clickable\">&times;</span>\n",
       "    </div>\n",
       "    <iframe class=\"fileview\" id=\"result25c2b0cf-body\"></iframe>\n",
       "  </div>\n",
       "</div>\n"
      ],
      "text/plain": [
       "<IPython.core.display.HTML object>"
      ]
     },
     "metadata": {},
     "output_type": "display_data"
    },
    {
     "name": "stdout",
     "output_type": "stream",
     "text": [
      "\n"
     ]
    },
    {
     "data": {
      "text/html": [
       "<b> > to track results use the .show() or .logs() methods  or <a href=\"https://dashboard.default-tenant.app.vmdev94.lab.iguazeng.com/mlprojects/testing-s3-project/jobs/monitor/01db52afb96e4b98b6966824078b57bc/overview\" target=\"_blank\">click here</a> to open in UI</b>"
      ],
      "text/plain": [
       "<IPython.core.display.HTML object>"
      ]
     },
     "metadata": {},
     "output_type": "display_data"
    },
    {
     "name": "stdout",
     "output_type": "stream",
     "text": [
      "> 2023-01-04 13:01:56,604 [info] run executed, status=completed\n",
      "> 2023-01-04 13:01:56,821 [info] Starting remote function deploy\n",
      "2023-01-04 13:01:56  (info) Deploying function\n",
      "2023-01-04 13:01:56  (info) Building\n",
      "2023-01-04 13:01:57  (info) Staging files and preparing base images\n",
      "2023-01-04 13:01:57  (info) Building processor image\n",
      "2023-01-04 13:03:05  (info) Build complete\n",
      "2023-01-04 13:03:41  (info) Function deploy complete\n",
      "> 2023-01-04 13:03:42,768 [info] successfully deployed function: {'internal_invocation_urls': ['nuclio-testing-v3io-project-proj1-remote-func.default-tenant.svc.cluster.local:8080'], 'external_invocation_urls': ['testing-v3io-project-proj1-remote-func-testing-v3io-project.default-tenant.app.vmdev94.lab.iguazeng.com/']}\n",
      "> 2023-01-04 13:03:47,848 [info] invoking function: {'method': 'GET', 'path': 'http://nuclio-testing-v3io-project-proj1-remote-func.default-tenant.svc.cluster.local:8080/'}\n"
     ]
    },
    {
     "data": {
      "text/plain": [
       "b'Waking up !'"
      ]
     },
     "execution_count": 30,
     "metadata": {},
     "output_type": "execute_result"
    }
   ],
   "source": [
    "# Testing the imported artifacts\n",
    "# Artifact\n",
    "gs_encoded_dataset = pd.DataFrame(json.loads(gs_project.get_artifact('encoded_iris').to_dataitem().get()))\n",
    "print('gs project artifact\\n', gs_encoded_dataset.head(), '\\n\\n')\n",
    "\n",
    "# Dataset\n",
    "s3_dataset = s3_project.get_artifact('dataset').to_dataitem().as_df()\n",
    "print('s3 project artifact\\n',s3_dataset.head())\n",
    "\n",
    "# Model\n",
    "v3io_model = pickle.loads(v3io_project.get_artifact('model')._get_file_body())\n",
    "v3io_model.predict(gs_encoded_dataset[:5])\n",
    "\n",
    "# Directory\n",
    "gs_dir = gs_project.get_artifact('dir').to_dataitem().listdir()\n",
    "\n",
    "# Testing imported functions\n",
    "# Serving function\n",
    "gs_project.get_function('serving').deploy()\n",
    "time.sleep(5)\n",
    "gs_project.get_function('serving').invoke(\n",
    "    path='/v2/models/my_model/infer', \n",
    "    body={'inputs': gs_encoded_dataset.values[-5:].tolist()}\n",
    ")\n",
    "\n",
    "# mlrun function\n",
    "s3_project.run_function('mlrun_func',local=True)\n",
    "\n",
    "## nuclio function\n",
    "v3io_project.deploy_function('remote_func')\n",
    "\n",
    "time.sleep(5)\n",
    "v3io_project.get_function('remote_func').invoke('')"
   ]
  },
  {
   "cell_type": "markdown",
   "id": "f4a90856",
   "metadata": {},
   "source": [
    "## Cleanup"
   ]
  },
  {
   "cell_type": "code",
   "execution_count": 32,
   "id": "02da7ced",
   "metadata": {},
   "outputs": [],
   "source": [
    "projects = [project1,project2,gs_project,s3_project,v3io_project, new_project]\n",
    "for project in projects:\n",
    "    mlrun.get_run_db().delete_project(name=project.name, deletion_strategy='cascade')\n",
    "\n",
    "import shutil\n",
    "for f in os.listdir():\n",
    "    if (not f.endswith('ipynb')) and f != '.test':\n",
    "        if os.path.isfile(f):\n",
    "            os.remove(f)\n",
    "        elif os.path.isdir(f):\n",
    "            shutil.rmtree(f)\n",
    "        else:\n",
    "            raise \"A file that is not a notebook wasn't deleted\""
   ]
  }
 ],
 "metadata": {
  "kernelspec": {
   "display_name": "Python 3",
   "language": "python",
   "name": "python3"
  },
  "language_info": {
   "codemirror_mode": {
    "name": "ipython",
    "version": 3
   },
   "file_extension": ".py",
   "mimetype": "text/x-python",
   "name": "python",
   "nbconvert_exporter": "python",
   "pygments_lexer": "ipython3",
   "version": "3.7.6"
  }
 },
 "nbformat": 4,
 "nbformat_minor": 5
}
