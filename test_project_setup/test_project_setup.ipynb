{
 "cells": [
  {
   "cell_type": "code",
   "execution_count": 1,
   "id": "4ede6265-c27f-4e40-8853-29e84576b3a8",
   "metadata": {},
   "outputs": [],
   "source": [
    "import mlrun\n",
    "from dotenv import load_dotenv"
   ]
  },
  {
   "cell_type": "markdown",
   "id": "3b09cc58-ce64-4863-a105-971a52f9d4e6",
   "metadata": {},
   "source": [
    "### Create `project_setup.py`\n",
    "Note: The context will be `src` so the paths are written with that in mind"
   ]
  },
  {
   "cell_type": "code",
   "execution_count": 2,
   "id": "6e8b1810-b4a1-4ce4-a7af-330cce07f10b",
   "metadata": {},
   "outputs": [
    {
     "name": "stdout",
     "output_type": "stream",
     "text": [
      "Overwriting src/project_setup.py\n"
     ]
    }
   ],
   "source": [
    "%%writefile src/project_setup.py\n",
    "import os\n",
    "\n",
    "import mlrun\n",
    "\n",
    "\n",
    "def setup(project: mlrun.projects.MlrunProject) -> mlrun.projects.MlrunProject:\n",
    "    source = project.get_param(\"source\")\n",
    "    secrets_file = project.get_param(\"secrets_file\")\n",
    "    default_image = project.get_param(\"default_image\")\n",
    "\n",
    "    if source:\n",
    "        print(f\"Project Source: {source}\")\n",
    "        project.set_source(project.get_param(\"source\"), pull_at_runtime=True)\n",
    "\n",
    "    if secrets_file and os.path.exists(secrets_file):\n",
    "        project.set_secrets(file_path=secrets_file)\n",
    "        mlrun.set_env_from_file(secrets_file)\n",
    "\n",
    "    if default_image:\n",
    "        project.set_default_image(default_image)\n",
    "\n",
    "    # MLRun Functions\n",
    "    project.set_function(\n",
    "        name=\"get-data\",\n",
    "        func=\"data.py\",\n",
    "        kind=\"job\",\n",
    "        handler=\"get_data\",\n",
    "    )\n",
    "\n",
    "    project.set_function(\n",
    "        name=\"train\",\n",
    "        func=\"train.py\",\n",
    "        kind=\"job\",\n",
    "        handler=\"train_model\",\n",
    "    )\n",
    "\n",
    "    # MLRun Workflows\n",
    "    project.set_workflow(\"main\", \"main_workflow.py\")\n",
    "\n",
    "    # Save and return the project:\n",
    "    project.save()\n",
    "    return project\n"
   ]
  },
  {
   "cell_type": "markdown",
   "id": "4373bef7-23c5-4acf-a6f8-dce12f7ca395",
   "metadata": {},
   "source": [
    "### Load project"
   ]
  },
  {
   "cell_type": "code",
   "execution_count": 3,
   "id": "5303e1df-3408-4333-b608-3715ebda2ecc",
   "metadata": {},
   "outputs": [],
   "source": [
    "SOURCE = \"https://github.com/mlrun/test-notebooks#main\"\n",
    "SECRETS_FILE = \"mock_secrets.env\"\n",
    "DEFAULT_IMAGE = \"mlrun/mlrun\"\n",
    "\n",
    "PARAMTERS = {\n",
    "    \"source\" : SOURCE,\n",
    "    \"secrets_file\" : SECRETS_FILE,\n",
    "    \"default_image\" : DEFAULT_IMAGE\n",
    "}"
   ]
  },
  {
   "cell_type": "code",
   "execution_count": 4,
   "id": "13046789-f971-45fe-910e-992711212a58",
   "metadata": {},
   "outputs": [
    {
     "name": "stdout",
     "output_type": "stream",
     "text": [
      "> 2023-11-09 18:23:45,763 [info] Loading project from path: {'project_name': 'test-project-setup', 'path': './src'}\n",
      "Project Source: https://github.com/mlrun/test-notebooks#main\n",
      "> 2023-11-09 18:24:02,226 [info] Project loaded successfully: {'project_name': 'test-project-setup', 'path': './src', 'stored_in_db': True}\n"
     ]
    }
   ],
   "source": [
    "project = mlrun.get_or_create_project(name=\"test-project-setup\", context=\"./src\", parameters=PARAMTERS)"
   ]
  },
  {
   "cell_type": "markdown",
   "id": "8ae7cf2f-247b-4966-ac94-a90b9729d6ff",
   "metadata": {},
   "source": [
    "### Check source"
   ]
  },
  {
   "cell_type": "code",
   "execution_count": 5,
   "id": "b4e2c00e-bc1a-4cb0-93cb-b91a6d55fffa",
   "metadata": {},
   "outputs": [],
   "source": [
    "assert project.source == SOURCE"
   ]
  },
  {
   "cell_type": "code",
   "execution_count": 6,
   "id": "f218add8-0364-4aa3-a417-a3388a2f8f8e",
   "metadata": {},
   "outputs": [],
   "source": [
    "assert project.spec.load_source_on_run == True"
   ]
  },
  {
   "cell_type": "markdown",
   "id": "3df10c14-896f-481e-81df-cc6d9935cc47",
   "metadata": {
    "tags": []
   },
   "source": [
    "### Check functions"
   ]
  },
  {
   "cell_type": "code",
   "execution_count": 7,
   "id": "cea0e7a0-483b-4a0b-9a1e-fdd5b59ca618",
   "metadata": {},
   "outputs": [],
   "source": [
    "assert len(project.spec.functions) == 2"
   ]
  },
  {
   "cell_type": "code",
   "execution_count": 8,
   "id": "c945453d-ecd4-4bdd-aa4c-dc1d526539ad",
   "metadata": {},
   "outputs": [],
   "source": [
    "functions = [\"get-data\", \"train\"]\n",
    "functions_check = []"
   ]
  },
  {
   "cell_type": "code",
   "execution_count": 9,
   "id": "84c78f26-1af6-4dfb-87bf-2cd7cb2474b8",
   "metadata": {},
   "outputs": [],
   "source": [
    "for f in project.spec.functions:\n",
    "    functions_check.append(f[\"name\"])"
   ]
  },
  {
   "cell_type": "code",
   "execution_count": 10,
   "id": "a7ec9b00-86fb-4d8c-9177-436dc73a04a3",
   "metadata": {},
   "outputs": [],
   "source": [
    "assert functions == functions_check"
   ]
  },
  {
   "cell_type": "markdown",
   "id": "b3afd711-44a7-4926-a9c7-075bf8d63b41",
   "metadata": {},
   "source": [
    "### Check workflows"
   ]
  },
  {
   "cell_type": "code",
   "execution_count": 11,
   "id": "11a61432-f24e-4726-a3c0-5c1cd17ad676",
   "metadata": {},
   "outputs": [],
   "source": [
    "assert len(project.spec.workflows) == 1"
   ]
  },
  {
   "cell_type": "code",
   "execution_count": 12,
   "id": "b77c79e9-6fc7-4d51-9c0d-469da6fabfda",
   "metadata": {},
   "outputs": [],
   "source": [
    "workflows = [\"main\"]\n",
    "workflows_check = []"
   ]
  },
  {
   "cell_type": "code",
   "execution_count": 13,
   "id": "1f58cd31-9185-4f38-9cc1-387f06ebc1c5",
   "metadata": {},
   "outputs": [],
   "source": [
    "for w in project.spec.workflows:\n",
    "    workflows_check.append(w[\"name\"])"
   ]
  },
  {
   "cell_type": "code",
   "execution_count": 14,
   "id": "50743d2d-728d-4bb1-b390-4b04f397956f",
   "metadata": {},
   "outputs": [],
   "source": [
    "assert workflows == workflows_check"
   ]
  },
  {
   "cell_type": "markdown",
   "id": "580ef0b4-69c8-4dfa-adef-bc8f9d50b472",
   "metadata": {},
   "source": [
    "### Check params"
   ]
  },
  {
   "cell_type": "code",
   "execution_count": 15,
   "id": "b11615ae-6698-4ad2-b271-be51426ae8a2",
   "metadata": {},
   "outputs": [],
   "source": [
    "assert project.spec.params == PARAMTERS"
   ]
  },
  {
   "cell_type": "markdown",
   "id": "44f8793c-27d7-4beb-bb43-a493ac1f3401",
   "metadata": {},
   "source": [
    "### Check project image"
   ]
  },
  {
   "cell_type": "code",
   "execution_count": 16,
   "id": "2ad879ff-c08b-4582-b7ae-b848e1c03a79",
   "metadata": {},
   "outputs": [],
   "source": [
    "assert project.default_image == DEFAULT_IMAGE"
   ]
  },
  {
   "cell_type": "markdown",
   "id": "ec2d3e83-1433-4854-8d76-9b979d719a02",
   "metadata": {},
   "source": [
    "### Check project secrets"
   ]
  },
  {
   "cell_type": "code",
   "execution_count": 17,
   "id": "eda5d66f-dbb6-443f-bdc6-6ae6b02b0ab4",
   "metadata": {},
   "outputs": [],
   "source": [
    "# Get dict with secret file contents for comparison\n",
    "secret_dict = dict(mlrun.set_env_from_file(SECRETS_FILE, return_dict=True))"
   ]
  },
  {
   "cell_type": "code",
   "execution_count": 18,
   "id": "5482093f-048b-4126-9953-31ba292950d1",
   "metadata": {},
   "outputs": [],
   "source": [
    "# Cannot check secret contents but can check keys\n",
    "db = mlrun.get_run_db()\n",
    "secret_keys = db.list_project_secret_keys(project=project.metadata.name)"
   ]
  },
  {
   "cell_type": "code",
   "execution_count": 19,
   "id": "fe53ff48-a631-41a7-87de-6907df096206",
   "metadata": {},
   "outputs": [],
   "source": [
    "assert set(secret_keys.secret_keys) == set(secret_dict.keys())"
   ]
  },
  {
   "cell_type": "markdown",
   "id": "debd62ae-2f94-4f57-9d7b-83721ddb7a0c",
   "metadata": {},
   "source": [
    "### Run workflow"
   ]
  },
  {
   "cell_type": "code",
   "execution_count": 20,
   "id": "257b37b9-0e30-417f-9656-7dafbe41939e",
   "metadata": {},
   "outputs": [
    {
     "data": {
      "text/html": [
       "<div>Pipeline running (id=58772656-e95c-4c77-b8a4-2aa0a0908ebb), <a href=\"https://dashboard.default-tenant.app.task-force-1.iguazio-cd2.com/mlprojects/test-project-setup/jobs/monitor-workflows/workflow/58772656-e95c-4c77-b8a4-2aa0a0908ebb\" target=\"_blank\"><b>click here</b></a> to view the details in MLRun UI</div>"
      ],
      "text/plain": [
       "<IPython.core.display.HTML object>"
      ]
     },
     "metadata": {},
     "output_type": "display_data"
    },
    {
     "data": {
      "image/svg+xml": [
       "<?xml version=\"1.0\" encoding=\"UTF-8\" standalone=\"no\"?>\n",
       "<!DOCTYPE svg PUBLIC \"-//W3C//DTD SVG 1.1//EN\"\n",
       " \"http://www.w3.org/Graphics/SVG/1.1/DTD/svg11.dtd\">\n",
       "<!-- Generated by graphviz version 2.43.0 (0)\n",
       " -->\n",
       "<!-- Title: kfp Pages: 1 -->\n",
       "<svg width=\"107pt\" height=\"116pt\"\n",
       " viewBox=\"0.00 0.00 106.79 116.00\" xmlns=\"http://www.w3.org/2000/svg\" xmlns:xlink=\"http://www.w3.org/1999/xlink\">\n",
       "<g id=\"graph0\" class=\"graph\" transform=\"scale(1 1) rotate(0) translate(4 112)\">\n",
       "<title>kfp</title>\n",
       "<polygon fill=\"white\" stroke=\"transparent\" points=\"-4,4 -4,-112 102.79,-112 102.79,4 -4,4\"/>\n",
       "<!-- batch&#45;pipeline&#45;95bpn&#45;836409208 -->\n",
       "<g id=\"node1\" class=\"node\">\n",
       "<title>batch&#45;pipeline&#45;95bpn&#45;836409208</title>\n",
       "<ellipse fill=\"green\" stroke=\"black\" cx=\"49.4\" cy=\"-90\" rx=\"49.29\" ry=\"18\"/>\n",
       "<text text-anchor=\"middle\" x=\"49.4\" y=\"-86.3\" font-family=\"Times,serif\" font-size=\"14.00\">get&#45;data</text>\n",
       "</g>\n",
       "<!-- batch&#45;pipeline&#45;95bpn&#45;955282739 -->\n",
       "<g id=\"node2\" class=\"node\">\n",
       "<title>batch&#45;pipeline&#45;95bpn&#45;955282739</title>\n",
       "<ellipse fill=\"green\" stroke=\"black\" cx=\"49.4\" cy=\"-18\" rx=\"33.29\" ry=\"18\"/>\n",
       "<text text-anchor=\"middle\" x=\"49.4\" y=\"-14.3\" font-family=\"Times,serif\" font-size=\"14.00\">train</text>\n",
       "</g>\n",
       "<!-- batch&#45;pipeline&#45;95bpn&#45;836409208&#45;&gt;batch&#45;pipeline&#45;95bpn&#45;955282739 -->\n",
       "<g id=\"edge1\" class=\"edge\">\n",
       "<title>batch&#45;pipeline&#45;95bpn&#45;836409208&#45;&gt;batch&#45;pipeline&#45;95bpn&#45;955282739</title>\n",
       "<path fill=\"none\" stroke=\"black\" d=\"M49.4,-71.7C49.4,-63.98 49.4,-54.71 49.4,-46.11\"/>\n",
       "<polygon fill=\"black\" stroke=\"black\" points=\"52.9,-46.1 49.4,-36.1 45.9,-46.1 52.9,-46.1\"/>\n",
       "</g>\n",
       "</g>\n",
       "</svg>\n"
      ],
      "text/plain": [
       "<graphviz.graphs.Digraph at 0x7f35da233490>"
      ]
     },
     "metadata": {},
     "output_type": "display_data"
    },
    {
     "data": {
      "text/html": [
       "<h2>Run Results</h2><h3>[info] Workflow 58772656-e95c-4c77-b8a4-2aa0a0908ebb finished, state=Succeeded</h3><br>click the hyper links below to see detailed results<br><table border=\"1\" class=\"dataframe\">\n",
       "  <thead>\n",
       "    <tr style=\"text-align: right;\">\n",
       "      <th>uid</th>\n",
       "      <th>start</th>\n",
       "      <th>state</th>\n",
       "      <th>name</th>\n",
       "      <th>parameters</th>\n",
       "      <th>results</th>\n",
       "    </tr>\n",
       "  </thead>\n",
       "  <tbody>\n",
       "    <tr>\n",
       "      <td><div title=\"62db27d0f89f4c87aa1bc78e0ff46139\"><a href=\"https://dashboard.default-tenant.app.task-force-1.iguazio-cd2.com/mlprojects/test-project-setup/jobs/monitor/62db27d0f89f4c87aa1bc78e0ff46139/overview\" target=\"_blank\" >...0ff46139</a></div></td>\n",
       "      <td>Nov 09 18:24:42</td>\n",
       "      <td>completed</td>\n",
       "      <td>train</td>\n",
       "      <td><div class=\"dictlist\">label_column=label</div><div class=\"dictlist\">model_name=model</div><div class=\"dictlist\">test_size=0.2</div><div class=\"dictlist\">random_state=42</div></td>\n",
       "      <td><div class=\"dictlist\">accuracy=0.986</div><div class=\"dictlist\">f1_score=0.9860834990059643</div><div class=\"dictlist\">precision_score=0.9959839357429718</div><div class=\"dictlist\">recall_score=0.9763779527559056</div></td>\n",
       "    </tr>\n",
       "    <tr>\n",
       "      <td><div title=\"8d4f3313f370464b9ef461eff9350802\"><a href=\"https://dashboard.default-tenant.app.task-force-1.iguazio-cd2.com/mlprojects/test-project-setup/jobs/monitor/8d4f3313f370464b9ef461eff9350802/overview\" target=\"_blank\" >...f9350802</a></div></td>\n",
       "      <td>Nov 09 18:24:11</td>\n",
       "      <td>completed</td>\n",
       "      <td>get-data</td>\n",
       "      <td><div class=\"dictlist\">label_column=label</div></td>\n",
       "      <td><div class=\"dictlist\">num_rows=2500</div></td>\n",
       "    </tr>\n",
       "  </tbody>\n",
       "</table>"
      ],
      "text/plain": [
       "<IPython.core.display.HTML object>"
      ]
     },
     "metadata": {},
     "output_type": "display_data"
    }
   ],
   "source": [
    "run_uid = project.run(\n",
    "    name=\"main\",\n",
    "    arguments={\n",
    "        \"dataset\" : \"https://s3.wasabisys.com/iguazio/data/batch-predict/training_set.parquet\",\n",
    "        \"label_column\" : \"label\",\n",
    "        \"model_name\" : \"model\",\n",
    "        \"test_size\" : 0.2,\n",
    "        \"random_state\" : 42\n",
    "    },\n",
    "    watch=True,\n",
    "    dirty=True\n",
    ")"
   ]
  },
  {
   "cell_type": "markdown",
   "id": "e03415ec-6940-41c3-87b6-42c02102410b",
   "metadata": {},
   "source": [
    "### Check run outputs"
   ]
  },
  {
   "cell_type": "code",
   "execution_count": 21,
   "id": "e3e31499-3b00-4114-b761-02e2421cfd67",
   "metadata": {},
   "outputs": [],
   "source": [
    "workflow_runs = project.list_runs(labels=f\"workflow={run_uid}\").to_objects()"
   ]
  },
  {
   "cell_type": "code",
   "execution_count": 22,
   "id": "82043ec5-7e18-478c-9f68-2d7cf6070ce5",
   "metadata": {},
   "outputs": [],
   "source": [
    "assert len(workflow_runs) == 2"
   ]
  },
  {
   "cell_type": "code",
   "execution_count": 23,
   "id": "ad9e0ec1-93e9-4f4d-92e8-b962de6a185e",
   "metadata": {},
   "outputs": [],
   "source": [
    "DATA_OUTPUTS = ['num_rows', 'cleaned_data']\n",
    "TRAIN_OUTPUTS = [\n",
    "    'accuracy',\n",
    "    'f1_score',\n",
    "    'precision_score',\n",
    "    'recall_score',\n",
    "    'feature-importance',\n",
    "    'test_set',\n",
    "    'confusion-matrix',\n",
    "    'roc-curves',\n",
    "    'calibration-curve',\n",
    "    'model'\n",
    "]"
   ]
  },
  {
   "cell_type": "code",
   "execution_count": 24,
   "id": "874b90dc-f284-4b94-94a6-002eb42a90d0",
   "metadata": {},
   "outputs": [],
   "source": [
    "for run in workflow_runs:\n",
    "    assert run.metadata.name in [\"get-data\", \"train\"]\n",
    "    if run.metadata.name == \"get-data\":\n",
    "        assert list(run.outputs.keys()) == DATA_OUTPUTS\n",
    "    elif run.metadata.name == \"train\":\n",
    "        assert list(run.outputs.keys()) == TRAIN_OUTPUTS"
   ]
  },
  {
   "cell_type": "markdown",
   "id": "70088bb0-47f4-4f66-b25b-e77761ac19a1",
   "metadata": {},
   "source": [
    "### Clean up"
   ]
  },
  {
   "cell_type": "code",
   "execution_count": 25,
   "id": "8433611f-565a-41c0-95ca-c1ddb8372703",
   "metadata": {},
   "outputs": [
    {
     "name": "stdout",
     "output_type": "stream",
     "text": [
      "> 2023-11-09 18:25:03,991 [info] Project is being deleted: {'project_name': 'test-project-setup'}\n",
      "> 2023-11-09 18:25:07,292 [info] Project deleted: {'project_name': 'test-project-setup'}\n"
     ]
    }
   ],
   "source": [
    "db.delete_project(name=project.metadata.name, deletion_strategy=\"cascade\")"
   ]
  }
 ],
 "metadata": {
  "kernelspec": {
   "display_name": "mlrun-extended",
   "language": "python",
   "name": "conda-env-mlrun-extended-py"
  },
  "language_info": {
   "codemirror_mode": {
    "name": "ipython",
    "version": 3
   },
   "file_extension": ".py",
   "mimetype": "text/x-python",
   "name": "python",
   "nbconvert_exporter": "python",
   "pygments_lexer": "ipython3",
   "version": "3.9.16"
  }
 },
 "nbformat": 4,
 "nbformat_minor": 5
}
