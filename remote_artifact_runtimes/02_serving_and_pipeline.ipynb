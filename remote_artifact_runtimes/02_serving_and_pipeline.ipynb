{
 "cells": [
  {
   "cell_type": "markdown",
   "id": "ee283e29",
   "metadata": {},
   "source": [
    "# Serving Runtime Remote Artifacts"
   ]
  },
  {
   "cell_type": "code",
   "execution_count": 1,
   "id": "a4441fa3",
   "metadata": {},
   "outputs": [
    {
     "name": "stdout",
     "output_type": "stream",
     "text": [
      "> 2022-12-21 07:31:13,343 [info] loaded project testing-notebooks from MLRun DB\n"
     ]
    }
   ],
   "source": [
    "import mlrun\n",
    "import os\n",
    "\n",
    "# Initialize the MLRun project object\n",
    "project = mlrun.get_or_create_project('testing-notebooks',user_project=True,context='./')\n",
    "\n",
    "# Required credentials :\n",
    "# AWS_ACCESS_KEY_ID, AWS_SECRET_ACCESS_KEY, GOOGLE_APPLICATION_CREDENTIALS, S3_BUCKET\n",
    "AWS_ACCESS_KEY_ID = os.environ.get('AWS_ACCESS_KEY_ID', None)\n",
    "AWS_SECRET_ACCESS_KEY = os.environ.get('AWS_SECRET_ACCESS_KEY', None)\n",
    "GOOGLE_APPLICATION_CREDENTIALS = os.environ.get('GOOGLE_APPLICATION_CREDENTIALS', None)\n",
    "assert AWS_ACCESS_KEY_ID != None and AWS_SECRET_ACCESS_KEY != None and GOOGLE_APPLICATION_CREDENTIALS != None\n",
    "\n",
    "secrets = {'AWS_ACCESS_KEY_ID': AWS_ACCESS_KEY_ID,\n",
    "           'AWS_SECRET_ACCESS_KEY':AWS_SECRET_ACCESS_KEY,\n",
    "           'GOOGLE_APPLICATION_CREDENTIALS': GOOGLE_APPLICATION_CREDENTIALS}\n",
    "\n",
    "project.set_secrets(secrets=secrets, provider='kubernetes')\n",
    "\n",
    "S3_BUCKET = os.environ.get('S3_BUCKET', 'testbucket-igz')\n",
    "\n",
    "project.artifact_path = os.path.join('s3://', S3_BUCKET + '/')"
   ]
  },
  {
   "cell_type": "code",
   "execution_count": 2,
   "id": "6607873b",
   "metadata": {},
   "outputs": [
    {
     "data": {
      "text/plain": [
       "<mlrun.runtimes.serving.ServingRuntime at 0x7f773f70f810>"
      ]
     },
     "execution_count": 2,
     "metadata": {},
     "output_type": "execute_result"
    }
   ],
   "source": [
    "# Setting dummy serving function\n",
    "project.set_function(mlrun.new_function(name='serving', kind='serving',image='mlrun/ml-models', command = []))\n",
    "project.get_function('serving').spec.build.commands = ['pip install -U xgboost']\n",
    "project.get_function('serving').set_envs(secrets)\n",
    "# adding our remote source model\n",
    "model_artifact = project.get_artifact('log-transactions-log_transactions_bst_model')\n",
    "model_path = model_artifact.get_target_path() + model_artifact.model_file\n",
    "\n",
    "project.get_function('serving').add_model(key = 'my_model',\n",
    "                                          class_name = \"mlrun.frameworks.xgboost.XGBoostModelServer\",\n",
    "                                          model_path = model_path)\n",
    "\n",
    "# mounting\n",
    "project.get_function('serving').apply(mlrun.auto_mount())\n",
    "project.get_function('serving').apply(mlrun.platforms.mount_s3())"
   ]
  },
  {
   "cell_type": "code",
   "execution_count": 3,
   "id": "af5e4a79",
   "metadata": {},
   "outputs": [
    {
     "name": "stdout",
     "output_type": "stream",
     "text": [
      "> 2022-12-21 07:31:13,752 [warning] run command, file or code were not specified\n",
      "> 2022-12-21 07:31:19,021 [info] model my_model was loaded\n",
      "> 2022-12-21 07:31:19,024 [info] Loaded ['my_model']\n"
     ]
    }
   ],
   "source": [
    "server = project.get_function('serving').to_mock_server()"
   ]
  },
  {
   "cell_type": "code",
   "execution_count": 4,
   "id": "75d848f4",
   "metadata": {},
   "outputs": [
    {
     "data": {
      "text/plain": [
       "{'id': '2003394e40ab4454b7b6108a81edbd4e',\n",
       " 'model_name': 'my_model',\n",
       " 'outputs': [2, 1, 0]}"
      ]
     },
     "execution_count": 4,
     "metadata": {},
     "output_type": "execute_result"
    }
   ],
   "source": [
    "from sklearn.datasets import load_iris\n",
    "from sklearn.model_selection import train_test_split\n",
    "\n",
    "X,y = load_iris(return_X_y=True)\n",
    "\n",
    "X_train, X_test, y_train, y_test = train_test_split(X, y, train_size=0.8, test_size=0.2, random_state=0)\n",
    "\n",
    "server.test(body={'inputs': X_test.tolist()[:3]})"
   ]
  },
  {
   "cell_type": "code",
   "execution_count": 5,
   "id": "ef36e532",
   "metadata": {},
   "outputs": [
    {
     "name": "stdout",
     "output_type": "stream",
     "text": [
      "> 2022-12-21 07:31:19,096 [info] Starting remote function deploy\n",
      "2022-12-21 07:31:19  (info) Deploying function\n",
      "2022-12-21 07:31:19  (info) Building\n",
      "2022-12-21 07:31:19  (info) Staging files and preparing base images\n",
      "2022-12-21 07:31:19  (info) Building processor image\n",
      "2022-12-21 07:32:44  (info) Build complete\n",
      "2022-12-21 07:33:22  (info) Function deploy complete\n",
      "> 2022-12-21 07:33:23,757 [info] successfully deployed function: {'internal_invocation_urls': ['nuclio-testing-notebooks-dani-serving.default-tenant.svc.cluster.local:8080'], 'external_invocation_urls': ['testing-notebooks-dani-serving-testing-notebooks-dani.default-tenant.app.jmglmvqnganv.iguazio-cd1.com/']}\n"
     ]
    },
    {
     "data": {
      "text/plain": [
       "DeployStatus(state=ready, outputs={'endpoint': 'http://testing-notebooks-dani-serving-testing-notebooks-dani.default-tenant.app.jmglmvqnganv.iguazio-cd1.com/', 'name': 'testing-notebooks-dani-serving'})"
      ]
     },
     "execution_count": 5,
     "metadata": {},
     "output_type": "execute_result"
    }
   ],
   "source": [
    "project.deploy_function('serving')"
   ]
  },
  {
   "cell_type": "code",
   "execution_count": 6,
   "id": "30092550",
   "metadata": {},
   "outputs": [
    {
     "name": "stdout",
     "output_type": "stream",
     "text": [
      "> 2022-12-21 07:33:28,875 [info] invoking function: {'method': 'POST', 'path': 'http://nuclio-testing-notebooks-dani-serving.default-tenant.svc.cluster.local:8080/v2/models/my_model/infer'}\n"
     ]
    },
    {
     "data": {
      "text/plain": [
       "{'id': '69136cd4-65bc-423e-8c34-58808cfedef9',\n",
       " 'model_name': 'my_model',\n",
       " 'outputs': [2, 1, 0]}"
      ]
     },
     "execution_count": 6,
     "metadata": {},
     "output_type": "execute_result"
    }
   ],
   "source": [
    "import time\n",
    "time.sleep(5)\n",
    "project.get_function('serving').invoke('/v2/models/my_model/infer', body={'inputs': X_test.tolist()[:3]})"
   ]
  },
  {
   "cell_type": "markdown",
   "id": "36d1f161",
   "metadata": {},
   "source": [
    "# Pipeline remote access"
   ]
  },
  {
   "cell_type": "code",
   "execution_count": 7,
   "id": "ec8c8623",
   "metadata": {},
   "outputs": [
    {
     "name": "stdout",
     "output_type": "stream",
     "text": [
      "Writing workflow.py\n"
     ]
    }
   ],
   "source": [
    "%%writefile workflow.py\n",
    "import mlrun\n",
    "from kfp import dsl\n",
    "\n",
    "\n",
    "@dsl.pipeline(name=\"Mask Detection Pipeline\")\n",
    "\n",
    "def kfpipeline():\n",
    "    # Get our project object:\n",
    "    project = mlrun.get_current_project()\n",
    "    \n",
    "    project.get_function('log_transactions').apply(mlrun.platforms.mount_s3())\n",
    "    project.get_function('log_transactions').apply(mlrun.auto_mount())\n",
    "    run = project.run_function('log_transactions')\n",
    "    \n",
    "    model_artifact = project.get_artifact('log-transactions-log_transactions_bst_model')\n",
    "    model_path = model_artifact.get_target_path() + model_artifact.model_file\n",
    "    \n",
    "    project.get_function('serving').add_model(key = 'my_model',\n",
    "                                          class_name = \"mlrun.frameworks.xgboost.XGBoostModelServer\",\n",
    "                                          model_path = model_path)\n",
    "    \n",
    "    project.deploy_function('serving').after(run)\n",
    "    return"
   ]
  },
  {
   "cell_type": "code",
   "execution_count": 8,
   "id": "ff152f6b",
   "metadata": {},
   "outputs": [
    {
     "data": {
      "text/plain": [
       "<mlrun.projects.project.MlrunProject at 0x7f773f72b990>"
      ]
     },
     "execution_count": 8,
     "metadata": {},
     "output_type": "execute_result"
    }
   ],
   "source": [
    "# Register the workflow file:\n",
    "workflow_name = \"iris_workflow\"\n",
    "project.set_workflow(workflow_name, \"workflow.py\")\n",
    "\n",
    "# Save the project:\n",
    "project.save()"
   ]
  },
  {
   "cell_type": "code",
   "execution_count": 11,
   "id": "5ef95c5e",
   "metadata": {},
   "outputs": [
    {
     "data": {
      "text/html": [
       "<div>Pipeline running (id=957c095d-4003-4449-b216-c1cab99b3173), <a href=\"https://dashboard.default-tenant.app.jmglmvqnganv.iguazio-cd1.com/mlprojects/testing-notebooks-dani/jobs/monitor-workflows/workflow/957c095d-4003-4449-b216-c1cab99b3173\" target=\"_blank\"><b>click here</b></a> to view the details in MLRun UI</div>"
      ],
      "text/plain": [
       "<IPython.core.display.HTML object>"
      ]
     },
     "metadata": {},
     "output_type": "display_data"
    },
    {
     "data": {
      "image/svg+xml": [
       "<?xml version=\"1.0\" encoding=\"UTF-8\" standalone=\"no\"?>\n",
       "<!DOCTYPE svg PUBLIC \"-//W3C//DTD SVG 1.1//EN\"\n",
       " \"http://www.w3.org/Graphics/SVG/1.1/DTD/svg11.dtd\">\n",
       "<!-- Generated by graphviz version 2.40.1 (20161225.0304)\n",
       " -->\n",
       "<!-- Title: kfp Pages: 1 -->\n",
       "<svg width=\"180pt\" height=\"116pt\"\n",
       " viewBox=\"0.00 0.00 179.58 116.00\" xmlns=\"http://www.w3.org/2000/svg\" xmlns:xlink=\"http://www.w3.org/1999/xlink\">\n",
       "<g id=\"graph0\" class=\"graph\" transform=\"scale(1 1) rotate(0) translate(4 112)\">\n",
       "<title>kfp</title>\n",
       "<polygon fill=\"#ffffff\" stroke=\"transparent\" points=\"-4,4 -4,-112 175.5848,-112 175.5848,4 -4,4\"/>\n",
       "<!-- mask&#45;detection&#45;pipeline&#45;sctvt&#45;3570406731 -->\n",
       "<g id=\"node1\" class=\"node\">\n",
       "<title>mask&#45;detection&#45;pipeline&#45;sctvt&#45;3570406731</title>\n",
       "<polygon fill=\"#00ff00\" stroke=\"#000000\" points=\"146.7924,-36 28.7924,-36 24.7924,-32 24.7924,0 142.7924,0 146.7924,-4 146.7924,-36\"/>\n",
       "<polyline fill=\"none\" stroke=\"#000000\" points=\"142.7924,-32 24.7924,-32 \"/>\n",
       "<polyline fill=\"none\" stroke=\"#000000\" points=\"142.7924,-32 142.7924,0 \"/>\n",
       "<polyline fill=\"none\" stroke=\"#000000\" points=\"142.7924,-32 146.7924,-36 \"/>\n",
       "<text text-anchor=\"middle\" x=\"85.7924\" y=\"-14.3\" font-family=\"Times,serif\" font-size=\"14.00\" fill=\"#000000\">deploy&#45;serving</text>\n",
       "</g>\n",
       "<!-- mask&#45;detection&#45;pipeline&#45;sctvt&#45;4282895669 -->\n",
       "<g id=\"node2\" class=\"node\">\n",
       "<title>mask&#45;detection&#45;pipeline&#45;sctvt&#45;4282895669</title>\n",
       "<ellipse fill=\"#00ff00\" stroke=\"#000000\" cx=\"85.7924\" cy=\"-90\" rx=\"85.5853\" ry=\"18\"/>\n",
       "<text text-anchor=\"middle\" x=\"85.7924\" y=\"-86.3\" font-family=\"Times,serif\" font-size=\"14.00\" fill=\"#000000\">log&#45;transactions</text>\n",
       "</g>\n",
       "<!-- mask&#45;detection&#45;pipeline&#45;sctvt&#45;4282895669&#45;&gt;mask&#45;detection&#45;pipeline&#45;sctvt&#45;3570406731 -->\n",
       "<g id=\"edge1\" class=\"edge\">\n",
       "<title>mask&#45;detection&#45;pipeline&#45;sctvt&#45;4282895669&#45;&gt;mask&#45;detection&#45;pipeline&#45;sctvt&#45;3570406731</title>\n",
       "<path fill=\"none\" stroke=\"#000000\" d=\"M85.7924,-71.8314C85.7924,-64.131 85.7924,-54.9743 85.7924,-46.4166\"/>\n",
       "<polygon fill=\"#000000\" stroke=\"#000000\" points=\"89.2925,-46.4132 85.7924,-36.4133 82.2925,-46.4133 89.2925,-46.4132\"/>\n",
       "</g>\n",
       "</g>\n",
       "</svg>\n"
      ],
      "text/plain": [
       "<graphviz.dot.Digraph at 0x7f77245da890>"
      ]
     },
     "metadata": {},
     "output_type": "display_data"
    },
    {
     "data": {
      "text/html": [
       "<h2>Run Results</h2><h3>[info] Workflow 957c095d-4003-4449-b216-c1cab99b3173 finished, state=Succeeded</h3><br>click the hyper links below to see detailed results<br><table border=\"1\" class=\"dataframe\">\n",
       "  <thead>\n",
       "    <tr style=\"text-align: right;\">\n",
       "      <th>uid</th>\n",
       "      <th>start</th>\n",
       "      <th>state</th>\n",
       "      <th>name</th>\n",
       "      <th>parameters</th>\n",
       "      <th>results</th>\n",
       "    </tr>\n",
       "  </thead>\n",
       "  <tbody>\n",
       "    <tr>\n",
       "      <td><div title=\"81b395946411411786817439d5c37b32\"><a href=\"https://dashboard.default-tenant.app.jmglmvqnganv.iguazio-cd1.com/mlprojects/testing-notebooks-dani/jobs/monitor/81b395946411411786817439d5c37b32/overview\" target=\"_blank\" >...d5c37b32</a></div></td>\n",
       "      <td>Dec 21 07:37:49</td>\n",
       "      <td>completed</td>\n",
       "      <td>log-transactions</td>\n",
       "      <td></td>\n",
       "      <td></td>\n",
       "    </tr>\n",
       "  </tbody>\n",
       "</table>"
      ],
      "text/plain": [
       "<IPython.core.display.HTML object>"
      ]
     },
     "metadata": {},
     "output_type": "display_data"
    },
    {
     "data": {
      "text/plain": [
       "<mlrun.projects.project.MlrunProject at 0x7f773f72b990>"
      ]
     },
     "execution_count": 11,
     "metadata": {},
     "output_type": "execute_result"
    }
   ],
   "source": [
    "# Running with S3\n",
    "project.run(name=workflow_name,watch=True, local=False, artifact_path=project.artifact_path)\n",
    "project.save()"
   ]
  },
  {
   "cell_type": "code",
   "execution_count": 10,
   "id": "8dc494e8",
   "metadata": {},
   "outputs": [
    {
     "data": {
      "text/html": [
       "<div>Pipeline running (id=dfc293e3-47cd-44a1-820a-d98c966536e2), <a href=\"https://dashboard.default-tenant.app.jmglmvqnganv.iguazio-cd1.com/mlprojects/testing-notebooks-dani/jobs/monitor-workflows/workflow/dfc293e3-47cd-44a1-820a-d98c966536e2\" target=\"_blank\"><b>click here</b></a> to view the details in MLRun UI</div>"
      ],
      "text/plain": [
       "<IPython.core.display.HTML object>"
      ]
     },
     "metadata": {},
     "output_type": "display_data"
    },
    {
     "data": {
      "image/svg+xml": [
       "<?xml version=\"1.0\" encoding=\"UTF-8\" standalone=\"no\"?>\n",
       "<!DOCTYPE svg PUBLIC \"-//W3C//DTD SVG 1.1//EN\"\n",
       " \"http://www.w3.org/Graphics/SVG/1.1/DTD/svg11.dtd\">\n",
       "<!-- Generated by graphviz version 2.40.1 (20161225.0304)\n",
       " -->\n",
       "<!-- Title: kfp Pages: 1 -->\n",
       "<svg width=\"180pt\" height=\"116pt\"\n",
       " viewBox=\"0.00 0.00 179.58 116.00\" xmlns=\"http://www.w3.org/2000/svg\" xmlns:xlink=\"http://www.w3.org/1999/xlink\">\n",
       "<g id=\"graph0\" class=\"graph\" transform=\"scale(1 1) rotate(0) translate(4 112)\">\n",
       "<title>kfp</title>\n",
       "<polygon fill=\"#ffffff\" stroke=\"transparent\" points=\"-4,4 -4,-112 175.5848,-112 175.5848,4 -4,4\"/>\n",
       "<!-- mask&#45;detection&#45;pipeline&#45;mn94n&#45;220012661 -->\n",
       "<g id=\"node1\" class=\"node\">\n",
       "<title>mask&#45;detection&#45;pipeline&#45;mn94n&#45;220012661</title>\n",
       "<ellipse fill=\"#00ff00\" stroke=\"#000000\" cx=\"85.7924\" cy=\"-90\" rx=\"85.5853\" ry=\"18\"/>\n",
       "<text text-anchor=\"middle\" x=\"85.7924\" y=\"-86.3\" font-family=\"Times,serif\" font-size=\"14.00\" fill=\"#000000\">log&#45;transactions</text>\n",
       "</g>\n",
       "<!-- mask&#45;detection&#45;pipeline&#45;mn94n&#45;3295565707 -->\n",
       "<g id=\"node2\" class=\"node\">\n",
       "<title>mask&#45;detection&#45;pipeline&#45;mn94n&#45;3295565707</title>\n",
       "<polygon fill=\"#00ff00\" stroke=\"#000000\" points=\"146.7924,-36 28.7924,-36 24.7924,-32 24.7924,0 142.7924,0 146.7924,-4 146.7924,-36\"/>\n",
       "<polyline fill=\"none\" stroke=\"#000000\" points=\"142.7924,-32 24.7924,-32 \"/>\n",
       "<polyline fill=\"none\" stroke=\"#000000\" points=\"142.7924,-32 142.7924,0 \"/>\n",
       "<polyline fill=\"none\" stroke=\"#000000\" points=\"142.7924,-32 146.7924,-36 \"/>\n",
       "<text text-anchor=\"middle\" x=\"85.7924\" y=\"-14.3\" font-family=\"Times,serif\" font-size=\"14.00\" fill=\"#000000\">deploy&#45;serving</text>\n",
       "</g>\n",
       "<!-- mask&#45;detection&#45;pipeline&#45;mn94n&#45;220012661&#45;&gt;mask&#45;detection&#45;pipeline&#45;mn94n&#45;3295565707 -->\n",
       "<g id=\"edge1\" class=\"edge\">\n",
       "<title>mask&#45;detection&#45;pipeline&#45;mn94n&#45;220012661&#45;&gt;mask&#45;detection&#45;pipeline&#45;mn94n&#45;3295565707</title>\n",
       "<path fill=\"none\" stroke=\"#000000\" d=\"M85.7924,-71.8314C85.7924,-64.131 85.7924,-54.9743 85.7924,-46.4166\"/>\n",
       "<polygon fill=\"#000000\" stroke=\"#000000\" points=\"89.2925,-46.4132 85.7924,-36.4133 82.2925,-46.4133 89.2925,-46.4132\"/>\n",
       "</g>\n",
       "</g>\n",
       "</svg>\n"
      ],
      "text/plain": [
       "<graphviz.dot.Digraph at 0x7f77278084d0>"
      ]
     },
     "metadata": {},
     "output_type": "display_data"
    },
    {
     "data": {
      "text/html": [
       "<h2>Run Results</h2><h3>[info] Workflow dfc293e3-47cd-44a1-820a-d98c966536e2 finished, state=Succeeded</h3><br>click the hyper links below to see detailed results<br><table border=\"1\" class=\"dataframe\">\n",
       "  <thead>\n",
       "    <tr style=\"text-align: right;\">\n",
       "      <th>uid</th>\n",
       "      <th>start</th>\n",
       "      <th>state</th>\n",
       "      <th>name</th>\n",
       "      <th>parameters</th>\n",
       "      <th>results</th>\n",
       "    </tr>\n",
       "  </thead>\n",
       "  <tbody>\n",
       "    <tr>\n",
       "      <td><div title=\"7cd12f6c9dd34ecaa86435e1ea459d1b\"><a href=\"https://dashboard.default-tenant.app.jmglmvqnganv.iguazio-cd1.com/mlprojects/testing-notebooks-dani/jobs/monitor/7cd12f6c9dd34ecaa86435e1ea459d1b/overview\" target=\"_blank\" >...ea459d1b</a></div></td>\n",
       "      <td>Dec 21 07:34:06</td>\n",
       "      <td>completed</td>\n",
       "      <td>log-transactions</td>\n",
       "      <td></td>\n",
       "      <td></td>\n",
       "    </tr>\n",
       "  </tbody>\n",
       "</table>"
      ],
      "text/plain": [
       "<IPython.core.display.HTML object>"
      ]
     },
     "metadata": {},
     "output_type": "display_data"
    },
    {
     "data": {
      "text/plain": [
       "dfc293e3-47cd-44a1-820a-d98c966536e2"
      ]
     },
     "execution_count": 10,
     "metadata": {},
     "output_type": "execute_result"
    }
   ],
   "source": [
    "# Running with GCS\n",
    "project.run(name=workflow_name,watch=True, local=False, artifact_path='gs' + project.artifact_path[2:])"
   ]
  }
 ],
 "metadata": {
  "kernelspec": {
   "display_name": "Python 3",
   "language": "python",
   "name": "python3"
  },
  "language_info": {
   "codemirror_mode": {
    "name": "ipython",
    "version": 3
   },
   "file_extension": ".py",
   "mimetype": "text/x-python",
   "name": "python",
   "nbconvert_exporter": "python",
   "pygments_lexer": "ipython3",
   "version": "3.7.6"
  }
 },
 "nbformat": 4,
 "nbformat_minor": 5
}
