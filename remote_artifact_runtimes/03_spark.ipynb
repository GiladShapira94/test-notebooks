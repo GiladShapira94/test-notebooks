{
 "cells": [
  {
   "cell_type": "code",
   "execution_count": 1,
   "id": "53d31fbd",
   "metadata": {},
   "outputs": [
    {
     "name": "stdout",
     "output_type": "stream",
     "text": [
      "> 2023-01-11 08:50:44,538 [info] loaded project remote-artifacts from MLRun DB\n"
     ]
    }
   ],
   "source": [
    "import mlrun\n",
    "import os\n",
    "\n",
    "# Initialize the MLRun project object\n",
    "project = mlrun.get_or_create_project('remote-artifacts',user_project=True,context='./')\n",
    "\n",
    "# Required credentials :\n",
    "# AWS_ACCESS_KEY_ID, AWS_SECRET_ACCESS_KEY, GOOGLE_APPLICATION_CREDENTIALS, S3_BUCKET\n",
    "AWS_ACCESS_KEY_ID = os.environ.get('AWS_ACCESS_KEY_ID', None)\n",
    "AWS_SECRET_ACCESS_KEY = os.environ.get('AWS_SECRET_ACCESS_KEY', None)\n",
    "GOOGLE_APPLICATION_CREDENTIALS = os.environ.get('GOOGLE_APPLICATION_CREDENTIALS', None)\n",
    "assert AWS_ACCESS_KEY_ID != None and AWS_SECRET_ACCESS_KEY != None and GOOGLE_APPLICATION_CREDENTIALS != None, \"please provide credentials\"\n",
    "\n",
    "secrets = {'AWS_ACCESS_KEY_ID': AWS_ACCESS_KEY_ID,\n",
    "           'AWS_SECRET_ACCESS_KEY':AWS_SECRET_ACCESS_KEY,\n",
    "           'GOOGLE_APPLICATION_CREDENTIALS': GOOGLE_APPLICATION_CREDENTIALS}\n",
    "\n",
    "project.set_secrets(secrets=secrets, provider='kubernetes')\n",
    "\n",
    "S3_BUCKET = os.environ.get('S3_BUCKET', 'testbucket-igz')\n",
    "\n",
    "project.artifact_path = os.path.join('s3://', S3_BUCKET + '/remote-artifacts/')"
   ]
  },
  {
   "cell_type": "code",
   "execution_count": 2,
   "id": "91b4be98",
   "metadata": {},
   "outputs": [],
   "source": [
    "#mlrun: start-code\n",
    "from pyspark.sql import SparkSession\n",
    "import mlrun\n",
    "import os\n",
    "import pandas as pd\n",
    "\n",
    "def get_dataitem(context: mlrun.MLClientCtx,\n",
    "                             key: str):\n",
    "    \n",
    "    for artifact in context.artifacts:\n",
    "        if artifact['kind'] == 'model' and artifact['metadata'].get('key',None) == key:\n",
    "            return mlrun.get_dataitem(artifact['spec']['target_path'] + artifact['spec']['model_file'])\n",
    "        elif artifact['kind'] == 'dataset' and artifact['metadata'].get('key',None) == key:\n",
    "            return mlrun.get_dataitem(artifact['spec']['target_path'])\n",
    "        elif artifact['metadata'].get('key',None) == key:\n",
    "            return mlrun.get_dataitem(artifact['spec']['target_path'])\n",
    "    context.logger.info('Artifact not found')\n",
    "\n",
    "def spark_func(context: mlrun.MLClientCtx,\n",
    "               artifact_target_path: str):\n",
    "        \n",
    "    spark = SparkSession \\\n",
    "        .builder \\\n",
    "        .appName(\"Python Spark SQL basic example\") \\\n",
    "        .config(\"spark.some.config.option\", \"some-value\") \\\n",
    "        .config(\"fs.s3a.access.key\", context.get_secret('AWS_ACCESS_KEY_ID'))\\\n",
    "        .config(\"fs.s3a.secret.key\", context.get_secret('AWS_SECRET_ACCESS_KEY'))\\\n",
    "        .config(\"spark.hadoop.fs.s3a.impl\", \"org.apache.hadoop.fs.s3a.S3AFileSystem\")\\\n",
    "        .config(\"com.amazonaws.services.s3.enableV4\", True)\\\n",
    "        .config(\"spark.driver.extraJavaOptions\", \"-Dcom.amazonaws.services.s3.enableV4=true\")\\\n",
    "        .getOrCreate()\n",
    "        \n",
    "    context.log_artifact('spark_s3_artifact', local_path=artifact_target_path)\n",
    "    context.logger.info('artifact logged')\n",
    "    \n",
    "    df = get_dataitem(context, 'spark_s3_artifact').as_df()\n",
    "    context.logger.info('getting logged artifact with custom function')\n",
    "    sparkDF = spark.createDataFrame(df)\n",
    "    sparkDF.show()\n",
    "    sparkDF.write.format('csv').save(artifact_target_path)\n",
    "    \n",
    "#mlrun: end-code"
   ]
  },
  {
   "cell_type": "code",
   "execution_count": 4,
   "id": "e5e79714",
   "metadata": {},
   "outputs": [],
   "source": [
    "# For Spark operator\n",
    "from mlrun.runtimes import Spark3Runtime\n",
    "Spark3Runtime.deploy_default_image()"
   ]
  },
  {
   "cell_type": "code",
   "execution_count": 5,
   "id": "02d58dc8",
   "metadata": {},
   "outputs": [
    {
     "name": "stdout",
     "output_type": "stream",
     "text": [
      "> 2023-01-11 08:51:02,828 [warning] it is recommended to use k8s secret (specify secret_name), specifying the aws_access_key/aws_secret_key directly is unsafe\n"
     ]
    }
   ],
   "source": [
    "sj = mlrun.code_to_function(name='spark_func', \n",
    "                            kind='spark', \n",
    "                            image='.spark-job-default-image',\n",
    "                            handler='spark_func')\n",
    "\n",
    "# set spark driver config (gpu_type & gpus=<number_of_gpus>  supported too)\n",
    "sj.with_driver_limits(cpu=\"500m\")\n",
    "sj.with_driver_requests(cpu=1, mem=\"512m\") \n",
    "\n",
    "# set spark executor config (gpu_type & gpus=<number_of_gpus> are supported too)\n",
    "sj.with_executor_limits(cpu=\"500m\")\n",
    "sj.with_executor_requests(cpu=1, mem=\"512m\")\n",
    "\n",
    "# adds fuse, daemon & iguazio's jars support\n",
    "sj.with_igz_spark() \n",
    "\n",
    "project.set_function(name = 'spark_func', func=sj)\n",
    "project.get_function('spark_func').apply(mlrun.platforms.mount_s3())\n",
    "\n",
    "task = mlrun.new_task().with_secrets(\"kubernetes\", [\"AWS_ACCESS_KEY_ID\", \"AWS_SECRET_ACCESS_KEY\", \"GOOGLE_APPLICATION_CREDENTIALS\"])"
   ]
  },
  {
   "cell_type": "code",
   "execution_count": 6,
   "id": "d5ad91a3",
   "metadata": {},
   "outputs": [
    {
     "data": {
      "text/plain": [
       "'s3://testbucket-igz/remote-artifacts/log-transactions-log_transactions/0/iris_dataset-s3.csv'"
      ]
     },
     "execution_count": 6,
     "metadata": {},
     "output_type": "execute_result"
    }
   ],
   "source": [
    "project.get_artifact('log-transactions-log_transactions_iris_dataset-s3').target_path"
   ]
  },
  {
   "cell_type": "code",
   "execution_count": 7,
   "id": "ab214721",
   "metadata": {},
   "outputs": [
    {
     "name": "stdout",
     "output_type": "stream",
     "text": [
      "> 2023-01-11 08:51:02,937 [info] starting run spark-func-spark_func uid=1f88dd1cf5144ff6897fd6f3dd405a52 DB=http://mlrun-api:8080\n",
      "> 2023-01-11 08:51:05,621 [info] downloading s3://testbucket-igz/remote-artifacts/log-transactions-log_transactions/0/iris_dataset-s3.csv to local temp file\n",
      "> 2023-01-11 08:51:13,084 [info] artifact logged\n",
      "> 2023-01-11 08:51:18,676 [info] getting logged artifact with custom function\n",
      "+----------+---+---+---+---+\n",
      "|Unnamed: 0|  0|  1|  2|  3|\n",
      "+----------+---+---+---+---+\n",
      "|         0|5.1|3.5|1.4|0.2|\n",
      "|         1|4.9|3.0|1.4|0.2|\n",
      "|         2|4.7|3.2|1.3|0.2|\n",
      "|         3|4.6|3.1|1.5|0.2|\n",
      "|         4|5.0|3.6|1.4|0.2|\n",
      "|         5|5.4|3.9|1.7|0.4|\n",
      "|         6|4.6|3.4|1.4|0.3|\n",
      "|         7|5.0|3.4|1.5|0.2|\n",
      "|         8|4.4|2.9|1.4|0.2|\n",
      "|         9|4.9|3.1|1.5|0.1|\n",
      "|        10|5.4|3.7|1.5|0.2|\n",
      "|        11|4.8|3.4|1.6|0.2|\n",
      "|        12|4.8|3.0|1.4|0.1|\n",
      "|        13|4.3|3.0|1.1|0.1|\n",
      "|        14|5.8|4.0|1.2|0.2|\n",
      "|        15|5.7|4.4|1.5|0.4|\n",
      "|        16|5.4|3.9|1.3|0.4|\n",
      "|        17|5.1|3.5|1.4|0.3|\n",
      "|        18|5.7|3.8|1.7|0.3|\n",
      "|        19|5.1|3.8|1.5|0.3|\n",
      "+----------+---+---+---+---+\n",
      "only showing top 20 rows\n",
      "\n"
     ]
    },
    {
     "data": {
      "text/html": [
       "<style>\n",
       ".dictlist {\n",
       "  background-color: #4EC64B;\n",
       "  text-align: center;\n",
       "  margin: 4px;\n",
       "  border-radius: 3px; padding: 0px 3px 1px 3px; display: inline-block;}\n",
       ".artifact {\n",
       "  cursor: pointer;\n",
       "  background-color: #4EC64B;\n",
       "  text-align: left;\n",
       "  margin: 4px; border-radius: 3px; padding: 0px 3px 1px 3px; display: inline-block;\n",
       "}\n",
       "div.block.hidden {\n",
       "  display: none;\n",
       "}\n",
       ".clickable {\n",
       "  cursor: pointer;\n",
       "}\n",
       ".ellipsis {\n",
       "  display: inline-block;\n",
       "  max-width: 60px;\n",
       "  white-space: nowrap;\n",
       "  overflow: hidden;\n",
       "  text-overflow: ellipsis;\n",
       "}\n",
       ".master-wrapper {\n",
       "  display: flex;\n",
       "  flex-flow: row nowrap;\n",
       "  justify-content: flex-start;\n",
       "  align-items: stretch;\n",
       "}\n",
       ".master-tbl {\n",
       "  flex: 3\n",
       "}\n",
       ".master-wrapper > div {\n",
       "  margin: 4px;\n",
       "  padding: 10px;\n",
       "}\n",
       "iframe.fileview {\n",
       "  border: 0 none;\n",
       "  height: 100%;\n",
       "  width: 100%;\n",
       "  white-space: pre-wrap;\n",
       "}\n",
       ".pane-header-title {\n",
       "  width: 80%;\n",
       "  font-weight: 500;\n",
       "}\n",
       ".pane-header {\n",
       "  line-height: 1;\n",
       "  background-color: #4EC64B;\n",
       "  padding: 3px;\n",
       "}\n",
       ".pane-header .close {\n",
       "  font-size: 20px;\n",
       "  font-weight: 700;\n",
       "  float: right;\n",
       "  margin-top: -5px;\n",
       "}\n",
       ".master-wrapper .right-pane {\n",
       "  border: 1px inset silver;\n",
       "  width: 40%;\n",
       "  min-height: 300px;\n",
       "  flex: 3\n",
       "  min-width: 500px;\n",
       "}\n",
       ".master-wrapper * {\n",
       "  box-sizing: border-box;\n",
       "}\n",
       "</style><script>\n",
       "function copyToClipboard(fld) {\n",
       "    if (document.queryCommandSupported && document.queryCommandSupported('copy')) {\n",
       "        var textarea = document.createElement('textarea');\n",
       "        textarea.textContent = fld.innerHTML;\n",
       "        textarea.style.position = 'fixed';\n",
       "        document.body.appendChild(textarea);\n",
       "        textarea.select();\n",
       "\n",
       "        try {\n",
       "            return document.execCommand('copy'); // Security exception may be thrown by some browsers.\n",
       "        } catch (ex) {\n",
       "\n",
       "        } finally {\n",
       "            document.body.removeChild(textarea);\n",
       "        }\n",
       "    }\n",
       "}\n",
       "function expandPanel(el) {\n",
       "  const panelName = \"#\" + el.getAttribute('paneName');\n",
       "  console.log(el.title);\n",
       "\n",
       "  document.querySelector(panelName + \"-title\").innerHTML = el.title\n",
       "  iframe = document.querySelector(panelName + \"-body\");\n",
       "\n",
       "  const tblcss = `<style> body { font-family: Arial, Helvetica, sans-serif;}\n",
       "    #csv { margin-bottom: 15px; }\n",
       "    #csv table { border-collapse: collapse;}\n",
       "    #csv table td { padding: 4px 8px; border: 1px solid silver;} </style>`;\n",
       "\n",
       "  function csvToHtmlTable(str) {\n",
       "    return '<div id=\"csv\"><table><tr><td>' +  str.replace(/[\\n\\r]+$/g, '').replace(/[\\n\\r]+/g, '</td></tr><tr><td>')\n",
       "      .replace(/,/g, '</td><td>') + '</td></tr></table></div>';\n",
       "  }\n",
       "\n",
       "  function reqListener () {\n",
       "    if (el.title.endsWith(\".csv\")) {\n",
       "      iframe.setAttribute(\"srcdoc\", tblcss + csvToHtmlTable(this.responseText));\n",
       "    } else {\n",
       "      iframe.setAttribute(\"srcdoc\", this.responseText);\n",
       "    }\n",
       "    console.log(this.responseText);\n",
       "  }\n",
       "\n",
       "  const oReq = new XMLHttpRequest();\n",
       "  oReq.addEventListener(\"load\", reqListener);\n",
       "  oReq.open(\"GET\", el.title);\n",
       "  oReq.send();\n",
       "\n",
       "\n",
       "  //iframe.src = el.title;\n",
       "  const resultPane = document.querySelector(panelName + \"-pane\");\n",
       "  if (resultPane.classList.contains(\"hidden\")) {\n",
       "    resultPane.classList.remove(\"hidden\");\n",
       "  }\n",
       "}\n",
       "function closePanel(el) {\n",
       "  const panelName = \"#\" + el.getAttribute('paneName')\n",
       "  const resultPane = document.querySelector(panelName + \"-pane\");\n",
       "  if (!resultPane.classList.contains(\"hidden\")) {\n",
       "    resultPane.classList.add(\"hidden\");\n",
       "  }\n",
       "}\n",
       "\n",
       "</script>\n",
       "<div class=\"master-wrapper\">\n",
       "  <div class=\"block master-tbl\"><div>\n",
       "<style scoped>\n",
       "    .dataframe tbody tr th:only-of-type {\n",
       "        vertical-align: middle;\n",
       "    }\n",
       "\n",
       "    .dataframe tbody tr th {\n",
       "        vertical-align: top;\n",
       "    }\n",
       "\n",
       "    .dataframe thead th {\n",
       "        text-align: right;\n",
       "    }\n",
       "</style>\n",
       "<table border=\"1\" class=\"dataframe\">\n",
       "  <thead>\n",
       "    <tr style=\"text-align: right;\">\n",
       "      <th>project</th>\n",
       "      <th>uid</th>\n",
       "      <th>iter</th>\n",
       "      <th>start</th>\n",
       "      <th>state</th>\n",
       "      <th>name</th>\n",
       "      <th>labels</th>\n",
       "      <th>inputs</th>\n",
       "      <th>parameters</th>\n",
       "      <th>results</th>\n",
       "      <th>artifacts</th>\n",
       "    </tr>\n",
       "  </thead>\n",
       "  <tbody>\n",
       "    <tr>\n",
       "      <td>remote-artifacts-admin</td>\n",
       "      <td><div title=\"1f88dd1cf5144ff6897fd6f3dd405a52\"><a href=\"https://dashboard.default-tenant.app.vmdev94.lab.iguazeng.com/mlprojects/remote-artifacts-admin/jobs/monitor/1f88dd1cf5144ff6897fd6f3dd405a52/overview\" target=\"_blank\" >...dd405a52</a></div></td>\n",
       "      <td>0</td>\n",
       "      <td>Jan 11 08:51:05</td>\n",
       "      <td>completed</td>\n",
       "      <td>spark-func-spark_func</td>\n",
       "      <td><div class=\"dictlist\">v3io_user=admin</div><div class=\"dictlist\">kind=</div><div class=\"dictlist\">owner=admin</div><div class=\"dictlist\">host=jupyter-6479d4cd8c-rnxrj</div></td>\n",
       "      <td><div title=\"s3://testbucket-igz/remote-artifacts/log-transactions-log_transactions/0/iris_dataset-s3.csv\">artifact_target_path</div></td>\n",
       "      <td></td>\n",
       "      <td></td>\n",
       "      <td><div title=\"s3://testbucket-igz/remote-artifacts/spark-func-spark_func/0/spark_s3_artifact.csv\">spark_s3_artifact</div></td>\n",
       "    </tr>\n",
       "  </tbody>\n",
       "</table>\n",
       "</div></div>\n",
       "  <div id=\"resulte0a4a5aa-pane\" class=\"right-pane block hidden\">\n",
       "    <div class=\"pane-header\">\n",
       "      <span id=\"resulte0a4a5aa-title\" class=\"pane-header-title\">Title</span>\n",
       "      <span onclick=\"closePanel(this)\" paneName=\"resulte0a4a5aa\" class=\"close clickable\">&times;</span>\n",
       "    </div>\n",
       "    <iframe class=\"fileview\" id=\"resulte0a4a5aa-body\"></iframe>\n",
       "  </div>\n",
       "</div>\n"
      ],
      "text/plain": [
       "<IPython.core.display.HTML object>"
      ]
     },
     "metadata": {},
     "output_type": "display_data"
    },
    {
     "name": "stdout",
     "output_type": "stream",
     "text": [
      "\n"
     ]
    },
    {
     "data": {
      "text/html": [
       "<b> > to track results use the .show() or .logs() methods  or <a href=\"https://dashboard.default-tenant.app.vmdev94.lab.iguazeng.com/mlprojects/remote-artifacts-admin/jobs/monitor/1f88dd1cf5144ff6897fd6f3dd405a52/overview\" target=\"_blank\">click here</a> to open in UI</b>"
      ],
      "text/plain": [
       "<IPython.core.display.HTML object>"
      ]
     },
     "metadata": {},
     "output_type": "display_data"
    },
    {
     "name": "stdout",
     "output_type": "stream",
     "text": [
      "> 2023-01-11 08:51:26,608 [info] run executed, status=completed\n"
     ]
    },
    {
     "data": {
      "text/plain": [
       "<mlrun.model.RunObject at 0x7fa4e5cf1fd0>"
      ]
     },
     "execution_count": 7,
     "metadata": {},
     "output_type": "execute_result"
    }
   ],
   "source": [
    "project.get_function('spark_func').run(task,\n",
    "                                       inputs = {'artifact_target_path': project.get_artifact('log-transactions-log_transactions_iris_dataset-s3').target_path},\n",
    "                                       local=True)"
   ]
  },
  {
   "cell_type": "markdown",
   "id": "65231fa0",
   "metadata": {},
   "source": [
    "## Cleaup"
   ]
  },
  {
   "cell_type": "code",
   "execution_count": 9,
   "id": "6d4e07f9",
   "metadata": {},
   "outputs": [],
   "source": [
    "import boto3\n",
    "from urllib.parse import urlparse\n",
    "\n",
    "\n",
    "s3 = boto3.resource('s3')\n",
    "bucket = s3.Bucket(urlparse(project.artifact_path).netloc)\n",
    "bucket.objects.filter(Prefix=urlparse(project.artifact_path).path[1:]).delete()\n",
    "mlrun.get_run_db().delete_project(name=project.name, deletion_strategy='cascade')"
   ]
  }
 ],
 "metadata": {
  "kernelspec": {
   "display_name": "Python [conda env:root] *",
   "language": "python",
   "name": "conda-root-py"
  },
  "language_info": {
   "codemirror_mode": {
    "name": "ipython",
    "version": 3
   },
   "file_extension": ".py",
   "mimetype": "text/x-python",
   "name": "python",
   "nbconvert_exporter": "python",
   "pygments_lexer": "ipython3",
   "version": "3.7.6"
  }
 },
 "nbformat": 4,
 "nbformat_minor": 5
}
