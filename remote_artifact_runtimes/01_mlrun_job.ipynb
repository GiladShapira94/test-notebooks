{
 "cells": [
  {
   "cell_type": "markdown",
   "id": "2ddc65ad",
   "metadata": {},
   "source": [
    "# Mlrun Job Runtime Remote Artifacts"
   ]
  },
  {
   "cell_type": "code",
   "execution_count": null,
   "id": "1a77e2f6",
   "metadata": {},
   "outputs": [],
   "source": [
    "import mlrun\n",
    "import os\n",
    "\n",
    "# Initialize the MLRun project object\n",
    "project = mlrun.load_project('./')\n",
    "\n",
    "# Required credentials :\n",
    "# AWS_ACCESS_KEY_ID, AWS_SECRET_ACCESS_KEY, GOOGLE_APPLICATION_CREDENTIALS as jupyter env vars and project secrets (k8s provider)."
   ]
  },
  {
   "cell_type": "code",
   "execution_count": null,
   "id": "152b29da",
   "metadata": {},
   "outputs": [],
   "source": [
    "#mlrun: start-code\n",
    "\n",
    "import mlrun\n",
    "import pandas as pd \n",
    "import json\n",
    "import os\n",
    "from xgboost import XGBClassifier\n",
    "import pickle\n",
    "from mlrun.artifacts.base import DirArtifact\n",
    "from mlrun import MLClientCtx\n",
    "from sklearn.datasets import load_iris\n",
    "from io import BytesIO\n",
    "from sklearn.model_selection import train_test_split\n",
    "\n",
    "def get_dataitem(context: MLClientCtx,\n",
    "                             key: str):\n",
    "    \n",
    "    for artifact in context.artifacts:\n",
    "        if artifact['kind'] == 'model' and artifact['metadata'].get('key',None) == key:\n",
    "            return mlrun.get_dataitem(artifact['spec']['target_path'] + artifact['spec']['model_file'])\n",
    "        elif artifact['kind'] == 'dataset' and artifact['metadata'].get('key',None) == key:\n",
    "            return mlrun.get_dataitem(artifact['spec']['target_path'])\n",
    "        elif artifact['metadata'].get('key',None) == key:\n",
    "            return mlrun.get_dataitem(artifact['spec']['target_path'])\n",
    "    context.logger.info('Artifact not found')\n",
    "    \n",
    "def log_transactions(context: MLClientCtx,\n",
    "                     target_path: str ='transactions_cut.csv'):\n",
    "        \n",
    "    target_path = os.path.join(context.artifact_path, target_path)\n",
    "    # logging artifact\n",
    "    context.log_artifact('transactions-'+context.artifact_path[:2], target_path=target_path)\n",
    "    # reading artifact\n",
    "    context.logger.info(f'logged dataset {get_dataitem(context, \"transactions-\" + context.artifact_path[:2]).as_df().shape}')\n",
    "        \n",
    "    # uploading new artifact \n",
    "    df_encode = pd.DataFrame(load_iris()['data']).to_json().encode()\n",
    "    context.log_artifact('encoded_iris-'+context.artifact_path[:2], body=df_encode, local_path='encoded_iris-'+context.artifact_path[:2]+'.csv')\n",
    "    # reading artifact\n",
    "    trans_df = pd.DataFrame(json.loads(get_dataitem(context, 'encoded_iris-'+context.artifact_path[:2]).get()))\n",
    "    context.logger.info(f'dataframe shape : {trans_df.shape}')\n",
    "    \n",
    "    # training the model (for serving purposes )\n",
    "    bst = XGBClassifier(n_estimators=2, max_depth=2, learning_rate=1, objective='binary:logistic')\n",
    "    X,y = load_iris(return_X_y=True)\n",
    "    X_train, x_test, y_train, y_test = train_test_split(X, y, train_size=0.8, test_size=0.2, random_state=0)\n",
    "    bst.fit(X_train, y_train)\n",
    "    # logging a model\n",
    "    context.log_model('bst_model', body=pickle.dumps(bst), model_file='bst.pkl')\n",
    "    # getting the model remote\n",
    "    model = pickle.loads(get_dataitem(context, 'bst_model').get())\n",
    "    context.logger.info(f'logged model : {model.__class__}')\n",
    "    \n",
    "    # Logging directory\n",
    "    context.log_artifact(DirArtifact(key='my_project', target_path=context.artifact_path))\n",
    "    \n",
    "    # Logging dataset \n",
    "    context.log_dataset(key = 'iris_dataset-'+context.artifact_path[:2],\n",
    "                        df = pd.DataFrame(json.loads(get_dataitem(context, 'encoded_iris-'+context.artifact_path[:2]).get())),\n",
    "                        local_path='iris_dataset-'+context.artifact_path[:2]+'.csv')\n",
    "    # Getting dataset\n",
    "    context.logger.info(f'logged dataset {get_dataitem(context, \"iris_dataset-\" + context.artifact_path[:2]).as_df().shape}')\n",
    "    \n",
    "    return\n",
    "            \n",
    "#mlrun: end-code"
   ]
  },
  {
   "cell_type": "markdown",
   "id": "d46660a6",
   "metadata": {},
   "source": [
    "## Mlrun job using s3 and gs local and remote"
   ]
  },
  {
   "cell_type": "code",
   "execution_count": null,
   "id": "1b739441",
   "metadata": {},
   "outputs": [],
   "source": [
    "project.set_function(name='log_transactions', kind='job', image='mlrun/ml-models', handler='log_transactions')\n",
    "project.get_function('log_transactions').apply(mlrun.platforms.mount_s3())\n",
    "\n",
    "task = mlrun.new_task().with_secrets(\"kubernetes\", [\"AWS_ACCESS_KEY_ID\", \"AWS_SECRET_ACCESS_KEY\", \"GOOGLE_APPLICATION_CREDENTIALS\"])\n",
    "\n",
    "project.get_function('log_transactions').run(task, 'log_transactions', local=False)"
   ]
  },
  {
   "cell_type": "code",
   "execution_count": null,
   "id": "62a2dee8",
   "metadata": {},
   "outputs": [],
   "source": [
    "project.save()"
   ]
  },
  {
   "cell_type": "code",
   "execution_count": null,
   "id": "1c1e939a",
   "metadata": {},
   "outputs": [],
   "source": [
    "project.artifact_path = 'gs' + project.artifact_path[2:] # Switching to GCS\n",
    "project.get_function('log_transactions').run(task, 'log_transactions', local=True)"
   ]
  }
 ],
 "metadata": {
  "kernelspec": {
   "display_name": "Python 3",
   "language": "python",
   "name": "python3"
  },
  "language_info": {
   "codemirror_mode": {
    "name": "ipython",
    "version": 3
   },
   "file_extension": ".py",
   "mimetype": "text/x-python",
   "name": "python",
   "nbconvert_exporter": "python",
   "pygments_lexer": "ipython3",
   "version": "3.7.6"
  }
 },
 "nbformat": 4,
 "nbformat_minor": 5
}
