{
 "cells": [
  {
   "cell_type": "markdown",
   "id": "a8def168",
   "metadata": {
    "pycharm": {
     "name": "#%% md\n"
    }
   },
   "source": [
    "# Training A `TensorFlow.Keras` Classifier With And Without `Horovod`\n",
    "\n",
    "This test uses MNIST dataset to train a model using TensorFlow.Keras with and without Horovod. Later it will verify that:\n",
    "\n",
    "  * The accuracy was not damaged in Horovod.\n",
    "  * The Horovod run was faster (only possible on big data). "
   ]
  },
  {
   "cell_type": "markdown",
   "id": "15032737",
   "metadata": {
    "pycharm": {
     "name": "#%% md\n"
    }
   },
   "source": [
    "## General Configurations"
   ]
  },
  {
   "cell_type": "code",
   "execution_count": null,
   "outputs": [],
   "source": [
    "# per ML-3824 need to install tensorflow and mlrun in the same command\n",
    "!pip install plotly tensorflow mlrun"
   ],
   "metadata": {
    "collapsed": false,
    "pycharm": {
     "name": "#%%\n"
    }
   }
  },
  {
   "cell_type": "code",
   "execution_count": 1,
   "id": "e190f156",
   "metadata": {
    "pycharm": {
     "name": "#%%\n"
    }
   },
   "outputs": [],
   "source": [
    "# Number of epochs to train (to increase the training time without increqasing the memory usage):\n",
    "N_EPOCHS = 4\n",
    "\n",
    "# Number of ranks (horovod workers) to deploy for the open mpi job:\n",
    "N_RANKS = 4"
   ]
  },
  {
   "cell_type": "markdown",
   "id": "f869f13d",
   "metadata": {
    "pycharm": {
     "name": "#%% md\n"
    }
   },
   "source": [
    "## 1. Training Code\n",
    "\n",
    "1. Get the MNIST data from `tensorflow.keras.datasets`.\n",
    "2. Initialize a model.\n",
    "3. Run training on the training set with validation on the testing set.\n",
    "\n",
    "Accuracy score will be logged as a result as part of MLRun auto-logging."
   ]
  },
  {
   "cell_type": "code",
   "execution_count": 2,
   "id": "008c8b49",
   "metadata": {
    "pycharm": {
     "name": "#%%\n"
    }
   },
   "outputs": [],
   "source": [
    "# mlrun: start-code"
   ]
  },
  {
   "cell_type": "code",
   "execution_count": 3,
   "id": "b1645ea6",
   "metadata": {
    "pycharm": {
     "name": "#%%\n"
    }
   },
   "outputs": [],
   "source": [
    "from typing import Tuple\n",
    "import time\n",
    "import tensorflow as tf\n",
    "\n",
    "import mlrun\n",
    "import mlrun.frameworks.tf_keras as mlrun_tf_keras\n",
    "\n",
    "\n",
    "def get_datasets(batch_size: int) -> Tuple[tf.data.Dataset, tf.data.Dataset]:\n",
    "    # Download the data:\n",
    "    (x_train, y_train), (x_test, y_test) = tf.keras.datasets.mnist.load_data()\n",
    "    \n",
    "    # Initialize tensorflow datasets:\n",
    "    train_set = tf.data.Dataset.from_tensor_slices((x_train, y_train)).batch(batch_size)\n",
    "    test_set = tf.data.Dataset.from_tensor_slices((x_test, y_test)).batch(batch_size)\n",
    "    \n",
    "    return train_set, test_set\n",
    "\n",
    "\n",
    "def get_model() -> tf.keras.Model:\n",
    "    # Build the model architecture:\n",
    "    inputs = tf.keras.Input(shape=(28, 28))\n",
    "    x = tf.keras.layers.experimental.preprocessing.Rescaling(1.0 / 255)(inputs)\n",
    "    x = tf.keras.layers.Flatten()(x)\n",
    "    x = tf.keras.layers.Dense(128, activation=\"relu\")(x)\n",
    "    x = tf.keras.layers.Dense(128, activation=\"relu\")(x)\n",
    "    outputs = tf.keras.layers.Dense(10, activation=\"softmax\")(x)\n",
    "    \n",
    "    # Initialize a model:\n",
    "    model = tf.keras.Model(inputs, outputs)\n",
    "    \n",
    "    return model\n",
    "\n",
    "\n",
    "@mlrun.handler(outputs=[\"time\"])\n",
    "def train(context: mlrun.MLClientCtx, n_epochs: int):\n",
    "    # Start the timer:\n",
    "    run_time = time.time()\n",
    "    \n",
    "    # Get the data:\n",
    "    batch_size = 32\n",
    "    train_set, test_set = get_datasets(batch_size=batch_size)\n",
    "\n",
    "    # Get the model:\n",
    "    model = get_model()\n",
    "    \n",
    "    # Apply MLRun:\n",
    "    mlrun_tf_keras.apply_mlrun(model=model, context=context)\n",
    "\n",
    "    # Compile the model:\n",
    "    model.compile(\n",
    "        optimizer=tf.keras.optimizers.SGD(lr=0.1, momentum=0.9),\n",
    "        loss=\"sparse_categorical_crossentropy\",\n",
    "        metrics=[\"accuracy\"]\n",
    "    )\n",
    "\n",
    "    # Train:\n",
    "    model.fit(\n",
    "        train_set,\n",
    "        validation_data=test_set,\n",
    "        epochs=n_epochs,\n",
    "        steps_per_epoch=len(train_set) // batch_size,\n",
    "    )\n",
    "    run_time = time.time() - run_time\n",
    "    \n",
    "    return run_time"
   ]
  },
  {
   "cell_type": "code",
   "execution_count": 4,
   "id": "40d3ade8",
   "metadata": {
    "pycharm": {
     "name": "#%%\n"
    }
   },
   "outputs": [],
   "source": [
    "# mlrun: end-code"
   ]
  },
  {
   "cell_type": "markdown",
   "id": "6a946442",
   "metadata": {
    "pycharm": {
     "name": "#%% md\n"
    }
   },
   "source": [
    "## 2. Create a Project\n",
    "\n",
    "1. Create the MLRun project.\n",
    "2. Create an MLRun function of the training code."
   ]
  },
  {
   "cell_type": "code",
   "execution_count": 5,
   "id": "b27a5d55",
   "metadata": {
    "pycharm": {
     "name": "#%%\n"
    }
   },
   "outputs": [],
   "source": [
    "import numpy as np\n",
    "import mlrun"
   ]
  },
  {
   "cell_type": "code",
   "execution_count": 6,
   "id": "49aa8c59",
   "metadata": {
    "pycharm": {
     "name": "#%%\n"
    }
   },
   "outputs": [
    {
     "name": "stdout",
     "output_type": "stream",
     "text": [
      "> 2022-12-26 12:16:58,139 [info] loaded project horovod-tensorflow-test from MLRun DB\n"
     ]
    }
   ],
   "source": [
    "# Create the project:\n",
    "project = mlrun.get_or_create_project(name=\"horovod-tensorflow-test\", context=\"./\", user_project=True)"
   ]
  },
  {
   "cell_type": "code",
   "execution_count": 7,
   "id": "2b23f995",
   "metadata": {
    "pycharm": {
     "name": "#%%\n"
    }
   },
   "outputs": [],
   "source": [
    "# Create the job function:\n",
    "job_function = project.set_function(name=\"train_job\", kind=\"job\", image=\"mlrun/ml-models\", handler=\"train\")\n",
    "job_function.apply(mlrun.auto_mount())\n",
    "\n",
    "# Create the open mpi function:\n",
    "mpijob_function = project.set_function(name=\"train_mpijob\", kind=\"mpijob\", image=\"mlrun/ml-models\", handler=\"train\")\n",
    "mpijob_function.apply(mlrun.auto_mount())\n",
    "mpijob_function.spec.replicas = N_RANKS"
   ]
  },
  {
   "cell_type": "markdown",
   "id": "147e8ae7",
   "metadata": {
    "pycharm": {
     "name": "#%% md\n"
    }
   },
   "source": [
    "## 3. Run As A Job\n",
    "\n",
    "Run the training as a `job` and storing the results."
   ]
  },
  {
   "cell_type": "code",
   "execution_count": 8,
   "id": "83557d09",
   "metadata": {
    "pycharm": {
     "name": "#%%\n"
    }
   },
   "outputs": [
    {
     "name": "stdout",
     "output_type": "stream",
     "text": [
      "> 2022-12-26 12:17:11,730 [info] starting run training_job uid=7a436b0e191a445d99c6f70c33781c25 DB=http://mlrun-api:8080\n",
      "> 2022-12-26 12:17:11,930 [info] Job is running in the background, pod: training-job-jtp75\n",
      "2022-12-26 12:17:18.493877: W tensorflow/stream_executor/platform/default/dso_loader.cc:60] Could not load dynamic library 'libcudart.so.11.0'; dlerror: libcudart.so.11.0: cannot open shared object file: No such file or directory\n",
      "2022-12-26 12:17:18.493925: I tensorflow/stream_executor/cuda/cudart_stub.cc:29] Ignore above cudart dlerror if you do not have a GPU set up on your machine.\n",
      "Downloading data from https://storage.googleapis.com/tensorflow/tf-keras-datasets/mnist.npz\n",
      "11493376/11490434 [==============================] - 0s 0us/step\n",
      "2022-12-26 12:17:22.222287: I tensorflow/compiler/jit/xla_cpu_device.cc:41] Not creating XLA devices, tf_xla_enable_xla_devices not set\n",
      "2022-12-26 12:17:22.222636: W tensorflow/stream_executor/platform/default/dso_loader.cc:60] Could not load dynamic library 'libcuda.so.1'; dlerror: libcuda.so.1: cannot open shared object file: No such file or directory\n",
      "2022-12-26 12:17:22.222672: W tensorflow/stream_executor/cuda/cuda_driver.cc:326] failed call to cuInit: UNKNOWN ERROR (303)\n",
      "2022-12-26 12:17:22.222708: I tensorflow/stream_executor/cuda/cuda_diagnostics.cc:163] no NVIDIA GPU device is present: /dev/nvidia0 does not exist\n",
      "2022-12-26 12:17:22.223302: I tensorflow/core/platform/cpu_feature_guard.cc:142] This TensorFlow binary is optimized with oneAPI Deep Neural Network Library (oneDNN) to use the following CPU instructions in performance-critical operations:  AVX2 FMA\n",
      "To enable them in other operations, rebuild TensorFlow with the appropriate compiler flags.\n",
      "2022-12-26 12:17:22.224515: I tensorflow/compiler/jit/xla_gpu_device.cc:99] Not creating XLA devices, tf_xla_enable_xla_devices not set\n",
      "2022-12-26 12:17:22.324996: W tensorflow/python/util/util.cc:348] Sets are not currently considered sequences, but this may change in the future, so consider avoiding using them.\n",
      "2022-12-26 12:17:22.694401: I tensorflow/compiler/mlir/mlir_graph_optimization_pass.cc:116] None of the MLIR optimization passes are enabled (registered 2)\n",
      "2022-12-26 12:17:22.696480: I tensorflow/core/platform/profile_utils/cpu_utils.cc:112] CPU Frequency: 2195050000 Hz\n",
      "Epoch 1/12\n",
      "58/58 [==============================] - 1s 18ms/step - loss: 2.2465 - accuracy: 0.1858 - val_loss: 2.0688 - val_accuracy: 0.4267\n",
      "Epoch 2/12\n",
      "58/58 [==============================] - 1s 9ms/step - loss: 1.9685 - accuracy: 0.5036 - val_loss: 1.7532 - val_accuracy: 0.6169\n",
      "Epoch 3/12\n",
      "58/58 [==============================] - 0s 9ms/step - loss: 1.6626 - accuracy: 0.6650 - val_loss: 1.4038 - val_accuracy: 0.7019\n",
      "Epoch 4/12\n",
      "58/58 [==============================] - 0s 8ms/step - loss: 1.2959 - accuracy: 0.7291 - val_loss: 1.1034 - val_accuracy: 0.7686\n",
      "Epoch 5/12\n",
      "58/58 [==============================] - 1s 9ms/step - loss: 1.1005 - accuracy: 0.7600 - val_loss: 0.9148 - val_accuracy: 0.7952\n",
      "Epoch 6/12\n",
      "58/58 [==============================] - 0s 9ms/step - loss: 0.8402 - accuracy: 0.8100 - val_loss: 0.7754 - val_accuracy: 0.8124\n",
      "Epoch 7/12\n",
      "58/58 [==============================] - 0s 9ms/step - loss: 0.7396 - accuracy: 0.8230 - val_loss: 0.6837 - val_accuracy: 0.8358\n",
      "Epoch 8/12\n",
      "58/58 [==============================] - 0s 9ms/step - loss: 0.7490 - accuracy: 0.8004 - val_loss: 0.6252 - val_accuracy: 0.8470\n",
      "Epoch 9/12\n",
      "58/58 [==============================] - 0s 9ms/step - loss: 0.6148 - accuracy: 0.8586 - val_loss: 0.5695 - val_accuracy: 0.8621\n",
      "Epoch 10/12\n",
      "58/58 [==============================] - 1s 9ms/step - loss: 0.6542 - accuracy: 0.8328 - val_loss: 0.5354 - val_accuracy: 0.8637\n",
      "Epoch 11/12\n",
      "58/58 [==============================] - 1s 9ms/step - loss: 0.5043 - accuracy: 0.8886 - val_loss: 0.4967 - val_accuracy: 0.8719\n",
      "Epoch 12/12\n",
      "58/58 [==============================] - 0s 9ms/step - loss: 0.4777 - accuracy: 0.8778 - val_loss: 0.4777 - val_accuracy: 0.8757\n",
      "> 2022-12-26 12:17:45,907 [info] To track results use the CLI: {'info_cmd': 'mlrun get run 7a436b0e191a445d99c6f70c33781c25 -p horovod-tensorflow-test-guyl', 'logs_cmd': 'mlrun logs 7a436b0e191a445d99c6f70c33781c25 -p horovod-tensorflow-test-guyl'}\n",
      "> 2022-12-26 12:17:45,907 [info] Or click for UI: {'ui_url': 'https://dashboard.default-tenant.app.dev6.lab.iguazeng.com/mlprojects/horovod-tensorflow-test-guyl/jobs/monitor/7a436b0e191a445d99c6f70c33781c25/overview'}\n",
      "> 2022-12-26 12:17:45,908 [info] run executed, status=completed\n",
      "final state: completed\n"
     ]
    },
    {
     "data": {
      "text/html": [
       "<style>\n",
       ".dictlist {\n",
       "  background-color: #4EC64B;\n",
       "  text-align: center;\n",
       "  margin: 4px;\n",
       "  border-radius: 3px; padding: 0px 3px 1px 3px; display: inline-block;}\n",
       ".artifact {\n",
       "  cursor: pointer;\n",
       "  background-color: #4EC64B;\n",
       "  text-align: left;\n",
       "  margin: 4px; border-radius: 3px; padding: 0px 3px 1px 3px; display: inline-block;\n",
       "}\n",
       "div.block.hidden {\n",
       "  display: none;\n",
       "}\n",
       ".clickable {\n",
       "  cursor: pointer;\n",
       "}\n",
       ".ellipsis {\n",
       "  display: inline-block;\n",
       "  max-width: 60px;\n",
       "  white-space: nowrap;\n",
       "  overflow: hidden;\n",
       "  text-overflow: ellipsis;\n",
       "}\n",
       ".master-wrapper {\n",
       "  display: flex;\n",
       "  flex-flow: row nowrap;\n",
       "  justify-content: flex-start;\n",
       "  align-items: stretch;\n",
       "}\n",
       ".master-tbl {\n",
       "  flex: 3\n",
       "}\n",
       ".master-wrapper > div {\n",
       "  margin: 4px;\n",
       "  padding: 10px;\n",
       "}\n",
       "iframe.fileview {\n",
       "  border: 0 none;\n",
       "  height: 100%;\n",
       "  width: 100%;\n",
       "  white-space: pre-wrap;\n",
       "}\n",
       ".pane-header-title {\n",
       "  width: 80%;\n",
       "  font-weight: 500;\n",
       "}\n",
       ".pane-header {\n",
       "  line-height: 1;\n",
       "  background-color: #4EC64B;\n",
       "  padding: 3px;\n",
       "}\n",
       ".pane-header .close {\n",
       "  font-size: 20px;\n",
       "  font-weight: 700;\n",
       "  float: right;\n",
       "  margin-top: -5px;\n",
       "}\n",
       ".master-wrapper .right-pane {\n",
       "  border: 1px inset silver;\n",
       "  width: 40%;\n",
       "  min-height: 300px;\n",
       "  flex: 3\n",
       "  min-width: 500px;\n",
       "}\n",
       ".master-wrapper * {\n",
       "  box-sizing: border-box;\n",
       "}\n",
       "</style><script>\n",
       "function copyToClipboard(fld) {\n",
       "    if (document.queryCommandSupported && document.queryCommandSupported('copy')) {\n",
       "        var textarea = document.createElement('textarea');\n",
       "        textarea.textContent = fld.innerHTML;\n",
       "        textarea.style.position = 'fixed';\n",
       "        document.body.appendChild(textarea);\n",
       "        textarea.select();\n",
       "\n",
       "        try {\n",
       "            return document.execCommand('copy'); // Security exception may be thrown by some browsers.\n",
       "        } catch (ex) {\n",
       "\n",
       "        } finally {\n",
       "            document.body.removeChild(textarea);\n",
       "        }\n",
       "    }\n",
       "}\n",
       "function expandPanel(el) {\n",
       "  const panelName = \"#\" + el.getAttribute('paneName');\n",
       "  console.log(el.title);\n",
       "\n",
       "  document.querySelector(panelName + \"-title\").innerHTML = el.title\n",
       "  iframe = document.querySelector(panelName + \"-body\");\n",
       "\n",
       "  const tblcss = `<style> body { font-family: Arial, Helvetica, sans-serif;}\n",
       "    #csv { margin-bottom: 15px; }\n",
       "    #csv table { border-collapse: collapse;}\n",
       "    #csv table td { padding: 4px 8px; border: 1px solid silver;} </style>`;\n",
       "\n",
       "  function csvToHtmlTable(str) {\n",
       "    return '<div id=\"csv\"><table><tr><td>' +  str.replace(/[\\n\\r]+$/g, '').replace(/[\\n\\r]+/g, '</td></tr><tr><td>')\n",
       "      .replace(/,/g, '</td><td>') + '</td></tr></table></div>';\n",
       "  }\n",
       "\n",
       "  function reqListener () {\n",
       "    if (el.title.endsWith(\".csv\")) {\n",
       "      iframe.setAttribute(\"srcdoc\", tblcss + csvToHtmlTable(this.responseText));\n",
       "    } else {\n",
       "      iframe.setAttribute(\"srcdoc\", this.responseText);\n",
       "    }\n",
       "    console.log(this.responseText);\n",
       "  }\n",
       "\n",
       "  const oReq = new XMLHttpRequest();\n",
       "  oReq.addEventListener(\"load\", reqListener);\n",
       "  oReq.open(\"GET\", el.title);\n",
       "  oReq.send();\n",
       "\n",
       "\n",
       "  //iframe.src = el.title;\n",
       "  const resultPane = document.querySelector(panelName + \"-pane\");\n",
       "  if (resultPane.classList.contains(\"hidden\")) {\n",
       "    resultPane.classList.remove(\"hidden\");\n",
       "  }\n",
       "}\n",
       "function closePanel(el) {\n",
       "  const panelName = \"#\" + el.getAttribute('paneName')\n",
       "  const resultPane = document.querySelector(panelName + \"-pane\");\n",
       "  if (!resultPane.classList.contains(\"hidden\")) {\n",
       "    resultPane.classList.add(\"hidden\");\n",
       "  }\n",
       "}\n",
       "\n",
       "</script>\n",
       "<div class=\"master-wrapper\">\n",
       "  <div class=\"block master-tbl\"><div>\n",
       "<style scoped>\n",
       "    .dataframe tbody tr th:only-of-type {\n",
       "        vertical-align: middle;\n",
       "    }\n",
       "\n",
       "    .dataframe tbody tr th {\n",
       "        vertical-align: top;\n",
       "    }\n",
       "\n",
       "    .dataframe thead th {\n",
       "        text-align: right;\n",
       "    }\n",
       "</style>\n",
       "<table border=\"1\" class=\"dataframe\">\n",
       "  <thead>\n",
       "    <tr style=\"text-align: right;\">\n",
       "      <th>project</th>\n",
       "      <th>uid</th>\n",
       "      <th>iter</th>\n",
       "      <th>start</th>\n",
       "      <th>state</th>\n",
       "      <th>name</th>\n",
       "      <th>labels</th>\n",
       "      <th>inputs</th>\n",
       "      <th>parameters</th>\n",
       "      <th>results</th>\n",
       "      <th>artifacts</th>\n",
       "    </tr>\n",
       "  </thead>\n",
       "  <tbody>\n",
       "    <tr>\n",
       "      <td>horovod-tensorflow-test-guyl</td>\n",
       "      <td><div title=\"7a436b0e191a445d99c6f70c33781c25\"><a href=\"https://dashboard.default-tenant.app.dev6.lab.iguazeng.com/mlprojects/horovod-tensorflow-test-guyl/jobs/monitor/7a436b0e191a445d99c6f70c33781c25/overview\" target=\"_blank\" >...33781c25</a></div></td>\n",
       "      <td>0</td>\n",
       "      <td>Dec 26 12:17:18</td>\n",
       "      <td>completed</td>\n",
       "      <td>training_job</td>\n",
       "      <td><div class=\"dictlist\">v3io_user=guyl</div><div class=\"dictlist\">kind=job</div><div class=\"dictlist\">owner=guyl</div><div class=\"dictlist\">mlrun/client_version=1.2.1-rc4</div><div class=\"dictlist\">host=training-job-jtp75</div></td>\n",
       "      <td></td>\n",
       "      <td><div class=\"dictlist\">n_epochs=12</div></td>\n",
       "      <td><div class=\"dictlist\">n_epochs=12</div><div class=\"dictlist\">lr=0.009999999776482582</div><div class=\"dictlist\">training_loss=0.493896484375</div><div class=\"dictlist\">training_accuracy=0.875</div><div class=\"dictlist\">validation_loss=0.4776747340973193</div><div class=\"dictlist\">validation_accuracy=0.875699954291883</div><div class=\"dictlist\">time=24.575107097625732</div></td>\n",
       "      <td><div class=\"artifact\" onclick=\"expandPanel(this)\" paneName=\"result81b84197\" title=\"files/v3io/projects/horovod-tensorflow-test-guyl/artifacts/training_job/0/training_loss.html.html\">training_loss.html</div><div class=\"artifact\" onclick=\"expandPanel(this)\" paneName=\"result81b84197\" title=\"files/v3io/projects/horovod-tensorflow-test-guyl/artifacts/training_job/0/training_accuracy.html.html\">training_accuracy.html</div><div class=\"artifact\" onclick=\"expandPanel(this)\" paneName=\"result81b84197\" title=\"files/v3io/projects/horovod-tensorflow-test-guyl/artifacts/training_job/0/validation_loss.html.html\">validation_loss.html</div><div class=\"artifact\" onclick=\"expandPanel(this)\" paneName=\"result81b84197\" title=\"files/v3io/projects/horovod-tensorflow-test-guyl/artifacts/training_job/0/validation_accuracy.html.html\">validation_accuracy.html</div><div class=\"artifact\" onclick=\"expandPanel(this)\" paneName=\"result81b84197\" title=\"files/v3io/projects/horovod-tensorflow-test-guyl/artifacts/training_job/0/loss_summary.html.html\">loss_summary.html</div><div class=\"artifact\" onclick=\"expandPanel(this)\" paneName=\"result81b84197\" title=\"files/v3io/projects/horovod-tensorflow-test-guyl/artifacts/training_job/0/accuracy_summary.html.html\">accuracy_summary.html</div><div class=\"artifact\" onclick=\"expandPanel(this)\" paneName=\"result81b84197\" title=\"files/v3io/projects/horovod-tensorflow-test-guyl/artifacts/training_job/0/lr_values.html.html\">lr_values.html</div><div title=\"v3io:///projects/horovod-tensorflow-test-guyl/artifacts/training_job/0/model/\">model</div></td>\n",
       "    </tr>\n",
       "  </tbody>\n",
       "</table>\n",
       "</div></div>\n",
       "  <div id=\"result81b84197-pane\" class=\"right-pane block hidden\">\n",
       "    <div class=\"pane-header\">\n",
       "      <span id=\"result81b84197-title\" class=\"pane-header-title\">Title</span>\n",
       "      <span onclick=\"closePanel(this)\" paneName=\"result81b84197\" class=\"close clickable\">&times;</span>\n",
       "    </div>\n",
       "    <iframe class=\"fileview\" id=\"result81b84197-body\"></iframe>\n",
       "  </div>\n",
       "</div>\n"
      ],
      "text/plain": [
       "<IPython.core.display.HTML object>"
      ]
     },
     "metadata": {},
     "output_type": "display_data"
    },
    {
     "name": "stdout",
     "output_type": "stream",
     "text": [
      "\n"
     ]
    },
    {
     "data": {
      "text/html": [
       "<b> > to track results use the .show() or .logs() methods  or <a href=\"https://dashboard.default-tenant.app.dev6.lab.iguazeng.com/mlprojects/horovod-tensorflow-test-guyl/jobs/monitor/7a436b0e191a445d99c6f70c33781c25/overview\" target=\"_blank\">click here</a> to open in UI</b>"
      ],
      "text/plain": [
       "<IPython.core.display.HTML object>"
      ]
     },
     "metadata": {},
     "output_type": "display_data"
    },
    {
     "name": "stdout",
     "output_type": "stream",
     "text": [
      "> 2022-12-26 12:17:46,107 [info] run executed, status=completed\n"
     ]
    }
   ],
   "source": [
    "# Run as a job:\n",
    "job_run = job_function.run(\n",
    "    name=\"training_job\",\n",
    "    params={\n",
    "        \"n_epochs\": N_EPOCHS,\n",
    "    },\n",
    ")\n",
    "\n",
    "# Store results:\n",
    "job_time = job_run.status.results['time']\n",
    "job_accuracy = job_run.status.results['validation_accuracy']"
   ]
  },
  {
   "cell_type": "markdown",
   "id": "db4da6ae",
   "metadata": {
    "pycharm": {
     "name": "#%% md\n"
    }
   },
   "source": [
    "## 4. Run As a MPIJob\n",
    "\n",
    "Run the training as a `mpijob` and storing the results."
   ]
  },
  {
   "cell_type": "code",
   "execution_count": 9,
   "id": "301d215f",
   "metadata": {
    "pycharm": {
     "name": "#%%\n"
    }
   },
   "outputs": [
    {
     "name": "stdout",
     "output_type": "stream",
     "text": [
      "> 2022-12-26 12:17:46,153 [info] starting run training_mpijob uid=4f7bbe1a3ead410bb09946092d03531e DB=http://mlrun-api:8080\n",
      "> 2022-12-26 12:17:56,521 [info] MpiJob training-mpijob-a3d4b5d9 launcher pod training-mpijob-a3d4b5d9-launcher state active\n",
      "+ POD_NAME=training-mpijob-a3d4b5d9-worker-3\n",
      "+ shift\n",
      "+ /opt/kube/kubectl exec training-mpijob-a3d4b5d9-worker-3 -- /bin/sh -c        PATH=/usr/local/bin:$PATH ; export PATH ; LD_LIBRARY_PATH=/usr/local/lib:$LD_LIBRARY_PATH ; export LD_LIBRARY_PATH ; DYLD_LIBRARY_PATH=/usr/local/lib:$DYLD_LIBRARY_PATH ; export DYLD_LIBRARY_PATH ;   /usr/local/bin/orted -mca ess \"env\" -mca ess_base_jobid \"572915712\" -mca ess_base_vpid 4 -mca ess_base_num_procs \"5\" -mca orte_node_regex \"training-mpijob-a[1:3]d4b5d9-launcher,training-mpijob-a[1:3]d4b5d9-worker-0,training-mpijob-a[1:3]d4b5d9-worker-1,training-mpijob-a[1:3]d4b5d9-worker-2,training-mpijob-a[1:3]d4b5d9-worker-3@0(5)\" -mca orte_hnp_uri \"572915712.0;tcp://10.200.83.234:33209\" -mca plm \"rsh\" --tree-spawn -mca routed \"radix\" -mca orte_parent_uri \"572915712.0;tcp://10.200.83.234:33209\" -mca plm_rsh_agent \"/etc/mpi/kubexec.sh\" -mca orte_default_hostfile \"/etc/mpi/hostfile\" -mca pmix \"^s1,s2,cray,isolated\"\n",
      "+ POD_NAME=training-mpijob-a3d4b5d9-worker-1\n",
      "+ shift\n",
      "+ /opt/kube/kubectl exec training-mpijob-a3d4b5d9-worker-1 -- /bin/sh -c        PATH=/usr/local/bin:$PATH ; export PATH ; LD_LIBRARY_PATH=/usr/local/lib:$LD_LIBRARY_PATH ; export LD_LIBRARY_PATH ; DYLD_LIBRARY_PATH=/usr/local/lib:$DYLD_LIBRARY_PATH ; export DYLD_LIBRARY_PATH ;   /usr/local/bin/orted -mca ess \"env\" -mca ess_base_jobid \"572915712\" -mca ess_base_vpid 2 -mca ess_base_num_procs \"5\" -mca orte_node_regex \"training-mpijob-a[1:3]d4b5d9-launcher,training-mpijob-a[1:3]d4b5d9-worker-0,training-mpijob-a[1:3]d4b5d9-worker-1,training-mpijob-a[1:3]d4b5d9-worker-2,training-mpijob-a[1:3]d4b5d9-worker-3@0(5)\" -mca orte_hnp_uri \"572915712.0;tcp://10.200.83.234:33209\" -mca plm \"rsh\" --tree-spawn -mca routed \"radix\" -mca orte_parent_uri \"572915712.0;tcp://10.200.83.234:33209\" -mca plm_rsh_agent \"/etc/mpi/kubexec.sh\" -mca orte_default_hostfile \"/etc/mpi/hostfile\" -mca pmix \"^s1,s2,cray,isolated\"\n",
      "+ POD_NAME=training-mpijob-a3d4b5d9-worker-0\n",
      "+ shift\n",
      "+ /opt/kube/kubectl exec training-mpijob-a3d4b5d9-worker-0 -- /bin/sh -c        PATH=/usr/local/bin:$PATH ; export PATH ; LD_LIBRARY_PATH=/usr/local/lib:$LD_LIBRARY_PATH ; export LD_LIBRARY_PATH ; DYLD_LIBRARY_PATH=/usr/local/lib:$DYLD_LIBRARY_PATH ; export DYLD_LIBRARY_PATH ;   /usr/local/bin/orted -mca ess \"env\" -mca ess_base_jobid \"572915712\" -mca ess_base_vpid 1 -mca ess_base_num_procs \"5\" -mca orte_node_regex \"training-mpijob-a[1:3]d4b5d9-launcher,training-mpijob-a[1:3]d4b5d9-worker-0,training-mpijob-a[1:3]d4b5d9-worker-1,training-mpijob-a[1:3]d4b5d9-worker-2,training-mpijob-a[1:3]d4b5d9-worker-3@0(5)\" -mca orte_hnp_uri \"572915712.0;tcp://10.200.83.234:33209\" -mca plm \"rsh\" --tree-spawn -mca routed \"radix\" -mca orte_parent_uri \"572915712.0;tcp://10.200.83.234:33209\" -mca plm_rsh_agent \"/etc/mpi/kubexec.sh\" -mca orte_default_hostfile \"/etc/mpi/hostfile\" -mca pmix \"^s1,s2,cray,isolated\"\n",
      "+ POD_NAME=training-mpijob-a3d4b5d9-worker-2\n",
      "+ shift\n",
      "+ /opt/kube/kubectl exec training-mpijob-a3d4b5d9-worker-2 -- /bin/sh -c        PATH=/usr/local/bin:$PATH ; export PATH ; LD_LIBRARY_PATH=/usr/local/lib:$LD_LIBRARY_PATH ; export LD_LIBRARY_PATH ; DYLD_LIBRARY_PATH=/usr/local/lib:$DYLD_LIBRARY_PATH ; export DYLD_LIBRARY_PATH ;   /usr/local/bin/orted -mca ess \"env\" -mca ess_base_jobid \"572915712\" -mca ess_base_vpid 3 -mca ess_base_num_procs \"5\" -mca orte_node_regex \"training-mpijob-a[1:3]d4b5d9-launcher,training-mpijob-a[1:3]d4b5d9-worker-0,training-mpijob-a[1:3]d4b5d9-worker-1,training-mpijob-a[1:3]d4b5d9-worker-2,training-mpijob-a[1:3]d4b5d9-worker-3@0(5)\" -mca orte_hnp_uri \"572915712.0;tcp://10.200.83.234:33209\" -mca plm \"rsh\" --tree-spawn -mca routed \"radix\" -mca orte_parent_uri \"572915712.0;tcp://10.200.83.234:33209\" -mca plm_rsh_agent \"/etc/mpi/kubexec.sh\" -mca orte_default_hostfile \"/etc/mpi/hostfile\" -mca pmix \"^s1,s2,cray,isolated\"\n",
      "2022-12-26 12:18:01.703018: W tensorflow/stream_executor/platform/default/dso_loader.cc:60] Could not load dynamic library 'libcudart.so.11.0'; dlerror: libcudart.so.11.0: cannot open shared object file: No such file or directory; LD_LIBRARY_PATH: /usr/local/lib:/usr/local/lib:\n",
      "2022-12-26 12:18:01.703071: I tensorflow/stream_executor/cuda/cudart_stub.cc:29] Ignore above cudart dlerror if you do not have a GPU set up on your machine.\n",
      "2022-12-26 12:18:01.703018: W tensorflow/stream_executor/platform/default/dso_loader.cc:60] Could not load dynamic library 'libcudart.so.11.0'; dlerror: libcudart.so.11.0: cannot open shared object file: No such file or directory; LD_LIBRARY_PATH: /usr/local/lib:/usr/local/lib:\n",
      "2022-12-26 12:18:01.703070: I tensorflow/stream_executor/cuda/cudart_stub.cc:29] Ignore above cudart dlerror if you do not have a GPU set up on your machine.\n",
      "2022-12-26 12:18:01.737535: W tensorflow/stream_executor/platform/default/dso_loader.cc:60] Could not load dynamic library 'libcudart.so.11.0'; dlerror: libcudart.so.11.0: cannot open shared object file: No such file or directory; LD_LIBRARY_PATH: /usr/local/lib:/usr/local/lib:\n",
      "2022-12-26 12:18:01.737581: I tensorflow/stream_executor/cuda/cudart_stub.cc:29] Ignore above cudart dlerror if you do not have a GPU set up on your machine.\n",
      "2022-12-26 12:18:01.737535: W tensorflow/stream_executor/platform/default/dso_loader.cc:60] Could not load dynamic library 'libcudart.so.11.0'; dlerror: libcudart.so.11.0: cannot open shared object file: No such file or directory; LD_LIBRARY_PATH: /usr/local/lib:/usr/local/lib:\n",
      "2022-12-26 12:18:01.737581: I tensorflow/stream_executor/cuda/cudart_stub.cc:29] Ignore above cudart dlerror if you do not have a GPU set up on your machine.\n",
      "Downloading data from https://storage.googleapis.com/tensorflow/tf-keras-datasets/mnist.npz\n",
      "Downloading data from https://storage.googleapis.com/tensorflow/tf-keras-datasets/mnist.npz\n",
      "Downloading data from https://storage.googleapis.com/tensorflow/tf-keras-datasets/mnist.npz\n",
      "Downloading data from https://storage.googleapis.com/tensorflow/tf-keras-datasets/mnist.npz\n",
      "11493376/11490434 [==============================] - 0s 0us/step\n",
      "11493376/11490434 [==============================] - 0s 0us/step\n",
      "11493376/11490434 [==============================] - 0s 0us/step\n",
      "11493376/11490434 [==============================] - 0s 0us/step\n",
      "2022-12-26 12:18:05.322606: I tensorflow/compiler/jit/xla_cpu_device.cc:41] Not creating XLA devices, tf_xla_enable_xla_devices not set\n",
      "2022-12-26 12:18:05.323031: W tensorflow/stream_executor/platform/default/dso_loader.cc:60] Could not load dynamic library 'libcuda.so.1'; dlerror: libcuda.so.1: cannot open shared object file: No such file or directory; LD_LIBRARY_PATH: /usr/local/lib:/usr/local/lib:\n",
      "2022-12-26 12:18:05.323060: W tensorflow/stream_executor/cuda/cuda_driver.cc:326] failed call to cuInit: UNKNOWN ERROR (303)\n",
      "2022-12-26 12:18:05.323102: I tensorflow/stream_executor/cuda/cuda_diagnostics.cc:163] no NVIDIA GPU device is present: /dev/nvidia0 does not exist\n",
      "2022-12-26 12:18:05.323587: I tensorflow/core/platform/cpu_feature_guard.cc:142] This TensorFlow binary is optimized with oneAPI Deep Neural Network Library (oneDNN) to use the following CPU instructions in performance-critical operations:  AVX2 FMA\n",
      "To enable them in other operations, rebuild TensorFlow with the appropriate compiler flags.\n",
      "2022-12-26 12:18:05.324129: I tensorflow/compiler/jit/xla_gpu_device.cc:99] Not creating XLA devices, tf_xla_enable_xla_devices not set\n",
      "2022-12-26 12:18:05.372322: I tensorflow/compiler/jit/xla_cpu_device.cc:41] Not creating XLA devices, tf_xla_enable_xla_devices not set\n",
      "2022-12-26 12:18:05.372661: W tensorflow/stream_executor/platform/default/dso_loader.cc:60] Could not load dynamic library 'libcuda.so.1'; dlerror: libcuda.so.1: cannot open shared object file: No such file or directory; LD_LIBRARY_PATH: /usr/local/lib:/usr/local/lib:\n",
      "2022-12-26 12:18:05.372691: W tensorflow/stream_executor/cuda/cuda_driver.cc:326] failed call to cuInit: UNKNOWN ERROR (303)\n",
      "2022-12-26 12:18:05.372728: I tensorflow/stream_executor/cuda/cuda_diagnostics.cc:163] no NVIDIA GPU device is present: /dev/nvidia0 does not exist\n",
      "2022-12-26 12:18:05.373169: I tensorflow/core/platform/cpu_feature_guard.cc:142] This TensorFlow binary is optimized with oneAPI Deep Neural Network Library (oneDNN) to use the following CPU instructions in performance-critical operations:  AVX2 FMA\n",
      "To enable them in other operations, rebuild TensorFlow with the appropriate compiler flags.\n",
      "2022-12-26 12:18:05.373705: I tensorflow/compiler/jit/xla_gpu_device.cc:99] Not creating XLA devices, tf_xla_enable_xla_devices not set\n",
      "2022-12-26 12:18:05.421547: W tensorflow/python/util/util.cc:348] Sets are not currently considered sequences, but this may change in the future, so consider avoiding using them.\n",
      "2022-12-26 12:18:05.468431: W tensorflow/python/util/util.cc:348] Sets are not currently considered sequences, but this may change in the future, so consider avoiding using them.\n",
      "2022-12-26 12:18:05.500843: I tensorflow/compiler/jit/xla_cpu_device.cc:41] Not creating XLA devices, tf_xla_enable_xla_devices not set\n",
      "2022-12-26 12:18:05.501146: W tensorflow/stream_executor/platform/default/dso_loader.cc:60] Could not load dynamic library 'libcuda.so.1'; dlerror: libcuda.so.1: cannot open shared object file: No such file or directory; LD_LIBRARY_PATH: /usr/local/lib:/usr/local/lib:\n",
      "2022-12-26 12:18:05.501173: W tensorflow/stream_executor/cuda/cuda_driver.cc:326] failed call to cuInit: UNKNOWN ERROR (303)\n",
      "2022-12-26 12:18:05.501208: I tensorflow/stream_executor/cuda/cuda_diagnostics.cc:163] no NVIDIA GPU device is present: /dev/nvidia0 does not exist\n",
      "2022-12-26 12:18:05.501658: I tensorflow/core/platform/cpu_feature_guard.cc:142] This TensorFlow binary is optimized with oneAPI Deep Neural Network Library (oneDNN) to use the following CPU instructions in performance-critical operations:  AVX2 FMA\n",
      "To enable them in other operations, rebuild TensorFlow with the appropriate compiler flags.\n",
      "2022-12-26 12:18:05.502125: I tensorflow/compiler/jit/xla_gpu_device.cc:99] Not creating XLA devices, tf_xla_enable_xla_devices not set\n",
      "2022-12-26 12:18:05.565272: I tensorflow/compiler/jit/xla_cpu_device.cc:41] Not creating XLA devices, tf_xla_enable_xla_devices not set\n",
      "2022-12-26 12:18:05.565579: W tensorflow/stream_executor/platform/default/dso_loader.cc:60] Could not load dynamic library 'libcuda.so.1'; dlerror: libcuda.so.1: cannot open shared object file: No such file or directory; LD_LIBRARY_PATH: /usr/local/lib:/usr/local/lib:\n",
      "2022-12-26 12:18:05.565606: W tensorflow/stream_executor/cuda/cuda_driver.cc:326] failed call to cuInit: UNKNOWN ERROR (303)\n",
      "2022-12-26 12:18:05.565649: I tensorflow/stream_executor/cuda/cuda_diagnostics.cc:163] no NVIDIA GPU device is present: /dev/nvidia0 does not exist\n",
      "2022-12-26 12:18:05.566050: I tensorflow/core/platform/cpu_feature_guard.cc:142] This TensorFlow binary is optimized with oneAPI Deep Neural Network Library (oneDNN) to use the following CPU instructions in performance-critical operations:  AVX2 FMA\n",
      "To enable them in other operations, rebuild TensorFlow with the appropriate compiler flags.\n",
      "2022-12-26 12:18:05.566534: I tensorflow/compiler/jit/xla_gpu_device.cc:99] Not creating XLA devices, tf_xla_enable_xla_devices not set\n",
      "2022-12-26 12:18:05.596846: W tensorflow/python/util/util.cc:348] Sets are not currently considered sequences, but this may change in the future, so consider avoiding using them.\n",
      "2022-12-26 12:18:05.658995: W tensorflow/python/util/util.cc:348] Sets are not currently considered sequences, but this may change in the future, so consider avoiding using them.\n",
      "Horovod worker #1 is using CPU\n",
      "Horovod worker #0 is using CPU\n",
      "Horovod worker #3 is using CPU\n",
      "Horovod worker #2 is using CPU\n",
      "Epoch 1/12\n",
      "2022-12-26 12:18:07.826498: I tensorflow/compiler/mlir/mlir_graph_optimization_pass.cc:116] None of the MLIR optimization passes are enabled (registered 2)\n",
      "2022-12-26 12:18:07.830497: I tensorflow/compiler/mlir/mlir_graph_optimization_pass.cc:116] None of the MLIR optimization passes are enabled (registered 2)\n",
      "2022-12-26 12:18:07.833037: I tensorflow/core/platform/profile_utils/cpu_utils.cc:112] CPU Frequency: 2195050000 Hz\n",
      "2022-12-26 12:18:07.837187: I tensorflow/core/platform/profile_utils/cpu_utils.cc:112] CPU Frequency: 2195050000 Hz\n",
      "2022-12-26 12:18:07.843046: I tensorflow/compiler/mlir/mlir_graph_optimization_pass.cc:116] None of the MLIR optimization passes are enabled (registered 2)\n",
      "2022-12-26 12:18:07.849488: I tensorflow/core/platform/profile_utils/cpu_utils.cc:112] CPU Frequency: 2195050000 Hz\n",
      "2022-12-26 12:18:07.855443: I tensorflow/compiler/mlir/mlir_graph_optimization_pass.cc:116] None of the MLIR optimization passes are enabled (registered 2)\n",
      "2022-12-26 12:18:07.861877: I tensorflow/core/platform/profile_utils/cpu_utils.cc:112] CPU Frequency: 2195050000 Hz\n",
      "Some callbacks may not have access to the averaged metrics, see https://github.com/horovod/horovod/issues/2440\n",
      "WARNING:tensorflow:Callback method `on_train_batch_end` is slow compared to the batch time (batch time: 0.0046s vs `on_train_batch_end` time: 0.0230s). Check your callbacks.\n",
      "Some callbacks may not have access to the averaged metrics, see https://github.com/horovod/horovod/issues/2440\n",
      "WARNING:tensorflow:Callback method `on_train_batch_end` is slow compared to the batch time (batch time: 0.0046s vs `on_train_batch_end` time: 0.0230s). Check your callbacks.\n",
      "Some callbacks may not have access to the averaged metrics, see https://github.com/horovod/horovod/issues/2440\n",
      "WARNING:tensorflow:Callback method `on_train_batch_end` is slow compared to the batch time (batch time: 0.0046s vs `on_train_batch_end` time: 0.0230s). Check your callbacks.\n",
      "Some callbacks may not have access to the averaged metrics, see https://github.com/horovod/horovod/issues/2440\n",
      "WARNING:tensorflow:Callback method `on_train_batch_end` is slow compared to the batch time (batch time: 0.0033s vs `on_train_batch_end` time: 0.0242s). Check your callbacks.\n",
      "14/14 [==============================] - 3s 95ms/step - loss: 2.3231 - accuracy: 0.0820 - val_loss: 2.2547 - val_accuracy: 0.1017\n",
      "Epoch 2/12\n",
      "14/14 [==============================] - 1s 45ms/step - loss: 2.2306 - accuracy: 0.1113 - val_loss: 2.1428 - val_accuracy: 0.2498\n",
      "Epoch 3/12\n",
      "14/14 [==============================] - 1s 42ms/step - loss: 2.1157 - accuracy: 0.3600 - val_loss: 1.9960 - val_accuracy: 0.4800\n",
      "Epoch 4/12\n",
      "14/14 [==============================] - 1s 41ms/step - loss: 1.9595 - accuracy: 0.5100 - val_loss: 1.7508 - val_accuracy: 0.6335\n",
      "Epoch 5/12\n",
      "14/14 [==============================] - 1s 41ms/step - loss: 1.6311 - accuracy: 0.6549 - val_loss: 1.4400 - val_accuracy: 0.6471\n",
      "Epoch 6/12\n",
      "14/14 [==============================] - 1s 41ms/step - loss: 1.3170 - accuracy: 0.7361 - val_loss: 1.1690 - val_accuracy: 0.7290\n",
      "Epoch 7/12\n",
      "14/14 [==============================] - 1s 42ms/step - loss: 1.1163 - accuracy: 0.7400 - val_loss: 0.9614 - val_accuracy: 0.7736\n",
      "Epoch 8/12\n",
      "14/14 [==============================] - 1s 42ms/step - loss: 0.9613 - accuracy: 0.7798 - val_loss: 0.8368 - val_accuracy: 0.8153\n",
      "Epoch 9/12\n",
      "14/14 [==============================] - 1s 43ms/step - loss: 0.7468 - accuracy: 0.8451 - val_loss: 0.7329 - val_accuracy: 0.8171\n",
      "Epoch 10/12\n",
      "14/14 [==============================] - 1s 42ms/step - loss: 0.6903 - accuracy: 0.8475 - val_loss: 0.6607 - val_accuracy: 0.8324\n",
      "Epoch 11/12\n",
      "14/14 [==============================] - 1s 41ms/step - loss: 0.5973 - accuracy: 0.8394 - val_loss: 0.6219 - val_accuracy: 0.8459\n",
      "Epoch 12/12\n",
      "14/14 [==============================] - 1s 42ms/step - loss: 0.6551 - accuracy: 0.8353 - val_loss: 0.5860 - val_accuracy: 0.8463\n",
      "> 2022-12-26 12:18:28,021 [info] To track results use the CLI: {'info_cmd': 'mlrun get run 4f7bbe1a3ead410bb09946092d03531e -p horovod-tensorflow-test-guyl', 'logs_cmd': 'mlrun logs 4f7bbe1a3ead410bb09946092d03531e -p horovod-tensorflow-test-guyl'}\n",
      "> 2022-12-26 12:18:28,021 [info] Or click for UI: {'ui_url': 'https://dashboard.default-tenant.app.dev6.lab.iguazeng.com/mlprojects/horovod-tensorflow-test-guyl/jobs/monitor/4f7bbe1a3ead410bb09946092d03531e/overview'}\n",
      "> 2022-12-26 12:18:28,022 [info] run executed, status=completed\n",
      "> 2022-12-26 12:18:28,578 [info] To track results use the CLI: {'info_cmd': 'mlrun get run 4f7bbe1a3ead410bb09946092d03531e -p horovod-tensorflow-test-guyl', 'logs_cmd': 'mlrun logs 4f7bbe1a3ead410bb09946092d03531e -p horovod-tensorflow-test-guyl'}\n",
      "> 2022-12-26 12:18:28,578 [info] Or click for UI: {'ui_url': 'https://dashboard.default-tenant.app.dev6.lab.iguazeng.com/mlprojects/horovod-tensorflow-test-guyl/jobs/monitor/4f7bbe1a3ead410bb09946092d03531e/overview'}\n",
      "> 2022-12-26 12:18:28,579 [info] run executed, status=completed\n",
      "> 2022-12-26 12:18:28,581 [info] To track results use the CLI: {'info_cmd': 'mlrun get run 4f7bbe1a3ead410bb09946092d03531e -p horovod-tensorflow-test-guyl', 'logs_cmd': 'mlrun logs 4f7bbe1a3ead410bb09946092d03531e -p horovod-tensorflow-test-guyl'}\n",
      "> 2022-12-26 12:18:28,581 [info] Or click for UI: {'ui_url': 'https://dashboard.default-tenant.app.dev6.lab.iguazeng.com/mlprojects/horovod-tensorflow-test-guyl/jobs/monitor/4f7bbe1a3ead410bb09946092d03531e/overview'}\n",
      "> 2022-12-26 12:18:28,582 [info] run executed, status=completed\n",
      "> 2022-12-26 12:18:31,303 [info] To track results use the CLI: {'info_cmd': 'mlrun get run 4f7bbe1a3ead410bb09946092d03531e -p horovod-tensorflow-test-guyl', 'logs_cmd': 'mlrun logs 4f7bbe1a3ead410bb09946092d03531e -p horovod-tensorflow-test-guyl'}\n",
      "> 2022-12-26 12:18:31,303 [info] Or click for UI: {'ui_url': 'https://dashboard.default-tenant.app.dev6.lab.iguazeng.com/mlprojects/horovod-tensorflow-test-guyl/jobs/monitor/4f7bbe1a3ead410bb09946092d03531e/overview'}\n",
      "> 2022-12-26 12:18:31,304 [info] run executed, status=completed\n",
      "final state: completed\n"
     ]
    },
    {
     "data": {
      "text/html": [
       "<style>\n",
       ".dictlist {\n",
       "  background-color: #4EC64B;\n",
       "  text-align: center;\n",
       "  margin: 4px;\n",
       "  border-radius: 3px; padding: 0px 3px 1px 3px; display: inline-block;}\n",
       ".artifact {\n",
       "  cursor: pointer;\n",
       "  background-color: #4EC64B;\n",
       "  text-align: left;\n",
       "  margin: 4px; border-radius: 3px; padding: 0px 3px 1px 3px; display: inline-block;\n",
       "}\n",
       "div.block.hidden {\n",
       "  display: none;\n",
       "}\n",
       ".clickable {\n",
       "  cursor: pointer;\n",
       "}\n",
       ".ellipsis {\n",
       "  display: inline-block;\n",
       "  max-width: 60px;\n",
       "  white-space: nowrap;\n",
       "  overflow: hidden;\n",
       "  text-overflow: ellipsis;\n",
       "}\n",
       ".master-wrapper {\n",
       "  display: flex;\n",
       "  flex-flow: row nowrap;\n",
       "  justify-content: flex-start;\n",
       "  align-items: stretch;\n",
       "}\n",
       ".master-tbl {\n",
       "  flex: 3\n",
       "}\n",
       ".master-wrapper > div {\n",
       "  margin: 4px;\n",
       "  padding: 10px;\n",
       "}\n",
       "iframe.fileview {\n",
       "  border: 0 none;\n",
       "  height: 100%;\n",
       "  width: 100%;\n",
       "  white-space: pre-wrap;\n",
       "}\n",
       ".pane-header-title {\n",
       "  width: 80%;\n",
       "  font-weight: 500;\n",
       "}\n",
       ".pane-header {\n",
       "  line-height: 1;\n",
       "  background-color: #4EC64B;\n",
       "  padding: 3px;\n",
       "}\n",
       ".pane-header .close {\n",
       "  font-size: 20px;\n",
       "  font-weight: 700;\n",
       "  float: right;\n",
       "  margin-top: -5px;\n",
       "}\n",
       ".master-wrapper .right-pane {\n",
       "  border: 1px inset silver;\n",
       "  width: 40%;\n",
       "  min-height: 300px;\n",
       "  flex: 3\n",
       "  min-width: 500px;\n",
       "}\n",
       ".master-wrapper * {\n",
       "  box-sizing: border-box;\n",
       "}\n",
       "</style><script>\n",
       "function copyToClipboard(fld) {\n",
       "    if (document.queryCommandSupported && document.queryCommandSupported('copy')) {\n",
       "        var textarea = document.createElement('textarea');\n",
       "        textarea.textContent = fld.innerHTML;\n",
       "        textarea.style.position = 'fixed';\n",
       "        document.body.appendChild(textarea);\n",
       "        textarea.select();\n",
       "\n",
       "        try {\n",
       "            return document.execCommand('copy'); // Security exception may be thrown by some browsers.\n",
       "        } catch (ex) {\n",
       "\n",
       "        } finally {\n",
       "            document.body.removeChild(textarea);\n",
       "        }\n",
       "    }\n",
       "}\n",
       "function expandPanel(el) {\n",
       "  const panelName = \"#\" + el.getAttribute('paneName');\n",
       "  console.log(el.title);\n",
       "\n",
       "  document.querySelector(panelName + \"-title\").innerHTML = el.title\n",
       "  iframe = document.querySelector(panelName + \"-body\");\n",
       "\n",
       "  const tblcss = `<style> body { font-family: Arial, Helvetica, sans-serif;}\n",
       "    #csv { margin-bottom: 15px; }\n",
       "    #csv table { border-collapse: collapse;}\n",
       "    #csv table td { padding: 4px 8px; border: 1px solid silver;} </style>`;\n",
       "\n",
       "  function csvToHtmlTable(str) {\n",
       "    return '<div id=\"csv\"><table><tr><td>' +  str.replace(/[\\n\\r]+$/g, '').replace(/[\\n\\r]+/g, '</td></tr><tr><td>')\n",
       "      .replace(/,/g, '</td><td>') + '</td></tr></table></div>';\n",
       "  }\n",
       "\n",
       "  function reqListener () {\n",
       "    if (el.title.endsWith(\".csv\")) {\n",
       "      iframe.setAttribute(\"srcdoc\", tblcss + csvToHtmlTable(this.responseText));\n",
       "    } else {\n",
       "      iframe.setAttribute(\"srcdoc\", this.responseText);\n",
       "    }\n",
       "    console.log(this.responseText);\n",
       "  }\n",
       "\n",
       "  const oReq = new XMLHttpRequest();\n",
       "  oReq.addEventListener(\"load\", reqListener);\n",
       "  oReq.open(\"GET\", el.title);\n",
       "  oReq.send();\n",
       "\n",
       "\n",
       "  //iframe.src = el.title;\n",
       "  const resultPane = document.querySelector(panelName + \"-pane\");\n",
       "  if (resultPane.classList.contains(\"hidden\")) {\n",
       "    resultPane.classList.remove(\"hidden\");\n",
       "  }\n",
       "}\n",
       "function closePanel(el) {\n",
       "  const panelName = \"#\" + el.getAttribute('paneName')\n",
       "  const resultPane = document.querySelector(panelName + \"-pane\");\n",
       "  if (!resultPane.classList.contains(\"hidden\")) {\n",
       "    resultPane.classList.add(\"hidden\");\n",
       "  }\n",
       "}\n",
       "\n",
       "</script>\n",
       "<div class=\"master-wrapper\">\n",
       "  <div class=\"block master-tbl\"><div>\n",
       "<style scoped>\n",
       "    .dataframe tbody tr th:only-of-type {\n",
       "        vertical-align: middle;\n",
       "    }\n",
       "\n",
       "    .dataframe tbody tr th {\n",
       "        vertical-align: top;\n",
       "    }\n",
       "\n",
       "    .dataframe thead th {\n",
       "        text-align: right;\n",
       "    }\n",
       "</style>\n",
       "<table border=\"1\" class=\"dataframe\">\n",
       "  <thead>\n",
       "    <tr style=\"text-align: right;\">\n",
       "      <th>project</th>\n",
       "      <th>uid</th>\n",
       "      <th>iter</th>\n",
       "      <th>start</th>\n",
       "      <th>state</th>\n",
       "      <th>name</th>\n",
       "      <th>labels</th>\n",
       "      <th>inputs</th>\n",
       "      <th>parameters</th>\n",
       "      <th>results</th>\n",
       "      <th>artifacts</th>\n",
       "    </tr>\n",
       "  </thead>\n",
       "  <tbody>\n",
       "    <tr>\n",
       "      <td>horovod-tensorflow-test-guyl</td>\n",
       "      <td><div title=\"4f7bbe1a3ead410bb09946092d03531e\"><a href=\"https://dashboard.default-tenant.app.dev6.lab.iguazeng.com/mlprojects/horovod-tensorflow-test-guyl/jobs/monitor/4f7bbe1a3ead410bb09946092d03531e/overview\" target=\"_blank\" >...2d03531e</a></div></td>\n",
       "      <td>0</td>\n",
       "      <td>Dec 26 12:18:01</td>\n",
       "      <td>completed</td>\n",
       "      <td>training_mpijob</td>\n",
       "      <td><div class=\"dictlist\">v3io_user=guyl</div><div class=\"dictlist\">kind=mpijob</div><div class=\"dictlist\">owner=guyl</div><div class=\"dictlist\">mlrun/client_version=1.2.1-rc4</div><div class=\"dictlist\">mlrun/job=training-mpijob-a3d4b5d9</div><div class=\"dictlist\">host=training-mpijob-a3d4b5d9-worker-0</div></td>\n",
       "      <td></td>\n",
       "      <td><div class=\"dictlist\">n_epochs=12</div></td>\n",
       "      <td><div class=\"dictlist\">n_epochs=12</div><div class=\"dictlist\">lr=0.03999999910593033</div><div class=\"dictlist\">training_loss=0.4735088348388672</div><div class=\"dictlist\">training_accuracy=0.875</div><div class=\"dictlist\">validation_loss=0.5860166702026757</div><div class=\"dictlist\">validation_accuracy=0.8463000215280551</div><div class=\"dictlist\">time=26.737416744232178</div></td>\n",
       "      <td><div class=\"artifact\" onclick=\"expandPanel(this)\" paneName=\"result54116c27\" title=\"files/v3io/projects/horovod-tensorflow-test-guyl/artifacts/training_mpijob/0/training_loss.html.html\">training_loss.html</div><div class=\"artifact\" onclick=\"expandPanel(this)\" paneName=\"result54116c27\" title=\"files/v3io/projects/horovod-tensorflow-test-guyl/artifacts/training_mpijob/0/training_accuracy.html.html\">training_accuracy.html</div><div class=\"artifact\" onclick=\"expandPanel(this)\" paneName=\"result54116c27\" title=\"files/v3io/projects/horovod-tensorflow-test-guyl/artifacts/training_mpijob/0/validation_loss.html.html\">validation_loss.html</div><div class=\"artifact\" onclick=\"expandPanel(this)\" paneName=\"result54116c27\" title=\"files/v3io/projects/horovod-tensorflow-test-guyl/artifacts/training_mpijob/0/validation_accuracy.html.html\">validation_accuracy.html</div><div class=\"artifact\" onclick=\"expandPanel(this)\" paneName=\"result54116c27\" title=\"files/v3io/projects/horovod-tensorflow-test-guyl/artifacts/training_mpijob/0/loss_summary.html.html\">loss_summary.html</div><div class=\"artifact\" onclick=\"expandPanel(this)\" paneName=\"result54116c27\" title=\"files/v3io/projects/horovod-tensorflow-test-guyl/artifacts/training_mpijob/0/accuracy_summary.html.html\">accuracy_summary.html</div><div class=\"artifact\" onclick=\"expandPanel(this)\" paneName=\"result54116c27\" title=\"files/v3io/projects/horovod-tensorflow-test-guyl/artifacts/training_mpijob/0/lr_values.html.html\">lr_values.html</div><div title=\"v3io:///projects/horovod-tensorflow-test-guyl/artifacts/training_mpijob/0/model/\">model</div></td>\n",
       "    </tr>\n",
       "  </tbody>\n",
       "</table>\n",
       "</div></div>\n",
       "  <div id=\"result54116c27-pane\" class=\"right-pane block hidden\">\n",
       "    <div class=\"pane-header\">\n",
       "      <span id=\"result54116c27-title\" class=\"pane-header-title\">Title</span>\n",
       "      <span onclick=\"closePanel(this)\" paneName=\"result54116c27\" class=\"close clickable\">&times;</span>\n",
       "    </div>\n",
       "    <iframe class=\"fileview\" id=\"result54116c27-body\"></iframe>\n",
       "  </div>\n",
       "</div>\n"
      ],
      "text/plain": [
       "<IPython.core.display.HTML object>"
      ]
     },
     "metadata": {},
     "output_type": "display_data"
    },
    {
     "name": "stdout",
     "output_type": "stream",
     "text": [
      "\n"
     ]
    },
    {
     "data": {
      "text/html": [
       "<b> > to track results use the .show() or .logs() methods  or <a href=\"https://dashboard.default-tenant.app.dev6.lab.iguazeng.com/mlprojects/horovod-tensorflow-test-guyl/jobs/monitor/4f7bbe1a3ead410bb09946092d03531e/overview\" target=\"_blank\">click here</a> to open in UI</b>"
      ],
      "text/plain": [
       "<IPython.core.display.HTML object>"
      ]
     },
     "metadata": {},
     "output_type": "display_data"
    },
    {
     "name": "stdout",
     "output_type": "stream",
     "text": [
      "> 2022-12-26 12:18:33,882 [info] run executed, status=completed\n"
     ]
    }
   ],
   "source": [
    "# Run as a mpijob:\n",
    "mpijob_run = mpijob_function.run(\n",
    "    name=\"training_mpijob\",\n",
    "    params={\n",
    "        \"n_epochs\": N_EPOCHS,\n",
    "    },\n",
    ")\n",
    "\n",
    "# Store results:\n",
    "mpijob_time = mpijob_run.status.results['time']\n",
    "mpijob_accuracy = mpijob_run.status.results['validation_accuracy']"
   ]
  },
  {
   "cell_type": "markdown",
   "id": "51588842",
   "metadata": {
    "pycharm": {
     "name": "#%% md\n"
    }
   },
   "source": [
    "## 5. Compare Runtimes\n",
    "\n",
    "1. Print a summary message.\n",
    "2. Verify that:\n",
    "  * The mpijob run took less time (only in stronger machines). \n",
    "  * The accuracy value is equal between the runs."
   ]
  },
  {
   "cell_type": "code",
   "execution_count": null,
   "outputs": [],
   "source": [
    "# Delete the MLRun project:\n",
    "mlrun.get_run_db().delete_project(name=project.name, deletion_strategy=\"cascading\")"
   ],
   "metadata": {
    "collapsed": false,
    "pycharm": {
     "name": "#%%\n"
    }
   }
  },
  {
   "cell_type": "code",
   "execution_count": 10,
   "id": "9f4ddd75",
   "metadata": {
    "pycharm": {
     "name": "#%%\n"
    }
   },
   "outputs": [
    {
     "name": "stdout",
     "output_type": "stream",
     "text": [
      "Job:\n",
      "\t24.58 Seconds\n",
      "\tAccuracy: 0.875699954291883\n",
      "Open MPI Job (Horovod):\n",
      "\t26.74 Seconds\n",
      "\tAccuracy: 0.8463000215280551\n",
      "\n"
     ]
    }
   ],
   "source": [
    "# Print the test's collected results:\n",
    "print(\n",
    "    f\"Job:\\n\" \n",
    "    f\"\\t{'%.2f' % job_time} Seconds\\n\"\n",
    "    f\"\\tAccuracy: {job_accuracy}\"\n",
    ")\n",
    "print(\n",
    "    f\"Open MPI Job (Horovod):\\n\"\n",
    "    f\"\\t{'%.2f' % mpijob_time} Seconds\\n\"\n",
    "    f\"\\tAccuracy: {mpijob_accuracy}\\n\"\n",
    ")\n",
    "\n",
    "# Verification: (Only possible to test on a stronger machine (requires big data and longer training)\n",
    "# assert mpijob_time < job_time\n",
    "# assert np.isclose(job_accuracy, mpijob_accuracy, atol=0.1)"
   ]
  },
  {
   "cell_type": "code",
   "execution_count": null,
   "id": "2081c04d",
   "metadata": {
    "pycharm": {
     "name": "#%%\n"
    }
   },
   "outputs": [],
   "source": []
  }
 ],
 "metadata": {
  "kernelspec": {
   "display_name": "Python 3",
   "language": "python",
   "name": "python3"
  },
  "language_info": {
   "codemirror_mode": {
    "name": "ipython",
    "version": 3
   },
   "file_extension": ".py",
   "mimetype": "text/x-python",
   "name": "python",
   "nbconvert_exporter": "python",
   "pygments_lexer": "ipython3",
   "version": "3.7.6"
  }
 },
 "nbformat": 4,
 "nbformat_minor": 5
}
