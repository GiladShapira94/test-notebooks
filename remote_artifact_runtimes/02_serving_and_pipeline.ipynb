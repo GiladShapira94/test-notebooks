{
 "cells": [
  {
   "cell_type": "markdown",
   "id": "2102b686",
   "metadata": {},
   "source": [
    "# Serving Runtime Remote Artifacts"
   ]
  },
  {
   "cell_type": "code",
   "execution_count": 1,
   "id": "b909ca43",
   "metadata": {},
   "outputs": [
    {
     "name": "stdout",
     "output_type": "stream",
     "text": [
      "> 2022-12-20 14:44:59,716 [info] loaded project testing-notebooks from MLRun DB\n"
     ]
    }
   ],
   "source": [
    "import mlrun\n",
    "import os\n",
    "\n",
    "# Initialize the MLRun project object\n",
    "project = mlrun.get_or_create_project('testing-notebooks',user_project=True,context='./')\n",
    "\n",
    "# Required credentials :\n",
    "# AWS_ACCESS_KEY_ID, AWS_SECRET_ACCESS_KEY, GOOGLE_APPLICATION_CREDENTIALS, S3_BUCKET\n",
    "AWS_ACCESS_KEY_ID = os.environ.get('AWS_ACCESS_KEY_ID', None)\n",
    "AWS_SECRET_ACCESS_KEY = os.environ.get('AWS_SECRET_ACCESS_KEY', None)\n",
    "GOOGLE_APPLICATION_CREDENTIALS = os.environ.get('GOOGLE_APPLICATION_CREDENTIALS', None)\n",
    "assert AWS_ACCESS_KEY_ID != None and AWS_SECRET_ACCESS_KEY != None and GOOGLE_APPLICATION_CREDENTIALS != None\n",
    "\n",
    "secrets = {'AWS_ACCESS_KEY_ID': AWS_ACCESS_KEY_ID,\n",
    "           'AWS_SECRET_ACCESS_KEY':AWS_SECRET_ACCESS_KEY,\n",
    "           'GOOGLE_APPLICATION_CREDENTIALS': GOOGLE_APPLICATION_CREDENTIALS}\n",
    "\n",
    "project.set_secrets(secrets=secrets, provider='kubernetes')\n",
    "\n",
    "S3_BUCKET = os.environ.get('S3_BUCKET', 'testbucket-igz')\n",
    "\n",
    "project.artifact_path = os.path.join('s3://', S3_BUCKET + '/')"
   ]
  },
  {
   "cell_type": "code",
   "execution_count": 2,
   "id": "9ecb14e9",
   "metadata": {},
   "outputs": [
    {
     "data": {
      "text/plain": [
       "<mlrun.runtimes.serving.ServingRuntime at 0x7f4fb4f4f990>"
      ]
     },
     "execution_count": 2,
     "metadata": {},
     "output_type": "execute_result"
    }
   ],
   "source": [
    "# Setting dummy serving function\n",
    "project.set_function(mlrun.new_function(name='serving', kind='serving',image='mlrun/ml-models', command = []))\n",
    "project.get_function('serving').spec.build.commands = ['pip install -U xgboost']\n",
    "project.get_function('serving').set_envs(secrets)\n",
    "# adding our remote source model\n",
    "model_artifact = project.get_artifact('log-transactions-log_transactions_bst_model')\n",
    "model_path = model_artifact.get_target_path() + model_artifact.model_file\n",
    "\n",
    "project.get_function('serving').add_model(key = 'my_model',\n",
    "                                          class_name = \"mlrun.frameworks.xgboost.XGBoostModelServer\",\n",
    "                                          model_path = model_path)\n",
    "\n",
    "# mounting\n",
    "project.get_function('serving').apply(mlrun.auto_mount())\n",
    "project.get_function('serving').apply(mlrun.platforms.mount_s3())"
   ]
  },
  {
   "cell_type": "code",
   "execution_count": 3,
   "id": "945b91cf",
   "metadata": {},
   "outputs": [
    {
     "name": "stdout",
     "output_type": "stream",
     "text": [
      "> 2022-12-20 14:45:00,120 [warning] run command, file or code were not specified\n",
      "> 2022-12-20 14:45:05,926 [info] model my_model was loaded\n",
      "> 2022-12-20 14:45:05,927 [info] Loaded ['my_model']\n"
     ]
    }
   ],
   "source": [
    "server = project.get_function('serving').to_mock_server()"
   ]
  },
  {
   "cell_type": "code",
   "execution_count": 4,
   "id": "d808632e",
   "metadata": {},
   "outputs": [
    {
     "data": {
      "text/plain": [
       "{'id': '3f2646634abf45919acda5120c2e43c9',\n",
       " 'model_name': 'my_model',\n",
       " 'outputs': [2, 1, 0]}"
      ]
     },
     "execution_count": 4,
     "metadata": {},
     "output_type": "execute_result"
    }
   ],
   "source": [
    "from sklearn.datasets import load_iris\n",
    "from sklearn.model_selection import train_test_split\n",
    "\n",
    "X,y = load_iris(return_X_y=True)\n",
    "\n",
    "X_train, X_test, y_train, y_test = train_test_split(X, y, train_size=0.8, test_size=0.2, random_state=0)\n",
    "\n",
    "server.test(body={'inputs': X_test.tolist()[:3]})"
   ]
  },
  {
   "cell_type": "code",
   "execution_count": 5,
   "id": "bea4aed7",
   "metadata": {},
   "outputs": [
    {
     "name": "stdout",
     "output_type": "stream",
     "text": [
      "> 2022-12-20 14:45:06,092 [info] Starting remote function deploy\n",
      "2022-12-20 14:45:06  (info) Deploying function\n",
      "2022-12-20 14:45:06  (info) Building\n",
      "2022-12-20 14:45:06  (info) Staging files and preparing base images\n",
      "2022-12-20 14:45:06  (info) Building processor image\n",
      "2022-12-20 14:48:23  (info) Build complete\n",
      "2022-12-20 14:48:46  (info) Function deploy complete\n",
      "> 2022-12-20 14:48:46,693 [info] successfully deployed function: {'internal_invocation_urls': ['nuclio-testing-notebooks-dani-serving.default-tenant.svc.cluster.local:8080'], 'external_invocation_urls': ['testing-notebooks-dani-serving-testing-notebooks-dani.default-tenant.app.dev6.lab.iguazeng.com/']}\n"
     ]
    },
    {
     "data": {
      "text/plain": [
       "DeployStatus(state=ready, outputs={'endpoint': 'http://testing-notebooks-dani-serving-testing-notebooks-dani.default-tenant.app.dev6.lab.iguazeng.com/', 'name': 'testing-notebooks-dani-serving'})"
      ]
     },
     "execution_count": 5,
     "metadata": {},
     "output_type": "execute_result"
    }
   ],
   "source": [
    "project.deploy_function('serving')"
   ]
  },
  {
   "cell_type": "code",
   "execution_count": 6,
   "id": "c0202c28",
   "metadata": {},
   "outputs": [
    {
     "name": "stdout",
     "output_type": "stream",
     "text": [
      "> 2022-12-20 14:48:51,814 [info] invoking function: {'method': 'POST', 'path': 'http://nuclio-testing-notebooks-dani-serving.default-tenant.svc.cluster.local:8080/v2/models/my_model/infer'}\n"
     ]
    },
    {
     "data": {
      "text/plain": [
       "{'id': 'a903377a-3ad2-4fda-85df-2cb19fd287cd',\n",
       " 'model_name': 'my_model',\n",
       " 'outputs': [2, 1, 0]}"
      ]
     },
     "execution_count": 6,
     "metadata": {},
     "output_type": "execute_result"
    }
   ],
   "source": [
    "import time\n",
    "time.sleep(5)\n",
    "project.get_function('serving').invoke('/v2/models/my_model/infer', body={'inputs': X_test.tolist()[:3]})"
   ]
  },
  {
   "cell_type": "markdown",
   "id": "69c94fe2",
   "metadata": {},
   "source": [
    "# Pipeline remote access"
   ]
  },
  {
   "cell_type": "code",
   "execution_count": 7,
   "id": "536fa81c",
   "metadata": {},
   "outputs": [
    {
     "name": "stdout",
     "output_type": "stream",
     "text": [
      "Writing workflow.py\n"
     ]
    }
   ],
   "source": [
    "%%writefile workflow.py\n",
    "import mlrun\n",
    "from kfp import dsl\n",
    "\n",
    "\n",
    "@dsl.pipeline(name=\"Mask Detection Pipeline\")\n",
    "\n",
    "def kfpipeline():\n",
    "    # Get our project object:\n",
    "    project = mlrun.get_current_project()\n",
    "    \n",
    "    project.get_function('log_transactions').apply(mlrun.platforms.mount_s3())\n",
    "    project.get_function('log_transactions').apply(mlrun.auto_mount())\n",
    "    run = project.run_function('log_transactions')\n",
    "    \n",
    "    model_artifact = project.get_artifact('log-transactions-log_transactions_bst_model')\n",
    "    model_path = model_artifact.get_target_path() + model_artifact.model_file\n",
    "    \n",
    "    project.get_function('serving').add_model(key = 'my_model',\n",
    "                                          class_name = \"mlrun.frameworks.xgboost.XGBoostModelServer\",\n",
    "                                          model_path = model_path)\n",
    "    \n",
    "    project.deploy_function('serving').after(run)\n",
    "    return"
   ]
  },
  {
   "cell_type": "code",
   "execution_count": 8,
   "id": "471e8886",
   "metadata": {},
   "outputs": [
    {
     "data": {
      "text/plain": [
       "<mlrun.projects.project.MlrunProject at 0x7f4fb5a0dd90>"
      ]
     },
     "execution_count": 8,
     "metadata": {},
     "output_type": "execute_result"
    }
   ],
   "source": [
    "# Register the workflow file:\n",
    "workflow_name = \"iris_workflow\"\n",
    "project.set_workflow(workflow_name, \"workflow.py\")\n",
    "\n",
    "# Save the project:\n",
    "project.save()"
   ]
  },
  {
   "cell_type": "code",
   "execution_count": 9,
   "id": "3bc69837",
   "metadata": {},
   "outputs": [
    {
     "data": {
      "text/plain": [
       "<mlrun.projects.project.MlrunProject at 0x7f4fb5a0dd90>"
      ]
     },
     "execution_count": 9,
     "metadata": {},
     "output_type": "execute_result"
    }
   ],
   "source": [
    "# Running with S3\n",
    "# project.run(name=workflow_name,watch=True, local=False, artifact_path=project.artifact_path)\n",
    "project.save()"
   ]
  },
  {
   "cell_type": "code",
   "execution_count": 10,
   "id": "abed981d",
   "metadata": {},
   "outputs": [
    {
     "data": {
      "text/html": [
       "<div>Pipeline running (id=a4ddaa9b-8e44-4ca2-92b2-a985cdd24d67), <a href=\"https://dashboard.default-tenant.app.dev6.lab.iguazeng.com/mlprojects/testing-notebooks-dani/jobs/monitor-workflows/workflow/a4ddaa9b-8e44-4ca2-92b2-a985cdd24d67\" target=\"_blank\"><b>click here</b></a> to view the details in MLRun UI</div>"
      ],
      "text/plain": [
       "<IPython.core.display.HTML object>"
      ]
     },
     "metadata": {},
     "output_type": "display_data"
    },
    {
     "data": {
      "image/svg+xml": [
       "<?xml version=\"1.0\" encoding=\"UTF-8\" standalone=\"no\"?>\n",
       "<!DOCTYPE svg PUBLIC \"-//W3C//DTD SVG 1.1//EN\"\n",
       " \"http://www.w3.org/Graphics/SVG/1.1/DTD/svg11.dtd\">\n",
       "<!-- Generated by graphviz version 2.40.1 (20161225.0304)\n",
       " -->\n",
       "<!-- Title: kfp Pages: 1 -->\n",
       "<svg width=\"180pt\" height=\"116pt\"\n",
       " viewBox=\"0.00 0.00 179.58 116.00\" xmlns=\"http://www.w3.org/2000/svg\" xmlns:xlink=\"http://www.w3.org/1999/xlink\">\n",
       "<g id=\"graph0\" class=\"graph\" transform=\"scale(1 1) rotate(0) translate(4 112)\">\n",
       "<title>kfp</title>\n",
       "<polygon fill=\"#ffffff\" stroke=\"transparent\" points=\"-4,4 -4,-112 175.5848,-112 175.5848,4 -4,4\"/>\n",
       "<!-- mask&#45;detection&#45;pipeline&#45;mqbch&#45;2202320390 -->\n",
       "<g id=\"node1\" class=\"node\">\n",
       "<title>mask&#45;detection&#45;pipeline&#45;mqbch&#45;2202320390</title>\n",
       "<polygon fill=\"#d3d3d3\" stroke=\"#000000\" points=\"146.7924,-36 28.7924,-36 24.7924,-32 24.7924,0 142.7924,0 146.7924,-4 146.7924,-36\"/>\n",
       "<polyline fill=\"none\" stroke=\"#000000\" points=\"142.7924,-32 24.7924,-32 \"/>\n",
       "<polyline fill=\"none\" stroke=\"#000000\" points=\"142.7924,-32 142.7924,0 \"/>\n",
       "<polyline fill=\"none\" stroke=\"#000000\" points=\"142.7924,-32 146.7924,-36 \"/>\n",
       "<text text-anchor=\"middle\" x=\"85.7924\" y=\"-14.3\" font-family=\"Times,serif\" font-size=\"14.00\" fill=\"#000000\">deploy&#45;serving</text>\n",
       "</g>\n",
       "<!-- mask&#45;detection&#45;pipeline&#45;mqbch&#45;3325191576 -->\n",
       "<g id=\"node2\" class=\"node\">\n",
       "<title>mask&#45;detection&#45;pipeline&#45;mqbch&#45;3325191576</title>\n",
       "<g id=\"a_node2\"><a xlink:title=\"Anonymous caller does not have storage.objects.get access to the Google Cloud Storage object. Permission &#39;storage.objects.get&#39; denied on resource (or it may not exist)., 401\">\n",
       "<ellipse fill=\"#ff0000\" stroke=\"#000000\" cx=\"85.7924\" cy=\"-90\" rx=\"85.5853\" ry=\"18\"/>\n",
       "<text text-anchor=\"middle\" x=\"85.7924\" y=\"-86.3\" font-family=\"Times,serif\" font-size=\"14.00\" fill=\"#000000\">log&#45;transactions</text>\n",
       "</a>\n",
       "</g>\n",
       "</g>\n",
       "<!-- mask&#45;detection&#45;pipeline&#45;mqbch&#45;3325191576&#45;&gt;mask&#45;detection&#45;pipeline&#45;mqbch&#45;2202320390 -->\n",
       "<g id=\"edge1\" class=\"edge\">\n",
       "<title>mask&#45;detection&#45;pipeline&#45;mqbch&#45;3325191576&#45;&gt;mask&#45;detection&#45;pipeline&#45;mqbch&#45;2202320390</title>\n",
       "<path fill=\"none\" stroke=\"#000000\" d=\"M85.7924,-71.8314C85.7924,-64.131 85.7924,-54.9743 85.7924,-46.4166\"/>\n",
       "<polygon fill=\"#000000\" stroke=\"#000000\" points=\"89.2925,-46.4132 85.7924,-36.4133 82.2925,-46.4133 89.2925,-46.4132\"/>\n",
       "</g>\n",
       "</g>\n",
       "</svg>\n"
      ],
      "text/plain": [
       "<graphviz.dot.Digraph at 0x7f4f945fd990>"
      ]
     },
     "metadata": {},
     "output_type": "display_data"
    },
    {
     "data": {
      "text/html": [
       "<h2>Run Results</h2><h3>[info] Workflow a4ddaa9b-8e44-4ca2-92b2-a985cdd24d67 finished with 1 errors</h3><br>click the hyper links below to see detailed results<br><table border=\"1\" class=\"dataframe\">\n",
       "  <thead>\n",
       "    <tr style=\"text-align: right;\">\n",
       "      <th>uid</th>\n",
       "      <th>start</th>\n",
       "      <th>state</th>\n",
       "      <th>name</th>\n",
       "      <th>parameters</th>\n",
       "      <th>results</th>\n",
       "    </tr>\n",
       "  </thead>\n",
       "  <tbody>\n",
       "    <tr>\n",
       "      <td><div title=\"a414a8dcce6f4bd5a7128461a67fd972\"><a href=\"https://dashboard.default-tenant.app.dev6.lab.iguazeng.com/mlprojects/testing-notebooks-dani/jobs/monitor/a414a8dcce6f4bd5a7128461a67fd972/overview\" target=\"_blank\" >...a67fd972</a></div></td>\n",
       "      <td>Dec 20 14:49:26</td>\n",
       "      <td><div style=\"color: red;\" title=\"Anonymous caller does not have storage.objects.get access to the Google Cloud Storage object. Permission 'storage.objects.get' denied on resource (or it may not exist)., 401\">error</div></td>\n",
       "      <td>log-transactions</td>\n",
       "      <td></td>\n",
       "      <td></td>\n",
       "    </tr>\n",
       "  </tbody>\n",
       "</table>"
      ],
      "text/plain": [
       "<IPython.core.display.HTML object>"
      ]
     },
     "metadata": {},
     "output_type": "display_data"
    },
    {
     "ename": "RuntimeError",
     "evalue": "Pipeline run status Failed",
     "output_type": "error",
     "traceback": [
      "\u001b[0;31m---------------------------------------------------------------------------\u001b[0m",
      "\u001b[0;31mRuntimeError\u001b[0m                              Traceback (most recent call last)",
      "\u001b[0;32m<ipython-input-10-3fd1f523770f>\u001b[0m in \u001b[0;36m<module>\u001b[0;34m\u001b[0m\n\u001b[1;32m      1\u001b[0m \u001b[0;31m# Running with GCS\u001b[0m\u001b[0;34m\u001b[0m\u001b[0;34m\u001b[0m\u001b[0;34m\u001b[0m\u001b[0m\n\u001b[0;32m----> 2\u001b[0;31m \u001b[0mproject\u001b[0m\u001b[0;34m.\u001b[0m\u001b[0mrun\u001b[0m\u001b[0;34m(\u001b[0m\u001b[0mname\u001b[0m\u001b[0;34m=\u001b[0m\u001b[0mworkflow_name\u001b[0m\u001b[0;34m,\u001b[0m\u001b[0mwatch\u001b[0m\u001b[0;34m=\u001b[0m\u001b[0;32mTrue\u001b[0m\u001b[0;34m,\u001b[0m \u001b[0mlocal\u001b[0m\u001b[0;34m=\u001b[0m\u001b[0;32mFalse\u001b[0m\u001b[0;34m,\u001b[0m \u001b[0martifact_path\u001b[0m\u001b[0;34m=\u001b[0m\u001b[0;34m'gs'\u001b[0m \u001b[0;34m+\u001b[0m \u001b[0mproject\u001b[0m\u001b[0;34m.\u001b[0m\u001b[0martifact_path\u001b[0m\u001b[0;34m[\u001b[0m\u001b[0;36m2\u001b[0m\u001b[0;34m:\u001b[0m\u001b[0;34m]\u001b[0m\u001b[0;34m)\u001b[0m\u001b[0;34m\u001b[0m\u001b[0;34m\u001b[0m\u001b[0m\n\u001b[0m",
      "\u001b[0;32m~/.pythonlibs/jupyter-dani/lib/python3.7/site-packages/mlrun/projects/project.py\u001b[0m in \u001b[0;36mrun\u001b[0;34m(self, name, workflow_path, arguments, artifact_path, workflow_handler, namespace, sync, watch, dirty, ttl, engine, local, schedule, timeout, overwrite)\u001b[0m\n\u001b[1;32m   2047\u001b[0m         \u001b[0mworkflow_spec\u001b[0m\u001b[0;34m.\u001b[0m\u001b[0mclear_tmp\u001b[0m\u001b[0;34m(\u001b[0m\u001b[0;34m)\u001b[0m\u001b[0;34m\u001b[0m\u001b[0;34m\u001b[0m\u001b[0m\n\u001b[1;32m   2048\u001b[0m         \u001b[0;32mif\u001b[0m \u001b[0mwatch\u001b[0m \u001b[0;32mand\u001b[0m \u001b[0;32mnot\u001b[0m \u001b[0mworkflow_spec\u001b[0m\u001b[0;34m.\u001b[0m\u001b[0mschedule\u001b[0m\u001b[0;34m:\u001b[0m\u001b[0;34m\u001b[0m\u001b[0;34m\u001b[0m\u001b[0m\n\u001b[0;32m-> 2049\u001b[0;31m             \u001b[0mworkflow_engine\u001b[0m\u001b[0;34m.\u001b[0m\u001b[0mget_run_status\u001b[0m\u001b[0;34m(\u001b[0m\u001b[0mproject\u001b[0m\u001b[0;34m=\u001b[0m\u001b[0mself\u001b[0m\u001b[0;34m,\u001b[0m \u001b[0mrun\u001b[0m\u001b[0;34m=\u001b[0m\u001b[0mrun\u001b[0m\u001b[0;34m,\u001b[0m \u001b[0mtimeout\u001b[0m\u001b[0;34m=\u001b[0m\u001b[0mtimeout\u001b[0m\u001b[0;34m)\u001b[0m\u001b[0;34m\u001b[0m\u001b[0;34m\u001b[0m\u001b[0m\n\u001b[0m\u001b[1;32m   2050\u001b[0m         \u001b[0;32mreturn\u001b[0m \u001b[0mrun\u001b[0m\u001b[0;34m\u001b[0m\u001b[0;34m\u001b[0m\u001b[0m\n\u001b[1;32m   2051\u001b[0m \u001b[0;34m\u001b[0m\u001b[0m\n",
      "\u001b[0;32m~/.pythonlibs/jupyter-dani/lib/python3.7/site-packages/mlrun/projects/pipelines.py\u001b[0m in \u001b[0;36mget_run_status\u001b[0;34m(project, run, timeout, expected_statuses, notifiers)\u001b[0m\n\u001b[1;32m    618\u001b[0m \u001b[0;34m\u001b[0m\u001b[0m\n\u001b[1;32m    619\u001b[0m         \u001b[0;32mif\u001b[0m \u001b[0mraise_error\u001b[0m\u001b[0;34m:\u001b[0m\u001b[0;34m\u001b[0m\u001b[0;34m\u001b[0m\u001b[0m\n\u001b[0;32m--> 620\u001b[0;31m             \u001b[0;32mraise\u001b[0m \u001b[0mraise_error\u001b[0m\u001b[0;34m\u001b[0m\u001b[0;34m\u001b[0m\u001b[0m\n\u001b[0m\u001b[1;32m    621\u001b[0m         \u001b[0;32mreturn\u001b[0m \u001b[0mstate\u001b[0m\u001b[0;34m,\u001b[0m \u001b[0mhad_errors\u001b[0m\u001b[0;34m,\u001b[0m \u001b[0mtext\u001b[0m\u001b[0;34m\u001b[0m\u001b[0;34m\u001b[0m\u001b[0m\n\u001b[1;32m    622\u001b[0m \u001b[0;34m\u001b[0m\u001b[0m\n",
      "\u001b[0;32m~/.pythonlibs/jupyter-dani/lib/python3.7/site-packages/mlrun/projects/pipelines.py\u001b[0m in \u001b[0;36mget_run_status\u001b[0;34m(project, run, timeout, expected_statuses, notifiers)\u001b[0m\n\u001b[1;32m    594\u001b[0m                 \u001b[0mlogger\u001b[0m\u001b[0;34m.\u001b[0m\u001b[0minfo\u001b[0m\u001b[0;34m(\u001b[0m\u001b[0;34m\"waiting for pipeline run completion\"\u001b[0m\u001b[0;34m)\u001b[0m\u001b[0;34m\u001b[0m\u001b[0;34m\u001b[0m\u001b[0m\n\u001b[1;32m    595\u001b[0m                 state = run.wait_for_completion(\n\u001b[0;32m--> 596\u001b[0;31m                     \u001b[0mtimeout\u001b[0m\u001b[0;34m=\u001b[0m\u001b[0mtimeout\u001b[0m\u001b[0;34m,\u001b[0m \u001b[0mexpected_statuses\u001b[0m\u001b[0;34m=\u001b[0m\u001b[0mexpected_statuses\u001b[0m\u001b[0;34m\u001b[0m\u001b[0;34m\u001b[0m\u001b[0m\n\u001b[0m\u001b[1;32m    597\u001b[0m                 )\n\u001b[1;32m    598\u001b[0m         \u001b[0;32mexcept\u001b[0m \u001b[0mRuntimeError\u001b[0m \u001b[0;32mas\u001b[0m \u001b[0mexc\u001b[0m\u001b[0;34m:\u001b[0m\u001b[0;34m\u001b[0m\u001b[0;34m\u001b[0m\u001b[0m\n",
      "\u001b[0;32m~/.pythonlibs/jupyter-dani/lib/python3.7/site-packages/mlrun/projects/pipelines.py\u001b[0m in \u001b[0;36mwait_for_completion\u001b[0;34m(self, timeout, expected_statuses)\u001b[0m\n\u001b[1;32m    418\u001b[0m             \u001b[0mtimeout\u001b[0m\u001b[0;34m=\u001b[0m\u001b[0mtimeout\u001b[0m\u001b[0;34m,\u001b[0m\u001b[0;34m\u001b[0m\u001b[0;34m\u001b[0m\u001b[0m\n\u001b[1;32m    419\u001b[0m             \u001b[0mexpected_statuses\u001b[0m\u001b[0;34m=\u001b[0m\u001b[0mexpected_statuses\u001b[0m\u001b[0;34m,\u001b[0m\u001b[0;34m\u001b[0m\u001b[0;34m\u001b[0m\u001b[0m\n\u001b[0;32m--> 420\u001b[0;31m             \u001b[0mrun_object\u001b[0m\u001b[0;34m=\u001b[0m\u001b[0mself\u001b[0m\u001b[0;34m.\u001b[0m\u001b[0mrun_object\u001b[0m\u001b[0;34m,\u001b[0m\u001b[0;34m\u001b[0m\u001b[0;34m\u001b[0m\u001b[0m\n\u001b[0m\u001b[1;32m    421\u001b[0m         )\n\u001b[1;32m    422\u001b[0m         \u001b[0;32mreturn\u001b[0m \u001b[0mself\u001b[0m\u001b[0;34m.\u001b[0m\u001b[0m_state\u001b[0m\u001b[0;34m\u001b[0m\u001b[0;34m\u001b[0m\u001b[0m\n",
      "\u001b[0;32m~/.pythonlibs/jupyter-dani/lib/python3.7/site-packages/mlrun/projects/pipelines.py\u001b[0m in \u001b[0;36mwait_for_completion\u001b[0;34m(run_id, project, timeout, expected_statuses, run_object)\u001b[0m\n\u001b[1;32m    563\u001b[0m             \u001b[0mtimeout\u001b[0m\u001b[0;34m=\u001b[0m\u001b[0mtimeout\u001b[0m\u001b[0;34m,\u001b[0m\u001b[0;34m\u001b[0m\u001b[0;34m\u001b[0m\u001b[0m\n\u001b[1;32m    564\u001b[0m             \u001b[0mexpected_statuses\u001b[0m\u001b[0;34m=\u001b[0m\u001b[0mexpected_statuses\u001b[0m\u001b[0;34m,\u001b[0m\u001b[0;34m\u001b[0m\u001b[0;34m\u001b[0m\u001b[0m\n\u001b[0;32m--> 565\u001b[0;31m             \u001b[0mproject\u001b[0m\u001b[0;34m=\u001b[0m\u001b[0mproject_name\u001b[0m\u001b[0;34m,\u001b[0m\u001b[0;34m\u001b[0m\u001b[0;34m\u001b[0m\u001b[0m\n\u001b[0m\u001b[1;32m    566\u001b[0m         )\n\u001b[1;32m    567\u001b[0m         \u001b[0mstatus\u001b[0m \u001b[0;34m=\u001b[0m \u001b[0;34m\"\"\u001b[0m\u001b[0;34m\u001b[0m\u001b[0;34m\u001b[0m\u001b[0m\n",
      "\u001b[0;32m~/.pythonlibs/jupyter-dani/lib/python3.7/site-packages/mlrun/run.py\u001b[0m in \u001b[0;36mwait_for_pipeline_completion\u001b[0;34m(run_id, timeout, expected_statuses, namespace, remote, project)\u001b[0m\n\u001b[1;32m   1068\u001b[0m         \u001b[0;32mif\u001b[0m \u001b[0mstatus\u001b[0m \u001b[0;32mnot\u001b[0m \u001b[0;32min\u001b[0m \u001b[0mexpected_statuses\u001b[0m\u001b[0;34m:\u001b[0m\u001b[0;34m\u001b[0m\u001b[0;34m\u001b[0m\u001b[0m\n\u001b[1;32m   1069\u001b[0m             raise RuntimeError(\n\u001b[0;32m-> 1070\u001b[0;31m                 \u001b[0;34mf\"Pipeline run status {status}{', ' + message if message else ''}\"\u001b[0m\u001b[0;34m\u001b[0m\u001b[0;34m\u001b[0m\u001b[0m\n\u001b[0m\u001b[1;32m   1071\u001b[0m             )\n\u001b[1;32m   1072\u001b[0m \u001b[0;34m\u001b[0m\u001b[0m\n",
      "\u001b[0;31mRuntimeError\u001b[0m: Pipeline run status Failed"
     ]
    }
   ],
   "source": [
    "# Running with GCS\n",
    "project.run(name=workflow_name,watch=True, local=False, artifact_path='gs' + project.artifact_path[2:])"
   ]
  }
 ],
 "metadata": {
  "kernelspec": {
   "display_name": "Python 3",
   "language": "python",
   "name": "python3"
  },
  "language_info": {
   "codemirror_mode": {
    "name": "ipython",
    "version": 3
   },
   "file_extension": ".py",
   "mimetype": "text/x-python",
   "name": "python",
   "nbconvert_exporter": "python",
   "pygments_lexer": "ipython3",
   "version": "3.7.6"
  }
 },
 "nbformat": 4,
 "nbformat_minor": 5
}
