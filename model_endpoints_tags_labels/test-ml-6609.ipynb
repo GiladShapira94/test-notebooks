{
 "cells": [
  {
   "cell_type": "markdown",
   "id": "059a7844-bd2c-4c1b-9185-1ad929855d28",
   "metadata": {},
   "source": [
    "## Notebook test for [Ticket](https://iguazio.atlassian.net/browse/ML-6609)"
   ]
  },
  {
   "cell_type": "markdown",
   "id": "0581047c-f8cb-460c-a439-101ef0186f9d",
   "metadata": {},
   "source": [
    "#### Create a project"
   ]
  },
  {
   "cell_type": "code",
   "execution_count": 1,
   "id": "7d95e884-d40b-47b7-8e36-a1ec6ba7db06",
   "metadata": {},
   "outputs": [],
   "source": [
    "import mlrun"
   ]
  },
  {
   "cell_type": "code",
   "execution_count": 2,
   "id": "ab76ee88-0cd2-48f5-8611-68c2fa4e635a",
   "metadata": {},
   "outputs": [
    {
     "data": {
      "text/plain": [
       "'1.7.0-rc26'"
      ]
     },
     "execution_count": 2,
     "metadata": {},
     "output_type": "execute_result"
    }
   ],
   "source": [
    "mlrun.__version__"
   ]
  },
  {
   "cell_type": "code",
   "execution_count": 3,
   "id": "4cf0ec0b-0d0e-4d52-9bd4-a8a77bb8fb66",
   "metadata": {},
   "outputs": [
    {
     "name": "stdout",
     "output_type": "stream",
     "text": [
      "> 2024-06-26 09:14:32,417 [info] Loading project from path: {\"path\":\"./\",\"project_name\":\"testing-model-endpoint\"}\n",
      "> 2024-06-26 09:14:47,802 [info] Project loaded successfully: {\"path\":\"./\",\"project_name\":\"testing-model-endpoint\",\"stored_in_db\":true}\n"
     ]
    }
   ],
   "source": [
    "project = mlrun.get_or_create_project(\"testing-model-endpoint\")"
   ]
  },
  {
   "cell_type": "code",
   "execution_count": 4,
   "id": "8d8fab4e-0c63-4c41-ab4c-6d3cac4e308f",
   "metadata": {},
   "outputs": [
    {
     "name": "stdout",
     "output_type": "stream",
     "text": [
      "> 2024-06-26 09:14:47,968 [info] Model Monitoring is being disable: {\"project_name\":\"testing-model-endpoint\"}\n",
      "> 2024-06-26 09:14:47,969 [info] Model Monitoring disabled: {\"project\":\"testing-model-endpoint\"}\n"
     ]
    }
   ],
   "source": [
    "#Clean up monitoring data\n",
    "project.disable_model_monitoring(delete_stream_function=True)"
   ]
  },
  {
   "cell_type": "code",
   "execution_count": 5,
   "id": "aef36ea9-9e61-43d3-91c1-d202666b381f",
   "metadata": {},
   "outputs": [
    {
     "name": "stdout",
     "output_type": "stream",
     "text": [
      "2024-06-26 09:14:52  (info) Deploying function\n",
      "2024-06-26 09:14:52  (info) Building\n",
      "2024-06-26 09:14:53  (info) Staging files and preparing base images\n",
      "2024-06-26 09:14:53  (warn) Using user provided base image, runtime interpreter version is provided by the base image\n",
      "2024-06-26 09:14:53  (info) Building processor image\n",
      "2024-06-26 09:16:53  (info) Build complete\n",
      "2024-06-26 09:17:32  (info) Function deploy complete\n",
      "2024-06-26 09:14:48  (info) Deploying function\n",
      "2024-06-26 09:14:48  (info) Building\n",
      "2024-06-26 09:14:48  (info) Staging files and preparing base images\n",
      "2024-06-26 09:14:48  (warn) Using user provided base image, runtime interpreter version is provided by the base image\n",
      "2024-06-26 09:14:48  (info) Building processor image\n",
      "2024-06-26 09:16:47  (info) Build complete\n",
      "2024-06-26 09:17:31  (info) Function deploy complete\n",
      "2024-06-26 09:14:50  (info) Deploying function\n",
      "2024-06-26 09:14:50  (info) Building\n",
      "2024-06-26 09:14:51  (info) Staging files and preparing base images\n",
      "2024-06-26 09:14:51  (warn) Using user provided base image, runtime interpreter version is provided by the base image\n",
      "2024-06-26 09:14:51  (info) Building processor image\n",
      "2024-06-26 09:16:08  (info) Build complete\n",
      "2024-06-26 09:16:34  (info) Function deploy complete\n",
      "2024-06-26 09:14:54  (info) Deploying function\n",
      "2024-06-26 09:14:54  (info) Building\n",
      "2024-06-26 09:14:55  (info) Staging files and preparing base images\n",
      "2024-06-26 09:14:55  (warn) Using user provided base image, runtime interpreter version is provided by the base image\n",
      "2024-06-26 09:14:55  (info) Building processor image\n",
      "2024-06-26 09:16:51  (info) Build complete\n",
      "2024-06-26 09:17:31  (info) Function deploy complete\n"
     ]
    }
   ],
   "source": [
    "project.enable_model_monitoring(wait_for_deployment=True)"
   ]
  },
  {
   "cell_type": "markdown",
   "id": "3113a7ff-406b-482c-823f-2e6c8b4ccbef",
   "metadata": {},
   "source": [
    "### Train and deploy a model with tag==v1 and label test=1"
   ]
  },
  {
   "cell_type": "code",
   "execution_count": 6,
   "id": "74109ba8-3a2f-45cf-a10b-4bf0756b22c4",
   "metadata": {},
   "outputs": [
    {
     "name": "stdout",
     "output_type": "stream",
     "text": [
      "Overwriting train.py\n"
     ]
    }
   ],
   "source": [
    "%%writefile train.py\n",
    "from sklearn.datasets import make_classification\n",
    "from mlrun.frameworks.sklearn import apply_mlrun\n",
    "from sklearn.model_selection import train_test_split\n",
    "from sklearn.linear_model import LinearRegression\n",
    "import pickle\n",
    "import pandas as pd\n",
    "\n",
    "def train(context,i):\n",
    "    X,y = make_classification(n_samples=100,n_features=10,random_state=i)\n",
    "    X_train,X_test,y_train,y_test = train_test_split(X,y,train_size=0.8,test_size=0.2,random_state=i)\n",
    "    X_train = pd.DataFrame(X_train)\n",
    "    y_train = pd.DataFrame(y_train,columns=[\"label\"])\n",
    "    training_set = pd.concat([X_train,y_train],axis=1)\n",
    "    model = LinearRegression()\n",
    "    model.fit(X_train,y_train)\n",
    "    context.log_model(key=f\"model\",body=pickle.dumps(model),model_file=f'model_{i}.pkl',training_set=training_set,label_column=\"label\",tag=f\"v{i}\",labels={\"test\":i})\n"
   ]
  },
  {
   "cell_type": "code",
   "execution_count": 7,
   "id": "b45f850d-12d5-47de-a911-50db917294af",
   "metadata": {},
   "outputs": [
    {
     "data": {
      "text/plain": [
       "<mlrun.runtimes.kubejob.KubejobRuntime at 0x7fb4e72c6d00>"
      ]
     },
     "execution_count": 7,
     "metadata": {},
     "output_type": "execute_result"
    }
   ],
   "source": [
    "project.set_function(func='train.py',kind='job',image=\"mlrun/mlrun\",handler='train',name='train')"
   ]
  },
  {
   "cell_type": "code",
   "execution_count": 8,
   "id": "5b872435-fdc3-46c4-8cfc-d82899e121fa",
   "metadata": {},
   "outputs": [],
   "source": [
    "i=1"
   ]
  },
  {
   "cell_type": "code",
   "execution_count": 9,
   "id": "aa8983c4-fec8-475b-8e7a-0d543a139cf5",
   "metadata": {},
   "outputs": [
    {
     "name": "stdout",
     "output_type": "stream",
     "text": [
      "> 2024-06-26 09:18:08,425 [info] Storing function: {\"db\":\"http://mlrun-api:8080\",\"name\":\"train-train\",\"uid\":\"7010715de3b34cbe8606196d51365bb6\"}\n",
      "> 2024-06-26 09:18:08,729 [info] Job is running in the background, pod: train-train-84jt6\n",
      "> 2024-06-26 09:18:13,103 [info] To track results use the CLI: {\"info_cmd\":\"mlrun get run 7010715de3b34cbe8606196d51365bb6 -p testing-model-endpoint\",\"logs_cmd\":\"mlrun logs 7010715de3b34cbe8606196d51365bb6 -p testing-model-endpoint\"}\n",
      "> 2024-06-26 09:18:13,103 [info] Or click for UI: {\"ui_url\":\"https://dashboard.default-tenant.app.dev55.lab.iguazeng.com/mlprojects/testing-model-endpoint/jobs/monitor/7010715de3b34cbe8606196d51365bb6/overview\"}\n",
      "> 2024-06-26 09:18:13,104 [info] Run execution finished: {\"name\":\"train-train\",\"status\":\"completed\"}\n"
     ]
    },
    {
     "data": {
      "text/html": [
       "<style>\n",
       ".dictlist {\n",
       "  background-color: #4EC64B;\n",
       "  text-align: center;\n",
       "  margin: 4px;\n",
       "  border-radius: 3px; padding: 0px 3px 1px 3px; display: inline-block;}\n",
       ".artifact {\n",
       "  cursor: pointer;\n",
       "  background-color: #4EC64B;\n",
       "  text-align: left;\n",
       "  margin: 4px; border-radius: 3px; padding: 0px 3px 1px 3px; display: inline-block;\n",
       "}\n",
       "div.block.hidden {\n",
       "  display: none;\n",
       "}\n",
       ".clickable {\n",
       "  cursor: pointer;\n",
       "}\n",
       ".ellipsis {\n",
       "  display: inline-block;\n",
       "  max-width: 60px;\n",
       "  white-space: nowrap;\n",
       "  overflow: hidden;\n",
       "  text-overflow: ellipsis;\n",
       "}\n",
       ".master-wrapper {\n",
       "  display: flex;\n",
       "  flex-flow: row nowrap;\n",
       "  justify-content: flex-start;\n",
       "  align-items: stretch;\n",
       "}\n",
       ".master-tbl {\n",
       "  flex: 3\n",
       "}\n",
       ".master-wrapper > div {\n",
       "  margin: 4px;\n",
       "  padding: 10px;\n",
       "}\n",
       "iframe.fileview {\n",
       "  border: 0 none;\n",
       "  height: 100%;\n",
       "  width: 100%;\n",
       "  white-space: pre-wrap;\n",
       "}\n",
       ".pane-header-title {\n",
       "  width: 80%;\n",
       "  font-weight: 500;\n",
       "}\n",
       ".pane-header {\n",
       "  line-height: 1;\n",
       "  background-color: #4EC64B;\n",
       "  padding: 3px;\n",
       "}\n",
       ".pane-header .close {\n",
       "  font-size: 20px;\n",
       "  font-weight: 700;\n",
       "  float: right;\n",
       "  margin-top: -5px;\n",
       "}\n",
       ".master-wrapper .right-pane {\n",
       "  border: 1px inset silver;\n",
       "  width: 40%;\n",
       "  min-height: 300px;\n",
       "  flex: 3\n",
       "  min-width: 500px;\n",
       "}\n",
       ".master-wrapper * {\n",
       "  box-sizing: border-box;\n",
       "}\n",
       "</style><script>\n",
       "function copyToClipboard(fld) {\n",
       "    if (document.queryCommandSupported && document.queryCommandSupported('copy')) {\n",
       "        var textarea = document.createElement('textarea');\n",
       "        textarea.textContent = fld.innerHTML;\n",
       "        textarea.style.position = 'fixed';\n",
       "        document.body.appendChild(textarea);\n",
       "        textarea.select();\n",
       "\n",
       "        try {\n",
       "            return document.execCommand('copy'); // Security exception may be thrown by some browsers.\n",
       "        } catch (ex) {\n",
       "\n",
       "        } finally {\n",
       "            document.body.removeChild(textarea);\n",
       "        }\n",
       "    }\n",
       "}\n",
       "function expandPanel(el) {\n",
       "  const panelName = \"#\" + el.getAttribute('paneName');\n",
       "  console.log(el.title);\n",
       "\n",
       "  document.querySelector(panelName + \"-title\").innerHTML = el.title\n",
       "  iframe = document.querySelector(panelName + \"-body\");\n",
       "\n",
       "  const tblcss = `<style> body { font-family: Arial, Helvetica, sans-serif;}\n",
       "    #csv { margin-bottom: 15px; }\n",
       "    #csv table { border-collapse: collapse;}\n",
       "    #csv table td { padding: 4px 8px; border: 1px solid silver;} </style>`;\n",
       "\n",
       "  function csvToHtmlTable(str) {\n",
       "    return '<div id=\"csv\"><table><tr><td>' +  str.replace(/[\\n\\r]+$/g, '').replace(/[\\n\\r]+/g, '</td></tr><tr><td>')\n",
       "      .replace(/,/g, '</td><td>') + '</td></tr></table></div>';\n",
       "  }\n",
       "\n",
       "  function reqListener () {\n",
       "    if (el.title.endsWith(\".csv\")) {\n",
       "      iframe.setAttribute(\"srcdoc\", tblcss + csvToHtmlTable(this.responseText));\n",
       "    } else {\n",
       "      iframe.setAttribute(\"srcdoc\", this.responseText);\n",
       "    }\n",
       "    console.log(this.responseText);\n",
       "  }\n",
       "\n",
       "  const oReq = new XMLHttpRequest();\n",
       "  oReq.addEventListener(\"load\", reqListener);\n",
       "  oReq.open(\"GET\", el.title);\n",
       "  oReq.send();\n",
       "\n",
       "\n",
       "  //iframe.src = el.title;\n",
       "  const resultPane = document.querySelector(panelName + \"-pane\");\n",
       "  if (resultPane.classList.contains(\"hidden\")) {\n",
       "    resultPane.classList.remove(\"hidden\");\n",
       "  }\n",
       "}\n",
       "function closePanel(el) {\n",
       "  const panelName = \"#\" + el.getAttribute('paneName')\n",
       "  const resultPane = document.querySelector(panelName + \"-pane\");\n",
       "  if (!resultPane.classList.contains(\"hidden\")) {\n",
       "    resultPane.classList.add(\"hidden\");\n",
       "  }\n",
       "}\n",
       "\n",
       "</script>\n",
       "<div class=\"master-wrapper\">\n",
       "  <div class=\"block master-tbl\"><div>\n",
       "<style scoped>\n",
       "    .dataframe tbody tr th:only-of-type {\n",
       "        vertical-align: middle;\n",
       "    }\n",
       "\n",
       "    .dataframe tbody tr th {\n",
       "        vertical-align: top;\n",
       "    }\n",
       "\n",
       "    .dataframe thead th {\n",
       "        text-align: right;\n",
       "    }\n",
       "</style>\n",
       "<table border=\"1\" class=\"dataframe\">\n",
       "  <thead>\n",
       "    <tr style=\"text-align: right;\">\n",
       "      <th>project</th>\n",
       "      <th>uid</th>\n",
       "      <th>iter</th>\n",
       "      <th>start</th>\n",
       "      <th>state</th>\n",
       "      <th>kind</th>\n",
       "      <th>name</th>\n",
       "      <th>labels</th>\n",
       "      <th>inputs</th>\n",
       "      <th>parameters</th>\n",
       "      <th>results</th>\n",
       "      <th>artifacts</th>\n",
       "    </tr>\n",
       "  </thead>\n",
       "  <tbody>\n",
       "    <tr>\n",
       "      <td>testing-model-endpoint</td>\n",
       "      <td><div title=\"7010715de3b34cbe8606196d51365bb6\"><a href=\"https://dashboard.default-tenant.app.dev55.lab.iguazeng.com/mlprojects/testing-model-endpoint/jobs/monitor/7010715de3b34cbe8606196d51365bb6/overview\" target=\"_blank\" >...51365bb6</a></div></td>\n",
       "      <td>0</td>\n",
       "      <td>Jun 26 09:18:11</td>\n",
       "      <td>completed</td>\n",
       "      <td>run</td>\n",
       "      <td>train-train</td>\n",
       "      <td><div class=\"dictlist\">v3io_user=normal-user</div><div class=\"dictlist\">kind=job</div><div class=\"dictlist\">owner=normal-user</div><div class=\"dictlist\">mlrun/client_version=1.7.0-rc26</div><div class=\"dictlist\">mlrun/client_python_version=3.9.18</div><div class=\"dictlist\">host=train-train-84jt6</div></td>\n",
       "      <td></td>\n",
       "      <td><div class=\"dictlist\">i=1</div></td>\n",
       "      <td></td>\n",
       "      <td><div title=\"v3io:///projects/testing-model-endpoint/artifacts/train-train/0/model/\">model</div><div title=\"v3io:///projects/testing-model-endpoint/artifacts/train-train/0/model/\">model</div></td>\n",
       "    </tr>\n",
       "  </tbody>\n",
       "</table>\n",
       "</div></div>\n",
       "  <div id=\"result9ca46c26-pane\" class=\"right-pane block hidden\">\n",
       "    <div class=\"pane-header\">\n",
       "      <span id=\"result9ca46c26-title\" class=\"pane-header-title\">Title</span>\n",
       "      <span onclick=\"closePanel(this)\" paneName=\"result9ca46c26\" class=\"close clickable\">&times;</span>\n",
       "    </div>\n",
       "    <iframe class=\"fileview\" id=\"result9ca46c26-body\"></iframe>\n",
       "  </div>\n",
       "</div>\n"
      ],
      "text/plain": [
       "<IPython.core.display.HTML object>"
      ]
     },
     "metadata": {},
     "output_type": "display_data"
    },
    {
     "name": "stdout",
     "output_type": "stream",
     "text": [
      "\n"
     ]
    },
    {
     "data": {
      "text/html": [
       "<b> > to track results use the .show() or .logs() methods  or <a href=\"https://dashboard.default-tenant.app.dev55.lab.iguazeng.com/mlprojects/testing-model-endpoint/jobs/monitor/7010715de3b34cbe8606196d51365bb6/overview\" target=\"_blank\">click here</a> to open in UI</b>"
      ],
      "text/plain": [
       "<IPython.core.display.HTML object>"
      ]
     },
     "metadata": {},
     "output_type": "display_data"
    },
    {
     "name": "stdout",
     "output_type": "stream",
     "text": [
      "> 2024-06-26 09:18:19,876 [info] Run execution finished: {\"name\":\"train-train\",\"status\":\"completed\"}\n"
     ]
    }
   ],
   "source": [
    "run = project.run_function('train',params={\"i\":i})"
   ]
  },
  {
   "cell_type": "code",
   "execution_count": 10,
   "id": "e904ed0f-7e32-449e-a300-1ab80678cec9",
   "metadata": {},
   "outputs": [],
   "source": [
    "serving = mlrun.new_function('serving-model',kind='serving',image='mlrun/mlrun')"
   ]
  },
  {
   "cell_type": "code",
   "execution_count": 11,
   "id": "77f33115-f06d-4f8d-9f53-7889230e98b7",
   "metadata": {},
   "outputs": [],
   "source": [
    "graph = serving.set_topology(\"flow\", engine=\"sync\")\n",
    "router = graph.add_step(\"*mlrun.serving.ModelRouter\", name=\"model-routing\")"
   ]
  },
  {
   "cell_type": "code",
   "execution_count": 12,
   "id": "049572d0-b3c6-4f2b-9b6f-7da97fad613c",
   "metadata": {},
   "outputs": [
    {
     "data": {
      "text/plain": [
       "1"
      ]
     },
     "execution_count": 12,
     "metadata": {},
     "output_type": "execute_result"
    }
   ],
   "source": [
    "models_uri = [model.uri for model in project.list_models(tag=f\"v{i}\")]\n",
    "len(models_uri)"
   ]
  },
  {
   "cell_type": "code",
   "execution_count": 13,
   "id": "d449adbc-5fff-43fc-a491-f6d9ff06ab01",
   "metadata": {},
   "outputs": [
    {
     "name": "stderr",
     "output_type": "stream",
     "text": [
      "100%|██████████| 1/1 [00:00<00:00, 11096.04it/s]\n"
     ]
    }
   ],
   "source": [
    "from tqdm import tqdm\n",
    "for uri in tqdm(models_uri):\n",
    "    router.add_route(key=f'model',model_path=uri,class_name='mlrun.frameworks.sklearn.SKLearnModelServer')"
   ]
  },
  {
   "cell_type": "code",
   "execution_count": 14,
   "id": "bb27506f-e07f-4eb8-9596-019aa71e2323",
   "metadata": {},
   "outputs": [],
   "source": [
    "serving.set_tracking()"
   ]
  },
  {
   "cell_type": "code",
   "execution_count": 15,
   "id": "d37c3977-d20a-4ac3-99b7-ae44b8386324",
   "metadata": {},
   "outputs": [
    {
     "name": "stdout",
     "output_type": "stream",
     "text": [
      "> 2024-06-26 09:18:19,962 [info] Starting remote function deploy\n",
      "2024-06-26 09:18:20  (info) Deploying function\n",
      "2024-06-26 09:18:20  (info) Building\n",
      "2024-06-26 09:18:20  (info) Staging files and preparing base images\n",
      "2024-06-26 09:18:20  (warn) Using user provided base image, runtime interpreter version is provided by the base image\n",
      "2024-06-26 09:18:20  (info) Building processor image\n",
      "2024-06-26 09:19:45  (info) Build complete\n",
      "2024-06-26 09:20:31  (info) Function deploy complete\n",
      "> 2024-06-26 09:20:41,192 [info] Successfully deployed function: {\"external_invocation_urls\":[\"testing-model-endpoint-serving-model.default-tenant.app.dev55.lab.iguazeng.com/\"],\"internal_invocation_urls\":[\"nuclio-testing-model-endpoint-serving-model.default-tenant.svc.cluster.local:8080\"]}\n"
     ]
    },
    {
     "data": {
      "text/plain": [
       "DeployStatus(state=ready, outputs={'endpoint': 'http://testing-model-endpoint-serving-model.default-tenant.app.dev55.lab.iguazeng.com/', 'name': 'testing-model-endpoint-serving-model'})"
      ]
     },
     "execution_count": 15,
     "metadata": {},
     "output_type": "execute_result"
    }
   ],
   "source": [
    "project.deploy_function(serving)"
   ]
  },
  {
   "cell_type": "code",
   "execution_count": 16,
   "id": "0bb68331-091b-4709-a3fa-2903439d06c9",
   "metadata": {},
   "outputs": [],
   "source": [
    "inputs = [[-0.13554955389680073,0.0076506575048474225,0.6287761723991921,-0.8751269647375463,-1.0660002219502747,-1.449969473671631,-1.1047354035566603,0.20042964461755708,0.6400321379372533,0.0785128175305061,-0.16572271960124885,0.8553736325613692,-0.4950274467481983,0.3036076443871318,-0.9177524223010839,0.3994151051172195,-0.2588778273252802,0.7705348945630903,0.14223688502019674,-0.722042747480339][:10]]"
   ]
  },
  {
   "cell_type": "code",
   "execution_count": 17,
   "id": "5fe381cc-d30c-4d6d-894d-615092ddb378",
   "metadata": {},
   "outputs": [
    {
     "name": "stdout",
     "output_type": "stream",
     "text": [
      "> 2024-06-26 09:20:41,258 [info] Invoking function: {\"method\":\"POST\",\"path\":\"http://nuclio-testing-model-endpoint-serving-model.default-tenant.svc.cluster.local:8080/v2/models/model/infer\"}\n"
     ]
    },
    {
     "data": {
      "text/plain": [
       "{'id': 'b7dbe74e-ded3-4488-955d-368988488ef5',\n",
       " 'model_name': 'model',\n",
       " 'outputs': [[0.39645381565027626]],\n",
       " 'model_version': 'v1'}"
      ]
     },
     "execution_count": 17,
     "metadata": {},
     "output_type": "execute_result"
    }
   ],
   "source": [
    "serving.invoke(f\"/v2/models/model/infer\", {\"inputs\": inputs})"
   ]
  },
  {
   "cell_type": "code",
   "execution_count": 18,
   "id": "d19ca08f-7ae2-42e0-b7fa-3ad9717a39a9",
   "metadata": {},
   "outputs": [],
   "source": [
    "db = mlrun.get_run_db()"
   ]
  },
  {
   "cell_type": "code",
   "execution_count": 19,
   "id": "c6decf5d-4349-4bed-9a17-9ddf7c10ae61",
   "metadata": {},
   "outputs": [],
   "source": [
    "end_point = db.list_model_endpoints(project=project.name,model=f\"model:v{i}\")[0]"
   ]
  },
  {
   "cell_type": "markdown",
   "id": "a6ddad3e-b655-4ce4-a78f-2f358f02b8c2",
   "metadata": {},
   "source": [
    "#### Test model tag and label"
   ]
  },
  {
   "cell_type": "code",
   "execution_count": 20,
   "id": "587b41ea-ed54-4cfb-94ee-674faef86ef4",
   "metadata": {},
   "outputs": [],
   "source": [
    "#test model endpoint labels\n",
    "assert end_point.metadata.labels == {'test': i}"
   ]
  },
  {
   "cell_type": "code",
   "execution_count": 21,
   "id": "ad91f60a-f998-4d6a-9782-7026a16b39ac",
   "metadata": {},
   "outputs": [],
   "source": [
    "#test model endpoint tag\n",
    "assert end_point.spec.model.split(\":\")[-1]==f\"v{i}\""
   ]
  },
  {
   "cell_type": "markdown",
   "id": "a179f663-89c3-4e89-91f9-073d5fd34ed9",
   "metadata": {},
   "source": [
    "### Train and deploy a model with tag==v2 and label test=2"
   ]
  },
  {
   "cell_type": "code",
   "execution_count": 22,
   "id": "582e62e5-3567-4565-9dea-9d26791387d2",
   "metadata": {},
   "outputs": [
    {
     "name": "stdout",
     "output_type": "stream",
     "text": [
      "Overwriting train.py\n"
     ]
    }
   ],
   "source": [
    "%%writefile train.py\n",
    "from sklearn.datasets import make_classification\n",
    "from mlrun.frameworks.sklearn import apply_mlrun\n",
    "from sklearn.model_selection import train_test_split\n",
    "from sklearn.linear_model import LinearRegression\n",
    "import pickle\n",
    "import pandas as pd\n",
    "\n",
    "def train(context,i):\n",
    "    X,y = make_classification(n_samples=100,n_features=10,random_state=i)\n",
    "    X_train,X_test,y_train,y_test = train_test_split(X,y,train_size=0.8,test_size=0.2,random_state=i)\n",
    "    X_train = pd.DataFrame(X_train)\n",
    "    y_train = pd.DataFrame(y_train,columns=[\"label\"])\n",
    "    training_set = pd.concat([X_train,y_train],axis=1)\n",
    "    model = LinearRegression()\n",
    "    model.fit(X_train,y_train)\n",
    "    context.log_model(key=f\"model\",body=pickle.dumps(model),model_file=f'model_{i}.pkl',training_set=training_set,label_column=\"label\",tag=f\"v{i}\",labels={\"test\":i})\n"
   ]
  },
  {
   "cell_type": "code",
   "execution_count": 23,
   "id": "16ecec90-ec75-4bfa-a821-a50972284297",
   "metadata": {},
   "outputs": [
    {
     "data": {
      "text/plain": [
       "<mlrun.runtimes.kubejob.KubejobRuntime at 0x7fb4e7215220>"
      ]
     },
     "execution_count": 23,
     "metadata": {},
     "output_type": "execute_result"
    }
   ],
   "source": [
    "project.set_function(func='train.py',kind='job',image=\"mlrun/mlrun\",handler='train',name='train')"
   ]
  },
  {
   "cell_type": "code",
   "execution_count": 24,
   "id": "364a998c-371b-4c1d-8652-b5774a3aabe4",
   "metadata": {},
   "outputs": [],
   "source": [
    "i=2"
   ]
  },
  {
   "cell_type": "code",
   "execution_count": 25,
   "id": "bfa4dfa3-6a40-4c8c-85f6-fe85b9fbe3f7",
   "metadata": {},
   "outputs": [
    {
     "name": "stdout",
     "output_type": "stream",
     "text": [
      "> 2024-06-26 09:20:41,923 [info] Storing function: {\"db\":\"http://mlrun-api:8080\",\"name\":\"train-train\",\"uid\":\"5a59123a60e74e739b66197859cbc063\"}\n",
      "> 2024-06-26 09:20:42,189 [info] Job is running in the background, pod: train-train-dt6br\n",
      "> 2024-06-26 09:20:46,572 [info] To track results use the CLI: {\"info_cmd\":\"mlrun get run 5a59123a60e74e739b66197859cbc063 -p testing-model-endpoint\",\"logs_cmd\":\"mlrun logs 5a59123a60e74e739b66197859cbc063 -p testing-model-endpoint\"}\n",
      "> 2024-06-26 09:20:46,572 [info] Or click for UI: {\"ui_url\":\"https://dashboard.default-tenant.app.dev55.lab.iguazeng.com/mlprojects/testing-model-endpoint/jobs/monitor/5a59123a60e74e739b66197859cbc063/overview\"}\n",
      "> 2024-06-26 09:20:46,573 [info] Run execution finished: {\"name\":\"train-train\",\"status\":\"completed\"}\n"
     ]
    },
    {
     "data": {
      "text/html": [
       "<style>\n",
       ".dictlist {\n",
       "  background-color: #4EC64B;\n",
       "  text-align: center;\n",
       "  margin: 4px;\n",
       "  border-radius: 3px; padding: 0px 3px 1px 3px; display: inline-block;}\n",
       ".artifact {\n",
       "  cursor: pointer;\n",
       "  background-color: #4EC64B;\n",
       "  text-align: left;\n",
       "  margin: 4px; border-radius: 3px; padding: 0px 3px 1px 3px; display: inline-block;\n",
       "}\n",
       "div.block.hidden {\n",
       "  display: none;\n",
       "}\n",
       ".clickable {\n",
       "  cursor: pointer;\n",
       "}\n",
       ".ellipsis {\n",
       "  display: inline-block;\n",
       "  max-width: 60px;\n",
       "  white-space: nowrap;\n",
       "  overflow: hidden;\n",
       "  text-overflow: ellipsis;\n",
       "}\n",
       ".master-wrapper {\n",
       "  display: flex;\n",
       "  flex-flow: row nowrap;\n",
       "  justify-content: flex-start;\n",
       "  align-items: stretch;\n",
       "}\n",
       ".master-tbl {\n",
       "  flex: 3\n",
       "}\n",
       ".master-wrapper > div {\n",
       "  margin: 4px;\n",
       "  padding: 10px;\n",
       "}\n",
       "iframe.fileview {\n",
       "  border: 0 none;\n",
       "  height: 100%;\n",
       "  width: 100%;\n",
       "  white-space: pre-wrap;\n",
       "}\n",
       ".pane-header-title {\n",
       "  width: 80%;\n",
       "  font-weight: 500;\n",
       "}\n",
       ".pane-header {\n",
       "  line-height: 1;\n",
       "  background-color: #4EC64B;\n",
       "  padding: 3px;\n",
       "}\n",
       ".pane-header .close {\n",
       "  font-size: 20px;\n",
       "  font-weight: 700;\n",
       "  float: right;\n",
       "  margin-top: -5px;\n",
       "}\n",
       ".master-wrapper .right-pane {\n",
       "  border: 1px inset silver;\n",
       "  width: 40%;\n",
       "  min-height: 300px;\n",
       "  flex: 3\n",
       "  min-width: 500px;\n",
       "}\n",
       ".master-wrapper * {\n",
       "  box-sizing: border-box;\n",
       "}\n",
       "</style><script>\n",
       "function copyToClipboard(fld) {\n",
       "    if (document.queryCommandSupported && document.queryCommandSupported('copy')) {\n",
       "        var textarea = document.createElement('textarea');\n",
       "        textarea.textContent = fld.innerHTML;\n",
       "        textarea.style.position = 'fixed';\n",
       "        document.body.appendChild(textarea);\n",
       "        textarea.select();\n",
       "\n",
       "        try {\n",
       "            return document.execCommand('copy'); // Security exception may be thrown by some browsers.\n",
       "        } catch (ex) {\n",
       "\n",
       "        } finally {\n",
       "            document.body.removeChild(textarea);\n",
       "        }\n",
       "    }\n",
       "}\n",
       "function expandPanel(el) {\n",
       "  const panelName = \"#\" + el.getAttribute('paneName');\n",
       "  console.log(el.title);\n",
       "\n",
       "  document.querySelector(panelName + \"-title\").innerHTML = el.title\n",
       "  iframe = document.querySelector(panelName + \"-body\");\n",
       "\n",
       "  const tblcss = `<style> body { font-family: Arial, Helvetica, sans-serif;}\n",
       "    #csv { margin-bottom: 15px; }\n",
       "    #csv table { border-collapse: collapse;}\n",
       "    #csv table td { padding: 4px 8px; border: 1px solid silver;} </style>`;\n",
       "\n",
       "  function csvToHtmlTable(str) {\n",
       "    return '<div id=\"csv\"><table><tr><td>' +  str.replace(/[\\n\\r]+$/g, '').replace(/[\\n\\r]+/g, '</td></tr><tr><td>')\n",
       "      .replace(/,/g, '</td><td>') + '</td></tr></table></div>';\n",
       "  }\n",
       "\n",
       "  function reqListener () {\n",
       "    if (el.title.endsWith(\".csv\")) {\n",
       "      iframe.setAttribute(\"srcdoc\", tblcss + csvToHtmlTable(this.responseText));\n",
       "    } else {\n",
       "      iframe.setAttribute(\"srcdoc\", this.responseText);\n",
       "    }\n",
       "    console.log(this.responseText);\n",
       "  }\n",
       "\n",
       "  const oReq = new XMLHttpRequest();\n",
       "  oReq.addEventListener(\"load\", reqListener);\n",
       "  oReq.open(\"GET\", el.title);\n",
       "  oReq.send();\n",
       "\n",
       "\n",
       "  //iframe.src = el.title;\n",
       "  const resultPane = document.querySelector(panelName + \"-pane\");\n",
       "  if (resultPane.classList.contains(\"hidden\")) {\n",
       "    resultPane.classList.remove(\"hidden\");\n",
       "  }\n",
       "}\n",
       "function closePanel(el) {\n",
       "  const panelName = \"#\" + el.getAttribute('paneName')\n",
       "  const resultPane = document.querySelector(panelName + \"-pane\");\n",
       "  if (!resultPane.classList.contains(\"hidden\")) {\n",
       "    resultPane.classList.add(\"hidden\");\n",
       "  }\n",
       "}\n",
       "\n",
       "</script>\n",
       "<div class=\"master-wrapper\">\n",
       "  <div class=\"block master-tbl\"><div>\n",
       "<style scoped>\n",
       "    .dataframe tbody tr th:only-of-type {\n",
       "        vertical-align: middle;\n",
       "    }\n",
       "\n",
       "    .dataframe tbody tr th {\n",
       "        vertical-align: top;\n",
       "    }\n",
       "\n",
       "    .dataframe thead th {\n",
       "        text-align: right;\n",
       "    }\n",
       "</style>\n",
       "<table border=\"1\" class=\"dataframe\">\n",
       "  <thead>\n",
       "    <tr style=\"text-align: right;\">\n",
       "      <th>project</th>\n",
       "      <th>uid</th>\n",
       "      <th>iter</th>\n",
       "      <th>start</th>\n",
       "      <th>state</th>\n",
       "      <th>kind</th>\n",
       "      <th>name</th>\n",
       "      <th>labels</th>\n",
       "      <th>inputs</th>\n",
       "      <th>parameters</th>\n",
       "      <th>results</th>\n",
       "      <th>artifacts</th>\n",
       "    </tr>\n",
       "  </thead>\n",
       "  <tbody>\n",
       "    <tr>\n",
       "      <td>testing-model-endpoint</td>\n",
       "      <td><div title=\"5a59123a60e74e739b66197859cbc063\"><a href=\"https://dashboard.default-tenant.app.dev55.lab.iguazeng.com/mlprojects/testing-model-endpoint/jobs/monitor/5a59123a60e74e739b66197859cbc063/overview\" target=\"_blank\" >...59cbc063</a></div></td>\n",
       "      <td>0</td>\n",
       "      <td>Jun 26 09:20:45</td>\n",
       "      <td>completed</td>\n",
       "      <td>run</td>\n",
       "      <td>train-train</td>\n",
       "      <td><div class=\"dictlist\">v3io_user=normal-user</div><div class=\"dictlist\">kind=job</div><div class=\"dictlist\">owner=normal-user</div><div class=\"dictlist\">mlrun/client_version=1.7.0-rc26</div><div class=\"dictlist\">mlrun/client_python_version=3.9.18</div><div class=\"dictlist\">host=train-train-dt6br</div></td>\n",
       "      <td></td>\n",
       "      <td><div class=\"dictlist\">i=2</div></td>\n",
       "      <td></td>\n",
       "      <td><div title=\"v3io:///projects/testing-model-endpoint/artifacts/train-train/0/model/\">model</div><div title=\"v3io:///projects/testing-model-endpoint/artifacts/train-train/0/model/\">model</div></td>\n",
       "    </tr>\n",
       "  </tbody>\n",
       "</table>\n",
       "</div></div>\n",
       "  <div id=\"result4b85863f-pane\" class=\"right-pane block hidden\">\n",
       "    <div class=\"pane-header\">\n",
       "      <span id=\"result4b85863f-title\" class=\"pane-header-title\">Title</span>\n",
       "      <span onclick=\"closePanel(this)\" paneName=\"result4b85863f\" class=\"close clickable\">&times;</span>\n",
       "    </div>\n",
       "    <iframe class=\"fileview\" id=\"result4b85863f-body\"></iframe>\n",
       "  </div>\n",
       "</div>\n"
      ],
      "text/plain": [
       "<IPython.core.display.HTML object>"
      ]
     },
     "metadata": {},
     "output_type": "display_data"
    },
    {
     "name": "stdout",
     "output_type": "stream",
     "text": [
      "\n"
     ]
    },
    {
     "data": {
      "text/html": [
       "<b> > to track results use the .show() or .logs() methods  or <a href=\"https://dashboard.default-tenant.app.dev55.lab.iguazeng.com/mlprojects/testing-model-endpoint/jobs/monitor/5a59123a60e74e739b66197859cbc063/overview\" target=\"_blank\">click here</a> to open in UI</b>"
      ],
      "text/plain": [
       "<IPython.core.display.HTML object>"
      ]
     },
     "metadata": {},
     "output_type": "display_data"
    },
    {
     "name": "stdout",
     "output_type": "stream",
     "text": [
      "> 2024-06-26 09:20:53,329 [info] Run execution finished: {\"name\":\"train-train\",\"status\":\"completed\"}\n"
     ]
    }
   ],
   "source": [
    "run = project.run_function('train',params={\"i\":i})"
   ]
  },
  {
   "cell_type": "code",
   "execution_count": 26,
   "id": "376fbe15-a4ab-4222-9416-ff569bb36e56",
   "metadata": {},
   "outputs": [],
   "source": [
    "serving = mlrun.new_function('serving-model',kind='serving',image='mlrun/mlrun')"
   ]
  },
  {
   "cell_type": "code",
   "execution_count": 27,
   "id": "fbdc7df3-684c-4241-9f7a-05b22431c3d2",
   "metadata": {},
   "outputs": [],
   "source": [
    "graph = serving.set_topology(\"flow\", engine=\"sync\")\n",
    "router = graph.add_step(\"*mlrun.serving.ModelRouter\", name=\"model-routing\")"
   ]
  },
  {
   "cell_type": "code",
   "execution_count": 28,
   "id": "1f631985-2ba6-4d44-91fe-0a5c15d727ce",
   "metadata": {},
   "outputs": [
    {
     "data": {
      "text/plain": [
       "1"
      ]
     },
     "execution_count": 28,
     "metadata": {},
     "output_type": "execute_result"
    }
   ],
   "source": [
    "models_uri = [model.uri for model in project.list_models(tag=f\"v{i}\")]\n",
    "len(models_uri)"
   ]
  },
  {
   "cell_type": "code",
   "execution_count": 29,
   "id": "16e70e9a-f0b7-4ad7-b1ca-46b56c83456f",
   "metadata": {},
   "outputs": [],
   "source": [
    "assert \"v2\" in models_uri[0]"
   ]
  },
  {
   "cell_type": "code",
   "execution_count": 30,
   "id": "124ad2c4-7c8b-4c69-8914-979ccfec9602",
   "metadata": {},
   "outputs": [
    {
     "name": "stderr",
     "output_type": "stream",
     "text": [
      "100%|██████████| 1/1 [00:00<00:00, 11715.93it/s]\n"
     ]
    }
   ],
   "source": [
    "from tqdm import tqdm\n",
    "for uri in tqdm(models_uri):\n",
    "    router.add_route(key=f'model',model_path=uri,class_name='mlrun.frameworks.sklearn.SKLearnModelServer')"
   ]
  },
  {
   "cell_type": "code",
   "execution_count": 31,
   "id": "1d145eac-dfce-47a7-9370-9ecb8fe5eef2",
   "metadata": {},
   "outputs": [],
   "source": [
    "serving.set_tracking()"
   ]
  },
  {
   "cell_type": "code",
   "execution_count": 32,
   "id": "d3d9ac6d-9ac3-48a8-9c55-7e30f5deea54",
   "metadata": {},
   "outputs": [
    {
     "name": "stdout",
     "output_type": "stream",
     "text": [
      "> 2024-06-26 09:20:53,410 [info] Starting remote function deploy\n",
      "2024-06-26 09:20:53  (info) Deploying function\n",
      "2024-06-26 09:20:53  (info) Building\n",
      "2024-06-26 09:20:53  (info) Staging files and preparing base images\n",
      "2024-06-26 09:20:53  (warn) Using user provided base image, runtime interpreter version is provided by the base image\n",
      "2024-06-26 09:20:53  (info) Building processor image\n",
      "2024-06-26 09:22:09  (info) Build complete\n",
      "2024-06-26 09:22:17  (info) Function deploy complete\n",
      "> 2024-06-26 09:22:24,334 [info] Successfully deployed function: {\"external_invocation_urls\":[\"testing-model-endpoint-serving-model.default-tenant.app.dev55.lab.iguazeng.com/\"],\"internal_invocation_urls\":[\"nuclio-testing-model-endpoint-serving-model.default-tenant.svc.cluster.local:8080\"]}\n"
     ]
    },
    {
     "data": {
      "text/plain": [
       "DeployStatus(state=ready, outputs={'endpoint': 'http://testing-model-endpoint-serving-model.default-tenant.app.dev55.lab.iguazeng.com/', 'name': 'testing-model-endpoint-serving-model'})"
      ]
     },
     "execution_count": 32,
     "metadata": {},
     "output_type": "execute_result"
    }
   ],
   "source": [
    "project.deploy_function(serving)"
   ]
  },
  {
   "cell_type": "code",
   "execution_count": 33,
   "id": "ddafc632-b09d-4629-84d5-e93a62661a67",
   "metadata": {},
   "outputs": [],
   "source": [
    "inputs = [[-0.13554955389680073,0.0076506575048474225,0.6287761723991921,-0.8751269647375463,-1.0660002219502747,-1.449969473671631,-1.1047354035566603,0.20042964461755708,0.6400321379372533,0.0785128175305061,-0.16572271960124885,0.8553736325613692,-0.4950274467481983,0.3036076443871318,-0.9177524223010839,0.3994151051172195,-0.2588778273252802,0.7705348945630903,0.14223688502019674,-0.722042747480339][:10]]"
   ]
  },
  {
   "cell_type": "code",
   "execution_count": 34,
   "id": "c8c650ef-c92c-4d18-a232-8132de6e3342",
   "metadata": {},
   "outputs": [
    {
     "name": "stdout",
     "output_type": "stream",
     "text": [
      "> 2024-06-26 09:22:24,397 [info] Invoking function: {\"method\":\"POST\",\"path\":\"http://nuclio-testing-model-endpoint-serving-model.default-tenant.svc.cluster.local:8080/v2/models/model/infer\"}\n"
     ]
    },
    {
     "data": {
      "text/plain": [
       "{'id': '18857906-1b09-423f-aab9-b6bda56deaec',\n",
       " 'model_name': 'model',\n",
       " 'outputs': [[-36716687454529.34]],\n",
       " 'model_version': 'v2'}"
      ]
     },
     "execution_count": 34,
     "metadata": {},
     "output_type": "execute_result"
    }
   ],
   "source": [
    "serving.invoke(f\"/v2/models/model/infer\", {\"inputs\": inputs})"
   ]
  },
  {
   "cell_type": "code",
   "execution_count": 35,
   "id": "0dbb7ca4-b009-43e4-b662-24d5b1ae897d",
   "metadata": {},
   "outputs": [],
   "source": [
    "db = mlrun.get_run_db()"
   ]
  },
  {
   "cell_type": "code",
   "execution_count": 36,
   "id": "6ea1fd4e-ff31-4807-add5-9005f3b2d011",
   "metadata": {},
   "outputs": [],
   "source": [
    "end_point = db.list_model_endpoints(project=project.name,model=f\"model:v{i}\")[0]"
   ]
  },
  {
   "cell_type": "markdown",
   "id": "66dcca78-9ca8-4621-8dbe-7b109de35428",
   "metadata": {},
   "source": [
    "#### Test model tag and label"
   ]
  },
  {
   "cell_type": "code",
   "execution_count": 37,
   "id": "745368be-c9df-4eaa-873f-24df994aa79c",
   "metadata": {},
   "outputs": [],
   "source": [
    "#test model endpoint labels\n",
    "assert end_point.metadata.labels == {'test': i}"
   ]
  },
  {
   "cell_type": "code",
   "execution_count": 38,
   "id": "e3896f6c-e4f8-4048-ae2d-d8bf6395dfc1",
   "metadata": {},
   "outputs": [],
   "source": [
    "#test model endpoint tags\n",
    "assert end_point.spec.model.split(\":\")[-1]==f\"v{i}\""
   ]
  },
  {
   "cell_type": "code",
   "execution_count": 39,
   "id": "d2b5d185-e95d-4cd3-aefb-04f0d5267de0",
   "metadata": {},
   "outputs": [
    {
     "name": "stdout",
     "output_type": "stream",
     "text": [
      "> 2024-06-26 09:22:24,905 [info] Project is being deleted: {\"project_name\":\"testing-model-endpoint\"}\n",
      "> 2024-06-26 09:22:52,101 [info] Project deleted: {\"project_name\":\"testing-model-endpoint\"}\n"
     ]
    }
   ],
   "source": [
    "db.delete_project(name=project.name,deletion_strategy=\"cascade\")"
   ]
  },
  {
   "cell_type": "code",
   "execution_count": null,
   "id": "76838b55-a27a-4978-ba22-98492a85647f",
   "metadata": {},
   "outputs": [],
   "source": []
  }
 ],
 "metadata": {
  "kernelspec": {
   "display_name": "mlrun-base",
   "language": "python",
   "name": "conda-env-mlrun-base-py"
  },
  "language_info": {
   "codemirror_mode": {
    "name": "ipython",
    "version": 3
   },
   "file_extension": ".py",
   "mimetype": "text/x-python",
   "name": "python",
   "nbconvert_exporter": "python",
   "pygments_lexer": "ipython3",
   "version": "3.9.18"
  }
 },
 "nbformat": 4,
 "nbformat_minor": 5
}
