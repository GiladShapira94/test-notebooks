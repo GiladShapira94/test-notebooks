{
 "cells": [
  {
   "cell_type": "markdown",
   "id": "19b59a78",
   "metadata": {
    "pycharm": {
     "name": "#%% md\n"
    }
   },
   "source": [
    "# Training A XGBoost Classifier With And Without Dask\n",
    "\n",
    "This test generates a big binarry classification data for later train a model on the generated data using XGBoost with and without Dask. Later it will verify that:\n",
    "\n",
    "  * The accuracy was not damaged in Dask.\n",
    "  * The dask run was faster (only possible on big data). "
   ]
  },
  {
   "cell_type": "markdown",
   "id": "e68e3f06",
   "metadata": {
    "pycharm": {
     "name": "#%% md\n"
    }
   },
   "source": [
    "## General Configurations"
   ]
  },
  {
   "cell_type": "code",
   "execution_count": 1,
   "id": "b36b3d51",
   "metadata": {
    "collapsed": false,
    "jupyter": {
     "outputs_hidden": false
    },
    "pycharm": {
     "name": "#%%\n"
    }
   },
   "outputs": [
    {
     "name": "stdout",
     "output_type": "stream",
     "text": [
      "Requirement already satisfied: plotly in /User/.pythonlibs/jupyter-guyl/lib/python3.7/site-packages (5.11.0)\n",
      "Requirement already satisfied: scikit-learn in /User/.pythonlibs/jupyter-guyl/lib/python3.7/site-packages (1.0.2)\n",
      "Requirement already satisfied: xgboost in /conda/lib/python3.7/site-packages (1.2.0)\n",
      "Requirement already satisfied: tenacity>=6.2.0 in /User/.pythonlibs/jupyter-guyl/lib/python3.7/site-packages (from plotly) (8.1.0)\n",
      "Requirement already satisfied: scipy>=1.1.0 in /conda/lib/python3.7/site-packages (from scikit-learn) (1.4.1)\n",
      "Requirement already satisfied: numpy>=1.14.6 in /conda/lib/python3.7/site-packages (from scikit-learn) (1.19.2)\n",
      "Requirement already satisfied: joblib>=0.11 in /conda/lib/python3.7/site-packages (from scikit-learn) (1.1.0)\n",
      "Requirement already satisfied: threadpoolctl>=2.0.0 in /conda/lib/python3.7/site-packages (from scikit-learn) (2.2.0)\n"
     ]
    }
   ],
   "source": [
    "# Image versions: scikit-learn~=1.0 xgboost~=1.1\n",
    "# Test is set to install latest to make sure we are always up-to-date with the latest releases.\n",
    "!pip install plotly scikit-learn xgboost"
   ]
  },
  {
   "cell_type": "code",
   "execution_count": 2,
   "id": "6379672b",
   "metadata": {
    "pycharm": {
     "name": "#%%\n"
    }
   },
   "outputs": [],
   "source": [
    "# Path to store the generated data:\n",
    "DATA_PATH = \"./data\"\n",
    "\n",
    "# Number of samples of generated data (number of rows in the data table):\n",
    "N_SAMPLES = 1000\n",
    "\n",
    "# Number of features of the generated data (number of columns in the data table):\n",
    "N_FEATURES = 10\n",
    "\n",
    "# The percentage of data to be labeled as a testing set:\n",
    "TRAIN_TEST_SPLIT = 0.33\n",
    "\n",
    "# The amount of parquet partitions to have of the generated data:\n",
    "N_PARTITIONS = 10"
   ]
  },
  {
   "cell_type": "markdown",
   "id": "3d025167",
   "metadata": {
    "pycharm": {
     "name": "#%% md\n"
    }
   },
   "source": [
    "## 1. Generate Data:\n",
    "\n",
    "1. Generate a binary classification data.\n",
    "2. Turn the data into a `pandas.DataFrame` naming the columns `features_{i}` and adding the partioting column (year).\n",
    "3. Split the data into a training and testing sets."
   ]
  },
  {
   "cell_type": "code",
   "execution_count": 3,
   "id": "2c9546d0",
   "metadata": {
    "pycharm": {
     "name": "#%%\n"
    }
   },
   "outputs": [],
   "source": [
    "import os\n",
    "import shutil\n",
    "\n",
    "import numpy as np\n",
    "import pandas as pd\n",
    "\n",
    "from sklearn.datasets import make_classification\n",
    "from sklearn.model_selection import train_test_split\n",
    "\n",
    "\n",
    "def generate_data(\n",
    "    output_path: str,\n",
    "    n_samples: int, \n",
    "    n_features: int, \n",
    "    test_size: float, \n",
    "    n_partitions: int,\n",
    "):\n",
    "    # Generate data:\n",
    "    x, y = make_classification(\n",
    "        n_samples=n_samples, \n",
    "        n_features=n_features, \n",
    "        n_informative=int(n_features / 4) + 1, \n",
    "        n_classes=2, \n",
    "        n_redundant=int(n_features / 10) + 1,\n",
    "    )\n",
    "    \n",
    "    # Create a dataframe:\n",
    "    data = pd.DataFrame(\n",
    "        data=x, \n",
    "        columns=[f\"feature-{i}\" for i in range(n_features)]\n",
    "    )\n",
    "    data[\"year\"] = np.random.randint(2000, 2000 + n_partitions, size=n_samples)\n",
    "    data[\"label\"] = y\n",
    "    \n",
    "    # Split into train and test sets:\n",
    "    train_set, test_set = train_test_split(data, test_size=test_size)\n",
    "    \n",
    "    # Save to parquets:\n",
    "    train_set.to_parquet(f\"{output_path}/train\", partition_cols=[\"year\"])\n",
    "    test_set.to_parquet(f\"{output_path}/test\", partition_cols=[\"year\"])"
   ]
  },
  {
   "cell_type": "markdown",
   "id": "a23712c7",
   "metadata": {
    "pycharm": {
     "name": "#%% md\n"
    }
   },
   "source": [
    "Generate the data (will require writing permissions to the local directory)."
   ]
  },
  {
   "cell_type": "code",
   "execution_count": 4,
   "id": "b45ee6e8",
   "metadata": {
    "pycharm": {
     "name": "#%%\n"
    }
   },
   "outputs": [],
   "source": [
    "# Delete past generated data (in case there was a failure):\n",
    "if os.path.exists(DATA_PATH):\n",
    "    shutil.rmtree(os.path.abspath(DATA_PATH))\n",
    "\n",
    "# Generate new data:\n",
    "generate_data(\n",
    "    output_path=DATA_PATH,\n",
    "    n_samples=N_SAMPLES, \n",
    "    n_features=N_FEATURES, \n",
    "    test_size=TRAIN_TEST_SPLIT,\n",
    "    n_partitions=N_PARTITIONS,\n",
    ")"
   ]
  },
  {
   "cell_type": "markdown",
   "id": "39e44628",
   "metadata": {
    "pycharm": {
     "name": "#%% md\n"
    }
   },
   "source": [
    "## 2. Training Code\n",
    "\n",
    "1. Read the data into a pandas (dask) `DataFrame`.\n",
    "2. Split the data into `x` and `y`.\n",
    "3. Initialize a `XGBClassifier` (`DaskXGBClassifier`) model.\n",
    "4. Run training on the training set.\n",
    "5. Run evaluation on the testing set.\n",
    "\n",
    "Accuracy score will be logged as a result."
   ]
  },
  {
   "cell_type": "code",
   "execution_count": 5,
   "id": "f5a8fed3",
   "metadata": {
    "pycharm": {
     "name": "#%%\n"
    }
   },
   "outputs": [],
   "source": [
    "# mlrun: start-code"
   ]
  },
  {
   "cell_type": "code",
   "execution_count": 6,
   "id": "f131f876",
   "metadata": {
    "pycharm": {
     "name": "#%%\n"
    }
   },
   "outputs": [
    {
     "name": "stdout",
     "output_type": "stream",
     "text": [
      "> 2023-02-12 22:37:35,186 [warning] Failed resolving version info. Ignoring and using defaults\n",
      "> 2023-02-12 22:37:36,363 [warning] Server or client version is unstable. Assuming compatible: {'server_version': '0.0.0+unstable', 'client_version': '0.0.0+unstable'}\n"
     ]
    }
   ],
   "source": [
    "import time\n",
    "import pandas as pd\n",
    "import dask\n",
    "import xgboost as xgb\n",
    "from sklearn.metrics import accuracy_score\n",
    "\n",
    "import mlrun\n",
    "\n",
    "\n",
    "@mlrun.handler(outputs=[\"time\", \"accuracy_score\"])\n",
    "def train(context: mlrun.MLClientCtx, data_path: str):\n",
    "    # Start the timer:\n",
    "    run_time = time.time()\n",
    "    \n",
    "    # Check for a dask client:\n",
    "    dask_function = context.get_param(\"dask_function\", None)\n",
    "    dask_client = mlrun.import_function(dask_function).client if dask_function else None\n",
    "    \n",
    "    # Get the data:\n",
    "    read_parquet_function = dask.dataframe.read_parquet if dask_client else pd.read_parquet\n",
    "    train_set = read_parquet_function(f\"{data_path}/train\")\n",
    "    train_set = train_set.drop('year', axis=1)\n",
    "    if dask_client:\n",
    "        train_set = dask_client.persist(train_set)\n",
    "    test_set = read_parquet_function(f\"{data_path}/test\")\n",
    "    test_set = test_set.drop('year', axis=1)\n",
    "    if dask_client:\n",
    "        test_set = dask_client.persist(test_set)\n",
    "    \n",
    "    \n",
    "    # Split into x and y:\n",
    "    y_train = train_set.label\n",
    "    x_train = train_set.drop(columns=[\"label\"])\n",
    "    y_test = test_set.label\n",
    "    x_test = test_set.drop(columns=[\"label\"])\n",
    "    \n",
    "    # Initialize a model:\n",
    "    if dask_client:\n",
    "        model = xgb.dask.DaskXGBClassifier()\n",
    "        model.client = dask_client\n",
    "    else:\n",
    "        model = xgb.XGBClassifier()\n",
    "    \n",
    "    # Train:\n",
    "    model.fit(x_train, y_train)\n",
    "    \n",
    "    # Predict:\n",
    "    y_pred = model.predict(x_test)\n",
    "    \n",
    "    # Evaluate:\n",
    "    if dask_client:\n",
    "        y_test = y_test.compute()\n",
    "        y_pred = y_pred.compute()\n",
    "    run_time = time.time() - run_time\n",
    "    return run_time, accuracy_score(y_pred, y_test)"
   ]
  },
  {
   "cell_type": "code",
   "execution_count": 7,
   "id": "27dcdafc",
   "metadata": {
    "pycharm": {
     "name": "#%%\n"
    }
   },
   "outputs": [],
   "source": [
    "# mlrun: end-code"
   ]
  },
  {
   "cell_type": "markdown",
   "id": "28bcbce8",
   "metadata": {
    "pycharm": {
     "name": "#%% md\n"
    }
   },
   "source": [
    "## 3. Create a Project\n",
    "\n",
    "1. Create the MLRun project.\n",
    "2. Create an MLRun function of the training code."
   ]
  },
  {
   "cell_type": "code",
   "execution_count": 8,
   "id": "b4c209d0",
   "metadata": {
    "pycharm": {
     "name": "#%%\n"
    }
   },
   "outputs": [],
   "source": [
    "import os\n",
    "import shutil\n",
    "import time\n",
    "\n",
    "import mlrun"
   ]
  },
  {
   "cell_type": "code",
   "execution_count": 9,
   "id": "b78a4ed7",
   "metadata": {
    "pycharm": {
     "name": "#%%\n"
    }
   },
   "outputs": [
    {
     "name": "stdout",
     "output_type": "stream",
     "text": [
      "> 2023-02-12 22:37:36,430 [info] loaded project dask-xgboost-test from MLRun DB\n"
     ]
    }
   ],
   "source": [
    "# Create the project:\n",
    "project = mlrun.get_or_create_project(name=\"dask-xgboost-test\", context=\"./\", user_project=True)"
   ]
  },
  {
   "cell_type": "code",
   "execution_count": 10,
   "id": "54c3ebd9",
   "metadata": {
    "pycharm": {
     "name": "#%%\n"
    }
   },
   "outputs": [
    {
     "data": {
      "text/plain": [
       "<mlrun.runtimes.kubejob.KubejobRuntime at 0x7f04fc91ef90>"
      ]
     },
     "execution_count": 10,
     "metadata": {},
     "output_type": "execute_result"
    }
   ],
   "source": [
    "# Create the training function:\n",
    "train_function = project.set_function(name=\"train\", kind=\"job\", image=\"mlrun/mlrun\", handler=\"train\")\n",
    "train_function.apply(mlrun.auto_mount())"
   ]
  },
  {
   "cell_type": "markdown",
   "id": "95773df9",
   "metadata": {
    "pycharm": {
     "name": "#%% md\n"
    }
   },
   "source": [
    "## 4. Run Without Dask\n",
    "\n",
    "Run the training without Dask and store the results."
   ]
  },
  {
   "cell_type": "code",
   "execution_count": 11,
   "id": "f369b7b7",
   "metadata": {
    "pycharm": {
     "name": "#%%\n"
    }
   },
   "outputs": [
    {
     "name": "stdout",
     "output_type": "stream",
     "text": [
      "> 2023-02-12 22:37:49,002 [info] starting run without-dask uid=7e500ecb1d854388ad85c59bd1d293ca DB=http://mlrun-api:8080\n",
      "> 2023-02-12 22:37:49,221 [info] Job is running in the background, pod: without-dask-6t78p\n",
      "> 2023-02-12 22:37:56,672 [warning] Server or client version is unstable. Assuming compatible: {'server_version': '0.0.0+unstable', 'client_version': '0.0.0+unstable'}\n",
      "> 2023-02-12 22:37:58,508 [info] To track results use the CLI: {'info_cmd': 'mlrun get run 7e500ecb1d854388ad85c59bd1d293ca -p dask-xgboost-test-guyl', 'logs_cmd': 'mlrun logs 7e500ecb1d854388ad85c59bd1d293ca -p dask-xgboost-test-guyl'}\n",
      "> 2023-02-12 22:37:58,508 [info] Or click for UI: {'ui_url': 'https://dashboard.default-tenant.app.cto-office.iguazio-cd1.com/mlprojects/dask-xgboost-test-guyl/jobs/monitor/7e500ecb1d854388ad85c59bd1d293ca/overview'}\n",
      "> 2023-02-12 22:37:58,508 [info] run executed, status=completed\n",
      "final state: completed\n"
     ]
    },
    {
     "data": {
      "text/html": [
       "<style>\n",
       ".dictlist {\n",
       "  background-color: #4EC64B;\n",
       "  text-align: center;\n",
       "  margin: 4px;\n",
       "  border-radius: 3px; padding: 0px 3px 1px 3px; display: inline-block;}\n",
       ".artifact {\n",
       "  cursor: pointer;\n",
       "  background-color: #4EC64B;\n",
       "  text-align: left;\n",
       "  margin: 4px; border-radius: 3px; padding: 0px 3px 1px 3px; display: inline-block;\n",
       "}\n",
       "div.block.hidden {\n",
       "  display: none;\n",
       "}\n",
       ".clickable {\n",
       "  cursor: pointer;\n",
       "}\n",
       ".ellipsis {\n",
       "  display: inline-block;\n",
       "  max-width: 60px;\n",
       "  white-space: nowrap;\n",
       "  overflow: hidden;\n",
       "  text-overflow: ellipsis;\n",
       "}\n",
       ".master-wrapper {\n",
       "  display: flex;\n",
       "  flex-flow: row nowrap;\n",
       "  justify-content: flex-start;\n",
       "  align-items: stretch;\n",
       "}\n",
       ".master-tbl {\n",
       "  flex: 3\n",
       "}\n",
       ".master-wrapper > div {\n",
       "  margin: 4px;\n",
       "  padding: 10px;\n",
       "}\n",
       "iframe.fileview {\n",
       "  border: 0 none;\n",
       "  height: 100%;\n",
       "  width: 100%;\n",
       "  white-space: pre-wrap;\n",
       "}\n",
       ".pane-header-title {\n",
       "  width: 80%;\n",
       "  font-weight: 500;\n",
       "}\n",
       ".pane-header {\n",
       "  line-height: 1;\n",
       "  background-color: #4EC64B;\n",
       "  padding: 3px;\n",
       "}\n",
       ".pane-header .close {\n",
       "  font-size: 20px;\n",
       "  font-weight: 700;\n",
       "  float: right;\n",
       "  margin-top: -5px;\n",
       "}\n",
       ".master-wrapper .right-pane {\n",
       "  border: 1px inset silver;\n",
       "  width: 40%;\n",
       "  min-height: 300px;\n",
       "  flex: 3\n",
       "  min-width: 500px;\n",
       "}\n",
       ".master-wrapper * {\n",
       "  box-sizing: border-box;\n",
       "}\n",
       "</style><script>\n",
       "function copyToClipboard(fld) {\n",
       "    if (document.queryCommandSupported && document.queryCommandSupported('copy')) {\n",
       "        var textarea = document.createElement('textarea');\n",
       "        textarea.textContent = fld.innerHTML;\n",
       "        textarea.style.position = 'fixed';\n",
       "        document.body.appendChild(textarea);\n",
       "        textarea.select();\n",
       "\n",
       "        try {\n",
       "            return document.execCommand('copy'); // Security exception may be thrown by some browsers.\n",
       "        } catch (ex) {\n",
       "\n",
       "        } finally {\n",
       "            document.body.removeChild(textarea);\n",
       "        }\n",
       "    }\n",
       "}\n",
       "function expandPanel(el) {\n",
       "  const panelName = \"#\" + el.getAttribute('paneName');\n",
       "  console.log(el.title);\n",
       "\n",
       "  document.querySelector(panelName + \"-title\").innerHTML = el.title\n",
       "  iframe = document.querySelector(panelName + \"-body\");\n",
       "\n",
       "  const tblcss = `<style> body { font-family: Arial, Helvetica, sans-serif;}\n",
       "    #csv { margin-bottom: 15px; }\n",
       "    #csv table { border-collapse: collapse;}\n",
       "    #csv table td { padding: 4px 8px; border: 1px solid silver;} </style>`;\n",
       "\n",
       "  function csvToHtmlTable(str) {\n",
       "    return '<div id=\"csv\"><table><tr><td>' +  str.replace(/[\\n\\r]+$/g, '').replace(/[\\n\\r]+/g, '</td></tr><tr><td>')\n",
       "      .replace(/,/g, '</td><td>') + '</td></tr></table></div>';\n",
       "  }\n",
       "\n",
       "  function reqListener () {\n",
       "    if (el.title.endsWith(\".csv\")) {\n",
       "      iframe.setAttribute(\"srcdoc\", tblcss + csvToHtmlTable(this.responseText));\n",
       "    } else {\n",
       "      iframe.setAttribute(\"srcdoc\", this.responseText);\n",
       "    }\n",
       "    console.log(this.responseText);\n",
       "  }\n",
       "\n",
       "  const oReq = new XMLHttpRequest();\n",
       "  oReq.addEventListener(\"load\", reqListener);\n",
       "  oReq.open(\"GET\", el.title);\n",
       "  oReq.send();\n",
       "\n",
       "\n",
       "  //iframe.src = el.title;\n",
       "  const resultPane = document.querySelector(panelName + \"-pane\");\n",
       "  if (resultPane.classList.contains(\"hidden\")) {\n",
       "    resultPane.classList.remove(\"hidden\");\n",
       "  }\n",
       "}\n",
       "function closePanel(el) {\n",
       "  const panelName = \"#\" + el.getAttribute('paneName')\n",
       "  const resultPane = document.querySelector(panelName + \"-pane\");\n",
       "  if (!resultPane.classList.contains(\"hidden\")) {\n",
       "    resultPane.classList.add(\"hidden\");\n",
       "  }\n",
       "}\n",
       "\n",
       "</script>\n",
       "<div class=\"master-wrapper\">\n",
       "  <div class=\"block master-tbl\"><div>\n",
       "<style scoped>\n",
       "    .dataframe tbody tr th:only-of-type {\n",
       "        vertical-align: middle;\n",
       "    }\n",
       "\n",
       "    .dataframe tbody tr th {\n",
       "        vertical-align: top;\n",
       "    }\n",
       "\n",
       "    .dataframe thead th {\n",
       "        text-align: right;\n",
       "    }\n",
       "</style>\n",
       "<table border=\"1\" class=\"dataframe\">\n",
       "  <thead>\n",
       "    <tr style=\"text-align: right;\">\n",
       "      <th>project</th>\n",
       "      <th>uid</th>\n",
       "      <th>iter</th>\n",
       "      <th>start</th>\n",
       "      <th>state</th>\n",
       "      <th>name</th>\n",
       "      <th>labels</th>\n",
       "      <th>inputs</th>\n",
       "      <th>parameters</th>\n",
       "      <th>results</th>\n",
       "      <th>artifacts</th>\n",
       "    </tr>\n",
       "  </thead>\n",
       "  <tbody>\n",
       "    <tr>\n",
       "      <td>dask-xgboost-test-guyl</td>\n",
       "      <td><div title=\"7e500ecb1d854388ad85c59bd1d293ca\"><a href=\"https://dashboard.default-tenant.app.cto-office.iguazio-cd1.com/mlprojects/dask-xgboost-test-guyl/jobs/monitor/7e500ecb1d854388ad85c59bd1d293ca/overview\" target=\"_blank\" >...d1d293ca</a></div></td>\n",
       "      <td>0</td>\n",
       "      <td>Feb 12 22:37:56</td>\n",
       "      <td>completed</td>\n",
       "      <td>without-dask</td>\n",
       "      <td><div class=\"dictlist\">v3io_user=guyl</div><div class=\"dictlist\">kind=job</div><div class=\"dictlist\">owner=guyl</div><div class=\"dictlist\">mlrun/client_version=0.0.0+unstable</div><div class=\"dictlist\">mlrun/client_python_version=3.7.6</div><div class=\"dictlist\">host=without-dask-6t78p</div></td>\n",
       "      <td></td>\n",
       "      <td><div class=\"dictlist\">data_path=/User/demos/notebooks/data</div></td>\n",
       "      <td><div class=\"dictlist\">time=0.3261575698852539</div><div class=\"dictlist\">accuracy_score=0.8818181818181818</div></td>\n",
       "      <td></td>\n",
       "    </tr>\n",
       "  </tbody>\n",
       "</table>\n",
       "</div></div>\n",
       "  <div id=\"result3e43691e-pane\" class=\"right-pane block hidden\">\n",
       "    <div class=\"pane-header\">\n",
       "      <span id=\"result3e43691e-title\" class=\"pane-header-title\">Title</span>\n",
       "      <span onclick=\"closePanel(this)\" paneName=\"result3e43691e\" class=\"close clickable\">&times;</span>\n",
       "    </div>\n",
       "    <iframe class=\"fileview\" id=\"result3e43691e-body\"></iframe>\n",
       "  </div>\n",
       "</div>\n"
      ],
      "text/plain": [
       "<IPython.core.display.HTML object>"
      ]
     },
     "metadata": {},
     "output_type": "display_data"
    },
    {
     "name": "stdout",
     "output_type": "stream",
     "text": [
      "\n"
     ]
    },
    {
     "data": {
      "text/html": [
       "<b> > to track results use the .show() or .logs() methods  or <a href=\"https://dashboard.default-tenant.app.cto-office.iguazio-cd1.com/mlprojects/dask-xgboost-test-guyl/jobs/monitor/7e500ecb1d854388ad85c59bd1d293ca/overview\" target=\"_blank\">click here</a> to open in UI</b>"
      ],
      "text/plain": [
       "<IPython.core.display.HTML object>"
      ]
     },
     "metadata": {},
     "output_type": "display_data"
    },
    {
     "name": "stdout",
     "output_type": "stream",
     "text": [
      "> 2023-02-12 22:38:01,576 [info] run executed, status=completed\n"
     ]
    }
   ],
   "source": [
    "# Run without Dask:\n",
    "without_dask_run = train_function.run(\n",
    "    name=\"without-dask\",\n",
    "    params={\n",
    "        \"data_path\": os.path.abspath(DATA_PATH),\n",
    "    },\n",
    ")\n",
    "\n",
    "# Store results:\n",
    "without_dask_time = without_dask_run.status.results['time']\n",
    "without_dask_score = without_dask_run.status.results['accuracy_score']"
   ]
  },
  {
   "cell_type": "markdown",
   "id": "9da8010f",
   "metadata": {
    "pycharm": {
     "name": "#%% md\n"
    }
   },
   "source": [
    "## 5. Run With Dask\n",
    "\n",
    "1. Create the Dask function.\n",
    "2. Configure it.\n",
    "3. Run the training with Dask and store the results."
   ]
  },
  {
   "cell_type": "code",
   "execution_count": 12,
   "id": "70f2ac08",
   "metadata": {
    "pycharm": {
     "name": "#%%\n"
    }
   },
   "outputs": [
    {
     "data": {
      "text/plain": [
       "'db://dask-xgboost-test-guyl/my-dask'"
      ]
     },
     "execution_count": 12,
     "metadata": {},
     "output_type": "execute_result"
    }
   ],
   "source": [
    "# Create the dask function:\n",
    "dask_function = mlrun.new_function(name=\"my-dask\", kind=\"dask\", image=\"mlrun/mlrun\")\n",
    "\n",
    "# Configure the dask function specs:\n",
    "dask_function.spec.remote = True\n",
    "dask_function.spec.replicas = 5\n",
    "dask_function.spec.service_type = 'NodePort'\n",
    "dask_function.with_worker_limits(mem=\"6G\")\n",
    "dask_function.spec.nthreads = 5\n",
    "dask_function.apply(mlrun.auto_mount())\n",
    "\n",
    "# Assign the function to the project:\n",
    "project.set_function(dask_function)\n",
    "\n",
    "# Save:\n",
    "dask_function.save()"
   ]
  },
  {
   "cell_type": "code",
   "execution_count": 13,
   "id": "8cc1739f",
   "metadata": {
    "pycharm": {
     "name": "#%%\n"
    }
   },
   "outputs": [
    {
     "name": "stdout",
     "output_type": "stream",
     "text": [
      "> 2023-02-12 22:38:16,863 [info] trying dask client at: tcp://mlrun-my-dask-3fd5be9a-2.default-tenant:8786\n",
      "> 2023-02-12 22:38:16,892 [info] using remote dask scheduler (mlrun-my-dask-3fd5be9a-2) at: tcp://mlrun-my-dask-3fd5be9a-2.default-tenant:8786\n"
     ]
    },
    {
     "name": "stderr",
     "output_type": "stream",
     "text": [
      "Mismatched versions found\n",
      "\n",
      "+-------------+--------+-----------+---------+\n",
      "| Package     | client | scheduler | workers |\n",
      "+-------------+--------+-----------+---------+\n",
      "| blosc       | 1.7.0  | 1.10.6    | None    |\n",
      "| cloudpickle | 2.0.0  | 2.2.1     | None    |\n",
      "| lz4         | 3.1.0  | 3.1.10    | None    |\n",
      "| msgpack     | 1.0.3  | 1.0.4     | None    |\n",
      "| toolz       | 0.11.2 | 0.12.0    | None    |\n",
      "| tornado     | 6.1    | 6.2       | None    |\n",
      "+-------------+--------+-----------+---------+\n",
      "Notes: \n",
      "-  msgpack: Variation is ok, as long as everything is above 0.6\n"
     ]
    },
    {
     "data": {
      "text/html": [
       "<a href=\"http://default-tenant.app.cto-office.iguazio-cd1.com:32653/status\" target=\"_blank\" >dashboard link: default-tenant.app.cto-office.iguazio-cd1.com:32653</a>"
      ],
      "text/plain": [
       "<IPython.core.display.HTML object>"
      ]
     },
     "metadata": {},
     "output_type": "display_data"
    },
    {
     "data": {
      "text/html": [
       "<div>\n",
       "    <div style=\"width: 24px; height: 24px; background-color: #e1e1e1; border: 3px solid #9D9D9D; border-radius: 5px; position: absolute;\"> </div>\n",
       "    <div style=\"margin-left: 48px;\">\n",
       "        <h3 style=\"margin-bottom: 0px;\">Client</h3>\n",
       "        <p style=\"color: #9D9D9D; margin-bottom: 0px;\">Client-f14c8cfa-ab25-11ed-878c-25de4937981b</p>\n",
       "        <table style=\"width: 100%; text-align: left;\">\n",
       "\n",
       "        <tr>\n",
       "        \n",
       "            <td style=\"text-align: left;\"><strong>Connection method:</strong> Direct</td>\n",
       "            <td style=\"text-align: left;\"></td>\n",
       "        \n",
       "        </tr>\n",
       "\n",
       "        \n",
       "            <tr>\n",
       "                <td style=\"text-align: left;\">\n",
       "                    <strong>Dashboard: </strong> <a href=\"http://mlrun-my-dask-3fd5be9a-2.default-tenant:8787/status\" target=\"_blank\">http://mlrun-my-dask-3fd5be9a-2.default-tenant:8787/status</a>\n",
       "                </td>\n",
       "                <td style=\"text-align: left;\"></td>\n",
       "            </tr>\n",
       "        \n",
       "\n",
       "        </table>\n",
       "\n",
       "        \n",
       "            <details>\n",
       "            <summary style=\"margin-bottom: 20px;\"><h3 style=\"display: inline;\">Scheduler Info</h3></summary>\n",
       "            <div style=\"\">\n",
       "    <div>\n",
       "        <div style=\"width: 24px; height: 24px; background-color: #FFF7E5; border: 3px solid #FF6132; border-radius: 5px; position: absolute;\"> </div>\n",
       "        <div style=\"margin-left: 48px;\">\n",
       "            <h3 style=\"margin-bottom: 0px;\">Scheduler</h3>\n",
       "            <p style=\"color: #9D9D9D; margin-bottom: 0px;\">Scheduler-cc2814fa-6257-4bcb-b5d8-3c43beaf46f8</p>\n",
       "            <table style=\"width: 100%; text-align: left;\">\n",
       "                <tr>\n",
       "                    <td style=\"text-align: left;\">\n",
       "                        <strong>Comm:</strong> tcp://192.168.210.147:8786\n",
       "                    </td>\n",
       "                    <td style=\"text-align: left;\">\n",
       "                        <strong>Workers:</strong> 0\n",
       "                    </td>\n",
       "                </tr>\n",
       "                <tr>\n",
       "                    <td style=\"text-align: left;\">\n",
       "                        <strong>Dashboard:</strong> <a href=\"http://192.168.210.147:8787/status\" target=\"_blank\">http://192.168.210.147:8787/status</a>\n",
       "                    </td>\n",
       "                    <td style=\"text-align: left;\">\n",
       "                        <strong>Total threads:</strong> 0\n",
       "                    </td>\n",
       "                </tr>\n",
       "                <tr>\n",
       "                    <td style=\"text-align: left;\">\n",
       "                        <strong>Started:</strong> Just now\n",
       "                    </td>\n",
       "                    <td style=\"text-align: left;\">\n",
       "                        <strong>Total memory:</strong> 0 B\n",
       "                    </td>\n",
       "                </tr>\n",
       "            </table>\n",
       "        </div>\n",
       "    </div>\n",
       "\n",
       "    <details style=\"margin-left: 48px;\">\n",
       "        <summary style=\"margin-bottom: 20px;\">\n",
       "            <h3 style=\"display: inline;\">Workers</h3>\n",
       "        </summary>\n",
       "\n",
       "        \n",
       "\n",
       "    </details>\n",
       "</div>\n",
       "            </details>\n",
       "        \n",
       "\n",
       "    </div>\n",
       "</div>"
      ],
      "text/plain": [
       "<Client: 'tcp://192.168.210.147:8786' processes=0 threads=0, memory=0 B>"
      ]
     },
     "execution_count": 13,
     "metadata": {},
     "output_type": "execute_result"
    }
   ],
   "source": [
    "# Get the dask client:\n",
    "dask_function.client"
   ]
  },
  {
   "cell_type": "code",
   "execution_count": 14,
   "id": "244b9899",
   "metadata": {
    "pycharm": {
     "name": "#%%\n"
    }
   },
   "outputs": [
    {
     "name": "stdout",
     "output_type": "stream",
     "text": [
      "> 2023-02-12 22:38:16,979 [info] starting run with-dask uid=bc295600cb734d71a69d406f87efb8e9 DB=http://mlrun-api:8080\n",
      "> 2023-02-12 22:38:17,164 [info] Job is running in the background, pod: with-dask-fjrj9\n",
      "> 2023-02-12 22:38:24,844 [warning] Server or client version is unstable. Assuming compatible: {'server_version': '0.0.0+unstable', 'client_version': '0.0.0+unstable'}\n",
      "> 2023-02-12 22:38:26,338 [info] trying dask client at: tcp://mlrun-my-dask-3fd5be9a-2.default-tenant:8786\n",
      "> 2023-02-12 22:38:26,374 [info] using remote dask scheduler (mlrun-my-dask-3fd5be9a-2) at: tcp://mlrun-my-dask-3fd5be9a-2.default-tenant:8786\n",
      "remote dashboard: default-tenant.app.cto-office.iguazio-cd1.com:32653\n",
      "> 2023-02-12 22:38:29,248 [info] To track results use the CLI: {'info_cmd': 'mlrun get run bc295600cb734d71a69d406f87efb8e9 -p dask-xgboost-test-guyl', 'logs_cmd': 'mlrun logs bc295600cb734d71a69d406f87efb8e9 -p dask-xgboost-test-guyl'}\n",
      "> 2023-02-12 22:38:29,248 [info] Or click for UI: {'ui_url': 'https://dashboard.default-tenant.app.cto-office.iguazio-cd1.com/mlprojects/dask-xgboost-test-guyl/jobs/monitor/bc295600cb734d71a69d406f87efb8e9/overview'}\n",
      "> 2023-02-12 22:38:29,248 [info] run executed, status=completed\n",
      "coroutine 'Client._wait_for_workers' was never awaited\n",
      "final state: completed\n"
     ]
    },
    {
     "data": {
      "text/html": [
       "<style>\n",
       ".dictlist {\n",
       "  background-color: #4EC64B;\n",
       "  text-align: center;\n",
       "  margin: 4px;\n",
       "  border-radius: 3px; padding: 0px 3px 1px 3px; display: inline-block;}\n",
       ".artifact {\n",
       "  cursor: pointer;\n",
       "  background-color: #4EC64B;\n",
       "  text-align: left;\n",
       "  margin: 4px; border-radius: 3px; padding: 0px 3px 1px 3px; display: inline-block;\n",
       "}\n",
       "div.block.hidden {\n",
       "  display: none;\n",
       "}\n",
       ".clickable {\n",
       "  cursor: pointer;\n",
       "}\n",
       ".ellipsis {\n",
       "  display: inline-block;\n",
       "  max-width: 60px;\n",
       "  white-space: nowrap;\n",
       "  overflow: hidden;\n",
       "  text-overflow: ellipsis;\n",
       "}\n",
       ".master-wrapper {\n",
       "  display: flex;\n",
       "  flex-flow: row nowrap;\n",
       "  justify-content: flex-start;\n",
       "  align-items: stretch;\n",
       "}\n",
       ".master-tbl {\n",
       "  flex: 3\n",
       "}\n",
       ".master-wrapper > div {\n",
       "  margin: 4px;\n",
       "  padding: 10px;\n",
       "}\n",
       "iframe.fileview {\n",
       "  border: 0 none;\n",
       "  height: 100%;\n",
       "  width: 100%;\n",
       "  white-space: pre-wrap;\n",
       "}\n",
       ".pane-header-title {\n",
       "  width: 80%;\n",
       "  font-weight: 500;\n",
       "}\n",
       ".pane-header {\n",
       "  line-height: 1;\n",
       "  background-color: #4EC64B;\n",
       "  padding: 3px;\n",
       "}\n",
       ".pane-header .close {\n",
       "  font-size: 20px;\n",
       "  font-weight: 700;\n",
       "  float: right;\n",
       "  margin-top: -5px;\n",
       "}\n",
       ".master-wrapper .right-pane {\n",
       "  border: 1px inset silver;\n",
       "  width: 40%;\n",
       "  min-height: 300px;\n",
       "  flex: 3\n",
       "  min-width: 500px;\n",
       "}\n",
       ".master-wrapper * {\n",
       "  box-sizing: border-box;\n",
       "}\n",
       "</style><script>\n",
       "function copyToClipboard(fld) {\n",
       "    if (document.queryCommandSupported && document.queryCommandSupported('copy')) {\n",
       "        var textarea = document.createElement('textarea');\n",
       "        textarea.textContent = fld.innerHTML;\n",
       "        textarea.style.position = 'fixed';\n",
       "        document.body.appendChild(textarea);\n",
       "        textarea.select();\n",
       "\n",
       "        try {\n",
       "            return document.execCommand('copy'); // Security exception may be thrown by some browsers.\n",
       "        } catch (ex) {\n",
       "\n",
       "        } finally {\n",
       "            document.body.removeChild(textarea);\n",
       "        }\n",
       "    }\n",
       "}\n",
       "function expandPanel(el) {\n",
       "  const panelName = \"#\" + el.getAttribute('paneName');\n",
       "  console.log(el.title);\n",
       "\n",
       "  document.querySelector(panelName + \"-title\").innerHTML = el.title\n",
       "  iframe = document.querySelector(panelName + \"-body\");\n",
       "\n",
       "  const tblcss = `<style> body { font-family: Arial, Helvetica, sans-serif;}\n",
       "    #csv { margin-bottom: 15px; }\n",
       "    #csv table { border-collapse: collapse;}\n",
       "    #csv table td { padding: 4px 8px; border: 1px solid silver;} </style>`;\n",
       "\n",
       "  function csvToHtmlTable(str) {\n",
       "    return '<div id=\"csv\"><table><tr><td>' +  str.replace(/[\\n\\r]+$/g, '').replace(/[\\n\\r]+/g, '</td></tr><tr><td>')\n",
       "      .replace(/,/g, '</td><td>') + '</td></tr></table></div>';\n",
       "  }\n",
       "\n",
       "  function reqListener () {\n",
       "    if (el.title.endsWith(\".csv\")) {\n",
       "      iframe.setAttribute(\"srcdoc\", tblcss + csvToHtmlTable(this.responseText));\n",
       "    } else {\n",
       "      iframe.setAttribute(\"srcdoc\", this.responseText);\n",
       "    }\n",
       "    console.log(this.responseText);\n",
       "  }\n",
       "\n",
       "  const oReq = new XMLHttpRequest();\n",
       "  oReq.addEventListener(\"load\", reqListener);\n",
       "  oReq.open(\"GET\", el.title);\n",
       "  oReq.send();\n",
       "\n",
       "\n",
       "  //iframe.src = el.title;\n",
       "  const resultPane = document.querySelector(panelName + \"-pane\");\n",
       "  if (resultPane.classList.contains(\"hidden\")) {\n",
       "    resultPane.classList.remove(\"hidden\");\n",
       "  }\n",
       "}\n",
       "function closePanel(el) {\n",
       "  const panelName = \"#\" + el.getAttribute('paneName')\n",
       "  const resultPane = document.querySelector(panelName + \"-pane\");\n",
       "  if (!resultPane.classList.contains(\"hidden\")) {\n",
       "    resultPane.classList.add(\"hidden\");\n",
       "  }\n",
       "}\n",
       "\n",
       "</script>\n",
       "<div class=\"master-wrapper\">\n",
       "  <div class=\"block master-tbl\"><div>\n",
       "<style scoped>\n",
       "    .dataframe tbody tr th:only-of-type {\n",
       "        vertical-align: middle;\n",
       "    }\n",
       "\n",
       "    .dataframe tbody tr th {\n",
       "        vertical-align: top;\n",
       "    }\n",
       "\n",
       "    .dataframe thead th {\n",
       "        text-align: right;\n",
       "    }\n",
       "</style>\n",
       "<table border=\"1\" class=\"dataframe\">\n",
       "  <thead>\n",
       "    <tr style=\"text-align: right;\">\n",
       "      <th>project</th>\n",
       "      <th>uid</th>\n",
       "      <th>iter</th>\n",
       "      <th>start</th>\n",
       "      <th>state</th>\n",
       "      <th>name</th>\n",
       "      <th>labels</th>\n",
       "      <th>inputs</th>\n",
       "      <th>parameters</th>\n",
       "      <th>results</th>\n",
       "      <th>artifacts</th>\n",
       "    </tr>\n",
       "  </thead>\n",
       "  <tbody>\n",
       "    <tr>\n",
       "      <td>dask-xgboost-test-guyl</td>\n",
       "      <td><div title=\"bc295600cb734d71a69d406f87efb8e9\"><a href=\"https://dashboard.default-tenant.app.cto-office.iguazio-cd1.com/mlprojects/dask-xgboost-test-guyl/jobs/monitor/bc295600cb734d71a69d406f87efb8e9/overview\" target=\"_blank\" >...87efb8e9</a></div></td>\n",
       "      <td>0</td>\n",
       "      <td>Feb 12 22:38:24</td>\n",
       "      <td>completed</td>\n",
       "      <td>with-dask</td>\n",
       "      <td><div class=\"dictlist\">v3io_user=guyl</div><div class=\"dictlist\">kind=job</div><div class=\"dictlist\">owner=guyl</div><div class=\"dictlist\">mlrun/client_version=0.0.0+unstable</div><div class=\"dictlist\">mlrun/client_python_version=3.7.6</div><div class=\"dictlist\">host=with-dask-fjrj9</div></td>\n",
       "      <td></td>\n",
       "      <td><div class=\"dictlist\">data_path=/User/demos/notebooks/data</div><div class=\"dictlist\">dask_function=db://dask-xgboost-test-guyl/my-dask</div></td>\n",
       "      <td><div class=\"dictlist\">time=2.873952627182007</div><div class=\"dictlist\">accuracy_score=0.8878787878787879</div></td>\n",
       "      <td></td>\n",
       "    </tr>\n",
       "  </tbody>\n",
       "</table>\n",
       "</div></div>\n",
       "  <div id=\"result17d7372a-pane\" class=\"right-pane block hidden\">\n",
       "    <div class=\"pane-header\">\n",
       "      <span id=\"result17d7372a-title\" class=\"pane-header-title\">Title</span>\n",
       "      <span onclick=\"closePanel(this)\" paneName=\"result17d7372a\" class=\"close clickable\">&times;</span>\n",
       "    </div>\n",
       "    <iframe class=\"fileview\" id=\"result17d7372a-body\"></iframe>\n",
       "  </div>\n",
       "</div>\n"
      ],
      "text/plain": [
       "<IPython.core.display.HTML object>"
      ]
     },
     "metadata": {},
     "output_type": "display_data"
    },
    {
     "name": "stdout",
     "output_type": "stream",
     "text": [
      "\n"
     ]
    },
    {
     "data": {
      "text/html": [
       "<b> > to track results use the .show() or .logs() methods  or <a href=\"https://dashboard.default-tenant.app.cto-office.iguazio-cd1.com/mlprojects/dask-xgboost-test-guyl/jobs/monitor/bc295600cb734d71a69d406f87efb8e9/overview\" target=\"_blank\">click here</a> to open in UI</b>"
      ],
      "text/plain": [
       "<IPython.core.display.HTML object>"
      ]
     },
     "metadata": {},
     "output_type": "display_data"
    },
    {
     "name": "stdout",
     "output_type": "stream",
     "text": [
      "> 2023-02-12 22:38:29,539 [info] run executed, status=completed\n"
     ]
    }
   ],
   "source": [
    "# Run with Dask:\n",
    "with_dask_run = train_function.run(\n",
    "    name=\"with-dask\",\n",
    "    params={\n",
    "        \"data_path\": os.path.abspath(DATA_PATH),\n",
    "        \"dask_function\": \"db://\" + dask_function.uri,\n",
    "    },\n",
    ")\n",
    "\n",
    "# Store results:\n",
    "with_dask_time = with_dask_run.status.results['time']\n",
    "with_dask_score = with_dask_run.status.results['accuracy_score']"
   ]
  },
  {
   "cell_type": "markdown",
   "id": "263b5019",
   "metadata": {
    "pycharm": {
     "name": "#%% md\n"
    }
   },
   "source": [
    "## 6. Compare Runtimes\n",
    "\n",
    "1. Print a summary message.\n",
    "2. Verify that:\n",
    "  * The dask run took less time (only in stronger machines). \n",
    "  * The accuracy score is almost equal between the runs."
   ]
  },
  {
   "cell_type": "code",
   "execution_count": 15,
   "id": "3e893f4f",
   "metadata": {
    "pycharm": {
     "name": "#%%\n"
    }
   },
   "outputs": [],
   "source": [
    "# Delete the generated data:\n",
    "shutil.rmtree(os.path.abspath(DATA_PATH))\n",
    "\n",
    "# Delete the MLRun project:\n",
    "mlrun.get_run_db().delete_project(name=project.name, deletion_strategy=\"cascading\")"
   ]
  },
  {
   "cell_type": "code",
   "execution_count": 16,
   "id": "87037197",
   "metadata": {
    "pycharm": {
     "name": "#%%\n"
    }
   },
   "outputs": [
    {
     "name": "stdout",
     "output_type": "stream",
     "text": [
      "Without dask:\n",
      "\t0.33 Seconds\n",
      "\tAccuracy: 0.8818181818181818\n",
      "With dask:\n",
      "\t2.87 Seconds\n",
      "\tAccuracy: 0.8878787878787879\n",
      "\n"
     ]
    }
   ],
   "source": [
    "# Print the test's collected results:\n",
    "print(\n",
    "    f\"Without dask:\\n\" \n",
    "    f\"\\t{'%.2f' % without_dask_time} Seconds\\n\"\n",
    "    f\"\\tAccuracy: {without_dask_score}\"\n",
    ")\n",
    "print(\n",
    "    f\"With dask:\\n\"\n",
    "    f\"\\t{'%.2f' % with_dask_time} Seconds\\n\"\n",
    "    f\"\\tAccuracy: {with_dask_score}\\n\"\n",
    ")\n",
    "\n",
    "# Verification: (Only possible to test on a stronger machine as the test requires big data)\n",
    "# assert with_dask_time < without_dask_time\n",
    "# assert np.isclose(without_dask_score, with_dask_score, atol=0.1)"
   ]
  },
  {
   "cell_type": "code",
   "execution_count": null,
   "id": "dc8cde67",
   "metadata": {
    "pycharm": {
     "name": "#%%\n"
    }
   },
   "outputs": [],
   "source": []
  }
 ],
 "metadata": {
  "kernelspec": {
   "display_name": "Python 3",
   "language": "python",
   "name": "python3"
  },
  "language_info": {
   "codemirror_mode": {
    "name": "ipython",
    "version": 3
   },
   "file_extension": ".py",
   "mimetype": "text/x-python",
   "name": "python",
   "nbconvert_exporter": "python",
   "pygments_lexer": "ipython3",
   "version": "3.7.6"
  }
 },
 "nbformat": 4,
 "nbformat_minor": 5
}
