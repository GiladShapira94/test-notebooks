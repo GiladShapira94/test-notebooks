{
 "cells": [
  {
   "cell_type": "markdown",
   "id": "f9200cef",
   "metadata": {},
   "source": [
    "# Serving Runtime Remote Artifacts"
   ]
  },
  {
   "cell_type": "code",
   "execution_count": 1,
   "id": "3915d2ae",
   "metadata": {},
   "outputs": [
    {
     "name": "stdout",
     "output_type": "stream",
     "text": [
      "> 2023-01-11 08:48:30,346 [info] loaded project remote-artifacts from MLRun DB\n"
     ]
    }
   ],
   "source": [
    "import mlrun\n",
    "import os\n",
    "\n",
    "# Initialize the MLRun project object\n",
    "project = mlrun.get_or_create_project('remote-artifacts',user_project=True,context='./')\n",
    "\n",
    "# Required credentials :\n",
    "# AWS_ACCESS_KEY_ID, AWS_SECRET_ACCESS_KEY, GOOGLE_APPLICATION_CREDENTIALS, S3_BUCKET\n",
    "AWS_ACCESS_KEY_ID = os.environ.get('AWS_ACCESS_KEY_ID', None)\n",
    "AWS_SECRET_ACCESS_KEY = os.environ.get('AWS_SECRET_ACCESS_KEY', None)\n",
    "GOOGLE_APPLICATION_CREDENTIALS = os.environ.get('GOOGLE_APPLICATION_CREDENTIALS', None)\n",
    "assert AWS_ACCESS_KEY_ID != None and AWS_SECRET_ACCESS_KEY != None and GOOGLE_APPLICATION_CREDENTIALS != None, \"please provide credentials\"\n",
    "\n",
    "secrets = {'AWS_ACCESS_KEY_ID': AWS_ACCESS_KEY_ID,\n",
    "           'AWS_SECRET_ACCESS_KEY':AWS_SECRET_ACCESS_KEY,\n",
    "           'GOOGLE_APPLICATION_CREDENTIALS': GOOGLE_APPLICATION_CREDENTIALS}\n",
    "\n",
    "project.set_secrets(secrets=secrets, provider='kubernetes')\n",
    "\n",
    "S3_BUCKET = os.environ.get('S3_BUCKET', 'testbucket-igz')\n",
    "\n",
    "project.artifact_path = os.path.join('s3://', S3_BUCKET + '/remote-artifacts/')"
   ]
  },
  {
   "cell_type": "code",
   "execution_count": 2,
   "id": "910b6ba4",
   "metadata": {},
   "outputs": [
    {
     "name": "stdout",
     "output_type": "stream",
     "text": [
      "> 2023-01-11 08:48:30,443 [warning] it is recommended to use k8s secret (specify secret_name), specifying the aws_access_key/aws_secret_key directly is unsafe\n"
     ]
    },
    {
     "data": {
      "text/plain": [
       "<mlrun.runtimes.serving.ServingRuntime at 0x7f7412cad710>"
      ]
     },
     "execution_count": 2,
     "metadata": {},
     "output_type": "execute_result"
    }
   ],
   "source": [
    "# Setting dummy serving function\n",
    "project.set_function(mlrun.new_function(name='serving', kind='serving',image='mlrun/mlrun', command = []))\n",
    "project.get_function('serving').spec.build.commands = ['pip install xgboost==1.6.2']\n",
    "project.get_function('serving').set_envs(secrets)\n",
    "# adding our remote source model\n",
    "model_artifact = project.get_artifact('log-transactions-log_transactions_clf_model')\n",
    "model_path = model_artifact.get_target_path() + model_artifact.model_file\n",
    "\n",
    "project.get_function('serving').add_model(key = 'my_model',\n",
    "                                          class_name = \"mlrun.frameworks.xgboost.XGBoostModelServer\",\n",
    "                                          model_path = model_path)\n",
    "\n",
    "# mounting\n",
    "project.get_function('serving').apply(mlrun.auto_mount())\n",
    "project.get_function('serving').apply(mlrun.platforms.mount_s3())"
   ]
  },
  {
   "cell_type": "code",
   "execution_count": 3,
   "id": "4f8ff00d",
   "metadata": {},
   "outputs": [
    {
     "name": "stdout",
     "output_type": "stream",
     "text": [
      "> 2023-01-11 08:48:30,460 [warning] run command, file or code were not specified\n",
      "> 2023-01-11 08:48:41,358 [info] model my_model was loaded\n",
      "> 2023-01-11 08:48:41,359 [info] Loaded ['my_model']\n"
     ]
    }
   ],
   "source": [
    "server = project.get_function('serving').to_mock_server()"
   ]
  },
  {
   "cell_type": "code",
   "execution_count": 4,
   "id": "fab2ae61",
   "metadata": {},
   "outputs": [
    {
     "data": {
      "text/plain": [
       "{'id': '43c218b09bed42ad8a6372c078e76100',\n",
       " 'model_name': 'my_model',\n",
       " 'outputs': [2, 1, 0]}"
      ]
     },
     "execution_count": 4,
     "metadata": {},
     "output_type": "execute_result"
    }
   ],
   "source": [
    "from sklearn.datasets import load_iris\n",
    "from sklearn.model_selection import train_test_split\n",
    "\n",
    "X,y = load_iris(return_X_y=True)\n",
    "\n",
    "X_train, X_test, y_train, y_test = train_test_split(X, y, train_size=0.8, test_size=0.2, random_state=0)\n",
    "\n",
    "server.test(body={'inputs': X_test.tolist()[:3]})"
   ]
  },
  {
   "cell_type": "code",
   "execution_count": 5,
   "id": "0276e949",
   "metadata": {},
   "outputs": [
    {
     "name": "stdout",
     "output_type": "stream",
     "text": [
      "> 2023-01-11 08:48:41,418 [info] Starting remote function deploy\n",
      "2023-01-11 08:48:41  (info) Deploying function\n",
      "2023-01-11 08:48:41  (info) Building\n",
      "2023-01-11 08:48:41  (info) Staging files and preparing base images\n",
      "2023-01-11 08:48:41  (info) Building processor image\n",
      "2023-01-11 08:49:57  (info) Build complete\n",
      "2023-01-11 08:50:51  (info) Function deploy complete\n",
      "> 2023-01-11 08:50:52,679 [info] successfully deployed function: {'internal_invocation_urls': ['nuclio-remote-artifacts-admin-serving.default-tenant.svc.cluster.local:8080'], 'external_invocation_urls': ['remote-artifacts-admin-serving-remote-artifacts-admin.default-tenant.app.vmdev94.lab.iguazeng.com/']}\n"
     ]
    },
    {
     "data": {
      "text/plain": [
       "DeployStatus(state=ready, outputs={'endpoint': 'http://remote-artifacts-admin-serving-remote-artifacts-admin.default-tenant.app.vmdev94.lab.iguazeng.com/', 'name': 'remote-artifacts-admin-serving'})"
      ]
     },
     "execution_count": 5,
     "metadata": {},
     "output_type": "execute_result"
    }
   ],
   "source": [
    "project.deploy_function('serving')"
   ]
  },
  {
   "cell_type": "code",
   "execution_count": 6,
   "id": "57bb897e",
   "metadata": {},
   "outputs": [
    {
     "name": "stdout",
     "output_type": "stream",
     "text": [
      "> 2023-01-11 08:50:57,779 [info] invoking function: {'method': 'POST', 'path': 'http://nuclio-remote-artifacts-admin-serving.default-tenant.svc.cluster.local:8080/v2/models/my_model/infer'}\n"
     ]
    },
    {
     "data": {
      "text/plain": [
       "{'id': '17fb8bc1-d7d6-483a-8bbc-2ac51c9bfceb',\n",
       " 'model_name': 'my_model',\n",
       " 'outputs': [2, 1, 0]}"
      ]
     },
     "execution_count": 6,
     "metadata": {},
     "output_type": "execute_result"
    }
   ],
   "source": [
    "import time\n",
    "time.sleep(5)\n",
    "project.get_function('serving').invoke('/v2/models/my_model/infer', body={'inputs': X_test.tolist()[:3]})"
   ]
  },
  {
   "cell_type": "markdown",
   "id": "ecfe9a8f",
   "metadata": {},
   "source": [
    "# Pipeline remote access"
   ]
  },
  {
   "cell_type": "code",
   "execution_count": 7,
   "id": "e6c38e3c",
   "metadata": {},
   "outputs": [
    {
     "name": "stdout",
     "output_type": "stream",
     "text": [
      "Overwriting workflow.py\n"
     ]
    }
   ],
   "source": [
    "%%writefile workflow.py\n",
    "import mlrun\n",
    "from kfp import dsl\n",
    "import os\n",
    "\n",
    "@dsl.pipeline(name=\"Mask Detection Pipeline\")\n",
    "\n",
    "def kfpipeline():\n",
    "    # Get our project object:\n",
    "    project = mlrun.get_current_project()\n",
    "    \n",
    "    project.get_function('log_transactions').apply(mlrun.platforms.set_env_variables({'GOOGLE_APPLICATION_CREDENTIALS':\n",
    "                                                                                      os.environ.get('GOOGLE_APPLICATION_CREDENTIALS')}))\n",
    "    project.get_function('log_transactions').apply(mlrun.platforms.mount_s3())\n",
    "    project.get_function('log_transactions').apply(mlrun.auto_mount())\n",
    "    run = project.run_function('log_transactions')\n",
    "    \n",
    "    model_artifact = project.get_artifact('log-transactions-log_transactions_clf_model')\n",
    "    model_path = model_artifact.get_target_path() + model_artifact.model_file\n",
    "    \n",
    "    project.get_function('serving').add_model(key = 'my_model',\n",
    "                                          class_name = \"mlrun.frameworks.xgboost.XGBoostModelServer\",\n",
    "                                          model_path = model_path)\n",
    "    \n",
    "    project.deploy_function('serving').after(run)\n",
    "    return"
   ]
  },
  {
   "cell_type": "code",
   "execution_count": 8,
   "id": "a64060ef",
   "metadata": {},
   "outputs": [
    {
     "data": {
      "text/plain": [
       "<mlrun.projects.project.MlrunProject at 0x7f7409728090>"
      ]
     },
     "execution_count": 8,
     "metadata": {},
     "output_type": "execute_result"
    }
   ],
   "source": [
    "# Register the workflow file:\n",
    "workflow_name = \"iris_workflow\"\n",
    "project.set_workflow(workflow_name, \"workflow.py\")\n",
    "\n",
    "# Save the project:\n",
    "project.save()"
   ]
  },
  {
   "cell_type": "code",
   "execution_count": 9,
   "id": "90b61bda",
   "metadata": {},
   "outputs": [
    {
     "data": {
      "text/html": [
       "Pipeline started in project remote-artifacts-admin id=276510b776524fc7bda371d099b88b22<div><a href=\"https://dashboard.default-tenant.app.vmdev94.lab.iguazeng.com/mlprojects/remote-artifacts-admin/jobs\" target=\"_blank\">click here to view progress</a></div>"
      ],
      "text/plain": [
       "<IPython.core.display.HTML object>"
      ]
     },
     "metadata": {},
     "output_type": "display_data"
    },
    {
     "name": "stdout",
     "output_type": "stream",
     "text": [
      "> 2023-01-11 08:51:19,773 [warning] it is recommended to use k8s secret (specify secret_name), specifying the aws_access_key/aws_secret_key directly is unsafe\n",
      "> 2023-01-11 08:51:19,780 [info] starting run log-transactions-log_transactions uid=94fcc9a4974349cf9deedcf46c42e56c DB=http://mlrun-api:8080\n",
      "> 2023-01-11 08:51:24,003 [info] encoded dataframe shape : (150, 4)\n",
      "> 2023-01-11 08:51:25,046 [info] logged model : <class 'xgboost.sklearn.XGBClassifier'>\n",
      "> 2023-01-11 08:51:33,650 [info] logged dataset shape (150, 5)\n"
     ]
    },
    {
     "data": {
      "text/html": [
       "<style>\n",
       ".dictlist {\n",
       "  background-color: #4EC64B;\n",
       "  text-align: center;\n",
       "  margin: 4px;\n",
       "  border-radius: 3px; padding: 0px 3px 1px 3px; display: inline-block;}\n",
       ".artifact {\n",
       "  cursor: pointer;\n",
       "  background-color: #4EC64B;\n",
       "  text-align: left;\n",
       "  margin: 4px; border-radius: 3px; padding: 0px 3px 1px 3px; display: inline-block;\n",
       "}\n",
       "div.block.hidden {\n",
       "  display: none;\n",
       "}\n",
       ".clickable {\n",
       "  cursor: pointer;\n",
       "}\n",
       ".ellipsis {\n",
       "  display: inline-block;\n",
       "  max-width: 60px;\n",
       "  white-space: nowrap;\n",
       "  overflow: hidden;\n",
       "  text-overflow: ellipsis;\n",
       "}\n",
       ".master-wrapper {\n",
       "  display: flex;\n",
       "  flex-flow: row nowrap;\n",
       "  justify-content: flex-start;\n",
       "  align-items: stretch;\n",
       "}\n",
       ".master-tbl {\n",
       "  flex: 3\n",
       "}\n",
       ".master-wrapper > div {\n",
       "  margin: 4px;\n",
       "  padding: 10px;\n",
       "}\n",
       "iframe.fileview {\n",
       "  border: 0 none;\n",
       "  height: 100%;\n",
       "  width: 100%;\n",
       "  white-space: pre-wrap;\n",
       "}\n",
       ".pane-header-title {\n",
       "  width: 80%;\n",
       "  font-weight: 500;\n",
       "}\n",
       ".pane-header {\n",
       "  line-height: 1;\n",
       "  background-color: #4EC64B;\n",
       "  padding: 3px;\n",
       "}\n",
       ".pane-header .close {\n",
       "  font-size: 20px;\n",
       "  font-weight: 700;\n",
       "  float: right;\n",
       "  margin-top: -5px;\n",
       "}\n",
       ".master-wrapper .right-pane {\n",
       "  border: 1px inset silver;\n",
       "  width: 40%;\n",
       "  min-height: 300px;\n",
       "  flex: 3\n",
       "  min-width: 500px;\n",
       "}\n",
       ".master-wrapper * {\n",
       "  box-sizing: border-box;\n",
       "}\n",
       "</style><script>\n",
       "function copyToClipboard(fld) {\n",
       "    if (document.queryCommandSupported && document.queryCommandSupported('copy')) {\n",
       "        var textarea = document.createElement('textarea');\n",
       "        textarea.textContent = fld.innerHTML;\n",
       "        textarea.style.position = 'fixed';\n",
       "        document.body.appendChild(textarea);\n",
       "        textarea.select();\n",
       "\n",
       "        try {\n",
       "            return document.execCommand('copy'); // Security exception may be thrown by some browsers.\n",
       "        } catch (ex) {\n",
       "\n",
       "        } finally {\n",
       "            document.body.removeChild(textarea);\n",
       "        }\n",
       "    }\n",
       "}\n",
       "function expandPanel(el) {\n",
       "  const panelName = \"#\" + el.getAttribute('paneName');\n",
       "  console.log(el.title);\n",
       "\n",
       "  document.querySelector(panelName + \"-title\").innerHTML = el.title\n",
       "  iframe = document.querySelector(panelName + \"-body\");\n",
       "\n",
       "  const tblcss = `<style> body { font-family: Arial, Helvetica, sans-serif;}\n",
       "    #csv { margin-bottom: 15px; }\n",
       "    #csv table { border-collapse: collapse;}\n",
       "    #csv table td { padding: 4px 8px; border: 1px solid silver;} </style>`;\n",
       "\n",
       "  function csvToHtmlTable(str) {\n",
       "    return '<div id=\"csv\"><table><tr><td>' +  str.replace(/[\\n\\r]+$/g, '').replace(/[\\n\\r]+/g, '</td></tr><tr><td>')\n",
       "      .replace(/,/g, '</td><td>') + '</td></tr></table></div>';\n",
       "  }\n",
       "\n",
       "  function reqListener () {\n",
       "    if (el.title.endsWith(\".csv\")) {\n",
       "      iframe.setAttribute(\"srcdoc\", tblcss + csvToHtmlTable(this.responseText));\n",
       "    } else {\n",
       "      iframe.setAttribute(\"srcdoc\", this.responseText);\n",
       "    }\n",
       "    console.log(this.responseText);\n",
       "  }\n",
       "\n",
       "  const oReq = new XMLHttpRequest();\n",
       "  oReq.addEventListener(\"load\", reqListener);\n",
       "  oReq.open(\"GET\", el.title);\n",
       "  oReq.send();\n",
       "\n",
       "\n",
       "  //iframe.src = el.title;\n",
       "  const resultPane = document.querySelector(panelName + \"-pane\");\n",
       "  if (resultPane.classList.contains(\"hidden\")) {\n",
       "    resultPane.classList.remove(\"hidden\");\n",
       "  }\n",
       "}\n",
       "function closePanel(el) {\n",
       "  const panelName = \"#\" + el.getAttribute('paneName')\n",
       "  const resultPane = document.querySelector(panelName + \"-pane\");\n",
       "  if (!resultPane.classList.contains(\"hidden\")) {\n",
       "    resultPane.classList.add(\"hidden\");\n",
       "  }\n",
       "}\n",
       "\n",
       "</script>\n",
       "<div class=\"master-wrapper\">\n",
       "  <div class=\"block master-tbl\"><div>\n",
       "<style scoped>\n",
       "    .dataframe tbody tr th:only-of-type {\n",
       "        vertical-align: middle;\n",
       "    }\n",
       "\n",
       "    .dataframe tbody tr th {\n",
       "        vertical-align: top;\n",
       "    }\n",
       "\n",
       "    .dataframe thead th {\n",
       "        text-align: right;\n",
       "    }\n",
       "</style>\n",
       "<table border=\"1\" class=\"dataframe\">\n",
       "  <thead>\n",
       "    <tr style=\"text-align: right;\">\n",
       "      <th>project</th>\n",
       "      <th>uid</th>\n",
       "      <th>iter</th>\n",
       "      <th>start</th>\n",
       "      <th>state</th>\n",
       "      <th>name</th>\n",
       "      <th>labels</th>\n",
       "      <th>inputs</th>\n",
       "      <th>parameters</th>\n",
       "      <th>results</th>\n",
       "      <th>artifacts</th>\n",
       "    </tr>\n",
       "  </thead>\n",
       "  <tbody>\n",
       "    <tr>\n",
       "      <td>remote-artifacts-admin</td>\n",
       "      <td><div title=\"94fcc9a4974349cf9deedcf46c42e56c\"><a href=\"https://dashboard.default-tenant.app.vmdev94.lab.iguazeng.com/mlprojects/remote-artifacts-admin/jobs/monitor/94fcc9a4974349cf9deedcf46c42e56c/overview\" target=\"_blank\" >...6c42e56c</a></div></td>\n",
       "      <td>0</td>\n",
       "      <td>Jan 11 08:51:19</td>\n",
       "      <td>completed</td>\n",
       "      <td>log-transactions-log_transactions</td>\n",
       "      <td><div class=\"dictlist\">workflow=276510b776524fc7bda371d099b88b22</div><div class=\"dictlist\">v3io_user=admin</div><div class=\"dictlist\">kind=</div><div class=\"dictlist\">owner=admin</div><div class=\"dictlist\">host=jupyter-6479d4cd8c-rnxrj</div></td>\n",
       "      <td></td>\n",
       "      <td></td>\n",
       "      <td></td>\n",
       "      <td><div title=\"s3://testbucket-igz/remote-artifacts/log-transactions-log_transactions/0/encoded_iris-s3.csv\">encoded_iris-s3</div><div title=\"s3://testbucket-igz/remote-artifacts/log-transactions-log_transactions/0/clf_model/\">clf_model</div><div title=\"s3://testbucket-igz/remote-artifacts/\">my_project</div><div title=\"s3://testbucket-igz/remote-artifacts/log-transactions-log_transactions/0/iris_dataset-s3.csv\">iris_dataset-s3</div></td>\n",
       "    </tr>\n",
       "  </tbody>\n",
       "</table>\n",
       "</div></div>\n",
       "  <div id=\"resulta98ed7f6-pane\" class=\"right-pane block hidden\">\n",
       "    <div class=\"pane-header\">\n",
       "      <span id=\"resulta98ed7f6-title\" class=\"pane-header-title\">Title</span>\n",
       "      <span onclick=\"closePanel(this)\" paneName=\"resulta98ed7f6\" class=\"close clickable\">&times;</span>\n",
       "    </div>\n",
       "    <iframe class=\"fileview\" id=\"resulta98ed7f6-body\"></iframe>\n",
       "  </div>\n",
       "</div>\n"
      ],
      "text/plain": [
       "<IPython.core.display.HTML object>"
      ]
     },
     "metadata": {},
     "output_type": "display_data"
    },
    {
     "name": "stdout",
     "output_type": "stream",
     "text": [
      "\n"
     ]
    },
    {
     "data": {
      "text/html": [
       "<b> > to track results use the .show() or .logs() methods  or <a href=\"https://dashboard.default-tenant.app.vmdev94.lab.iguazeng.com/mlprojects/remote-artifacts-admin/jobs/monitor/94fcc9a4974349cf9deedcf46c42e56c/overview\" target=\"_blank\">click here</a> to open in UI</b>"
      ],
      "text/plain": [
       "<IPython.core.display.HTML object>"
      ]
     },
     "metadata": {},
     "output_type": "display_data"
    },
    {
     "name": "stdout",
     "output_type": "stream",
     "text": [
      "> 2023-01-11 08:51:33,784 [info] run executed, status=completed\n",
      "> 2023-01-11 08:51:33,817 [info] Starting remote function deploy\n",
      "2023-01-11 08:51:35  (info) Deploying function\n",
      "2023-01-11 08:51:35  (info) Building\n",
      "2023-01-11 08:51:40  (info) Staging files and preparing base images\n",
      "2023-01-11 08:51:40  (info) Building processor image\n",
      "2023-01-11 08:53:00  (info) Build complete\n",
      "2023-01-11 08:53:14  (info) Function deploy complete\n",
      "> 2023-01-11 08:53:14,946 [info] successfully deployed function: {'internal_invocation_urls': ['nuclio-remote-artifacts-admin-serving.default-tenant.svc.cluster.local:8080'], 'external_invocation_urls': ['remote-artifacts-admin-serving-remote-artifacts-admin.default-tenant.app.vmdev94.lab.iguazeng.com/']}\n"
     ]
    },
    {
     "data": {
      "text/html": [
       "<h2>Run Results</h2><h3>[info] pipeline run finished, state=Succeeded</h3><br>click the hyper links below to see detailed results<br><table border=\"1\" class=\"dataframe\">\n",
       "  <thead>\n",
       "    <tr style=\"text-align: right;\">\n",
       "      <th>uid</th>\n",
       "      <th>start</th>\n",
       "      <th>state</th>\n",
       "      <th>name</th>\n",
       "      <th>parameters</th>\n",
       "      <th>results</th>\n",
       "    </tr>\n",
       "  </thead>\n",
       "  <tbody>\n",
       "    <tr>\n",
       "      <td><div title=\"94fcc9a4974349cf9deedcf46c42e56c\"><a href=\"https://dashboard.default-tenant.app.vmdev94.lab.iguazeng.com/mlprojects/remote-artifacts-admin/jobs/monitor/94fcc9a4974349cf9deedcf46c42e56c/overview\" target=\"_blank\" >...6c42e56c</a></div></td>\n",
       "      <td>Jan 11 08:51:19</td>\n",
       "      <td>completed</td>\n",
       "      <td>log-transactions-log_transactions</td>\n",
       "      <td></td>\n",
       "      <td></td>\n",
       "    </tr>\n",
       "  </tbody>\n",
       "</table>"
      ],
      "text/plain": [
       "<IPython.core.display.HTML object>"
      ]
     },
     "metadata": {},
     "output_type": "display_data"
    },
    {
     "name": "stdout",
     "output_type": "stream",
     "text": [
      "> 2023-01-11 08:53:15,020 [info] started run workflow remote-artifacts-admin-iris_workflow with run id = '276510b776524fc7bda371d099b88b22' by local engine\n"
     ]
    },
    {
     "data": {
      "text/plain": [
       "<mlrun.projects.project.MlrunProject at 0x7f7409728090>"
      ]
     },
     "execution_count": 9,
     "metadata": {},
     "output_type": "execute_result"
    }
   ],
   "source": [
    "# Running with S3\n",
    "project.run(name=workflow_name,watch=True, local=True, artifact_path=project.artifact_path)\n",
    "project.save()"
   ]
  },
  {
   "cell_type": "code",
   "execution_count": 10,
   "id": "fd72b133",
   "metadata": {},
   "outputs": [
    {
     "data": {
      "text/html": [
       "Pipeline started in project remote-artifacts-admin id=9a04e1a2584748b48e2e45022104884e<div><a href=\"https://dashboard.default-tenant.app.vmdev94.lab.iguazeng.com/mlprojects/remote-artifacts-admin/jobs\" target=\"_blank\">click here to view progress</a></div>"
      ],
      "text/plain": [
       "<IPython.core.display.HTML object>"
      ]
     },
     "metadata": {},
     "output_type": "display_data"
    },
    {
     "name": "stdout",
     "output_type": "stream",
     "text": [
      "> 2023-01-11 08:53:15,272 [warning] it is recommended to use k8s secret (specify secret_name), specifying the aws_access_key/aws_secret_key directly is unsafe\n",
      "> 2023-01-11 08:53:15,278 [info] starting run log-transactions-log_transactions uid=ee85d3f6e0da4411869e62b8a45696a3 DB=http://mlrun-api:8080\n",
      "> 2023-01-11 08:53:18,018 [info] encoded dataframe shape : (150, 4)\n",
      "> 2023-01-11 08:53:21,579 [info] logged model : <class 'xgboost.sklearn.XGBClassifier'>\n",
      "> 2023-01-11 08:53:24,021 [info] logged dataset shape (150, 5)\n"
     ]
    },
    {
     "data": {
      "text/html": [
       "<style>\n",
       ".dictlist {\n",
       "  background-color: #4EC64B;\n",
       "  text-align: center;\n",
       "  margin: 4px;\n",
       "  border-radius: 3px; padding: 0px 3px 1px 3px; display: inline-block;}\n",
       ".artifact {\n",
       "  cursor: pointer;\n",
       "  background-color: #4EC64B;\n",
       "  text-align: left;\n",
       "  margin: 4px; border-radius: 3px; padding: 0px 3px 1px 3px; display: inline-block;\n",
       "}\n",
       "div.block.hidden {\n",
       "  display: none;\n",
       "}\n",
       ".clickable {\n",
       "  cursor: pointer;\n",
       "}\n",
       ".ellipsis {\n",
       "  display: inline-block;\n",
       "  max-width: 60px;\n",
       "  white-space: nowrap;\n",
       "  overflow: hidden;\n",
       "  text-overflow: ellipsis;\n",
       "}\n",
       ".master-wrapper {\n",
       "  display: flex;\n",
       "  flex-flow: row nowrap;\n",
       "  justify-content: flex-start;\n",
       "  align-items: stretch;\n",
       "}\n",
       ".master-tbl {\n",
       "  flex: 3\n",
       "}\n",
       ".master-wrapper > div {\n",
       "  margin: 4px;\n",
       "  padding: 10px;\n",
       "}\n",
       "iframe.fileview {\n",
       "  border: 0 none;\n",
       "  height: 100%;\n",
       "  width: 100%;\n",
       "  white-space: pre-wrap;\n",
       "}\n",
       ".pane-header-title {\n",
       "  width: 80%;\n",
       "  font-weight: 500;\n",
       "}\n",
       ".pane-header {\n",
       "  line-height: 1;\n",
       "  background-color: #4EC64B;\n",
       "  padding: 3px;\n",
       "}\n",
       ".pane-header .close {\n",
       "  font-size: 20px;\n",
       "  font-weight: 700;\n",
       "  float: right;\n",
       "  margin-top: -5px;\n",
       "}\n",
       ".master-wrapper .right-pane {\n",
       "  border: 1px inset silver;\n",
       "  width: 40%;\n",
       "  min-height: 300px;\n",
       "  flex: 3\n",
       "  min-width: 500px;\n",
       "}\n",
       ".master-wrapper * {\n",
       "  box-sizing: border-box;\n",
       "}\n",
       "</style><script>\n",
       "function copyToClipboard(fld) {\n",
       "    if (document.queryCommandSupported && document.queryCommandSupported('copy')) {\n",
       "        var textarea = document.createElement('textarea');\n",
       "        textarea.textContent = fld.innerHTML;\n",
       "        textarea.style.position = 'fixed';\n",
       "        document.body.appendChild(textarea);\n",
       "        textarea.select();\n",
       "\n",
       "        try {\n",
       "            return document.execCommand('copy'); // Security exception may be thrown by some browsers.\n",
       "        } catch (ex) {\n",
       "\n",
       "        } finally {\n",
       "            document.body.removeChild(textarea);\n",
       "        }\n",
       "    }\n",
       "}\n",
       "function expandPanel(el) {\n",
       "  const panelName = \"#\" + el.getAttribute('paneName');\n",
       "  console.log(el.title);\n",
       "\n",
       "  document.querySelector(panelName + \"-title\").innerHTML = el.title\n",
       "  iframe = document.querySelector(panelName + \"-body\");\n",
       "\n",
       "  const tblcss = `<style> body { font-family: Arial, Helvetica, sans-serif;}\n",
       "    #csv { margin-bottom: 15px; }\n",
       "    #csv table { border-collapse: collapse;}\n",
       "    #csv table td { padding: 4px 8px; border: 1px solid silver;} </style>`;\n",
       "\n",
       "  function csvToHtmlTable(str) {\n",
       "    return '<div id=\"csv\"><table><tr><td>' +  str.replace(/[\\n\\r]+$/g, '').replace(/[\\n\\r]+/g, '</td></tr><tr><td>')\n",
       "      .replace(/,/g, '</td><td>') + '</td></tr></table></div>';\n",
       "  }\n",
       "\n",
       "  function reqListener () {\n",
       "    if (el.title.endsWith(\".csv\")) {\n",
       "      iframe.setAttribute(\"srcdoc\", tblcss + csvToHtmlTable(this.responseText));\n",
       "    } else {\n",
       "      iframe.setAttribute(\"srcdoc\", this.responseText);\n",
       "    }\n",
       "    console.log(this.responseText);\n",
       "  }\n",
       "\n",
       "  const oReq = new XMLHttpRequest();\n",
       "  oReq.addEventListener(\"load\", reqListener);\n",
       "  oReq.open(\"GET\", el.title);\n",
       "  oReq.send();\n",
       "\n",
       "\n",
       "  //iframe.src = el.title;\n",
       "  const resultPane = document.querySelector(panelName + \"-pane\");\n",
       "  if (resultPane.classList.contains(\"hidden\")) {\n",
       "    resultPane.classList.remove(\"hidden\");\n",
       "  }\n",
       "}\n",
       "function closePanel(el) {\n",
       "  const panelName = \"#\" + el.getAttribute('paneName')\n",
       "  const resultPane = document.querySelector(panelName + \"-pane\");\n",
       "  if (!resultPane.classList.contains(\"hidden\")) {\n",
       "    resultPane.classList.add(\"hidden\");\n",
       "  }\n",
       "}\n",
       "\n",
       "</script>\n",
       "<div class=\"master-wrapper\">\n",
       "  <div class=\"block master-tbl\"><div>\n",
       "<style scoped>\n",
       "    .dataframe tbody tr th:only-of-type {\n",
       "        vertical-align: middle;\n",
       "    }\n",
       "\n",
       "    .dataframe tbody tr th {\n",
       "        vertical-align: top;\n",
       "    }\n",
       "\n",
       "    .dataframe thead th {\n",
       "        text-align: right;\n",
       "    }\n",
       "</style>\n",
       "<table border=\"1\" class=\"dataframe\">\n",
       "  <thead>\n",
       "    <tr style=\"text-align: right;\">\n",
       "      <th>project</th>\n",
       "      <th>uid</th>\n",
       "      <th>iter</th>\n",
       "      <th>start</th>\n",
       "      <th>state</th>\n",
       "      <th>name</th>\n",
       "      <th>labels</th>\n",
       "      <th>inputs</th>\n",
       "      <th>parameters</th>\n",
       "      <th>results</th>\n",
       "      <th>artifacts</th>\n",
       "    </tr>\n",
       "  </thead>\n",
       "  <tbody>\n",
       "    <tr>\n",
       "      <td>remote-artifacts-admin</td>\n",
       "      <td><div title=\"ee85d3f6e0da4411869e62b8a45696a3\"><a href=\"https://dashboard.default-tenant.app.vmdev94.lab.iguazeng.com/mlprojects/remote-artifacts-admin/jobs/monitor/ee85d3f6e0da4411869e62b8a45696a3/overview\" target=\"_blank\" >...a45696a3</a></div></td>\n",
       "      <td>0</td>\n",
       "      <td>Jan 11 08:53:15</td>\n",
       "      <td>completed</td>\n",
       "      <td>log-transactions-log_transactions</td>\n",
       "      <td><div class=\"dictlist\">workflow=9a04e1a2584748b48e2e45022104884e</div><div class=\"dictlist\">v3io_user=admin</div><div class=\"dictlist\">kind=</div><div class=\"dictlist\">owner=admin</div><div class=\"dictlist\">host=jupyter-6479d4cd8c-rnxrj</div></td>\n",
       "      <td></td>\n",
       "      <td></td>\n",
       "      <td></td>\n",
       "      <td><div title=\"gs://testbucket-igz/remote-artifacts/log-transactions-log_transactions/0/encoded_iris-gs.csv\">encoded_iris-gs</div><div title=\"gs://testbucket-igz/remote-artifacts/log-transactions-log_transactions/0/clf_model/\">clf_model</div><div title=\"gs://testbucket-igz/remote-artifacts/\">my_project</div><div title=\"gs://testbucket-igz/remote-artifacts/log-transactions-log_transactions/0/iris_dataset-gs.csv\">iris_dataset-gs</div></td>\n",
       "    </tr>\n",
       "  </tbody>\n",
       "</table>\n",
       "</div></div>\n",
       "  <div id=\"resulteecace9d-pane\" class=\"right-pane block hidden\">\n",
       "    <div class=\"pane-header\">\n",
       "      <span id=\"resulteecace9d-title\" class=\"pane-header-title\">Title</span>\n",
       "      <span onclick=\"closePanel(this)\" paneName=\"resulteecace9d\" class=\"close clickable\">&times;</span>\n",
       "    </div>\n",
       "    <iframe class=\"fileview\" id=\"resulteecace9d-body\"></iframe>\n",
       "  </div>\n",
       "</div>\n"
      ],
      "text/plain": [
       "<IPython.core.display.HTML object>"
      ]
     },
     "metadata": {},
     "output_type": "display_data"
    },
    {
     "name": "stdout",
     "output_type": "stream",
     "text": [
      "\n"
     ]
    },
    {
     "data": {
      "text/html": [
       "<b> > to track results use the .show() or .logs() methods  or <a href=\"https://dashboard.default-tenant.app.vmdev94.lab.iguazeng.com/mlprojects/remote-artifacts-admin/jobs/monitor/ee85d3f6e0da4411869e62b8a45696a3/overview\" target=\"_blank\">click here</a> to open in UI</b>"
      ],
      "text/plain": [
       "<IPython.core.display.HTML object>"
      ]
     },
     "metadata": {},
     "output_type": "display_data"
    },
    {
     "name": "stdout",
     "output_type": "stream",
     "text": [
      "> 2023-01-11 08:53:24,162 [info] run executed, status=completed\n",
      "> 2023-01-11 08:53:24,197 [info] Starting remote function deploy\n",
      "2023-01-11 08:53:24  (info) Deploying function\n",
      "2023-01-11 08:53:24  (info) Building\n",
      "2023-01-11 08:53:24  (info) Staging files and preparing base images\n",
      "2023-01-11 08:53:24  (info) Building processor image\n",
      "2023-01-11 08:54:39  (info) Build complete\n",
      "2023-01-11 08:54:53  (info) Function deploy complete\n",
      "> 2023-01-11 08:54:53,708 [info] successfully deployed function: {'internal_invocation_urls': ['nuclio-remote-artifacts-admin-serving.default-tenant.svc.cluster.local:8080'], 'external_invocation_urls': ['remote-artifacts-admin-serving-remote-artifacts-admin.default-tenant.app.vmdev94.lab.iguazeng.com/']}\n"
     ]
    },
    {
     "data": {
      "text/html": [
       "<h2>Run Results</h2><h3>[info] pipeline run finished, state=Succeeded</h3><br>click the hyper links below to see detailed results<br><table border=\"1\" class=\"dataframe\">\n",
       "  <thead>\n",
       "    <tr style=\"text-align: right;\">\n",
       "      <th>uid</th>\n",
       "      <th>start</th>\n",
       "      <th>state</th>\n",
       "      <th>name</th>\n",
       "      <th>parameters</th>\n",
       "      <th>results</th>\n",
       "    </tr>\n",
       "  </thead>\n",
       "  <tbody>\n",
       "    <tr>\n",
       "      <td><div title=\"ee85d3f6e0da4411869e62b8a45696a3\"><a href=\"https://dashboard.default-tenant.app.vmdev94.lab.iguazeng.com/mlprojects/remote-artifacts-admin/jobs/monitor/ee85d3f6e0da4411869e62b8a45696a3/overview\" target=\"_blank\" >...a45696a3</a></div></td>\n",
       "      <td>Jan 11 08:53:15</td>\n",
       "      <td>completed</td>\n",
       "      <td>log-transactions-log_transactions</td>\n",
       "      <td></td>\n",
       "      <td></td>\n",
       "    </tr>\n",
       "  </tbody>\n",
       "</table>"
      ],
      "text/plain": [
       "<IPython.core.display.HTML object>"
      ]
     },
     "metadata": {},
     "output_type": "display_data"
    },
    {
     "name": "stdout",
     "output_type": "stream",
     "text": [
      "> 2023-01-11 08:54:53,798 [info] started run workflow remote-artifacts-admin-iris_workflow with run id = '9a04e1a2584748b48e2e45022104884e' by local engine\n"
     ]
    },
    {
     "data": {
      "text/plain": [
       "9a04e1a2584748b48e2e45022104884e"
      ]
     },
     "execution_count": 10,
     "metadata": {},
     "output_type": "execute_result"
    }
   ],
   "source": [
    "# Running with GCS\n",
    "project.run(name=workflow_name,watch=True, local=True, artifact_path='gs' + project.artifact_path[2:])"
   ]
  }
 ],
 "metadata": {
  "kernelspec": {
   "display_name": "Python 3",
   "language": "python",
   "name": "python3"
  },
  "language_info": {
   "codemirror_mode": {
    "name": "ipython",
    "version": 3
   },
   "file_extension": ".py",
   "mimetype": "text/x-python",
   "name": "python",
   "nbconvert_exporter": "python",
   "pygments_lexer": "ipython3",
   "version": "3.7.6"
  }
 },
 "nbformat": 4,
 "nbformat_minor": 5
}
