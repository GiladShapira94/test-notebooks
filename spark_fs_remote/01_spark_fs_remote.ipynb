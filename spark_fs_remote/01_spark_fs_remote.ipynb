{
 "cells": [
  {
   "cell_type": "markdown",
   "id": "1f4e3aec",
   "metadata": {},
   "source": [
    "# Feature-store ingestion using spark engine\n",
    "Please make sure required env variables are set - `AWS_ACCESS_KEY_ID`, `AWS_SECRET_ACCESS_KEY` and `GOOGLE_APPLICATION_CREDENTIALS`"
   ]
  },
  {
   "cell_type": "markdown",
   "id": "f039a426",
   "metadata": {},
   "source": [
    "### Pypsark dataframe source & V3IO KV target"
   ]
  },
  {
   "cell_type": "code",
   "execution_count": null,
   "id": "a8e3d75d",
   "metadata": {},
   "outputs": [],
   "source": [
    "import os\n",
    "import mlrun\n",
    "import random\n",
    "import mlrun.feature_store as fs\n",
    "import pandas as pd\n",
    "from pyspark.sql.functions import *\n",
    "from pyspark.sql.types import *\n",
    "from packaging.version import Version\n",
    "\n",
    "if Version(pd.__version__) > Version(\"2.0.0\"):\n",
    "    pd.DataFrame.iteritems = pd.DataFrame.items\n",
    " \n",
    "# Initialize the MLRun project object\n",
    "project = mlrun.get_or_create_project('spark-fs-remote',user_project=True,context='./')\n",
    "\n",
    "# Required credentials :\n",
    "# AWS_ACCESS_KEY_ID, AWS_SECRET_ACCESS_KEY, GOOGLE_APPLICATION_CREDENTIALS, S3_BUCKET\n",
    "AWS_ACCESS_KEY_ID = os.environ.get('AWS_ACCESS_KEY_ID', None)\n",
    "AWS_SECRET_ACCESS_KEY = os.environ.get('AWS_SECRET_ACCESS_KEY', None)\n",
    "GOOGLE_APPLICATION_CREDENTIALS = os.environ.get('GOOGLE_APPLICATION_CREDENTIALS', None)\n",
    "\n",
    "# Setting as env variables\n",
    "os.environ['AWS_ACCESS_KEY_ID'] = AWS_ACCESS_KEY_ID\n",
    "os.environ['AWS_SECRET_ACCESS_KEY'] = AWS_SECRET_ACCESS_KEY\n",
    "os.environ['GOOGLE_APPLICATION_CREDENTIALS'] = GOOGLE_APPLICATION_CREDENTIALS\n",
    "assert AWS_ACCESS_KEY_ID != None and AWS_SECRET_ACCESS_KEY != None and GOOGLE_APPLICATION_CREDENTIALS != None\n",
    "\n",
    "secrets = {'AWS_ACCESS_KEY_ID': AWS_ACCESS_KEY_ID,\n",
    "           'AWS_SECRET_ACCESS_KEY':AWS_SECRET_ACCESS_KEY,\n",
    "           'GOOGLE_APPLICATION_CREDENTIALS': GOOGLE_APPLICATION_CREDENTIALS}\n",
    "\n",
    "project.set_secrets(secrets=secrets, provider='kubernetes')\n",
    "\n",
    "S3_BUCKET = os.environ.get('S3_BUCKET', 'testbucket-igz-temp')\n",
    "\n",
    "project.artifact_path = os.path.join('s3://', S3_BUCKET + '/spark_fs_remote/' + str(random.randint(0,10000)))"
   ]
  },
  {
   "cell_type": "code",
   "execution_count": null,
   "id": "041bf534",
   "metadata": {},
   "outputs": [],
   "source": [
    "# Fetch the transactions dataset from the server\n",
    "dataset_path = 'https://s3.wasabisys.com/iguazio/data/fraud-demo-mlrun-fs-docs/data.csv'\n",
    "transactions_data = pd.read_csv(dataset_path, parse_dates=['timestamp']).sort_values(by='source', axis=0)[:500]\n",
    "transactions_data.to_csv(os.path.join(project.artifact_path, 'transactions_cut.csv'), index=None)"
   ]
  },
  {
   "cell_type": "code",
   "execution_count": null,
   "id": "2877125a",
   "metadata": {},
   "outputs": [],
   "source": [
    "# Creating feature-set\n",
    "transaction_set = fs.FeatureSet('transactions',\n",
    "                                entities=[fs.Entity('source')], \n",
    "                                timestamp_key = 'timestamp', \n",
    "                                engine='spark',\n",
    "                                description=\"transactions feature set\")\n",
    "\n",
    "# setting default targets\n",
    "transaction_set.set_targets(targets=['nosql'], with_defaults=False)"
   ]
  },
  {
   "cell_type": "code",
   "execution_count": null,
   "id": "1052d091",
   "metadata": {},
   "outputs": [],
   "source": [
    "from pyspark.sql import SparkSession\n",
    "\n",
    "# Creating spark dataframe to ingest\n",
    "spark = SparkSession.builder \\\n",
    "                    .master(\"local[1]\") \\\n",
    "                    .appName(\"SparkByExamples.com\") \\\n",
    "                    .getOrCreate()\n",
    "        \n",
    "spark_dataframe = spark.createDataFrame(transactions_data)\n",
    "\n",
    "# Ingesting\n",
    "transaction_set.ingest(spark_dataframe, overwrite=True)"
   ]
  },
  {
   "cell_type": "markdown",
   "id": "6cc25974",
   "metadata": {},
   "source": [
    "### S3 CSV source & target"
   ]
  },
  {
   "cell_type": "code",
   "execution_count": null,
   "id": "a2c6bfac",
   "metadata": {},
   "outputs": [],
   "source": [
    "from mlrun.datastore.sources import CSVSource\n",
    "from mlrun.datastore import CSVTarget\n",
    "\n",
    "user_events_set = fs.FeatureSet(\"events\",\n",
    "                                entities=[fs.Entity(\"source\")],\n",
    "                                timestamp_key='timestamp', \n",
    "                                description=\"user events feature set\",\n",
    "                                engine='spark')\n",
    "\n",
    "s3_filepath = os.path.join(project.artifact_path, 'transactions_cut.csv')\n",
    "s3_target = project.artifact_path\n",
    "\n",
    "user_events_source_s3 = CSVSource(\"user_events\", path=s3_filepath)\n",
    "user_events_target_s3 = CSVTarget(\"user_events\", path=s3_target)\n",
    "\n",
    "user_events_set.set_targets(targets = [user_events_target_s3], with_defaults=False)"
   ]
  },
  {
   "cell_type": "code",
   "execution_count": null,
   "id": "466e4f10",
   "metadata": {},
   "outputs": [],
   "source": [
    "ingestion_df = user_events_set.ingest(source=user_events_source_s3, overwrite=True)"
   ]
  },
  {
   "cell_type": "markdown",
   "id": "467ad52d",
   "metadata": {},
   "source": [
    "### GCS dataframe source & V3IO KV target"
   ]
  },
  {
   "cell_type": "code",
   "execution_count": null,
   "id": "4af5c5b6",
   "metadata": {},
   "outputs": [],
   "source": [
    "from mlrun.datastore.sources import CSVSource\n",
    "from mlrun.datastore import CSVTarget\n",
    "\n",
    "user_events_set = fs.FeatureSet(\"events2\",\n",
    "                                entities=[fs.Entity(\"source\")],\n",
    "                                timestamp_key='timestamp', \n",
    "                                description=\"user events feature set\",\n",
    "                                engine='spark')\n",
    "\n",
    "gs_filepath = os.path.join('gs' + project.artifact_path[2:], 'transactions_cut.csv')\n",
    "gs_target = 'gs' + project.artifact_path[2:]\n",
    "\n",
    "user_events_source_gs = CSVSource(\"user_events\", path=gs_filepath)\n",
    "user_events_target_gs = CSVTarget(\"user_events\", path=gs_target)\n",
    "\n",
    "user_events_set.set_targets(targets = [user_events_target_gs], with_defaults=False)"
   ]
  },
  {
   "cell_type": "markdown",
   "id": "a2016786",
   "metadata": {},
   "source": [
    "# Ingesting Remotely (spark operator)"
   ]
  },
  {
   "cell_type": "code",
   "execution_count": null,
   "id": "c2b52047",
   "metadata": {},
   "outputs": [],
   "source": [
    "# For Spark operator\n",
    "from mlrun.runtimes import Spark3Runtime\n",
    "Spark3Runtime.deploy_default_image()"
   ]
  },
  {
   "cell_type": "code",
   "execution_count": null,
   "id": "84d18741",
   "metadata": {},
   "outputs": [],
   "source": [
    "#mlrun: start-code\n",
    "\n",
    "from pyspark import SparkConf\n",
    "from pyspark.sql import SparkSession\n",
    "import json\n",
    "\n",
    "\n",
    "from mlrun.feature_store.api import ingest\n",
    "def ingest_handler(context):\n",
    "    gcs_auth = json.loads(open(context.get_secret('GOOGLE_APPLICATION_CREDENTIALS'), 'rb').read())\n",
    "    conf = (SparkConf()\n",
    "            .set(\"spark.hadoop.fs.s3a.path.style.access\", True)\n",
    "            .set(\"spark.hadoop.fs.s3a.access.key\", context.get_secret('AWS_ACCESS_KEY_ID'))\n",
    "            .set(\"spark.hadoop.fs.s3a.secret.key\", context.get_secret('AWS_SECRET_ACCESS_KEY'))\n",
    "            .set(\"spark.hadoop.fs.s3a.impl\", \"org.apache.hadoop.fs.s3a.S3AFileSystem\")\n",
    "            .set(\"com.amazonaws.services.s3.enableV4\", True)\n",
    "           )\n",
    "    spark = (\n",
    "        SparkSession.builder.config(conf=conf).appName(\"S3 app\").getOrCreate()\n",
    "    )\n",
    "    \n",
    "    ingest(mlrun_context=context, spark_context=spark)\n",
    "    \n",
    "#mlrun: end-code"
   ]
  },
  {
   "cell_type": "code",
   "execution_count": null,
   "id": "70093cd1",
   "metadata": {},
   "outputs": [],
   "source": [
    "fn = mlrun.code_to_function(name='remote_spark_fs', kind='spark', image='.spark-job-default-image')\n",
    "fn.with_driver_requests(cpu=1, mem=\"700m\")\n",
    "fn.with_driver_limits(cpu=\"1300m\")\n",
    "fn.with_executor_requests(cpu=1, mem=\"512m\")\n",
    "fn.with_executor_limits(cpu=\"1400m\")\n",
    "fn.with_igz_spark()\n",
    "config = fs.RunConfig(function=fn ,local=False, handler=\"ingest_handler\")"
   ]
  },
  {
   "cell_type": "markdown",
   "id": "e4ed4438",
   "metadata": {},
   "source": [
    "### S3"
   ]
  },
  {
   "cell_type": "code",
   "execution_count": null,
   "id": "58876e27",
   "metadata": {},
   "outputs": [],
   "source": [
    "user_events_set = fs.FeatureSet(\"events3\",\n",
    "                                entities=[fs.Entity(\"source\")],\n",
    "                                timestamp_key='timestamp', \n",
    "                                description=\"user events feature set\",\n",
    "                                engine='spark')\n",
    "\n",
    "user_events_set.set_targets(targets = [user_events_target_s3], with_defaults=False)\n",
    "\n",
    "ingestion_df = user_events_set.ingest(source=user_events_source_s3, overwrite=True, run_config=config)"
   ]
  },
  {
   "cell_type": "markdown",
   "id": "e14e63e9",
   "metadata": {},
   "source": [
    "### GCS"
   ]
  },
  {
   "cell_type": "code",
   "execution_count": null,
   "id": "e45582b9",
   "metadata": {},
   "outputs": [],
   "source": [
    "user_events_set = fs.FeatureSet(\"events4\",\n",
    "                                entities=[fs.Entity(\"source\")],\n",
    "                                timestamp_key='timestamp', \n",
    "                                description=\"user events feature set\",\n",
    "                                engine='spark')\n",
    "\n",
    "user_events_set.set_targets(targets = [user_events_target_gs], with_defaults=False)"
   ]
  },
  {
   "cell_type": "markdown",
   "id": "12021f4b",
   "metadata": {},
   "source": [
    "## Cleanup"
   ]
  },
  {
   "cell_type": "code",
   "execution_count": null,
   "id": "15f76f0b",
   "metadata": {},
   "outputs": [],
   "source": [
    "mlrun.get_run_db().delete_project(name=project.name, deletion_strategy='cascade')\n",
    "\n",
    "import shutil\n",
    "for f in os.listdir():\n",
    "    if (not f.endswith('ipynb')) and f != '.test':\n",
    "        if os.path.isfile(f):\n",
    "            os.remove(f)\n",
    "        elif os.path.isdir(f):\n",
    "            shutil.rmtree(f)\n",
    "        else:\n",
    "            raise \"A file that is not a notebook wasn't deleted\""
   ]
  },
  {
   "cell_type": "code",
   "execution_count": null,
   "id": "f7f5df58",
   "metadata": {},
   "outputs": [],
   "source": [
    "import boto3\n",
    "from urllib.parse import urlparse\n",
    "\n",
    "s3 = boto3.resource('s3')\n",
    "bucket = s3.Bucket(urlparse(project.artifact_path).netloc)\n",
    "bucket.objects.filter(Prefix=urlparse(project.artifact_path).path[1:]).delete()"
   ]
  }
 ],
 "metadata": {
  "kernelspec": {
   "display_name": "mlrun-base",
   "language": "python",
   "name": "conda-env-mlrun-base-py"
  },
  "language_info": {
   "codemirror_mode": {
    "name": "ipython",
    "version": 3
   },
   "file_extension": ".py",
   "mimetype": "text/x-python",
   "name": "python",
   "nbconvert_exporter": "python",
   "pygments_lexer": "ipython3",
   "version": "3.9.18"
  }
 },
 "nbformat": 4,
 "nbformat_minor": 5
}
