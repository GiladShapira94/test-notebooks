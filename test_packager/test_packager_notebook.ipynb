{
 "cells": [
  {
   "cell_type": "markdown",
   "id": "ffcec9f4-4f94-478a-ae84-4f9b8fac39aa",
   "metadata": {},
   "source": [
    "# This notebook test full workflow while using MLRun packgers\n",
    "\n",
    "This notebook will test :\n",
    "\n",
    "1. Loging object to MLRun such as: `pd.DataFrame, np.ndarray, str and list`.\n",
    "2. Unpack `pd.DataFrame, np.ndarray, str and list` and compare them to the original values.\n",
    "3. Logging object to MLRun such as: `pd.DataFrame, np.ndarray, string, list` with non default artifact type and file format.\n",
    "4. Unpack outputs from step 3 and validate the expcted values are matched to the original \n",
    "5. Pack Custom packager that pack a zip file path to a zip file\n",
    "6. Unpack Custom packager"
   ]
  },
  {
   "cell_type": "code",
   "execution_count": 1,
   "id": "dfef84de-9f04-4542-8454-9c0eb404c2b2",
   "metadata": {},
   "outputs": [],
   "source": [
    "import mlrun\n",
    "import pandas as pd\n",
    "import numpy as np\n",
    "import os"
   ]
  },
  {
   "cell_type": "code",
   "execution_count": 2,
   "id": "447586c9-80e2-4346-9bf8-21ff1173f476",
   "metadata": {},
   "outputs": [
    {
     "name": "stdout",
     "output_type": "stream",
     "text": [
      "> 2023-07-06 14:20:21,232 [info] Created and saved project: {'name': 'test-pack-gilad', 'from_template': None, 'overwrite': False, 'context': './context', 'save': True}\n",
      "> 2023-07-06 14:20:21,234 [info] Project created successfully: {'project_name': 'test-pack', 'stored_in_db': True}\n"
     ]
    }
   ],
   "source": [
    "project = mlrun.get_or_create_project(\"test-pack\",'./context',user_project=True)"
   ]
  },
  {
   "cell_type": "markdown",
   "id": "bea5e5ae-b4bc-4b51-909c-3bf2abcfc9ab",
   "metadata": {},
   "source": [
    "## 1.  Loging object to MLRun such as: `pd.DataFrame, np.array, string, list`\n",
    "\n",
    "Expcted logging result:\n",
    "* `pd.DataFrame` - as dataset artifact type and default parquet file\n",
    "* `np.nparray` - as artifact artifact type and default npy file\n",
    "* `str` - as a run result \n",
    "* `list` as a run result"
   ]
  },
  {
   "cell_type": "code",
   "execution_count": 3,
   "id": "09102027-a551-4d09-a79e-d6dfeadb6afe",
   "metadata": {},
   "outputs": [
    {
     "name": "stdout",
     "output_type": "stream",
     "text": [
      "Writing ./context/generate-outputs.py\n"
     ]
    }
   ],
   "source": [
    "%%writefile ./context/generate-outputs.py\n",
    "import numpy as np\n",
    "import pandas as pd\n",
    "\n",
    "\n",
    "def generate_outputs():\n",
    "    df_true = pd.DataFrame(\n",
    "        data={\n",
    "            **{f\"column_{i}\": np.arange(0, 1000) for i in range(1, 10)},\n",
    "        },\n",
    "    ).set_index(keys=[\"column_7\", \"column_8\", \"column_9\"])\n",
    "\n",
    "    np_example = np.array(\n",
    "        [[[1, 2, 3], [4, 5, 6], [7, 8, 9]], [[1, 2, 3], [4, 5, 6], [7, 8, 9]]]\n",
    "    )\n",
    "\n",
    "    example_string = \"Example_String\"\n",
    "\n",
    "    example_list = [1, 2, 3, 4, 5, 6, 7, 8, 9, \"A\"]\n",
    "    return df_true, np_example, example_string, example_list\n"
   ]
  },
  {
   "cell_type": "code",
   "execution_count": 4,
   "id": "b3824a47-b223-4525-ba68-d48371c78c4c",
   "metadata": {},
   "outputs": [
    {
     "name": "stdout",
     "output_type": "stream",
     "text": [
      "> 2023-07-06 14:20:21,260 [warning] Failed to add git metadata, ignore if path is not part of a git repo.: {'path': 'context', 'error': '/User/full_example/context'}\n"
     ]
    },
    {
     "data": {
      "text/plain": [
       "<mlrun.runtimes.kubejob.KubejobRuntime at 0x7f4f6ffbaf70>"
      ]
     },
     "execution_count": 4,
     "metadata": {},
     "output_type": "execute_result"
    }
   ],
   "source": [
    "project.set_function(\"./generate-outputs.py\",name='generate-outputs',kind='job',image='mlrun/mlrun',handler='generate_outputs')"
   ]
  },
  {
   "cell_type": "code",
   "execution_count": 5,
   "id": "fece1c16-314d-4bb3-87fe-b8b8d00ac490",
   "metadata": {},
   "outputs": [
    {
     "name": "stdout",
     "output_type": "stream",
     "text": [
      "> 2023-07-06 14:20:21,318 [info] Storing function: {'name': 'generate-outputs-generate-outputs', 'uid': 'df8addace93b4898b507184fbf84ab03', 'db': 'http://mlrun-api:8080'}\n",
      "> 2023-07-06 14:20:21,544 [info] Job is running in the background, pod: generate-outputs-generate-outputs-kksch\n",
      "> 2023-07-06 14:20:27,081 [info] Run execution finished: {'status': 'completed', 'name': 'generate-outputs-generate-outputs'}\n",
      "final state: completed\n"
     ]
    },
    {
     "data": {
      "text/html": [
       "<style>\n",
       ".dictlist {\n",
       "  background-color: #4EC64B;\n",
       "  text-align: center;\n",
       "  margin: 4px;\n",
       "  border-radius: 3px; padding: 0px 3px 1px 3px; display: inline-block;}\n",
       ".artifact {\n",
       "  cursor: pointer;\n",
       "  background-color: #4EC64B;\n",
       "  text-align: left;\n",
       "  margin: 4px; border-radius: 3px; padding: 0px 3px 1px 3px; display: inline-block;\n",
       "}\n",
       "div.block.hidden {\n",
       "  display: none;\n",
       "}\n",
       ".clickable {\n",
       "  cursor: pointer;\n",
       "}\n",
       ".ellipsis {\n",
       "  display: inline-block;\n",
       "  max-width: 60px;\n",
       "  white-space: nowrap;\n",
       "  overflow: hidden;\n",
       "  text-overflow: ellipsis;\n",
       "}\n",
       ".master-wrapper {\n",
       "  display: flex;\n",
       "  flex-flow: row nowrap;\n",
       "  justify-content: flex-start;\n",
       "  align-items: stretch;\n",
       "}\n",
       ".master-tbl {\n",
       "  flex: 3\n",
       "}\n",
       ".master-wrapper > div {\n",
       "  margin: 4px;\n",
       "  padding: 10px;\n",
       "}\n",
       "iframe.fileview {\n",
       "  border: 0 none;\n",
       "  height: 100%;\n",
       "  width: 100%;\n",
       "  white-space: pre-wrap;\n",
       "}\n",
       ".pane-header-title {\n",
       "  width: 80%;\n",
       "  font-weight: 500;\n",
       "}\n",
       ".pane-header {\n",
       "  line-height: 1;\n",
       "  background-color: #4EC64B;\n",
       "  padding: 3px;\n",
       "}\n",
       ".pane-header .close {\n",
       "  font-size: 20px;\n",
       "  font-weight: 700;\n",
       "  float: right;\n",
       "  margin-top: -5px;\n",
       "}\n",
       ".master-wrapper .right-pane {\n",
       "  border: 1px inset silver;\n",
       "  width: 40%;\n",
       "  min-height: 300px;\n",
       "  flex: 3\n",
       "  min-width: 500px;\n",
       "}\n",
       ".master-wrapper * {\n",
       "  box-sizing: border-box;\n",
       "}\n",
       "</style><script>\n",
       "function copyToClipboard(fld) {\n",
       "    if (document.queryCommandSupported && document.queryCommandSupported('copy')) {\n",
       "        var textarea = document.createElement('textarea');\n",
       "        textarea.textContent = fld.innerHTML;\n",
       "        textarea.style.position = 'fixed';\n",
       "        document.body.appendChild(textarea);\n",
       "        textarea.select();\n",
       "\n",
       "        try {\n",
       "            return document.execCommand('copy'); // Security exception may be thrown by some browsers.\n",
       "        } catch (ex) {\n",
       "\n",
       "        } finally {\n",
       "            document.body.removeChild(textarea);\n",
       "        }\n",
       "    }\n",
       "}\n",
       "function expandPanel(el) {\n",
       "  const panelName = \"#\" + el.getAttribute('paneName');\n",
       "  console.log(el.title);\n",
       "\n",
       "  document.querySelector(panelName + \"-title\").innerHTML = el.title\n",
       "  iframe = document.querySelector(panelName + \"-body\");\n",
       "\n",
       "  const tblcss = `<style> body { font-family: Arial, Helvetica, sans-serif;}\n",
       "    #csv { margin-bottom: 15px; }\n",
       "    #csv table { border-collapse: collapse;}\n",
       "    #csv table td { padding: 4px 8px; border: 1px solid silver;} </style>`;\n",
       "\n",
       "  function csvToHtmlTable(str) {\n",
       "    return '<div id=\"csv\"><table><tr><td>' +  str.replace(/[\\n\\r]+$/g, '').replace(/[\\n\\r]+/g, '</td></tr><tr><td>')\n",
       "      .replace(/,/g, '</td><td>') + '</td></tr></table></div>';\n",
       "  }\n",
       "\n",
       "  function reqListener () {\n",
       "    if (el.title.endsWith(\".csv\")) {\n",
       "      iframe.setAttribute(\"srcdoc\", tblcss + csvToHtmlTable(this.responseText));\n",
       "    } else {\n",
       "      iframe.setAttribute(\"srcdoc\", this.responseText);\n",
       "    }\n",
       "    console.log(this.responseText);\n",
       "  }\n",
       "\n",
       "  const oReq = new XMLHttpRequest();\n",
       "  oReq.addEventListener(\"load\", reqListener);\n",
       "  oReq.open(\"GET\", el.title);\n",
       "  oReq.send();\n",
       "\n",
       "\n",
       "  //iframe.src = el.title;\n",
       "  const resultPane = document.querySelector(panelName + \"-pane\");\n",
       "  if (resultPane.classList.contains(\"hidden\")) {\n",
       "    resultPane.classList.remove(\"hidden\");\n",
       "  }\n",
       "}\n",
       "function closePanel(el) {\n",
       "  const panelName = \"#\" + el.getAttribute('paneName')\n",
       "  const resultPane = document.querySelector(panelName + \"-pane\");\n",
       "  if (!resultPane.classList.contains(\"hidden\")) {\n",
       "    resultPane.classList.add(\"hidden\");\n",
       "  }\n",
       "}\n",
       "\n",
       "</script>\n",
       "<div class=\"master-wrapper\">\n",
       "  <div class=\"block master-tbl\"><div>\n",
       "<style scoped>\n",
       "    .dataframe tbody tr th:only-of-type {\n",
       "        vertical-align: middle;\n",
       "    }\n",
       "\n",
       "    .dataframe tbody tr th {\n",
       "        vertical-align: top;\n",
       "    }\n",
       "\n",
       "    .dataframe thead th {\n",
       "        text-align: right;\n",
       "    }\n",
       "</style>\n",
       "<table border=\"1\" class=\"dataframe\">\n",
       "  <thead>\n",
       "    <tr style=\"text-align: right;\">\n",
       "      <th>project</th>\n",
       "      <th>uid</th>\n",
       "      <th>iter</th>\n",
       "      <th>start</th>\n",
       "      <th>state</th>\n",
       "      <th>name</th>\n",
       "      <th>labels</th>\n",
       "      <th>inputs</th>\n",
       "      <th>parameters</th>\n",
       "      <th>results</th>\n",
       "      <th>artifacts</th>\n",
       "    </tr>\n",
       "  </thead>\n",
       "  <tbody>\n",
       "    <tr>\n",
       "      <td>test-pack-gilad</td>\n",
       "      <td><div title=\"df8addace93b4898b507184fbf84ab03\"><a href=\"https://dashboard.default-tenant.app.dev28.lab.iguazeng.com/mlprojects/test-pack-gilad/jobs/monitor/df8addace93b4898b507184fbf84ab03/overview\" target=\"_blank\" >...bf84ab03</a></div></td>\n",
       "      <td>0</td>\n",
       "      <td>Jul 06 14:20:26</td>\n",
       "      <td>completed</td>\n",
       "      <td>generate-outputs-generate-outputs</td>\n",
       "      <td><div class=\"dictlist\">v3io_user=gilad</div><div class=\"dictlist\">kind=job</div><div class=\"dictlist\">owner=gilad</div><div class=\"dictlist\">mlrun/client_version=1.4.0-rc18</div><div class=\"dictlist\">mlrun/client_python_version=3.9.16</div><div class=\"dictlist\">host=generate-outputs-generate-outputs-kksch</div></td>\n",
       "      <td></td>\n",
       "      <td></td>\n",
       "      <td><div class=\"dictlist\">example_string=Example_String</div><div class=\"dictlist\">example_list=[1, 2, 3, 4, 5, 6, 7, 8, 9, 'A']</div></td>\n",
       "      <td><div title=\"v3io:///projects/test-pack-gilad/artifacts/generate-outputs-generate-outputs/0/df.parquet\">df</div><div title=\"v3io:///projects/test-pack-gilad/artifacts/generate-outputs-generate-outputs/0/np_example.npy\">np_example</div></td>\n",
       "    </tr>\n",
       "  </tbody>\n",
       "</table>\n",
       "</div></div>\n",
       "  <div id=\"resultf68b461b-pane\" class=\"right-pane block hidden\">\n",
       "    <div class=\"pane-header\">\n",
       "      <span id=\"resultf68b461b-title\" class=\"pane-header-title\">Title</span>\n",
       "      <span onclick=\"closePanel(this)\" paneName=\"resultf68b461b\" class=\"close clickable\">&times;</span>\n",
       "    </div>\n",
       "    <iframe class=\"fileview\" id=\"resultf68b461b-body\"></iframe>\n",
       "  </div>\n",
       "</div>\n"
      ],
      "text/plain": [
       "<IPython.core.display.HTML object>"
      ]
     },
     "metadata": {},
     "output_type": "display_data"
    },
    {
     "name": "stdout",
     "output_type": "stream",
     "text": [
      "\n"
     ]
    },
    {
     "data": {
      "text/html": [
       "<b> > to track results use the .show() or .logs() methods  or <a href=\"https://dashboard.default-tenant.app.dev28.lab.iguazeng.com/mlprojects/test-pack-gilad/jobs/monitor/df8addace93b4898b507184fbf84ab03/overview\" target=\"_blank\">click here</a> to open in UI</b>"
      ],
      "text/plain": [
       "<IPython.core.display.HTML object>"
      ]
     },
     "metadata": {},
     "output_type": "display_data"
    },
    {
     "name": "stdout",
     "output_type": "stream",
     "text": [
      "> 2023-07-06 14:20:30,088 [info] Run execution finished: {'status': 'completed', 'name': 'generate-outputs-generate-outputs'}\n"
     ]
    }
   ],
   "source": [
    "outputs_run = project.run_function(\"generate-outputs\",returns=[\"df\",\"np_example\",\"example_string\",\"example_list\"])"
   ]
  },
  {
   "cell_type": "markdown",
   "id": "6ad02c19-8b32-465b-baa9-3568b485167c",
   "metadata": {},
   "source": [
    "**Validate Run Result**"
   ]
  },
  {
   "cell_type": "code",
   "execution_count": 6,
   "id": "3815853f-96ca-4768-83af-327f081a020d",
   "metadata": {},
   "outputs": [],
   "source": [
    "df_outputs_run = project.get_store_resource(outputs_run.outputs[\"df\"])\n",
    "assert df_outputs_run.kind == 'dataset'\n",
    "assert df_outputs_run.target_path.endswith(\"parquet\")"
   ]
  },
  {
   "cell_type": "code",
   "execution_count": 7,
   "id": "928f03ea-8609-4b66-a914-5dff7be42038",
   "metadata": {},
   "outputs": [],
   "source": [
    "df_outputs_run = project.get_store_resource(outputs_run.outputs[\"np_example\"])\n",
    "assert df_outputs_run.kind == 'artifact'\n",
    "assert df_outputs_run.target_path.endswith(\"npy\")"
   ]
  },
  {
   "cell_type": "code",
   "execution_count": 8,
   "id": "86a150db-a552-4dc3-809c-17f4beecf1b6",
   "metadata": {},
   "outputs": [],
   "source": [
    "assert outputs_run.outputs[\"example_string\"]=='Example_String'\n",
    "assert outputs_run.outputs[\"example_list\"]==[1, 2, 3, 4, 5, 6, 7, 8, 9, 'A']"
   ]
  },
  {
   "cell_type": "markdown",
   "id": "c0b9299d-949a-4e1c-a0a6-d2c51fde2810",
   "metadata": {},
   "source": [
    "## 2. Unpack `pd.DataFrame, np.ndarray, str and list` and compare them to the original values.\n",
    "\n",
    "Expected result - \n",
    "* run the function without any assertion errors and validate the numpy and pandas are unpacked as expcted "
   ]
  },
  {
   "cell_type": "code",
   "execution_count": 9,
   "id": "dfe624fa-ca46-48d5-b8d4-3b1ecb68ec1e",
   "metadata": {},
   "outputs": [
    {
     "name": "stdout",
     "output_type": "stream",
     "text": [
      "Writing ./context/generate-inputs.py\n"
     ]
    }
   ],
   "source": [
    "%%writefile ./context/generate-inputs.py\n",
    "import numpy as np\n",
    "import pandas as pd\n",
    "\n",
    "\n",
    "def generate_inputs(np_example: np.ndarray, df: pd.DataFrame):\n",
    "    df_true = pd.DataFrame(\n",
    "        data={\n",
    "            **{f\"column_{i}\": np.arange(0, 1000) for i in range(1, 10)},\n",
    "        },\n",
    "    ).set_index(keys=[\"column_7\", \"column_8\", \"column_9\"])\n",
    "\n",
    "    # compare dataframe unpack\n",
    "    assert df_true.compare(df).shape == (0, 0)\n",
    "\n",
    "    # compare dataframe unpack\n",
    "    np_true = np.array(\n",
    "        [[[1, 2, 3], [4, 5, 6], [7, 8, 9]], [[1, 2, 3], [4, 5, 6], [7, 8, 9]]]\n",
    "    )\n",
    "    assert np.array_equal(np_true, np_example)\n",
    "\n",
    "    return \"OK\""
   ]
  },
  {
   "cell_type": "code",
   "execution_count": 10,
   "id": "96324031-15cf-4fc7-8fb1-12358feadbac",
   "metadata": {},
   "outputs": [
    {
     "name": "stdout",
     "output_type": "stream",
     "text": [
      "> 2023-07-06 14:20:30,183 [warning] Failed to add git metadata, ignore if path is not part of a git repo.: {'path': 'context', 'error': '/User/full_example/context'}\n"
     ]
    },
    {
     "data": {
      "text/plain": [
       "<mlrun.runtimes.kubejob.KubejobRuntime at 0x7f4f6ff1fb80>"
      ]
     },
     "execution_count": 10,
     "metadata": {},
     "output_type": "execute_result"
    }
   ],
   "source": [
    "project.set_function(\"./generate-inputs.py\",name='generate-inputs',kind='job',image='mlrun/mlrun',handler='generate_inputs')"
   ]
  },
  {
   "cell_type": "code",
   "execution_count": 11,
   "id": "3d1122b0-e2f5-4159-823e-842e4a985a88",
   "metadata": {},
   "outputs": [],
   "source": [
    "df = outputs_run.outputs[\"df\"]\n",
    "array_np = outputs_run.outputs[\"np_example\"]\n"
   ]
  },
  {
   "cell_type": "code",
   "execution_count": 12,
   "id": "e62d4b69-98a3-4c1a-8112-7353a32725b9",
   "metadata": {},
   "outputs": [
    {
     "name": "stdout",
     "output_type": "stream",
     "text": [
      "> 2023-07-06 14:20:30,237 [info] Storing function: {'name': 'generate-inputs-generate-inputs', 'uid': 'fdf743c2acc948878e6263ab078457a2', 'db': 'http://mlrun-api:8080'}\n",
      "> 2023-07-06 14:20:31,012 [info] Job is running in the background, pod: generate-inputs-generate-inputs-728ss\n",
      "> 2023-07-06 14:20:36,345 [info] downloading v3io:///projects/test-pack-gilad/artifacts/generate-outputs-generate-outputs/0/np_example.npy to local temp file\n",
      "> 2023-07-06 14:20:36,494 [info] Run execution finished: {'status': 'completed', 'name': 'generate-inputs-generate-inputs'}\n",
      "final state: completed\n"
     ]
    },
    {
     "data": {
      "text/html": [
       "<style>\n",
       ".dictlist {\n",
       "  background-color: #4EC64B;\n",
       "  text-align: center;\n",
       "  margin: 4px;\n",
       "  border-radius: 3px; padding: 0px 3px 1px 3px; display: inline-block;}\n",
       ".artifact {\n",
       "  cursor: pointer;\n",
       "  background-color: #4EC64B;\n",
       "  text-align: left;\n",
       "  margin: 4px; border-radius: 3px; padding: 0px 3px 1px 3px; display: inline-block;\n",
       "}\n",
       "div.block.hidden {\n",
       "  display: none;\n",
       "}\n",
       ".clickable {\n",
       "  cursor: pointer;\n",
       "}\n",
       ".ellipsis {\n",
       "  display: inline-block;\n",
       "  max-width: 60px;\n",
       "  white-space: nowrap;\n",
       "  overflow: hidden;\n",
       "  text-overflow: ellipsis;\n",
       "}\n",
       ".master-wrapper {\n",
       "  display: flex;\n",
       "  flex-flow: row nowrap;\n",
       "  justify-content: flex-start;\n",
       "  align-items: stretch;\n",
       "}\n",
       ".master-tbl {\n",
       "  flex: 3\n",
       "}\n",
       ".master-wrapper > div {\n",
       "  margin: 4px;\n",
       "  padding: 10px;\n",
       "}\n",
       "iframe.fileview {\n",
       "  border: 0 none;\n",
       "  height: 100%;\n",
       "  width: 100%;\n",
       "  white-space: pre-wrap;\n",
       "}\n",
       ".pane-header-title {\n",
       "  width: 80%;\n",
       "  font-weight: 500;\n",
       "}\n",
       ".pane-header {\n",
       "  line-height: 1;\n",
       "  background-color: #4EC64B;\n",
       "  padding: 3px;\n",
       "}\n",
       ".pane-header .close {\n",
       "  font-size: 20px;\n",
       "  font-weight: 700;\n",
       "  float: right;\n",
       "  margin-top: -5px;\n",
       "}\n",
       ".master-wrapper .right-pane {\n",
       "  border: 1px inset silver;\n",
       "  width: 40%;\n",
       "  min-height: 300px;\n",
       "  flex: 3\n",
       "  min-width: 500px;\n",
       "}\n",
       ".master-wrapper * {\n",
       "  box-sizing: border-box;\n",
       "}\n",
       "</style><script>\n",
       "function copyToClipboard(fld) {\n",
       "    if (document.queryCommandSupported && document.queryCommandSupported('copy')) {\n",
       "        var textarea = document.createElement('textarea');\n",
       "        textarea.textContent = fld.innerHTML;\n",
       "        textarea.style.position = 'fixed';\n",
       "        document.body.appendChild(textarea);\n",
       "        textarea.select();\n",
       "\n",
       "        try {\n",
       "            return document.execCommand('copy'); // Security exception may be thrown by some browsers.\n",
       "        } catch (ex) {\n",
       "\n",
       "        } finally {\n",
       "            document.body.removeChild(textarea);\n",
       "        }\n",
       "    }\n",
       "}\n",
       "function expandPanel(el) {\n",
       "  const panelName = \"#\" + el.getAttribute('paneName');\n",
       "  console.log(el.title);\n",
       "\n",
       "  document.querySelector(panelName + \"-title\").innerHTML = el.title\n",
       "  iframe = document.querySelector(panelName + \"-body\");\n",
       "\n",
       "  const tblcss = `<style> body { font-family: Arial, Helvetica, sans-serif;}\n",
       "    #csv { margin-bottom: 15px; }\n",
       "    #csv table { border-collapse: collapse;}\n",
       "    #csv table td { padding: 4px 8px; border: 1px solid silver;} </style>`;\n",
       "\n",
       "  function csvToHtmlTable(str) {\n",
       "    return '<div id=\"csv\"><table><tr><td>' +  str.replace(/[\\n\\r]+$/g, '').replace(/[\\n\\r]+/g, '</td></tr><tr><td>')\n",
       "      .replace(/,/g, '</td><td>') + '</td></tr></table></div>';\n",
       "  }\n",
       "\n",
       "  function reqListener () {\n",
       "    if (el.title.endsWith(\".csv\")) {\n",
       "      iframe.setAttribute(\"srcdoc\", tblcss + csvToHtmlTable(this.responseText));\n",
       "    } else {\n",
       "      iframe.setAttribute(\"srcdoc\", this.responseText);\n",
       "    }\n",
       "    console.log(this.responseText);\n",
       "  }\n",
       "\n",
       "  const oReq = new XMLHttpRequest();\n",
       "  oReq.addEventListener(\"load\", reqListener);\n",
       "  oReq.open(\"GET\", el.title);\n",
       "  oReq.send();\n",
       "\n",
       "\n",
       "  //iframe.src = el.title;\n",
       "  const resultPane = document.querySelector(panelName + \"-pane\");\n",
       "  if (resultPane.classList.contains(\"hidden\")) {\n",
       "    resultPane.classList.remove(\"hidden\");\n",
       "  }\n",
       "}\n",
       "function closePanel(el) {\n",
       "  const panelName = \"#\" + el.getAttribute('paneName')\n",
       "  const resultPane = document.querySelector(panelName + \"-pane\");\n",
       "  if (!resultPane.classList.contains(\"hidden\")) {\n",
       "    resultPane.classList.add(\"hidden\");\n",
       "  }\n",
       "}\n",
       "\n",
       "</script>\n",
       "<div class=\"master-wrapper\">\n",
       "  <div class=\"block master-tbl\"><div>\n",
       "<style scoped>\n",
       "    .dataframe tbody tr th:only-of-type {\n",
       "        vertical-align: middle;\n",
       "    }\n",
       "\n",
       "    .dataframe tbody tr th {\n",
       "        vertical-align: top;\n",
       "    }\n",
       "\n",
       "    .dataframe thead th {\n",
       "        text-align: right;\n",
       "    }\n",
       "</style>\n",
       "<table border=\"1\" class=\"dataframe\">\n",
       "  <thead>\n",
       "    <tr style=\"text-align: right;\">\n",
       "      <th>project</th>\n",
       "      <th>uid</th>\n",
       "      <th>iter</th>\n",
       "      <th>start</th>\n",
       "      <th>state</th>\n",
       "      <th>name</th>\n",
       "      <th>labels</th>\n",
       "      <th>inputs</th>\n",
       "      <th>parameters</th>\n",
       "      <th>results</th>\n",
       "      <th>artifacts</th>\n",
       "    </tr>\n",
       "  </thead>\n",
       "  <tbody>\n",
       "    <tr>\n",
       "      <td>test-pack-gilad</td>\n",
       "      <td><div title=\"fdf743c2acc948878e6263ab078457a2\"><a href=\"https://dashboard.default-tenant.app.dev28.lab.iguazeng.com/mlprojects/test-pack-gilad/jobs/monitor/fdf743c2acc948878e6263ab078457a2/overview\" target=\"_blank\" >...078457a2</a></div></td>\n",
       "      <td>0</td>\n",
       "      <td>Jul 06 14:20:35</td>\n",
       "      <td>completed</td>\n",
       "      <td>generate-inputs-generate-inputs</td>\n",
       "      <td><div class=\"dictlist\">v3io_user=gilad</div><div class=\"dictlist\">kind=job</div><div class=\"dictlist\">owner=gilad</div><div class=\"dictlist\">mlrun/client_version=1.4.0-rc18</div><div class=\"dictlist\">mlrun/client_python_version=3.9.16</div><div class=\"dictlist\">host=generate-inputs-generate-inputs-728ss</div></td>\n",
       "      <td><div title=\"store://artifacts/test-pack-gilad/generate-outputs-generate-outputs_df:df8addace93b4898b507184fbf84ab03\">df</div><div title=\"store://artifacts/test-pack-gilad/generate-outputs-generate-outputs_np_example:df8addace93b4898b507184fbf84ab03\">np_example</div></td>\n",
       "      <td></td>\n",
       "      <td><div class=\"dictlist\">state=OK</div></td>\n",
       "      <td></td>\n",
       "    </tr>\n",
       "  </tbody>\n",
       "</table>\n",
       "</div></div>\n",
       "  <div id=\"result17ba977a-pane\" class=\"right-pane block hidden\">\n",
       "    <div class=\"pane-header\">\n",
       "      <span id=\"result17ba977a-title\" class=\"pane-header-title\">Title</span>\n",
       "      <span onclick=\"closePanel(this)\" paneName=\"result17ba977a\" class=\"close clickable\">&times;</span>\n",
       "    </div>\n",
       "    <iframe class=\"fileview\" id=\"result17ba977a-body\"></iframe>\n",
       "  </div>\n",
       "</div>\n"
      ],
      "text/plain": [
       "<IPython.core.display.HTML object>"
      ]
     },
     "metadata": {},
     "output_type": "display_data"
    },
    {
     "name": "stdout",
     "output_type": "stream",
     "text": [
      "\n"
     ]
    },
    {
     "data": {
      "text/html": [
       "<b> > to track results use the .show() or .logs() methods  or <a href=\"https://dashboard.default-tenant.app.dev28.lab.iguazeng.com/mlprojects/test-pack-gilad/jobs/monitor/fdf743c2acc948878e6263ab078457a2/overview\" target=\"_blank\">click here</a> to open in UI</b>"
      ],
      "text/plain": [
       "<IPython.core.display.HTML object>"
      ]
     },
     "metadata": {},
     "output_type": "display_data"
    },
    {
     "name": "stdout",
     "output_type": "stream",
     "text": [
      "> 2023-07-06 14:20:40,136 [info] Run execution finished: {'status': 'completed', 'name': 'generate-inputs-generate-inputs'}\n"
     ]
    }
   ],
   "source": [
    "inputs_run = project.run_function(\"generate-inputs\",inputs={\"df\":df,\"np_example\":array_np},returns=[\"state\"])"
   ]
  },
  {
   "cell_type": "markdown",
   "id": "94fe5456-5149-4ea9-a082-73976fca5933",
   "metadata": {},
   "source": [
    "**Validate Run Result**"
   ]
  },
  {
   "cell_type": "code",
   "execution_count": 13,
   "id": "d162d302-8e82-4228-9190-0c7c2965698b",
   "metadata": {},
   "outputs": [],
   "source": [
    "assert inputs_run.outputs[\"state\"] == \"OK\""
   ]
  },
  {
   "cell_type": "markdown",
   "id": "ebecc8d0-dd44-43c9-ba39-9f0fdc63240f",
   "metadata": {},
   "source": [
    "## 3. Logging object to MLRun such as: `pd.DataFrame, np.ndarray, string, list` with non default artifact type and file format.\n",
    "\n",
    "Excpected output result - \n",
    "\n",
    "* df_pkl as an artifact artifact type and pickle file\n",
    "* df_csv as an artifact artifact type and a csv file\n",
    "* np_csv as an artifact artifact type and a csv file"
   ]
  },
  {
   "cell_type": "code",
   "execution_count": 14,
   "id": "5246b549-b7e7-4ee7-b3bb-d20e57bbc7e1",
   "metadata": {},
   "outputs": [
    {
     "name": "stdout",
     "output_type": "stream",
     "text": [
      "Writing ./context/generate-outputs-non-default.py\n"
     ]
    }
   ],
   "source": [
    "%%writefile ./context/generate-outputs-non-default.py\n",
    "import numpy as np\n",
    "import pandas as pd\n",
    "from numpy import asarray\n",
    "\n",
    "\n",
    "def generate_outputs():\n",
    "    df_true = pd.DataFrame(\n",
    "        data={\n",
    "            **{f\"column_{i}\": np.arange(0, 1000) for i in range(1, 10)},\n",
    "        },\n",
    "    ).set_index(keys=[\"column_7\", \"column_8\", \"column_9\"])\n",
    "\n",
    "    np_example = asarray([[0, 1, 2, 3, 4, 5, 6, 7, 8, 9]])\n",
    "\n",
    "    df_pkl = df_true\n",
    "    df_csv = df_true\n",
    "    np_csv = np_example\n",
    "    return df_pkl, df_csv, np_csv"
   ]
  },
  {
   "cell_type": "code",
   "execution_count": 15,
   "id": "b3c5a542-eb11-427b-a1b3-2b242e694966",
   "metadata": {},
   "outputs": [
    {
     "name": "stdout",
     "output_type": "stream",
     "text": [
      "> 2023-07-06 14:20:40,168 [warning] Failed to add git metadata, ignore if path is not part of a git repo.: {'path': 'context', 'error': '/User/full_example/context'}\n"
     ]
    },
    {
     "data": {
      "text/plain": [
       "<mlrun.runtimes.kubejob.KubejobRuntime at 0x7f5021799a60>"
      ]
     },
     "execution_count": 15,
     "metadata": {},
     "output_type": "execute_result"
    }
   ],
   "source": [
    "project.set_function(\"./generate-outputs-non-default.py\",name='generate-outputs-non-default',kind='job',image='mlrun/mlrun',handler='generate_outputs')"
   ]
  },
  {
   "cell_type": "code",
   "execution_count": 16,
   "id": "5c0be4ae-60d5-4171-9ac0-2d586833a664",
   "metadata": {},
   "outputs": [
    {
     "name": "stdout",
     "output_type": "stream",
     "text": [
      "> 2023-07-06 14:20:40,211 [info] Storing function: {'name': 'generate-outputs-non-default-generate-outputs', 'uid': '1f471a847cf14477883c413d6cfddf14', 'db': 'http://mlrun-api:8080'}\n",
      "> 2023-07-06 14:20:40,604 [info] Job is running in the background, pod: generate-outputs-non-default-generate-outputs-q4ps5\n",
      "> 2023-07-06 14:20:46,106 [info] Run execution finished: {'status': 'completed', 'name': 'generate-outputs-non-default-generate-outputs'}\n",
      "final state: completed\n"
     ]
    },
    {
     "data": {
      "text/html": [
       "<style>\n",
       ".dictlist {\n",
       "  background-color: #4EC64B;\n",
       "  text-align: center;\n",
       "  margin: 4px;\n",
       "  border-radius: 3px; padding: 0px 3px 1px 3px; display: inline-block;}\n",
       ".artifact {\n",
       "  cursor: pointer;\n",
       "  background-color: #4EC64B;\n",
       "  text-align: left;\n",
       "  margin: 4px; border-radius: 3px; padding: 0px 3px 1px 3px; display: inline-block;\n",
       "}\n",
       "div.block.hidden {\n",
       "  display: none;\n",
       "}\n",
       ".clickable {\n",
       "  cursor: pointer;\n",
       "}\n",
       ".ellipsis {\n",
       "  display: inline-block;\n",
       "  max-width: 60px;\n",
       "  white-space: nowrap;\n",
       "  overflow: hidden;\n",
       "  text-overflow: ellipsis;\n",
       "}\n",
       ".master-wrapper {\n",
       "  display: flex;\n",
       "  flex-flow: row nowrap;\n",
       "  justify-content: flex-start;\n",
       "  align-items: stretch;\n",
       "}\n",
       ".master-tbl {\n",
       "  flex: 3\n",
       "}\n",
       ".master-wrapper > div {\n",
       "  margin: 4px;\n",
       "  padding: 10px;\n",
       "}\n",
       "iframe.fileview {\n",
       "  border: 0 none;\n",
       "  height: 100%;\n",
       "  width: 100%;\n",
       "  white-space: pre-wrap;\n",
       "}\n",
       ".pane-header-title {\n",
       "  width: 80%;\n",
       "  font-weight: 500;\n",
       "}\n",
       ".pane-header {\n",
       "  line-height: 1;\n",
       "  background-color: #4EC64B;\n",
       "  padding: 3px;\n",
       "}\n",
       ".pane-header .close {\n",
       "  font-size: 20px;\n",
       "  font-weight: 700;\n",
       "  float: right;\n",
       "  margin-top: -5px;\n",
       "}\n",
       ".master-wrapper .right-pane {\n",
       "  border: 1px inset silver;\n",
       "  width: 40%;\n",
       "  min-height: 300px;\n",
       "  flex: 3\n",
       "  min-width: 500px;\n",
       "}\n",
       ".master-wrapper * {\n",
       "  box-sizing: border-box;\n",
       "}\n",
       "</style><script>\n",
       "function copyToClipboard(fld) {\n",
       "    if (document.queryCommandSupported && document.queryCommandSupported('copy')) {\n",
       "        var textarea = document.createElement('textarea');\n",
       "        textarea.textContent = fld.innerHTML;\n",
       "        textarea.style.position = 'fixed';\n",
       "        document.body.appendChild(textarea);\n",
       "        textarea.select();\n",
       "\n",
       "        try {\n",
       "            return document.execCommand('copy'); // Security exception may be thrown by some browsers.\n",
       "        } catch (ex) {\n",
       "\n",
       "        } finally {\n",
       "            document.body.removeChild(textarea);\n",
       "        }\n",
       "    }\n",
       "}\n",
       "function expandPanel(el) {\n",
       "  const panelName = \"#\" + el.getAttribute('paneName');\n",
       "  console.log(el.title);\n",
       "\n",
       "  document.querySelector(panelName + \"-title\").innerHTML = el.title\n",
       "  iframe = document.querySelector(panelName + \"-body\");\n",
       "\n",
       "  const tblcss = `<style> body { font-family: Arial, Helvetica, sans-serif;}\n",
       "    #csv { margin-bottom: 15px; }\n",
       "    #csv table { border-collapse: collapse;}\n",
       "    #csv table td { padding: 4px 8px; border: 1px solid silver;} </style>`;\n",
       "\n",
       "  function csvToHtmlTable(str) {\n",
       "    return '<div id=\"csv\"><table><tr><td>' +  str.replace(/[\\n\\r]+$/g, '').replace(/[\\n\\r]+/g, '</td></tr><tr><td>')\n",
       "      .replace(/,/g, '</td><td>') + '</td></tr></table></div>';\n",
       "  }\n",
       "\n",
       "  function reqListener () {\n",
       "    if (el.title.endsWith(\".csv\")) {\n",
       "      iframe.setAttribute(\"srcdoc\", tblcss + csvToHtmlTable(this.responseText));\n",
       "    } else {\n",
       "      iframe.setAttribute(\"srcdoc\", this.responseText);\n",
       "    }\n",
       "    console.log(this.responseText);\n",
       "  }\n",
       "\n",
       "  const oReq = new XMLHttpRequest();\n",
       "  oReq.addEventListener(\"load\", reqListener);\n",
       "  oReq.open(\"GET\", el.title);\n",
       "  oReq.send();\n",
       "\n",
       "\n",
       "  //iframe.src = el.title;\n",
       "  const resultPane = document.querySelector(panelName + \"-pane\");\n",
       "  if (resultPane.classList.contains(\"hidden\")) {\n",
       "    resultPane.classList.remove(\"hidden\");\n",
       "  }\n",
       "}\n",
       "function closePanel(el) {\n",
       "  const panelName = \"#\" + el.getAttribute('paneName')\n",
       "  const resultPane = document.querySelector(panelName + \"-pane\");\n",
       "  if (!resultPane.classList.contains(\"hidden\")) {\n",
       "    resultPane.classList.add(\"hidden\");\n",
       "  }\n",
       "}\n",
       "\n",
       "</script>\n",
       "<div class=\"master-wrapper\">\n",
       "  <div class=\"block master-tbl\"><div>\n",
       "<style scoped>\n",
       "    .dataframe tbody tr th:only-of-type {\n",
       "        vertical-align: middle;\n",
       "    }\n",
       "\n",
       "    .dataframe tbody tr th {\n",
       "        vertical-align: top;\n",
       "    }\n",
       "\n",
       "    .dataframe thead th {\n",
       "        text-align: right;\n",
       "    }\n",
       "</style>\n",
       "<table border=\"1\" class=\"dataframe\">\n",
       "  <thead>\n",
       "    <tr style=\"text-align: right;\">\n",
       "      <th>project</th>\n",
       "      <th>uid</th>\n",
       "      <th>iter</th>\n",
       "      <th>start</th>\n",
       "      <th>state</th>\n",
       "      <th>name</th>\n",
       "      <th>labels</th>\n",
       "      <th>inputs</th>\n",
       "      <th>parameters</th>\n",
       "      <th>results</th>\n",
       "      <th>artifacts</th>\n",
       "    </tr>\n",
       "  </thead>\n",
       "  <tbody>\n",
       "    <tr>\n",
       "      <td>test-pack-gilad</td>\n",
       "      <td><div title=\"1f471a847cf14477883c413d6cfddf14\"><a href=\"https://dashboard.default-tenant.app.dev28.lab.iguazeng.com/mlprojects/test-pack-gilad/jobs/monitor/1f471a847cf14477883c413d6cfddf14/overview\" target=\"_blank\" >...6cfddf14</a></div></td>\n",
       "      <td>0</td>\n",
       "      <td>Jul 06 14:20:45</td>\n",
       "      <td>completed</td>\n",
       "      <td>generate-outputs-non-default-generate-outputs</td>\n",
       "      <td><div class=\"dictlist\">v3io_user=gilad</div><div class=\"dictlist\">kind=job</div><div class=\"dictlist\">owner=gilad</div><div class=\"dictlist\">mlrun/client_version=1.4.0-rc18</div><div class=\"dictlist\">mlrun/client_python_version=3.9.16</div><div class=\"dictlist\">host=generate-outputs-non-default-generate-outputs-q4ps5</div></td>\n",
       "      <td></td>\n",
       "      <td></td>\n",
       "      <td></td>\n",
       "      <td><div title=\"v3io:///projects/test-pack-gilad/artifacts/generate-outputs-non-default-generate-outputs/0/df_pkl.pkl\">df_pkl</div><div class=\"artifact\" onclick=\"expandPanel(this)\" paneName=\"result0981d749\" title=\"files/v3io/projects/test-pack-gilad/artifacts/generate-outputs-non-default-generate-outputs/0/df_csv.csv\">df_csv</div><div class=\"artifact\" onclick=\"expandPanel(this)\" paneName=\"result0981d749\" title=\"files/v3io/projects/test-pack-gilad/artifacts/generate-outputs-non-default-generate-outputs/0/np_csv.csv\">np_csv</div></td>\n",
       "    </tr>\n",
       "  </tbody>\n",
       "</table>\n",
       "</div></div>\n",
       "  <div id=\"result0981d749-pane\" class=\"right-pane block hidden\">\n",
       "    <div class=\"pane-header\">\n",
       "      <span id=\"result0981d749-title\" class=\"pane-header-title\">Title</span>\n",
       "      <span onclick=\"closePanel(this)\" paneName=\"result0981d749\" class=\"close clickable\">&times;</span>\n",
       "    </div>\n",
       "    <iframe class=\"fileview\" id=\"result0981d749-body\"></iframe>\n",
       "  </div>\n",
       "</div>\n"
      ],
      "text/plain": [
       "<IPython.core.display.HTML object>"
      ]
     },
     "metadata": {},
     "output_type": "display_data"
    },
    {
     "name": "stdout",
     "output_type": "stream",
     "text": [
      "\n"
     ]
    },
    {
     "data": {
      "text/html": [
       "<b> > to track results use the .show() or .logs() methods  or <a href=\"https://dashboard.default-tenant.app.dev28.lab.iguazeng.com/mlprojects/test-pack-gilad/jobs/monitor/1f471a847cf14477883c413d6cfddf14/overview\" target=\"_blank\">click here</a> to open in UI</b>"
      ],
      "text/plain": [
       "<IPython.core.display.HTML object>"
      ]
     },
     "metadata": {},
     "output_type": "display_data"
    },
    {
     "name": "stdout",
     "output_type": "stream",
     "text": [
      "> 2023-07-06 14:20:49,726 [info] Run execution finished: {'status': 'completed', 'name': 'generate-outputs-non-default-generate-outputs'}\n"
     ]
    }
   ],
   "source": [
    "non_defualt_run = project.run_function('generate-outputs-non-default',returns=[\"df_pkl:object\",\n",
    "                                                                               {\"key\":\"df_csv\",\"artifact_type\":\"file\",\"file_format\":\"csv\"},\n",
    "                                                                               {\"key\":\"np_csv\",\"file_format\":\"csv\"}])"
   ]
  },
  {
   "cell_type": "markdown",
   "id": "2369594b-7818-4b05-9a12-1d7c521e07af",
   "metadata": {},
   "source": [
    "**Validate Run outputs**"
   ]
  },
  {
   "cell_type": "code",
   "execution_count": 17,
   "id": "4bb6414d-d77c-498f-be00-c6f264788b4f",
   "metadata": {},
   "outputs": [],
   "source": [
    "df_pkl_non_defualt_run = project.get_store_resource(non_defualt_run.outputs[\"df_pkl\"])\n",
    "assert df_pkl_non_defualt_run.kind == 'artifact'\n",
    "assert df_pkl_non_defualt_run.target_path.endswith(\"pkl\")"
   ]
  },
  {
   "cell_type": "code",
   "execution_count": 18,
   "id": "255d499e-d3b4-4691-9302-61c33f302304",
   "metadata": {},
   "outputs": [],
   "source": [
    "df_csv_non_defualt_run = project.get_store_resource(non_defualt_run.outputs[\"df_csv\"])\n",
    "assert df_csv_non_defualt_run.kind == 'artifact'\n",
    "assert df_csv_non_defualt_run.target_path.endswith(\"csv\")"
   ]
  },
  {
   "cell_type": "code",
   "execution_count": 19,
   "id": "3986fd83-94b7-4228-8ac1-22851cdf34bc",
   "metadata": {},
   "outputs": [],
   "source": [
    "np_csv_non_defualt_run = project.get_store_resource(non_defualt_run.outputs[\"np_csv\"])\n",
    "assert np_csv_non_defualt_run.kind == 'artifact'\n",
    "assert np_csv_non_defualt_run.target_path.endswith(\"csv\")"
   ]
  },
  {
   "cell_type": "markdown",
   "id": "1c880e54-283d-4c98-bfee-f1095ccfb54e",
   "metadata": {},
   "source": [
    "## 4. Unpack outputs from step 3 and validate the expcted values are matched to the original \n",
    "\n",
    "Excpted result -\n",
    "* run without assertion errors."
   ]
  },
  {
   "cell_type": "code",
   "execution_count": 20,
   "id": "0905e6f5-0754-4f0c-883a-75339ee73187",
   "metadata": {},
   "outputs": [
    {
     "name": "stdout",
     "output_type": "stream",
     "text": [
      "Writing ./context/generate-inputs-non-defaults.py\n"
     ]
    }
   ],
   "source": [
    "%%writefile ./context/generate-inputs-non-defaults.py\n",
    "import numpy as np\n",
    "import pandas as pd\n",
    "from numpy import asarray\n",
    "\n",
    "\n",
    "def generate_inputs(df_pkl: pd.DataFrame, df_csv: pd.DataFrame, np_csv: np.ndarray):\n",
    "    df_true = pd.DataFrame(\n",
    "        data={\n",
    "            **{f\"column_{i}\": np.arange(0, 1000) for i in range(1, 10)},\n",
    "        },\n",
    "    ).set_index(keys=[\"column_7\", \"column_8\", \"column_9\"])\n",
    "    # compare dataframe unpack\n",
    "    assert df_true.compare(df_pkl).shape == (0, 0)\n",
    "    assert df_true.compare(df_csv).shape == (0, 0)\n",
    "    # compare dataframe unpack\n",
    "    np_true = asarray([0, 1, 2, 3, 4, 5, 6, 7, 8, 9])\n",
    "\n",
    "    assert np.array_equal(np_true, np_csv)\n",
    "\n",
    "    return \"OK\"\n"
   ]
  },
  {
   "cell_type": "code",
   "execution_count": 21,
   "id": "37a7a7d9-80d3-4d63-83a4-1bcb48130e75",
   "metadata": {},
   "outputs": [],
   "source": [
    "df_pkl = non_defualt_run.outputs[\"df_pkl\"]\n",
    "df_csv = non_defualt_run.outputs[\"df_csv\"]\n",
    "np_csv = non_defualt_run.outputs[\"np_csv\"]"
   ]
  },
  {
   "cell_type": "code",
   "execution_count": 22,
   "id": "8b08eb6b-0de0-4fa3-bf0c-388fb719958c",
   "metadata": {},
   "outputs": [
    {
     "name": "stdout",
     "output_type": "stream",
     "text": [
      "> 2023-07-06 14:20:49,871 [warning] Failed to add git metadata, ignore if path is not part of a git repo.: {'path': 'context', 'error': '/User/full_example/context'}\n"
     ]
    },
    {
     "data": {
      "text/plain": [
       "<mlrun.runtimes.kubejob.KubejobRuntime at 0x7f4fa6909c40>"
      ]
     },
     "execution_count": 22,
     "metadata": {},
     "output_type": "execute_result"
    }
   ],
   "source": [
    "project.set_function(\"./generate-inputs-non-defaults.py\",name='generate-inputs-non-defaults',kind='job',image='mlrun/mlrun',handler='generate_inputs')"
   ]
  },
  {
   "cell_type": "code",
   "execution_count": 23,
   "id": "12e8cd43-aa8a-4cb8-b91d-048d72442371",
   "metadata": {},
   "outputs": [
    {
     "name": "stdout",
     "output_type": "stream",
     "text": [
      "> 2023-07-06 14:20:49,920 [info] Storing function: {'name': 'generate-inputs-non-defaults-generate-inputs', 'uid': 'a7b7cae614af40f680cd3538d3d62af9', 'db': 'http://mlrun-api:8080'}\n",
      "> 2023-07-06 14:20:50,132 [info] Job is running in the background, pod: generate-inputs-non-defaults-generate-inputs-5jgcm\n",
      "> 2023-07-06 14:20:55,475 [info] downloading v3io:///projects/test-pack-gilad/artifacts/generate-outputs-non-default-generate-outputs/0/df_pkl.pkl to local temp file\n",
      "> 2023-07-06 14:20:55,507 [info] downloading v3io:///projects/test-pack-gilad/artifacts/generate-outputs-non-default-generate-outputs/0/df_csv.csv to local temp file\n",
      "> 2023-07-06 14:20:55,542 [info] downloading v3io:///projects/test-pack-gilad/artifacts/generate-outputs-non-default-generate-outputs/0/np_csv.csv to local temp file\n",
      "> 2023-07-06 14:20:55,652 [info] Run execution finished: {'status': 'completed', 'name': 'generate-inputs-non-defaults-generate-inputs'}\n",
      "final state: completed\n"
     ]
    },
    {
     "data": {
      "text/html": [
       "<style>\n",
       ".dictlist {\n",
       "  background-color: #4EC64B;\n",
       "  text-align: center;\n",
       "  margin: 4px;\n",
       "  border-radius: 3px; padding: 0px 3px 1px 3px; display: inline-block;}\n",
       ".artifact {\n",
       "  cursor: pointer;\n",
       "  background-color: #4EC64B;\n",
       "  text-align: left;\n",
       "  margin: 4px; border-radius: 3px; padding: 0px 3px 1px 3px; display: inline-block;\n",
       "}\n",
       "div.block.hidden {\n",
       "  display: none;\n",
       "}\n",
       ".clickable {\n",
       "  cursor: pointer;\n",
       "}\n",
       ".ellipsis {\n",
       "  display: inline-block;\n",
       "  max-width: 60px;\n",
       "  white-space: nowrap;\n",
       "  overflow: hidden;\n",
       "  text-overflow: ellipsis;\n",
       "}\n",
       ".master-wrapper {\n",
       "  display: flex;\n",
       "  flex-flow: row nowrap;\n",
       "  justify-content: flex-start;\n",
       "  align-items: stretch;\n",
       "}\n",
       ".master-tbl {\n",
       "  flex: 3\n",
       "}\n",
       ".master-wrapper > div {\n",
       "  margin: 4px;\n",
       "  padding: 10px;\n",
       "}\n",
       "iframe.fileview {\n",
       "  border: 0 none;\n",
       "  height: 100%;\n",
       "  width: 100%;\n",
       "  white-space: pre-wrap;\n",
       "}\n",
       ".pane-header-title {\n",
       "  width: 80%;\n",
       "  font-weight: 500;\n",
       "}\n",
       ".pane-header {\n",
       "  line-height: 1;\n",
       "  background-color: #4EC64B;\n",
       "  padding: 3px;\n",
       "}\n",
       ".pane-header .close {\n",
       "  font-size: 20px;\n",
       "  font-weight: 700;\n",
       "  float: right;\n",
       "  margin-top: -5px;\n",
       "}\n",
       ".master-wrapper .right-pane {\n",
       "  border: 1px inset silver;\n",
       "  width: 40%;\n",
       "  min-height: 300px;\n",
       "  flex: 3\n",
       "  min-width: 500px;\n",
       "}\n",
       ".master-wrapper * {\n",
       "  box-sizing: border-box;\n",
       "}\n",
       "</style><script>\n",
       "function copyToClipboard(fld) {\n",
       "    if (document.queryCommandSupported && document.queryCommandSupported('copy')) {\n",
       "        var textarea = document.createElement('textarea');\n",
       "        textarea.textContent = fld.innerHTML;\n",
       "        textarea.style.position = 'fixed';\n",
       "        document.body.appendChild(textarea);\n",
       "        textarea.select();\n",
       "\n",
       "        try {\n",
       "            return document.execCommand('copy'); // Security exception may be thrown by some browsers.\n",
       "        } catch (ex) {\n",
       "\n",
       "        } finally {\n",
       "            document.body.removeChild(textarea);\n",
       "        }\n",
       "    }\n",
       "}\n",
       "function expandPanel(el) {\n",
       "  const panelName = \"#\" + el.getAttribute('paneName');\n",
       "  console.log(el.title);\n",
       "\n",
       "  document.querySelector(panelName + \"-title\").innerHTML = el.title\n",
       "  iframe = document.querySelector(panelName + \"-body\");\n",
       "\n",
       "  const tblcss = `<style> body { font-family: Arial, Helvetica, sans-serif;}\n",
       "    #csv { margin-bottom: 15px; }\n",
       "    #csv table { border-collapse: collapse;}\n",
       "    #csv table td { padding: 4px 8px; border: 1px solid silver;} </style>`;\n",
       "\n",
       "  function csvToHtmlTable(str) {\n",
       "    return '<div id=\"csv\"><table><tr><td>' +  str.replace(/[\\n\\r]+$/g, '').replace(/[\\n\\r]+/g, '</td></tr><tr><td>')\n",
       "      .replace(/,/g, '</td><td>') + '</td></tr></table></div>';\n",
       "  }\n",
       "\n",
       "  function reqListener () {\n",
       "    if (el.title.endsWith(\".csv\")) {\n",
       "      iframe.setAttribute(\"srcdoc\", tblcss + csvToHtmlTable(this.responseText));\n",
       "    } else {\n",
       "      iframe.setAttribute(\"srcdoc\", this.responseText);\n",
       "    }\n",
       "    console.log(this.responseText);\n",
       "  }\n",
       "\n",
       "  const oReq = new XMLHttpRequest();\n",
       "  oReq.addEventListener(\"load\", reqListener);\n",
       "  oReq.open(\"GET\", el.title);\n",
       "  oReq.send();\n",
       "\n",
       "\n",
       "  //iframe.src = el.title;\n",
       "  const resultPane = document.querySelector(panelName + \"-pane\");\n",
       "  if (resultPane.classList.contains(\"hidden\")) {\n",
       "    resultPane.classList.remove(\"hidden\");\n",
       "  }\n",
       "}\n",
       "function closePanel(el) {\n",
       "  const panelName = \"#\" + el.getAttribute('paneName')\n",
       "  const resultPane = document.querySelector(panelName + \"-pane\");\n",
       "  if (!resultPane.classList.contains(\"hidden\")) {\n",
       "    resultPane.classList.add(\"hidden\");\n",
       "  }\n",
       "}\n",
       "\n",
       "</script>\n",
       "<div class=\"master-wrapper\">\n",
       "  <div class=\"block master-tbl\"><div>\n",
       "<style scoped>\n",
       "    .dataframe tbody tr th:only-of-type {\n",
       "        vertical-align: middle;\n",
       "    }\n",
       "\n",
       "    .dataframe tbody tr th {\n",
       "        vertical-align: top;\n",
       "    }\n",
       "\n",
       "    .dataframe thead th {\n",
       "        text-align: right;\n",
       "    }\n",
       "</style>\n",
       "<table border=\"1\" class=\"dataframe\">\n",
       "  <thead>\n",
       "    <tr style=\"text-align: right;\">\n",
       "      <th>project</th>\n",
       "      <th>uid</th>\n",
       "      <th>iter</th>\n",
       "      <th>start</th>\n",
       "      <th>state</th>\n",
       "      <th>name</th>\n",
       "      <th>labels</th>\n",
       "      <th>inputs</th>\n",
       "      <th>parameters</th>\n",
       "      <th>results</th>\n",
       "      <th>artifacts</th>\n",
       "    </tr>\n",
       "  </thead>\n",
       "  <tbody>\n",
       "    <tr>\n",
       "      <td>test-pack-gilad</td>\n",
       "      <td><div title=\"a7b7cae614af40f680cd3538d3d62af9\"><a href=\"https://dashboard.default-tenant.app.dev28.lab.iguazeng.com/mlprojects/test-pack-gilad/jobs/monitor/a7b7cae614af40f680cd3538d3d62af9/overview\" target=\"_blank\" >...d3d62af9</a></div></td>\n",
       "      <td>0</td>\n",
       "      <td>Jul 06 14:20:55</td>\n",
       "      <td>completed</td>\n",
       "      <td>generate-inputs-non-defaults-generate-inputs</td>\n",
       "      <td><div class=\"dictlist\">v3io_user=gilad</div><div class=\"dictlist\">kind=job</div><div class=\"dictlist\">owner=gilad</div><div class=\"dictlist\">mlrun/client_version=1.4.0-rc18</div><div class=\"dictlist\">mlrun/client_python_version=3.9.16</div><div class=\"dictlist\">host=generate-inputs-non-defaults-generate-inputs-5jgcm</div></td>\n",
       "      <td><div title=\"store://artifacts/test-pack-gilad/generate-outputs-non-default-generate-outputs_df_pkl:1f471a847cf14477883c413d6cfddf14\">df_pkl</div><div title=\"store://artifacts/test-pack-gilad/generate-outputs-non-default-generate-outputs_df_csv:1f471a847cf14477883c413d6cfddf14\">df_csv</div><div title=\"store://artifacts/test-pack-gilad/generate-outputs-non-default-generate-outputs_np_csv:1f471a847cf14477883c413d6cfddf14\">np_csv</div></td>\n",
       "      <td></td>\n",
       "      <td><div class=\"dictlist\">state=OK</div></td>\n",
       "      <td></td>\n",
       "    </tr>\n",
       "  </tbody>\n",
       "</table>\n",
       "</div></div>\n",
       "  <div id=\"resultdd45adb2-pane\" class=\"right-pane block hidden\">\n",
       "    <div class=\"pane-header\">\n",
       "      <span id=\"resultdd45adb2-title\" class=\"pane-header-title\">Title</span>\n",
       "      <span onclick=\"closePanel(this)\" paneName=\"resultdd45adb2\" class=\"close clickable\">&times;</span>\n",
       "    </div>\n",
       "    <iframe class=\"fileview\" id=\"resultdd45adb2-body\"></iframe>\n",
       "  </div>\n",
       "</div>\n"
      ],
      "text/plain": [
       "<IPython.core.display.HTML object>"
      ]
     },
     "metadata": {},
     "output_type": "display_data"
    },
    {
     "name": "stdout",
     "output_type": "stream",
     "text": [
      "\n"
     ]
    },
    {
     "data": {
      "text/html": [
       "<b> > to track results use the .show() or .logs() methods  or <a href=\"https://dashboard.default-tenant.app.dev28.lab.iguazeng.com/mlprojects/test-pack-gilad/jobs/monitor/a7b7cae614af40f680cd3538d3d62af9/overview\" target=\"_blank\">click here</a> to open in UI</b>"
      ],
      "text/plain": [
       "<IPython.core.display.HTML object>"
      ]
     },
     "metadata": {},
     "output_type": "display_data"
    },
    {
     "name": "stdout",
     "output_type": "stream",
     "text": [
      "> 2023-07-06 14:21:00,258 [info] Run execution finished: {'status': 'completed', 'name': 'generate-inputs-non-defaults-generate-inputs'}\n"
     ]
    }
   ],
   "source": [
    "inputs_run_non_defualt = project.run_function(\"generate-inputs-non-defaults\",inputs={\"df_pkl\":df_pkl,\"df_csv\":df_csv,\"np_csv\":np_csv},returns=[\"state\"])"
   ]
  },
  {
   "cell_type": "markdown",
   "id": "10bd09be-9286-44c7-a03e-da4e614c5db4",
   "metadata": {
    "tags": []
   },
   "source": [
    "## 5. Pack Custom packager that pack a zip file path to a zip file\n",
    "\n",
    "Expcted result -\n",
    "* to pack a string as an artifact type artifact and as a zip file"
   ]
  },
  {
   "cell_type": "code",
   "execution_count": 24,
   "id": "b24503e2-dbe2-41e9-a186-31b9e9679c48",
   "metadata": {},
   "outputs": [],
   "source": [
    "os.makedirs('./custom_pack/')"
   ]
  },
  {
   "cell_type": "markdown",
   "id": "7d7b696b-f4e2-4f0f-bd7a-3edf77aa4e4f",
   "metadata": {},
   "source": [
    "Writing custome object file"
   ]
  },
  {
   "cell_type": "code",
   "execution_count": 25,
   "id": "3d710c06-0b73-4e74-b8ee-75c223a7b32b",
   "metadata": {},
   "outputs": [
    {
     "name": "stdout",
     "output_type": "stream",
     "text": [
      "Writing ./custom_pack/custom.py\n"
     ]
    }
   ],
   "source": [
    "%%writefile ./custom_pack/custom.py\n",
    "import os\n",
    "import tempfile\n",
    "from typing import Tuple\n",
    "\n",
    "from mlrun import ArtifactType\n",
    "from mlrun.artifacts import Artifact\n",
    "from mlrun.datastore import DataItem\n",
    "from mlrun.errors import MLRunInvalidArgumentError\n",
    "from mlrun.package import DefaultPackager\n",
    "from mlrun.package.utils import DEFAULT_ARCHIVE_FORMAT, ArchiveSupportedFormat\n",
    "\n",
    "\n",
    "class StringPackager(DefaultPackager):\n",
    "    \"\"\"\n",
    "    ``builtins.str`` packager.\n",
    "    \"\"\"\n",
    "\n",
    "    PACKABLE_OBJECT_TYPE = str\n",
    "    DEFAULT_PACKING_ARTIFACT_TYPE = ArtifactType.FILE\n",
    "    DEFAULT_UNPACKING_ARTIFACT_TYPE = ArtifactType.PATH\n",
    "\n",
    "    @classmethod\n",
    "    def pack_file(\n",
    "        cls, obj: str, key: str, archive_format: str = DEFAULT_ARCHIVE_FORMAT\n",
    "    ) -> Tuple[Artifact, dict]:\n",
    "        \"\"\"\n",
    "        Pack a zip value content (pack the file or directory in that path).\n",
    "\n",
    "        :param obj:            The zip object to pack.\n",
    "        :param key:            The key to use for the artifact.\n",
    "        :param archive_format: The archive format to use in case the path is of a directory. Default is zip.\n",
    "\n",
    "        :return: The packed artifact and instructions.\n",
    "        \"\"\"\n",
    "\n",
    "        # Verify the path is of an existing file:\n",
    "\n",
    "        # Proceed by path type (file or directory):\n",
    "        if os.path.isfile(obj):\n",
    "            # Create the artifact:\n",
    "            artifact = Artifact(key=key, src_path=os.path.abspath(obj))\n",
    "            instructions = {\"archive_format\": \"zip\", \"is_directory\": True}\n",
    "        else:\n",
    "            raise MLRunInvalidArgumentError(\n",
    "                f\"The given path is not a file nor a directory: '{obj}'\"\n",
    "            )\n",
    "\n",
    "        return artifact, instructions\n",
    "\n",
    "    @classmethod\n",
    "    def unpack_file(\n",
    "        cls, data_item: DataItem, is_directory: bool = False, archive_format: str = None\n",
    "    ) -> str:\n",
    "        \"\"\"\n",
    "        Unpack a data item representing a path string. If the path is of a file, the file is downloaded to a local\n",
    "        temporary directory and its path is returned. If the path is of a directory, the archive is extracted and the\n",
    "        directory path extracted is returned.\n",
    "\n",
    "        :param data_item:      The data item to unpack.\n",
    "        :param is_directory:   Whether the path should be treated as a file or a directory. Files (even archives like\n",
    "                               zip) won't be extracted.\n",
    "        :param archive_format: The archive format to use in case the path is of a directory. Default is None - will be\n",
    "                               read by the archive file extension.\n",
    "\n",
    "        :return: The unpacked string.\n",
    "        \"\"\"\n",
    "        # Get the file to a local temporary directory:\n",
    "        path = data_item.local()\n",
    "\n",
    "        # Mark the downloaded file for future clear:\n",
    "        cls.add_future_clearing_path(path=path)\n",
    "\n",
    "        # If it's not a directory, return the file path. Otherwise, it should be extracted according to the archive\n",
    "        # format:\n",
    "        if not is_directory:\n",
    "            return path\n",
    "\n",
    "        # Get the archive format by the file extension:\n",
    "        if archive_format is None:\n",
    "            archive_format = ArchiveSupportedFormat.match_format(path=path)\n",
    "        if archive_format is None:\n",
    "            raise MLRunInvalidArgumentError(\n",
    "                f\"Archive format of {data_item.key} ('{''.join(pathlib.Path(path).suffixes)}') is not supported. \"\n",
    "                f\"Supported formats are: {' '.join(ArchiveSupportedFormat.get_all_formats())}\"\n",
    "            )\n",
    "\n",
    "        # Extract the archive:\n",
    "        archiver = ArchiveSupportedFormat.get_format_handler(fmt=archive_format)\n",
    "        directory_path = archiver.extract_archive(\n",
    "            archive_path=path, output_path=os.path.dirname(path)\n",
    "        )\n",
    "\n",
    "        # Mark the extracted content for future clear:\n",
    "        cls.add_future_clearing_path(path=directory_path)\n",
    "\n",
    "        # Return the extracted directory path:\n",
    "        return directory_path"
   ]
  },
  {
   "cell_type": "code",
   "execution_count": 26,
   "id": "d48754ca-7932-46e1-a28f-0e73fd98d29a",
   "metadata": {},
   "outputs": [
    {
     "name": "stdout",
     "output_type": "stream",
     "text": [
      "Writing ./custom_pack/test-custom.py\n"
     ]
    }
   ],
   "source": [
    "%%writefile ./custom_pack/test-custom.py\n",
    "import os\n",
    "import shutil\n",
    "import time\n",
    "\n",
    "from custom import StringPackager\n",
    "\n",
    "\n",
    "def func_custom():\n",
    "    os.makedirs(\"./files/\")\n",
    "    with open(\"./files/test_1.txt\", \"w\") as file:\n",
    "        file.write(\"file1\")\n",
    "        file.close()\n",
    "\n",
    "    with open(\"./files/test_2.txt\", \"w\") as file:\n",
    "        file.write(\"file2\")\n",
    "        file.close()\n",
    "\n",
    "    with open(\"./files/test_3.txt\", \"w\") as file:\n",
    "        file.write(\"file3\")\n",
    "        file.close()\n",
    "\n",
    "    shutil.make_archive(\"test\", \"zip\", \"./files/\")\n",
    "    return \"./test.zip\""
   ]
  },
  {
   "cell_type": "code",
   "execution_count": 27,
   "id": "0d8f68d9-24ba-4cd6-ae49-48c3b429eda6",
   "metadata": {},
   "outputs": [
    {
     "name": "stdout",
     "output_type": "stream",
     "text": [
      "Writing ./custom_pack/test-custom-unpack.py\n"
     ]
    }
   ],
   "source": [
    "%%writefile ./custom_pack/test-custom-unpack.py\n",
    "import os\n",
    "import shutil\n",
    "import time\n",
    "\n",
    "from custom import StringPackager\n",
    "\n",
    "from mlrun import ArtifactType\n",
    "\n",
    "\n",
    "def func_custom(zip_file: str):\n",
    "    print(zip_file)\n",
    "    with open(f\"{zip_file}/test_1.txt\", \"r\") as file:\n",
    "        read = file.read()\n",
    "        assert read == \"file1\"\n",
    "        file.close()\n",
    "\n",
    "    with open(f\"{zip_file}/test_2.txt\", \"r\") as file:\n",
    "        read = file.read()\n",
    "        assert read == \"file2\"\n",
    "        file.close()\n",
    "\n",
    "    with open(f\"{zip_file}/test_3.txt\", \"r\") as file:\n",
    "        read = file.read()\n",
    "        assert read == \"file3\"\n",
    "        file.close()\n",
    "\n",
    "    return \"Completed\""
   ]
  },
  {
   "cell_type": "code",
   "execution_count": 28,
   "id": "ae244f3b-ff51-4bc4-ae85-db01cc848277",
   "metadata": {},
   "outputs": [],
   "source": [
    "project.add_custom_packager(packager=\"custom.StringPackager\",is_mandatory=True)"
   ]
  },
  {
   "cell_type": "code",
   "execution_count": 29,
   "id": "95133763-49a4-4b9d-aded-1248c03eaaae",
   "metadata": {},
   "outputs": [
    {
     "name": "stdout",
     "output_type": "stream",
     "text": [
      "> 2023-07-06 14:21:00,328 [warning] Failed to add git metadata, ignore if path is not part of a git repo.: {'path': './context', 'error': '/User/full_example/context'}\n",
      "> 2023-07-06 14:21:00,339 [warning] Failed to add git metadata, ignore if path is not part of a git repo.: {'path': 'context', 'error': '/User/full_example/context'}\n",
      "> 2023-07-06 14:21:00,382 [warning] Failed to add git metadata, ignore if path is not part of a git repo.: {'path': 'context', 'error': '/User/full_example/context'}\n",
      "> 2023-07-06 14:21:00,395 [warning] Failed to add git metadata, ignore if path is not part of a git repo.: {'path': 'context', 'error': '/User/full_example/context'}\n",
      "> 2023-07-06 14:21:00,409 [warning] Failed to add git metadata, ignore if path is not part of a git repo.: {'path': 'context', 'error': '/User/full_example/context'}\n"
     ]
    }
   ],
   "source": [
    "project.set_source('v3io:///users/gilad/test_packgers/test.zip',pull_at_runtime=True)"
   ]
  },
  {
   "cell_type": "code",
   "execution_count": 30,
   "id": "d8e303fb-542c-4551-8ebe-f4096f55836f",
   "metadata": {},
   "outputs": [
    {
     "data": {
      "text/plain": [
       "<mlrun.projects.project.MlrunProject at 0x7f506908a1f0>"
      ]
     },
     "execution_count": 30,
     "metadata": {},
     "output_type": "execute_result"
    }
   ],
   "source": [
    "project.save()"
   ]
  },
  {
   "cell_type": "code",
   "execution_count": 31,
   "id": "d87602cb-2625-4fcc-9034-a02a6b3d01b0",
   "metadata": {},
   "outputs": [],
   "source": [
    "import shutil"
   ]
  },
  {
   "cell_type": "code",
   "execution_count": 32,
   "id": "2cc079e2-cfa8-4227-80df-c287aae72fef",
   "metadata": {
    "tags": []
   },
   "outputs": [
    {
     "data": {
      "text/plain": [
       "'/User/full_example/test.zip'"
      ]
     },
     "execution_count": 32,
     "metadata": {},
     "output_type": "execute_result"
    }
   ],
   "source": [
    "shutil.make_archive('test','zip','./custom_pack/')"
   ]
  },
  {
   "cell_type": "code",
   "execution_count": 33,
   "id": "8c02be32-e042-4ce8-a1bf-782065f6f4ba",
   "metadata": {},
   "outputs": [],
   "source": [
    "func = project.set_function(\"./test-custom.py\",name=\"test-custom\",kind='job',image='mlrun/mlrun',handler='func_custom',with_repo=True)"
   ]
  },
  {
   "cell_type": "code",
   "execution_count": 34,
   "id": "b36518c5-6f2f-4954-a920-b9dfcbc26dc3",
   "metadata": {},
   "outputs": [
    {
     "name": "stdout",
     "output_type": "stream",
     "text": [
      "> 2023-07-06 14:21:00,744 [info] Storing function: {'name': 'test-custom-func-custom', 'uid': '82330057ed144bf0948c21f1326a3354', 'db': 'http://mlrun-api:8080'}\n",
      "> 2023-07-06 14:21:00,962 [info] Job is running in the background, pod: test-custom-func-custom-4rh6n\n",
      "> 2023-07-06 14:21:05,852 [info] extracting source from v3io:///users/gilad/test_packgers/test.zip to /mlrun/code\n",
      "> 2023-07-06 14:21:06,317 [info] Run execution finished: {'status': 'completed', 'name': 'test-custom-func-custom'}\n",
      "final state: completed\n"
     ]
    },
    {
     "data": {
      "text/html": [
       "<style>\n",
       ".dictlist {\n",
       "  background-color: #4EC64B;\n",
       "  text-align: center;\n",
       "  margin: 4px;\n",
       "  border-radius: 3px; padding: 0px 3px 1px 3px; display: inline-block;}\n",
       ".artifact {\n",
       "  cursor: pointer;\n",
       "  background-color: #4EC64B;\n",
       "  text-align: left;\n",
       "  margin: 4px; border-radius: 3px; padding: 0px 3px 1px 3px; display: inline-block;\n",
       "}\n",
       "div.block.hidden {\n",
       "  display: none;\n",
       "}\n",
       ".clickable {\n",
       "  cursor: pointer;\n",
       "}\n",
       ".ellipsis {\n",
       "  display: inline-block;\n",
       "  max-width: 60px;\n",
       "  white-space: nowrap;\n",
       "  overflow: hidden;\n",
       "  text-overflow: ellipsis;\n",
       "}\n",
       ".master-wrapper {\n",
       "  display: flex;\n",
       "  flex-flow: row nowrap;\n",
       "  justify-content: flex-start;\n",
       "  align-items: stretch;\n",
       "}\n",
       ".master-tbl {\n",
       "  flex: 3\n",
       "}\n",
       ".master-wrapper > div {\n",
       "  margin: 4px;\n",
       "  padding: 10px;\n",
       "}\n",
       "iframe.fileview {\n",
       "  border: 0 none;\n",
       "  height: 100%;\n",
       "  width: 100%;\n",
       "  white-space: pre-wrap;\n",
       "}\n",
       ".pane-header-title {\n",
       "  width: 80%;\n",
       "  font-weight: 500;\n",
       "}\n",
       ".pane-header {\n",
       "  line-height: 1;\n",
       "  background-color: #4EC64B;\n",
       "  padding: 3px;\n",
       "}\n",
       ".pane-header .close {\n",
       "  font-size: 20px;\n",
       "  font-weight: 700;\n",
       "  float: right;\n",
       "  margin-top: -5px;\n",
       "}\n",
       ".master-wrapper .right-pane {\n",
       "  border: 1px inset silver;\n",
       "  width: 40%;\n",
       "  min-height: 300px;\n",
       "  flex: 3\n",
       "  min-width: 500px;\n",
       "}\n",
       ".master-wrapper * {\n",
       "  box-sizing: border-box;\n",
       "}\n",
       "</style><script>\n",
       "function copyToClipboard(fld) {\n",
       "    if (document.queryCommandSupported && document.queryCommandSupported('copy')) {\n",
       "        var textarea = document.createElement('textarea');\n",
       "        textarea.textContent = fld.innerHTML;\n",
       "        textarea.style.position = 'fixed';\n",
       "        document.body.appendChild(textarea);\n",
       "        textarea.select();\n",
       "\n",
       "        try {\n",
       "            return document.execCommand('copy'); // Security exception may be thrown by some browsers.\n",
       "        } catch (ex) {\n",
       "\n",
       "        } finally {\n",
       "            document.body.removeChild(textarea);\n",
       "        }\n",
       "    }\n",
       "}\n",
       "function expandPanel(el) {\n",
       "  const panelName = \"#\" + el.getAttribute('paneName');\n",
       "  console.log(el.title);\n",
       "\n",
       "  document.querySelector(panelName + \"-title\").innerHTML = el.title\n",
       "  iframe = document.querySelector(panelName + \"-body\");\n",
       "\n",
       "  const tblcss = `<style> body { font-family: Arial, Helvetica, sans-serif;}\n",
       "    #csv { margin-bottom: 15px; }\n",
       "    #csv table { border-collapse: collapse;}\n",
       "    #csv table td { padding: 4px 8px; border: 1px solid silver;} </style>`;\n",
       "\n",
       "  function csvToHtmlTable(str) {\n",
       "    return '<div id=\"csv\"><table><tr><td>' +  str.replace(/[\\n\\r]+$/g, '').replace(/[\\n\\r]+/g, '</td></tr><tr><td>')\n",
       "      .replace(/,/g, '</td><td>') + '</td></tr></table></div>';\n",
       "  }\n",
       "\n",
       "  function reqListener () {\n",
       "    if (el.title.endsWith(\".csv\")) {\n",
       "      iframe.setAttribute(\"srcdoc\", tblcss + csvToHtmlTable(this.responseText));\n",
       "    } else {\n",
       "      iframe.setAttribute(\"srcdoc\", this.responseText);\n",
       "    }\n",
       "    console.log(this.responseText);\n",
       "  }\n",
       "\n",
       "  const oReq = new XMLHttpRequest();\n",
       "  oReq.addEventListener(\"load\", reqListener);\n",
       "  oReq.open(\"GET\", el.title);\n",
       "  oReq.send();\n",
       "\n",
       "\n",
       "  //iframe.src = el.title;\n",
       "  const resultPane = document.querySelector(panelName + \"-pane\");\n",
       "  if (resultPane.classList.contains(\"hidden\")) {\n",
       "    resultPane.classList.remove(\"hidden\");\n",
       "  }\n",
       "}\n",
       "function closePanel(el) {\n",
       "  const panelName = \"#\" + el.getAttribute('paneName')\n",
       "  const resultPane = document.querySelector(panelName + \"-pane\");\n",
       "  if (!resultPane.classList.contains(\"hidden\")) {\n",
       "    resultPane.classList.add(\"hidden\");\n",
       "  }\n",
       "}\n",
       "\n",
       "</script>\n",
       "<div class=\"master-wrapper\">\n",
       "  <div class=\"block master-tbl\"><div>\n",
       "<style scoped>\n",
       "    .dataframe tbody tr th:only-of-type {\n",
       "        vertical-align: middle;\n",
       "    }\n",
       "\n",
       "    .dataframe tbody tr th {\n",
       "        vertical-align: top;\n",
       "    }\n",
       "\n",
       "    .dataframe thead th {\n",
       "        text-align: right;\n",
       "    }\n",
       "</style>\n",
       "<table border=\"1\" class=\"dataframe\">\n",
       "  <thead>\n",
       "    <tr style=\"text-align: right;\">\n",
       "      <th>project</th>\n",
       "      <th>uid</th>\n",
       "      <th>iter</th>\n",
       "      <th>start</th>\n",
       "      <th>state</th>\n",
       "      <th>name</th>\n",
       "      <th>labels</th>\n",
       "      <th>inputs</th>\n",
       "      <th>parameters</th>\n",
       "      <th>results</th>\n",
       "      <th>artifacts</th>\n",
       "    </tr>\n",
       "  </thead>\n",
       "  <tbody>\n",
       "    <tr>\n",
       "      <td>test-pack-gilad</td>\n",
       "      <td><div title=\"82330057ed144bf0948c21f1326a3354\"><a href=\"https://dashboard.default-tenant.app.dev28.lab.iguazeng.com/mlprojects/test-pack-gilad/jobs/monitor/82330057ed144bf0948c21f1326a3354/overview\" target=\"_blank\" >...326a3354</a></div></td>\n",
       "      <td>0</td>\n",
       "      <td>Jul 06 14:21:05</td>\n",
       "      <td>completed</td>\n",
       "      <td>test-custom-func-custom</td>\n",
       "      <td><div class=\"dictlist\">v3io_user=gilad</div><div class=\"dictlist\">kind=job</div><div class=\"dictlist\">owner=gilad</div><div class=\"dictlist\">mlrun/client_version=1.4.0-rc18</div><div class=\"dictlist\">mlrun/client_python_version=3.9.16</div><div class=\"dictlist\">host=test-custom-func-custom-4rh6n</div></td>\n",
       "      <td></td>\n",
       "      <td></td>\n",
       "      <td></td>\n",
       "      <td><div title=\"v3io:///projects/test-pack-gilad/artifacts/test-custom-func-custom/0/test_zip.zip\">test_zip</div></td>\n",
       "    </tr>\n",
       "  </tbody>\n",
       "</table>\n",
       "</div></div>\n",
       "  <div id=\"result01f49b0e-pane\" class=\"right-pane block hidden\">\n",
       "    <div class=\"pane-header\">\n",
       "      <span id=\"result01f49b0e-title\" class=\"pane-header-title\">Title</span>\n",
       "      <span onclick=\"closePanel(this)\" paneName=\"result01f49b0e\" class=\"close clickable\">&times;</span>\n",
       "    </div>\n",
       "    <iframe class=\"fileview\" id=\"result01f49b0e-body\"></iframe>\n",
       "  </div>\n",
       "</div>\n"
      ],
      "text/plain": [
       "<IPython.core.display.HTML object>"
      ]
     },
     "metadata": {},
     "output_type": "display_data"
    },
    {
     "name": "stdout",
     "output_type": "stream",
     "text": [
      "\n"
     ]
    },
    {
     "data": {
      "text/html": [
       "<b> > to track results use the .show() or .logs() methods  or <a href=\"https://dashboard.default-tenant.app.dev28.lab.iguazeng.com/mlprojects/test-pack-gilad/jobs/monitor/82330057ed144bf0948c21f1326a3354/overview\" target=\"_blank\">click here</a> to open in UI</b>"
      ],
      "text/plain": [
       "<IPython.core.display.HTML object>"
      ]
     },
     "metadata": {},
     "output_type": "display_data"
    },
    {
     "name": "stdout",
     "output_type": "stream",
     "text": [
      "> 2023-07-06 14:21:10,101 [info] Run execution finished: {'status': 'completed', 'name': 'test-custom-func-custom'}\n"
     ]
    }
   ],
   "source": [
    "test_func = func.run(returns=[\"test_zip:file\"])"
   ]
  },
  {
   "cell_type": "markdown",
   "id": "bf756fff-a3ca-4c1c-b6de-b07b6ca4cb9f",
   "metadata": {
    "tags": []
   },
   "source": [
    "## 6. Unpack Custom packager\n",
    "Expcted result -\n",
    "* unpack the zip file to the temp folder and check the file content and run without assert issue"
   ]
  },
  {
   "cell_type": "code",
   "execution_count": 35,
   "id": "5541e6e7-bdc8-4cd7-b367-93faa67e8f5f",
   "metadata": {
    "tags": []
   },
   "outputs": [],
   "source": [
    "func = project.set_function(\"./test-custom-unpack.py\",name=\"test-custom-unpack\",kind='job',image='mlrun/mlrun',handler='func_custom',with_repo=True)"
   ]
  },
  {
   "cell_type": "code",
   "execution_count": 36,
   "id": "5e4dc9b4-3ca3-40cd-8792-f097eff8182f",
   "metadata": {},
   "outputs": [],
   "source": [
    "input_zip = test_func.outputs[\"test_zip\"]"
   ]
  },
  {
   "cell_type": "code",
   "execution_count": 37,
   "id": "f631ec82-df57-4b32-8d5c-53db09bc6460",
   "metadata": {},
   "outputs": [
    {
     "name": "stdout",
     "output_type": "stream",
     "text": [
      "> 2023-07-06 14:21:10,151 [info] Storing function: {'name': 'test-custom-unpack-func-custom', 'uid': '2ce99f2705ea4104a9f0c1698be78935', 'db': 'http://mlrun-api:8080'}\n",
      "> 2023-07-06 14:21:10,365 [info] Job is running in the background, pod: test-custom-unpack-func-custom-b5d8j\n",
      "> 2023-07-06 14:21:15,260 [info] extracting source from v3io:///users/gilad/test_packgers/test.zip to /mlrun/code\n",
      "final state: completed\n"
     ]
    },
    {
     "data": {
      "text/html": [
       "<style>\n",
       ".dictlist {\n",
       "  background-color: #4EC64B;\n",
       "  text-align: center;\n",
       "  margin: 4px;\n",
       "  border-radius: 3px; padding: 0px 3px 1px 3px; display: inline-block;}\n",
       ".artifact {\n",
       "  cursor: pointer;\n",
       "  background-color: #4EC64B;\n",
       "  text-align: left;\n",
       "  margin: 4px; border-radius: 3px; padding: 0px 3px 1px 3px; display: inline-block;\n",
       "}\n",
       "div.block.hidden {\n",
       "  display: none;\n",
       "}\n",
       ".clickable {\n",
       "  cursor: pointer;\n",
       "}\n",
       ".ellipsis {\n",
       "  display: inline-block;\n",
       "  max-width: 60px;\n",
       "  white-space: nowrap;\n",
       "  overflow: hidden;\n",
       "  text-overflow: ellipsis;\n",
       "}\n",
       ".master-wrapper {\n",
       "  display: flex;\n",
       "  flex-flow: row nowrap;\n",
       "  justify-content: flex-start;\n",
       "  align-items: stretch;\n",
       "}\n",
       ".master-tbl {\n",
       "  flex: 3\n",
       "}\n",
       ".master-wrapper > div {\n",
       "  margin: 4px;\n",
       "  padding: 10px;\n",
       "}\n",
       "iframe.fileview {\n",
       "  border: 0 none;\n",
       "  height: 100%;\n",
       "  width: 100%;\n",
       "  white-space: pre-wrap;\n",
       "}\n",
       ".pane-header-title {\n",
       "  width: 80%;\n",
       "  font-weight: 500;\n",
       "}\n",
       ".pane-header {\n",
       "  line-height: 1;\n",
       "  background-color: #4EC64B;\n",
       "  padding: 3px;\n",
       "}\n",
       ".pane-header .close {\n",
       "  font-size: 20px;\n",
       "  font-weight: 700;\n",
       "  float: right;\n",
       "  margin-top: -5px;\n",
       "}\n",
       ".master-wrapper .right-pane {\n",
       "  border: 1px inset silver;\n",
       "  width: 40%;\n",
       "  min-height: 300px;\n",
       "  flex: 3\n",
       "  min-width: 500px;\n",
       "}\n",
       ".master-wrapper * {\n",
       "  box-sizing: border-box;\n",
       "}\n",
       "</style><script>\n",
       "function copyToClipboard(fld) {\n",
       "    if (document.queryCommandSupported && document.queryCommandSupported('copy')) {\n",
       "        var textarea = document.createElement('textarea');\n",
       "        textarea.textContent = fld.innerHTML;\n",
       "        textarea.style.position = 'fixed';\n",
       "        document.body.appendChild(textarea);\n",
       "        textarea.select();\n",
       "\n",
       "        try {\n",
       "            return document.execCommand('copy'); // Security exception may be thrown by some browsers.\n",
       "        } catch (ex) {\n",
       "\n",
       "        } finally {\n",
       "            document.body.removeChild(textarea);\n",
       "        }\n",
       "    }\n",
       "}\n",
       "function expandPanel(el) {\n",
       "  const panelName = \"#\" + el.getAttribute('paneName');\n",
       "  console.log(el.title);\n",
       "\n",
       "  document.querySelector(panelName + \"-title\").innerHTML = el.title\n",
       "  iframe = document.querySelector(panelName + \"-body\");\n",
       "\n",
       "  const tblcss = `<style> body { font-family: Arial, Helvetica, sans-serif;}\n",
       "    #csv { margin-bottom: 15px; }\n",
       "    #csv table { border-collapse: collapse;}\n",
       "    #csv table td { padding: 4px 8px; border: 1px solid silver;} </style>`;\n",
       "\n",
       "  function csvToHtmlTable(str) {\n",
       "    return '<div id=\"csv\"><table><tr><td>' +  str.replace(/[\\n\\r]+$/g, '').replace(/[\\n\\r]+/g, '</td></tr><tr><td>')\n",
       "      .replace(/,/g, '</td><td>') + '</td></tr></table></div>';\n",
       "  }\n",
       "\n",
       "  function reqListener () {\n",
       "    if (el.title.endsWith(\".csv\")) {\n",
       "      iframe.setAttribute(\"srcdoc\", tblcss + csvToHtmlTable(this.responseText));\n",
       "    } else {\n",
       "      iframe.setAttribute(\"srcdoc\", this.responseText);\n",
       "    }\n",
       "    console.log(this.responseText);\n",
       "  }\n",
       "\n",
       "  const oReq = new XMLHttpRequest();\n",
       "  oReq.addEventListener(\"load\", reqListener);\n",
       "  oReq.open(\"GET\", el.title);\n",
       "  oReq.send();\n",
       "\n",
       "\n",
       "  //iframe.src = el.title;\n",
       "  const resultPane = document.querySelector(panelName + \"-pane\");\n",
       "  if (resultPane.classList.contains(\"hidden\")) {\n",
       "    resultPane.classList.remove(\"hidden\");\n",
       "  }\n",
       "}\n",
       "function closePanel(el) {\n",
       "  const panelName = \"#\" + el.getAttribute('paneName')\n",
       "  const resultPane = document.querySelector(panelName + \"-pane\");\n",
       "  if (!resultPane.classList.contains(\"hidden\")) {\n",
       "    resultPane.classList.add(\"hidden\");\n",
       "  }\n",
       "}\n",
       "\n",
       "</script>\n",
       "<div class=\"master-wrapper\">\n",
       "  <div class=\"block master-tbl\"><div>\n",
       "<style scoped>\n",
       "    .dataframe tbody tr th:only-of-type {\n",
       "        vertical-align: middle;\n",
       "    }\n",
       "\n",
       "    .dataframe tbody tr th {\n",
       "        vertical-align: top;\n",
       "    }\n",
       "\n",
       "    .dataframe thead th {\n",
       "        text-align: right;\n",
       "    }\n",
       "</style>\n",
       "<table border=\"1\" class=\"dataframe\">\n",
       "  <thead>\n",
       "    <tr style=\"text-align: right;\">\n",
       "      <th>project</th>\n",
       "      <th>uid</th>\n",
       "      <th>iter</th>\n",
       "      <th>start</th>\n",
       "      <th>state</th>\n",
       "      <th>name</th>\n",
       "      <th>labels</th>\n",
       "      <th>inputs</th>\n",
       "      <th>parameters</th>\n",
       "      <th>results</th>\n",
       "      <th>artifacts</th>\n",
       "    </tr>\n",
       "  </thead>\n",
       "  <tbody>\n",
       "    <tr>\n",
       "      <td>test-pack-gilad</td>\n",
       "      <td><div title=\"2ce99f2705ea4104a9f0c1698be78935\"><a href=\"https://dashboard.default-tenant.app.dev28.lab.iguazeng.com/mlprojects/test-pack-gilad/jobs/monitor/2ce99f2705ea4104a9f0c1698be78935/overview\" target=\"_blank\" >...8be78935</a></div></td>\n",
       "      <td>0</td>\n",
       "      <td>Jul 06 14:21:15</td>\n",
       "      <td>completed</td>\n",
       "      <td>test-custom-unpack-func-custom</td>\n",
       "      <td><div class=\"dictlist\">v3io_user=gilad</div><div class=\"dictlist\">kind=job</div><div class=\"dictlist\">owner=gilad</div><div class=\"dictlist\">mlrun/client_version=1.4.0-rc18</div><div class=\"dictlist\">mlrun/client_python_version=3.9.16</div><div class=\"dictlist\">host=test-custom-unpack-func-custom-b5d8j</div></td>\n",
       "      <td><div title=\"store://artifacts/test-pack-gilad/test-custom-func-custom_test_zip:82330057ed144bf0948c21f1326a3354\">zip_file</div></td>\n",
       "      <td></td>\n",
       "      <td></td>\n",
       "      <td></td>\n",
       "    </tr>\n",
       "  </tbody>\n",
       "</table>\n",
       "</div></div>\n",
       "  <div id=\"resulta1975ae6-pane\" class=\"right-pane block hidden\">\n",
       "    <div class=\"pane-header\">\n",
       "      <span id=\"resulta1975ae6-title\" class=\"pane-header-title\">Title</span>\n",
       "      <span onclick=\"closePanel(this)\" paneName=\"resulta1975ae6\" class=\"close clickable\">&times;</span>\n",
       "    </div>\n",
       "    <iframe class=\"fileview\" id=\"resulta1975ae6-body\"></iframe>\n",
       "  </div>\n",
       "</div>\n"
      ],
      "text/plain": [
       "<IPython.core.display.HTML object>"
      ]
     },
     "metadata": {},
     "output_type": "display_data"
    },
    {
     "name": "stdout",
     "output_type": "stream",
     "text": [
      "\n"
     ]
    },
    {
     "data": {
      "text/html": [
       "<b> > to track results use the .show() or .logs() methods  or <a href=\"https://dashboard.default-tenant.app.dev28.lab.iguazeng.com/mlprojects/test-pack-gilad/jobs/monitor/2ce99f2705ea4104a9f0c1698be78935/overview\" target=\"_blank\">click here</a> to open in UI</b>"
      ],
      "text/plain": [
       "<IPython.core.display.HTML object>"
      ]
     },
     "metadata": {},
     "output_type": "display_data"
    },
    {
     "name": "stdout",
     "output_type": "stream",
     "text": [
      "> 2023-07-06 14:21:19,520 [info] Run execution finished: {'status': 'completed', 'name': 'test-custom-unpack-func-custom'}\n"
     ]
    },
    {
     "data": {
      "text/plain": [
       "<mlrun.model.RunObject at 0x7f50217a10a0>"
      ]
     },
     "execution_count": 37,
     "metadata": {},
     "output_type": "execute_result"
    }
   ],
   "source": [
    "func.run(inputs={\"zip_file\":input_zip},returns=[\"State\"])"
   ]
  },
  {
   "cell_type": "code",
   "execution_count": 38,
   "id": "cbb31a9b-0780-44fe-9b56-2bf01151aa80",
   "metadata": {},
   "outputs": [],
   "source": [
    "db = mlrun.get_run_db()"
   ]
  },
  {
   "cell_type": "code",
   "execution_count": 39,
   "id": "1750cf1c-058f-47ad-98e1-84e1eaeb2242",
   "metadata": {},
   "outputs": [],
   "source": [
    "db.delete_project(name=project.name,deletion_strategy='cascade')"
   ]
  },
  {
   "cell_type": "code",
   "execution_count": 40,
   "id": "f0a0361a-529a-4851-81cd-c11935f9f044",
   "metadata": {},
   "outputs": [],
   "source": [
    "shutil.rmtree('./context/')"
   ]
  },
  {
   "cell_type": "code",
   "execution_count": 41,
   "id": "40dbc05e-2dc7-44f8-aa43-41d796af1463",
   "metadata": {},
   "outputs": [],
   "source": [
    "shutil.rmtree('./custom_pack/')"
   ]
  },
  {
   "cell_type": "code",
   "execution_count": 42,
   "id": "fd98a3d1-dd8c-4f2a-967c-5fc6519f3a63",
   "metadata": {},
   "outputs": [],
   "source": [
    "os.remove('./test.zip')"
   ]
  }
 ],
 "metadata": {
  "kernelspec": {
   "display_name": "mlrun-extended",
   "language": "python",
   "name": "conda-env-mlrun-extended-py"
  },
  "language_info": {
   "codemirror_mode": {
    "name": "ipython",
    "version": 3
   },
   "file_extension": ".py",
   "mimetype": "text/x-python",
   "name": "python",
   "nbconvert_exporter": "python",
   "pygments_lexer": "ipython3",
   "version": "3.9.16"
  }
 },
 "nbformat": 4,
 "nbformat_minor": 5
}
