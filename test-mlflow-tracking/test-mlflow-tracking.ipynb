{
 "cells": [
  {
   "cell_type": "code",
   "execution_count": 1,
   "id": "1a968d75-13ba-4e7a-886e-f12316cc1ff2",
   "metadata": {},
   "outputs": [],
   "source": [
    "! pip uninstall mlrun -y"
   ]
  },
  {
   "cell_type": "code",
   "execution_count": 2,
   "id": "032641e5-fb5d-43dc-b89c-7fd1fe4596cb",
   "metadata": {
    "scrolled": true,
    "tags": []
   },
   "outputs": [],
   "source": [
    "! pip install mlrun==1.6.0-rc11"
   ]
  },
  {
   "cell_type": "code",
   "execution_count": 3,
   "id": "7837cc32-505b-4129-9641-13d816979780",
   "metadata": {
    "scrolled": true,
    "tags": []
   },
   "outputs": [],
   "source": [
    "! pip install mlflow"
   ]
  },
  {
   "cell_type": "code",
   "execution_count": 4,
   "id": "c5d35479-7453-4ec9-84ee-686d7f779561",
   "metadata": {
    "scrolled": true,
    "tags": []
   },
   "outputs": [],
   "source": [
    "! pip install xgboost"
   ]
  },
  {
   "cell_type": "code",
   "execution_count": null,
   "metadata": {},
   "outputs": [],
   "source": [
    "import re\n",
    "import mlrun"
   ]
  },
  {
   "cell_type": "markdown",
   "id": "56da3227-83ec-443a-81d8-d7aaa2ac9bd1",
   "metadata": {},
   "source": [
    "# MLflow Tracker test notebook"
   ]
  },
  {
   "cell_type": "markdown",
   "id": "9a8db175-51f4-4218-afd1-752cc0e65216",
   "metadata": {
    "tags": []
   },
   "source": [
    "## Xgboost example function"
   ]
  },
  {
   "cell_type": "code",
   "execution_count": 5,
   "id": "44a1e133-954d-47a3-9b0f-6e181fe12ea7",
   "metadata": {},
   "outputs": [
    {
     "name": "stdout",
     "output_type": "stream",
     "text": [
      "Writing training.py\n"
     ]
    }
   ],
   "source": [
    "%%writefile training.py\n",
    "\n",
    "import mlflow\n",
    "import mlflow.xgboost\n",
    "import xgboost as xgb\n",
    "from mlflow import log_metric\n",
    "from sklearn import datasets\n",
    "from sklearn.metrics import accuracy_score, log_loss\n",
    "from sklearn.model_selection import train_test_split\n",
    "\n",
    "def example_xgb_run():\n",
    "    # prepare train and test data\n",
    "    iris = datasets.load_iris()\n",
    "    X = iris.data\n",
    "    y = iris.target\n",
    "    X_train, X_test, y_train, y_test = train_test_split(\n",
    "        X, y, test_size=0.2, random_state=42\n",
    "    )\n",
    "\n",
    "    # enable auto logging\n",
    "    mlflow.xgboost.autolog()\n",
    "\n",
    "    dtrain = xgb.DMatrix(X_train, label=y_train)\n",
    "    dtest = xgb.DMatrix(X_test, label=y_test)\n",
    "\n",
    "    with mlflow.start_run():\n",
    "        # train model\n",
    "        params = {\n",
    "            \"objective\": \"multi:softprob\",\n",
    "            \"num_class\": 3,\n",
    "            \"learning_rate\": 0.3,\n",
    "            \"eval_metric\": \"mlogloss\",\n",
    "            \"colsample_bytree\": 1.0,\n",
    "            \"subsample\": 1.0,\n",
    "            \"seed\": 42,\n",
    "        }\n",
    "        model = xgb.train(params, dtrain, evals=[(dtrain, \"train\")])\n",
    "        \n",
    "        # evaluate model\n",
    "        y_proba = model.predict(dtest)\n",
    "        y_pred = y_proba.argmax(axis=1)\n",
    "        loss = log_loss(y_test, y_proba)\n",
    "        acc = accuracy_score(y_test, y_pred)"
   ]
  },
  {
   "cell_type": "markdown",
   "id": "1cf984c9-78a9-443f-9465-111263101dcd",
   "metadata": {},
   "source": [
    "## Mlrun code "
   ]
  },
  {
   "cell_type": "markdown",
   "id": "365e4b39-9f39-40ae-aac4-7c4f42bce9bd",
   "metadata": {},
   "source": [
    "### Need to change the mlrun config in order to use the tracker\n"
   ]
  },
  {
   "cell_type": "code",
   "execution_count": 6,
   "id": "0b194d04-e08f-4161-a65b-4f18d10fdbf0",
   "metadata": {},
   "outputs": [],
   "source": [
    "\n",
    "mlrun.mlconf.external_platform_tracking.enabled = True"
   ]
  },
  {
   "cell_type": "markdown",
   "id": "b16bb4db-8a2a-4453-a42e-0e8e74ab8f53",
   "metadata": {},
   "source": [
    "### 3 possible way to run tracking:\n",
    "1. We can set: 'mlrun.mlconf.external_platform_tracking.mlflow.match_experiment_to_runtime' to True, this determines the run id and is the safest way\n",
    "2. We can set the experiment name at: 'mlflow.environment_variables.MLFLOW_EXPERIMENT_NAME.set', this determines the experiment and we track the run added to it\n",
    "3. We can just run it, then we will look across all experiments for added runs, this is not encouraged"
   ]
  },
  {
   "cell_type": "markdown",
   "id": "8b7bc72a-bd1b-408a-afa8-e474d91c4a20",
   "metadata": {},
   "source": [
    "### Then we need to create the project and function"
   ]
  },
  {
   "cell_type": "code",
   "execution_count": 7,
   "id": "3382b909-a8dc-41a3-afb1-b64df9bb7318",
   "metadata": {},
   "outputs": [
    {
     "name": "stdout",
     "output_type": "stream",
     "text": [
      "> 2023-12-07 14:32:12,764 [info] Created and saved project: {'name': 'test-mlflow-tracking1', 'from_template': None, 'overwrite': False, 'context': './', 'save': True}\n",
      "> 2023-12-07 14:32:12,766 [info] Project created successfully: {'project_name': 'test-mlflow-tracking1', 'stored_in_db': True}\n",
      "> 2023-12-07 14:32:12,775 [warning] Failed to add git metadata, ignore if path is not part of a git repo: {'path': './', 'error': '/User/mlflow'}\n"
     ]
    }
   ],
   "source": [
    "project_name1 = \"test-mlflow-tracking1\"\n",
    "# we choose the first run option from above\n",
    "mlrun.mlconf.external_platform_tracking.mlflow.match_experiment_to_runtime = True\n",
    "\n",
    "# Create a project for this demo:\n",
    "project = mlrun.get_or_create_project(name=project_name1, context=\"./test-mlflow-tracking\")\n",
    "\n",
    "function_name = \"example-xgb-run\"\n",
    "handler_name = \"example_xgb_run\"\n",
    "\n",
    "# Create a MLRun function using the example train file (all the functions must be located in it):\n",
    "training_func = project.set_function(\n",
    "    func=\"training.py\",\n",
    "    name=function_name,\n",
    "    kind=\"job\",\n",
    "    image=\"mlrun/mlrun\",\n",
    ")"
   ]
  },
  {
   "cell_type": "markdown",
   "id": "91597f57-364d-4d2a-b926-97b9d8afc81b",
   "metadata": {},
   "source": [
    "### Now we run the function, and after that we can look at the UI and see all metrics and parameters are logged in mlrun "
   ]
  },
  {
   "cell_type": "code",
   "execution_count": 8,
   "id": "8ba452dd-1756-4bfb-af64-d741e234dba3",
   "metadata": {},
   "outputs": [
    {
     "name": "stdout",
     "output_type": "stream",
     "text": [
      "> 2023-12-07 14:32:12,825 [info] Storing function: {'name': 'example-xgb-run-example-xgb-run', 'uid': 'b9bf0e3b6fc94ea784894d37ba996863', 'db': 'http://mlrun-api:8080'}\n",
      "[0]\ttrain-mlogloss:0.74723\n",
      "[1]\ttrain-mlogloss:0.54060\n",
      "[2]\ttrain-mlogloss:0.40276\n",
      "[3]\ttrain-mlogloss:0.30789\n",
      "[4]\ttrain-mlogloss:0.24051\n",
      "[5]\ttrain-mlogloss:0.19086\n",
      "[6]\ttrain-mlogloss:0.15471\n",
      "[7]\ttrain-mlogloss:0.12807\n",
      "[8]\ttrain-mlogloss:0.10722\n",
      "[9]\ttrain-mlogloss:0.09053\n"
     ]
    },
    {
     "name": "stderr",
     "output_type": "stream",
     "text": [
      "2023/12/07 14:32:20 WARNING mlflow.utils.autologging_utils: MLflow autologging encountered a warning: \"/User/.pythonlibs/mlrun-base/lib/python3.9/site-packages/xgboost/core.py:160: UserWarning: [14:32:20] WARNING: /workspace/src/c_api/c_api.cc:1240: Saving into deprecated binary model format, please consider using `json` or `ubj`. Model format will default to JSON in XGBoost 2.2 if not specified.\"\n",
      "2023/12/07 14:32:25 WARNING mlflow.utils.autologging_utils: MLflow autologging encountered a warning: \"/User/.pythonlibs/mlrun-base/lib/python3.9/site-packages/_distutils_hack/__init__.py:33: UserWarning: Setuptools is replacing distutils.\"\n"
     ]
    },
    {
     "data": {
      "text/html": [
       "<style>\n",
       ".dictlist {\n",
       "  background-color: #4EC64B;\n",
       "  text-align: center;\n",
       "  margin: 4px;\n",
       "  border-radius: 3px; padding: 0px 3px 1px 3px; display: inline-block;}\n",
       ".artifact {\n",
       "  cursor: pointer;\n",
       "  background-color: #4EC64B;\n",
       "  text-align: left;\n",
       "  margin: 4px; border-radius: 3px; padding: 0px 3px 1px 3px; display: inline-block;\n",
       "}\n",
       "div.block.hidden {\n",
       "  display: none;\n",
       "}\n",
       ".clickable {\n",
       "  cursor: pointer;\n",
       "}\n",
       ".ellipsis {\n",
       "  display: inline-block;\n",
       "  max-width: 60px;\n",
       "  white-space: nowrap;\n",
       "  overflow: hidden;\n",
       "  text-overflow: ellipsis;\n",
       "}\n",
       ".master-wrapper {\n",
       "  display: flex;\n",
       "  flex-flow: row nowrap;\n",
       "  justify-content: flex-start;\n",
       "  align-items: stretch;\n",
       "}\n",
       ".master-tbl {\n",
       "  flex: 3\n",
       "}\n",
       ".master-wrapper > div {\n",
       "  margin: 4px;\n",
       "  padding: 10px;\n",
       "}\n",
       "iframe.fileview {\n",
       "  border: 0 none;\n",
       "  height: 100%;\n",
       "  width: 100%;\n",
       "  white-space: pre-wrap;\n",
       "}\n",
       ".pane-header-title {\n",
       "  width: 80%;\n",
       "  font-weight: 500;\n",
       "}\n",
       ".pane-header {\n",
       "  line-height: 1;\n",
       "  background-color: #4EC64B;\n",
       "  padding: 3px;\n",
       "}\n",
       ".pane-header .close {\n",
       "  font-size: 20px;\n",
       "  font-weight: 700;\n",
       "  float: right;\n",
       "  margin-top: -5px;\n",
       "}\n",
       ".master-wrapper .right-pane {\n",
       "  border: 1px inset silver;\n",
       "  width: 40%;\n",
       "  min-height: 300px;\n",
       "  flex: 3\n",
       "  min-width: 500px;\n",
       "}\n",
       ".master-wrapper * {\n",
       "  box-sizing: border-box;\n",
       "}\n",
       "</style><script>\n",
       "function copyToClipboard(fld) {\n",
       "    if (document.queryCommandSupported && document.queryCommandSupported('copy')) {\n",
       "        var textarea = document.createElement('textarea');\n",
       "        textarea.textContent = fld.innerHTML;\n",
       "        textarea.style.position = 'fixed';\n",
       "        document.body.appendChild(textarea);\n",
       "        textarea.select();\n",
       "\n",
       "        try {\n",
       "            return document.execCommand('copy'); // Security exception may be thrown by some browsers.\n",
       "        } catch (ex) {\n",
       "\n",
       "        } finally {\n",
       "            document.body.removeChild(textarea);\n",
       "        }\n",
       "    }\n",
       "}\n",
       "function expandPanel(el) {\n",
       "  const panelName = \"#\" + el.getAttribute('paneName');\n",
       "  console.log(el.title);\n",
       "\n",
       "  document.querySelector(panelName + \"-title\").innerHTML = el.title\n",
       "  iframe = document.querySelector(panelName + \"-body\");\n",
       "\n",
       "  const tblcss = `<style> body { font-family: Arial, Helvetica, sans-serif;}\n",
       "    #csv { margin-bottom: 15px; }\n",
       "    #csv table { border-collapse: collapse;}\n",
       "    #csv table td { padding: 4px 8px; border: 1px solid silver;} </style>`;\n",
       "\n",
       "  function csvToHtmlTable(str) {\n",
       "    return '<div id=\"csv\"><table><tr><td>' +  str.replace(/[\\n\\r]+$/g, '').replace(/[\\n\\r]+/g, '</td></tr><tr><td>')\n",
       "      .replace(/,/g, '</td><td>') + '</td></tr></table></div>';\n",
       "  }\n",
       "\n",
       "  function reqListener () {\n",
       "    if (el.title.endsWith(\".csv\")) {\n",
       "      iframe.setAttribute(\"srcdoc\", tblcss + csvToHtmlTable(this.responseText));\n",
       "    } else {\n",
       "      iframe.setAttribute(\"srcdoc\", this.responseText);\n",
       "    }\n",
       "    console.log(this.responseText);\n",
       "  }\n",
       "\n",
       "  const oReq = new XMLHttpRequest();\n",
       "  oReq.addEventListener(\"load\", reqListener);\n",
       "  oReq.open(\"GET\", el.title);\n",
       "  oReq.send();\n",
       "\n",
       "\n",
       "  //iframe.src = el.title;\n",
       "  const resultPane = document.querySelector(panelName + \"-pane\");\n",
       "  if (resultPane.classList.contains(\"hidden\")) {\n",
       "    resultPane.classList.remove(\"hidden\");\n",
       "  }\n",
       "}\n",
       "function closePanel(el) {\n",
       "  const panelName = \"#\" + el.getAttribute('paneName')\n",
       "  const resultPane = document.querySelector(panelName + \"-pane\");\n",
       "  if (!resultPane.classList.contains(\"hidden\")) {\n",
       "    resultPane.classList.add(\"hidden\");\n",
       "  }\n",
       "}\n",
       "\n",
       "</script>\n",
       "<div class=\"master-wrapper\">\n",
       "  <div class=\"block master-tbl\"><div>\n",
       "<style scoped>\n",
       "    .dataframe tbody tr th:only-of-type {\n",
       "        vertical-align: middle;\n",
       "    }\n",
       "\n",
       "    .dataframe tbody tr th {\n",
       "        vertical-align: top;\n",
       "    }\n",
       "\n",
       "    .dataframe thead th {\n",
       "        text-align: right;\n",
       "    }\n",
       "</style>\n",
       "<table border=\"1\" class=\"dataframe\">\n",
       "  <thead>\n",
       "    <tr style=\"text-align: right;\">\n",
       "      <th>project</th>\n",
       "      <th>uid</th>\n",
       "      <th>iter</th>\n",
       "      <th>start</th>\n",
       "      <th>state</th>\n",
       "      <th>name</th>\n",
       "      <th>labels</th>\n",
       "      <th>inputs</th>\n",
       "      <th>parameters</th>\n",
       "      <th>results</th>\n",
       "      <th>artifacts</th>\n",
       "    </tr>\n",
       "  </thead>\n",
       "  <tbody>\n",
       "    <tr>\n",
       "      <td>test-mlflow-tracking1</td>\n",
       "      <td><div title=\"b9bf0e3b6fc94ea784894d37ba996863\"><a href=\"https://dashboard.default-tenant.app.dev13.lab.iguazeng.com/mlprojects/test-mlflow-tracking1/jobs/monitor/b9bf0e3b6fc94ea784894d37ba996863/overview\" target=\"_blank\" >...ba996863</a></div></td>\n",
       "      <td>0</td>\n",
       "      <td>Dec 07 14:32:12</td>\n",
       "      <td>completed</td>\n",
       "      <td>example-xgb-run-example-xgb-run</td>\n",
       "      <td><div class=\"dictlist\">v3io_user=amite</div><div class=\"dictlist\">kind=local</div><div class=\"dictlist\">owner=amite</div><div class=\"dictlist\">host=jupyter-amit-79c6447fd8-js5pp</div><div class=\"dictlist\">mlflow-user=iguazio</div><div class=\"dictlist\">mlflow-run-name=thoughtful-smelt-886</div><div class=\"dictlist\">mlflow-run-id=77c54f680373416096772905f1f92bb3</div><div class=\"dictlist\">mlflow-experiment-id=675142273981162272</div></td>\n",
       "      <td></td>\n",
       "      <td><div class=\"dictlist\">colsample_bytree=1.0</div><div class=\"dictlist\">custom_metric=None</div><div class=\"dictlist\">early_stopping_rounds=None</div><div class=\"dictlist\">eval_metric=mlogloss</div><div class=\"dictlist\">learning_rate=0.3</div><div class=\"dictlist\">maximize=None</div><div class=\"dictlist\">num_boost_round=10</div><div class=\"dictlist\">num_class=3</div><div class=\"dictlist\">objective=multi:softprob</div><div class=\"dictlist\">seed=42</div><div class=\"dictlist\">subsample=1.0</div><div class=\"dictlist\">verbose_eval=True</div></td>\n",
       "      <td><div class=\"dictlist\">train-mlogloss=0.09053360810503364</div></td>\n",
       "      <td><div class=\"artifact\" onclick=\"expandPanel(this)\" paneName=\"resultf6452562\" title=\"files/v3io/projects/test-mlflow-tracking1/artifacts/example-xgb-run-example-xgb-run/0/feature_importance_weight_json.json\">feature_importance_weight_json</div><div class=\"artifact\" onclick=\"expandPanel(this)\" paneName=\"resultf6452562\" title=\"files/v3io/projects/test-mlflow-tracking1/artifacts/example-xgb-run-example-xgb-run/0/feature_importance_weight_png.png\">feature_importance_weight_png</div><div title=\"v3io:///projects/test-mlflow-tracking1/artifacts/example-xgb-run-example-xgb-run/0/model/\">model</div></td>\n",
       "    </tr>\n",
       "  </tbody>\n",
       "</table>\n",
       "</div></div>\n",
       "  <div id=\"resultf6452562-pane\" class=\"right-pane block hidden\">\n",
       "    <div class=\"pane-header\">\n",
       "      <span id=\"resultf6452562-title\" class=\"pane-header-title\">Title</span>\n",
       "      <span onclick=\"closePanel(this)\" paneName=\"resultf6452562\" class=\"close clickable\">&times;</span>\n",
       "    </div>\n",
       "    <iframe class=\"fileview\" id=\"resultf6452562-body\"></iframe>\n",
       "  </div>\n",
       "</div>\n"
      ],
      "text/plain": [
       "<IPython.core.display.HTML object>"
      ]
     },
     "metadata": {},
     "output_type": "display_data"
    },
    {
     "name": "stdout",
     "output_type": "stream",
     "text": [
      "\n"
     ]
    },
    {
     "data": {
      "text/html": [
       "<b> > to track results use the .show() or .logs() methods  or <a href=\"https://dashboard.default-tenant.app.dev13.lab.iguazeng.com/mlprojects/test-mlflow-tracking1/jobs/monitor/b9bf0e3b6fc94ea784894d37ba996863/overview\" target=\"_blank\">click here</a> to open in UI</b>"
      ],
      "text/plain": [
       "<IPython.core.display.HTML object>"
      ]
     },
     "metadata": {},
     "output_type": "display_data"
    },
    {
     "name": "stdout",
     "output_type": "stream",
     "text": [
      "> 2023-12-07 14:32:26,311 [info] Run execution finished: {'status': 'completed', 'name': 'example-xgb-run-example-xgb-run'}\n"
     ]
    }
   ],
   "source": [
    "# we run the example code using mlrun\n",
    "train_run = training_func.run(\n",
    "    local=True, handler=handler_name,\n",
    ")"
   ]
  },
  {
   "cell_type": "markdown",
   "id": "cdc67ea6-500c-474a-bf33-da09b3b92e19",
   "metadata": {},
   "source": [
    "## Now let's check that the artifacts were correctly created in the project"
   ]
  },
  {
   "cell_type": "code",
   "execution_count": 12,
   "id": "0b727f77-4d96-4e54-938f-47da33de40c4",
   "metadata": {},
   "outputs": [],
   "source": [
    "def remove_iter_from_uri(uri):\n",
    "    return re.sub(r'#\\d+', '', uri)"
   ]
  },
  {
   "cell_type": "code",
   "execution_count": 13,
   "id": "f1bca74b-c71a-4b1c-85a5-f7957ca614e0",
   "metadata": {},
   "outputs": [],
   "source": [
    "\n",
    "handler_name = handler_name.replace(\"_\", \"-\")\n",
    "artifact_prefix = function_name + \"-\" + handler_name + \"_\"\n",
    "\n",
    "feature_importance_weights_json = project.get_artifact(artifact_prefix + \"feature_importance_weight_json\", tag=\"latest\")\n",
    "feature_importance_weights_png = project.get_artifact(artifact_prefix + \"feature_importance_weight_png\", tag=\"latest\")\n",
    "model = project.list_models(name=artifact_prefix+'model', tag=\"latest\", best_iteration=True)[0]\n",
    "\n",
    "# remove the iter number from the artifact_uri\n",
    "feature_importance_weights_json_uri = remove_iter_from_uri(feature_importance_weights_json.uri)\n",
    "feature_importance_weights_png_uri= remove_iter_from_uri(feature_importance_weights_png.uri)\n",
    "model_uri = remove_iter_from_uri(model.uri)\n",
    "\n",
    "assert feature_importance_weights_json_uri\n",
    "assert feature_importance_weights_png_uri\n",
    "assert model_uri\n",
    "assert feature_importance_weights_json_uri==train_run.outputs[\"feature_importance_weight_json\"]\n",
    "assert feature_importance_weights_png_uri==train_run.outputs[\"feature_importance_weight_png\"]\n",
    "# assert model_uri==train_run.outputs[\"model\"]\n"
   ]
  },
  {
   "cell_type": "markdown",
   "id": "844edc05-0b6a-4e84-9213-1d3cbf6f833e",
   "metadata": {},
   "source": [
    "# Now we will test this as a model server"
   ]
  },
  {
   "cell_type": "markdown",
   "id": "af6489cb-35e2-4b0d-8a0d-e8954a44534a",
   "metadata": {},
   "source": [
    "### To use this as an model server we need to implement two functions, load and predict"
   ]
  },
  {
   "cell_type": "code",
   "execution_count": 14,
   "id": "381bb171-5111-4cc1-b81c-fdb813a6208f",
   "metadata": {},
   "outputs": [
    {
     "name": "stdout",
     "output_type": "stream",
     "text": [
      "Writing serving.py\n"
     ]
    }
   ],
   "source": [
    "%%writefile serving.py\n",
    "\n",
    "import zipfile\n",
    "from typing import Any, Dict, List, Union\n",
    "\n",
    "import mlflow\n",
    "import numpy as np\n",
    "import os\n",
    "import mlrun\n",
    "from mlrun.serving.v2_serving import V2ModelServer\n",
    "import xgboost as xgb\n",
    "import pandas as pd\n",
    "\n",
    "class MLFlowModelServer(V2ModelServer):\n",
    "    \"\"\"\n",
    "    MLFlow tracker Model serving class, inheriting the V2ModelServer class for being initialized automatically by the model\n",
    "    server and be able to run locally as part of a nuclio serverless function, or as part of a real-time pipeline.\n",
    "    \"\"\"\n",
    "\n",
    "    def load(self):\n",
    "        \"\"\"\n",
    "        loads an model that was logged by the MLFlow tracker model\n",
    "        \"\"\"\n",
    "        # all we need to do is unzip the model dir and then use mlflow's load function\n",
    "        model_file, _ = self.get_model(\".zip\")\n",
    "        model_path_unzip = model_file.replace(\".zip\", \"\")\n",
    "\n",
    "        with zipfile.ZipFile(model_file, \"r\") as zip_ref:\n",
    "            zip_ref.extractall(model_path_unzip)\n",
    "            \n",
    "        self.model = mlflow.pyfunc.load_model(model_path_unzip)\n",
    "\n",
    "    def predict(self, request: Dict[str, Any]) -> list:\n",
    "        \"\"\"\n",
    "        Infer the inputs through the model. The inferred data will\n",
    "        be read from the \"inputs\" key of the request.\n",
    "\n",
    "        :param request: The request to the model using xgboost's predict. \n",
    "                The input to the model will be read from the \"inputs\" key.\n",
    "\n",
    "        :return: The model's prediction on the given input.\n",
    "        \"\"\"\n",
    "        \n",
    "        # Get the inputs and set to accepted type:\n",
    "        inputs = pd.DataFrame(request[\"inputs\"])\n",
    "\n",
    "        # Predict using the model's predict function:\n",
    "        predictions = self.model.predict(inputs)\n",
    "\n",
    "        # Return as list:\n",
    "        return predictions.tolist()\n"
   ]
  },
  {
   "cell_type": "markdown",
   "id": "40182a6f-fc46-4a33-a7f5-7ee8ee171966",
   "metadata": {},
   "source": [
    "### creating the server and serving function"
   ]
  },
  {
   "cell_type": "code",
   "execution_count": 15,
   "id": "f5fe910b-e177-4af7-84de-41a571d1774c",
   "metadata": {},
   "outputs": [
    {
     "name": "stdout",
     "output_type": "stream",
     "text": [
      "> 2023-12-07 14:32:26,467 [warning] Failed to add git metadata, ignore if path is not part of a git repo: {'path': './', 'error': '/User/mlflow'}\n"
     ]
    }
   ],
   "source": [
    "function_name = \"example-xgb-server\"\n",
    "serving_func = project.set_function(\n",
    "    func=\"serving.py\",\n",
    "    name=\"example-xgb-server\",\n",
    "    kind=\"serving\",\n",
    "    image=\"mlrun/mlrun\",\n",
    "    requirements=[\"xgboost\"]\n",
    ")"
   ]
  },
  {
   "cell_type": "code",
   "execution_count": 16,
   "id": "ddbfd48f-a90e-4fe6-9caa-ddffeacf63d1",
   "metadata": {},
   "outputs": [
    {
     "data": {
      "text/plain": [
       "<mlrun.serving.states.TaskStep at 0x7f645deaee80>"
      ]
     },
     "execution_count": 16,
     "metadata": {},
     "output_type": "execute_result"
    }
   ],
   "source": [
    "# add the model\n",
    "serving_func.add_model(\"mlflow_xgb_model\", class_name=\"MLFlowModelServer\", model_path=train_run.outputs[\"model\"])"
   ]
  },
  {
   "cell_type": "markdown",
   "id": "f54d7c06-4972-4881-9bc9-fba7db0adbe4",
   "metadata": {},
   "source": [
    "### Let's try to test our model "
   ]
  },
  {
   "cell_type": "code",
   "execution_count": 17,
   "id": "5e546e92-34ff-4eee-beb7-4afa391b3626",
   "metadata": {},
   "outputs": [
    {
     "name": "stdout",
     "output_type": "stream",
     "text": [
      "> 2023-12-07 14:32:26,488 [info] Starting remote function deploy\n",
      "2023-12-07 14:32:26  (info) Deploying function\n",
      "2023-12-07 14:32:26  (info) Building\n",
      "2023-12-07 14:32:26  (info) Staging files and preparing base images\n",
      "2023-12-07 14:32:26  (info) Building processor image\n",
      "2023-12-07 14:34:52  (info) Build complete\n",
      "2023-12-07 14:35:38  (info) Function deploy complete\n",
      "> 2023-12-07 14:35:48,970 [info] successfully deployed function: {'internal_invocation_urls': ['nuclio-test-mlflow-tracking1-example-xgb-server.default-tenant.svc.cluster.local:8080'], 'external_invocation_urls': ['test-mlflow-tracking1-example-xgb-server-test-mlflow-tracking1.default-tenant.app.dev13.lab.iguazeng.com/']}\n"
     ]
    },
    {
     "data": {
      "text/plain": [
       "'http://test-mlflow-tracking1-example-xgb-server-test-mlflow-tracking1.default-tenant.app.dev13.lab.iguazeng.com/'"
      ]
     },
     "execution_count": 17,
     "metadata": {},
     "output_type": "execute_result"
    }
   ],
   "source": [
    "serving_func.deploy()"
   ]
  },
  {
   "cell_type": "markdown",
   "id": "fe912817-9bfb-49d9-bc81-5f6114dd7892",
   "metadata": {},
   "source": [
    "## Now let's check that the serving function was correctly created in the project"
   ]
  },
  {
   "cell_type": "code",
   "execution_count": 18,
   "id": "f3cc22af-ccd3-4052-b3fc-6b67a3346045",
   "metadata": {},
   "outputs": [],
   "source": [
    "func = project.get_function(function_name)\n",
    "assert func\n",
    "assert func==serving_func"
   ]
  },
  {
   "cell_type": "markdown",
   "id": "673c1a3d-f343-4277-a066-a66e657c50f3",
   "metadata": {},
   "source": [
    "# Offline tests"
   ]
  },
  {
   "cell_type": "markdown",
   "id": "78128565-d17f-40fb-be55-2a37aaf970c7",
   "metadata": {},
   "source": [
    "in this example we will run a function that's being logged by mlflow without mlrun,\n",
    "and then import it into mlrun afterwards."
   ]
  },
  {
   "cell_type": "code",
   "execution_count": 19,
   "id": "bf3c9a9b-9b5b-4f56-bbf2-03f8a0c0122e",
   "metadata": {},
   "outputs": [
    {
     "name": "stdout",
     "output_type": "stream",
     "text": [
      "Writing offline_training.py\n"
     ]
    }
   ],
   "source": [
    "%%writefile offline_training.py\n",
    "\n",
    "import mlflow\n",
    "import mlflow.xgboost\n",
    "import xgboost as xgb\n",
    "from mlflow import log_metric\n",
    "from sklearn import datasets\n",
    "from sklearn.metrics import accuracy_score, log_loss\n",
    "from sklearn.model_selection import train_test_split\n",
    "\n",
    "mlflow.environment_variables.MLFLOW_EXPERIMENT_NAME.set(\"example_xgb_run\")\n",
    "\n",
    "# the function we run that is being logged by mlflow\n",
    "def example_xgb_run():\n",
    "    # prepare train and test data\n",
    "    iris = datasets.load_iris()\n",
    "    X = iris.data\n",
    "    y = iris.target\n",
    "    X_train, X_test, y_train, y_test = train_test_split(\n",
    "        X, y, test_size=0.2, random_state=42\n",
    "    )\n",
    "\n",
    "    # enable auto logging\n",
    "    mlflow.xgboost.autolog()\n",
    "\n",
    "    dtrain = xgb.DMatrix(X_train, label=y_train)\n",
    "    dtest = xgb.DMatrix(X_test, label=y_test)\n",
    "\n",
    "    with mlflow.start_run(run_name=\"offline-import-run\"):\n",
    "        # train model\n",
    "        params = {\n",
    "            \"objective\": \"multi:softprob\",\n",
    "            \"num_class\": 3,\n",
    "            \"learning_rate\": 0.3,\n",
    "            \"eval_metric\": \"mlogloss\",\n",
    "            \"colsample_bytree\": 1.0,\n",
    "            \"subsample\": 1.0,\n",
    "            \"seed\": 42,\n",
    "        }\n",
    "        model = xgb.train(params, dtrain, evals=[(dtrain, \"train\")])\n",
    "        \n",
    "        # evaluate model\n",
    "        y_proba = model.predict(dtest)\n",
    "        y_pred = y_proba.argmax(axis=1)\n",
    "        loss = log_loss(y_test, y_proba)\n",
    "        acc = accuracy_score(y_test, y_pred)\n",
    "        \n",
    "        # log metrics by hand\n",
    "        mlflow.log_metrics({\"log_loss\": loss, \"accuracy\": acc})"
   ]
  },
  {
   "cell_type": "code",
   "execution_count": 20,
   "id": "aa2b4ee0-5d8d-4bc6-939c-1614555dd840",
   "metadata": {},
   "outputs": [],
   "source": [
    "import sys\n",
    "import os\n",
    "sys.path.insert(0, os.path.abspath(\"./\"))\n",
    "from offline_training import example_xgb_run\n",
    "import mlrun\n",
    "from mlrun.track.trackers.mlflow_tracker import MLFlowTracker\n",
    "import tempfile\n",
    "import mlflow\n",
    "# Allow all tracking\n",
    "mlrun.mlconf.external_platform_tracking.enabled = True"
   ]
  },
  {
   "cell_type": "markdown",
   "id": "15cdf546-0afd-4806-ac09-31c246dc08c3",
   "metadata": {},
   "source": [
    "## Import offline run"
   ]
  },
  {
   "cell_type": "code",
   "execution_count": 21,
   "id": "f509c3c7-1ceb-46ff-80d7-dc78003eb928",
   "metadata": {},
   "outputs": [
    {
     "name": "stdout",
     "output_type": "stream",
     "text": [
      "> 2023-12-07 14:35:49,078 [info] Loading project from path: {'project_name': 'test-mlflow-tracking2', 'path': './'}\n",
      "> 2023-12-07 14:36:04,703 [info] Project loaded successfully: {'project_name': 'test-mlflow-tracking2', 'path': './', 'stored_in_db': True}\n",
      "> 2023-12-07 14:36:04,714 [warning] Failed to add git metadata, ignore if path is not part of a git repo: {'path': './', 'error': '/User/mlflow'}\n"
     ]
    }
   ],
   "source": [
    "project_name2 = \"test-mlflow-tracking2\"\n",
    "\n",
    "# Create a project for this demo:\n",
    "project = mlrun.get_or_create_project(name=project_name2, context=\"./test-mlflow-tracking\")\n",
    "\n",
    "# Create a MLRun function that we will log in to:\n",
    "function_name = \"example-xgb-run-offline\"\n",
    "\n",
    "training_func = project.set_function(\n",
    "    func=\"offline_training.py\",\n",
    "    name=function_name,\n",
    "    kind=\"job\",\n",
    "    image=\"mlrun/mlrun\",\n",
    ")"
   ]
  },
  {
   "cell_type": "code",
   "execution_count": 22,
   "id": "6ab00ead-5ce7-4b42-ab2f-6f3c1006c1d0",
   "metadata": {},
   "outputs": [
    {
     "name": "stdout",
     "output_type": "stream",
     "text": [
      "[0]\ttrain-mlogloss:0.74723\n",
      "[1]\ttrain-mlogloss:0.54060\n",
      "[2]\ttrain-mlogloss:0.40276\n",
      "[3]\ttrain-mlogloss:0.30789\n",
      "[4]\ttrain-mlogloss:0.24051\n",
      "[5]\ttrain-mlogloss:0.19086\n",
      "[6]\ttrain-mlogloss:0.15471\n",
      "[7]\ttrain-mlogloss:0.12807\n",
      "[8]\ttrain-mlogloss:0.10722\n",
      "[9]\ttrain-mlogloss:0.09053\n"
     ]
    },
    {
     "name": "stderr",
     "output_type": "stream",
     "text": [
      "2023/12/07 14:36:05 WARNING mlflow.utils.autologging_utils: MLflow autologging encountered a warning: \"/User/.pythonlibs/mlrun-base/lib/python3.9/site-packages/xgboost/core.py:160: UserWarning: [14:36:05] WARNING: /workspace/src/c_api/c_api.cc:1240: Saving into deprecated binary model format, please consider using `json` or `ubj`. Model format will default to JSON in XGBoost 2.2 if not specified.\"\n"
     ]
    },
    {
     "name": "stdout",
     "output_type": "stream",
     "text": [
      "> 2023-12-07 14:36:09,655 [info] logging run results to: http://mlrun-api:8080\n"
     ]
    },
    {
     "data": {
      "text/html": [
       "<style>\n",
       ".dictlist {\n",
       "  background-color: #4EC64B;\n",
       "  text-align: center;\n",
       "  margin: 4px;\n",
       "  border-radius: 3px; padding: 0px 3px 1px 3px; display: inline-block;}\n",
       ".artifact {\n",
       "  cursor: pointer;\n",
       "  background-color: #4EC64B;\n",
       "  text-align: left;\n",
       "  margin: 4px; border-radius: 3px; padding: 0px 3px 1px 3px; display: inline-block;\n",
       "}\n",
       "div.block.hidden {\n",
       "  display: none;\n",
       "}\n",
       ".clickable {\n",
       "  cursor: pointer;\n",
       "}\n",
       ".ellipsis {\n",
       "  display: inline-block;\n",
       "  max-width: 60px;\n",
       "  white-space: nowrap;\n",
       "  overflow: hidden;\n",
       "  text-overflow: ellipsis;\n",
       "}\n",
       ".master-wrapper {\n",
       "  display: flex;\n",
       "  flex-flow: row nowrap;\n",
       "  justify-content: flex-start;\n",
       "  align-items: stretch;\n",
       "}\n",
       ".master-tbl {\n",
       "  flex: 3\n",
       "}\n",
       ".master-wrapper > div {\n",
       "  margin: 4px;\n",
       "  padding: 10px;\n",
       "}\n",
       "iframe.fileview {\n",
       "  border: 0 none;\n",
       "  height: 100%;\n",
       "  width: 100%;\n",
       "  white-space: pre-wrap;\n",
       "}\n",
       ".pane-header-title {\n",
       "  width: 80%;\n",
       "  font-weight: 500;\n",
       "}\n",
       ".pane-header {\n",
       "  line-height: 1;\n",
       "  background-color: #4EC64B;\n",
       "  padding: 3px;\n",
       "}\n",
       ".pane-header .close {\n",
       "  font-size: 20px;\n",
       "  font-weight: 700;\n",
       "  float: right;\n",
       "  margin-top: -5px;\n",
       "}\n",
       ".master-wrapper .right-pane {\n",
       "  border: 1px inset silver;\n",
       "  width: 40%;\n",
       "  min-height: 300px;\n",
       "  flex: 3\n",
       "  min-width: 500px;\n",
       "}\n",
       ".master-wrapper * {\n",
       "  box-sizing: border-box;\n",
       "}\n",
       "</style><script>\n",
       "function copyToClipboard(fld) {\n",
       "    if (document.queryCommandSupported && document.queryCommandSupported('copy')) {\n",
       "        var textarea = document.createElement('textarea');\n",
       "        textarea.textContent = fld.innerHTML;\n",
       "        textarea.style.position = 'fixed';\n",
       "        document.body.appendChild(textarea);\n",
       "        textarea.select();\n",
       "\n",
       "        try {\n",
       "            return document.execCommand('copy'); // Security exception may be thrown by some browsers.\n",
       "        } catch (ex) {\n",
       "\n",
       "        } finally {\n",
       "            document.body.removeChild(textarea);\n",
       "        }\n",
       "    }\n",
       "}\n",
       "function expandPanel(el) {\n",
       "  const panelName = \"#\" + el.getAttribute('paneName');\n",
       "  console.log(el.title);\n",
       "\n",
       "  document.querySelector(panelName + \"-title\").innerHTML = el.title\n",
       "  iframe = document.querySelector(panelName + \"-body\");\n",
       "\n",
       "  const tblcss = `<style> body { font-family: Arial, Helvetica, sans-serif;}\n",
       "    #csv { margin-bottom: 15px; }\n",
       "    #csv table { border-collapse: collapse;}\n",
       "    #csv table td { padding: 4px 8px; border: 1px solid silver;} </style>`;\n",
       "\n",
       "  function csvToHtmlTable(str) {\n",
       "    return '<div id=\"csv\"><table><tr><td>' +  str.replace(/[\\n\\r]+$/g, '').replace(/[\\n\\r]+/g, '</td></tr><tr><td>')\n",
       "      .replace(/,/g, '</td><td>') + '</td></tr></table></div>';\n",
       "  }\n",
       "\n",
       "  function reqListener () {\n",
       "    if (el.title.endsWith(\".csv\")) {\n",
       "      iframe.setAttribute(\"srcdoc\", tblcss + csvToHtmlTable(this.responseText));\n",
       "    } else {\n",
       "      iframe.setAttribute(\"srcdoc\", this.responseText);\n",
       "    }\n",
       "    console.log(this.responseText);\n",
       "  }\n",
       "\n",
       "  const oReq = new XMLHttpRequest();\n",
       "  oReq.addEventListener(\"load\", reqListener);\n",
       "  oReq.open(\"GET\", el.title);\n",
       "  oReq.send();\n",
       "\n",
       "\n",
       "  //iframe.src = el.title;\n",
       "  const resultPane = document.querySelector(panelName + \"-pane\");\n",
       "  if (resultPane.classList.contains(\"hidden\")) {\n",
       "    resultPane.classList.remove(\"hidden\");\n",
       "  }\n",
       "}\n",
       "function closePanel(el) {\n",
       "  const panelName = \"#\" + el.getAttribute('paneName')\n",
       "  const resultPane = document.querySelector(panelName + \"-pane\");\n",
       "  if (!resultPane.classList.contains(\"hidden\")) {\n",
       "    resultPane.classList.add(\"hidden\");\n",
       "  }\n",
       "}\n",
       "\n",
       "</script>\n",
       "<div class=\"master-wrapper\">\n",
       "  <div class=\"block master-tbl\"><div>\n",
       "<style scoped>\n",
       "    .dataframe tbody tr th:only-of-type {\n",
       "        vertical-align: middle;\n",
       "    }\n",
       "\n",
       "    .dataframe tbody tr th {\n",
       "        vertical-align: top;\n",
       "    }\n",
       "\n",
       "    .dataframe thead th {\n",
       "        text-align: right;\n",
       "    }\n",
       "</style>\n",
       "<table border=\"1\" class=\"dataframe\">\n",
       "  <thead>\n",
       "    <tr style=\"text-align: right;\">\n",
       "      <th>project</th>\n",
       "      <th>uid</th>\n",
       "      <th>iter</th>\n",
       "      <th>start</th>\n",
       "      <th>state</th>\n",
       "      <th>name</th>\n",
       "      <th>labels</th>\n",
       "      <th>inputs</th>\n",
       "      <th>parameters</th>\n",
       "      <th>results</th>\n",
       "      <th>artifacts</th>\n",
       "    </tr>\n",
       "  </thead>\n",
       "  <tbody>\n",
       "    <tr>\n",
       "      <td>test-mlflow-tracking2</td>\n",
       "      <td><div title=\"ae751987922041988347b3e73eaabbc1\"><a href=\"https://dashboard.default-tenant.app.dev13.lab.iguazeng.com/mlprojects/test-mlflow-tracking2/jobs/monitor/ae751987922041988347b3e73eaabbc1/overview\" target=\"_blank\" >...3eaabbc1</a></div></td>\n",
       "      <td>0</td>\n",
       "      <td>Dec 07 14:36:09</td>\n",
       "      <td>running</td>\n",
       "      <td>offline-import-run</td>\n",
       "      <td><div class=\"dictlist\">host=jupyter-amit-79c6447fd8-js5pp</div><div class=\"dictlist\">mlflow-user=iguazio</div><div class=\"dictlist\">mlflow-run-name=offline-import-run</div><div class=\"dictlist\">mlflow-run-id=ae751987922041988347b3e73eaabbc1</div><div class=\"dictlist\">mlflow-experiment-id=117891402587399979</div></td>\n",
       "      <td></td>\n",
       "      <td><div class=\"dictlist\">objective=multi:softprob</div><div class=\"dictlist\">num_class=3</div><div class=\"dictlist\">learning_rate=0.3</div><div class=\"dictlist\">eval_metric=mlogloss</div><div class=\"dictlist\">colsample_bytree=1.0</div><div class=\"dictlist\">subsample=1.0</div><div class=\"dictlist\">seed=42</div><div class=\"dictlist\">num_boost_round=10</div><div class=\"dictlist\">maximize=None</div><div class=\"dictlist\">early_stopping_rounds=None</div><div class=\"dictlist\">verbose_eval=True</div><div class=\"dictlist\">custom_metric=None</div></td>\n",
       "      <td><div class=\"dictlist\">train-mlogloss=0.09053360810503364</div><div class=\"dictlist\">log_loss=0.06621863381213823</div><div class=\"dictlist\">accuracy=1.0</div></td>\n",
       "      <td><div title=\"/tmp/tmpgq29ec9t/offline-import-run/0/feature_importance_weight_json.json\">feature_importance_weight_json</div><div title=\"/tmp/tmpgq29ec9t/offline-import-run/0/feature_importance_weight_png.png\">feature_importance_weight_png</div><div title=\"/tmp/tmpgq29ec9t/offline-import-run/0/model\">model</div></td>\n",
       "    </tr>\n",
       "  </tbody>\n",
       "</table>\n",
       "</div></div>\n",
       "  <div id=\"resulte7aa7cbd-pane\" class=\"right-pane block hidden\">\n",
       "    <div class=\"pane-header\">\n",
       "      <span id=\"resulte7aa7cbd-title\" class=\"pane-header-title\">Title</span>\n",
       "      <span onclick=\"closePanel(this)\" paneName=\"resulte7aa7cbd\" class=\"close clickable\">&times;</span>\n",
       "    </div>\n",
       "    <iframe class=\"fileview\" id=\"resulte7aa7cbd-body\"></iframe>\n",
       "  </div>\n",
       "</div>\n"
      ],
      "text/plain": [
       "<IPython.core.display.HTML object>"
      ]
     },
     "metadata": {},
     "output_type": "display_data"
    },
    {
     "name": "stdout",
     "output_type": "stream",
     "text": [
      "\n"
     ]
    },
    {
     "data": {
      "text/html": [
       "<b> > to track results use the .show() or .logs() methods  or <a href=\"https://dashboard.default-tenant.app.dev13.lab.iguazeng.com/mlprojects/test-mlflow-tracking2/jobs/monitor/ae751987922041988347b3e73eaabbc1/overview\" target=\"_blank\">click here</a> to open in UI</b>"
      ],
      "text/plain": [
       "<IPython.core.display.HTML object>"
      ]
     },
     "metadata": {},
     "output_type": "display_data"
    }
   ],
   "source": [
    "# We create a temporary working area to avoid junk in ours    \n",
    "with tempfile.TemporaryDirectory() as test_directory:\n",
    "    mlflow.set_tracking_uri(test_directory)  # Tell mlflow where to save logged data\n",
    "\n",
    "    # Run mlflow wrapped code\n",
    "    example_xgb_run()\n",
    "\n",
    "    # Set mlconf path to artifacts\n",
    "    mlrun.mlconf.artifact_path = test_directory + \"/artifact\"\n",
    "    \n",
    "    # Find last ran mlflow run\n",
    "    mlflow_run = mlflow.last_active_run()\n",
    "    \n",
    "    # Import the run into mlrun using the function we created earlier\n",
    "    imported_run = MLFlowTracker().import_run(\n",
    "        project=project,\n",
    "        reference_id=mlflow_run.info.run_id,\n",
    "        function_name=function_name,\n",
    "    )\n",
    "\n"
   ]
  },
  {
   "cell_type": "markdown",
   "id": "675b94ac-4ad2-47c3-b97b-3d9cc4ad10e3",
   "metadata": {},
   "source": [
    "## Checking the run has been registred in the project and the artifacts created\n",
    "Cannot check more than that since the runs/artifact names is auto-generated by mlflow and we currently don't support setting a name when importing an offline run"
   ]
  },
  {
   "cell_type": "code",
   "execution_count": 23,
   "id": "ecb14ffe-d080-43f7-8892-77e8771a4acf",
   "metadata": {},
   "outputs": [],
   "source": [
    "runs = project.list_runs()\n",
    "assert runs\n",
    "assert len(runs)==1\n",
    "\n",
    "artifacts = project.list_artifacts()\n",
    "assert artifacts\n",
    "assert len(artifacts)==3\n",
    "assert artifacts[0]['metadata']['key']=='feature_importance_weight_json'\n",
    "assert artifacts[1]['metadata']['key']=='feature_importance_weight_png'\n",
    "assert artifacts[2]['metadata']['key']=='model'\n",
    "\n",
    "models = project.list_models()\n",
    "assert models\n",
    "assert len(models)==1"
   ]
  },
  {
   "cell_type": "markdown",
   "id": "e76eeed4-280c-4fe7-b573-888d18438167",
   "metadata": {},
   "source": [
    "## Import offline model"
   ]
  },
  {
   "cell_type": "code",
   "execution_count": 24,
   "id": "f4a350e2-bedf-4da3-8822-6cc77064cf94",
   "metadata": {},
   "outputs": [
    {
     "name": "stdout",
     "output_type": "stream",
     "text": [
      "[0]\ttrain-mlogloss:0.74723\n",
      "[1]\ttrain-mlogloss:0.54060\n",
      "[2]\ttrain-mlogloss:0.40276\n",
      "[3]\ttrain-mlogloss:0.30789\n",
      "[4]\ttrain-mlogloss:0.24051\n",
      "[5]\ttrain-mlogloss:0.19086\n",
      "[6]\ttrain-mlogloss:0.15471\n",
      "[7]\ttrain-mlogloss:0.12807\n",
      "[8]\ttrain-mlogloss:0.10722\n",
      "[9]\ttrain-mlogloss:0.09053\n"
     ]
    },
    {
     "name": "stderr",
     "output_type": "stream",
     "text": [
      "2023/12/07 14:36:10 WARNING mlflow.utils.autologging_utils: MLflow autologging encountered a warning: \"/User/.pythonlibs/mlrun-base/lib/python3.9/site-packages/xgboost/core.py:160: UserWarning: [14:36:10] WARNING: /workspace/src/c_api/c_api.cc:1240: Saving into deprecated binary model format, please consider using `json` or `ubj`. Model format will default to JSON in XGBoost 2.2 if not specified.\"\n"
     ]
    },
    {
     "name": "stdout",
     "output_type": "stream",
     "text": [
      "> 2023-12-07 14:36:30,733 [info] Created and saved project: {'name': 'test-mlflow-tracking3', 'from_template': None, 'overwrite': False, 'context': '/tmp/tmp53d1t9wu', 'save': True}\n",
      "> 2023-12-07 14:36:30,734 [info] Project created successfully: {'project_name': 'test-mlflow-tracking3', 'stored_in_db': True}\n",
      "> 2023-12-07 14:36:30,787 [info] model imported successfully: {'key': 'test_model'}\n"
     ]
    }
   ],
   "source": [
    "project_name3 = \"test-mlflow-tracking3\"\n",
    "\n",
    "# We create a temporary working area to avoid junk in ours    \n",
    "with tempfile.TemporaryDirectory() as test_directory:\n",
    "    mlflow.set_tracking_uri(test_directory)  # Tell mlflow where to save logged data\n",
    "\n",
    "    # Run mlflow wrapped code\n",
    "    example_xgb_run()\n",
    "    \n",
    "    # Create a project for this tester:\n",
    "    project = mlrun.get_or_create_project(name=project_name3, context=test_directory)\n",
    "\n",
    "    # Access model's uri through mlflow's last run\n",
    "    mlflow_run = mlflow.last_active_run()\n",
    "    model_uri = mlflow_run.info.artifact_uri + \"/model\"\n",
    "\n",
    "    key = \"test_model\"\n",
    "    MLFlowTracker().import_model(\n",
    "        project=project,\n",
    "        reference_id=model_uri,\n",
    "        key=key,\n",
    "        metrics=mlflow_run.data.metrics,\n",
    "    )\n",
    "\n",
    "    "
   ]
  },
  {
   "cell_type": "markdown",
   "id": "8ed05b10-7527-44e7-8d49-1d21d37dd0af",
   "metadata": {},
   "source": [
    "## Checking if the model was logged into project"
   ]
  },
  {
   "cell_type": "code",
   "execution_count": 25,
   "id": "62fe0f9c-9f9c-44aa-8a6e-293156529a76",
   "metadata": {},
   "outputs": [],
   "source": [
    "# Validate model was logged into project\n",
    "assert project.get_artifact(key)"
   ]
  },
  {
   "cell_type": "markdown",
   "id": "88ccb1b6-819d-4a3e-a9b2-d21b4bd39f41",
   "metadata": {},
   "source": [
    "## Now we test all the different mlflow logging options"
   ]
  },
  {
   "cell_type": "code",
   "execution_count": 26,
   "id": "5e3a158b-e457-47af-9a6c-3284af919727",
   "metadata": {},
   "outputs": [
    {
     "name": "stdout",
     "output_type": "stream",
     "text": [
      "Writing log_stuff.py\n"
     ]
    }
   ],
   "source": [
    "%%writefile log_stuff.py\n",
    "\n",
    "import json\n",
    "import os\n",
    "import mlflow\n",
    "import matplotlib.pyplot as plt\n",
    "from plotly import graph_objects as go\n",
    "import numpy as np\n",
    "from PIL import Image\n",
    "import pandas as pd\n",
    "\n",
    "mlflow.environment_variables.MLFLOW_EXPERIMENT_NAME.set(\"log_stuff\")\n",
    "\n",
    "\n",
    "def log_stuff():\n",
    "    \n",
    "    print(\"hey it's amit\")\n",
    "# ---------------------------------------------option 1------------------------------------------------\n",
    "    # txt file to log\n",
    "    features = \"feature1, feature2, feature3, feature4, feature5\"\n",
    "    with open(\"features.txt\", \"w\") as f:\n",
    "        f.write(features)\n",
    "        \n",
    "# ---------------------------------------------option 2------------------------------------------------    \n",
    "    # directory with txt/json files to log\n",
    "    features = \"dir_feature1, dir_feature2, dir_feature3, dir_feature4, dir_feature5\"\n",
    "    data = {\"json_feature1\": \"val1\", \"json_feature2\": 22222, \"json_feature3\": True}\n",
    "\n",
    "    # Create couple of artifact files under the directory \"data\"\n",
    "    os.makedirs(\"data\", exist_ok=True)\n",
    "    with open(\"test-mlflow-tracking/data.json\", \"w\", encoding=\"utf-8\") as f:\n",
    "        json.dump(data, f, indent=2)\n",
    "    with open(\"test-mlflow-tracking/features.txt\", \"w\") as f:\n",
    "        f.write(features)\n",
    "        \n",
    "# ---------------------------------------------option 3------------------------------------------------\n",
    "    \n",
    "    matplotlib_fig, ax = plt.subplots()\n",
    "    ax.plot([0, 1], [2, 3])\n",
    "    \n",
    "    plotly_fig = go.Figure(go.Scatter(x=[0, 1], y=[2, 3]))\n",
    "    \n",
    "# ---------------------------------------------option 4------------------------------------------------\n",
    "    \n",
    "    np_image = np.random.randint(0, 256, size=(100, 100, 3), dtype=np.uint8)\n",
    "    PIL_image = Image.new(\"RGB\", (100, 100))\n",
    "    \n",
    "# ---------------------------------------------option 5------------------------------------------------\n",
    "    \n",
    "    array = np.asarray([[1, 2, 3], [4, 5, 6], [7, 8, 9]])\n",
    "    np_dataset = mlflow.data.from_numpy(array)\n",
    "    \n",
    "    \n",
    "    data = {\n",
    "        'Name': ['John', 'Alice', 'Bob', 'Charlie'],\n",
    "        'Age': [25, 28, 22, 30],\n",
    "        'City': ['New York', 'San Francisco', 'Seattle', 'Boston']\n",
    "    }\n",
    "    df = pd.DataFrame(data)\n",
    "    pd_dataset = mlflow.data.from_pandas(df)\n",
    "    \n",
    "# ---------------------------------------------option 6------------------------------------------------\n",
    "    table_dict = {\n",
    "        \"inputs\": [\"What is MLflow?\", \"What is Databricks?\"],\n",
    "        \"outputs\": [\"MLflow is ...\", \"Databricks is ...\"],\n",
    "        \"toxicity\": [0.0, 0.0],\n",
    "    }\n",
    "    \n",
    "    \n",
    "    \n",
    "        \n",
    "    with mlflow.start_run():\n",
    "# ---------------------------------------------log option 1------------------------------------------------\n",
    "        # log a txt file as an artifact\n",
    "        mlflow.log_artifact(\"features.txt\")\n",
    "        \n",
    "# ---------------------------------------------log option 2------------------------------------------------\n",
    "        # log the files in a directory\n",
    "        mlflow.log_artifacts(\"data\", artifact_path=\"states\")\n",
    "        \n",
    "# ---------------------------------------------log option 3------------------------------------------------\n",
    "        # log matplotlib/plotly figures\n",
    "        mlflow.log_figure(matplotlib_fig, \"matplotlib_figure.png\")\n",
    "        mlflow.log_figure(plotly_fig, \"plotly_figure.html\")\n",
    "        \n",
    "# ---------------------------------------------log option 4------------------------------------------------\n",
    "        # log np/PIL images\n",
    "        mlflow.log_image(np_image, \"np_image.png\")\n",
    "        mlflow.log_image(PIL_image, \"PIL_image.png\")\n",
    "        \n",
    "# ---------------------------------------------log option 5------------------------------------------------\n",
    "        # log numpy/pandas dataset\n",
    "        mlflow.log_input(np_dataset, context=\"numpy_training\")\n",
    "        mlflow.log_input(pd_dataset, context=\"pandas_training\")\n",
    "    \n",
    "# ---------------------------------------------log option 6------------------------------------------------    \n",
    "        # log a dict/dataframe as a table artifact (json format)\n",
    "        mlflow.log_table(data=table_dict, artifact_file=\"dict_table.json\")\n",
    "        mlflow.log_table(data=df, artifact_file=\"df_table.json\")\n",
    "    \n",
    "    \n",
    "    \n",
    "        # log string \n",
    "        mlflow.log_text(\"text1\", \"file1.txt\")\n",
    "        \n",
    "        # log dicts as json/yaml\n",
    "        mlflow.log_dict({\"json_key1\":\"json_val1\"}, \"data.json\")\n",
    "        mlflow.log_dict({\"yaml_key1\":\"yaml_val1\"}, \"data.yaml\")\n",
    "        \n",
    "        # log a numeric value\n",
    "        mlflow.log_metric(key=\"metric_key\", value=12345)\n",
    "        mlflow.log_metrics({\"metric_key1\": 1, \"metric_key2\": 2})\n",
    "        \n",
    "        # log a string parameter\n",
    "        mlflow.log_param(key=\"param_key\", value=\"param_val\")\n",
    "        mlflow.log_params({\"param_key1\":\"param_val1\", \"param_key2\":\"param_val2\"})\n",
    "        "
   ]
  },
  {
   "cell_type": "code",
   "execution_count": 27,
   "id": "9e75dc24-eaad-4fff-ad20-706d62146e13",
   "metadata": {},
   "outputs": [],
   "source": [
    "mlrun.mlconf.external_platform_tracking.enabled = True"
   ]
  },
  {
   "cell_type": "code",
   "execution_count": 28,
   "id": "20c60e32-c8d4-430c-8273-406a451ecf99",
   "metadata": {},
   "outputs": [
    {
     "name": "stdout",
     "output_type": "stream",
     "text": [
      "> 2023-12-07 14:36:30,857 [info] Loading project from path: {'project_name': 'test-mlflow-tracking4', 'path': './'}\n",
      "> 2023-12-07 14:36:46,444 [info] Project loaded successfully: {'project_name': 'test-mlflow-tracking4', 'path': './', 'stored_in_db': True}\n",
      "> 2023-12-07 14:36:46,451 [warning] Failed to add git metadata, ignore if path is not part of a git repo: {'path': './', 'error': '/User/mlflow'}\n"
     ]
    }
   ],
   "source": [
    "project_name4 = \"test-mlflow-tracking4\"\n",
    "\n",
    "# we choose the first run option from above\n",
    "mlrun.mlconf.external_platform_tracking.mlflow.match_experiment_to_runtime = True\n",
    "mlflow.set_tracking_uri(\"./test-mlflow-tracking\")  # Tell mlflow where to save logged data\n",
    "\n",
    "\n",
    "project = mlrun.get_or_create_project(name=project_name4, context=\"./test-mlflow-tracking\")\n",
    "function_name = \"log-stuff-func\"\n",
    "handler_name = \"log_stuff\"\n",
    "\n",
    "# Create a MLRun function\n",
    "loging_func = project.set_function(\n",
    "    func=\"log_stuff.py\",\n",
    "    name=function_name,\n",
    "    kind=\"job\",\n",
    "    image=\"mlrun/mlrun\",\n",
    ")"
   ]
  },
  {
   "cell_type": "code",
   "execution_count": 29,
   "id": "ed72b216-dc6c-45a9-9ca8-2f2d096b99f3",
   "metadata": {},
   "outputs": [
    {
     "name": "stdout",
     "output_type": "stream",
     "text": [
      "> 2023-12-07 14:36:46,535 [info] Storing function: {'name': 'log-stuff-func-log-stuff', 'uid': '024e3a6d4d7144c1aec47e80f59e91f7', 'db': 'http://mlrun-api:8080'}\n",
      "> 2023-12-07 14:36:46,670 [warning] `mlconf.external_platform_tracking.mlflow.match_experiment_to_runtime` is set to True but the MLFlow experiment name environment variable ('MLFLOW_EXPERIMENT_NAME') is set for using the name: 'log_stuff'. This name will be overriden with MLRun's runtime name as set in the MLRun configuration: 'log-stuff-func-log-stuff'.\n",
      "hey it's amit\n"
     ]
    },
    {
     "name": "stderr",
     "output_type": "stream",
     "text": [
      "/User/.pythonlibs/mlrun-base/lib/python3.9/site-packages/mlflow/data/pandas_dataset.py:134: UserWarning:\n",
      "\n",
      "Hint: Inferred schema contains integer column(s). Integer columns in Python cannot represent missing values. If your input data contains missing values at inference time, it will be encoded as floats and will cause a schema enforcement error. The best way to avoid this problem is to infer the model schema based on a realistic data sample (training dataset) that includes missing values. Alternatively, you can declare integer columns as doubles (float64) whenever these columns may have missing values. See `Handling Integers With Missing Values <https://www.mlflow.org/docs/latest/models.html#handling-integers-with-missing-values>`_ for more details.\n",
      "\n"
     ]
    },
    {
     "data": {
      "text/html": [
       "<style>\n",
       ".dictlist {\n",
       "  background-color: #4EC64B;\n",
       "  text-align: center;\n",
       "  margin: 4px;\n",
       "  border-radius: 3px; padding: 0px 3px 1px 3px; display: inline-block;}\n",
       ".artifact {\n",
       "  cursor: pointer;\n",
       "  background-color: #4EC64B;\n",
       "  text-align: left;\n",
       "  margin: 4px; border-radius: 3px; padding: 0px 3px 1px 3px; display: inline-block;\n",
       "}\n",
       "div.block.hidden {\n",
       "  display: none;\n",
       "}\n",
       ".clickable {\n",
       "  cursor: pointer;\n",
       "}\n",
       ".ellipsis {\n",
       "  display: inline-block;\n",
       "  max-width: 60px;\n",
       "  white-space: nowrap;\n",
       "  overflow: hidden;\n",
       "  text-overflow: ellipsis;\n",
       "}\n",
       ".master-wrapper {\n",
       "  display: flex;\n",
       "  flex-flow: row nowrap;\n",
       "  justify-content: flex-start;\n",
       "  align-items: stretch;\n",
       "}\n",
       ".master-tbl {\n",
       "  flex: 3\n",
       "}\n",
       ".master-wrapper > div {\n",
       "  margin: 4px;\n",
       "  padding: 10px;\n",
       "}\n",
       "iframe.fileview {\n",
       "  border: 0 none;\n",
       "  height: 100%;\n",
       "  width: 100%;\n",
       "  white-space: pre-wrap;\n",
       "}\n",
       ".pane-header-title {\n",
       "  width: 80%;\n",
       "  font-weight: 500;\n",
       "}\n",
       ".pane-header {\n",
       "  line-height: 1;\n",
       "  background-color: #4EC64B;\n",
       "  padding: 3px;\n",
       "}\n",
       ".pane-header .close {\n",
       "  font-size: 20px;\n",
       "  font-weight: 700;\n",
       "  float: right;\n",
       "  margin-top: -5px;\n",
       "}\n",
       ".master-wrapper .right-pane {\n",
       "  border: 1px inset silver;\n",
       "  width: 40%;\n",
       "  min-height: 300px;\n",
       "  flex: 3\n",
       "  min-width: 500px;\n",
       "}\n",
       ".master-wrapper * {\n",
       "  box-sizing: border-box;\n",
       "}\n",
       "</style><script>\n",
       "function copyToClipboard(fld) {\n",
       "    if (document.queryCommandSupported && document.queryCommandSupported('copy')) {\n",
       "        var textarea = document.createElement('textarea');\n",
       "        textarea.textContent = fld.innerHTML;\n",
       "        textarea.style.position = 'fixed';\n",
       "        document.body.appendChild(textarea);\n",
       "        textarea.select();\n",
       "\n",
       "        try {\n",
       "            return document.execCommand('copy'); // Security exception may be thrown by some browsers.\n",
       "        } catch (ex) {\n",
       "\n",
       "        } finally {\n",
       "            document.body.removeChild(textarea);\n",
       "        }\n",
       "    }\n",
       "}\n",
       "function expandPanel(el) {\n",
       "  const panelName = \"#\" + el.getAttribute('paneName');\n",
       "  console.log(el.title);\n",
       "\n",
       "  document.querySelector(panelName + \"-title\").innerHTML = el.title\n",
       "  iframe = document.querySelector(panelName + \"-body\");\n",
       "\n",
       "  const tblcss = `<style> body { font-family: Arial, Helvetica, sans-serif;}\n",
       "    #csv { margin-bottom: 15px; }\n",
       "    #csv table { border-collapse: collapse;}\n",
       "    #csv table td { padding: 4px 8px; border: 1px solid silver;} </style>`;\n",
       "\n",
       "  function csvToHtmlTable(str) {\n",
       "    return '<div id=\"csv\"><table><tr><td>' +  str.replace(/[\\n\\r]+$/g, '').replace(/[\\n\\r]+/g, '</td></tr><tr><td>')\n",
       "      .replace(/,/g, '</td><td>') + '</td></tr></table></div>';\n",
       "  }\n",
       "\n",
       "  function reqListener () {\n",
       "    if (el.title.endsWith(\".csv\")) {\n",
       "      iframe.setAttribute(\"srcdoc\", tblcss + csvToHtmlTable(this.responseText));\n",
       "    } else {\n",
       "      iframe.setAttribute(\"srcdoc\", this.responseText);\n",
       "    }\n",
       "    console.log(this.responseText);\n",
       "  }\n",
       "\n",
       "  const oReq = new XMLHttpRequest();\n",
       "  oReq.addEventListener(\"load\", reqListener);\n",
       "  oReq.open(\"GET\", el.title);\n",
       "  oReq.send();\n",
       "\n",
       "\n",
       "  //iframe.src = el.title;\n",
       "  const resultPane = document.querySelector(panelName + \"-pane\");\n",
       "  if (resultPane.classList.contains(\"hidden\")) {\n",
       "    resultPane.classList.remove(\"hidden\");\n",
       "  }\n",
       "}\n",
       "function closePanel(el) {\n",
       "  const panelName = \"#\" + el.getAttribute('paneName')\n",
       "  const resultPane = document.querySelector(panelName + \"-pane\");\n",
       "  if (!resultPane.classList.contains(\"hidden\")) {\n",
       "    resultPane.classList.add(\"hidden\");\n",
       "  }\n",
       "}\n",
       "\n",
       "</script>\n",
       "<div class=\"master-wrapper\">\n",
       "  <div class=\"block master-tbl\"><div>\n",
       "<style scoped>\n",
       "    .dataframe tbody tr th:only-of-type {\n",
       "        vertical-align: middle;\n",
       "    }\n",
       "\n",
       "    .dataframe tbody tr th {\n",
       "        vertical-align: top;\n",
       "    }\n",
       "\n",
       "    .dataframe thead th {\n",
       "        text-align: right;\n",
       "    }\n",
       "</style>\n",
       "<table border=\"1\" class=\"dataframe\">\n",
       "  <thead>\n",
       "    <tr style=\"text-align: right;\">\n",
       "      <th>project</th>\n",
       "      <th>uid</th>\n",
       "      <th>iter</th>\n",
       "      <th>start</th>\n",
       "      <th>state</th>\n",
       "      <th>name</th>\n",
       "      <th>labels</th>\n",
       "      <th>inputs</th>\n",
       "      <th>parameters</th>\n",
       "      <th>results</th>\n",
       "      <th>artifacts</th>\n",
       "    </tr>\n",
       "  </thead>\n",
       "  <tbody>\n",
       "    <tr>\n",
       "      <td>test-mlflow-tracking4</td>\n",
       "      <td><div title=\"024e3a6d4d7144c1aec47e80f59e91f7\"><a href=\"https://dashboard.default-tenant.app.dev13.lab.iguazeng.com/mlprojects/test-mlflow-tracking4/jobs/monitor/024e3a6d4d7144c1aec47e80f59e91f7/overview\" target=\"_blank\" >...f59e91f7</a></div></td>\n",
       "      <td>0</td>\n",
       "      <td>Dec 07 14:36:46</td>\n",
       "      <td>completed</td>\n",
       "      <td>log-stuff-func-log-stuff</td>\n",
       "      <td><div class=\"dictlist\">v3io_user=amite</div><div class=\"dictlist\">kind=local</div><div class=\"dictlist\">owner=amite</div><div class=\"dictlist\">host=jupyter-amit-79c6447fd8-js5pp</div><div class=\"dictlist\">mlflow-user=iguazio</div><div class=\"dictlist\">mlflow-run-name=amazing-trout-739</div><div class=\"dictlist\">mlflow-run-id=3103b7e6e7e14e55bf744c3f7c0a141f</div><div class=\"dictlist\">mlflow-experiment-id=831321073365535213</div></td>\n",
       "      <td></td>\n",
       "      <td><div class=\"dictlist\">param_key=param_val</div><div class=\"dictlist\">param_key1=param_val1</div><div class=\"dictlist\">param_key2=param_val2</div></td>\n",
       "      <td><div class=\"dictlist\">metric_key=12345.0</div><div class=\"dictlist\">metric_key1=1.0</div><div class=\"dictlist\">metric_key2=2.0</div></td>\n",
       "      <td><div title=\"/tmp/tmp57_znpmd/artifact/log-stuff-func-log-stuff/0/PIL_image_png.png\">PIL_image_png</div><div title=\"/tmp/tmp57_znpmd/artifact/log-stuff-func-log-stuff/0/data_json.json\">data_json</div><div title=\"/tmp/tmp57_znpmd/artifact/log-stuff-func-log-stuff/0/data_yaml.yaml\">data_yaml</div><div title=\"/tmp/tmp57_znpmd/artifact/log-stuff-func-log-stuff/0/df_table_json.json\">df_table_json</div><div title=\"/tmp/tmp57_znpmd/artifact/log-stuff-func-log-stuff/0/dict_table_json.json\">dict_table_json</div><div title=\"/tmp/tmp57_znpmd/artifact/log-stuff-func-log-stuff/0/features_txt.txt\">features_txt</div><div title=\"/tmp/tmp57_znpmd/artifact/log-stuff-func-log-stuff/0/file1_txt.txt\">file1_txt</div><div title=\"/tmp/tmp57_znpmd/artifact/log-stuff-func-log-stuff/0/matplotlib_figure_png.png\">matplotlib_figure_png</div><div title=\"/tmp/tmp57_znpmd/artifact/log-stuff-func-log-stuff/0/np_image_png.png\">np_image_png</div><div title=\"/tmp/tmp57_znpmd/artifact/log-stuff-func-log-stuff/0/plotly_figure_html.html\">plotly_figure_html</div><div title=\"/tmp/tmp57_znpmd/artifact/log-stuff-func-log-stuff/0/states.zip\">states</div></td>\n",
       "    </tr>\n",
       "  </tbody>\n",
       "</table>\n",
       "</div></div>\n",
       "  <div id=\"resultbefb6402-pane\" class=\"right-pane block hidden\">\n",
       "    <div class=\"pane-header\">\n",
       "      <span id=\"resultbefb6402-title\" class=\"pane-header-title\">Title</span>\n",
       "      <span onclick=\"closePanel(this)\" paneName=\"resultbefb6402\" class=\"close clickable\">&times;</span>\n",
       "    </div>\n",
       "    <iframe class=\"fileview\" id=\"resultbefb6402-body\"></iframe>\n",
       "  </div>\n",
       "</div>\n"
      ],
      "text/plain": [
       "<IPython.core.display.HTML object>"
      ]
     },
     "metadata": {},
     "output_type": "display_data"
    },
    {
     "name": "stdout",
     "output_type": "stream",
     "text": [
      "\n"
     ]
    },
    {
     "data": {
      "text/html": [
       "<b> > to track results use the .show() or .logs() methods  or <a href=\"https://dashboard.default-tenant.app.dev13.lab.iguazeng.com/mlprojects/test-mlflow-tracking4/jobs/monitor/024e3a6d4d7144c1aec47e80f59e91f7/overview\" target=\"_blank\">click here</a> to open in UI</b>"
      ],
      "text/plain": [
       "<IPython.core.display.HTML object>"
      ]
     },
     "metadata": {},
     "output_type": "display_data"
    },
    {
     "name": "stdout",
     "output_type": "stream",
     "text": [
      "> 2023-12-07 14:36:48,589 [info] Run execution finished: {'status': 'completed', 'name': 'log-stuff-func-log-stuff'}\n"
     ]
    },
    {
     "data": {
      "image/png": "[encoded data removed]",
      "text/plain": [
       "<Figure size 432x288 with 1 Axes>"
      ]
     },
     "metadata": {
      "needs_background": "light"
     },
     "output_type": "display_data"
    }
   ],
   "source": [
    "# Run the function\n",
    "log_run = loging_func.run(\n",
    "    local=True, handler=handler_name,\n",
    ")"
   ]
  },
  {
   "cell_type": "markdown",
   "id": "6f1c7f40-107a-4adb-9543-7e917dc75d00",
   "metadata": {},
   "source": [
    "## Checking the logged artifacts/results"
   ]
  },
  {
   "cell_type": "code",
   "execution_count": 30,
   "id": "cf89ca5b-af5b-4038-b843-90a1f33628da",
   "metadata": {},
   "outputs": [],
   "source": [
    "# Extract the artifacts and the runs from the project\n",
    "\n",
    "artifacts = project.list_artifacts()\n",
    "artifact_keys = [art['metadata']['key'] for art in artifacts]\n",
    "\n",
    "runs = project.list_runs()\n",
    "results = runs[0]['status']['results']"
   ]
  },
  {
   "cell_type": "code",
   "execution_count": 31,
   "id": "63a6664a-ad15-400d-a9b0-fd7b82dc873a",
   "metadata": {},
   "outputs": [],
   "source": [
    "handler_name = handler_name.replace(\"_\", \"-\")\n",
    "artifact_prefix = function_name + \"-\" + handler_name + \"_\"\n",
    "\n",
    "assert artifacts\n",
    "assert len(artifacts)==11\n",
    "\n",
    "for key in artifact_keys:\n",
    "    # Check artifacts from the project exist in the run outputs\n",
    "    assert key in log_run.outputs.keys()\n",
    "    \n",
    "    # Now checks the values are the same (store uri)\n",
    "    artifact_uri = project.get_artifact(key=artifact_prefix+key).uri\n",
    "    artifact_uri = remove_iter_from_uri(artifact_uri)\n",
    "    assert artifact_uri==log_run.outputs[key]\n",
    "    \n",
    "# Check the logged results (metrics)\n",
    "for result in results.keys():\n",
    "    assert result in log_run.outputs.keys()\n",
    "    assert results[result]==log_run.outputs[result]\n"
   ]
  },
  {
   "cell_type": "markdown",
   "id": "c9d9d0e4-a2f8-47ef-b7b1-4a5607e68952",
   "metadata": {},
   "source": [
    "## Deleting projects and relevant resources"
   ]
  },
  {
   "cell_type": "code",
   "execution_count": 32,
   "id": "687102c7-02cb-48a9-8ac6-5e2d8a59e8dd",
   "metadata": {},
   "outputs": [
    {
     "name": "stdout",
     "output_type": "stream",
     "text": [
      "> 2023-12-07 14:36:49,264 [info] Project is being deleted: {'project_name': 'test-mlflow-tracking1'}\n",
      "> 2023-12-07 14:36:52,323 [info] Project deleted: {'project_name': 'test-mlflow-tracking1'}\n",
      "> 2023-12-07 14:36:52,469 [info] Project is being deleted: {'project_name': 'test-mlflow-tracking2'}\n",
      "> 2023-12-07 14:36:55,526 [info] Project deleted: {'project_name': 'test-mlflow-tracking2'}\n",
      "> 2023-12-07 14:36:55,659 [info] Project is being deleted: {'project_name': 'test-mlflow-tracking3'}\n",
      "> 2023-12-07 14:36:58,720 [info] Project deleted: {'project_name': 'test-mlflow-tracking3'}\n",
      "> 2023-12-07 14:36:58,851 [info] Project is being deleted: {'project_name': 'test-mlflow-tracking4'}\n",
      "> 2023-12-07 14:37:01,906 [info] Project deleted: {'project_name': 'test-mlflow-tracking4'}\n"
     ]
    }
   ],
   "source": [
    "run_db = mlrun.get_run_db()\n",
    "run_db.delete_project(project_name1, mlrun.common.schemas.constants.DeletionStrategy.cascade)\n",
    "run_db.delete_project(project_name2, mlrun.common.schemas.constants.DeletionStrategy.cascade)\n",
    "run_db.delete_project(project_name3, mlrun.common.schemas.constants.DeletionStrategy.cascade)\n",
    "run_db.delete_project(project_name4, mlrun.common.schemas.constants.DeletionStrategy.cascade)"
   ]
  },
  {
   "cell_type": "code",
   "execution_count": 33,
   "id": "01dd577f-f356-47fb-a86f-0bc0cb5cfe44",
   "metadata": {},
   "outputs": [
    {
     "name": "stdout",
     "output_type": "stream",
     "text": [
      "Folder 'data' deleted successfully.\n",
      "Folder 'mlruns' deleted successfully.\n"
     ]
    }
   ],
   "source": [
    "import os\n",
    "import shutil\n",
    "\n",
    "files_to_delete = [\"training.py\", \"serving.py\", \"offline_training.py\", \"log_stuff.py\", \"features.txt\", \"project.yaml\"]\n",
    "for file in files_to_delete:\n",
    "    os.remove(file)\n",
    "\n",
    "\n",
    "folder = \"test-mlflow-tracking\"\n",
    "try:\n",
    "    shutil.rmtree(folder)\n",
    "    print(f\"Folder '{folder}' deleted successfully.\")\n",
    "except Exception as e:\n",
    "        print(f\"Error deleting folder: {e}\")\n"
   ]
  },
  {
   "cell_type": "code",
   "execution_count": null,
   "id": "e79e8d23-608f-43b4-9d93-2b01ce7ce9f2",
   "metadata": {},
   "outputs": [],
   "source": []
  }
 ],
 "metadata": {
  "kernelspec": {
   "display_name": "mlrun-base",
   "language": "python",
   "name": "conda-env-mlrun-base-py"
  },
  "language_info": {
   "codemirror_mode": {
    "name": "ipython",
    "version": 3
   },
   "file_extension": ".py",
   "mimetype": "text/x-python",
   "name": "python",
   "nbconvert_exporter": "python",
   "pygments_lexer": "ipython3",
   "version": "3.9.16"
  }
 },
 "nbformat": 4,
 "nbformat_minor": 5
}
